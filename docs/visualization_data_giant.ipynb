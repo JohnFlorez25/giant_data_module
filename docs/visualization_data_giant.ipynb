{
  "cells": [
    {
      "cell_type": "markdown",
      "source": [
        "***\n",
        "\n",
        "<div align=\"center\">\n",
        "  <h3> Desarrollo de un gestor de inteligencia colectiva y un marco de trabajo para el aprendizaje a través de la resolución colaborativa de      problemas en entornos educativos transmediales </h3>\n",
        "  <h4> Reporte técnico de Análisis de Datos. </h4>\n",
        "  <h5> Visualización de los Datos obtenidos en la primera iteración del Gestor de Inteligencia Colectiva GIANT </h5>\n",
        "  <h3> RT - 010 </h3>\n",
        "  <h3> JOHN FABER FLÓREZ VASCO - MÓDULO DE DATOS - GIANT </h3>\n",
        "</div>\n",
        "\n",
        "***"
      ],
      "metadata": {
        "nteract": {
          "transient": {
            "deleting": false
          }
        }
      }
    },
    {
      "cell_type": "markdown",
      "source": [
        "<p style='text-align: justify;'> \n",
        "\n",
        "<div align=\"center\">\n",
        "  <h2> 1. IMPORTANDO PAQUETES Y CONFIGURACIÓN DEL ENTORNO  </h2>\n",
        "</div>\n",
        "\n",
        "</p>"
      ],
      "metadata": {
        "nteract": {
          "transient": {
            "deleting": false
          }
        }
      }
    },
    {
      "cell_type": "code",
      "source": [
        "import Pkg; \n",
        "Pkg.add(\"Pkg\")\n",
        "using Pkg;"
      ],
      "outputs": [
        {
          "output_type": "stream",
          "name": "stderr",
          "text": [
            "\u001b[32m\u001b[1m   Updating\u001b[22m\u001b[39m registry at `~/.julia/registries/General`\n",
            "\u001b[32m\u001b[1m   Updating\u001b[22m\u001b[39m registry at `~/.julia/registries/JuliaComputingRegistry`\n",
            "\u001b[32m\u001b[1m  Resolving\u001b[22m\u001b[39m package versions...\n",
            "\u001b[32m\u001b[1m   Updating\u001b[22m\u001b[39m `~/.julia/environments/v1.4/Project.toml`\n",
            "\u001b[90m [no changes]\u001b[39m\n",
            "\u001b[32m\u001b[1m   Updating\u001b[22m\u001b[39m `~/.julia/environments/v1.4/Manifest.toml`\n",
            "\u001b[90m [no changes]\u001b[39m\n"
          ]
        }
      ],
      "execution_count": 2,
      "metadata": {
        "collapsed": true,
        "jupyter": {
          "source_hidden": false,
          "outputs_hidden": false
        },
        "nteract": {
          "transient": {
            "deleting": false
          }
        },
        "execution": {
          "iopub.status.busy": "2020-11-27T04:51:56.145Z",
          "iopub.execute_input": "2020-11-27T04:51:56.173Z",
          "iopub.status.idle": "2020-11-27T04:52:15.000Z"
        }
      }
    },
    {
      "cell_type": "code",
      "source": [
        "# Cargando los paquetes instalados\n",
        "using DataFrames\n",
        "using CSV\n",
        "using Plots\n",
        "using Statistics\n",
        "using StatsPlots\n",
        "using StatsBase\n",
        "using Lathe\n",
        "using Clustering #Métodos para la agrupación de datos y evaluación de la calidad de la agrupación.\n",
        "using Distances\n",
        "using Dates\n",
        "gr()"
      ],
      "outputs": [
        {
          "output_type": "execute_result",
          "execution_count": 3,
          "data": {
            "text/plain": "Plots.GRBackend()"
          },
          "metadata": {}
        }
      ],
      "execution_count": 3,
      "metadata": {
        "collapsed": true,
        "jupyter": {
          "source_hidden": false,
          "outputs_hidden": false
        },
        "nteract": {
          "transient": {
            "deleting": false
          }
        },
        "execution": {
          "iopub.status.busy": "2020-11-27T04:53:08.125Z",
          "iopub.execute_input": "2020-11-27T04:53:08.170Z",
          "iopub.status.idle": "2020-11-27T04:53:58.691Z"
        }
      }
    },
    {
      "cell_type": "markdown",
      "source": [
        "<div align=\"center\">\n",
        "  <h2> 2. CARGANDO LOS DATOS  </h2>\n",
        "</div>"
      ],
      "metadata": {
        "nteract": {
          "transient": {
            "deleting": false
          }
        }
      }
    },
    {
      "cell_type": "code",
      "source": [
        "# Se van a leer los datos usando un Archivo tipo CSV y lo vamos a convertir en un DataFrame \n",
        "eventsDataFrame = DataFrame(CSV.File(\"../data/events_30_10_2020.csv\"))\n",
        "first(eventsDataFrame,5)\n"
      ],
      "outputs": [
        {
          "output_type": "execute_result",
          "execution_count": 121,
          "data": {
            "text/plain": "5×14 DataFrame. Omitted printing of 12 columns\n│ Row │ _id                      │ id    │\n│     │ \u001b[90mString\u001b[39m                   │ \u001b[90mInt64\u001b[39m │\n├─────┼──────────────────────────┼───────┤\n│ 1   │ 5fa09d8267fbc452c4f02343 │ 1     │\n│ 2   │ 5fa09d8267fbc452c4f02344 │ 2     │\n│ 3   │ 5fa09d8267fbc452c4f02345 │ 3     │\n│ 4   │ 5fa09d8267fbc452c4f02346 │ 4     │\n│ 5   │ 5fa09d8267fbc452c4f02347 │ 5     │",
            "text/html": "<table class=\"data-frame\"><thead><tr><th></th><th>_id</th><th>id</th><th>eventname</th></tr><tr><th></th><th>String</th><th>Int64</th><th>String</th></tr></thead><tbody><p>5 rows × 14 columns (omitted printing of 11 columns)</p><tr><th>1</th><td>5fa09d8267fbc452c4f02343</td><td>1</td><td>\\\\giant\\\\event\\\\extended_challenge_team_viewed</td></tr><tr><th>2</th><td>5fa09d8267fbc452c4f02344</td><td>2</td><td>\\\\core\\\\event\\\\user_login_failed</td></tr><tr><th>3</th><td>5fa09d8267fbc452c4f02345</td><td>3</td><td>\\\\core\\\\event\\\\user_loggedin</td></tr><tr><th>4</th><td>5fa09d8267fbc452c4f02346</td><td>4</td><td>\\\\core\\\\event\\\\dashboard_viewed</td></tr><tr><th>5</th><td>5fa09d8267fbc452c4f02347</td><td>5</td><td>\\\\core\\\\event\\\\course_viewed</td></tr></tbody></table>",
            "text/latex": "\\begin{tabular}{r|cccc}\n\t& \\_id & id & eventname & \\\\\n\t\\hline\n\t& String & Int64 & String & \\\\\n\t\\hline\n\t1 & 5fa09d8267fbc452c4f02343 & 1 & \\textbackslash{}\\textbackslash{}giant\\textbackslash{}\\textbackslash{}event\\textbackslash{}\\textbackslash{}extended\\_challenge\\_team\\_viewed & $\\dots$ \\\\\n\t2 & 5fa09d8267fbc452c4f02344 & 2 & \\textbackslash{}\\textbackslash{}core\\textbackslash{}\\textbackslash{}event\\textbackslash{}\\textbackslash{}user\\_login\\_failed & $\\dots$ \\\\\n\t3 & 5fa09d8267fbc452c4f02345 & 3 & \\textbackslash{}\\textbackslash{}core\\textbackslash{}\\textbackslash{}event\\textbackslash{}\\textbackslash{}user\\_loggedin & $\\dots$ \\\\\n\t4 & 5fa09d8267fbc452c4f02346 & 4 & \\textbackslash{}\\textbackslash{}core\\textbackslash{}\\textbackslash{}event\\textbackslash{}\\textbackslash{}dashboard\\_viewed & $\\dots$ \\\\\n\t5 & 5fa09d8267fbc452c4f02347 & 5 & \\textbackslash{}\\textbackslash{}core\\textbackslash{}\\textbackslash{}event\\textbackslash{}\\textbackslash{}course\\_viewed & $\\dots$ \\\\\n\\end{tabular}\n"
          },
          "metadata": {}
        }
      ],
      "execution_count": 121,
      "metadata": {
        "collapsed": true,
        "jupyter": {
          "source_hidden": false,
          "outputs_hidden": false
        },
        "nteract": {
          "transient": {
            "deleting": false
          }
        },
        "execution": {
          "iopub.status.busy": "2020-11-27T05:46:55.755Z",
          "iopub.execute_input": "2020-11-27T05:46:55.786Z",
          "iopub.status.idle": "2020-11-27T05:46:55.943Z"
        }
      }
    },
    {
      "cell_type": "code",
      "source": [
        "#Resumen del marco de los datos\n",
        "println(size(eventsDataFrame))"
      ],
      "outputs": [
        {
          "output_type": "stream",
          "name": "stdout",
          "text": [
            "(40674, 14)\n"
          ]
        }
      ],
      "execution_count": 122,
      "metadata": {
        "collapsed": true,
        "jupyter": {
          "source_hidden": false,
          "outputs_hidden": false
        },
        "nteract": {
          "transient": {
            "deleting": false
          }
        },
        "execution": {
          "iopub.status.busy": "2020-11-27T05:46:58.892Z",
          "iopub.execute_input": "2020-11-27T05:46:58.913Z",
          "iopub.status.idle": "2020-11-27T05:46:58.964Z"
        }
      }
    },
    {
      "cell_type": "code",
      "source": [
        "#Observado los nombres de las columnas \n",
        "names(eventsDataFrame)"
      ],
      "outputs": [
        {
          "output_type": "execute_result",
          "execution_count": 123,
          "data": {
            "text/plain": "14-element Array{String,1}:\n \"_id\"\n \"id\"\n \"eventname\"\n \"component\"\n \"action\"\n \"target\"\n \"objecttable\"\n \"objectid\"\n \"crud\"\n \"userid\"\n \"username\"\n \"courseid\"\n \"other\"\n \"timecreated\""
          },
          "metadata": {}
        }
      ],
      "execution_count": 123,
      "metadata": {
        "collapsed": true,
        "jupyter": {
          "source_hidden": false,
          "outputs_hidden": false
        },
        "nteract": {
          "transient": {
            "deleting": false
          }
        },
        "execution": {
          "iopub.status.busy": "2020-11-27T05:47:01.004Z",
          "iopub.execute_input": "2020-11-27T05:47:01.026Z",
          "iopub.status.idle": "2020-11-27T05:47:01.075Z"
        }
      }
    },
    {
      "cell_type": "markdown",
      "source": [
        "<div align=\"center\">\n",
        "  <h2> 3. INGENIERÍA DE CARACTÉRISTICAS  </h2>\n",
        "</div>"
      ],
      "metadata": {
        "nteract": {
          "transient": {
            "deleting": false
          }
        }
      }
    },
    {
      "cell_type": "code",
      "source": [
        "#Convirtiendo variables en tipo String\n",
        "eventsDataFrame[!,[:eventname, :component, :action, :target, :crud]]=convert(Array{String}, eventsDataFrame[!,[:eventname, :component, :action, :target, :crud]])"
      ],
      "outputs": [
        {
          "output_type": "execute_result",
          "execution_count": 124,
          "data": {
            "text/plain": "40674×5 Array{String,2}:\n \"\\\\giant\\\\event\\\\extended_challenge_team_viewed\"  …  \"extended_challenge_team\"  \"r\"\n \"\\\\core\\\\event\\\\user_login_failed\"                   \"user_login\"               \"r\"\n \"\\\\core\\\\event\\\\user_loggedin\"                       \"user\"                     \"r\"\n \"\\\\core\\\\event\\\\dashboard_viewed\"                    \"dashboard\"                \"r\"\n \"\\\\core\\\\event\\\\course_viewed\"                       \"course\"                   \"r\"\n \"\\\\core\\\\event\\\\course_viewed\"                    …  \"course\"                   \"r\"\n \"\\\\core\\\\event\\\\dashboard_viewed\"                    \"dashboard\"                \"r\"\n \"\\\\core\\\\event\\\\dashboard_viewed\"                    \"dashboard\"                \"r\"\n \"\\\\core\\\\event\\\\user_loggedin\"                       \"user\"                     \"r\"\n \"\\\\core\\\\event\\\\dashboard_viewed\"                    \"dashboard\"                \"r\"\n \"\\\\core\\\\event\\\\user_loggedin\"                    …  \"user\"                     \"r\"\n \"\\\\core\\\\event\\\\dashboard_viewed\"                    \"dashboard\"                \"r\"\n \"\\\\core\\\\event\\\\user_profile_viewed\"                 \"user_profile\"             \"r\"\n ⋮                                                 ⋱                             \n \"\\\\core\\\\event\\\\course_viewed\"                       \"course\"                   \"r\"\n \"\\\\core\\\\event\\\\course_viewed\"                       \"course\"                   \"r\"\n \"\\\\core\\\\event\\\\dashboard_viewed\"                    \"dashboard\"                \"r\"\n \"\\\\core\\\\event\\\\course_viewed\"                    …  \"course\"                   \"r\"\n \"\\\\core\\\\event\\\\user_loggedin\"                       \"user\"                     \"r\"\n \"\\\\core\\\\event\\\\dashboard_viewed\"                    \"dashboard\"                \"r\"\n \"\\\\core\\\\event\\\\course_viewed\"                       \"course\"                   \"r\"\n \"\\\\core\\\\event\\\\course_viewed\"                       \"course\"                   \"r\"\n \"\\\\core\\\\event\\\\course_viewed\"                    …  \"course\"                   \"r\"\n \"\\\\mod_scorm\\\\event\\\\course_module_viewed\"           \"course_module\"            \"r\"\n \"\\\\mod_scorm\\\\event\\\\course_module_viewed\"           \"course_module\"            \"r\"\n \"\\\\mod_scorm\\\\event\\\\sco_launched\"                   \"sco\"                      \"r\""
          },
          "metadata": {}
        }
      ],
      "execution_count": 124,
      "metadata": {
        "collapsed": true,
        "jupyter": {
          "source_hidden": false,
          "outputs_hidden": false
        },
        "nteract": {
          "transient": {
            "deleting": false
          }
        },
        "execution": {
          "iopub.status.busy": "2020-11-27T05:47:03.579Z",
          "iopub.execute_input": "2020-11-27T05:47:03.609Z",
          "iopub.status.idle": "2020-11-27T05:47:03.665Z"
        }
      }
    },
    {
      "cell_type": "code",
      "source": [
        "#Convirtiendo Timestap de la variable timecreated a formato de fecha\n",
        "eventsDataFrame[!,:timecreated] = map((x) -> unix2datetime(x), eventsDataFrame[!,:timecreated]);"
      ],
      "outputs": [],
      "execution_count": 125,
      "metadata": {
        "collapsed": true,
        "jupyter": {
          "source_hidden": false,
          "outputs_hidden": false
        },
        "nteract": {
          "transient": {
            "deleting": false
          }
        },
        "execution": {
          "iopub.status.busy": "2020-11-27T05:47:05.904Z",
          "iopub.execute_input": "2020-11-27T05:47:05.926Z",
          "iopub.status.idle": "2020-11-27T05:47:05.993Z"
        }
      }
    },
    {
      "cell_type": "code",
      "source": [
        "eventsDataFrame[!,[:timecreated]]"
      ],
      "outputs": [
        {
          "output_type": "execute_result",
          "execution_count": 126,
          "data": {
            "text/plain": "40674×1 DataFrame\n│ Row   │ timecreated         │\n│       │ \u001b[90mDateTime\u001b[39m            │\n├───────┼─────────────────────┤\n│ 1     │ 2020-08-12T19:16:16 │\n│ 2     │ 2020-08-12T20:19:45 │\n│ 3     │ 2020-08-12T20:20:23 │\n│ 4     │ 2020-08-12T20:20:23 │\n│ 5     │ 2020-08-12T20:20:27 │\n│ 6     │ 2020-08-12T20:20:30 │\n│ 7     │ 2020-08-12T20:22:53 │\n│ 8     │ 2020-08-12T20:24:24 │\n│ 9     │ 2020-08-12T20:39:07 │\n│ 10    │ 2020-08-12T20:39:07 │\n⋮\n│ 40664 │ 2020-11-02T01:53:46 │\n│ 40665 │ 2020-11-02T01:53:54 │\n│ 40666 │ 2020-11-02T01:54:09 │\n│ 40667 │ 2020-11-02T16:06:27 │\n│ 40668 │ 2020-11-02T16:06:31 │\n│ 40669 │ 2020-11-02T16:25:41 │\n│ 40670 │ 2020-11-02T16:25:49 │\n│ 40671 │ 2020-11-02T16:25:52 │\n│ 40672 │ 2020-11-02T16:25:55 │\n│ 40673 │ 2020-11-02T16:25:55 │\n│ 40674 │ 2020-11-02T16:26:07 │",
            "text/html": "<table class=\"data-frame\"><thead><tr><th></th><th>timecreated</th></tr><tr><th></th><th>DateTime</th></tr></thead><tbody><p>40,674 rows × 1 columns</p><tr><th>1</th><td>2020-08-12T19:16:16</td></tr><tr><th>2</th><td>2020-08-12T20:19:45</td></tr><tr><th>3</th><td>2020-08-12T20:20:23</td></tr><tr><th>4</th><td>2020-08-12T20:20:23</td></tr><tr><th>5</th><td>2020-08-12T20:20:27</td></tr><tr><th>6</th><td>2020-08-12T20:20:30</td></tr><tr><th>7</th><td>2020-08-12T20:22:53</td></tr><tr><th>8</th><td>2020-08-12T20:24:24</td></tr><tr><th>9</th><td>2020-08-12T20:39:07</td></tr><tr><th>10</th><td>2020-08-12T20:39:07</td></tr><tr><th>11</th><td>2020-08-12T20:39:19</td></tr><tr><th>12</th><td>2020-08-12T20:39:20</td></tr><tr><th>13</th><td>2020-08-12T20:39:21</td></tr><tr><th>14</th><td>2020-08-12T20:39:41</td></tr><tr><th>15</th><td>2020-08-12T20:39:52</td></tr><tr><th>16</th><td>2020-08-12T20:39:57</td></tr><tr><th>17</th><td>2020-08-12T20:39:57</td></tr><tr><th>18</th><td>2020-08-12T20:39:59</td></tr><tr><th>19</th><td>2020-08-12T20:40:12</td></tr><tr><th>20</th><td>2020-08-12T20:40:12</td></tr><tr><th>21</th><td>2020-08-12T20:40:21</td></tr><tr><th>22</th><td>2020-08-12T20:40:26</td></tr><tr><th>23</th><td>2020-08-12T20:40:31</td></tr><tr><th>24</th><td>2020-08-12T20:40:32</td></tr><tr><th>25</th><td>2020-08-12T20:40:38</td></tr><tr><th>26</th><td>2020-08-12T20:40:44</td></tr><tr><th>27</th><td>2020-08-12T20:40:47</td></tr><tr><th>28</th><td>2020-08-12T20:40:47</td></tr><tr><th>29</th><td>2020-08-12T20:40:48</td></tr><tr><th>30</th><td>2020-08-12T20:42:48</td></tr><tr><th>&vellip;</th><td>&vellip;</td></tr></tbody></table>",
            "text/latex": "\\begin{tabular}{r|c}\n\t& timecreated\\\\\n\t\\hline\n\t& DateTime\\\\\n\t\\hline\n\t1 & 2020-08-12T19:16:16 \\\\\n\t2 & 2020-08-12T20:19:45 \\\\\n\t3 & 2020-08-12T20:20:23 \\\\\n\t4 & 2020-08-12T20:20:23 \\\\\n\t5 & 2020-08-12T20:20:27 \\\\\n\t6 & 2020-08-12T20:20:30 \\\\\n\t7 & 2020-08-12T20:22:53 \\\\\n\t8 & 2020-08-12T20:24:24 \\\\\n\t9 & 2020-08-12T20:39:07 \\\\\n\t10 & 2020-08-12T20:39:07 \\\\\n\t11 & 2020-08-12T20:39:19 \\\\\n\t12 & 2020-08-12T20:39:20 \\\\\n\t13 & 2020-08-12T20:39:21 \\\\\n\t14 & 2020-08-12T20:39:41 \\\\\n\t15 & 2020-08-12T20:39:52 \\\\\n\t16 & 2020-08-12T20:39:57 \\\\\n\t17 & 2020-08-12T20:39:57 \\\\\n\t18 & 2020-08-12T20:39:59 \\\\\n\t19 & 2020-08-12T20:40:12 \\\\\n\t20 & 2020-08-12T20:40:12 \\\\\n\t21 & 2020-08-12T20:40:21 \\\\\n\t22 & 2020-08-12T20:40:26 \\\\\n\t23 & 2020-08-12T20:40:31 \\\\\n\t24 & 2020-08-12T20:40:32 \\\\\n\t25 & 2020-08-12T20:40:38 \\\\\n\t26 & 2020-08-12T20:40:44 \\\\\n\t27 & 2020-08-12T20:40:47 \\\\\n\t28 & 2020-08-12T20:40:47 \\\\\n\t29 & 2020-08-12T20:40:48 \\\\\n\t30 & 2020-08-12T20:42:48 \\\\\n\t$\\dots$ & $\\dots$ \\\\\n\\end{tabular}\n"
          },
          "metadata": {}
        }
      ],
      "execution_count": 126,
      "metadata": {
        "collapsed": true,
        "jupyter": {
          "source_hidden": false,
          "outputs_hidden": false
        },
        "nteract": {
          "transient": {
            "deleting": false
          }
        },
        "execution": {
          "iopub.status.busy": "2020-11-27T05:47:07.634Z",
          "iopub.execute_input": "2020-11-27T05:47:07.654Z",
          "iopub.status.idle": "2020-11-27T05:47:07.700Z"
        }
      }
    },
    {
      "cell_type": "code",
      "source": [
        "#Convirtiendo DataTime to String \n",
        "eventsDataFrame[!,:timecreated] = map((x) -> Dates.format(x, \"yyyy-mm-dd HH:MM:SS\") , eventsDataFrame[!,:timecreated])"
      ],
      "outputs": [
        {
          "output_type": "execute_result",
          "execution_count": 127,
          "data": {
            "text/plain": "40674-element Array{String,1}:\n \"2020-08-12 19:16:16\"\n \"2020-08-12 20:19:45\"\n \"2020-08-12 20:20:23\"\n \"2020-08-12 20:20:23\"\n \"2020-08-12 20:20:27\"\n \"2020-08-12 20:20:30\"\n \"2020-08-12 20:22:53\"\n \"2020-08-12 20:24:24\"\n \"2020-08-12 20:39:07\"\n \"2020-08-12 20:39:07\"\n \"2020-08-12 20:39:19\"\n \"2020-08-12 20:39:20\"\n \"2020-08-12 20:39:21\"\n ⋮\n \"2020-11-02 01:53:29\"\n \"2020-11-02 01:53:46\"\n \"2020-11-02 01:53:54\"\n \"2020-11-02 01:54:09\"\n \"2020-11-02 16:06:27\"\n \"2020-11-02 16:06:31\"\n \"2020-11-02 16:25:41\"\n \"2020-11-02 16:25:49\"\n \"2020-11-02 16:25:52\"\n \"2020-11-02 16:25:55\"\n \"2020-11-02 16:25:55\"\n \"2020-11-02 16:26:07\""
          },
          "metadata": {}
        }
      ],
      "execution_count": 127,
      "metadata": {
        "collapsed": true,
        "jupyter": {
          "source_hidden": false,
          "outputs_hidden": false
        },
        "nteract": {
          "transient": {
            "deleting": false
          }
        },
        "execution": {
          "iopub.status.busy": "2020-11-27T05:47:09.737Z",
          "iopub.execute_input": "2020-11-27T05:47:09.764Z",
          "iopub.status.idle": "2020-11-27T05:47:11.609Z"
        }
      }
    },
    {
      "cell_type": "code",
      "source": [
        "# Agregando las columnas de fecha y hora\n",
        "eventsDataFrame=hcat(eventsDataFrame, DataFrame(reduce(vcat, permutedims.(split.(eventsDataFrame[!,:timecreated], ' '))), [:date, :time,]))"
      ],
      "outputs": [
        {
          "output_type": "execute_result",
          "execution_count": 128,
          "data": {
            "text/plain": "40674×16 DataFrame. Omitted printing of 14 columns\n│ Row   │ _id                      │ id    │\n│       │ \u001b[90mString\u001b[39m                   │ \u001b[90mInt64\u001b[39m │\n├───────┼──────────────────────────┼───────┤\n│ 1     │ 5fa09d8267fbc452c4f02343 │ 1     │\n│ 2     │ 5fa09d8267fbc452c4f02344 │ 2     │\n│ 3     │ 5fa09d8267fbc452c4f02345 │ 3     │\n│ 4     │ 5fa09d8267fbc452c4f02346 │ 4     │\n│ 5     │ 5fa09d8267fbc452c4f02347 │ 5     │\n│ 6     │ 5fa09d8267fbc452c4f02348 │ 6     │\n│ 7     │ 5fa09d8267fbc452c4f02349 │ 7     │\n│ 8     │ 5fa09d8267fbc452c4f0234a │ 8     │\n│ 9     │ 5fa09d8267fbc452c4f0234b │ 9     │\n│ 10    │ 5fa09d8267fbc452c4f0234c │ 10    │\n⋮\n│ 40664 │ 5fa09d8c67fbc452c4f0c21a │ 40664 │\n│ 40665 │ 5fa09d8c67fbc452c4f0c21b │ 40665 │\n│ 40666 │ 5fa09d8c67fbc452c4f0c21c │ 40666 │\n│ 40667 │ 5fa09d8c67fbc452c4f0c21d │ 40667 │\n│ 40668 │ 5fa09d8c67fbc452c4f0c21e │ 40668 │\n│ 40669 │ 5fa09d8c67fbc452c4f0c21f │ 40669 │\n│ 40670 │ 5fa09d8c67fbc452c4f0c220 │ 40670 │\n│ 40671 │ 5fa09d8c67fbc452c4f0c221 │ 40671 │\n│ 40672 │ 5fa09d8c67fbc452c4f0c222 │ 40672 │\n│ 40673 │ 5fa09d8c67fbc452c4f0c223 │ 40673 │\n│ 40674 │ 5fa09d8c67fbc452c4f0c224 │ 40674 │",
            "text/html": "<table class=\"data-frame\"><thead><tr><th></th><th>_id</th><th>id</th><th>eventname</th></tr><tr><th></th><th>String</th><th>Int64</th><th>String</th></tr></thead><tbody><p>40,674 rows × 16 columns (omitted printing of 13 columns)</p><tr><th>1</th><td>5fa09d8267fbc452c4f02343</td><td>1</td><td>\\\\giant\\\\event\\\\extended_challenge_team_viewed</td></tr><tr><th>2</th><td>5fa09d8267fbc452c4f02344</td><td>2</td><td>\\\\core\\\\event\\\\user_login_failed</td></tr><tr><th>3</th><td>5fa09d8267fbc452c4f02345</td><td>3</td><td>\\\\core\\\\event\\\\user_loggedin</td></tr><tr><th>4</th><td>5fa09d8267fbc452c4f02346</td><td>4</td><td>\\\\core\\\\event\\\\dashboard_viewed</td></tr><tr><th>5</th><td>5fa09d8267fbc452c4f02347</td><td>5</td><td>\\\\core\\\\event\\\\course_viewed</td></tr><tr><th>6</th><td>5fa09d8267fbc452c4f02348</td><td>6</td><td>\\\\core\\\\event\\\\course_viewed</td></tr><tr><th>7</th><td>5fa09d8267fbc452c4f02349</td><td>7</td><td>\\\\core\\\\event\\\\dashboard_viewed</td></tr><tr><th>8</th><td>5fa09d8267fbc452c4f0234a</td><td>8</td><td>\\\\core\\\\event\\\\dashboard_viewed</td></tr><tr><th>9</th><td>5fa09d8267fbc452c4f0234b</td><td>9</td><td>\\\\core\\\\event\\\\user_loggedin</td></tr><tr><th>10</th><td>5fa09d8267fbc452c4f0234c</td><td>10</td><td>\\\\core\\\\event\\\\dashboard_viewed</td></tr><tr><th>11</th><td>5fa09d8267fbc452c4f0234d</td><td>11</td><td>\\\\core\\\\event\\\\user_loggedin</td></tr><tr><th>12</th><td>5fa09d8267fbc452c4f0234e</td><td>12</td><td>\\\\core\\\\event\\\\dashboard_viewed</td></tr><tr><th>13</th><td>5fa09d8267fbc452c4f0234f</td><td>13</td><td>\\\\core\\\\event\\\\user_profile_viewed</td></tr><tr><th>14</th><td>5fa09d8267fbc452c4f02350</td><td>14</td><td>\\\\core\\\\event\\\\course_viewed</td></tr><tr><th>15</th><td>5fa09d8267fbc452c4f02351</td><td>15</td><td>\\\\core\\\\event\\\\course_viewed</td></tr><tr><th>16</th><td>5fa09d8267fbc452c4f02352</td><td>16</td><td>\\\\mod_scorm\\\\event\\\\course_module_viewed</td></tr><tr><th>17</th><td>5fa09d8267fbc452c4f02353</td><td>17</td><td>\\\\mod_scorm\\\\event\\\\course_module_viewed</td></tr><tr><th>18</th><td>5fa09d8267fbc452c4f02354</td><td>18</td><td>\\\\mod_scorm\\\\event\\\\sco_launched</td></tr><tr><th>19</th><td>5fa09d8267fbc452c4f02355</td><td>19</td><td>\\\\core\\\\event\\\\user_loggedin</td></tr><tr><th>20</th><td>5fa09d8267fbc452c4f02356</td><td>20</td><td>\\\\core\\\\event\\\\dashboard_viewed</td></tr><tr><th>21</th><td>5fa09d8267fbc452c4f02357</td><td>21</td><td>\\\\core\\\\event\\\\course_viewed</td></tr><tr><th>22</th><td>5fa09d8267fbc452c4f02358</td><td>22</td><td>\\\\core\\\\event\\\\dashboard_viewed</td></tr><tr><th>23</th><td>5fa09d8267fbc452c4f02359</td><td>23</td><td>\\\\core\\\\event\\\\course_viewed</td></tr><tr><th>24</th><td>5fa09d8267fbc452c4f0235a</td><td>24</td><td>\\\\core\\\\event\\\\course_viewed</td></tr><tr><th>25</th><td>5fa09d8267fbc452c4f0235b</td><td>25</td><td>\\\\core\\\\event\\\\course_viewed</td></tr><tr><th>26</th><td>5fa09d8267fbc452c4f0235c</td><td>26</td><td>\\\\core\\\\event\\\\course_viewed</td></tr><tr><th>27</th><td>5fa09d8267fbc452c4f0235d</td><td>27</td><td>\\\\mod_scorm\\\\event\\\\course_module_viewed</td></tr><tr><th>28</th><td>5fa09d8267fbc452c4f0235e</td><td>28</td><td>\\\\mod_scorm\\\\event\\\\course_module_viewed</td></tr><tr><th>29</th><td>5fa09d8267fbc452c4f0235f</td><td>29</td><td>\\\\mod_scorm\\\\event\\\\sco_launched</td></tr><tr><th>30</th><td>5fa09d8267fbc452c4f02360</td><td>30</td><td>\\\\core\\\\event\\\\dashboard_viewed</td></tr><tr><th>&vellip;</th><td>&vellip;</td><td>&vellip;</td><td>&vellip;</td></tr></tbody></table>",
            "text/latex": "\\begin{tabular}{r|cccc}\n\t& \\_id & id & eventname & \\\\\n\t\\hline\n\t& String & Int64 & String & \\\\\n\t\\hline\n\t1 & 5fa09d8267fbc452c4f02343 & 1 & \\textbackslash{}\\textbackslash{}giant\\textbackslash{}\\textbackslash{}event\\textbackslash{}\\textbackslash{}extended\\_challenge\\_team\\_viewed & $\\dots$ \\\\\n\t2 & 5fa09d8267fbc452c4f02344 & 2 & \\textbackslash{}\\textbackslash{}core\\textbackslash{}\\textbackslash{}event\\textbackslash{}\\textbackslash{}user\\_login\\_failed & $\\dots$ \\\\\n\t3 & 5fa09d8267fbc452c4f02345 & 3 & \\textbackslash{}\\textbackslash{}core\\textbackslash{}\\textbackslash{}event\\textbackslash{}\\textbackslash{}user\\_loggedin & $\\dots$ \\\\\n\t4 & 5fa09d8267fbc452c4f02346 & 4 & \\textbackslash{}\\textbackslash{}core\\textbackslash{}\\textbackslash{}event\\textbackslash{}\\textbackslash{}dashboard\\_viewed & $\\dots$ \\\\\n\t5 & 5fa09d8267fbc452c4f02347 & 5 & \\textbackslash{}\\textbackslash{}core\\textbackslash{}\\textbackslash{}event\\textbackslash{}\\textbackslash{}course\\_viewed & $\\dots$ \\\\\n\t6 & 5fa09d8267fbc452c4f02348 & 6 & \\textbackslash{}\\textbackslash{}core\\textbackslash{}\\textbackslash{}event\\textbackslash{}\\textbackslash{}course\\_viewed & $\\dots$ \\\\\n\t7 & 5fa09d8267fbc452c4f02349 & 7 & \\textbackslash{}\\textbackslash{}core\\textbackslash{}\\textbackslash{}event\\textbackslash{}\\textbackslash{}dashboard\\_viewed & $\\dots$ \\\\\n\t8 & 5fa09d8267fbc452c4f0234a & 8 & \\textbackslash{}\\textbackslash{}core\\textbackslash{}\\textbackslash{}event\\textbackslash{}\\textbackslash{}dashboard\\_viewed & $\\dots$ \\\\\n\t9 & 5fa09d8267fbc452c4f0234b & 9 & \\textbackslash{}\\textbackslash{}core\\textbackslash{}\\textbackslash{}event\\textbackslash{}\\textbackslash{}user\\_loggedin & $\\dots$ \\\\\n\t10 & 5fa09d8267fbc452c4f0234c & 10 & \\textbackslash{}\\textbackslash{}core\\textbackslash{}\\textbackslash{}event\\textbackslash{}\\textbackslash{}dashboard\\_viewed & $\\dots$ \\\\\n\t11 & 5fa09d8267fbc452c4f0234d & 11 & \\textbackslash{}\\textbackslash{}core\\textbackslash{}\\textbackslash{}event\\textbackslash{}\\textbackslash{}user\\_loggedin & $\\dots$ \\\\\n\t12 & 5fa09d8267fbc452c4f0234e & 12 & \\textbackslash{}\\textbackslash{}core\\textbackslash{}\\textbackslash{}event\\textbackslash{}\\textbackslash{}dashboard\\_viewed & $\\dots$ \\\\\n\t13 & 5fa09d8267fbc452c4f0234f & 13 & \\textbackslash{}\\textbackslash{}core\\textbackslash{}\\textbackslash{}event\\textbackslash{}\\textbackslash{}user\\_profile\\_viewed & $\\dots$ \\\\\n\t14 & 5fa09d8267fbc452c4f02350 & 14 & \\textbackslash{}\\textbackslash{}core\\textbackslash{}\\textbackslash{}event\\textbackslash{}\\textbackslash{}course\\_viewed & $\\dots$ \\\\\n\t15 & 5fa09d8267fbc452c4f02351 & 15 & \\textbackslash{}\\textbackslash{}core\\textbackslash{}\\textbackslash{}event\\textbackslash{}\\textbackslash{}course\\_viewed & $\\dots$ \\\\\n\t16 & 5fa09d8267fbc452c4f02352 & 16 & \\textbackslash{}\\textbackslash{}mod\\_scorm\\textbackslash{}\\textbackslash{}event\\textbackslash{}\\textbackslash{}course\\_module\\_viewed & $\\dots$ \\\\\n\t17 & 5fa09d8267fbc452c4f02353 & 17 & \\textbackslash{}\\textbackslash{}mod\\_scorm\\textbackslash{}\\textbackslash{}event\\textbackslash{}\\textbackslash{}course\\_module\\_viewed & $\\dots$ \\\\\n\t18 & 5fa09d8267fbc452c4f02354 & 18 & \\textbackslash{}\\textbackslash{}mod\\_scorm\\textbackslash{}\\textbackslash{}event\\textbackslash{}\\textbackslash{}sco\\_launched & $\\dots$ \\\\\n\t19 & 5fa09d8267fbc452c4f02355 & 19 & \\textbackslash{}\\textbackslash{}core\\textbackslash{}\\textbackslash{}event\\textbackslash{}\\textbackslash{}user\\_loggedin & $\\dots$ \\\\\n\t20 & 5fa09d8267fbc452c4f02356 & 20 & \\textbackslash{}\\textbackslash{}core\\textbackslash{}\\textbackslash{}event\\textbackslash{}\\textbackslash{}dashboard\\_viewed & $\\dots$ \\\\\n\t21 & 5fa09d8267fbc452c4f02357 & 21 & \\textbackslash{}\\textbackslash{}core\\textbackslash{}\\textbackslash{}event\\textbackslash{}\\textbackslash{}course\\_viewed & $\\dots$ \\\\\n\t22 & 5fa09d8267fbc452c4f02358 & 22 & \\textbackslash{}\\textbackslash{}core\\textbackslash{}\\textbackslash{}event\\textbackslash{}\\textbackslash{}dashboard\\_viewed & $\\dots$ \\\\\n\t23 & 5fa09d8267fbc452c4f02359 & 23 & \\textbackslash{}\\textbackslash{}core\\textbackslash{}\\textbackslash{}event\\textbackslash{}\\textbackslash{}course\\_viewed & $\\dots$ \\\\\n\t24 & 5fa09d8267fbc452c4f0235a & 24 & \\textbackslash{}\\textbackslash{}core\\textbackslash{}\\textbackslash{}event\\textbackslash{}\\textbackslash{}course\\_viewed & $\\dots$ \\\\\n\t25 & 5fa09d8267fbc452c4f0235b & 25 & \\textbackslash{}\\textbackslash{}core\\textbackslash{}\\textbackslash{}event\\textbackslash{}\\textbackslash{}course\\_viewed & $\\dots$ \\\\\n\t26 & 5fa09d8267fbc452c4f0235c & 26 & \\textbackslash{}\\textbackslash{}core\\textbackslash{}\\textbackslash{}event\\textbackslash{}\\textbackslash{}course\\_viewed & $\\dots$ \\\\\n\t27 & 5fa09d8267fbc452c4f0235d & 27 & \\textbackslash{}\\textbackslash{}mod\\_scorm\\textbackslash{}\\textbackslash{}event\\textbackslash{}\\textbackslash{}course\\_module\\_viewed & $\\dots$ \\\\\n\t28 & 5fa09d8267fbc452c4f0235e & 28 & \\textbackslash{}\\textbackslash{}mod\\_scorm\\textbackslash{}\\textbackslash{}event\\textbackslash{}\\textbackslash{}course\\_module\\_viewed & $\\dots$ \\\\\n\t29 & 5fa09d8267fbc452c4f0235f & 29 & \\textbackslash{}\\textbackslash{}mod\\_scorm\\textbackslash{}\\textbackslash{}event\\textbackslash{}\\textbackslash{}sco\\_launched & $\\dots$ \\\\\n\t30 & 5fa09d8267fbc452c4f02360 & 30 & \\textbackslash{}\\textbackslash{}core\\textbackslash{}\\textbackslash{}event\\textbackslash{}\\textbackslash{}dashboard\\_viewed & $\\dots$ \\\\\n\t$\\dots$ & $\\dots$ & $\\dots$ & $\\dots$ &  \\\\\n\\end{tabular}\n"
          },
          "metadata": {}
        }
      ],
      "execution_count": 128,
      "metadata": {
        "collapsed": true,
        "jupyter": {
          "source_hidden": false,
          "outputs_hidden": false
        },
        "nteract": {
          "transient": {
            "deleting": false
          }
        },
        "execution": {
          "iopub.status.busy": "2020-11-27T05:47:13.688Z",
          "iopub.execute_input": "2020-11-27T05:47:13.714Z",
          "iopub.status.idle": "2020-11-27T05:47:13.771Z"
        }
      }
    },
    {
      "cell_type": "code",
      "source": [
        "# Agregando las columnas de año, mes y día a nuestro set de datos\n",
        "eventsDataFrame=hcat(eventsDataFrame, DataFrame(reduce(vcat, permutedims.(split.(eventsDataFrame[!,:date], '-'))), [:year, :month, :day]))"
      ],
      "outputs": [
        {
          "output_type": "execute_result",
          "execution_count": 129,
          "data": {
            "text/plain": "40674×19 DataFrame. Omitted printing of 17 columns\n│ Row   │ _id                      │ id    │\n│       │ \u001b[90mString\u001b[39m                   │ \u001b[90mInt64\u001b[39m │\n├───────┼──────────────────────────┼───────┤\n│ 1     │ 5fa09d8267fbc452c4f02343 │ 1     │\n│ 2     │ 5fa09d8267fbc452c4f02344 │ 2     │\n│ 3     │ 5fa09d8267fbc452c4f02345 │ 3     │\n│ 4     │ 5fa09d8267fbc452c4f02346 │ 4     │\n│ 5     │ 5fa09d8267fbc452c4f02347 │ 5     │\n│ 6     │ 5fa09d8267fbc452c4f02348 │ 6     │\n│ 7     │ 5fa09d8267fbc452c4f02349 │ 7     │\n│ 8     │ 5fa09d8267fbc452c4f0234a │ 8     │\n│ 9     │ 5fa09d8267fbc452c4f0234b │ 9     │\n│ 10    │ 5fa09d8267fbc452c4f0234c │ 10    │\n⋮\n│ 40664 │ 5fa09d8c67fbc452c4f0c21a │ 40664 │\n│ 40665 │ 5fa09d8c67fbc452c4f0c21b │ 40665 │\n│ 40666 │ 5fa09d8c67fbc452c4f0c21c │ 40666 │\n│ 40667 │ 5fa09d8c67fbc452c4f0c21d │ 40667 │\n│ 40668 │ 5fa09d8c67fbc452c4f0c21e │ 40668 │\n│ 40669 │ 5fa09d8c67fbc452c4f0c21f │ 40669 │\n│ 40670 │ 5fa09d8c67fbc452c4f0c220 │ 40670 │\n│ 40671 │ 5fa09d8c67fbc452c4f0c221 │ 40671 │\n│ 40672 │ 5fa09d8c67fbc452c4f0c222 │ 40672 │\n│ 40673 │ 5fa09d8c67fbc452c4f0c223 │ 40673 │\n│ 40674 │ 5fa09d8c67fbc452c4f0c224 │ 40674 │",
            "text/html": "<table class=\"data-frame\"><thead><tr><th></th><th>_id</th><th>id</th><th>eventname</th></tr><tr><th></th><th>String</th><th>Int64</th><th>String</th></tr></thead><tbody><p>40,674 rows × 19 columns (omitted printing of 16 columns)</p><tr><th>1</th><td>5fa09d8267fbc452c4f02343</td><td>1</td><td>\\\\giant\\\\event\\\\extended_challenge_team_viewed</td></tr><tr><th>2</th><td>5fa09d8267fbc452c4f02344</td><td>2</td><td>\\\\core\\\\event\\\\user_login_failed</td></tr><tr><th>3</th><td>5fa09d8267fbc452c4f02345</td><td>3</td><td>\\\\core\\\\event\\\\user_loggedin</td></tr><tr><th>4</th><td>5fa09d8267fbc452c4f02346</td><td>4</td><td>\\\\core\\\\event\\\\dashboard_viewed</td></tr><tr><th>5</th><td>5fa09d8267fbc452c4f02347</td><td>5</td><td>\\\\core\\\\event\\\\course_viewed</td></tr><tr><th>6</th><td>5fa09d8267fbc452c4f02348</td><td>6</td><td>\\\\core\\\\event\\\\course_viewed</td></tr><tr><th>7</th><td>5fa09d8267fbc452c4f02349</td><td>7</td><td>\\\\core\\\\event\\\\dashboard_viewed</td></tr><tr><th>8</th><td>5fa09d8267fbc452c4f0234a</td><td>8</td><td>\\\\core\\\\event\\\\dashboard_viewed</td></tr><tr><th>9</th><td>5fa09d8267fbc452c4f0234b</td><td>9</td><td>\\\\core\\\\event\\\\user_loggedin</td></tr><tr><th>10</th><td>5fa09d8267fbc452c4f0234c</td><td>10</td><td>\\\\core\\\\event\\\\dashboard_viewed</td></tr><tr><th>11</th><td>5fa09d8267fbc452c4f0234d</td><td>11</td><td>\\\\core\\\\event\\\\user_loggedin</td></tr><tr><th>12</th><td>5fa09d8267fbc452c4f0234e</td><td>12</td><td>\\\\core\\\\event\\\\dashboard_viewed</td></tr><tr><th>13</th><td>5fa09d8267fbc452c4f0234f</td><td>13</td><td>\\\\core\\\\event\\\\user_profile_viewed</td></tr><tr><th>14</th><td>5fa09d8267fbc452c4f02350</td><td>14</td><td>\\\\core\\\\event\\\\course_viewed</td></tr><tr><th>15</th><td>5fa09d8267fbc452c4f02351</td><td>15</td><td>\\\\core\\\\event\\\\course_viewed</td></tr><tr><th>16</th><td>5fa09d8267fbc452c4f02352</td><td>16</td><td>\\\\mod_scorm\\\\event\\\\course_module_viewed</td></tr><tr><th>17</th><td>5fa09d8267fbc452c4f02353</td><td>17</td><td>\\\\mod_scorm\\\\event\\\\course_module_viewed</td></tr><tr><th>18</th><td>5fa09d8267fbc452c4f02354</td><td>18</td><td>\\\\mod_scorm\\\\event\\\\sco_launched</td></tr><tr><th>19</th><td>5fa09d8267fbc452c4f02355</td><td>19</td><td>\\\\core\\\\event\\\\user_loggedin</td></tr><tr><th>20</th><td>5fa09d8267fbc452c4f02356</td><td>20</td><td>\\\\core\\\\event\\\\dashboard_viewed</td></tr><tr><th>21</th><td>5fa09d8267fbc452c4f02357</td><td>21</td><td>\\\\core\\\\event\\\\course_viewed</td></tr><tr><th>22</th><td>5fa09d8267fbc452c4f02358</td><td>22</td><td>\\\\core\\\\event\\\\dashboard_viewed</td></tr><tr><th>23</th><td>5fa09d8267fbc452c4f02359</td><td>23</td><td>\\\\core\\\\event\\\\course_viewed</td></tr><tr><th>24</th><td>5fa09d8267fbc452c4f0235a</td><td>24</td><td>\\\\core\\\\event\\\\course_viewed</td></tr><tr><th>25</th><td>5fa09d8267fbc452c4f0235b</td><td>25</td><td>\\\\core\\\\event\\\\course_viewed</td></tr><tr><th>26</th><td>5fa09d8267fbc452c4f0235c</td><td>26</td><td>\\\\core\\\\event\\\\course_viewed</td></tr><tr><th>27</th><td>5fa09d8267fbc452c4f0235d</td><td>27</td><td>\\\\mod_scorm\\\\event\\\\course_module_viewed</td></tr><tr><th>28</th><td>5fa09d8267fbc452c4f0235e</td><td>28</td><td>\\\\mod_scorm\\\\event\\\\course_module_viewed</td></tr><tr><th>29</th><td>5fa09d8267fbc452c4f0235f</td><td>29</td><td>\\\\mod_scorm\\\\event\\\\sco_launched</td></tr><tr><th>30</th><td>5fa09d8267fbc452c4f02360</td><td>30</td><td>\\\\core\\\\event\\\\dashboard_viewed</td></tr><tr><th>&vellip;</th><td>&vellip;</td><td>&vellip;</td><td>&vellip;</td></tr></tbody></table>",
            "text/latex": "\\begin{tabular}{r|cccc}\n\t& \\_id & id & eventname & \\\\\n\t\\hline\n\t& String & Int64 & String & \\\\\n\t\\hline\n\t1 & 5fa09d8267fbc452c4f02343 & 1 & \\textbackslash{}\\textbackslash{}giant\\textbackslash{}\\textbackslash{}event\\textbackslash{}\\textbackslash{}extended\\_challenge\\_team\\_viewed & $\\dots$ \\\\\n\t2 & 5fa09d8267fbc452c4f02344 & 2 & \\textbackslash{}\\textbackslash{}core\\textbackslash{}\\textbackslash{}event\\textbackslash{}\\textbackslash{}user\\_login\\_failed & $\\dots$ \\\\\n\t3 & 5fa09d8267fbc452c4f02345 & 3 & \\textbackslash{}\\textbackslash{}core\\textbackslash{}\\textbackslash{}event\\textbackslash{}\\textbackslash{}user\\_loggedin & $\\dots$ \\\\\n\t4 & 5fa09d8267fbc452c4f02346 & 4 & \\textbackslash{}\\textbackslash{}core\\textbackslash{}\\textbackslash{}event\\textbackslash{}\\textbackslash{}dashboard\\_viewed & $\\dots$ \\\\\n\t5 & 5fa09d8267fbc452c4f02347 & 5 & \\textbackslash{}\\textbackslash{}core\\textbackslash{}\\textbackslash{}event\\textbackslash{}\\textbackslash{}course\\_viewed & $\\dots$ \\\\\n\t6 & 5fa09d8267fbc452c4f02348 & 6 & \\textbackslash{}\\textbackslash{}core\\textbackslash{}\\textbackslash{}event\\textbackslash{}\\textbackslash{}course\\_viewed & $\\dots$ \\\\\n\t7 & 5fa09d8267fbc452c4f02349 & 7 & \\textbackslash{}\\textbackslash{}core\\textbackslash{}\\textbackslash{}event\\textbackslash{}\\textbackslash{}dashboard\\_viewed & $\\dots$ \\\\\n\t8 & 5fa09d8267fbc452c4f0234a & 8 & \\textbackslash{}\\textbackslash{}core\\textbackslash{}\\textbackslash{}event\\textbackslash{}\\textbackslash{}dashboard\\_viewed & $\\dots$ \\\\\n\t9 & 5fa09d8267fbc452c4f0234b & 9 & \\textbackslash{}\\textbackslash{}core\\textbackslash{}\\textbackslash{}event\\textbackslash{}\\textbackslash{}user\\_loggedin & $\\dots$ \\\\\n\t10 & 5fa09d8267fbc452c4f0234c & 10 & \\textbackslash{}\\textbackslash{}core\\textbackslash{}\\textbackslash{}event\\textbackslash{}\\textbackslash{}dashboard\\_viewed & $\\dots$ \\\\\n\t11 & 5fa09d8267fbc452c4f0234d & 11 & \\textbackslash{}\\textbackslash{}core\\textbackslash{}\\textbackslash{}event\\textbackslash{}\\textbackslash{}user\\_loggedin & $\\dots$ \\\\\n\t12 & 5fa09d8267fbc452c4f0234e & 12 & \\textbackslash{}\\textbackslash{}core\\textbackslash{}\\textbackslash{}event\\textbackslash{}\\textbackslash{}dashboard\\_viewed & $\\dots$ \\\\\n\t13 & 5fa09d8267fbc452c4f0234f & 13 & \\textbackslash{}\\textbackslash{}core\\textbackslash{}\\textbackslash{}event\\textbackslash{}\\textbackslash{}user\\_profile\\_viewed & $\\dots$ \\\\\n\t14 & 5fa09d8267fbc452c4f02350 & 14 & \\textbackslash{}\\textbackslash{}core\\textbackslash{}\\textbackslash{}event\\textbackslash{}\\textbackslash{}course\\_viewed & $\\dots$ \\\\\n\t15 & 5fa09d8267fbc452c4f02351 & 15 & \\textbackslash{}\\textbackslash{}core\\textbackslash{}\\textbackslash{}event\\textbackslash{}\\textbackslash{}course\\_viewed & $\\dots$ \\\\\n\t16 & 5fa09d8267fbc452c4f02352 & 16 & \\textbackslash{}\\textbackslash{}mod\\_scorm\\textbackslash{}\\textbackslash{}event\\textbackslash{}\\textbackslash{}course\\_module\\_viewed & $\\dots$ \\\\\n\t17 & 5fa09d8267fbc452c4f02353 & 17 & \\textbackslash{}\\textbackslash{}mod\\_scorm\\textbackslash{}\\textbackslash{}event\\textbackslash{}\\textbackslash{}course\\_module\\_viewed & $\\dots$ \\\\\n\t18 & 5fa09d8267fbc452c4f02354 & 18 & \\textbackslash{}\\textbackslash{}mod\\_scorm\\textbackslash{}\\textbackslash{}event\\textbackslash{}\\textbackslash{}sco\\_launched & $\\dots$ \\\\\n\t19 & 5fa09d8267fbc452c4f02355 & 19 & \\textbackslash{}\\textbackslash{}core\\textbackslash{}\\textbackslash{}event\\textbackslash{}\\textbackslash{}user\\_loggedin & $\\dots$ \\\\\n\t20 & 5fa09d8267fbc452c4f02356 & 20 & \\textbackslash{}\\textbackslash{}core\\textbackslash{}\\textbackslash{}event\\textbackslash{}\\textbackslash{}dashboard\\_viewed & $\\dots$ \\\\\n\t21 & 5fa09d8267fbc452c4f02357 & 21 & \\textbackslash{}\\textbackslash{}core\\textbackslash{}\\textbackslash{}event\\textbackslash{}\\textbackslash{}course\\_viewed & $\\dots$ \\\\\n\t22 & 5fa09d8267fbc452c4f02358 & 22 & \\textbackslash{}\\textbackslash{}core\\textbackslash{}\\textbackslash{}event\\textbackslash{}\\textbackslash{}dashboard\\_viewed & $\\dots$ \\\\\n\t23 & 5fa09d8267fbc452c4f02359 & 23 & \\textbackslash{}\\textbackslash{}core\\textbackslash{}\\textbackslash{}event\\textbackslash{}\\textbackslash{}course\\_viewed & $\\dots$ \\\\\n\t24 & 5fa09d8267fbc452c4f0235a & 24 & \\textbackslash{}\\textbackslash{}core\\textbackslash{}\\textbackslash{}event\\textbackslash{}\\textbackslash{}course\\_viewed & $\\dots$ \\\\\n\t25 & 5fa09d8267fbc452c4f0235b & 25 & \\textbackslash{}\\textbackslash{}core\\textbackslash{}\\textbackslash{}event\\textbackslash{}\\textbackslash{}course\\_viewed & $\\dots$ \\\\\n\t26 & 5fa09d8267fbc452c4f0235c & 26 & \\textbackslash{}\\textbackslash{}core\\textbackslash{}\\textbackslash{}event\\textbackslash{}\\textbackslash{}course\\_viewed & $\\dots$ \\\\\n\t27 & 5fa09d8267fbc452c4f0235d & 27 & \\textbackslash{}\\textbackslash{}mod\\_scorm\\textbackslash{}\\textbackslash{}event\\textbackslash{}\\textbackslash{}course\\_module\\_viewed & $\\dots$ \\\\\n\t28 & 5fa09d8267fbc452c4f0235e & 28 & \\textbackslash{}\\textbackslash{}mod\\_scorm\\textbackslash{}\\textbackslash{}event\\textbackslash{}\\textbackslash{}course\\_module\\_viewed & $\\dots$ \\\\\n\t29 & 5fa09d8267fbc452c4f0235f & 29 & \\textbackslash{}\\textbackslash{}mod\\_scorm\\textbackslash{}\\textbackslash{}event\\textbackslash{}\\textbackslash{}sco\\_launched & $\\dots$ \\\\\n\t30 & 5fa09d8267fbc452c4f02360 & 30 & \\textbackslash{}\\textbackslash{}core\\textbackslash{}\\textbackslash{}event\\textbackslash{}\\textbackslash{}dashboard\\_viewed & $\\dots$ \\\\\n\t$\\dots$ & $\\dots$ & $\\dots$ & $\\dots$ &  \\\\\n\\end{tabular}\n"
          },
          "metadata": {}
        }
      ],
      "execution_count": 129,
      "metadata": {
        "collapsed": true,
        "jupyter": {
          "source_hidden": false,
          "outputs_hidden": false
        },
        "nteract": {
          "transient": {
            "deleting": false
          }
        },
        "execution": {
          "iopub.status.busy": "2020-11-27T05:47:17.152Z",
          "iopub.execute_input": "2020-11-27T05:47:17.176Z",
          "iopub.status.idle": "2020-11-27T05:47:17.225Z"
        }
      }
    },
    {
      "cell_type": "code",
      "source": [
        "# Agregando las columnas de hora, minutos y segundos a nuestro set de datos\n",
        "eventsDataFrame=hcat(eventsDataFrame, DataFrame(reduce(vcat, permutedims.(split.(eventsDataFrame[!,:time], ':'))), [:hour, :minute, :second]))"
      ],
      "outputs": [
        {
          "output_type": "execute_result",
          "execution_count": 130,
          "data": {
            "text/plain": "40674×22 DataFrame. Omitted printing of 20 columns\n│ Row   │ _id                      │ id    │\n│       │ \u001b[90mString\u001b[39m                   │ \u001b[90mInt64\u001b[39m │\n├───────┼──────────────────────────┼───────┤\n│ 1     │ 5fa09d8267fbc452c4f02343 │ 1     │\n│ 2     │ 5fa09d8267fbc452c4f02344 │ 2     │\n│ 3     │ 5fa09d8267fbc452c4f02345 │ 3     │\n│ 4     │ 5fa09d8267fbc452c4f02346 │ 4     │\n│ 5     │ 5fa09d8267fbc452c4f02347 │ 5     │\n│ 6     │ 5fa09d8267fbc452c4f02348 │ 6     │\n│ 7     │ 5fa09d8267fbc452c4f02349 │ 7     │\n│ 8     │ 5fa09d8267fbc452c4f0234a │ 8     │\n│ 9     │ 5fa09d8267fbc452c4f0234b │ 9     │\n│ 10    │ 5fa09d8267fbc452c4f0234c │ 10    │\n⋮\n│ 40664 │ 5fa09d8c67fbc452c4f0c21a │ 40664 │\n│ 40665 │ 5fa09d8c67fbc452c4f0c21b │ 40665 │\n│ 40666 │ 5fa09d8c67fbc452c4f0c21c │ 40666 │\n│ 40667 │ 5fa09d8c67fbc452c4f0c21d │ 40667 │\n│ 40668 │ 5fa09d8c67fbc452c4f0c21e │ 40668 │\n│ 40669 │ 5fa09d8c67fbc452c4f0c21f │ 40669 │\n│ 40670 │ 5fa09d8c67fbc452c4f0c220 │ 40670 │\n│ 40671 │ 5fa09d8c67fbc452c4f0c221 │ 40671 │\n│ 40672 │ 5fa09d8c67fbc452c4f0c222 │ 40672 │\n│ 40673 │ 5fa09d8c67fbc452c4f0c223 │ 40673 │\n│ 40674 │ 5fa09d8c67fbc452c4f0c224 │ 40674 │",
            "text/html": "<table class=\"data-frame\"><thead><tr><th></th><th>_id</th><th>id</th><th>eventname</th></tr><tr><th></th><th>String</th><th>Int64</th><th>String</th></tr></thead><tbody><p>40,674 rows × 22 columns (omitted printing of 19 columns)</p><tr><th>1</th><td>5fa09d8267fbc452c4f02343</td><td>1</td><td>\\\\giant\\\\event\\\\extended_challenge_team_viewed</td></tr><tr><th>2</th><td>5fa09d8267fbc452c4f02344</td><td>2</td><td>\\\\core\\\\event\\\\user_login_failed</td></tr><tr><th>3</th><td>5fa09d8267fbc452c4f02345</td><td>3</td><td>\\\\core\\\\event\\\\user_loggedin</td></tr><tr><th>4</th><td>5fa09d8267fbc452c4f02346</td><td>4</td><td>\\\\core\\\\event\\\\dashboard_viewed</td></tr><tr><th>5</th><td>5fa09d8267fbc452c4f02347</td><td>5</td><td>\\\\core\\\\event\\\\course_viewed</td></tr><tr><th>6</th><td>5fa09d8267fbc452c4f02348</td><td>6</td><td>\\\\core\\\\event\\\\course_viewed</td></tr><tr><th>7</th><td>5fa09d8267fbc452c4f02349</td><td>7</td><td>\\\\core\\\\event\\\\dashboard_viewed</td></tr><tr><th>8</th><td>5fa09d8267fbc452c4f0234a</td><td>8</td><td>\\\\core\\\\event\\\\dashboard_viewed</td></tr><tr><th>9</th><td>5fa09d8267fbc452c4f0234b</td><td>9</td><td>\\\\core\\\\event\\\\user_loggedin</td></tr><tr><th>10</th><td>5fa09d8267fbc452c4f0234c</td><td>10</td><td>\\\\core\\\\event\\\\dashboard_viewed</td></tr><tr><th>11</th><td>5fa09d8267fbc452c4f0234d</td><td>11</td><td>\\\\core\\\\event\\\\user_loggedin</td></tr><tr><th>12</th><td>5fa09d8267fbc452c4f0234e</td><td>12</td><td>\\\\core\\\\event\\\\dashboard_viewed</td></tr><tr><th>13</th><td>5fa09d8267fbc452c4f0234f</td><td>13</td><td>\\\\core\\\\event\\\\user_profile_viewed</td></tr><tr><th>14</th><td>5fa09d8267fbc452c4f02350</td><td>14</td><td>\\\\core\\\\event\\\\course_viewed</td></tr><tr><th>15</th><td>5fa09d8267fbc452c4f02351</td><td>15</td><td>\\\\core\\\\event\\\\course_viewed</td></tr><tr><th>16</th><td>5fa09d8267fbc452c4f02352</td><td>16</td><td>\\\\mod_scorm\\\\event\\\\course_module_viewed</td></tr><tr><th>17</th><td>5fa09d8267fbc452c4f02353</td><td>17</td><td>\\\\mod_scorm\\\\event\\\\course_module_viewed</td></tr><tr><th>18</th><td>5fa09d8267fbc452c4f02354</td><td>18</td><td>\\\\mod_scorm\\\\event\\\\sco_launched</td></tr><tr><th>19</th><td>5fa09d8267fbc452c4f02355</td><td>19</td><td>\\\\core\\\\event\\\\user_loggedin</td></tr><tr><th>20</th><td>5fa09d8267fbc452c4f02356</td><td>20</td><td>\\\\core\\\\event\\\\dashboard_viewed</td></tr><tr><th>21</th><td>5fa09d8267fbc452c4f02357</td><td>21</td><td>\\\\core\\\\event\\\\course_viewed</td></tr><tr><th>22</th><td>5fa09d8267fbc452c4f02358</td><td>22</td><td>\\\\core\\\\event\\\\dashboard_viewed</td></tr><tr><th>23</th><td>5fa09d8267fbc452c4f02359</td><td>23</td><td>\\\\core\\\\event\\\\course_viewed</td></tr><tr><th>24</th><td>5fa09d8267fbc452c4f0235a</td><td>24</td><td>\\\\core\\\\event\\\\course_viewed</td></tr><tr><th>25</th><td>5fa09d8267fbc452c4f0235b</td><td>25</td><td>\\\\core\\\\event\\\\course_viewed</td></tr><tr><th>26</th><td>5fa09d8267fbc452c4f0235c</td><td>26</td><td>\\\\core\\\\event\\\\course_viewed</td></tr><tr><th>27</th><td>5fa09d8267fbc452c4f0235d</td><td>27</td><td>\\\\mod_scorm\\\\event\\\\course_module_viewed</td></tr><tr><th>28</th><td>5fa09d8267fbc452c4f0235e</td><td>28</td><td>\\\\mod_scorm\\\\event\\\\course_module_viewed</td></tr><tr><th>29</th><td>5fa09d8267fbc452c4f0235f</td><td>29</td><td>\\\\mod_scorm\\\\event\\\\sco_launched</td></tr><tr><th>30</th><td>5fa09d8267fbc452c4f02360</td><td>30</td><td>\\\\core\\\\event\\\\dashboard_viewed</td></tr><tr><th>&vellip;</th><td>&vellip;</td><td>&vellip;</td><td>&vellip;</td></tr></tbody></table>",
            "text/latex": "\\begin{tabular}{r|cccc}\n\t& \\_id & id & eventname & \\\\\n\t\\hline\n\t& String & Int64 & String & \\\\\n\t\\hline\n\t1 & 5fa09d8267fbc452c4f02343 & 1 & \\textbackslash{}\\textbackslash{}giant\\textbackslash{}\\textbackslash{}event\\textbackslash{}\\textbackslash{}extended\\_challenge\\_team\\_viewed & $\\dots$ \\\\\n\t2 & 5fa09d8267fbc452c4f02344 & 2 & \\textbackslash{}\\textbackslash{}core\\textbackslash{}\\textbackslash{}event\\textbackslash{}\\textbackslash{}user\\_login\\_failed & $\\dots$ \\\\\n\t3 & 5fa09d8267fbc452c4f02345 & 3 & \\textbackslash{}\\textbackslash{}core\\textbackslash{}\\textbackslash{}event\\textbackslash{}\\textbackslash{}user\\_loggedin & $\\dots$ \\\\\n\t4 & 5fa09d8267fbc452c4f02346 & 4 & \\textbackslash{}\\textbackslash{}core\\textbackslash{}\\textbackslash{}event\\textbackslash{}\\textbackslash{}dashboard\\_viewed & $\\dots$ \\\\\n\t5 & 5fa09d8267fbc452c4f02347 & 5 & \\textbackslash{}\\textbackslash{}core\\textbackslash{}\\textbackslash{}event\\textbackslash{}\\textbackslash{}course\\_viewed & $\\dots$ \\\\\n\t6 & 5fa09d8267fbc452c4f02348 & 6 & \\textbackslash{}\\textbackslash{}core\\textbackslash{}\\textbackslash{}event\\textbackslash{}\\textbackslash{}course\\_viewed & $\\dots$ \\\\\n\t7 & 5fa09d8267fbc452c4f02349 & 7 & \\textbackslash{}\\textbackslash{}core\\textbackslash{}\\textbackslash{}event\\textbackslash{}\\textbackslash{}dashboard\\_viewed & $\\dots$ \\\\\n\t8 & 5fa09d8267fbc452c4f0234a & 8 & \\textbackslash{}\\textbackslash{}core\\textbackslash{}\\textbackslash{}event\\textbackslash{}\\textbackslash{}dashboard\\_viewed & $\\dots$ \\\\\n\t9 & 5fa09d8267fbc452c4f0234b & 9 & \\textbackslash{}\\textbackslash{}core\\textbackslash{}\\textbackslash{}event\\textbackslash{}\\textbackslash{}user\\_loggedin & $\\dots$ \\\\\n\t10 & 5fa09d8267fbc452c4f0234c & 10 & \\textbackslash{}\\textbackslash{}core\\textbackslash{}\\textbackslash{}event\\textbackslash{}\\textbackslash{}dashboard\\_viewed & $\\dots$ \\\\\n\t11 & 5fa09d8267fbc452c4f0234d & 11 & \\textbackslash{}\\textbackslash{}core\\textbackslash{}\\textbackslash{}event\\textbackslash{}\\textbackslash{}user\\_loggedin & $\\dots$ \\\\\n\t12 & 5fa09d8267fbc452c4f0234e & 12 & \\textbackslash{}\\textbackslash{}core\\textbackslash{}\\textbackslash{}event\\textbackslash{}\\textbackslash{}dashboard\\_viewed & $\\dots$ \\\\\n\t13 & 5fa09d8267fbc452c4f0234f & 13 & \\textbackslash{}\\textbackslash{}core\\textbackslash{}\\textbackslash{}event\\textbackslash{}\\textbackslash{}user\\_profile\\_viewed & $\\dots$ \\\\\n\t14 & 5fa09d8267fbc452c4f02350 & 14 & \\textbackslash{}\\textbackslash{}core\\textbackslash{}\\textbackslash{}event\\textbackslash{}\\textbackslash{}course\\_viewed & $\\dots$ \\\\\n\t15 & 5fa09d8267fbc452c4f02351 & 15 & \\textbackslash{}\\textbackslash{}core\\textbackslash{}\\textbackslash{}event\\textbackslash{}\\textbackslash{}course\\_viewed & $\\dots$ \\\\\n\t16 & 5fa09d8267fbc452c4f02352 & 16 & \\textbackslash{}\\textbackslash{}mod\\_scorm\\textbackslash{}\\textbackslash{}event\\textbackslash{}\\textbackslash{}course\\_module\\_viewed & $\\dots$ \\\\\n\t17 & 5fa09d8267fbc452c4f02353 & 17 & \\textbackslash{}\\textbackslash{}mod\\_scorm\\textbackslash{}\\textbackslash{}event\\textbackslash{}\\textbackslash{}course\\_module\\_viewed & $\\dots$ \\\\\n\t18 & 5fa09d8267fbc452c4f02354 & 18 & \\textbackslash{}\\textbackslash{}mod\\_scorm\\textbackslash{}\\textbackslash{}event\\textbackslash{}\\textbackslash{}sco\\_launched & $\\dots$ \\\\\n\t19 & 5fa09d8267fbc452c4f02355 & 19 & \\textbackslash{}\\textbackslash{}core\\textbackslash{}\\textbackslash{}event\\textbackslash{}\\textbackslash{}user\\_loggedin & $\\dots$ \\\\\n\t20 & 5fa09d8267fbc452c4f02356 & 20 & \\textbackslash{}\\textbackslash{}core\\textbackslash{}\\textbackslash{}event\\textbackslash{}\\textbackslash{}dashboard\\_viewed & $\\dots$ \\\\\n\t21 & 5fa09d8267fbc452c4f02357 & 21 & \\textbackslash{}\\textbackslash{}core\\textbackslash{}\\textbackslash{}event\\textbackslash{}\\textbackslash{}course\\_viewed & $\\dots$ \\\\\n\t22 & 5fa09d8267fbc452c4f02358 & 22 & \\textbackslash{}\\textbackslash{}core\\textbackslash{}\\textbackslash{}event\\textbackslash{}\\textbackslash{}dashboard\\_viewed & $\\dots$ \\\\\n\t23 & 5fa09d8267fbc452c4f02359 & 23 & \\textbackslash{}\\textbackslash{}core\\textbackslash{}\\textbackslash{}event\\textbackslash{}\\textbackslash{}course\\_viewed & $\\dots$ \\\\\n\t24 & 5fa09d8267fbc452c4f0235a & 24 & \\textbackslash{}\\textbackslash{}core\\textbackslash{}\\textbackslash{}event\\textbackslash{}\\textbackslash{}course\\_viewed & $\\dots$ \\\\\n\t25 & 5fa09d8267fbc452c4f0235b & 25 & \\textbackslash{}\\textbackslash{}core\\textbackslash{}\\textbackslash{}event\\textbackslash{}\\textbackslash{}course\\_viewed & $\\dots$ \\\\\n\t26 & 5fa09d8267fbc452c4f0235c & 26 & \\textbackslash{}\\textbackslash{}core\\textbackslash{}\\textbackslash{}event\\textbackslash{}\\textbackslash{}course\\_viewed & $\\dots$ \\\\\n\t27 & 5fa09d8267fbc452c4f0235d & 27 & \\textbackslash{}\\textbackslash{}mod\\_scorm\\textbackslash{}\\textbackslash{}event\\textbackslash{}\\textbackslash{}course\\_module\\_viewed & $\\dots$ \\\\\n\t28 & 5fa09d8267fbc452c4f0235e & 28 & \\textbackslash{}\\textbackslash{}mod\\_scorm\\textbackslash{}\\textbackslash{}event\\textbackslash{}\\textbackslash{}course\\_module\\_viewed & $\\dots$ \\\\\n\t29 & 5fa09d8267fbc452c4f0235f & 29 & \\textbackslash{}\\textbackslash{}mod\\_scorm\\textbackslash{}\\textbackslash{}event\\textbackslash{}\\textbackslash{}sco\\_launched & $\\dots$ \\\\\n\t30 & 5fa09d8267fbc452c4f02360 & 30 & \\textbackslash{}\\textbackslash{}core\\textbackslash{}\\textbackslash{}event\\textbackslash{}\\textbackslash{}dashboard\\_viewed & $\\dots$ \\\\\n\t$\\dots$ & $\\dots$ & $\\dots$ & $\\dots$ &  \\\\\n\\end{tabular}\n"
          },
          "metadata": {}
        }
      ],
      "execution_count": 130,
      "metadata": {
        "collapsed": true,
        "jupyter": {
          "source_hidden": false,
          "outputs_hidden": false
        },
        "nteract": {
          "transient": {
            "deleting": false
          }
        },
        "execution": {
          "iopub.status.busy": "2020-11-27T05:47:18.836Z",
          "iopub.execute_input": "2020-11-27T05:47:18.861Z",
          "iopub.status.idle": "2020-11-27T05:47:19.060Z"
        }
      }
    },
    {
      "cell_type": "code",
      "source": [
        "names(eventsDataFrame)"
      ],
      "outputs": [
        {
          "output_type": "execute_result",
          "execution_count": 131,
          "data": {
            "text/plain": "22-element Array{String,1}:\n \"_id\"\n \"id\"\n \"eventname\"\n \"component\"\n \"action\"\n \"target\"\n \"objecttable\"\n \"objectid\"\n \"crud\"\n \"userid\"\n \"username\"\n \"courseid\"\n \"other\"\n \"timecreated\"\n \"date\"\n \"time\"\n \"year\"\n \"month\"\n \"day\"\n \"hour\"\n \"minute\"\n \"second\""
          },
          "metadata": {}
        }
      ],
      "execution_count": 131,
      "metadata": {
        "collapsed": true,
        "jupyter": {
          "source_hidden": false,
          "outputs_hidden": false
        },
        "nteract": {
          "transient": {
            "deleting": false
          }
        },
        "execution": {
          "iopub.status.busy": "2020-11-27T05:47:21.134Z",
          "iopub.execute_input": "2020-11-27T05:47:21.164Z",
          "iopub.status.idle": "2020-11-27T05:47:21.217Z"
        }
      }
    },
    {
      "cell_type": "code",
      "source": [
        "# Creando nuevo DataFrame para empezar a generar piezas de visualización de lo que está sucediendo en el gestor\n",
        "featureDataFrame=eventsDataFrame[!,[:userid, :eventname, :component, :action, :target, :year, :month, :day, :hour, :minute, :second]]"
      ],
      "outputs": [
        {
          "output_type": "execute_result",
          "execution_count": 132,
          "data": {
            "text/plain": "40674×11 DataFrame. Omitted printing of 8 columns\n│ Row   │ userid │ eventname                                      │ component │\n│       │ \u001b[90mInt64\u001b[39m  │ \u001b[90mString\u001b[39m                                         │ \u001b[90mString\u001b[39m    │\n├───────┼────────┼────────────────────────────────────────────────┼───────────┤\n│ 1     │ 78     │ \\\\giant\\\\event\\\\extended_challenge_team_viewed │ giant     │\n│ 2     │ 141    │ \\\\core\\\\event\\\\user_login_failed               │ core      │\n│ 3     │ 141    │ \\\\core\\\\event\\\\user_loggedin                   │ core      │\n│ 4     │ 141    │ \\\\core\\\\event\\\\dashboard_viewed                │ core      │\n│ 5     │ 141    │ \\\\core\\\\event\\\\course_viewed                   │ core      │\n│ 6     │ 141    │ \\\\core\\\\event\\\\course_viewed                   │ core      │\n│ 7     │ 141    │ \\\\core\\\\event\\\\dashboard_viewed                │ core      │\n│ 8     │ 141    │ \\\\core\\\\event\\\\dashboard_viewed                │ core      │\n│ 9     │ 48     │ \\\\core\\\\event\\\\user_loggedin                   │ core      │\n│ 10    │ 48     │ \\\\core\\\\event\\\\dashboard_viewed                │ core      │\n⋮\n│ 40664 │ 84     │ \\\\core\\\\event\\\\course_viewed                   │ core      │\n│ 40665 │ 84     │ \\\\core\\\\event\\\\dashboard_viewed                │ core      │\n│ 40666 │ 84     │ \\\\core\\\\event\\\\course_viewed                   │ core      │\n│ 40667 │ 112    │ \\\\core\\\\event\\\\user_loggedin                   │ core      │\n│ 40668 │ 112    │ \\\\core\\\\event\\\\dashboard_viewed                │ core      │\n│ 40669 │ 112    │ \\\\core\\\\event\\\\course_viewed                   │ core      │\n│ 40670 │ 112    │ \\\\core\\\\event\\\\course_viewed                   │ core      │\n│ 40671 │ 112    │ \\\\core\\\\event\\\\course_viewed                   │ core      │\n│ 40672 │ 112    │ \\\\mod_scorm\\\\event\\\\course_module_viewed       │ mod_scorm │\n│ 40673 │ 112    │ \\\\mod_scorm\\\\event\\\\course_module_viewed       │ mod_scorm │\n│ 40674 │ 112    │ \\\\mod_scorm\\\\event\\\\sco_launched               │ mod_scorm │",
            "text/html": "<table class=\"data-frame\"><thead><tr><th></th><th>userid</th><th>eventname</th><th>component</th><th>action</th><th>target</th></tr><tr><th></th><th>Int64</th><th>String</th><th>String</th><th>String</th><th>String</th></tr></thead><tbody><p>40,674 rows × 11 columns (omitted printing of 6 columns)</p><tr><th>1</th><td>78</td><td>\\\\giant\\\\event\\\\extended_challenge_team_viewed</td><td>giant</td><td>viewed</td><td>extended_challenge_team</td></tr><tr><th>2</th><td>141</td><td>\\\\core\\\\event\\\\user_login_failed</td><td>core</td><td>failed</td><td>user_login</td></tr><tr><th>3</th><td>141</td><td>\\\\core\\\\event\\\\user_loggedin</td><td>core</td><td>loggedin</td><td>user</td></tr><tr><th>4</th><td>141</td><td>\\\\core\\\\event\\\\dashboard_viewed</td><td>core</td><td>viewed</td><td>dashboard</td></tr><tr><th>5</th><td>141</td><td>\\\\core\\\\event\\\\course_viewed</td><td>core</td><td>viewed</td><td>course</td></tr><tr><th>6</th><td>141</td><td>\\\\core\\\\event\\\\course_viewed</td><td>core</td><td>viewed</td><td>course</td></tr><tr><th>7</th><td>141</td><td>\\\\core\\\\event\\\\dashboard_viewed</td><td>core</td><td>viewed</td><td>dashboard</td></tr><tr><th>8</th><td>141</td><td>\\\\core\\\\event\\\\dashboard_viewed</td><td>core</td><td>viewed</td><td>dashboard</td></tr><tr><th>9</th><td>48</td><td>\\\\core\\\\event\\\\user_loggedin</td><td>core</td><td>loggedin</td><td>user</td></tr><tr><th>10</th><td>48</td><td>\\\\core\\\\event\\\\dashboard_viewed</td><td>core</td><td>viewed</td><td>dashboard</td></tr><tr><th>11</th><td>139</td><td>\\\\core\\\\event\\\\user_loggedin</td><td>core</td><td>loggedin</td><td>user</td></tr><tr><th>12</th><td>139</td><td>\\\\core\\\\event\\\\dashboard_viewed</td><td>core</td><td>viewed</td><td>dashboard</td></tr><tr><th>13</th><td>48</td><td>\\\\core\\\\event\\\\user_profile_viewed</td><td>core</td><td>viewed</td><td>user_profile</td></tr><tr><th>14</th><td>139</td><td>\\\\core\\\\event\\\\course_viewed</td><td>core</td><td>viewed</td><td>course</td></tr><tr><th>15</th><td>139</td><td>\\\\core\\\\event\\\\course_viewed</td><td>core</td><td>viewed</td><td>course</td></tr><tr><th>16</th><td>139</td><td>\\\\mod_scorm\\\\event\\\\course_module_viewed</td><td>mod_scorm</td><td>viewed</td><td>course_module</td></tr><tr><th>17</th><td>139</td><td>\\\\mod_scorm\\\\event\\\\course_module_viewed</td><td>mod_scorm</td><td>viewed</td><td>course_module</td></tr><tr><th>18</th><td>139</td><td>\\\\mod_scorm\\\\event\\\\sco_launched</td><td>mod_scorm</td><td>launched</td><td>sco</td></tr><tr><th>19</th><td>63</td><td>\\\\core\\\\event\\\\user_loggedin</td><td>core</td><td>loggedin</td><td>user</td></tr><tr><th>20</th><td>63</td><td>\\\\core\\\\event\\\\dashboard_viewed</td><td>core</td><td>viewed</td><td>dashboard</td></tr><tr><th>21</th><td>63</td><td>\\\\core\\\\event\\\\course_viewed</td><td>core</td><td>viewed</td><td>course</td></tr><tr><th>22</th><td>141</td><td>\\\\core\\\\event\\\\dashboard_viewed</td><td>core</td><td>viewed</td><td>dashboard</td></tr><tr><th>23</th><td>141</td><td>\\\\core\\\\event\\\\course_viewed</td><td>core</td><td>viewed</td><td>course</td></tr><tr><th>24</th><td>141</td><td>\\\\core\\\\event\\\\course_viewed</td><td>core</td><td>viewed</td><td>course</td></tr><tr><th>25</th><td>141</td><td>\\\\core\\\\event\\\\course_viewed</td><td>core</td><td>viewed</td><td>course</td></tr><tr><th>26</th><td>63</td><td>\\\\core\\\\event\\\\course_viewed</td><td>core</td><td>viewed</td><td>course</td></tr><tr><th>27</th><td>63</td><td>\\\\mod_scorm\\\\event\\\\course_module_viewed</td><td>mod_scorm</td><td>viewed</td><td>course_module</td></tr><tr><th>28</th><td>63</td><td>\\\\mod_scorm\\\\event\\\\course_module_viewed</td><td>mod_scorm</td><td>viewed</td><td>course_module</td></tr><tr><th>29</th><td>63</td><td>\\\\mod_scorm\\\\event\\\\sco_launched</td><td>mod_scorm</td><td>launched</td><td>sco</td></tr><tr><th>30</th><td>48</td><td>\\\\core\\\\event\\\\dashboard_viewed</td><td>core</td><td>viewed</td><td>dashboard</td></tr><tr><th>&vellip;</th><td>&vellip;</td><td>&vellip;</td><td>&vellip;</td><td>&vellip;</td><td>&vellip;</td></tr></tbody></table>",
            "text/latex": "\\begin{tabular}{r|cccccc}\n\t& userid & eventname & component & action & target & \\\\\n\t\\hline\n\t& Int64 & String & String & String & String & \\\\\n\t\\hline\n\t1 & 78 & \\textbackslash{}\\textbackslash{}giant\\textbackslash{}\\textbackslash{}event\\textbackslash{}\\textbackslash{}extended\\_challenge\\_team\\_viewed & giant & viewed & extended\\_challenge\\_team & $\\dots$ \\\\\n\t2 & 141 & \\textbackslash{}\\textbackslash{}core\\textbackslash{}\\textbackslash{}event\\textbackslash{}\\textbackslash{}user\\_login\\_failed & core & failed & user\\_login & $\\dots$ \\\\\n\t3 & 141 & \\textbackslash{}\\textbackslash{}core\\textbackslash{}\\textbackslash{}event\\textbackslash{}\\textbackslash{}user\\_loggedin & core & loggedin & user & $\\dots$ \\\\\n\t4 & 141 & \\textbackslash{}\\textbackslash{}core\\textbackslash{}\\textbackslash{}event\\textbackslash{}\\textbackslash{}dashboard\\_viewed & core & viewed & dashboard & $\\dots$ \\\\\n\t5 & 141 & \\textbackslash{}\\textbackslash{}core\\textbackslash{}\\textbackslash{}event\\textbackslash{}\\textbackslash{}course\\_viewed & core & viewed & course & $\\dots$ \\\\\n\t6 & 141 & \\textbackslash{}\\textbackslash{}core\\textbackslash{}\\textbackslash{}event\\textbackslash{}\\textbackslash{}course\\_viewed & core & viewed & course & $\\dots$ \\\\\n\t7 & 141 & \\textbackslash{}\\textbackslash{}core\\textbackslash{}\\textbackslash{}event\\textbackslash{}\\textbackslash{}dashboard\\_viewed & core & viewed & dashboard & $\\dots$ \\\\\n\t8 & 141 & \\textbackslash{}\\textbackslash{}core\\textbackslash{}\\textbackslash{}event\\textbackslash{}\\textbackslash{}dashboard\\_viewed & core & viewed & dashboard & $\\dots$ \\\\\n\t9 & 48 & \\textbackslash{}\\textbackslash{}core\\textbackslash{}\\textbackslash{}event\\textbackslash{}\\textbackslash{}user\\_loggedin & core & loggedin & user & $\\dots$ \\\\\n\t10 & 48 & \\textbackslash{}\\textbackslash{}core\\textbackslash{}\\textbackslash{}event\\textbackslash{}\\textbackslash{}dashboard\\_viewed & core & viewed & dashboard & $\\dots$ \\\\\n\t11 & 139 & \\textbackslash{}\\textbackslash{}core\\textbackslash{}\\textbackslash{}event\\textbackslash{}\\textbackslash{}user\\_loggedin & core & loggedin & user & $\\dots$ \\\\\n\t12 & 139 & \\textbackslash{}\\textbackslash{}core\\textbackslash{}\\textbackslash{}event\\textbackslash{}\\textbackslash{}dashboard\\_viewed & core & viewed & dashboard & $\\dots$ \\\\\n\t13 & 48 & \\textbackslash{}\\textbackslash{}core\\textbackslash{}\\textbackslash{}event\\textbackslash{}\\textbackslash{}user\\_profile\\_viewed & core & viewed & user\\_profile & $\\dots$ \\\\\n\t14 & 139 & \\textbackslash{}\\textbackslash{}core\\textbackslash{}\\textbackslash{}event\\textbackslash{}\\textbackslash{}course\\_viewed & core & viewed & course & $\\dots$ \\\\\n\t15 & 139 & \\textbackslash{}\\textbackslash{}core\\textbackslash{}\\textbackslash{}event\\textbackslash{}\\textbackslash{}course\\_viewed & core & viewed & course & $\\dots$ \\\\\n\t16 & 139 & \\textbackslash{}\\textbackslash{}mod\\_scorm\\textbackslash{}\\textbackslash{}event\\textbackslash{}\\textbackslash{}course\\_module\\_viewed & mod\\_scorm & viewed & course\\_module & $\\dots$ \\\\\n\t17 & 139 & \\textbackslash{}\\textbackslash{}mod\\_scorm\\textbackslash{}\\textbackslash{}event\\textbackslash{}\\textbackslash{}course\\_module\\_viewed & mod\\_scorm & viewed & course\\_module & $\\dots$ \\\\\n\t18 & 139 & \\textbackslash{}\\textbackslash{}mod\\_scorm\\textbackslash{}\\textbackslash{}event\\textbackslash{}\\textbackslash{}sco\\_launched & mod\\_scorm & launched & sco & $\\dots$ \\\\\n\t19 & 63 & \\textbackslash{}\\textbackslash{}core\\textbackslash{}\\textbackslash{}event\\textbackslash{}\\textbackslash{}user\\_loggedin & core & loggedin & user & $\\dots$ \\\\\n\t20 & 63 & \\textbackslash{}\\textbackslash{}core\\textbackslash{}\\textbackslash{}event\\textbackslash{}\\textbackslash{}dashboard\\_viewed & core & viewed & dashboard & $\\dots$ \\\\\n\t21 & 63 & \\textbackslash{}\\textbackslash{}core\\textbackslash{}\\textbackslash{}event\\textbackslash{}\\textbackslash{}course\\_viewed & core & viewed & course & $\\dots$ \\\\\n\t22 & 141 & \\textbackslash{}\\textbackslash{}core\\textbackslash{}\\textbackslash{}event\\textbackslash{}\\textbackslash{}dashboard\\_viewed & core & viewed & dashboard & $\\dots$ \\\\\n\t23 & 141 & \\textbackslash{}\\textbackslash{}core\\textbackslash{}\\textbackslash{}event\\textbackslash{}\\textbackslash{}course\\_viewed & core & viewed & course & $\\dots$ \\\\\n\t24 & 141 & \\textbackslash{}\\textbackslash{}core\\textbackslash{}\\textbackslash{}event\\textbackslash{}\\textbackslash{}course\\_viewed & core & viewed & course & $\\dots$ \\\\\n\t25 & 141 & \\textbackslash{}\\textbackslash{}core\\textbackslash{}\\textbackslash{}event\\textbackslash{}\\textbackslash{}course\\_viewed & core & viewed & course & $\\dots$ \\\\\n\t26 & 63 & \\textbackslash{}\\textbackslash{}core\\textbackslash{}\\textbackslash{}event\\textbackslash{}\\textbackslash{}course\\_viewed & core & viewed & course & $\\dots$ \\\\\n\t27 & 63 & \\textbackslash{}\\textbackslash{}mod\\_scorm\\textbackslash{}\\textbackslash{}event\\textbackslash{}\\textbackslash{}course\\_module\\_viewed & mod\\_scorm & viewed & course\\_module & $\\dots$ \\\\\n\t28 & 63 & \\textbackslash{}\\textbackslash{}mod\\_scorm\\textbackslash{}\\textbackslash{}event\\textbackslash{}\\textbackslash{}course\\_module\\_viewed & mod\\_scorm & viewed & course\\_module & $\\dots$ \\\\\n\t29 & 63 & \\textbackslash{}\\textbackslash{}mod\\_scorm\\textbackslash{}\\textbackslash{}event\\textbackslash{}\\textbackslash{}sco\\_launched & mod\\_scorm & launched & sco & $\\dots$ \\\\\n\t30 & 48 & \\textbackslash{}\\textbackslash{}core\\textbackslash{}\\textbackslash{}event\\textbackslash{}\\textbackslash{}dashboard\\_viewed & core & viewed & dashboard & $\\dots$ \\\\\n\t$\\dots$ & $\\dots$ & $\\dots$ & $\\dots$ & $\\dots$ & $\\dots$ &  \\\\\n\\end{tabular}\n"
          },
          "metadata": {}
        }
      ],
      "execution_count": 132,
      "metadata": {
        "collapsed": true,
        "jupyter": {
          "source_hidden": false,
          "outputs_hidden": false
        },
        "nteract": {
          "transient": {
            "deleting": false
          }
        },
        "execution": {
          "iopub.status.busy": "2020-11-27T05:47:24.509Z",
          "iopub.execute_input": "2020-11-27T05:47:24.531Z",
          "iopub.status.idle": "2020-11-27T05:47:24.585Z"
        }
      }
    },
    {
      "cell_type": "code",
      "source": [
        "names(featureDataFrame)"
      ],
      "outputs": [
        {
          "output_type": "execute_result",
          "execution_count": 133,
          "data": {
            "text/plain": "11-element Array{String,1}:\n \"userid\"\n \"eventname\"\n \"component\"\n \"action\"\n \"target\"\n \"year\"\n \"month\"\n \"day\"\n \"hour\"\n \"minute\"\n \"second\""
          },
          "metadata": {}
        }
      ],
      "execution_count": 133,
      "metadata": {
        "collapsed": true,
        "jupyter": {
          "source_hidden": false,
          "outputs_hidden": false
        },
        "nteract": {
          "transient": {
            "deleting": false
          }
        },
        "execution": {
          "iopub.status.busy": "2020-11-27T05:47:26.764Z",
          "iopub.execute_input": "2020-11-27T05:47:26.786Z",
          "iopub.status.idle": "2020-11-27T05:47:26.843Z"
        }
      }
    },
    {
      "cell_type": "code",
      "source": [
        "#Exportando a formato CSV el nuevo conjunto de datos para el proceso de análisis de extracción de características\n",
        "CSV.write(\"data_giant_feature_engineering.csv\", featureDataFrame)"
      ],
      "outputs": [
        {
          "output_type": "execute_result",
          "execution_count": 134,
          "data": {
            "text/plain": "\"data_giant_feature_engineering.csv\""
          },
          "metadata": {}
        }
      ],
      "execution_count": 134,
      "metadata": {
        "collapsed": true,
        "jupyter": {
          "source_hidden": false,
          "outputs_hidden": false
        },
        "nteract": {
          "transient": {
            "deleting": false
          }
        },
        "execution": {
          "iopub.status.busy": "2020-11-27T05:47:28.177Z",
          "iopub.execute_input": "2020-11-27T05:47:28.200Z",
          "iopub.status.idle": "2020-11-27T05:47:28.326Z"
        }
      }
    },
    {
      "cell_type": "code",
      "source": [
        "#IDENTIFICANDO CATEGORIAS de la variable action\n",
        "actionID = unique(featureDataFrame[!,:action]);"
      ],
      "outputs": [],
      "execution_count": 135,
      "metadata": {
        "collapsed": true,
        "jupyter": {
          "source_hidden": false,
          "outputs_hidden": false
        },
        "nteract": {
          "transient": {
            "deleting": false
          }
        },
        "execution": {
          "iopub.status.busy": "2020-11-27T05:47:29.787Z",
          "iopub.execute_input": "2020-11-27T05:47:29.809Z",
          "iopub.status.idle": "2020-11-27T05:47:29.846Z"
        }
      }
    },
    {
      "cell_type": "code",
      "source": [
        "# Obteniendo los tipos de acciones que ejecutan los usuarios y asignándoles un identificador a cada acción\n",
        "featureDataFrame[!,:action]=replace(featureDataFrame[!,:action], Pair.(actionID, axes(actionID, 1))...);"
      ],
      "outputs": [],
      "execution_count": 136,
      "metadata": {
        "collapsed": true,
        "jupyter": {
          "source_hidden": false,
          "outputs_hidden": false
        },
        "nteract": {
          "transient": {
            "deleting": false
          }
        },
        "execution": {
          "iopub.status.busy": "2020-11-27T05:47:32.052Z",
          "iopub.execute_input": "2020-11-27T05:47:32.073Z",
          "iopub.status.idle": "2020-11-27T05:47:32.107Z"
        }
      }
    },
    {
      "cell_type": "code",
      "source": [
        "# Agrupando los usuarios de acuerdo a la acción realizada\n",
        "groupbyAction = groupby(featureDataFrame, :action);\n",
        "# Obteniendo la cantidad de acciones según su tipo\n",
        "actionDataFrameCount=combine(groupbyAction, :action => sum)"
      ],
      "outputs": [
        {
          "output_type": "execute_result",
          "execution_count": 137,
          "data": {
            "text/plain": "28×2 DataFrame\n│ Row │ action │ action_sum │\n│     │ \u001b[90mAny\u001b[39m    │ \u001b[90mInt64\u001b[39m      │\n├─────┼────────┼────────────┤\n│ 1   │ 1      │ 28578      │\n│ 2   │ 2      │ 1122       │\n│ 3   │ 3      │ 4293       │\n│ 4   │ 4      │ 9424       │\n│ 5   │ 5      │ 1510       │\n│ 6   │ 6      │ 1800       │\n│ 7   │ 7      │ 12628      │\n│ 8   │ 8      │ 3904       │\n│ 9   │ 9      │ 3033       │\n│ 10  │ 10     │ 390        │\n⋮\n│ 18  │ 18     │ 3546       │\n│ 19  │ 19     │ 2033       │\n│ 20  │ 20     │ 2120       │\n│ 21  │ 21     │ 777        │\n│ 22  │ 22     │ 110        │\n│ 23  │ 23     │ 805        │\n│ 24  │ 24     │ 384        │\n│ 25  │ 25     │ 600        │\n│ 26  │ 26     │ 52         │\n│ 27  │ 27     │ 81         │\n│ 28  │ 28     │ 28         │",
            "text/html": "<table class=\"data-frame\"><thead><tr><th></th><th>action</th><th>action_sum</th></tr><tr><th></th><th>Any</th><th>Int64</th></tr></thead><tbody><p>28 rows × 2 columns</p><tr><th>1</th><td>1</td><td>28578</td></tr><tr><th>2</th><td>2</td><td>1122</td></tr><tr><th>3</th><td>3</td><td>4293</td></tr><tr><th>4</th><td>4</td><td>9424</td></tr><tr><th>5</th><td>5</td><td>1510</td></tr><tr><th>6</th><td>6</td><td>1800</td></tr><tr><th>7</th><td>7</td><td>12628</td></tr><tr><th>8</th><td>8</td><td>3904</td></tr><tr><th>9</th><td>9</td><td>3033</td></tr><tr><th>10</th><td>10</td><td>390</td></tr><tr><th>11</th><td>11</td><td>7392</td></tr><tr><th>12</th><td>12</td><td>8400</td></tr><tr><th>13</th><td>13</td><td>22919</td></tr><tr><th>14</th><td>14</td><td>7560</td></tr><tr><th>15</th><td>15</td><td>2010</td></tr><tr><th>16</th><td>16</td><td>32</td></tr><tr><th>17</th><td>17</td><td>2278</td></tr><tr><th>18</th><td>18</td><td>3546</td></tr><tr><th>19</th><td>19</td><td>2033</td></tr><tr><th>20</th><td>20</td><td>2120</td></tr><tr><th>21</th><td>21</td><td>777</td></tr><tr><th>22</th><td>22</td><td>110</td></tr><tr><th>23</th><td>23</td><td>805</td></tr><tr><th>24</th><td>24</td><td>384</td></tr><tr><th>25</th><td>25</td><td>600</td></tr><tr><th>26</th><td>26</td><td>52</td></tr><tr><th>27</th><td>27</td><td>81</td></tr><tr><th>28</th><td>28</td><td>28</td></tr></tbody></table>",
            "text/latex": "\\begin{tabular}{r|cc}\n\t& action & action\\_sum\\\\\n\t\\hline\n\t& Any & Int64\\\\\n\t\\hline\n\t1 & 1 & 28578 \\\\\n\t2 & 2 & 1122 \\\\\n\t3 & 3 & 4293 \\\\\n\t4 & 4 & 9424 \\\\\n\t5 & 5 & 1510 \\\\\n\t6 & 6 & 1800 \\\\\n\t7 & 7 & 12628 \\\\\n\t8 & 8 & 3904 \\\\\n\t9 & 9 & 3033 \\\\\n\t10 & 10 & 390 \\\\\n\t11 & 11 & 7392 \\\\\n\t12 & 12 & 8400 \\\\\n\t13 & 13 & 22919 \\\\\n\t14 & 14 & 7560 \\\\\n\t15 & 15 & 2010 \\\\\n\t16 & 16 & 32 \\\\\n\t17 & 17 & 2278 \\\\\n\t18 & 18 & 3546 \\\\\n\t19 & 19 & 2033 \\\\\n\t20 & 20 & 2120 \\\\\n\t21 & 21 & 777 \\\\\n\t22 & 22 & 110 \\\\\n\t23 & 23 & 805 \\\\\n\t24 & 24 & 384 \\\\\n\t25 & 25 & 600 \\\\\n\t26 & 26 & 52 \\\\\n\t27 & 27 & 81 \\\\\n\t28 & 28 & 28 \\\\\n\\end{tabular}\n"
          },
          "metadata": {}
        }
      ],
      "execution_count": 137,
      "metadata": {
        "collapsed": true,
        "jupyter": {
          "source_hidden": false,
          "outputs_hidden": false
        },
        "nteract": {
          "transient": {
            "deleting": false
          }
        },
        "execution": {
          "iopub.status.busy": "2020-11-27T05:47:33.503Z",
          "iopub.execute_input": "2020-11-27T05:47:33.530Z",
          "iopub.status.idle": "2020-11-27T05:47:33.585Z"
        }
      }
    },
    {
      "cell_type": "code",
      "source": [
        "#Agregando el nombre de la acción al actionDataFrame\n",
        "insert!(actionDataFrameCount, 2, actionID, :action_name)"
      ],
      "outputs": [
        {
          "output_type": "stream",
          "name": "stderr",
          "text": [
            "┌ Warning: `insert!(df::DataFrame, col_ind::Int, item, name::Symbol; makeunique::Bool = false)` is deprecated, use `insertcols!(df, col_ind, name => item; makeunique = makeunique)` instead.\n",
            "│   caller = top-level scope at In[138]:1\n",
            "└ @ Core In[138]:1\n"
          ]
        },
        {
          "output_type": "execute_result",
          "execution_count": 138,
          "data": {
            "text/plain": "28×3 DataFrame\n│ Row │ action │ action_name │ action_sum │\n│     │ \u001b[90mAny\u001b[39m    │ \u001b[90mString\u001b[39m      │ \u001b[90mInt64\u001b[39m      │\n├─────┼────────┼─────────────┼────────────┤\n│ 1   │ 1      │ viewed      │ 28578      │\n│ 2   │ 2      │ failed      │ 1122       │\n│ 3   │ 3      │ loggedin    │ 4293       │\n│ 4   │ 4      │ launched    │ 9424       │\n│ 5   │ 5      │ started     │ 1510       │\n│ 6   │ 6      │ loggedout   │ 1800       │\n│ 7   │ 7      │ updated     │ 12628      │\n│ 8   │ 8      │ liked       │ 3904       │\n│ 9   │ 9      │ commented   │ 3033       │\n│ 10  │ 10     │ selected    │ 390        │\n⋮\n│ 18  │ 18     │ resumed     │ 3546       │\n│ 19  │ 19     │ uploaded    │ 2033       │\n│ 20  │ 20     │ unliked     │ 2120       │\n│ 21  │ 21     │ restarted   │ 777        │\n│ 22  │ 22     │ reset       │ 110        │\n│ 23  │ 23     │ assigned    │ 805        │\n│ 24  │ 24     │ deleted     │ 384        │\n│ 25  │ 25     │ leveledup   │ 600        │\n│ 26  │ 26     │ unassigned  │ 52         │\n│ 27  │ 27     │ searched    │ 81         │\n│ 28  │ 28     │ loggedinas  │ 28         │",
            "text/html": "<table class=\"data-frame\"><thead><tr><th></th><th>action</th><th>action_name</th><th>action_sum</th></tr><tr><th></th><th>Any</th><th>String</th><th>Int64</th></tr></thead><tbody><p>28 rows × 3 columns</p><tr><th>1</th><td>1</td><td>viewed</td><td>28578</td></tr><tr><th>2</th><td>2</td><td>failed</td><td>1122</td></tr><tr><th>3</th><td>3</td><td>loggedin</td><td>4293</td></tr><tr><th>4</th><td>4</td><td>launched</td><td>9424</td></tr><tr><th>5</th><td>5</td><td>started</td><td>1510</td></tr><tr><th>6</th><td>6</td><td>loggedout</td><td>1800</td></tr><tr><th>7</th><td>7</td><td>updated</td><td>12628</td></tr><tr><th>8</th><td>8</td><td>liked</td><td>3904</td></tr><tr><th>9</th><td>9</td><td>commented</td><td>3033</td></tr><tr><th>10</th><td>10</td><td>selected</td><td>390</td></tr><tr><th>11</th><td>11</td><td>graded</td><td>7392</td></tr><tr><th>12</th><td>12</td><td>submitted</td><td>8400</td></tr><tr><th>13</th><td>13</td><td>created</td><td>22919</td></tr><tr><th>14</th><td>14</td><td>Scored</td><td>7560</td></tr><tr><th>15</th><td>15</td><td>sent</td><td>2010</td></tr><tr><th>16</th><td>16</td><td>added</td><td>32</td></tr><tr><th>17</th><td>17</td><td>ended</td><td>2278</td></tr><tr><th>18</th><td>18</td><td>resumed</td><td>3546</td></tr><tr><th>19</th><td>19</td><td>uploaded</td><td>2033</td></tr><tr><th>20</th><td>20</td><td>unliked</td><td>2120</td></tr><tr><th>21</th><td>21</td><td>restarted</td><td>777</td></tr><tr><th>22</th><td>22</td><td>reset</td><td>110</td></tr><tr><th>23</th><td>23</td><td>assigned</td><td>805</td></tr><tr><th>24</th><td>24</td><td>deleted</td><td>384</td></tr><tr><th>25</th><td>25</td><td>leveledup</td><td>600</td></tr><tr><th>26</th><td>26</td><td>unassigned</td><td>52</td></tr><tr><th>27</th><td>27</td><td>searched</td><td>81</td></tr><tr><th>28</th><td>28</td><td>loggedinas</td><td>28</td></tr></tbody></table>",
            "text/latex": "\\begin{tabular}{r|ccc}\n\t& action & action\\_name & action\\_sum\\\\\n\t\\hline\n\t& Any & String & Int64\\\\\n\t\\hline\n\t1 & 1 & viewed & 28578 \\\\\n\t2 & 2 & failed & 1122 \\\\\n\t3 & 3 & loggedin & 4293 \\\\\n\t4 & 4 & launched & 9424 \\\\\n\t5 & 5 & started & 1510 \\\\\n\t6 & 6 & loggedout & 1800 \\\\\n\t7 & 7 & updated & 12628 \\\\\n\t8 & 8 & liked & 3904 \\\\\n\t9 & 9 & commented & 3033 \\\\\n\t10 & 10 & selected & 390 \\\\\n\t11 & 11 & graded & 7392 \\\\\n\t12 & 12 & submitted & 8400 \\\\\n\t13 & 13 & created & 22919 \\\\\n\t14 & 14 & Scored & 7560 \\\\\n\t15 & 15 & sent & 2010 \\\\\n\t16 & 16 & added & 32 \\\\\n\t17 & 17 & ended & 2278 \\\\\n\t18 & 18 & resumed & 3546 \\\\\n\t19 & 19 & uploaded & 2033 \\\\\n\t20 & 20 & unliked & 2120 \\\\\n\t21 & 21 & restarted & 777 \\\\\n\t22 & 22 & reset & 110 \\\\\n\t23 & 23 & assigned & 805 \\\\\n\t24 & 24 & deleted & 384 \\\\\n\t25 & 25 & leveledup & 600 \\\\\n\t26 & 26 & unassigned & 52 \\\\\n\t27 & 27 & searched & 81 \\\\\n\t28 & 28 & loggedinas & 28 \\\\\n\\end{tabular}\n"
          },
          "metadata": {}
        }
      ],
      "execution_count": 138,
      "metadata": {
        "collapsed": true,
        "jupyter": {
          "source_hidden": false,
          "outputs_hidden": false
        },
        "nteract": {
          "transient": {
            "deleting": false
          }
        },
        "execution": {
          "iopub.status.busy": "2020-11-27T05:47:38.908Z",
          "iopub.execute_input": "2020-11-27T05:47:38.933Z",
          "iopub.status.idle": "2020-11-27T05:47:38.999Z"
        }
      }
    },
    {
      "cell_type": "code",
      "source": [
        "#Organizando la matriz de frecuencia de los eventos por identificador de usuario\n",
        "actionDataFrameCount=sort!(actionDataFrameCount, [:action_sum], rev= true)"
      ],
      "outputs": [
        {
          "output_type": "execute_result",
          "execution_count": 139,
          "data": {
            "text/plain": "28×3 DataFrame\n│ Row │ action │ action_name │ action_sum │\n│     │ \u001b[90mAny\u001b[39m    │ \u001b[90mString\u001b[39m      │ \u001b[90mInt64\u001b[39m      │\n├─────┼────────┼─────────────┼────────────┤\n│ 1   │ 1      │ viewed      │ 28578      │\n│ 2   │ 13     │ created     │ 22919      │\n│ 3   │ 7      │ updated     │ 12628      │\n│ 4   │ 4      │ launched    │ 9424       │\n│ 5   │ 12     │ submitted   │ 8400       │\n│ 6   │ 14     │ Scored      │ 7560       │\n│ 7   │ 11     │ graded      │ 7392       │\n│ 8   │ 3      │ loggedin    │ 4293       │\n│ 9   │ 8      │ liked       │ 3904       │\n│ 10  │ 18     │ resumed     │ 3546       │\n⋮\n│ 18  │ 2      │ failed      │ 1122       │\n│ 19  │ 23     │ assigned    │ 805        │\n│ 20  │ 21     │ restarted   │ 777        │\n│ 21  │ 25     │ leveledup   │ 600        │\n│ 22  │ 10     │ selected    │ 390        │\n│ 23  │ 24     │ deleted     │ 384        │\n│ 24  │ 22     │ reset       │ 110        │\n│ 25  │ 27     │ searched    │ 81         │\n│ 26  │ 26     │ unassigned  │ 52         │\n│ 27  │ 16     │ added       │ 32         │\n│ 28  │ 28     │ loggedinas  │ 28         │",
            "text/html": "<table class=\"data-frame\"><thead><tr><th></th><th>action</th><th>action_name</th><th>action_sum</th></tr><tr><th></th><th>Any</th><th>String</th><th>Int64</th></tr></thead><tbody><p>28 rows × 3 columns</p><tr><th>1</th><td>1</td><td>viewed</td><td>28578</td></tr><tr><th>2</th><td>13</td><td>created</td><td>22919</td></tr><tr><th>3</th><td>7</td><td>updated</td><td>12628</td></tr><tr><th>4</th><td>4</td><td>launched</td><td>9424</td></tr><tr><th>5</th><td>12</td><td>submitted</td><td>8400</td></tr><tr><th>6</th><td>14</td><td>Scored</td><td>7560</td></tr><tr><th>7</th><td>11</td><td>graded</td><td>7392</td></tr><tr><th>8</th><td>3</td><td>loggedin</td><td>4293</td></tr><tr><th>9</th><td>8</td><td>liked</td><td>3904</td></tr><tr><th>10</th><td>18</td><td>resumed</td><td>3546</td></tr><tr><th>11</th><td>9</td><td>commented</td><td>3033</td></tr><tr><th>12</th><td>17</td><td>ended</td><td>2278</td></tr><tr><th>13</th><td>20</td><td>unliked</td><td>2120</td></tr><tr><th>14</th><td>19</td><td>uploaded</td><td>2033</td></tr><tr><th>15</th><td>15</td><td>sent</td><td>2010</td></tr><tr><th>16</th><td>6</td><td>loggedout</td><td>1800</td></tr><tr><th>17</th><td>5</td><td>started</td><td>1510</td></tr><tr><th>18</th><td>2</td><td>failed</td><td>1122</td></tr><tr><th>19</th><td>23</td><td>assigned</td><td>805</td></tr><tr><th>20</th><td>21</td><td>restarted</td><td>777</td></tr><tr><th>21</th><td>25</td><td>leveledup</td><td>600</td></tr><tr><th>22</th><td>10</td><td>selected</td><td>390</td></tr><tr><th>23</th><td>24</td><td>deleted</td><td>384</td></tr><tr><th>24</th><td>22</td><td>reset</td><td>110</td></tr><tr><th>25</th><td>27</td><td>searched</td><td>81</td></tr><tr><th>26</th><td>26</td><td>unassigned</td><td>52</td></tr><tr><th>27</th><td>16</td><td>added</td><td>32</td></tr><tr><th>28</th><td>28</td><td>loggedinas</td><td>28</td></tr></tbody></table>",
            "text/latex": "\\begin{tabular}{r|ccc}\n\t& action & action\\_name & action\\_sum\\\\\n\t\\hline\n\t& Any & String & Int64\\\\\n\t\\hline\n\t1 & 1 & viewed & 28578 \\\\\n\t2 & 13 & created & 22919 \\\\\n\t3 & 7 & updated & 12628 \\\\\n\t4 & 4 & launched & 9424 \\\\\n\t5 & 12 & submitted & 8400 \\\\\n\t6 & 14 & Scored & 7560 \\\\\n\t7 & 11 & graded & 7392 \\\\\n\t8 & 3 & loggedin & 4293 \\\\\n\t9 & 8 & liked & 3904 \\\\\n\t10 & 18 & resumed & 3546 \\\\\n\t11 & 9 & commented & 3033 \\\\\n\t12 & 17 & ended & 2278 \\\\\n\t13 & 20 & unliked & 2120 \\\\\n\t14 & 19 & uploaded & 2033 \\\\\n\t15 & 15 & sent & 2010 \\\\\n\t16 & 6 & loggedout & 1800 \\\\\n\t17 & 5 & started & 1510 \\\\\n\t18 & 2 & failed & 1122 \\\\\n\t19 & 23 & assigned & 805 \\\\\n\t20 & 21 & restarted & 777 \\\\\n\t21 & 25 & leveledup & 600 \\\\\n\t22 & 10 & selected & 390 \\\\\n\t23 & 24 & deleted & 384 \\\\\n\t24 & 22 & reset & 110 \\\\\n\t25 & 27 & searched & 81 \\\\\n\t26 & 26 & unassigned & 52 \\\\\n\t27 & 16 & added & 32 \\\\\n\t28 & 28 & loggedinas & 28 \\\\\n\\end{tabular}\n"
          },
          "metadata": {}
        }
      ],
      "execution_count": 139,
      "metadata": {
        "collapsed": true,
        "jupyter": {
          "source_hidden": false,
          "outputs_hidden": false
        },
        "nteract": {
          "transient": {
            "deleting": false
          }
        },
        "execution": {
          "iopub.status.busy": "2020-11-27T05:47:41.164Z",
          "iopub.execute_input": "2020-11-27T05:47:41.190Z",
          "iopub.status.idle": "2020-11-27T05:47:41.241Z"
        }
      }
    },
    {
      "cell_type": "code",
      "source": [
        "x=actionDataFrameCount[1:10,:action_name]\n",
        "y=actionDataFrameCount[1:10,:action_sum]\n",
        "plot(x, y, seriestype = :bar, size=(700,300), title = \"Actions most performed by users\", legend=false, orientation=:h, yflip=true)"
      ],
      "outputs": [
        {
          "output_type": "execute_result",
          "execution_count": 190,
          "data": {
            "image/svg+xml": "<?xml version=\"1.0\" encoding=\"utf-8\"?>\n<svg xmlns=\"http://www.w3.org/2000/svg\" xmlns:xlink=\"http://www.w3.org/1999/xlink\" width=\"700\" height=\"300\" viewBox=\"0 0 2800 1200\">\n<defs>\n  <clipPath id=\"clip4800\">\n    <rect x=\"0\" y=\"0\" width=\"2800\" height=\"1200\"/>\n  </clipPath>\n</defs>\n<path clip-path=\"url(#clip4800)\" d=\"\nM0 1200 L2800 1200 L2800 0 L0 0  Z\n  \" fill=\"#ffffff\" fill-rule=\"evenodd\" fill-opacity=\"1\"/>\n<defs>\n  <clipPath id=\"clip4801\">\n    <rect x=\"560\" y=\"0\" width=\"1961\" height=\"1200\"/>\n  </clipPath>\n</defs>\n<path clip-path=\"url(#clip4800)\" d=\"\nM299.652 1103.45 L2752.76 1103.45 L2752.76 100.717 L299.652 100.717  Z\n  \" fill=\"#ffffff\" fill-rule=\"evenodd\" fill-opacity=\"1\"/>\n<defs>\n  <clipPath id=\"clip4802\">\n    <rect x=\"299\" y=\"100\" width=\"2454\" height=\"1004\"/>\n  </clipPath>\n</defs>\n<polyline clip-path=\"url(#clip4802)\" style=\"stroke:#000000; stroke-width:2; stroke-opacity:0.1; fill:none\" points=\"\n  369.079,100.717 369.079,1103.45 \n  \"/>\n<polyline clip-path=\"url(#clip4802)\" style=\"stroke:#000000; stroke-width:2; stroke-opacity:0.1; fill:none\" points=\"\n  773.98,100.717 773.98,1103.45 \n  \"/>\n<polyline clip-path=\"url(#clip4802)\" style=\"stroke:#000000; stroke-width:2; stroke-opacity:0.1; fill:none\" points=\"\n  1178.88,100.717 1178.88,1103.45 \n  \"/>\n<polyline clip-path=\"url(#clip4802)\" style=\"stroke:#000000; stroke-width:2; stroke-opacity:0.1; fill:none\" points=\"\n  1583.78,100.717 1583.78,1103.45 \n  \"/>\n<polyline clip-path=\"url(#clip4802)\" style=\"stroke:#000000; stroke-width:2; stroke-opacity:0.1; fill:none\" points=\"\n  1988.68,100.717 1988.68,1103.45 \n  \"/>\n<polyline clip-path=\"url(#clip4802)\" style=\"stroke:#000000; stroke-width:2; stroke-opacity:0.1; fill:none\" points=\"\n  2393.58,100.717 2393.58,1103.45 \n  \"/>\n<polyline clip-path=\"url(#clip4802)\" style=\"stroke:#000000; stroke-width:2; stroke-opacity:0.1; fill:none\" points=\"\n  299.652,192.295 2752.76,192.295 \n  \"/>\n<polyline clip-path=\"url(#clip4802)\" style=\"stroke:#000000; stroke-width:2; stroke-opacity:0.1; fill:none\" points=\"\n  299.652,283.359 2752.76,283.359 \n  \"/>\n<polyline clip-path=\"url(#clip4802)\" style=\"stroke:#000000; stroke-width:2; stroke-opacity:0.1; fill:none\" points=\"\n  299.652,374.423 2752.76,374.423 \n  \"/>\n<polyline clip-path=\"url(#clip4802)\" style=\"stroke:#000000; stroke-width:2; stroke-opacity:0.1; fill:none\" points=\"\n  299.652,465.488 2752.76,465.488 \n  \"/>\n<polyline clip-path=\"url(#clip4802)\" style=\"stroke:#000000; stroke-width:2; stroke-opacity:0.1; fill:none\" points=\"\n  299.652,556.552 2752.76,556.552 \n  \"/>\n<polyline clip-path=\"url(#clip4802)\" style=\"stroke:#000000; stroke-width:2; stroke-opacity:0.1; fill:none\" points=\"\n  299.652,647.616 2752.76,647.616 \n  \"/>\n<polyline clip-path=\"url(#clip4802)\" style=\"stroke:#000000; stroke-width:2; stroke-opacity:0.1; fill:none\" points=\"\n  299.652,738.68 2752.76,738.68 \n  \"/>\n<polyline clip-path=\"url(#clip4802)\" style=\"stroke:#000000; stroke-width:2; stroke-opacity:0.1; fill:none\" points=\"\n  299.652,829.745 2752.76,829.745 \n  \"/>\n<polyline clip-path=\"url(#clip4802)\" style=\"stroke:#000000; stroke-width:2; stroke-opacity:0.1; fill:none\" points=\"\n  299.652,920.809 2752.76,920.809 \n  \"/>\n<polyline clip-path=\"url(#clip4802)\" style=\"stroke:#000000; stroke-width:2; stroke-opacity:0.1; fill:none\" points=\"\n  299.652,1011.87 2752.76,1011.87 \n  \"/>\n<polyline clip-path=\"url(#clip4800)\" style=\"stroke:#000000; stroke-width:4; stroke-opacity:1; fill:none\" points=\"\n  299.652,1103.45 2752.76,1103.45 \n  \"/>\n<polyline clip-path=\"url(#clip4800)\" style=\"stroke:#000000; stroke-width:4; stroke-opacity:1; fill:none\" points=\"\n  299.652,100.717 299.652,1103.45 \n  \"/>\n<polyline clip-path=\"url(#clip4800)\" style=\"stroke:#000000; stroke-width:4; stroke-opacity:1; fill:none\" points=\"\n  369.079,1103.45 369.079,1091.42 \n  \"/>\n<polyline clip-path=\"url(#clip4800)\" style=\"stroke:#000000; stroke-width:4; stroke-opacity:1; fill:none\" points=\"\n  773.98,1103.45 773.98,1091.42 \n  \"/>\n<polyline clip-path=\"url(#clip4800)\" style=\"stroke:#000000; stroke-width:4; stroke-opacity:1; fill:none\" points=\"\n  1178.88,1103.45 1178.88,1091.42 \n  \"/>\n<polyline clip-path=\"url(#clip4800)\" style=\"stroke:#000000; stroke-width:4; stroke-opacity:1; fill:none\" points=\"\n  1583.78,1103.45 1583.78,1091.42 \n  \"/>\n<polyline clip-path=\"url(#clip4800)\" style=\"stroke:#000000; stroke-width:4; stroke-opacity:1; fill:none\" points=\"\n  1988.68,1103.45 1988.68,1091.42 \n  \"/>\n<polyline clip-path=\"url(#clip4800)\" style=\"stroke:#000000; stroke-width:4; stroke-opacity:1; fill:none\" points=\"\n  2393.58,1103.45 2393.58,1091.42 \n  \"/>\n<polyline clip-path=\"url(#clip4800)\" style=\"stroke:#000000; stroke-width:4; stroke-opacity:1; fill:none\" points=\"\n  299.652,192.295 329.089,192.295 \n  \"/>\n<polyline clip-path=\"url(#clip4800)\" style=\"stroke:#000000; stroke-width:4; stroke-opacity:1; fill:none\" points=\"\n  299.652,283.359 329.089,283.359 \n  \"/>\n<polyline clip-path=\"url(#clip4800)\" style=\"stroke:#000000; stroke-width:4; stroke-opacity:1; fill:none\" points=\"\n  299.652,374.423 329.089,374.423 \n  \"/>\n<polyline clip-path=\"url(#clip4800)\" style=\"stroke:#000000; stroke-width:4; stroke-opacity:1; fill:none\" points=\"\n  299.652,465.488 329.089,465.488 \n  \"/>\n<polyline clip-path=\"url(#clip4800)\" style=\"stroke:#000000; stroke-width:4; stroke-opacity:1; fill:none\" points=\"\n  299.652,556.552 329.089,556.552 \n  \"/>\n<polyline clip-path=\"url(#clip4800)\" style=\"stroke:#000000; stroke-width:4; stroke-opacity:1; fill:none\" points=\"\n  299.652,647.616 329.089,647.616 \n  \"/>\n<polyline clip-path=\"url(#clip4800)\" style=\"stroke:#000000; stroke-width:4; stroke-opacity:1; fill:none\" points=\"\n  299.652,738.68 329.089,738.68 \n  \"/>\n<polyline clip-path=\"url(#clip4800)\" style=\"stroke:#000000; stroke-width:4; stroke-opacity:1; fill:none\" points=\"\n  299.652,829.745 329.089,829.745 \n  \"/>\n<polyline clip-path=\"url(#clip4800)\" style=\"stroke:#000000; stroke-width:4; stroke-opacity:1; fill:none\" points=\"\n  299.652,920.809 329.089,920.809 \n  \"/>\n<polyline clip-path=\"url(#clip4800)\" style=\"stroke:#000000; stroke-width:4; stroke-opacity:1; fill:none\" points=\"\n  299.652,1011.87 329.089,1011.87 \n  \"/>\n<g clip-path=\"url(#clip4800)\">\n<text style=\"fill:#000000; fill-opacity:1; font-family:Arial,Helvetica Neue,Helvetica,sans-serif; font-size:48px; text-anchor:middle;\" transform=\"rotate(0, 369.079, 1159.45)\" x=\"369.079\" y=\"1159.45\">0</text>\n</g>\n<g clip-path=\"url(#clip4800)\">\n<text style=\"fill:#000000; fill-opacity:1; font-family:Arial,Helvetica Neue,Helvetica,sans-serif; font-size:48px; text-anchor:start;\" transform=\"rotate(0, 688.837, 1180.46)\" x=\"688.837\" y=\"1180.46\">5.0×10</text>\n</g>\n<g clip-path=\"url(#clip4800)\">\n<text style=\"fill:#000000; fill-opacity:1; font-family:Arial,Helvetica Neue,Helvetica,sans-serif; font-size:38px; text-anchor:start;\" transform=\"rotate(0, 837.378, 1153.05)\" x=\"837.378\" y=\"1153.05\">3</text>\n</g>\n<g clip-path=\"url(#clip4800)\">\n<text style=\"fill:#000000; fill-opacity:1; font-family:Arial,Helvetica Neue,Helvetica,sans-serif; font-size:48px; text-anchor:start;\" transform=\"rotate(0, 1093.74, 1180.46)\" x=\"1093.74\" y=\"1180.46\">1.0×10</text>\n</g>\n<g clip-path=\"url(#clip4800)\">\n<text style=\"fill:#000000; fill-opacity:1; font-family:Arial,Helvetica Neue,Helvetica,sans-serif; font-size:38px; text-anchor:start;\" transform=\"rotate(0, 1242.28, 1153.05)\" x=\"1242.28\" y=\"1153.05\">4</text>\n</g>\n<g clip-path=\"url(#clip4800)\">\n<text style=\"fill:#000000; fill-opacity:1; font-family:Arial,Helvetica Neue,Helvetica,sans-serif; font-size:48px; text-anchor:start;\" transform=\"rotate(0, 1498.64, 1180.46)\" x=\"1498.64\" y=\"1180.46\">1.5×10</text>\n</g>\n<g clip-path=\"url(#clip4800)\">\n<text style=\"fill:#000000; fill-opacity:1; font-family:Arial,Helvetica Neue,Helvetica,sans-serif; font-size:38px; text-anchor:start;\" transform=\"rotate(0, 1647.18, 1153.05)\" x=\"1647.18\" y=\"1153.05\">4</text>\n</g>\n<g clip-path=\"url(#clip4800)\">\n<text style=\"fill:#000000; fill-opacity:1; font-family:Arial,Helvetica Neue,Helvetica,sans-serif; font-size:48px; text-anchor:start;\" transform=\"rotate(0, 1903.54, 1180.46)\" x=\"1903.54\" y=\"1180.46\">2.0×10</text>\n</g>\n<g clip-path=\"url(#clip4800)\">\n<text style=\"fill:#000000; fill-opacity:1; font-family:Arial,Helvetica Neue,Helvetica,sans-serif; font-size:38px; text-anchor:start;\" transform=\"rotate(0, 2052.08, 1153.05)\" x=\"2052.08\" y=\"1153.05\">4</text>\n</g>\n<g clip-path=\"url(#clip4800)\">\n<text style=\"fill:#000000; fill-opacity:1; font-family:Arial,Helvetica Neue,Helvetica,sans-serif; font-size:48px; text-anchor:start;\" transform=\"rotate(0, 2308.44, 1180.46)\" x=\"2308.44\" y=\"1180.46\">2.5×10</text>\n</g>\n<g clip-path=\"url(#clip4800)\">\n<text style=\"fill:#000000; fill-opacity:1; font-family:Arial,Helvetica Neue,Helvetica,sans-serif; font-size:38px; text-anchor:start;\" transform=\"rotate(0, 2456.98, 1153.05)\" x=\"2456.98\" y=\"1153.05\">4</text>\n</g>\n<g clip-path=\"url(#clip4800)\">\n<text style=\"fill:#000000; fill-opacity:1; font-family:Arial,Helvetica Neue,Helvetica,sans-serif; font-size:48px; text-anchor:end;\" transform=\"rotate(0, 271.652, 209.795)\" x=\"271.652\" y=\"209.795\">viewed</text>\n</g>\n<g clip-path=\"url(#clip4800)\">\n<text style=\"fill:#000000; fill-opacity:1; font-family:Arial,Helvetica Neue,Helvetica,sans-serif; font-size:48px; text-anchor:end;\" transform=\"rotate(0, 271.652, 300.859)\" x=\"271.652\" y=\"300.859\">created</text>\n</g>\n<g clip-path=\"url(#clip4800)\">\n<text style=\"fill:#000000; fill-opacity:1; font-family:Arial,Helvetica Neue,Helvetica,sans-serif; font-size:48px; text-anchor:end;\" transform=\"rotate(0, 271.652, 391.923)\" x=\"271.652\" y=\"391.923\">updated</text>\n</g>\n<g clip-path=\"url(#clip4800)\">\n<text style=\"fill:#000000; fill-opacity:1; font-family:Arial,Helvetica Neue,Helvetica,sans-serif; font-size:48px; text-anchor:end;\" transform=\"rotate(0, 271.652, 482.988)\" x=\"271.652\" y=\"482.988\">launched</text>\n</g>\n<g clip-path=\"url(#clip4800)\">\n<text style=\"fill:#000000; fill-opacity:1; font-family:Arial,Helvetica Neue,Helvetica,sans-serif; font-size:48px; text-anchor:end;\" transform=\"rotate(0, 271.652, 574.052)\" x=\"271.652\" y=\"574.052\">submitted</text>\n</g>\n<g clip-path=\"url(#clip4800)\">\n<text style=\"fill:#000000; fill-opacity:1; font-family:Arial,Helvetica Neue,Helvetica,sans-serif; font-size:48px; text-anchor:end;\" transform=\"rotate(0, 271.652, 665.116)\" x=\"271.652\" y=\"665.116\">Scored</text>\n</g>\n<g clip-path=\"url(#clip4800)\">\n<text style=\"fill:#000000; fill-opacity:1; font-family:Arial,Helvetica Neue,Helvetica,sans-serif; font-size:48px; text-anchor:end;\" transform=\"rotate(0, 271.652, 756.18)\" x=\"271.652\" y=\"756.18\">graded</text>\n</g>\n<g clip-path=\"url(#clip4800)\">\n<text style=\"fill:#000000; fill-opacity:1; font-family:Arial,Helvetica Neue,Helvetica,sans-serif; font-size:48px; text-anchor:end;\" transform=\"rotate(0, 271.652, 847.245)\" x=\"271.652\" y=\"847.245\">loggedin</text>\n</g>\n<g clip-path=\"url(#clip4800)\">\n<text style=\"fill:#000000; fill-opacity:1; font-family:Arial,Helvetica Neue,Helvetica,sans-serif; font-size:48px; text-anchor:end;\" transform=\"rotate(0, 271.652, 938.309)\" x=\"271.652\" y=\"938.309\">liked</text>\n</g>\n<g clip-path=\"url(#clip4800)\">\n<text style=\"fill:#000000; fill-opacity:1; font-family:Arial,Helvetica Neue,Helvetica,sans-serif; font-size:48px; text-anchor:end;\" transform=\"rotate(0, 271.652, 1029.37)\" x=\"271.652\" y=\"1029.37\">resumed</text>\n</g>\n<g clip-path=\"url(#clip4800)\">\n<text style=\"fill:#000000; fill-opacity:1; font-family:Arial,Helvetica Neue,Helvetica,sans-serif; font-size:84px; text-anchor:middle;\" transform=\"rotate(0, 1526.2, 73.2)\" x=\"1526.2\" y=\"73.2\">Actions most performed by users</text>\n</g>\n<path clip-path=\"url(#clip4802)\" d=\"\nM2683.33 155.869 L369.079 155.869 L369.079 228.72 L2683.33 228.72 L2683.33 155.869 L2683.33 155.869  Z\n  \" fill=\"#009af9\" fill-rule=\"evenodd\" fill-opacity=\"1\"/>\n<polyline clip-path=\"url(#clip4802)\" style=\"stroke:#000000; stroke-width:4; stroke-opacity:1; fill:none\" points=\"\n  2683.33,155.869 369.079,155.869 369.079,228.72 2683.33,228.72 2683.33,155.869 \n  \"/>\n<path clip-path=\"url(#clip4802)\" d=\"\nM2225.06 246.933 L369.079 246.933 L369.079 319.785 L2225.06 319.785 L2225.06 246.933 L2225.06 246.933  Z\n  \" fill=\"#009af9\" fill-rule=\"evenodd\" fill-opacity=\"1\"/>\n<polyline clip-path=\"url(#clip4802)\" style=\"stroke:#000000; stroke-width:4; stroke-opacity:1; fill:none\" points=\"\n  2225.06,246.933 369.079,246.933 369.079,319.785 2225.06,319.785 2225.06,246.933 \n  \"/>\n<path clip-path=\"url(#clip4802)\" d=\"\nM1391.7 337.998 L369.079 337.998 L369.079 410.849 L1391.7 410.849 L1391.7 337.998 L1391.7 337.998  Z\n  \" fill=\"#009af9\" fill-rule=\"evenodd\" fill-opacity=\"1\"/>\n<polyline clip-path=\"url(#clip4802)\" style=\"stroke:#000000; stroke-width:4; stroke-opacity:1; fill:none\" points=\"\n  1391.7,337.998 369.079,337.998 369.079,410.849 1391.7,410.849 1391.7,337.998 \n  \"/>\n<path clip-path=\"url(#clip4802)\" d=\"\nM1132.24 429.062 L369.079 429.062 L369.079 501.913 L1132.24 501.913 L1132.24 429.062 L1132.24 429.062  Z\n  \" fill=\"#009af9\" fill-rule=\"evenodd\" fill-opacity=\"1\"/>\n<polyline clip-path=\"url(#clip4802)\" style=\"stroke:#000000; stroke-width:4; stroke-opacity:1; fill:none\" points=\"\n  1132.24,429.062 369.079,429.062 369.079,501.913 1132.24,501.913 1132.24,429.062 \n  \"/>\n<path clip-path=\"url(#clip4802)\" d=\"\nM1049.31 520.126 L369.079 520.126 L369.079 592.977 L1049.31 592.977 L1049.31 520.126 L1049.31 520.126  Z\n  \" fill=\"#009af9\" fill-rule=\"evenodd\" fill-opacity=\"1\"/>\n<polyline clip-path=\"url(#clip4802)\" style=\"stroke:#000000; stroke-width:4; stroke-opacity:1; fill:none\" points=\"\n  1049.31,520.126 369.079,520.126 369.079,592.977 1049.31,592.977 1049.31,520.126 \n  \"/>\n<path clip-path=\"url(#clip4802)\" d=\"\nM981.289 611.19 L369.079 611.19 L369.079 684.042 L981.289 684.042 L981.289 611.19 L981.289 611.19  Z\n  \" fill=\"#009af9\" fill-rule=\"evenodd\" fill-opacity=\"1\"/>\n<polyline clip-path=\"url(#clip4802)\" style=\"stroke:#000000; stroke-width:4; stroke-opacity:1; fill:none\" points=\"\n  981.289,611.19 369.079,611.19 369.079,684.042 981.289,684.042 981.289,611.19 \n  \"/>\n<path clip-path=\"url(#clip4802)\" d=\"\nM967.684 702.255 L369.079 702.255 L369.079 775.106 L967.684 775.106 L967.684 702.255 L967.684 702.255  Z\n  \" fill=\"#009af9\" fill-rule=\"evenodd\" fill-opacity=\"1\"/>\n<polyline clip-path=\"url(#clip4802)\" style=\"stroke:#000000; stroke-width:4; stroke-opacity:1; fill:none\" points=\"\n  967.684,702.255 369.079,702.255 369.079,775.106 967.684,775.106 967.684,702.255 \n  \"/>\n<path clip-path=\"url(#clip4802)\" d=\"\nM716.727 793.319 L369.079 793.319 L369.079 866.17 L716.727 866.17 L716.727 793.319 L716.727 793.319  Z\n  \" fill=\"#009af9\" fill-rule=\"evenodd\" fill-opacity=\"1\"/>\n<polyline clip-path=\"url(#clip4802)\" style=\"stroke:#000000; stroke-width:4; stroke-opacity:1; fill:none\" points=\"\n  716.727,793.319 369.079,793.319 369.079,866.17 716.727,866.17 716.727,793.319 \n  \"/>\n<path clip-path=\"url(#clip4802)\" d=\"\nM685.226 884.383 L369.079 884.383 L369.079 957.234 L685.226 957.234 L685.226 884.383 L685.226 884.383  Z\n  \" fill=\"#009af9\" fill-rule=\"evenodd\" fill-opacity=\"1\"/>\n<polyline clip-path=\"url(#clip4802)\" style=\"stroke:#000000; stroke-width:4; stroke-opacity:1; fill:none\" points=\"\n  685.226,884.383 369.079,884.383 369.079,957.234 685.226,957.234 685.226,884.383 \n  \"/>\n<path clip-path=\"url(#clip4802)\" d=\"\nM656.235 975.447 L369.079 975.447 L369.079 1048.3 L656.235 1048.3 L656.235 975.447 L656.235 975.447  Z\n  \" fill=\"#009af9\" fill-rule=\"evenodd\" fill-opacity=\"1\"/>\n<polyline clip-path=\"url(#clip4802)\" style=\"stroke:#000000; stroke-width:4; stroke-opacity:1; fill:none\" points=\"\n  656.235,975.447 369.079,975.447 369.079,1048.3 656.235,1048.3 656.235,975.447 \n  \"/>\n</svg>\n"
          },
          "metadata": {}
        }
      ],
      "execution_count": 190,
      "metadata": {
        "collapsed": true,
        "jupyter": {
          "source_hidden": false,
          "outputs_hidden": false
        },
        "nteract": {
          "transient": {
            "deleting": false
          }
        },
        "execution": {
          "iopub.status.busy": "2020-11-27T06:09:35.469Z",
          "iopub.execute_input": "2020-11-27T06:09:35.497Z",
          "iopub.status.idle": "2020-11-27T06:09:35.564Z"
        }
      }
    },
    {
      "cell_type": "code",
      "source": [
        "#Convirtiendo variables en tipo String del feature Data Frame\n",
        "featureDataFrame[!,[:year, :month, :day, :hour, :minute, :second]]=convert(Array{String}, featureDataFrame[!,[:year, :month, :day, :hour, :minute, :second]])"
      ],
      "outputs": [
        {
          "output_type": "execute_result",
          "execution_count": 141,
          "data": {
            "text/plain": "40674×6 Array{String,2}:\n \"2020\"  \"08\"  \"12\"  \"19\"  \"16\"  \"16\"\n \"2020\"  \"08\"  \"12\"  \"20\"  \"19\"  \"45\"\n \"2020\"  \"08\"  \"12\"  \"20\"  \"20\"  \"23\"\n \"2020\"  \"08\"  \"12\"  \"20\"  \"20\"  \"23\"\n \"2020\"  \"08\"  \"12\"  \"20\"  \"20\"  \"27\"\n \"2020\"  \"08\"  \"12\"  \"20\"  \"20\"  \"30\"\n \"2020\"  \"08\"  \"12\"  \"20\"  \"22\"  \"53\"\n \"2020\"  \"08\"  \"12\"  \"20\"  \"24\"  \"24\"\n \"2020\"  \"08\"  \"12\"  \"20\"  \"39\"  \"07\"\n \"2020\"  \"08\"  \"12\"  \"20\"  \"39\"  \"07\"\n \"2020\"  \"08\"  \"12\"  \"20\"  \"39\"  \"19\"\n \"2020\"  \"08\"  \"12\"  \"20\"  \"39\"  \"20\"\n \"2020\"  \"08\"  \"12\"  \"20\"  \"39\"  \"21\"\n ⋮                               ⋮\n \"2020\"  \"11\"  \"02\"  \"01\"  \"53\"  \"29\"\n \"2020\"  \"11\"  \"02\"  \"01\"  \"53\"  \"46\"\n \"2020\"  \"11\"  \"02\"  \"01\"  \"53\"  \"54\"\n \"2020\"  \"11\"  \"02\"  \"01\"  \"54\"  \"09\"\n \"2020\"  \"11\"  \"02\"  \"16\"  \"06\"  \"27\"\n \"2020\"  \"11\"  \"02\"  \"16\"  \"06\"  \"31\"\n \"2020\"  \"11\"  \"02\"  \"16\"  \"25\"  \"41\"\n \"2020\"  \"11\"  \"02\"  \"16\"  \"25\"  \"49\"\n \"2020\"  \"11\"  \"02\"  \"16\"  \"25\"  \"52\"\n \"2020\"  \"11\"  \"02\"  \"16\"  \"25\"  \"55\"\n \"2020\"  \"11\"  \"02\"  \"16\"  \"25\"  \"55\"\n \"2020\"  \"11\"  \"02\"  \"16\"  \"26\"  \"07\""
          },
          "metadata": {}
        }
      ],
      "execution_count": 141,
      "metadata": {
        "collapsed": true,
        "jupyter": {
          "source_hidden": false,
          "outputs_hidden": false
        },
        "nteract": {
          "transient": {
            "deleting": false
          }
        },
        "execution": {
          "iopub.status.busy": "2020-11-27T05:47:47.171Z",
          "iopub.execute_input": "2020-11-27T05:47:47.193Z",
          "iopub.status.idle": "2020-11-27T05:47:47.244Z"
        }
      }
    },
    {
      "cell_type": "code",
      "source": [
        "# Agrupando los usuarios de acuerdo a la acción realizada\n",
        "groupbyLogin = groupby(featureDataFrame, [:month, :day, :action]);"
      ],
      "outputs": [],
      "execution_count": 142,
      "metadata": {
        "collapsed": true,
        "jupyter": {
          "source_hidden": false,
          "outputs_hidden": false
        },
        "nteract": {
          "transient": {
            "deleting": false
          }
        },
        "execution": {
          "iopub.status.busy": "2020-11-27T05:47:51.051Z",
          "iopub.execute_input": "2020-11-27T05:47:51.072Z",
          "iopub.status.idle": "2020-11-27T05:47:51.110Z"
        }
      }
    },
    {
      "cell_type": "code",
      "source": [
        "# Obteniendo la cantidad de acciones según su tipo\n",
        "loginDataFrameCount=combine(groupbyLogin, :action => sum);"
      ],
      "outputs": [],
      "execution_count": 143,
      "metadata": {
        "collapsed": true,
        "jupyter": {
          "source_hidden": false,
          "outputs_hidden": false
        },
        "nteract": {
          "transient": {
            "deleting": false
          }
        },
        "execution": {
          "iopub.status.busy": "2020-11-27T05:47:52.433Z",
          "iopub.execute_input": "2020-11-27T05:47:52.452Z",
          "iopub.status.idle": "2020-11-27T05:47:52.485Z"
        }
      }
    },
    {
      "cell_type": "code",
      "source": [
        "groupbyLoginAction = groupby(loginDataFrameCount, :action);"
      ],
      "outputs": [],
      "execution_count": 144,
      "metadata": {
        "collapsed": true,
        "jupyter": {
          "source_hidden": false,
          "outputs_hidden": false
        },
        "nteract": {
          "transient": {
            "deleting": false
          }
        },
        "execution": {
          "iopub.status.busy": "2020-11-27T05:47:53.827Z",
          "iopub.execute_input": "2020-11-27T05:47:53.848Z",
          "iopub.status.idle": "2020-11-27T05:47:53.883Z"
        }
      }
    },
    {
      "cell_type": "code",
      "source": [
        "names(featureDataFrame)"
      ],
      "outputs": [
        {
          "output_type": "execute_result",
          "execution_count": 281,
          "data": {
            "text/plain": "11-element Array{String,1}:\n \"userid\"\n \"eventname\"\n \"component\"\n \"action\"\n \"target\"\n \"year\"\n \"month\"\n \"day\"\n \"hour\"\n \"minute\"\n \"second\""
          },
          "metadata": {}
        }
      ],
      "execution_count": 281,
      "metadata": {
        "collapsed": true,
        "jupyter": {
          "source_hidden": false,
          "outputs_hidden": false
        },
        "nteract": {
          "transient": {
            "deleting": false
          }
        },
        "execution": {
          "iopub.status.busy": "2020-11-27T07:13:45.194Z",
          "iopub.execute_input": "2020-11-27T07:13:45.224Z",
          "iopub.status.idle": "2020-11-27T07:13:45.287Z"
        }
      }
    },
    {
      "cell_type": "code",
      "source": [
        "groupbyLoginAction[3]\n"
      ],
      "outputs": [
        {
          "output_type": "execute_result",
          "execution_count": 145,
          "data": {
            "text/plain": "82×4 SubDataFrame\n│ Row │ month  │ day    │ action │ action_sum │\n│     │ \u001b[90mString\u001b[39m │ \u001b[90mString\u001b[39m │ \u001b[90mAny\u001b[39m    │ \u001b[90mInt64\u001b[39m      │\n├─────┼────────┼────────┼────────┼────────────┤\n│ 1   │ 08     │ 12     │ 3      │ 30         │\n│ 2   │ 08     │ 13     │ 3      │ 84         │\n│ 3   │ 08     │ 14     │ 3      │ 120        │\n│ 4   │ 08     │ 15     │ 3      │ 54         │\n│ 5   │ 08     │ 16     │ 3      │ 63         │\n│ 6   │ 08     │ 17     │ 3      │ 42         │\n│ 7   │ 08     │ 18     │ 3      │ 117        │\n│ 8   │ 08     │ 19     │ 3      │ 144        │\n│ 9   │ 08     │ 20     │ 3      │ 159        │\n│ 10  │ 08     │ 21     │ 3      │ 105        │\n⋮\n│ 72  │ 10     │ 22     │ 3      │ 57         │\n│ 73  │ 10     │ 23     │ 3      │ 21         │\n│ 74  │ 10     │ 24     │ 3      │ 6          │\n│ 75  │ 10     │ 25     │ 3      │ 36         │\n│ 76  │ 10     │ 26     │ 3      │ 57         │\n│ 77  │ 10     │ 27     │ 3      │ 60         │\n│ 78  │ 10     │ 28     │ 3      │ 57         │\n│ 79  │ 10     │ 29     │ 3      │ 54         │\n│ 80  │ 10     │ 30     │ 3      │ 81         │\n│ 81  │ 10     │ 31     │ 3      │ 18         │\n│ 82  │ 11     │ 02     │ 3      │ 9          │",
            "text/html": "<table class=\"data-frame\"><thead><tr><th></th><th>month</th><th>day</th><th>action</th><th>action_sum</th></tr><tr><th></th><th>String</th><th>String</th><th>Any</th><th>Int64</th></tr></thead><tbody><p>82 rows × 4 columns</p><tr><th>1</th><td>08</td><td>12</td><td>3</td><td>30</td></tr><tr><th>2</th><td>08</td><td>13</td><td>3</td><td>84</td></tr><tr><th>3</th><td>08</td><td>14</td><td>3</td><td>120</td></tr><tr><th>4</th><td>08</td><td>15</td><td>3</td><td>54</td></tr><tr><th>5</th><td>08</td><td>16</td><td>3</td><td>63</td></tr><tr><th>6</th><td>08</td><td>17</td><td>3</td><td>42</td></tr><tr><th>7</th><td>08</td><td>18</td><td>3</td><td>117</td></tr><tr><th>8</th><td>08</td><td>19</td><td>3</td><td>144</td></tr><tr><th>9</th><td>08</td><td>20</td><td>3</td><td>159</td></tr><tr><th>10</th><td>08</td><td>21</td><td>3</td><td>105</td></tr><tr><th>11</th><td>08</td><td>22</td><td>3</td><td>42</td></tr><tr><th>12</th><td>08</td><td>23</td><td>3</td><td>57</td></tr><tr><th>13</th><td>08</td><td>24</td><td>3</td><td>108</td></tr><tr><th>14</th><td>08</td><td>25</td><td>3</td><td>57</td></tr><tr><th>15</th><td>08</td><td>26</td><td>3</td><td>93</td></tr><tr><th>16</th><td>08</td><td>27</td><td>3</td><td>93</td></tr><tr><th>17</th><td>08</td><td>28</td><td>3</td><td>54</td></tr><tr><th>18</th><td>08</td><td>29</td><td>3</td><td>18</td></tr><tr><th>19</th><td>08</td><td>30</td><td>3</td><td>27</td></tr><tr><th>20</th><td>08</td><td>31</td><td>3</td><td>51</td></tr><tr><th>21</th><td>09</td><td>01</td><td>3</td><td>33</td></tr><tr><th>22</th><td>09</td><td>02</td><td>3</td><td>60</td></tr><tr><th>23</th><td>09</td><td>03</td><td>3</td><td>54</td></tr><tr><th>24</th><td>09</td><td>04</td><td>3</td><td>75</td></tr><tr><th>25</th><td>09</td><td>05</td><td>3</td><td>51</td></tr><tr><th>26</th><td>09</td><td>06</td><td>3</td><td>81</td></tr><tr><th>27</th><td>09</td><td>07</td><td>3</td><td>87</td></tr><tr><th>28</th><td>09</td><td>08</td><td>3</td><td>72</td></tr><tr><th>29</th><td>09</td><td>09</td><td>3</td><td>72</td></tr><tr><th>30</th><td>09</td><td>10</td><td>3</td><td>87</td></tr><tr><th>&vellip;</th><td>&vellip;</td><td>&vellip;</td><td>&vellip;</td><td>&vellip;</td></tr></tbody></table>",
            "text/latex": "\\begin{tabular}{r|cccc}\n\t& month & day & action & action\\_sum\\\\\n\t\\hline\n\t& String & String & Any & Int64\\\\\n\t\\hline\n\t1 & 08 & 12 & 3 & 30 \\\\\n\t2 & 08 & 13 & 3 & 84 \\\\\n\t3 & 08 & 14 & 3 & 120 \\\\\n\t4 & 08 & 15 & 3 & 54 \\\\\n\t5 & 08 & 16 & 3 & 63 \\\\\n\t6 & 08 & 17 & 3 & 42 \\\\\n\t7 & 08 & 18 & 3 & 117 \\\\\n\t8 & 08 & 19 & 3 & 144 \\\\\n\t9 & 08 & 20 & 3 & 159 \\\\\n\t10 & 08 & 21 & 3 & 105 \\\\\n\t11 & 08 & 22 & 3 & 42 \\\\\n\t12 & 08 & 23 & 3 & 57 \\\\\n\t13 & 08 & 24 & 3 & 108 \\\\\n\t14 & 08 & 25 & 3 & 57 \\\\\n\t15 & 08 & 26 & 3 & 93 \\\\\n\t16 & 08 & 27 & 3 & 93 \\\\\n\t17 & 08 & 28 & 3 & 54 \\\\\n\t18 & 08 & 29 & 3 & 18 \\\\\n\t19 & 08 & 30 & 3 & 27 \\\\\n\t20 & 08 & 31 & 3 & 51 \\\\\n\t21 & 09 & 01 & 3 & 33 \\\\\n\t22 & 09 & 02 & 3 & 60 \\\\\n\t23 & 09 & 03 & 3 & 54 \\\\\n\t24 & 09 & 04 & 3 & 75 \\\\\n\t25 & 09 & 05 & 3 & 51 \\\\\n\t26 & 09 & 06 & 3 & 81 \\\\\n\t27 & 09 & 07 & 3 & 87 \\\\\n\t28 & 09 & 08 & 3 & 72 \\\\\n\t29 & 09 & 09 & 3 & 72 \\\\\n\t30 & 09 & 10 & 3 & 87 \\\\\n\t$\\dots$ & $\\dots$ & $\\dots$ & $\\dots$ & $\\dots$ \\\\\n\\end{tabular}\n"
          },
          "metadata": {}
        }
      ],
      "execution_count": 145,
      "metadata": {
        "collapsed": true,
        "jupyter": {
          "source_hidden": false,
          "outputs_hidden": false
        },
        "nteract": {
          "transient": {
            "deleting": false
          }
        },
        "execution": {
          "iopub.status.busy": "2020-11-27T05:47:55.743Z",
          "iopub.execute_input": "2020-11-27T05:47:55.763Z",
          "iopub.status.idle": "2020-11-27T05:47:55.820Z"
        }
      }
    },
    {
      "cell_type": "code",
      "source": [
        "topsize=size(groupbyLoginAction[3],1)"
      ],
      "outputs": [
        {
          "output_type": "execute_result",
          "execution_count": 260,
          "data": {
            "text/plain": "82"
          },
          "metadata": {}
        }
      ],
      "execution_count": 260,
      "metadata": {
        "collapsed": true,
        "jupyter": {
          "source_hidden": false,
          "outputs_hidden": false
        },
        "nteract": {
          "transient": {
            "deleting": false
          }
        },
        "execution": {
          "iopub.status.busy": "2020-11-27T07:05:42.961Z",
          "iopub.execute_input": "2020-11-27T07:05:42.991Z",
          "iopub.status.idle": "2020-11-27T07:05:43.060Z"
        }
      }
    },
    {
      "cell_type": "code",
      "source": [
        "describe(groupbyLoginAction[3])"
      ],
      "outputs": [
        {
          "output_type": "execute_result",
          "execution_count": 147,
          "data": {
            "text/plain": "4×8 DataFrame. Omitted printing of 1 columns\n│ Row │ variable   │ mean    │ min │ median │ max │ nunique │ nmissing │\n│     │ \u001b[90mSymbol\u001b[39m     │ \u001b[90mUnion…\u001b[39m  │ \u001b[90mAny\u001b[39m │ \u001b[90mUnion…\u001b[39m │ \u001b[90mAny\u001b[39m │ \u001b[90mUnion…\u001b[39m  │ \u001b[90mUnion…\u001b[39m   │\n├─────┼────────────┼─────────┼─────┼────────┼─────┼─────────┼──────────┤\n│ 1   │ month      │         │ 08  │        │ 11  │ 4       │          │\n│ 2   │ day        │         │ 01  │        │ 31  │ 31      │          │\n│ 3   │ action     │ 3.0     │ 3   │ 3.0    │ 3   │ 1       │ 0        │\n│ 4   │ action_sum │ 52.3537 │ 6   │ 51.0   │ 159 │         │          │",
            "text/html": "<table class=\"data-frame\"><thead><tr><th></th><th>variable</th><th>mean</th><th>min</th><th>median</th><th>max</th><th>nunique</th><th>nmissing</th><th>eltype</th></tr><tr><th></th><th>Symbol</th><th>Union…</th><th>Any</th><th>Union…</th><th>Any</th><th>Union…</th><th>Union…</th><th>DataType</th></tr></thead><tbody><p>4 rows × 8 columns</p><tr><th>1</th><td>month</td><td></td><td>08</td><td></td><td>11</td><td>4</td><td></td><td>String</td></tr><tr><th>2</th><td>day</td><td></td><td>01</td><td></td><td>31</td><td>31</td><td></td><td>String</td></tr><tr><th>3</th><td>action</td><td>3.0</td><td>3</td><td>3.0</td><td>3</td><td>1</td><td>0</td><td>Any</td></tr><tr><th>4</th><td>action_sum</td><td>52.3537</td><td>6</td><td>51.0</td><td>159</td><td></td><td></td><td>Int64</td></tr></tbody></table>",
            "text/latex": "\\begin{tabular}{r|cccccccc}\n\t& variable & mean & min & median & max & nunique & nmissing & eltype\\\\\n\t\\hline\n\t& Symbol & Union… & Any & Union… & Any & Union… & Union… & DataType\\\\\n\t\\hline\n\t1 & month &  & 08 &  & 11 & 4 &  & String \\\\\n\t2 & day &  & 01 &  & 31 & 31 &  & String \\\\\n\t3 & action & 3.0 & 3 & 3.0 & 3 & 1 & 0 & Any \\\\\n\t4 & action\\_sum & 52.3537 & 6 & 51.0 & 159 &  &  & Int64 \\\\\n\\end{tabular}\n"
          },
          "metadata": {}
        }
      ],
      "execution_count": 147,
      "metadata": {
        "collapsed": true,
        "jupyter": {
          "source_hidden": false,
          "outputs_hidden": false
        },
        "nteract": {
          "transient": {
            "deleting": false
          }
        },
        "execution": {
          "iopub.status.busy": "2020-11-27T05:48:00.550Z",
          "iopub.execute_input": "2020-11-27T05:48:00.569Z",
          "iopub.status.idle": "2020-11-27T05:48:00.612Z"
        }
      }
    },
    {
      "cell_type": "code",
      "source": [
        "#Número de conexiones por día en el gestor de inteligencia GIANT\n",
        "x = 1:topsize;\n",
        "y = groupbyLoginAction[3][!,:action_sum]; # These are the plotting data\n",
        "plot(x, y, title = \"Connections per day\", xlabel = \"Day\", ylabel = \"Connections\", lw = 3, marker=:circle, ms=5, mc=:orange,legend=false, size=(800,350))\n",
        "media=floor(Int,mean(groupbyLoginAction[3][!,:action_sum]))\n",
        "hline!(\n",
        "    [media], \n",
        "    color = \"red\", \n",
        "    linestyle = :dash, \n",
        "    linewidth = 4,\n",
        "    label = [\"Mean\" \"Mean\"]\n",
        "    )"
      ],
      "outputs": [
        {
          "output_type": "execute_result",
          "execution_count": 383,
          "data": {
            "image/svg+xml": "<?xml version=\"1.0\" encoding=\"utf-8\"?>\n<svg xmlns=\"http://www.w3.org/2000/svg\" xmlns:xlink=\"http://www.w3.org/1999/xlink\" width=\"800\" height=\"350\" viewBox=\"0 0 3200 1400\">\n<defs>\n  <clipPath id=\"clip6800\">\n    <rect x=\"0\" y=\"0\" width=\"3200\" height=\"1400\"/>\n  </clipPath>\n</defs>\n<path clip-path=\"url(#clip6800)\" d=\"\nM0 1400 L3200 1400 L3200 0 L0 0  Z\n  \" fill=\"#ffffff\" fill-rule=\"evenodd\" fill-opacity=\"1\"/>\n<defs>\n  <clipPath id=\"clip6801\">\n    <rect x=\"640\" y=\"0\" width=\"2241\" height=\"1400\"/>\n  </clipPath>\n</defs>\n<path clip-path=\"url(#clip6800)\" d=\"\nM225.608 1245.53 L3152.76 1245.53 L3152.76 107.004 L225.608 107.004  Z\n  \" fill=\"#ffffff\" fill-rule=\"evenodd\" fill-opacity=\"1\"/>\n<defs>\n  <clipPath id=\"clip6802\">\n    <rect x=\"225\" y=\"107\" width=\"2928\" height=\"1140\"/>\n  </clipPath>\n</defs>\n<polyline clip-path=\"url(#clip6802)\" style=\"stroke:#000000; stroke-width:2; stroke-opacity:0.1; fill:none\" points=\"\n  274.36,1245.53 274.36,107.004 \n  \"/>\n<polyline clip-path=\"url(#clip6802)\" style=\"stroke:#000000; stroke-width:2; stroke-opacity:0.1; fill:none\" points=\"\n  956.202,1245.53 956.202,107.004 \n  \"/>\n<polyline clip-path=\"url(#clip6802)\" style=\"stroke:#000000; stroke-width:2; stroke-opacity:0.1; fill:none\" points=\"\n  1638.04,1245.53 1638.04,107.004 \n  \"/>\n<polyline clip-path=\"url(#clip6802)\" style=\"stroke:#000000; stroke-width:2; stroke-opacity:0.1; fill:none\" points=\"\n  2319.89,1245.53 2319.89,107.004 \n  \"/>\n<polyline clip-path=\"url(#clip6802)\" style=\"stroke:#000000; stroke-width:2; stroke-opacity:0.1; fill:none\" points=\"\n  3001.73,1245.53 3001.73,107.004 \n  \"/>\n<polyline clip-path=\"url(#clip6802)\" style=\"stroke:#000000; stroke-width:2; stroke-opacity:0.1; fill:none\" points=\"\n  225.608,1044.82 3152.76,1044.82 \n  \"/>\n<polyline clip-path=\"url(#clip6802)\" style=\"stroke:#000000; stroke-width:2; stroke-opacity:0.1; fill:none\" points=\"\n  225.608,834.22 3152.76,834.22 \n  \"/>\n<polyline clip-path=\"url(#clip6802)\" style=\"stroke:#000000; stroke-width:2; stroke-opacity:0.1; fill:none\" points=\"\n  225.608,623.616 3152.76,623.616 \n  \"/>\n<polyline clip-path=\"url(#clip6802)\" style=\"stroke:#000000; stroke-width:2; stroke-opacity:0.1; fill:none\" points=\"\n  225.608,413.012 3152.76,413.012 \n  \"/>\n<polyline clip-path=\"url(#clip6802)\" style=\"stroke:#000000; stroke-width:2; stroke-opacity:0.1; fill:none\" points=\"\n  225.608,202.408 3152.76,202.408 \n  \"/>\n<polyline clip-path=\"url(#clip6800)\" style=\"stroke:#000000; stroke-width:4; stroke-opacity:1; fill:none\" points=\"\n  225.608,1245.53 3152.76,1245.53 \n  \"/>\n<polyline clip-path=\"url(#clip6800)\" style=\"stroke:#000000; stroke-width:4; stroke-opacity:1; fill:none\" points=\"\n  225.608,1245.53 225.608,107.004 \n  \"/>\n<polyline clip-path=\"url(#clip6800)\" style=\"stroke:#000000; stroke-width:4; stroke-opacity:1; fill:none\" points=\"\n  274.36,1245.53 274.36,1231.87 \n  \"/>\n<polyline clip-path=\"url(#clip6800)\" style=\"stroke:#000000; stroke-width:4; stroke-opacity:1; fill:none\" points=\"\n  956.202,1245.53 956.202,1231.87 \n  \"/>\n<polyline clip-path=\"url(#clip6800)\" style=\"stroke:#000000; stroke-width:4; stroke-opacity:1; fill:none\" points=\"\n  1638.04,1245.53 1638.04,1231.87 \n  \"/>\n<polyline clip-path=\"url(#clip6800)\" style=\"stroke:#000000; stroke-width:4; stroke-opacity:1; fill:none\" points=\"\n  2319.89,1245.53 2319.89,1231.87 \n  \"/>\n<polyline clip-path=\"url(#clip6800)\" style=\"stroke:#000000; stroke-width:4; stroke-opacity:1; fill:none\" points=\"\n  3001.73,1245.53 3001.73,1231.87 \n  \"/>\n<polyline clip-path=\"url(#clip6800)\" style=\"stroke:#000000; stroke-width:4; stroke-opacity:1; fill:none\" points=\"\n  225.608,1044.82 260.734,1044.82 \n  \"/>\n<polyline clip-path=\"url(#clip6800)\" style=\"stroke:#000000; stroke-width:4; stroke-opacity:1; fill:none\" points=\"\n  225.608,834.22 260.734,834.22 \n  \"/>\n<polyline clip-path=\"url(#clip6800)\" style=\"stroke:#000000; stroke-width:4; stroke-opacity:1; fill:none\" points=\"\n  225.608,623.616 260.734,623.616 \n  \"/>\n<polyline clip-path=\"url(#clip6800)\" style=\"stroke:#000000; stroke-width:4; stroke-opacity:1; fill:none\" points=\"\n  225.608,413.012 260.734,413.012 \n  \"/>\n<polyline clip-path=\"url(#clip6800)\" style=\"stroke:#000000; stroke-width:4; stroke-opacity:1; fill:none\" points=\"\n  225.608,202.408 260.734,202.408 \n  \"/>\n<g clip-path=\"url(#clip6800)\">\n<text style=\"fill:#000000; fill-opacity:1; font-family:Arial,Helvetica Neue,Helvetica,sans-serif; font-size:48px; text-anchor:middle;\" transform=\"rotate(0, 274.36, 1303.53)\" x=\"274.36\" y=\"1303.53\">0</text>\n</g>\n<g clip-path=\"url(#clip6800)\">\n<text style=\"fill:#000000; fill-opacity:1; font-family:Arial,Helvetica Neue,Helvetica,sans-serif; font-size:48px; text-anchor:middle;\" transform=\"rotate(0, 956.202, 1303.53)\" x=\"956.202\" y=\"1303.53\">20</text>\n</g>\n<g clip-path=\"url(#clip6800)\">\n<text style=\"fill:#000000; fill-opacity:1; font-family:Arial,Helvetica Neue,Helvetica,sans-serif; font-size:48px; text-anchor:middle;\" transform=\"rotate(0, 1638.04, 1303.53)\" x=\"1638.04\" y=\"1303.53\">40</text>\n</g>\n<g clip-path=\"url(#clip6800)\">\n<text style=\"fill:#000000; fill-opacity:1; font-family:Arial,Helvetica Neue,Helvetica,sans-serif; font-size:48px; text-anchor:middle;\" transform=\"rotate(0, 2319.89, 1303.53)\" x=\"2319.89\" y=\"1303.53\">60</text>\n</g>\n<g clip-path=\"url(#clip6800)\">\n<text style=\"fill:#000000; fill-opacity:1; font-family:Arial,Helvetica Neue,Helvetica,sans-serif; font-size:48px; text-anchor:middle;\" transform=\"rotate(0, 3001.73, 1303.53)\" x=\"3001.73\" y=\"1303.53\">80</text>\n</g>\n<g clip-path=\"url(#clip6800)\">\n<text style=\"fill:#000000; fill-opacity:1; font-family:Arial,Helvetica Neue,Helvetica,sans-serif; font-size:48px; text-anchor:end;\" transform=\"rotate(0, 193.608, 1062.32)\" x=\"193.608\" y=\"1062.32\">30</text>\n</g>\n<g clip-path=\"url(#clip6800)\">\n<text style=\"fill:#000000; fill-opacity:1; font-family:Arial,Helvetica Neue,Helvetica,sans-serif; font-size:48px; text-anchor:end;\" transform=\"rotate(0, 193.608, 851.72)\" x=\"193.608\" y=\"851.72\">60</text>\n</g>\n<g clip-path=\"url(#clip6800)\">\n<text style=\"fill:#000000; fill-opacity:1; font-family:Arial,Helvetica Neue,Helvetica,sans-serif; font-size:48px; text-anchor:end;\" transform=\"rotate(0, 193.608, 641.116)\" x=\"193.608\" y=\"641.116\">90</text>\n</g>\n<g clip-path=\"url(#clip6800)\">\n<text style=\"fill:#000000; fill-opacity:1; font-family:Arial,Helvetica Neue,Helvetica,sans-serif; font-size:48px; text-anchor:end;\" transform=\"rotate(0, 193.608, 430.512)\" x=\"193.608\" y=\"430.512\">120</text>\n</g>\n<g clip-path=\"url(#clip6800)\">\n<text style=\"fill:#000000; fill-opacity:1; font-family:Arial,Helvetica Neue,Helvetica,sans-serif; font-size:48px; text-anchor:end;\" transform=\"rotate(0, 193.608, 219.908)\" x=\"193.608\" y=\"219.908\">150</text>\n</g>\n<g clip-path=\"url(#clip6800)\">\n<text style=\"fill:#000000; fill-opacity:1; font-family:Arial,Helvetica Neue,Helvetica,sans-serif; font-size:82px; text-anchor:middle;\" transform=\"rotate(0, 1689.18, 72)\" x=\"1689.18\" y=\"72\">Connections per day</text>\n</g>\n<g clip-path=\"url(#clip6800)\">\n<text style=\"fill:#000000; fill-opacity:1; font-family:Arial,Helvetica Neue,Helvetica,sans-serif; font-size:66px; text-anchor:middle;\" transform=\"rotate(0, 1689.18, 1387.39)\" x=\"1689.18\" y=\"1387.39\">Day</text>\n</g>\n<g clip-path=\"url(#clip6800)\">\n<text style=\"fill:#000000; fill-opacity:1; font-family:Arial,Helvetica Neue,Helvetica,sans-serif; font-size:66px; text-anchor:middle;\" transform=\"rotate(-90, 69.7591, 676.267)\" x=\"69.7591\" y=\"676.267\">Connections</text>\n</g>\n<polyline clip-path=\"url(#clip6802)\" style=\"stroke:#009af9; stroke-width:12; stroke-opacity:1; fill:none\" points=\"\n  308.452,1044.82 342.544,665.736 376.636,413.012 410.728,876.34 444.82,813.159 478.913,960.582 513.005,434.072 547.097,244.529 581.189,139.227 615.281,518.314 \n  649.373,960.582 683.465,855.28 717.557,497.253 751.649,855.28 785.741,602.555 819.834,602.555 853.926,876.34 888.018,1129.06 922.11,1065.88 956.202,897.401 \n  990.294,1023.76 1024.39,834.22 1058.48,876.34 1092.57,728.918 1126.66,897.401 1160.75,686.797 1194.85,644.676 1228.94,749.978 1263.03,749.978 1297.12,644.676 \n  1331.22,1129.06 1365.31,1171.19 1399.4,1150.13 1433.49,1023.76 1467.58,1023.76 1501.68,897.401 1535.77,497.253 1569.86,1002.7 1603.95,792.099 1638.04,1150.13 \n  1672.14,1002.7 1706.23,855.28 1740.32,897.401 1774.41,771.038 1808.5,1065.88 1842.6,1108 1876.69,1171.19 1910.78,1002.7 1944.87,1044.82 1978.96,1065.88 \n  2013.06,897.401 2047.15,981.642 2081.24,1192.25 2115.33,1192.25 2149.43,855.28 2183.52,834.22 2217.61,813.159 2251.7,792.099 2285.79,960.582 2319.89,1002.7 \n  2353.98,1192.25 2388.07,1108 2422.16,918.461 2456.25,876.34 2490.35,897.401 2524.44,1002.7 2558.53,981.642 2592.62,939.521 2626.71,897.401 2660.81,855.28 \n  2694.9,897.401 2728.99,855.28 2763.08,1108 2797.18,1213.31 2831.27,1002.7 2865.36,855.28 2899.45,834.22 2933.54,855.28 2967.64,876.34 3001.73,686.797 \n  3035.82,1129.06 3069.91,1192.25 \n  \"/>\n<circle clip-path=\"url(#clip6802)\" cx=\"308.452\" cy=\"1044.82\" r=\"17\" fill=\"#ffa500\" fill-rule=\"evenodd\" fill-opacity=\"1\" stroke=\"#000000\" stroke-opacity=\"1\" stroke-width=\"2.8\"/>\n<circle clip-path=\"url(#clip6802)\" cx=\"342.544\" cy=\"665.736\" r=\"17\" fill=\"#ffa500\" fill-rule=\"evenodd\" fill-opacity=\"1\" stroke=\"#000000\" stroke-opacity=\"1\" stroke-width=\"2.8\"/>\n<circle clip-path=\"url(#clip6802)\" cx=\"376.636\" cy=\"413.012\" r=\"17\" fill=\"#ffa500\" fill-rule=\"evenodd\" fill-opacity=\"1\" stroke=\"#000000\" stroke-opacity=\"1\" stroke-width=\"2.8\"/>\n<circle clip-path=\"url(#clip6802)\" cx=\"410.728\" cy=\"876.34\" r=\"17\" fill=\"#ffa500\" fill-rule=\"evenodd\" fill-opacity=\"1\" stroke=\"#000000\" stroke-opacity=\"1\" stroke-width=\"2.8\"/>\n<circle clip-path=\"url(#clip6802)\" cx=\"444.82\" cy=\"813.159\" r=\"17\" fill=\"#ffa500\" fill-rule=\"evenodd\" fill-opacity=\"1\" stroke=\"#000000\" stroke-opacity=\"1\" stroke-width=\"2.8\"/>\n<circle clip-path=\"url(#clip6802)\" cx=\"478.913\" cy=\"960.582\" r=\"17\" fill=\"#ffa500\" fill-rule=\"evenodd\" fill-opacity=\"1\" stroke=\"#000000\" stroke-opacity=\"1\" stroke-width=\"2.8\"/>\n<circle clip-path=\"url(#clip6802)\" cx=\"513.005\" cy=\"434.072\" r=\"17\" fill=\"#ffa500\" fill-rule=\"evenodd\" fill-opacity=\"1\" stroke=\"#000000\" stroke-opacity=\"1\" stroke-width=\"2.8\"/>\n<circle clip-path=\"url(#clip6802)\" cx=\"547.097\" cy=\"244.529\" r=\"17\" fill=\"#ffa500\" fill-rule=\"evenodd\" fill-opacity=\"1\" stroke=\"#000000\" stroke-opacity=\"1\" stroke-width=\"2.8\"/>\n<circle clip-path=\"url(#clip6802)\" cx=\"581.189\" cy=\"139.227\" r=\"17\" fill=\"#ffa500\" fill-rule=\"evenodd\" fill-opacity=\"1\" stroke=\"#000000\" stroke-opacity=\"1\" stroke-width=\"2.8\"/>\n<circle clip-path=\"url(#clip6802)\" cx=\"615.281\" cy=\"518.314\" r=\"17\" fill=\"#ffa500\" fill-rule=\"evenodd\" fill-opacity=\"1\" stroke=\"#000000\" stroke-opacity=\"1\" stroke-width=\"2.8\"/>\n<circle clip-path=\"url(#clip6802)\" cx=\"649.373\" cy=\"960.582\" r=\"17\" fill=\"#ffa500\" fill-rule=\"evenodd\" fill-opacity=\"1\" stroke=\"#000000\" stroke-opacity=\"1\" stroke-width=\"2.8\"/>\n<circle clip-path=\"url(#clip6802)\" cx=\"683.465\" cy=\"855.28\" r=\"17\" fill=\"#ffa500\" fill-rule=\"evenodd\" fill-opacity=\"1\" stroke=\"#000000\" stroke-opacity=\"1\" stroke-width=\"2.8\"/>\n<circle clip-path=\"url(#clip6802)\" cx=\"717.557\" cy=\"497.253\" r=\"17\" fill=\"#ffa500\" fill-rule=\"evenodd\" fill-opacity=\"1\" stroke=\"#000000\" stroke-opacity=\"1\" stroke-width=\"2.8\"/>\n<circle clip-path=\"url(#clip6802)\" cx=\"751.649\" cy=\"855.28\" r=\"17\" fill=\"#ffa500\" fill-rule=\"evenodd\" fill-opacity=\"1\" stroke=\"#000000\" stroke-opacity=\"1\" stroke-width=\"2.8\"/>\n<circle clip-path=\"url(#clip6802)\" cx=\"785.741\" cy=\"602.555\" r=\"17\" fill=\"#ffa500\" fill-rule=\"evenodd\" fill-opacity=\"1\" stroke=\"#000000\" stroke-opacity=\"1\" stroke-width=\"2.8\"/>\n<circle clip-path=\"url(#clip6802)\" cx=\"819.834\" cy=\"602.555\" r=\"17\" fill=\"#ffa500\" fill-rule=\"evenodd\" fill-opacity=\"1\" stroke=\"#000000\" stroke-opacity=\"1\" stroke-width=\"2.8\"/>\n<circle clip-path=\"url(#clip6802)\" cx=\"853.926\" cy=\"876.34\" r=\"17\" fill=\"#ffa500\" fill-rule=\"evenodd\" fill-opacity=\"1\" stroke=\"#000000\" stroke-opacity=\"1\" stroke-width=\"2.8\"/>\n<circle clip-path=\"url(#clip6802)\" cx=\"888.018\" cy=\"1129.06\" r=\"17\" fill=\"#ffa500\" fill-rule=\"evenodd\" fill-opacity=\"1\" stroke=\"#000000\" stroke-opacity=\"1\" stroke-width=\"2.8\"/>\n<circle clip-path=\"url(#clip6802)\" cx=\"922.11\" cy=\"1065.88\" r=\"17\" fill=\"#ffa500\" fill-rule=\"evenodd\" fill-opacity=\"1\" stroke=\"#000000\" stroke-opacity=\"1\" stroke-width=\"2.8\"/>\n<circle clip-path=\"url(#clip6802)\" cx=\"956.202\" cy=\"897.401\" r=\"17\" fill=\"#ffa500\" fill-rule=\"evenodd\" fill-opacity=\"1\" stroke=\"#000000\" stroke-opacity=\"1\" stroke-width=\"2.8\"/>\n<circle clip-path=\"url(#clip6802)\" cx=\"990.294\" cy=\"1023.76\" r=\"17\" fill=\"#ffa500\" fill-rule=\"evenodd\" fill-opacity=\"1\" stroke=\"#000000\" stroke-opacity=\"1\" stroke-width=\"2.8\"/>\n<circle clip-path=\"url(#clip6802)\" cx=\"1024.39\" cy=\"834.22\" r=\"17\" fill=\"#ffa500\" fill-rule=\"evenodd\" fill-opacity=\"1\" stroke=\"#000000\" stroke-opacity=\"1\" stroke-width=\"2.8\"/>\n<circle clip-path=\"url(#clip6802)\" cx=\"1058.48\" cy=\"876.34\" r=\"17\" fill=\"#ffa500\" fill-rule=\"evenodd\" fill-opacity=\"1\" stroke=\"#000000\" stroke-opacity=\"1\" stroke-width=\"2.8\"/>\n<circle clip-path=\"url(#clip6802)\" cx=\"1092.57\" cy=\"728.918\" r=\"17\" fill=\"#ffa500\" fill-rule=\"evenodd\" fill-opacity=\"1\" stroke=\"#000000\" stroke-opacity=\"1\" stroke-width=\"2.8\"/>\n<circle clip-path=\"url(#clip6802)\" cx=\"1126.66\" cy=\"897.401\" r=\"17\" fill=\"#ffa500\" fill-rule=\"evenodd\" fill-opacity=\"1\" stroke=\"#000000\" stroke-opacity=\"1\" stroke-width=\"2.8\"/>\n<circle clip-path=\"url(#clip6802)\" cx=\"1160.75\" cy=\"686.797\" r=\"17\" fill=\"#ffa500\" fill-rule=\"evenodd\" fill-opacity=\"1\" stroke=\"#000000\" stroke-opacity=\"1\" stroke-width=\"2.8\"/>\n<circle clip-path=\"url(#clip6802)\" cx=\"1194.85\" cy=\"644.676\" r=\"17\" fill=\"#ffa500\" fill-rule=\"evenodd\" fill-opacity=\"1\" stroke=\"#000000\" stroke-opacity=\"1\" stroke-width=\"2.8\"/>\n<circle clip-path=\"url(#clip6802)\" cx=\"1228.94\" cy=\"749.978\" r=\"17\" fill=\"#ffa500\" fill-rule=\"evenodd\" fill-opacity=\"1\" stroke=\"#000000\" stroke-opacity=\"1\" stroke-width=\"2.8\"/>\n<circle clip-path=\"url(#clip6802)\" cx=\"1263.03\" cy=\"749.978\" r=\"17\" fill=\"#ffa500\" fill-rule=\"evenodd\" fill-opacity=\"1\" stroke=\"#000000\" stroke-opacity=\"1\" stroke-width=\"2.8\"/>\n<circle clip-path=\"url(#clip6802)\" cx=\"1297.12\" cy=\"644.676\" r=\"17\" fill=\"#ffa500\" fill-rule=\"evenodd\" fill-opacity=\"1\" stroke=\"#000000\" stroke-opacity=\"1\" stroke-width=\"2.8\"/>\n<circle clip-path=\"url(#clip6802)\" cx=\"1331.22\" cy=\"1129.06\" r=\"17\" fill=\"#ffa500\" fill-rule=\"evenodd\" fill-opacity=\"1\" stroke=\"#000000\" stroke-opacity=\"1\" stroke-width=\"2.8\"/>\n<circle clip-path=\"url(#clip6802)\" cx=\"1365.31\" cy=\"1171.19\" r=\"17\" fill=\"#ffa500\" fill-rule=\"evenodd\" fill-opacity=\"1\" stroke=\"#000000\" stroke-opacity=\"1\" stroke-width=\"2.8\"/>\n<circle clip-path=\"url(#clip6802)\" cx=\"1399.4\" cy=\"1150.13\" r=\"17\" fill=\"#ffa500\" fill-rule=\"evenodd\" fill-opacity=\"1\" stroke=\"#000000\" stroke-opacity=\"1\" stroke-width=\"2.8\"/>\n<circle clip-path=\"url(#clip6802)\" cx=\"1433.49\" cy=\"1023.76\" r=\"17\" fill=\"#ffa500\" fill-rule=\"evenodd\" fill-opacity=\"1\" stroke=\"#000000\" stroke-opacity=\"1\" stroke-width=\"2.8\"/>\n<circle clip-path=\"url(#clip6802)\" cx=\"1467.58\" cy=\"1023.76\" r=\"17\" fill=\"#ffa500\" fill-rule=\"evenodd\" fill-opacity=\"1\" stroke=\"#000000\" stroke-opacity=\"1\" stroke-width=\"2.8\"/>\n<circle clip-path=\"url(#clip6802)\" cx=\"1501.68\" cy=\"897.401\" r=\"17\" fill=\"#ffa500\" fill-rule=\"evenodd\" fill-opacity=\"1\" stroke=\"#000000\" stroke-opacity=\"1\" stroke-width=\"2.8\"/>\n<circle clip-path=\"url(#clip6802)\" cx=\"1535.77\" cy=\"497.253\" r=\"17\" fill=\"#ffa500\" fill-rule=\"evenodd\" fill-opacity=\"1\" stroke=\"#000000\" stroke-opacity=\"1\" stroke-width=\"2.8\"/>\n<circle clip-path=\"url(#clip6802)\" cx=\"1569.86\" cy=\"1002.7\" r=\"17\" fill=\"#ffa500\" fill-rule=\"evenodd\" fill-opacity=\"1\" stroke=\"#000000\" stroke-opacity=\"1\" stroke-width=\"2.8\"/>\n<circle clip-path=\"url(#clip6802)\" cx=\"1603.95\" cy=\"792.099\" r=\"17\" fill=\"#ffa500\" fill-rule=\"evenodd\" fill-opacity=\"1\" stroke=\"#000000\" stroke-opacity=\"1\" stroke-width=\"2.8\"/>\n<circle clip-path=\"url(#clip6802)\" cx=\"1638.04\" cy=\"1150.13\" r=\"17\" fill=\"#ffa500\" fill-rule=\"evenodd\" fill-opacity=\"1\" stroke=\"#000000\" stroke-opacity=\"1\" stroke-width=\"2.8\"/>\n<circle clip-path=\"url(#clip6802)\" cx=\"1672.14\" cy=\"1002.7\" r=\"17\" fill=\"#ffa500\" fill-rule=\"evenodd\" fill-opacity=\"1\" stroke=\"#000000\" stroke-opacity=\"1\" stroke-width=\"2.8\"/>\n<circle clip-path=\"url(#clip6802)\" cx=\"1706.23\" cy=\"855.28\" r=\"17\" fill=\"#ffa500\" fill-rule=\"evenodd\" fill-opacity=\"1\" stroke=\"#000000\" stroke-opacity=\"1\" stroke-width=\"2.8\"/>\n<circle clip-path=\"url(#clip6802)\" cx=\"1740.32\" cy=\"897.401\" r=\"17\" fill=\"#ffa500\" fill-rule=\"evenodd\" fill-opacity=\"1\" stroke=\"#000000\" stroke-opacity=\"1\" stroke-width=\"2.8\"/>\n<circle clip-path=\"url(#clip6802)\" cx=\"1774.41\" cy=\"771.038\" r=\"17\" fill=\"#ffa500\" fill-rule=\"evenodd\" fill-opacity=\"1\" stroke=\"#000000\" stroke-opacity=\"1\" stroke-width=\"2.8\"/>\n<circle clip-path=\"url(#clip6802)\" cx=\"1808.5\" cy=\"1065.88\" r=\"17\" fill=\"#ffa500\" fill-rule=\"evenodd\" fill-opacity=\"1\" stroke=\"#000000\" stroke-opacity=\"1\" stroke-width=\"2.8\"/>\n<circle clip-path=\"url(#clip6802)\" cx=\"1842.6\" cy=\"1108\" r=\"17\" fill=\"#ffa500\" fill-rule=\"evenodd\" fill-opacity=\"1\" stroke=\"#000000\" stroke-opacity=\"1\" stroke-width=\"2.8\"/>\n<circle clip-path=\"url(#clip6802)\" cx=\"1876.69\" cy=\"1171.19\" r=\"17\" fill=\"#ffa500\" fill-rule=\"evenodd\" fill-opacity=\"1\" stroke=\"#000000\" stroke-opacity=\"1\" stroke-width=\"2.8\"/>\n<circle clip-path=\"url(#clip6802)\" cx=\"1910.78\" cy=\"1002.7\" r=\"17\" fill=\"#ffa500\" fill-rule=\"evenodd\" fill-opacity=\"1\" stroke=\"#000000\" stroke-opacity=\"1\" stroke-width=\"2.8\"/>\n<circle clip-path=\"url(#clip6802)\" cx=\"1944.87\" cy=\"1044.82\" r=\"17\" fill=\"#ffa500\" fill-rule=\"evenodd\" fill-opacity=\"1\" stroke=\"#000000\" stroke-opacity=\"1\" stroke-width=\"2.8\"/>\n<circle clip-path=\"url(#clip6802)\" cx=\"1978.96\" cy=\"1065.88\" r=\"17\" fill=\"#ffa500\" fill-rule=\"evenodd\" fill-opacity=\"1\" stroke=\"#000000\" stroke-opacity=\"1\" stroke-width=\"2.8\"/>\n<circle clip-path=\"url(#clip6802)\" cx=\"2013.06\" cy=\"897.401\" r=\"17\" fill=\"#ffa500\" fill-rule=\"evenodd\" fill-opacity=\"1\" stroke=\"#000000\" stroke-opacity=\"1\" stroke-width=\"2.8\"/>\n<circle clip-path=\"url(#clip6802)\" cx=\"2047.15\" cy=\"981.642\" r=\"17\" fill=\"#ffa500\" fill-rule=\"evenodd\" fill-opacity=\"1\" stroke=\"#000000\" stroke-opacity=\"1\" stroke-width=\"2.8\"/>\n<circle clip-path=\"url(#clip6802)\" cx=\"2081.24\" cy=\"1192.25\" r=\"17\" fill=\"#ffa500\" fill-rule=\"evenodd\" fill-opacity=\"1\" stroke=\"#000000\" stroke-opacity=\"1\" stroke-width=\"2.8\"/>\n<circle clip-path=\"url(#clip6802)\" cx=\"2115.33\" cy=\"1192.25\" r=\"17\" fill=\"#ffa500\" fill-rule=\"evenodd\" fill-opacity=\"1\" stroke=\"#000000\" stroke-opacity=\"1\" stroke-width=\"2.8\"/>\n<circle clip-path=\"url(#clip6802)\" cx=\"2149.43\" cy=\"855.28\" r=\"17\" fill=\"#ffa500\" fill-rule=\"evenodd\" fill-opacity=\"1\" stroke=\"#000000\" stroke-opacity=\"1\" stroke-width=\"2.8\"/>\n<circle clip-path=\"url(#clip6802)\" cx=\"2183.52\" cy=\"834.22\" r=\"17\" fill=\"#ffa500\" fill-rule=\"evenodd\" fill-opacity=\"1\" stroke=\"#000000\" stroke-opacity=\"1\" stroke-width=\"2.8\"/>\n<circle clip-path=\"url(#clip6802)\" cx=\"2217.61\" cy=\"813.159\" r=\"17\" fill=\"#ffa500\" fill-rule=\"evenodd\" fill-opacity=\"1\" stroke=\"#000000\" stroke-opacity=\"1\" stroke-width=\"2.8\"/>\n<circle clip-path=\"url(#clip6802)\" cx=\"2251.7\" cy=\"792.099\" r=\"17\" fill=\"#ffa500\" fill-rule=\"evenodd\" fill-opacity=\"1\" stroke=\"#000000\" stroke-opacity=\"1\" stroke-width=\"2.8\"/>\n<circle clip-path=\"url(#clip6802)\" cx=\"2285.79\" cy=\"960.582\" r=\"17\" fill=\"#ffa500\" fill-rule=\"evenodd\" fill-opacity=\"1\" stroke=\"#000000\" stroke-opacity=\"1\" stroke-width=\"2.8\"/>\n<circle clip-path=\"url(#clip6802)\" cx=\"2319.89\" cy=\"1002.7\" r=\"17\" fill=\"#ffa500\" fill-rule=\"evenodd\" fill-opacity=\"1\" stroke=\"#000000\" stroke-opacity=\"1\" stroke-width=\"2.8\"/>\n<circle clip-path=\"url(#clip6802)\" cx=\"2353.98\" cy=\"1192.25\" r=\"17\" fill=\"#ffa500\" fill-rule=\"evenodd\" fill-opacity=\"1\" stroke=\"#000000\" stroke-opacity=\"1\" stroke-width=\"2.8\"/>\n<circle clip-path=\"url(#clip6802)\" cx=\"2388.07\" cy=\"1108\" r=\"17\" fill=\"#ffa500\" fill-rule=\"evenodd\" fill-opacity=\"1\" stroke=\"#000000\" stroke-opacity=\"1\" stroke-width=\"2.8\"/>\n<circle clip-path=\"url(#clip6802)\" cx=\"2422.16\" cy=\"918.461\" r=\"17\" fill=\"#ffa500\" fill-rule=\"evenodd\" fill-opacity=\"1\" stroke=\"#000000\" stroke-opacity=\"1\" stroke-width=\"2.8\"/>\n<circle clip-path=\"url(#clip6802)\" cx=\"2456.25\" cy=\"876.34\" r=\"17\" fill=\"#ffa500\" fill-rule=\"evenodd\" fill-opacity=\"1\" stroke=\"#000000\" stroke-opacity=\"1\" stroke-width=\"2.8\"/>\n<circle clip-path=\"url(#clip6802)\" cx=\"2490.35\" cy=\"897.401\" r=\"17\" fill=\"#ffa500\" fill-rule=\"evenodd\" fill-opacity=\"1\" stroke=\"#000000\" stroke-opacity=\"1\" stroke-width=\"2.8\"/>\n<circle clip-path=\"url(#clip6802)\" cx=\"2524.44\" cy=\"1002.7\" r=\"17\" fill=\"#ffa500\" fill-rule=\"evenodd\" fill-opacity=\"1\" stroke=\"#000000\" stroke-opacity=\"1\" stroke-width=\"2.8\"/>\n<circle clip-path=\"url(#clip6802)\" cx=\"2558.53\" cy=\"981.642\" r=\"17\" fill=\"#ffa500\" fill-rule=\"evenodd\" fill-opacity=\"1\" stroke=\"#000000\" stroke-opacity=\"1\" stroke-width=\"2.8\"/>\n<circle clip-path=\"url(#clip6802)\" cx=\"2592.62\" cy=\"939.521\" r=\"17\" fill=\"#ffa500\" fill-rule=\"evenodd\" fill-opacity=\"1\" stroke=\"#000000\" stroke-opacity=\"1\" stroke-width=\"2.8\"/>\n<circle clip-path=\"url(#clip6802)\" cx=\"2626.71\" cy=\"897.401\" r=\"17\" fill=\"#ffa500\" fill-rule=\"evenodd\" fill-opacity=\"1\" stroke=\"#000000\" stroke-opacity=\"1\" stroke-width=\"2.8\"/>\n<circle clip-path=\"url(#clip6802)\" cx=\"2660.81\" cy=\"855.28\" r=\"17\" fill=\"#ffa500\" fill-rule=\"evenodd\" fill-opacity=\"1\" stroke=\"#000000\" stroke-opacity=\"1\" stroke-width=\"2.8\"/>\n<circle clip-path=\"url(#clip6802)\" cx=\"2694.9\" cy=\"897.401\" r=\"17\" fill=\"#ffa500\" fill-rule=\"evenodd\" fill-opacity=\"1\" stroke=\"#000000\" stroke-opacity=\"1\" stroke-width=\"2.8\"/>\n<circle clip-path=\"url(#clip6802)\" cx=\"2728.99\" cy=\"855.28\" r=\"17\" fill=\"#ffa500\" fill-rule=\"evenodd\" fill-opacity=\"1\" stroke=\"#000000\" stroke-opacity=\"1\" stroke-width=\"2.8\"/>\n<circle clip-path=\"url(#clip6802)\" cx=\"2763.08\" cy=\"1108\" r=\"17\" fill=\"#ffa500\" fill-rule=\"evenodd\" fill-opacity=\"1\" stroke=\"#000000\" stroke-opacity=\"1\" stroke-width=\"2.8\"/>\n<circle clip-path=\"url(#clip6802)\" cx=\"2797.18\" cy=\"1213.31\" r=\"17\" fill=\"#ffa500\" fill-rule=\"evenodd\" fill-opacity=\"1\" stroke=\"#000000\" stroke-opacity=\"1\" stroke-width=\"2.8\"/>\n<circle clip-path=\"url(#clip6802)\" cx=\"2831.27\" cy=\"1002.7\" r=\"17\" fill=\"#ffa500\" fill-rule=\"evenodd\" fill-opacity=\"1\" stroke=\"#000000\" stroke-opacity=\"1\" stroke-width=\"2.8\"/>\n<circle clip-path=\"url(#clip6802)\" cx=\"2865.36\" cy=\"855.28\" r=\"17\" fill=\"#ffa500\" fill-rule=\"evenodd\" fill-opacity=\"1\" stroke=\"#000000\" stroke-opacity=\"1\" stroke-width=\"2.8\"/>\n<circle clip-path=\"url(#clip6802)\" cx=\"2899.45\" cy=\"834.22\" r=\"17\" fill=\"#ffa500\" fill-rule=\"evenodd\" fill-opacity=\"1\" stroke=\"#000000\" stroke-opacity=\"1\" stroke-width=\"2.8\"/>\n<circle clip-path=\"url(#clip6802)\" cx=\"2933.54\" cy=\"855.28\" r=\"17\" fill=\"#ffa500\" fill-rule=\"evenodd\" fill-opacity=\"1\" stroke=\"#000000\" stroke-opacity=\"1\" stroke-width=\"2.8\"/>\n<circle clip-path=\"url(#clip6802)\" cx=\"2967.64\" cy=\"876.34\" r=\"17\" fill=\"#ffa500\" fill-rule=\"evenodd\" fill-opacity=\"1\" stroke=\"#000000\" stroke-opacity=\"1\" stroke-width=\"2.8\"/>\n<circle clip-path=\"url(#clip6802)\" cx=\"3001.73\" cy=\"686.797\" r=\"17\" fill=\"#ffa500\" fill-rule=\"evenodd\" fill-opacity=\"1\" stroke=\"#000000\" stroke-opacity=\"1\" stroke-width=\"2.8\"/>\n<circle clip-path=\"url(#clip6802)\" cx=\"3035.82\" cy=\"1129.06\" r=\"17\" fill=\"#ffa500\" fill-rule=\"evenodd\" fill-opacity=\"1\" stroke=\"#000000\" stroke-opacity=\"1\" stroke-width=\"2.8\"/>\n<circle clip-path=\"url(#clip6802)\" cx=\"3069.91\" cy=\"1192.25\" r=\"17\" fill=\"#ffa500\" fill-rule=\"evenodd\" fill-opacity=\"1\" stroke=\"#000000\" stroke-opacity=\"1\" stroke-width=\"2.8\"/>\n<polyline clip-path=\"url(#clip6802)\" style=\"stroke:#ff0000; stroke-width:16; stroke-opacity:1; fill:none\" stroke-dasharray=\"64, 40\" points=\"\n  -2701.54,890.381 6079.9,890.381 \n  \"/>\n</svg>\n"
          },
          "metadata": {}
        }
      ],
      "execution_count": 383,
      "metadata": {
        "collapsed": true,
        "jupyter": {
          "source_hidden": false,
          "outputs_hidden": false
        },
        "nteract": {
          "transient": {
            "deleting": false
          }
        },
        "execution": {
          "iopub.status.busy": "2020-11-27T07:57:34.637Z",
          "iopub.execute_input": "2020-11-27T07:57:34.667Z",
          "iopub.status.idle": "2020-11-27T07:57:34.736Z"
        }
      }
    },
    {
      "cell_type": "code",
      "source": [
        "# Leer matriz de frecuencia para tener un indice de cuales son los usuarios que más interactuan en la plataforma \n",
        "frequencyEventUsers= DataFrame(CSV.File(\"../data/frequency_events_users_giant.csv\"))\n",
        "first(frequencyEventUsers,5)"
      ],
      "outputs": [
        {
          "output_type": "execute_result",
          "execution_count": 149,
          "data": {
            "text/plain": "5×110 DataFrame. Omitted printing of 102 columns\n│ Row │ USER_ID │ 1     │ 2     │ 3     │ 4     │ 5     │ 6     │ 7     │\n│     │ \u001b[90mInt64\u001b[39m   │ \u001b[90mInt64\u001b[39m │ \u001b[90mInt64\u001b[39m │ \u001b[90mInt64\u001b[39m │ \u001b[90mInt64\u001b[39m │ \u001b[90mInt64\u001b[39m │ \u001b[90mInt64\u001b[39m │ \u001b[90mInt64\u001b[39m │\n├─────┼─────────┼───────┼───────┼───────┼───────┼───────┼───────┼───────┤\n│ 1   │ -10     │ 0     │ 0     │ 0     │ 0     │ 0     │ 0     │ 0     │\n│ 2   │ -1      │ 0     │ 0     │ 0     │ 0     │ 0     │ 0     │ 0     │\n│ 3   │ 0       │ 0     │ 103   │ 0     │ 0     │ 0     │ 0     │ 0     │\n│ 4   │ 2       │ 0     │ 3     │ 65    │ 114   │ 290   │ 13    │ 16    │\n│ 5   │ 3       │ 0     │ 2     │ 33    │ 42    │ 162   │ 6     │ 45    │",
            "text/html": "<table class=\"data-frame\"><thead><tr><th></th><th>USER_ID</th><th>1</th><th>2</th><th>3</th><th>4</th><th>5</th><th>6</th><th>7</th><th>8</th><th>9</th><th>10</th><th>11</th></tr><tr><th></th><th>Int64</th><th>Int64</th><th>Int64</th><th>Int64</th><th>Int64</th><th>Int64</th><th>Int64</th><th>Int64</th><th>Int64</th><th>Int64</th><th>Int64</th><th>Int64</th></tr></thead><tbody><p>5 rows × 110 columns (omitted printing of 98 columns)</p><tr><th>1</th><td>-10</td><td>0</td><td>0</td><td>0</td><td>0</td><td>0</td><td>0</td><td>0</td><td>0</td><td>0</td><td>0</td><td>0</td></tr><tr><th>2</th><td>-1</td><td>0</td><td>0</td><td>0</td><td>0</td><td>0</td><td>0</td><td>0</td><td>0</td><td>0</td><td>0</td><td>0</td></tr><tr><th>3</th><td>0</td><td>0</td><td>103</td><td>0</td><td>0</td><td>0</td><td>0</td><td>0</td><td>0</td><td>0</td><td>0</td><td>0</td></tr><tr><th>4</th><td>2</td><td>0</td><td>3</td><td>65</td><td>114</td><td>290</td><td>13</td><td>16</td><td>7</td><td>0</td><td>0</td><td>74</td></tr><tr><th>5</th><td>3</td><td>0</td><td>2</td><td>33</td><td>42</td><td>162</td><td>6</td><td>45</td><td>20</td><td>0</td><td>0</td><td>0</td></tr></tbody></table>",
            "text/latex": "\\begin{tabular}{r|ccccccccccccc}\n\t& USER\\_ID & 1 & 2 & 3 & 4 & 5 & 6 & 7 & 8 & 9 & 10 & 11 & \\\\\n\t\\hline\n\t& Int64 & Int64 & Int64 & Int64 & Int64 & Int64 & Int64 & Int64 & Int64 & Int64 & Int64 & Int64 & \\\\\n\t\\hline\n\t1 & -10 & 0 & 0 & 0 & 0 & 0 & 0 & 0 & 0 & 0 & 0 & 0 & $\\dots$ \\\\\n\t2 & -1 & 0 & 0 & 0 & 0 & 0 & 0 & 0 & 0 & 0 & 0 & 0 & $\\dots$ \\\\\n\t3 & 0 & 0 & 103 & 0 & 0 & 0 & 0 & 0 & 0 & 0 & 0 & 0 & $\\dots$ \\\\\n\t4 & 2 & 0 & 3 & 65 & 114 & 290 & 13 & 16 & 7 & 0 & 0 & 74 & $\\dots$ \\\\\n\t5 & 3 & 0 & 2 & 33 & 42 & 162 & 6 & 45 & 20 & 0 & 0 & 0 & $\\dots$ \\\\\n\\end{tabular}\n"
          },
          "metadata": {}
        }
      ],
      "execution_count": 149,
      "metadata": {
        "collapsed": true,
        "jupyter": {
          "source_hidden": false,
          "outputs_hidden": false
        },
        "nteract": {
          "transient": {
            "deleting": false
          }
        },
        "execution": {
          "iopub.status.busy": "2020-11-27T05:48:06.565Z",
          "iopub.execute_input": "2020-11-27T05:48:06.584Z",
          "iopub.status.idle": "2020-11-27T05:48:06.627Z"
        }
      }
    },
    {
      "cell_type": "code",
      "source": [
        "#Resumen del marco de los datos\n",
        "println(size(frequencyEventUsers))"
      ],
      "outputs": [
        {
          "output_type": "stream",
          "name": "stdout",
          "text": [
            "(109, 110)\n"
          ]
        }
      ],
      "execution_count": 150,
      "metadata": {
        "collapsed": true,
        "jupyter": {
          "source_hidden": false,
          "outputs_hidden": false
        },
        "nteract": {
          "transient": {
            "deleting": false
          }
        },
        "execution": {
          "iopub.status.busy": "2020-11-27T05:48:09.407Z",
          "iopub.execute_input": "2020-11-27T05:48:09.432Z",
          "iopub.status.idle": "2020-11-27T05:48:09.484Z"
        }
      }
    },
    {
      "cell_type": "code",
      "source": [
        "eventsDataFrame"
      ],
      "outputs": [
        {
          "output_type": "execute_result",
          "execution_count": 156,
          "data": {
            "text/plain": "40674×22 DataFrame. Omitted printing of 20 columns\n│ Row   │ _id                      │ id    │\n│       │ \u001b[90mString\u001b[39m                   │ \u001b[90mInt64\u001b[39m │\n├───────┼──────────────────────────┼───────┤\n│ 1     │ 5fa09d8267fbc452c4f02343 │ 1     │\n│ 2     │ 5fa09d8267fbc452c4f02344 │ 2     │\n│ 3     │ 5fa09d8267fbc452c4f02345 │ 3     │\n│ 4     │ 5fa09d8267fbc452c4f02346 │ 4     │\n│ 5     │ 5fa09d8267fbc452c4f02347 │ 5     │\n│ 6     │ 5fa09d8267fbc452c4f02348 │ 6     │\n│ 7     │ 5fa09d8267fbc452c4f02349 │ 7     │\n│ 8     │ 5fa09d8267fbc452c4f0234a │ 8     │\n│ 9     │ 5fa09d8267fbc452c4f0234b │ 9     │\n│ 10    │ 5fa09d8267fbc452c4f0234c │ 10    │\n⋮\n│ 40664 │ 5fa09d8c67fbc452c4f0c21a │ 40664 │\n│ 40665 │ 5fa09d8c67fbc452c4f0c21b │ 40665 │\n│ 40666 │ 5fa09d8c67fbc452c4f0c21c │ 40666 │\n│ 40667 │ 5fa09d8c67fbc452c4f0c21d │ 40667 │\n│ 40668 │ 5fa09d8c67fbc452c4f0c21e │ 40668 │\n│ 40669 │ 5fa09d8c67fbc452c4f0c21f │ 40669 │\n│ 40670 │ 5fa09d8c67fbc452c4f0c220 │ 40670 │\n│ 40671 │ 5fa09d8c67fbc452c4f0c221 │ 40671 │\n│ 40672 │ 5fa09d8c67fbc452c4f0c222 │ 40672 │\n│ 40673 │ 5fa09d8c67fbc452c4f0c223 │ 40673 │\n│ 40674 │ 5fa09d8c67fbc452c4f0c224 │ 40674 │",
            "text/html": "<table class=\"data-frame\"><thead><tr><th></th><th>_id</th><th>id</th><th>eventname</th></tr><tr><th></th><th>String</th><th>Int64</th><th>String</th></tr></thead><tbody><p>40,674 rows × 22 columns (omitted printing of 19 columns)</p><tr><th>1</th><td>5fa09d8267fbc452c4f02343</td><td>1</td><td>\\\\giant\\\\event\\\\extended_challenge_team_viewed</td></tr><tr><th>2</th><td>5fa09d8267fbc452c4f02344</td><td>2</td><td>\\\\core\\\\event\\\\user_login_failed</td></tr><tr><th>3</th><td>5fa09d8267fbc452c4f02345</td><td>3</td><td>\\\\core\\\\event\\\\user_loggedin</td></tr><tr><th>4</th><td>5fa09d8267fbc452c4f02346</td><td>4</td><td>\\\\core\\\\event\\\\dashboard_viewed</td></tr><tr><th>5</th><td>5fa09d8267fbc452c4f02347</td><td>5</td><td>\\\\core\\\\event\\\\course_viewed</td></tr><tr><th>6</th><td>5fa09d8267fbc452c4f02348</td><td>6</td><td>\\\\core\\\\event\\\\course_viewed</td></tr><tr><th>7</th><td>5fa09d8267fbc452c4f02349</td><td>7</td><td>\\\\core\\\\event\\\\dashboard_viewed</td></tr><tr><th>8</th><td>5fa09d8267fbc452c4f0234a</td><td>8</td><td>\\\\core\\\\event\\\\dashboard_viewed</td></tr><tr><th>9</th><td>5fa09d8267fbc452c4f0234b</td><td>9</td><td>\\\\core\\\\event\\\\user_loggedin</td></tr><tr><th>10</th><td>5fa09d8267fbc452c4f0234c</td><td>10</td><td>\\\\core\\\\event\\\\dashboard_viewed</td></tr><tr><th>11</th><td>5fa09d8267fbc452c4f0234d</td><td>11</td><td>\\\\core\\\\event\\\\user_loggedin</td></tr><tr><th>12</th><td>5fa09d8267fbc452c4f0234e</td><td>12</td><td>\\\\core\\\\event\\\\dashboard_viewed</td></tr><tr><th>13</th><td>5fa09d8267fbc452c4f0234f</td><td>13</td><td>\\\\core\\\\event\\\\user_profile_viewed</td></tr><tr><th>14</th><td>5fa09d8267fbc452c4f02350</td><td>14</td><td>\\\\core\\\\event\\\\course_viewed</td></tr><tr><th>15</th><td>5fa09d8267fbc452c4f02351</td><td>15</td><td>\\\\core\\\\event\\\\course_viewed</td></tr><tr><th>16</th><td>5fa09d8267fbc452c4f02352</td><td>16</td><td>\\\\mod_scorm\\\\event\\\\course_module_viewed</td></tr><tr><th>17</th><td>5fa09d8267fbc452c4f02353</td><td>17</td><td>\\\\mod_scorm\\\\event\\\\course_module_viewed</td></tr><tr><th>18</th><td>5fa09d8267fbc452c4f02354</td><td>18</td><td>\\\\mod_scorm\\\\event\\\\sco_launched</td></tr><tr><th>19</th><td>5fa09d8267fbc452c4f02355</td><td>19</td><td>\\\\core\\\\event\\\\user_loggedin</td></tr><tr><th>20</th><td>5fa09d8267fbc452c4f02356</td><td>20</td><td>\\\\core\\\\event\\\\dashboard_viewed</td></tr><tr><th>21</th><td>5fa09d8267fbc452c4f02357</td><td>21</td><td>\\\\core\\\\event\\\\course_viewed</td></tr><tr><th>22</th><td>5fa09d8267fbc452c4f02358</td><td>22</td><td>\\\\core\\\\event\\\\dashboard_viewed</td></tr><tr><th>23</th><td>5fa09d8267fbc452c4f02359</td><td>23</td><td>\\\\core\\\\event\\\\course_viewed</td></tr><tr><th>24</th><td>5fa09d8267fbc452c4f0235a</td><td>24</td><td>\\\\core\\\\event\\\\course_viewed</td></tr><tr><th>25</th><td>5fa09d8267fbc452c4f0235b</td><td>25</td><td>\\\\core\\\\event\\\\course_viewed</td></tr><tr><th>26</th><td>5fa09d8267fbc452c4f0235c</td><td>26</td><td>\\\\core\\\\event\\\\course_viewed</td></tr><tr><th>27</th><td>5fa09d8267fbc452c4f0235d</td><td>27</td><td>\\\\mod_scorm\\\\event\\\\course_module_viewed</td></tr><tr><th>28</th><td>5fa09d8267fbc452c4f0235e</td><td>28</td><td>\\\\mod_scorm\\\\event\\\\course_module_viewed</td></tr><tr><th>29</th><td>5fa09d8267fbc452c4f0235f</td><td>29</td><td>\\\\mod_scorm\\\\event\\\\sco_launched</td></tr><tr><th>30</th><td>5fa09d8267fbc452c4f02360</td><td>30</td><td>\\\\core\\\\event\\\\dashboard_viewed</td></tr><tr><th>&vellip;</th><td>&vellip;</td><td>&vellip;</td><td>&vellip;</td></tr></tbody></table>",
            "text/latex": "\\begin{tabular}{r|cccc}\n\t& \\_id & id & eventname & \\\\\n\t\\hline\n\t& String & Int64 & String & \\\\\n\t\\hline\n\t1 & 5fa09d8267fbc452c4f02343 & 1 & \\textbackslash{}\\textbackslash{}giant\\textbackslash{}\\textbackslash{}event\\textbackslash{}\\textbackslash{}extended\\_challenge\\_team\\_viewed & $\\dots$ \\\\\n\t2 & 5fa09d8267fbc452c4f02344 & 2 & \\textbackslash{}\\textbackslash{}core\\textbackslash{}\\textbackslash{}event\\textbackslash{}\\textbackslash{}user\\_login\\_failed & $\\dots$ \\\\\n\t3 & 5fa09d8267fbc452c4f02345 & 3 & \\textbackslash{}\\textbackslash{}core\\textbackslash{}\\textbackslash{}event\\textbackslash{}\\textbackslash{}user\\_loggedin & $\\dots$ \\\\\n\t4 & 5fa09d8267fbc452c4f02346 & 4 & \\textbackslash{}\\textbackslash{}core\\textbackslash{}\\textbackslash{}event\\textbackslash{}\\textbackslash{}dashboard\\_viewed & $\\dots$ \\\\\n\t5 & 5fa09d8267fbc452c4f02347 & 5 & \\textbackslash{}\\textbackslash{}core\\textbackslash{}\\textbackslash{}event\\textbackslash{}\\textbackslash{}course\\_viewed & $\\dots$ \\\\\n\t6 & 5fa09d8267fbc452c4f02348 & 6 & \\textbackslash{}\\textbackslash{}core\\textbackslash{}\\textbackslash{}event\\textbackslash{}\\textbackslash{}course\\_viewed & $\\dots$ \\\\\n\t7 & 5fa09d8267fbc452c4f02349 & 7 & \\textbackslash{}\\textbackslash{}core\\textbackslash{}\\textbackslash{}event\\textbackslash{}\\textbackslash{}dashboard\\_viewed & $\\dots$ \\\\\n\t8 & 5fa09d8267fbc452c4f0234a & 8 & \\textbackslash{}\\textbackslash{}core\\textbackslash{}\\textbackslash{}event\\textbackslash{}\\textbackslash{}dashboard\\_viewed & $\\dots$ \\\\\n\t9 & 5fa09d8267fbc452c4f0234b & 9 & \\textbackslash{}\\textbackslash{}core\\textbackslash{}\\textbackslash{}event\\textbackslash{}\\textbackslash{}user\\_loggedin & $\\dots$ \\\\\n\t10 & 5fa09d8267fbc452c4f0234c & 10 & \\textbackslash{}\\textbackslash{}core\\textbackslash{}\\textbackslash{}event\\textbackslash{}\\textbackslash{}dashboard\\_viewed & $\\dots$ \\\\\n\t11 & 5fa09d8267fbc452c4f0234d & 11 & \\textbackslash{}\\textbackslash{}core\\textbackslash{}\\textbackslash{}event\\textbackslash{}\\textbackslash{}user\\_loggedin & $\\dots$ \\\\\n\t12 & 5fa09d8267fbc452c4f0234e & 12 & \\textbackslash{}\\textbackslash{}core\\textbackslash{}\\textbackslash{}event\\textbackslash{}\\textbackslash{}dashboard\\_viewed & $\\dots$ \\\\\n\t13 & 5fa09d8267fbc452c4f0234f & 13 & \\textbackslash{}\\textbackslash{}core\\textbackslash{}\\textbackslash{}event\\textbackslash{}\\textbackslash{}user\\_profile\\_viewed & $\\dots$ \\\\\n\t14 & 5fa09d8267fbc452c4f02350 & 14 & \\textbackslash{}\\textbackslash{}core\\textbackslash{}\\textbackslash{}event\\textbackslash{}\\textbackslash{}course\\_viewed & $\\dots$ \\\\\n\t15 & 5fa09d8267fbc452c4f02351 & 15 & \\textbackslash{}\\textbackslash{}core\\textbackslash{}\\textbackslash{}event\\textbackslash{}\\textbackslash{}course\\_viewed & $\\dots$ \\\\\n\t16 & 5fa09d8267fbc452c4f02352 & 16 & \\textbackslash{}\\textbackslash{}mod\\_scorm\\textbackslash{}\\textbackslash{}event\\textbackslash{}\\textbackslash{}course\\_module\\_viewed & $\\dots$ \\\\\n\t17 & 5fa09d8267fbc452c4f02353 & 17 & \\textbackslash{}\\textbackslash{}mod\\_scorm\\textbackslash{}\\textbackslash{}event\\textbackslash{}\\textbackslash{}course\\_module\\_viewed & $\\dots$ \\\\\n\t18 & 5fa09d8267fbc452c4f02354 & 18 & \\textbackslash{}\\textbackslash{}mod\\_scorm\\textbackslash{}\\textbackslash{}event\\textbackslash{}\\textbackslash{}sco\\_launched & $\\dots$ \\\\\n\t19 & 5fa09d8267fbc452c4f02355 & 19 & \\textbackslash{}\\textbackslash{}core\\textbackslash{}\\textbackslash{}event\\textbackslash{}\\textbackslash{}user\\_loggedin & $\\dots$ \\\\\n\t20 & 5fa09d8267fbc452c4f02356 & 20 & \\textbackslash{}\\textbackslash{}core\\textbackslash{}\\textbackslash{}event\\textbackslash{}\\textbackslash{}dashboard\\_viewed & $\\dots$ \\\\\n\t21 & 5fa09d8267fbc452c4f02357 & 21 & \\textbackslash{}\\textbackslash{}core\\textbackslash{}\\textbackslash{}event\\textbackslash{}\\textbackslash{}course\\_viewed & $\\dots$ \\\\\n\t22 & 5fa09d8267fbc452c4f02358 & 22 & \\textbackslash{}\\textbackslash{}core\\textbackslash{}\\textbackslash{}event\\textbackslash{}\\textbackslash{}dashboard\\_viewed & $\\dots$ \\\\\n\t23 & 5fa09d8267fbc452c4f02359 & 23 & \\textbackslash{}\\textbackslash{}core\\textbackslash{}\\textbackslash{}event\\textbackslash{}\\textbackslash{}course\\_viewed & $\\dots$ \\\\\n\t24 & 5fa09d8267fbc452c4f0235a & 24 & \\textbackslash{}\\textbackslash{}core\\textbackslash{}\\textbackslash{}event\\textbackslash{}\\textbackslash{}course\\_viewed & $\\dots$ \\\\\n\t25 & 5fa09d8267fbc452c4f0235b & 25 & \\textbackslash{}\\textbackslash{}core\\textbackslash{}\\textbackslash{}event\\textbackslash{}\\textbackslash{}course\\_viewed & $\\dots$ \\\\\n\t26 & 5fa09d8267fbc452c4f0235c & 26 & \\textbackslash{}\\textbackslash{}core\\textbackslash{}\\textbackslash{}event\\textbackslash{}\\textbackslash{}course\\_viewed & $\\dots$ \\\\\n\t27 & 5fa09d8267fbc452c4f0235d & 27 & \\textbackslash{}\\textbackslash{}mod\\_scorm\\textbackslash{}\\textbackslash{}event\\textbackslash{}\\textbackslash{}course\\_module\\_viewed & $\\dots$ \\\\\n\t28 & 5fa09d8267fbc452c4f0235e & 28 & \\textbackslash{}\\textbackslash{}mod\\_scorm\\textbackslash{}\\textbackslash{}event\\textbackslash{}\\textbackslash{}course\\_module\\_viewed & $\\dots$ \\\\\n\t29 & 5fa09d8267fbc452c4f0235f & 29 & \\textbackslash{}\\textbackslash{}mod\\_scorm\\textbackslash{}\\textbackslash{}event\\textbackslash{}\\textbackslash{}sco\\_launched & $\\dots$ \\\\\n\t30 & 5fa09d8267fbc452c4f02360 & 30 & \\textbackslash{}\\textbackslash{}core\\textbackslash{}\\textbackslash{}event\\textbackslash{}\\textbackslash{}dashboard\\_viewed & $\\dots$ \\\\\n\t$\\dots$ & $\\dots$ & $\\dots$ & $\\dots$ &  \\\\\n\\end{tabular}\n"
          },
          "metadata": {}
        }
      ],
      "execution_count": 156,
      "metadata": {
        "collapsed": true,
        "jupyter": {
          "source_hidden": false,
          "outputs_hidden": false
        },
        "nteract": {
          "transient": {
            "deleting": false
          }
        },
        "execution": {
          "iopub.status.busy": "2020-11-27T05:48:55.925Z",
          "iopub.execute_input": "2020-11-27T05:48:55.956Z",
          "iopub.status.idle": "2020-11-27T05:48:56.004Z"
        }
      }
    },
    {
      "cell_type": "code",
      "source": [
        "# Obteniendo la suma de los eventos realizados por un usuario\n",
        "eventsWithoutUsers = frequencyEventUsers[!, Not([:USER_ID])];\n",
        "userByEventsSumDataFrame = DataFrame(USER_ID = frequencyEventUsers[!,:USER_ID], SUM_EVENTS = sum.(eachrow(eventsWithoutUsers)))\n"
      ],
      "outputs": [
        {
          "output_type": "execute_result",
          "execution_count": 157,
          "data": {
            "text/plain": "109×2 DataFrame\n│ Row │ USER_ID │ SUM_EVENTS │\n│     │ \u001b[90mInt64\u001b[39m   │ \u001b[90mInt64\u001b[39m      │\n├─────┼─────────┼────────────┤\n│ 1   │ -10     │ 99         │\n│ 2   │ -1      │ 336        │\n│ 3   │ 0       │ 235        │\n│ 4   │ 2       │ 1477       │\n│ 5   │ 3       │ 431        │\n│ 6   │ 4       │ 1957       │\n│ 7   │ 5       │ 1          │\n│ 8   │ 6       │ 295        │\n│ 9   │ 7       │ 3          │\n│ 10  │ 8       │ 8          │\n⋮\n│ 99  │ 154     │ 9          │\n│ 100 │ 156     │ 449        │\n│ 101 │ 157     │ 223        │\n│ 102 │ 158     │ 100        │\n│ 103 │ 160     │ 91         │\n│ 104 │ 161     │ 328        │\n│ 105 │ 164     │ 88         │\n│ 106 │ 165     │ 46         │\n│ 107 │ 166     │ 30         │\n│ 108 │ 168     │ 86         │\n│ 109 │ 169     │ 54         │",
            "text/html": "<table class=\"data-frame\"><thead><tr><th></th><th>USER_ID</th><th>SUM_EVENTS</th></tr><tr><th></th><th>Int64</th><th>Int64</th></tr></thead><tbody><p>109 rows × 2 columns</p><tr><th>1</th><td>-10</td><td>99</td></tr><tr><th>2</th><td>-1</td><td>336</td></tr><tr><th>3</th><td>0</td><td>235</td></tr><tr><th>4</th><td>2</td><td>1477</td></tr><tr><th>5</th><td>3</td><td>431</td></tr><tr><th>6</th><td>4</td><td>1957</td></tr><tr><th>7</th><td>5</td><td>1</td></tr><tr><th>8</th><td>6</td><td>295</td></tr><tr><th>9</th><td>7</td><td>3</td></tr><tr><th>10</th><td>8</td><td>8</td></tr><tr><th>11</th><td>9</td><td>408</td></tr><tr><th>12</th><td>10</td><td>1407</td></tr><tr><th>13</th><td>18</td><td>550</td></tr><tr><th>14</th><td>19</td><td>546</td></tr><tr><th>15</th><td>23</td><td>45</td></tr><tr><th>16</th><td>26</td><td>732</td></tr><tr><th>17</th><td>27</td><td>142</td></tr><tr><th>18</th><td>28</td><td>124</td></tr><tr><th>19</th><td>29</td><td>6</td></tr><tr><th>20</th><td>30</td><td>857</td></tr><tr><th>21</th><td>32</td><td>748</td></tr><tr><th>22</th><td>33</td><td>840</td></tr><tr><th>23</th><td>35</td><td>2</td></tr><tr><th>24</th><td>36</td><td>32</td></tr><tr><th>25</th><td>41</td><td>707</td></tr><tr><th>26</th><td>42</td><td>883</td></tr><tr><th>27</th><td>44</td><td>911</td></tr><tr><th>28</th><td>48</td><td>557</td></tr><tr><th>29</th><td>50</td><td>42</td></tr><tr><th>30</th><td>53</td><td>62</td></tr><tr><th>&vellip;</th><td>&vellip;</td><td>&vellip;</td></tr></tbody></table>",
            "text/latex": "\\begin{tabular}{r|cc}\n\t& USER\\_ID & SUM\\_EVENTS\\\\\n\t\\hline\n\t& Int64 & Int64\\\\\n\t\\hline\n\t1 & -10 & 99 \\\\\n\t2 & -1 & 336 \\\\\n\t3 & 0 & 235 \\\\\n\t4 & 2 & 1477 \\\\\n\t5 & 3 & 431 \\\\\n\t6 & 4 & 1957 \\\\\n\t7 & 5 & 1 \\\\\n\t8 & 6 & 295 \\\\\n\t9 & 7 & 3 \\\\\n\t10 & 8 & 8 \\\\\n\t11 & 9 & 408 \\\\\n\t12 & 10 & 1407 \\\\\n\t13 & 18 & 550 \\\\\n\t14 & 19 & 546 \\\\\n\t15 & 23 & 45 \\\\\n\t16 & 26 & 732 \\\\\n\t17 & 27 & 142 \\\\\n\t18 & 28 & 124 \\\\\n\t19 & 29 & 6 \\\\\n\t20 & 30 & 857 \\\\\n\t21 & 32 & 748 \\\\\n\t22 & 33 & 840 \\\\\n\t23 & 35 & 2 \\\\\n\t24 & 36 & 32 \\\\\n\t25 & 41 & 707 \\\\\n\t26 & 42 & 883 \\\\\n\t27 & 44 & 911 \\\\\n\t28 & 48 & 557 \\\\\n\t29 & 50 & 42 \\\\\n\t30 & 53 & 62 \\\\\n\t$\\dots$ & $\\dots$ & $\\dots$ \\\\\n\\end{tabular}\n"
          },
          "metadata": {}
        }
      ],
      "execution_count": 157,
      "metadata": {
        "collapsed": true,
        "jupyter": {
          "source_hidden": false,
          "outputs_hidden": false
        },
        "nteract": {
          "transient": {
            "deleting": false
          }
        },
        "execution": {
          "iopub.status.busy": "2020-11-27T05:49:23.568Z",
          "iopub.execute_input": "2020-11-27T05:49:23.600Z",
          "iopub.status.idle": "2020-11-27T05:49:23.653Z"
        }
      }
    },
    {
      "cell_type": "code",
      "source": [
        "# Obteniendo análisis descriptivo del marco de datos con los usuarios que tienen mayor ejecución de eventos\n",
        "describe(userByEventsSumDataFrame)"
      ],
      "outputs": [
        {
          "output_type": "execute_result",
          "execution_count": 158,
          "data": {
            "text/plain": "2×8 DataFrame. Omitted printing of 1 columns\n│ Row │ variable   │ mean    │ min   │ median  │ max   │ nunique │ nmissing │\n│     │ \u001b[90mSymbol\u001b[39m     │ \u001b[90mFloat64\u001b[39m │ \u001b[90mInt64\u001b[39m │ \u001b[90mFloat64\u001b[39m │ \u001b[90mInt64\u001b[39m │ \u001b[90mNothing\u001b[39m │ \u001b[90mNothing\u001b[39m  │\n├─────┼────────────┼─────────┼───────┼─────────┼───────┼─────────┼──────────┤\n│ 1   │ USER_ID    │ 85.7248 │ -10   │ 84.0    │ 169   │         │          │\n│ 2   │ SUM_EVENTS │ 373.156 │ 1     │ 229.0   │ 1957  │         │          │",
            "text/html": "<table class=\"data-frame\"><thead><tr><th></th><th>variable</th><th>mean</th><th>min</th><th>median</th><th>max</th><th>nunique</th><th>nmissing</th><th>eltype</th></tr><tr><th></th><th>Symbol</th><th>Float64</th><th>Int64</th><th>Float64</th><th>Int64</th><th>Nothing</th><th>Nothing</th><th>DataType</th></tr></thead><tbody><p>2 rows × 8 columns</p><tr><th>1</th><td>USER_ID</td><td>85.7248</td><td>-10</td><td>84.0</td><td>169</td><td></td><td></td><td>Int64</td></tr><tr><th>2</th><td>SUM_EVENTS</td><td>373.156</td><td>1</td><td>229.0</td><td>1957</td><td></td><td></td><td>Int64</td></tr></tbody></table>",
            "text/latex": "\\begin{tabular}{r|cccccccc}\n\t& variable & mean & min & median & max & nunique & nmissing & eltype\\\\\n\t\\hline\n\t& Symbol & Float64 & Int64 & Float64 & Int64 & Nothing & Nothing & DataType\\\\\n\t\\hline\n\t1 & USER\\_ID & 85.7248 & -10 & 84.0 & 169 &  &  & Int64 \\\\\n\t2 & SUM\\_EVENTS & 373.156 & 1 & 229.0 & 1957 &  &  & Int64 \\\\\n\\end{tabular}\n"
          },
          "metadata": {}
        }
      ],
      "execution_count": 158,
      "metadata": {
        "collapsed": true,
        "jupyter": {
          "source_hidden": false,
          "outputs_hidden": false
        },
        "nteract": {
          "transient": {
            "deleting": false
          }
        },
        "execution": {
          "iopub.status.busy": "2020-11-27T05:49:27.322Z",
          "iopub.execute_input": "2020-11-27T05:49:27.343Z",
          "iopub.status.idle": "2020-11-27T05:49:27.446Z"
        }
      }
    },
    {
      "cell_type": "code",
      "source": [
        "floor(Int,mean(userByEventsSumDataFrame[!,:SUM_EVENTS]))"
      ],
      "outputs": [
        {
          "output_type": "execute_result",
          "execution_count": 159,
          "data": {
            "text/plain": "373"
          },
          "metadata": {}
        }
      ],
      "execution_count": 159,
      "metadata": {
        "collapsed": true,
        "jupyter": {
          "source_hidden": false,
          "outputs_hidden": false
        },
        "nteract": {
          "transient": {
            "deleting": false
          }
        },
        "execution": {
          "iopub.status.busy": "2020-11-27T05:49:29.695Z",
          "iopub.execute_input": "2020-11-27T05:49:29.724Z",
          "iopub.status.idle": "2020-11-27T05:49:29.785Z"
        }
      }
    },
    {
      "cell_type": "code",
      "source": [
        "x=userByEventsSumDataFrame[!,:USER_ID]\n",
        "y=userByEventsSumDataFrame[!,:SUM_EVENTS]\n",
        "plot(x, y, seriestype = :bar, size=(900,440), title = \"Highest number of events executed\", xlabel = \"user id\", ylabel = \"events sum\", label = [\"Events\" \"Events\"] )\n",
        "media=floor(Int,mean(userByEventsSumDataFrame[!,:SUM_EVENTS]))\n",
        "hline!(\n",
        "    [media], \n",
        "    color = \"green\", \n",
        "    linestyle = :dash, \n",
        "    linewidth = 4,\n",
        "    label = [\"Mean\" \"Mean\"]\n",
        "    )"
      ],
      "outputs": [
        {
          "output_type": "execute_result",
          "execution_count": 340,
          "data": {
            "image/svg+xml": "<?xml version=\"1.0\" encoding=\"utf-8\"?>\n<svg xmlns=\"http://www.w3.org/2000/svg\" xmlns:xlink=\"http://www.w3.org/1999/xlink\" width=\"900\" height=\"440\" viewBox=\"0 0 3600 1760\">\n<defs>\n  <clipPath id=\"clip9600\">\n    <rect x=\"0\" y=\"0\" width=\"3600\" height=\"1760\"/>\n  </clipPath>\n</defs>\n<path clip-path=\"url(#clip9600)\" d=\"\nM0 1760 L3600 1760 L3600 0 L0 0  Z\n  \" fill=\"#ffffff\" fill-rule=\"evenodd\" fill-opacity=\"1\"/>\n<defs>\n  <clipPath id=\"clip9601\">\n    <rect x=\"720\" y=\"0\" width=\"2521\" height=\"1760\"/>\n  </clipPath>\n</defs>\n<path clip-path=\"url(#clip9600)\" d=\"\nM256.371 1603.53 L3552.76 1603.53 L3552.76 107.004 L256.371 107.004  Z\n  \" fill=\"#ffffff\" fill-rule=\"evenodd\" fill-opacity=\"1\"/>\n<defs>\n  <clipPath id=\"clip9602\">\n    <rect x=\"256\" y=\"107\" width=\"3297\" height=\"1498\"/>\n  </clipPath>\n</defs>\n<polyline clip-path=\"url(#clip9602)\" style=\"stroke:#000000; stroke-width:2; stroke-opacity:0.1; fill:none\" points=\"\n  607.373,1603.53 607.373,107.004 \n  \"/>\n<polyline clip-path=\"url(#clip9602)\" style=\"stroke:#000000; stroke-width:2; stroke-opacity:0.1; fill:none\" points=\"\n  1423.22,1603.53 1423.22,107.004 \n  \"/>\n<polyline clip-path=\"url(#clip9602)\" style=\"stroke:#000000; stroke-width:2; stroke-opacity:0.1; fill:none\" points=\"\n  2239.06,1603.53 2239.06,107.004 \n  \"/>\n<polyline clip-path=\"url(#clip9602)\" style=\"stroke:#000000; stroke-width:2; stroke-opacity:0.1; fill:none\" points=\"\n  3054.9,1603.53 3054.9,107.004 \n  \"/>\n<polyline clip-path=\"url(#clip9602)\" style=\"stroke:#000000; stroke-width:2; stroke-opacity:0.1; fill:none\" points=\"\n  256.371,1561.17 3552.76,1561.17 \n  \"/>\n<polyline clip-path=\"url(#clip9602)\" style=\"stroke:#000000; stroke-width:2; stroke-opacity:0.1; fill:none\" points=\"\n  256.371,1200.47 3552.76,1200.47 \n  \"/>\n<polyline clip-path=\"url(#clip9602)\" style=\"stroke:#000000; stroke-width:2; stroke-opacity:0.1; fill:none\" points=\"\n  256.371,839.756 3552.76,839.756 \n  \"/>\n<polyline clip-path=\"url(#clip9602)\" style=\"stroke:#000000; stroke-width:2; stroke-opacity:0.1; fill:none\" points=\"\n  256.371,479.047 3552.76,479.047 \n  \"/>\n<polyline clip-path=\"url(#clip9602)\" style=\"stroke:#000000; stroke-width:2; stroke-opacity:0.1; fill:none\" points=\"\n  256.371,118.338 3552.76,118.338 \n  \"/>\n<polyline clip-path=\"url(#clip9600)\" style=\"stroke:#000000; stroke-width:4; stroke-opacity:1; fill:none\" points=\"\n  256.371,1603.53 3552.76,1603.53 \n  \"/>\n<polyline clip-path=\"url(#clip9600)\" style=\"stroke:#000000; stroke-width:4; stroke-opacity:1; fill:none\" points=\"\n  256.371,1603.53 256.371,107.004 \n  \"/>\n<polyline clip-path=\"url(#clip9600)\" style=\"stroke:#000000; stroke-width:4; stroke-opacity:1; fill:none\" points=\"\n  607.373,1603.53 607.373,1585.57 \n  \"/>\n<polyline clip-path=\"url(#clip9600)\" style=\"stroke:#000000; stroke-width:4; stroke-opacity:1; fill:none\" points=\"\n  1423.22,1603.53 1423.22,1585.57 \n  \"/>\n<polyline clip-path=\"url(#clip9600)\" style=\"stroke:#000000; stroke-width:4; stroke-opacity:1; fill:none\" points=\"\n  2239.06,1603.53 2239.06,1585.57 \n  \"/>\n<polyline clip-path=\"url(#clip9600)\" style=\"stroke:#000000; stroke-width:4; stroke-opacity:1; fill:none\" points=\"\n  3054.9,1603.53 3054.9,1585.57 \n  \"/>\n<polyline clip-path=\"url(#clip9600)\" style=\"stroke:#000000; stroke-width:4; stroke-opacity:1; fill:none\" points=\"\n  256.371,1561.17 295.927,1561.17 \n  \"/>\n<polyline clip-path=\"url(#clip9600)\" style=\"stroke:#000000; stroke-width:4; stroke-opacity:1; fill:none\" points=\"\n  256.371,1200.47 295.927,1200.47 \n  \"/>\n<polyline clip-path=\"url(#clip9600)\" style=\"stroke:#000000; stroke-width:4; stroke-opacity:1; fill:none\" points=\"\n  256.371,839.756 295.927,839.756 \n  \"/>\n<polyline clip-path=\"url(#clip9600)\" style=\"stroke:#000000; stroke-width:4; stroke-opacity:1; fill:none\" points=\"\n  256.371,479.047 295.927,479.047 \n  \"/>\n<polyline clip-path=\"url(#clip9600)\" style=\"stroke:#000000; stroke-width:4; stroke-opacity:1; fill:none\" points=\"\n  256.371,118.338 295.927,118.338 \n  \"/>\n<g clip-path=\"url(#clip9600)\">\n<text style=\"fill:#000000; fill-opacity:1; font-family:Arial,Helvetica Neue,Helvetica,sans-serif; font-size:48px; text-anchor:middle;\" transform=\"rotate(0, 607.373, 1663.53)\" x=\"607.373\" y=\"1663.53\">0</text>\n</g>\n<g clip-path=\"url(#clip9600)\">\n<text style=\"fill:#000000; fill-opacity:1; font-family:Arial,Helvetica Neue,Helvetica,sans-serif; font-size:48px; text-anchor:middle;\" transform=\"rotate(0, 1423.22, 1663.53)\" x=\"1423.22\" y=\"1663.53\">50</text>\n</g>\n<g clip-path=\"url(#clip9600)\">\n<text style=\"fill:#000000; fill-opacity:1; font-family:Arial,Helvetica Neue,Helvetica,sans-serif; font-size:48px; text-anchor:middle;\" transform=\"rotate(0, 2239.06, 1663.53)\" x=\"2239.06\" y=\"1663.53\">100</text>\n</g>\n<g clip-path=\"url(#clip9600)\">\n<text style=\"fill:#000000; fill-opacity:1; font-family:Arial,Helvetica Neue,Helvetica,sans-serif; font-size:48px; text-anchor:middle;\" transform=\"rotate(0, 3054.9, 1663.53)\" x=\"3054.9\" y=\"1663.53\">150</text>\n</g>\n<g clip-path=\"url(#clip9600)\">\n<text style=\"fill:#000000; fill-opacity:1; font-family:Arial,Helvetica Neue,Helvetica,sans-serif; font-size:48px; text-anchor:end;\" transform=\"rotate(0, 220.371, 1578.67)\" x=\"220.371\" y=\"1578.67\">0</text>\n</g>\n<g clip-path=\"url(#clip9600)\">\n<text style=\"fill:#000000; fill-opacity:1; font-family:Arial,Helvetica Neue,Helvetica,sans-serif; font-size:48px; text-anchor:end;\" transform=\"rotate(0, 220.371, 1217.97)\" x=\"220.371\" y=\"1217.97\">500</text>\n</g>\n<g clip-path=\"url(#clip9600)\">\n<text style=\"fill:#000000; fill-opacity:1; font-family:Arial,Helvetica Neue,Helvetica,sans-serif; font-size:48px; text-anchor:end;\" transform=\"rotate(0, 220.371, 857.256)\" x=\"220.371\" y=\"857.256\">1000</text>\n</g>\n<g clip-path=\"url(#clip9600)\">\n<text style=\"fill:#000000; fill-opacity:1; font-family:Arial,Helvetica Neue,Helvetica,sans-serif; font-size:48px; text-anchor:end;\" transform=\"rotate(0, 220.371, 496.547)\" x=\"220.371\" y=\"496.547\">1500</text>\n</g>\n<g clip-path=\"url(#clip9600)\">\n<text style=\"fill:#000000; fill-opacity:1; font-family:Arial,Helvetica Neue,Helvetica,sans-serif; font-size:48px; text-anchor:end;\" transform=\"rotate(0, 220.371, 135.838)\" x=\"220.371\" y=\"135.838\">2000</text>\n</g>\n<g clip-path=\"url(#clip9600)\">\n<text style=\"fill:#000000; fill-opacity:1; font-family:Arial,Helvetica Neue,Helvetica,sans-serif; font-size:82px; text-anchor:middle;\" transform=\"rotate(0, 1904.56, 72)\" x=\"1904.56\" y=\"72\">Highest number of events executed</text>\n</g>\n<g clip-path=\"url(#clip9600)\">\n<text style=\"fill:#000000; fill-opacity:1; font-family:Arial,Helvetica Neue,Helvetica,sans-serif; font-size:66px; text-anchor:middle;\" transform=\"rotate(0, 1904.56, 1749.39)\" x=\"1904.56\" y=\"1749.39\">user id</text>\n</g>\n<g clip-path=\"url(#clip9600)\">\n<text style=\"fill:#000000; fill-opacity:1; font-family:Arial,Helvetica Neue,Helvetica,sans-serif; font-size:66px; text-anchor:middle;\" transform=\"rotate(-90, 65.7591, 855.267)\" x=\"65.7591\" y=\"855.267\">events sum</text>\n</g>\n<path clip-path=\"url(#clip9602)\" d=\"\nM437.678 1489.75 L437.678 1561.17 L450.731 1561.17 L450.731 1489.75 L437.678 1489.75 L437.678 1489.75  Z\n  \" fill=\"#009af9\" fill-rule=\"evenodd\" fill-opacity=\"1\"/>\n<polyline clip-path=\"url(#clip9602)\" style=\"stroke:#000000; stroke-width:4; stroke-opacity:1; fill:none\" points=\"\n  437.678,1489.75 437.678,1561.17 450.731,1561.17 450.731,1489.75 437.678,1489.75 \n  \"/>\n<path clip-path=\"url(#clip9602)\" d=\"\nM584.529 1318.78 L584.529 1561.17 L597.583 1561.17 L597.583 1318.78 L584.529 1318.78 L584.529 1318.78  Z\n  \" fill=\"#009af9\" fill-rule=\"evenodd\" fill-opacity=\"1\"/>\n<polyline clip-path=\"url(#clip9602)\" style=\"stroke:#000000; stroke-width:4; stroke-opacity:1; fill:none\" points=\"\n  584.529,1318.78 584.529,1561.17 597.583,1561.17 597.583,1318.78 584.529,1318.78 \n  \"/>\n<path clip-path=\"url(#clip9602)\" d=\"\nM600.846 1391.64 L600.846 1561.17 L613.9 1561.17 L613.9 1391.64 L600.846 1391.64 L600.846 1391.64  Z\n  \" fill=\"#009af9\" fill-rule=\"evenodd\" fill-opacity=\"1\"/>\n<polyline clip-path=\"url(#clip9602)\" style=\"stroke:#000000; stroke-width:4; stroke-opacity:1; fill:none\" points=\"\n  600.846,1391.64 600.846,1561.17 613.9,1561.17 613.9,1391.64 600.846,1391.64 \n  \"/>\n<path clip-path=\"url(#clip9602)\" d=\"\nM633.48 495.64 L633.48 1561.17 L646.533 1561.17 L646.533 495.64 L633.48 495.64 L633.48 495.64  Z\n  \" fill=\"#009af9\" fill-rule=\"evenodd\" fill-opacity=\"1\"/>\n<polyline clip-path=\"url(#clip9602)\" style=\"stroke:#000000; stroke-width:4; stroke-opacity:1; fill:none\" points=\"\n  633.48,495.64 633.48,1561.17 646.533,1561.17 646.533,495.64 633.48,495.64 \n  \"/>\n<path clip-path=\"url(#clip9602)\" d=\"\nM649.797 1250.24 L649.797 1561.17 L662.85 1561.17 L662.85 1250.24 L649.797 1250.24 L649.797 1250.24  Z\n  \" fill=\"#009af9\" fill-rule=\"evenodd\" fill-opacity=\"1\"/>\n<polyline clip-path=\"url(#clip9602)\" style=\"stroke:#000000; stroke-width:4; stroke-opacity:1; fill:none\" points=\"\n  649.797,1250.24 649.797,1561.17 662.85,1561.17 662.85,1250.24 649.797,1250.24 \n  \"/>\n<path clip-path=\"url(#clip9602)\" d=\"\nM666.114 149.359 L666.114 1561.17 L679.167 1561.17 L679.167 149.359 L666.114 149.359 L666.114 149.359  Z\n  \" fill=\"#009af9\" fill-rule=\"evenodd\" fill-opacity=\"1\"/>\n<polyline clip-path=\"url(#clip9602)\" style=\"stroke:#000000; stroke-width:4; stroke-opacity:1; fill:none\" points=\"\n  666.114,149.359 666.114,1561.17 679.167,1561.17 679.167,149.359 666.114,149.359 \n  \"/>\n<path clip-path=\"url(#clip9602)\" d=\"\nM682.431 1560.45 L682.431 1561.17 L695.484 1561.17 L695.484 1560.45 L682.431 1560.45 L682.431 1560.45  Z\n  \" fill=\"#009af9\" fill-rule=\"evenodd\" fill-opacity=\"1\"/>\n<polyline clip-path=\"url(#clip9602)\" style=\"stroke:#000000; stroke-width:4; stroke-opacity:1; fill:none\" points=\"\n  682.431,1560.45 682.431,1561.17 695.484,1561.17 695.484,1560.45 682.431,1560.45 \n  \"/>\n<path clip-path=\"url(#clip9602)\" d=\"\nM698.747 1348.36 L698.747 1561.17 L711.801 1561.17 L711.801 1348.36 L698.747 1348.36 L698.747 1348.36  Z\n  \" fill=\"#009af9\" fill-rule=\"evenodd\" fill-opacity=\"1\"/>\n<polyline clip-path=\"url(#clip9602)\" style=\"stroke:#000000; stroke-width:4; stroke-opacity:1; fill:none\" points=\"\n  698.747,1348.36 698.747,1561.17 711.801,1561.17 711.801,1348.36 698.747,1348.36 \n  \"/>\n<path clip-path=\"url(#clip9602)\" d=\"\nM715.064 1559.01 L715.064 1561.17 L728.118 1561.17 L728.118 1559.01 L715.064 1559.01 L715.064 1559.01  Z\n  \" fill=\"#009af9\" fill-rule=\"evenodd\" fill-opacity=\"1\"/>\n<polyline clip-path=\"url(#clip9602)\" style=\"stroke:#000000; stroke-width:4; stroke-opacity:1; fill:none\" points=\"\n  715.064,1559.01 715.064,1561.17 728.118,1561.17 728.118,1559.01 715.064,1559.01 \n  \"/>\n<path clip-path=\"url(#clip9602)\" d=\"\nM731.381 1555.4 L731.381 1561.17 L744.435 1561.17 L744.435 1555.4 L731.381 1555.4 L731.381 1555.4  Z\n  \" fill=\"#009af9\" fill-rule=\"evenodd\" fill-opacity=\"1\"/>\n<polyline clip-path=\"url(#clip9602)\" style=\"stroke:#000000; stroke-width:4; stroke-opacity:1; fill:none\" points=\"\n  731.381,1555.4 731.381,1561.17 744.435,1561.17 744.435,1555.4 731.381,1555.4 \n  \"/>\n<path clip-path=\"url(#clip9602)\" d=\"\nM747.698 1266.84 L747.698 1561.17 L760.751 1561.17 L760.751 1266.84 L747.698 1266.84 L747.698 1266.84  Z\n  \" fill=\"#009af9\" fill-rule=\"evenodd\" fill-opacity=\"1\"/>\n<polyline clip-path=\"url(#clip9602)\" style=\"stroke:#000000; stroke-width:4; stroke-opacity:1; fill:none\" points=\"\n  747.698,1266.84 747.698,1561.17 760.751,1561.17 760.751,1266.84 747.698,1266.84 \n  \"/>\n<path clip-path=\"url(#clip9602)\" d=\"\nM764.015 546.139 L764.015 1561.17 L777.068 1561.17 L777.068 546.139 L764.015 546.139 L764.015 546.139  Z\n  \" fill=\"#009af9\" fill-rule=\"evenodd\" fill-opacity=\"1\"/>\n<polyline clip-path=\"url(#clip9602)\" style=\"stroke:#000000; stroke-width:4; stroke-opacity:1; fill:none\" points=\"\n  764.015,546.139 764.015,1561.17 777.068,1561.17 777.068,546.139 764.015,546.139 \n  \"/>\n<path clip-path=\"url(#clip9602)\" d=\"\nM894.55 1164.39 L894.55 1561.17 L907.603 1561.17 L907.603 1164.39 L894.55 1164.39 L894.55 1164.39  Z\n  \" fill=\"#009af9\" fill-rule=\"evenodd\" fill-opacity=\"1\"/>\n<polyline clip-path=\"url(#clip9602)\" style=\"stroke:#000000; stroke-width:4; stroke-opacity:1; fill:none\" points=\"\n  894.55,1164.39 894.55,1561.17 907.603,1561.17 907.603,1164.39 894.55,1164.39 \n  \"/>\n<path clip-path=\"url(#clip9602)\" d=\"\nM910.867 1167.28 L910.867 1561.17 L923.92 1561.17 L923.92 1167.28 L910.867 1167.28 L910.867 1167.28  Z\n  \" fill=\"#009af9\" fill-rule=\"evenodd\" fill-opacity=\"1\"/>\n<polyline clip-path=\"url(#clip9602)\" style=\"stroke:#000000; stroke-width:4; stroke-opacity:1; fill:none\" points=\"\n  910.867,1167.28 910.867,1561.17 923.92,1561.17 923.92,1167.28 910.867,1167.28 \n  \"/>\n<path clip-path=\"url(#clip9602)\" d=\"\nM976.134 1528.71 L976.134 1561.17 L989.187 1561.17 L989.187 1528.71 L976.134 1528.71 L976.134 1528.71  Z\n  \" fill=\"#009af9\" fill-rule=\"evenodd\" fill-opacity=\"1\"/>\n<polyline clip-path=\"url(#clip9602)\" style=\"stroke:#000000; stroke-width:4; stroke-opacity:1; fill:none\" points=\"\n  976.134,1528.71 976.134,1561.17 989.187,1561.17 989.187,1528.71 976.134,1528.71 \n  \"/>\n<path clip-path=\"url(#clip9602)\" d=\"\nM1025.08 1033.1 L1025.08 1561.17 L1038.14 1561.17 L1038.14 1033.1 L1025.08 1033.1 L1025.08 1033.1  Z\n  \" fill=\"#009af9\" fill-rule=\"evenodd\" fill-opacity=\"1\"/>\n<polyline clip-path=\"url(#clip9602)\" style=\"stroke:#000000; stroke-width:4; stroke-opacity:1; fill:none\" points=\"\n  1025.08,1033.1 1025.08,1561.17 1038.14,1561.17 1038.14,1033.1 1025.08,1033.1 \n  \"/>\n<path clip-path=\"url(#clip9602)\" d=\"\nM1041.4 1458.73 L1041.4 1561.17 L1054.45 1561.17 L1054.45 1458.73 L1041.4 1458.73 L1041.4 1458.73  Z\n  \" fill=\"#009af9\" fill-rule=\"evenodd\" fill-opacity=\"1\"/>\n<polyline clip-path=\"url(#clip9602)\" style=\"stroke:#000000; stroke-width:4; stroke-opacity:1; fill:none\" points=\"\n  1041.4,1458.73 1041.4,1561.17 1054.45,1561.17 1054.45,1458.73 1041.4,1458.73 \n  \"/>\n<path clip-path=\"url(#clip9602)\" d=\"\nM1057.72 1471.72 L1057.72 1561.17 L1070.77 1561.17 L1070.77 1471.72 L1057.72 1471.72 L1057.72 1471.72  Z\n  \" fill=\"#009af9\" fill-rule=\"evenodd\" fill-opacity=\"1\"/>\n<polyline clip-path=\"url(#clip9602)\" style=\"stroke:#000000; stroke-width:4; stroke-opacity:1; fill:none\" points=\"\n  1057.72,1471.72 1057.72,1561.17 1070.77,1561.17 1070.77,1471.72 1057.72,1471.72 \n  \"/>\n<path clip-path=\"url(#clip9602)\" d=\"\nM1074.04 1556.85 L1074.04 1561.17 L1087.09 1561.17 L1087.09 1556.85 L1074.04 1556.85 L1074.04 1556.85  Z\n  \" fill=\"#009af9\" fill-rule=\"evenodd\" fill-opacity=\"1\"/>\n<polyline clip-path=\"url(#clip9602)\" style=\"stroke:#000000; stroke-width:4; stroke-opacity:1; fill:none\" points=\"\n  1074.04,1556.85 1074.04,1561.17 1087.09,1561.17 1087.09,1556.85 1074.04,1556.85 \n  \"/>\n<path clip-path=\"url(#clip9602)\" d=\"\nM1090.35 942.919 L1090.35 1561.17 L1103.41 1561.17 L1103.41 942.919 L1090.35 942.919 L1090.35 942.919  Z\n  \" fill=\"#009af9\" fill-rule=\"evenodd\" fill-opacity=\"1\"/>\n<polyline clip-path=\"url(#clip9602)\" style=\"stroke:#000000; stroke-width:4; stroke-opacity:1; fill:none\" points=\"\n  1090.35,942.919 1090.35,1561.17 1103.41,1561.17 1103.41,942.919 1090.35,942.919 \n  \"/>\n<path clip-path=\"url(#clip9602)\" d=\"\nM1122.99 1021.55 L1122.99 1561.17 L1136.04 1561.17 L1136.04 1021.55 L1122.99 1021.55 L1122.99 1021.55  Z\n  \" fill=\"#009af9\" fill-rule=\"evenodd\" fill-opacity=\"1\"/>\n<polyline clip-path=\"url(#clip9602)\" style=\"stroke:#000000; stroke-width:4; stroke-opacity:1; fill:none\" points=\"\n  1122.99,1021.55 1122.99,1561.17 1136.04,1561.17 1136.04,1021.55 1122.99,1021.55 \n  \"/>\n<path clip-path=\"url(#clip9602)\" d=\"\nM1139.3 955.183 L1139.3 1561.17 L1152.36 1561.17 L1152.36 955.183 L1139.3 955.183 L1139.3 955.183  Z\n  \" fill=\"#009af9\" fill-rule=\"evenodd\" fill-opacity=\"1\"/>\n<polyline clip-path=\"url(#clip9602)\" style=\"stroke:#000000; stroke-width:4; stroke-opacity:1; fill:none\" points=\"\n  1139.3,955.183 1139.3,1561.17 1152.36,1561.17 1152.36,955.183 1139.3,955.183 \n  \"/>\n<path clip-path=\"url(#clip9602)\" d=\"\nM1171.94 1559.73 L1171.94 1561.17 L1184.99 1561.17 L1184.99 1559.73 L1171.94 1559.73 L1171.94 1559.73  Z\n  \" fill=\"#009af9\" fill-rule=\"evenodd\" fill-opacity=\"1\"/>\n<polyline clip-path=\"url(#clip9602)\" style=\"stroke:#000000; stroke-width:4; stroke-opacity:1; fill:none\" points=\"\n  1171.94,1559.73 1171.94,1561.17 1184.99,1561.17 1184.99,1559.73 1171.94,1559.73 \n  \"/>\n<path clip-path=\"url(#clip9602)\" d=\"\nM1188.25 1538.09 L1188.25 1561.17 L1201.31 1561.17 L1201.31 1538.09 L1188.25 1538.09 L1188.25 1538.09  Z\n  \" fill=\"#009af9\" fill-rule=\"evenodd\" fill-opacity=\"1\"/>\n<polyline clip-path=\"url(#clip9602)\" style=\"stroke:#000000; stroke-width:4; stroke-opacity:1; fill:none\" points=\"\n  1188.25,1538.09 1188.25,1561.17 1201.31,1561.17 1201.31,1538.09 1188.25,1538.09 \n  \"/>\n<path clip-path=\"url(#clip9602)\" d=\"\nM1269.84 1051.13 L1269.84 1561.17 L1282.89 1561.17 L1282.89 1051.13 L1269.84 1051.13 L1269.84 1051.13  Z\n  \" fill=\"#009af9\" fill-rule=\"evenodd\" fill-opacity=\"1\"/>\n<polyline clip-path=\"url(#clip9602)\" style=\"stroke:#000000; stroke-width:4; stroke-opacity:1; fill:none\" points=\"\n  1269.84,1051.13 1269.84,1561.17 1282.89,1561.17 1282.89,1051.13 1269.84,1051.13 \n  \"/>\n<path clip-path=\"url(#clip9602)\" d=\"\nM1286.15 924.162 L1286.15 1561.17 L1299.21 1561.17 L1299.21 924.162 L1286.15 924.162 L1286.15 924.162  Z\n  \" fill=\"#009af9\" fill-rule=\"evenodd\" fill-opacity=\"1\"/>\n<polyline clip-path=\"url(#clip9602)\" style=\"stroke:#000000; stroke-width:4; stroke-opacity:1; fill:none\" points=\"\n  1286.15,924.162 1286.15,1561.17 1299.21,1561.17 1299.21,924.162 1286.15,924.162 \n  \"/>\n<path clip-path=\"url(#clip9602)\" d=\"\nM1318.79 903.962 L1318.79 1561.17 L1331.84 1561.17 L1331.84 903.962 L1318.79 903.962 L1318.79 903.962  Z\n  \" fill=\"#009af9\" fill-rule=\"evenodd\" fill-opacity=\"1\"/>\n<polyline clip-path=\"url(#clip9602)\" style=\"stroke:#000000; stroke-width:4; stroke-opacity:1; fill:none\" points=\"\n  1318.79,903.962 1318.79,1561.17 1331.84,1561.17 1331.84,903.962 1318.79,903.962 \n  \"/>\n<path clip-path=\"url(#clip9602)\" d=\"\nM1384.06 1159.34 L1384.06 1561.17 L1397.11 1561.17 L1397.11 1159.34 L1384.06 1159.34 L1384.06 1159.34  Z\n  \" fill=\"#009af9\" fill-rule=\"evenodd\" fill-opacity=\"1\"/>\n<polyline clip-path=\"url(#clip9602)\" style=\"stroke:#000000; stroke-width:4; stroke-opacity:1; fill:none\" points=\"\n  1384.06,1159.34 1384.06,1561.17 1397.11,1561.17 1397.11,1159.34 1384.06,1159.34 \n  \"/>\n<path clip-path=\"url(#clip9602)\" d=\"\nM1416.69 1530.87 L1416.69 1561.17 L1429.74 1561.17 L1429.74 1530.87 L1416.69 1530.87 L1416.69 1530.87  Z\n  \" fill=\"#009af9\" fill-rule=\"evenodd\" fill-opacity=\"1\"/>\n<polyline clip-path=\"url(#clip9602)\" style=\"stroke:#000000; stroke-width:4; stroke-opacity:1; fill:none\" points=\"\n  1416.69,1530.87 1416.69,1561.17 1429.74,1561.17 1429.74,1530.87 1416.69,1530.87 \n  \"/>\n<path clip-path=\"url(#clip9602)\" d=\"\nM1465.64 1516.45 L1465.64 1561.17 L1478.69 1561.17 L1478.69 1516.45 L1465.64 1516.45 L1465.64 1516.45  Z\n  \" fill=\"#009af9\" fill-rule=\"evenodd\" fill-opacity=\"1\"/>\n<polyline clip-path=\"url(#clip9602)\" style=\"stroke:#000000; stroke-width:4; stroke-opacity:1; fill:none\" points=\"\n  1465.64,1516.45 1465.64,1561.17 1478.69,1561.17 1478.69,1516.45 1465.64,1516.45 \n  \"/>\n<path clip-path=\"url(#clip9602)\" d=\"\nM1481.96 1505.63 L1481.96 1561.17 L1495.01 1561.17 L1495.01 1505.63 L1481.96 1505.63 L1481.96 1505.63  Z\n  \" fill=\"#009af9\" fill-rule=\"evenodd\" fill-opacity=\"1\"/>\n<polyline clip-path=\"url(#clip9602)\" style=\"stroke:#000000; stroke-width:4; stroke-opacity:1; fill:none\" points=\"\n  1481.96,1505.63 1481.96,1561.17 1495.01,1561.17 1495.01,1505.63 1481.96,1505.63 \n  \"/>\n<path clip-path=\"url(#clip9602)\" d=\"\nM1498.27 1183.15 L1498.27 1561.17 L1511.33 1561.17 L1511.33 1183.15 L1498.27 1183.15 L1498.27 1183.15  Z\n  \" fill=\"#009af9\" fill-rule=\"evenodd\" fill-opacity=\"1\"/>\n<polyline clip-path=\"url(#clip9602)\" style=\"stroke:#000000; stroke-width:4; stroke-opacity:1; fill:none\" points=\"\n  1498.27,1183.15 1498.27,1561.17 1511.33,1561.17 1511.33,1183.15 1498.27,1183.15 \n  \"/>\n<path clip-path=\"url(#clip9602)\" d=\"\nM1514.59 1548.19 L1514.59 1561.17 L1527.64 1561.17 L1527.64 1548.19 L1514.59 1548.19 L1514.59 1548.19  Z\n  \" fill=\"#009af9\" fill-rule=\"evenodd\" fill-opacity=\"1\"/>\n<polyline clip-path=\"url(#clip9602)\" style=\"stroke:#000000; stroke-width:4; stroke-opacity:1; fill:none\" points=\"\n  1514.59,1548.19 1514.59,1561.17 1527.64,1561.17 1527.64,1548.19 1514.59,1548.19 \n  \"/>\n<path clip-path=\"url(#clip9602)\" d=\"\nM1530.91 1520.05 L1530.91 1561.17 L1543.96 1561.17 L1543.96 1520.05 L1530.91 1520.05 L1530.91 1520.05  Z\n  \" fill=\"#009af9\" fill-rule=\"evenodd\" fill-opacity=\"1\"/>\n<polyline clip-path=\"url(#clip9602)\" style=\"stroke:#000000; stroke-width:4; stroke-opacity:1; fill:none\" points=\"\n  1530.91,1520.05 1530.91,1561.17 1543.96,1561.17 1543.96,1520.05 1530.91,1520.05 \n  \"/>\n<path clip-path=\"url(#clip9602)\" d=\"\nM1547.22 1346.19 L1547.22 1561.17 L1560.28 1561.17 L1560.28 1346.19 L1547.22 1346.19 L1547.22 1346.19  Z\n  \" fill=\"#009af9\" fill-rule=\"evenodd\" fill-opacity=\"1\"/>\n<polyline clip-path=\"url(#clip9602)\" style=\"stroke:#000000; stroke-width:4; stroke-opacity:1; fill:none\" points=\"\n  1547.22,1346.19 1547.22,1561.17 1560.28,1561.17 1560.28,1346.19 1547.22,1346.19 \n  \"/>\n<path clip-path=\"url(#clip9602)\" d=\"\nM1563.54 1266.84 L1563.54 1561.17 L1576.59 1561.17 L1576.59 1266.84 L1563.54 1266.84 L1563.54 1266.84  Z\n  \" fill=\"#009af9\" fill-rule=\"evenodd\" fill-opacity=\"1\"/>\n<polyline clip-path=\"url(#clip9602)\" style=\"stroke:#000000; stroke-width:4; stroke-opacity:1; fill:none\" points=\"\n  1563.54,1266.84 1563.54,1561.17 1576.59,1561.17 1576.59,1266.84 1563.54,1266.84 \n  \"/>\n<path clip-path=\"url(#clip9602)\" d=\"\nM1579.86 1551.8 L1579.86 1561.17 L1592.91 1561.17 L1592.91 1551.8 L1579.86 1551.8 L1579.86 1551.8  Z\n  \" fill=\"#009af9\" fill-rule=\"evenodd\" fill-opacity=\"1\"/>\n<polyline clip-path=\"url(#clip9602)\" style=\"stroke:#000000; stroke-width:4; stroke-opacity:1; fill:none\" points=\"\n  1579.86,1551.8 1579.86,1561.17 1592.91,1561.17 1592.91,1551.8 1579.86,1551.8 \n  \"/>\n<path clip-path=\"url(#clip9602)\" d=\"\nM1612.49 1219.94 L1612.49 1561.17 L1625.54 1561.17 L1625.54 1219.94 L1612.49 1219.94 L1612.49 1219.94  Z\n  \" fill=\"#009af9\" fill-rule=\"evenodd\" fill-opacity=\"1\"/>\n<polyline clip-path=\"url(#clip9602)\" style=\"stroke:#000000; stroke-width:4; stroke-opacity:1; fill:none\" points=\"\n  1612.49,1219.94 1612.49,1561.17 1625.54,1561.17 1625.54,1219.94 1612.49,1219.94 \n  \"/>\n<path clip-path=\"url(#clip9602)\" d=\"\nM1628.81 1485.43 L1628.81 1561.17 L1641.86 1561.17 L1641.86 1485.43 L1628.81 1485.43 L1628.81 1485.43  Z\n  \" fill=\"#009af9\" fill-rule=\"evenodd\" fill-opacity=\"1\"/>\n<polyline clip-path=\"url(#clip9602)\" style=\"stroke:#000000; stroke-width:4; stroke-opacity:1; fill:none\" points=\"\n  1628.81,1485.43 1628.81,1561.17 1641.86,1561.17 1641.86,1485.43 1628.81,1485.43 \n  \"/>\n<path clip-path=\"url(#clip9602)\" d=\"\nM1661.44 1300.74 L1661.44 1561.17 L1674.5 1561.17 L1674.5 1300.74 L1661.44 1300.74 L1661.44 1300.74  Z\n  \" fill=\"#009af9\" fill-rule=\"evenodd\" fill-opacity=\"1\"/>\n<polyline clip-path=\"url(#clip9602)\" style=\"stroke:#000000; stroke-width:4; stroke-opacity:1; fill:none\" points=\"\n  1661.44,1300.74 1661.44,1561.17 1674.5,1561.17 1674.5,1300.74 1661.44,1300.74 \n  \"/>\n<path clip-path=\"url(#clip9602)\" d=\"\nM1694.08 1215.62 L1694.08 1561.17 L1707.13 1561.17 L1707.13 1215.62 L1694.08 1215.62 L1694.08 1215.62  Z\n  \" fill=\"#009af9\" fill-rule=\"evenodd\" fill-opacity=\"1\"/>\n<polyline clip-path=\"url(#clip9602)\" style=\"stroke:#000000; stroke-width:4; stroke-opacity:1; fill:none\" points=\"\n  1694.08,1215.62 1694.08,1561.17 1707.13,1561.17 1707.13,1215.62 1694.08,1215.62 \n  \"/>\n<path clip-path=\"url(#clip9602)\" d=\"\nM1710.39 1023.72 L1710.39 1561.17 L1723.45 1561.17 L1723.45 1023.72 L1710.39 1023.72 L1710.39 1023.72  Z\n  \" fill=\"#009af9\" fill-rule=\"evenodd\" fill-opacity=\"1\"/>\n<polyline clip-path=\"url(#clip9602)\" style=\"stroke:#000000; stroke-width:4; stroke-opacity:1; fill:none\" points=\"\n  1710.39,1023.72 1710.39,1561.17 1723.45,1561.17 1723.45,1023.72 1710.39,1023.72 \n  \"/>\n<path clip-path=\"url(#clip9602)\" d=\"\nM1726.71 1398.13 L1726.71 1561.17 L1739.76 1561.17 L1739.76 1398.13 L1726.71 1398.13 L1726.71 1398.13  Z\n  \" fill=\"#009af9\" fill-rule=\"evenodd\" fill-opacity=\"1\"/>\n<polyline clip-path=\"url(#clip9602)\" style=\"stroke:#000000; stroke-width:4; stroke-opacity:1; fill:none\" points=\"\n  1726.71,1398.13 1726.71,1561.17 1739.76,1561.17 1739.76,1398.13 1726.71,1398.13 \n  \"/>\n<path clip-path=\"url(#clip9602)\" d=\"\nM1743.03 1551.8 L1743.03 1561.17 L1756.08 1561.17 L1756.08 1551.8 L1743.03 1551.8 L1743.03 1551.8  Z\n  \" fill=\"#009af9\" fill-rule=\"evenodd\" fill-opacity=\"1\"/>\n<polyline clip-path=\"url(#clip9602)\" style=\"stroke:#000000; stroke-width:4; stroke-opacity:1; fill:none\" points=\"\n  1743.03,1551.8 1743.03,1561.17 1756.08,1561.17 1756.08,1551.8 1743.03,1551.8 \n  \"/>\n<path clip-path=\"url(#clip9602)\" d=\"\nM1759.34 1105.24 L1759.34 1561.17 L1772.4 1561.17 L1772.4 1105.24 L1759.34 1105.24 L1759.34 1105.24  Z\n  \" fill=\"#009af9\" fill-rule=\"evenodd\" fill-opacity=\"1\"/>\n<polyline clip-path=\"url(#clip9602)\" style=\"stroke:#000000; stroke-width:4; stroke-opacity:1; fill:none\" points=\"\n  1759.34,1105.24 1759.34,1561.17 1772.4,1561.17 1772.4,1105.24 1759.34,1105.24 \n  \"/>\n<path clip-path=\"url(#clip9602)\" d=\"\nM1791.98 1558.29 L1791.98 1561.17 L1805.03 1561.17 L1805.03 1558.29 L1791.98 1558.29 L1791.98 1558.29  Z\n  \" fill=\"#009af9\" fill-rule=\"evenodd\" fill-opacity=\"1\"/>\n<polyline clip-path=\"url(#clip9602)\" style=\"stroke:#000000; stroke-width:4; stroke-opacity:1; fill:none\" points=\"\n  1791.98,1558.29 1791.98,1561.17 1805.03,1561.17 1805.03,1558.29 1791.98,1558.29 \n  \"/>\n<path clip-path=\"url(#clip9602)\" d=\"\nM1808.29 1286.31 L1808.29 1561.17 L1821.35 1561.17 L1821.35 1286.31 L1808.29 1286.31 L1808.29 1286.31  Z\n  \" fill=\"#009af9\" fill-rule=\"evenodd\" fill-opacity=\"1\"/>\n<polyline clip-path=\"url(#clip9602)\" style=\"stroke:#000000; stroke-width:4; stroke-opacity:1; fill:none\" points=\"\n  1808.29,1286.31 1808.29,1561.17 1821.35,1561.17 1821.35,1286.31 1808.29,1286.31 \n  \"/>\n<path clip-path=\"url(#clip9602)\" d=\"\nM1824.61 1114.62 L1824.61 1561.17 L1837.66 1561.17 L1837.66 1114.62 L1824.61 1114.62 L1824.61 1114.62  Z\n  \" fill=\"#009af9\" fill-rule=\"evenodd\" fill-opacity=\"1\"/>\n<polyline clip-path=\"url(#clip9602)\" style=\"stroke:#000000; stroke-width:4; stroke-opacity:1; fill:none\" points=\"\n  1824.61,1114.62 1824.61,1561.17 1837.66,1561.17 1837.66,1114.62 1824.61,1114.62 \n  \"/>\n<path clip-path=\"url(#clip9602)\" d=\"\nM1840.93 1499.13 L1840.93 1561.17 L1853.98 1561.17 L1853.98 1499.13 L1840.93 1499.13 L1840.93 1499.13  Z\n  \" fill=\"#009af9\" fill-rule=\"evenodd\" fill-opacity=\"1\"/>\n<polyline clip-path=\"url(#clip9602)\" style=\"stroke:#000000; stroke-width:4; stroke-opacity:1; fill:none\" points=\"\n  1840.93,1499.13 1840.93,1561.17 1853.98,1561.17 1853.98,1499.13 1840.93,1499.13 \n  \"/>\n<path clip-path=\"url(#clip9602)\" d=\"\nM1873.56 1521.5 L1873.56 1561.17 L1886.61 1561.17 L1886.61 1521.5 L1873.56 1521.5 L1873.56 1521.5  Z\n  \" fill=\"#009af9\" fill-rule=\"evenodd\" fill-opacity=\"1\"/>\n<polyline clip-path=\"url(#clip9602)\" style=\"stroke:#000000; stroke-width:4; stroke-opacity:1; fill:none\" points=\"\n  1873.56,1521.5 1873.56,1561.17 1886.61,1561.17 1886.61,1521.5 1873.56,1521.5 \n  \"/>\n<path clip-path=\"url(#clip9602)\" d=\"\nM1889.88 1551.07 L1889.88 1561.17 L1902.93 1561.17 L1902.93 1551.07 L1889.88 1551.07 L1889.88 1551.07  Z\n  \" fill=\"#009af9\" fill-rule=\"evenodd\" fill-opacity=\"1\"/>\n<polyline clip-path=\"url(#clip9602)\" style=\"stroke:#000000; stroke-width:4; stroke-opacity:1; fill:none\" points=\"\n  1889.88,1551.07 1889.88,1561.17 1902.93,1561.17 1902.93,1551.07 1889.88,1551.07 \n  \"/>\n<path clip-path=\"url(#clip9602)\" d=\"\nM1906.19 1047.52 L1906.19 1561.17 L1919.25 1561.17 L1919.25 1047.52 L1906.19 1047.52 L1906.19 1047.52  Z\n  \" fill=\"#009af9\" fill-rule=\"evenodd\" fill-opacity=\"1\"/>\n<polyline clip-path=\"url(#clip9602)\" style=\"stroke:#000000; stroke-width:4; stroke-opacity:1; fill:none\" points=\"\n  1906.19,1047.52 1906.19,1561.17 1919.25,1561.17 1919.25,1047.52 1906.19,1047.52 \n  \"/>\n<path clip-path=\"url(#clip9602)\" d=\"\nM1938.83 745.25 L1938.83 1561.17 L1951.88 1561.17 L1951.88 745.25 L1938.83 745.25 L1938.83 745.25  Z\n  \" fill=\"#009af9\" fill-rule=\"evenodd\" fill-opacity=\"1\"/>\n<polyline clip-path=\"url(#clip9602)\" style=\"stroke:#000000; stroke-width:4; stroke-opacity:1; fill:none\" points=\"\n  1938.83,745.25 1938.83,1561.17 1951.88,1561.17 1951.88,745.25 1938.83,745.25 \n  \"/>\n<path clip-path=\"url(#clip9602)\" d=\"\nM1955.15 1119.67 L1955.15 1561.17 L1968.2 1561.17 L1968.2 1119.67 L1955.15 1119.67 L1955.15 1119.67  Z\n  \" fill=\"#009af9\" fill-rule=\"evenodd\" fill-opacity=\"1\"/>\n<polyline clip-path=\"url(#clip9602)\" style=\"stroke:#000000; stroke-width:4; stroke-opacity:1; fill:none\" points=\"\n  1955.15,1119.67 1955.15,1561.17 1968.2,1561.17 1968.2,1119.67 1955.15,1119.67 \n  \"/>\n<path clip-path=\"url(#clip9602)\" d=\"\nM1971.46 600.967 L1971.46 1561.17 L1984.52 1561.17 L1984.52 600.967 L1971.46 600.967 L1971.46 600.967  Z\n  \" fill=\"#009af9\" fill-rule=\"evenodd\" fill-opacity=\"1\"/>\n<polyline clip-path=\"url(#clip9602)\" style=\"stroke:#000000; stroke-width:4; stroke-opacity:1; fill:none\" points=\"\n  1971.46,600.967 1971.46,1561.17 1984.52,1561.17 1984.52,600.967 1971.46,600.967 \n  \"/>\n<path clip-path=\"url(#clip9602)\" d=\"\nM1987.78 1520.78 L1987.78 1561.17 L2000.83 1561.17 L2000.83 1520.78 L1987.78 1520.78 L1987.78 1520.78  Z\n  \" fill=\"#009af9\" fill-rule=\"evenodd\" fill-opacity=\"1\"/>\n<polyline clip-path=\"url(#clip9602)\" style=\"stroke:#000000; stroke-width:4; stroke-opacity:1; fill:none\" points=\"\n  1987.78,1520.78 1987.78,1561.17 2000.83,1561.17 2000.83,1520.78 1987.78,1520.78 \n  \"/>\n<path clip-path=\"url(#clip9602)\" d=\"\nM2036.73 1149.97 L2036.73 1561.17 L2049.78 1561.17 L2049.78 1149.97 L2036.73 1149.97 L2036.73 1149.97  Z\n  \" fill=\"#009af9\" fill-rule=\"evenodd\" fill-opacity=\"1\"/>\n<polyline clip-path=\"url(#clip9602)\" style=\"stroke:#000000; stroke-width:4; stroke-opacity:1; fill:none\" points=\"\n  2036.73,1149.97 2036.73,1561.17 2049.78,1561.17 2049.78,1149.97 2036.73,1149.97 \n  \"/>\n<path clip-path=\"url(#clip9602)\" d=\"\nM2053.05 1179.54 L2053.05 1561.17 L2066.1 1561.17 L2066.1 1179.54 L2053.05 1179.54 L2053.05 1179.54  Z\n  \" fill=\"#009af9\" fill-rule=\"evenodd\" fill-opacity=\"1\"/>\n<polyline clip-path=\"url(#clip9602)\" style=\"stroke:#000000; stroke-width:4; stroke-opacity:1; fill:none\" points=\"\n  2053.05,1179.54 2053.05,1561.17 2066.1,1561.17 2066.1,1179.54 2053.05,1179.54 \n  \"/>\n<path clip-path=\"url(#clip9602)\" d=\"\nM2085.68 1252.41 L2085.68 1561.17 L2098.73 1561.17 L2098.73 1252.41 L2085.68 1252.41 L2085.68 1252.41  Z\n  \" fill=\"#009af9\" fill-rule=\"evenodd\" fill-opacity=\"1\"/>\n<polyline clip-path=\"url(#clip9602)\" style=\"stroke:#000000; stroke-width:4; stroke-opacity:1; fill:none\" points=\"\n  2085.68,1252.41 2085.68,1561.17 2098.73,1561.17 2098.73,1252.41 2085.68,1252.41 \n  \"/>\n<path clip-path=\"url(#clip9602)\" d=\"\nM2102 1395.97 L2102 1561.17 L2115.05 1561.17 L2115.05 1395.97 L2102 1395.97 L2102 1395.97  Z\n  \" fill=\"#009af9\" fill-rule=\"evenodd\" fill-opacity=\"1\"/>\n<polyline clip-path=\"url(#clip9602)\" style=\"stroke:#000000; stroke-width:4; stroke-opacity:1; fill:none\" points=\"\n  2102,1395.97 2102,1561.17 2115.05,1561.17 2115.05,1395.97 2102,1395.97 \n  \"/>\n<path clip-path=\"url(#clip9602)\" d=\"\nM2134.63 842.642 L2134.63 1561.17 L2147.68 1561.17 L2147.68 842.642 L2134.63 842.642 L2134.63 842.642  Z\n  \" fill=\"#009af9\" fill-rule=\"evenodd\" fill-opacity=\"1\"/>\n<polyline clip-path=\"url(#clip9602)\" style=\"stroke:#000000; stroke-width:4; stroke-opacity:1; fill:none\" points=\"\n  2134.63,842.642 2134.63,1561.17 2147.68,1561.17 2147.68,842.642 2134.63,842.642 \n  \"/>\n<path clip-path=\"url(#clip9602)\" d=\"\nM2150.95 1505.63 L2150.95 1561.17 L2164 1561.17 L2164 1505.63 L2150.95 1505.63 L2150.95 1505.63  Z\n  \" fill=\"#009af9\" fill-rule=\"evenodd\" fill-opacity=\"1\"/>\n<polyline clip-path=\"url(#clip9602)\" style=\"stroke:#000000; stroke-width:4; stroke-opacity:1; fill:none\" points=\"\n  2150.95,1505.63 2150.95,1561.17 2164,1561.17 2164,1505.63 2150.95,1505.63 \n  \"/>\n<path clip-path=\"url(#clip9602)\" d=\"\nM2216.22 1374.33 L2216.22 1561.17 L2229.27 1561.17 L2229.27 1374.33 L2216.22 1374.33 L2216.22 1374.33  Z\n  \" fill=\"#009af9\" fill-rule=\"evenodd\" fill-opacity=\"1\"/>\n<polyline clip-path=\"url(#clip9602)\" style=\"stroke:#000000; stroke-width:4; stroke-opacity:1; fill:none\" points=\"\n  2216.22,1374.33 2216.22,1561.17 2229.27,1561.17 2229.27,1374.33 2216.22,1374.33 \n  \"/>\n<path clip-path=\"url(#clip9602)\" d=\"\nM2232.53 925.605 L2232.53 1561.17 L2245.59 1561.17 L2245.59 925.605 L2232.53 925.605 L2232.53 925.605  Z\n  \" fill=\"#009af9\" fill-rule=\"evenodd\" fill-opacity=\"1\"/>\n<polyline clip-path=\"url(#clip9602)\" style=\"stroke:#000000; stroke-width:4; stroke-opacity:1; fill:none\" points=\"\n  2232.53,925.605 2232.53,1561.17 2245.59,1561.17 2245.59,925.605 2232.53,925.605 \n  \"/>\n<path clip-path=\"url(#clip9602)\" d=\"\nM2248.85 1546.75 L2248.85 1561.17 L2261.9 1561.17 L2261.9 1546.75 L2248.85 1546.75 L2248.85 1546.75  Z\n  \" fill=\"#009af9\" fill-rule=\"evenodd\" fill-opacity=\"1\"/>\n<polyline clip-path=\"url(#clip9602)\" style=\"stroke:#000000; stroke-width:4; stroke-opacity:1; fill:none\" points=\"\n  2248.85,1546.75 2248.85,1561.17 2261.9,1561.17 2261.9,1546.75 2248.85,1546.75 \n  \"/>\n<path clip-path=\"url(#clip9602)\" d=\"\nM2265.17 1524.38 L2265.17 1561.17 L2278.22 1561.17 L2278.22 1524.38 L2265.17 1524.38 L2265.17 1524.38  Z\n  \" fill=\"#009af9\" fill-rule=\"evenodd\" fill-opacity=\"1\"/>\n<polyline clip-path=\"url(#clip9602)\" style=\"stroke:#000000; stroke-width:4; stroke-opacity:1; fill:none\" points=\"\n  2265.17,1524.38 2265.17,1561.17 2278.22,1561.17 2278.22,1524.38 2265.17,1524.38 \n  \"/>\n<path clip-path=\"url(#clip9602)\" d=\"\nM2281.48 1338.26 L2281.48 1561.17 L2294.54 1561.17 L2294.54 1338.26 L2281.48 1338.26 L2281.48 1338.26  Z\n  \" fill=\"#009af9\" fill-rule=\"evenodd\" fill-opacity=\"1\"/>\n<polyline clip-path=\"url(#clip9602)\" style=\"stroke:#000000; stroke-width:4; stroke-opacity:1; fill:none\" points=\"\n  2281.48,1338.26 2281.48,1561.17 2294.54,1561.17 2294.54,1338.26 2281.48,1338.26 \n  \"/>\n<path clip-path=\"url(#clip9602)\" d=\"\nM2297.8 1036.7 L2297.8 1561.17 L2310.85 1561.17 L2310.85 1036.7 L2297.8 1036.7 L2297.8 1036.7  Z\n  \" fill=\"#009af9\" fill-rule=\"evenodd\" fill-opacity=\"1\"/>\n<polyline clip-path=\"url(#clip9602)\" style=\"stroke:#000000; stroke-width:4; stroke-opacity:1; fill:none\" points=\"\n  2297.8,1036.7 2297.8,1561.17 2310.85,1561.17 2310.85,1036.7 2297.8,1036.7 \n  \"/>\n<path clip-path=\"url(#clip9602)\" d=\"\nM2330.43 1031.65 L2330.43 1561.17 L2343.49 1561.17 L2343.49 1031.65 L2330.43 1031.65 L2330.43 1031.65  Z\n  \" fill=\"#009af9\" fill-rule=\"evenodd\" fill-opacity=\"1\"/>\n<polyline clip-path=\"url(#clip9602)\" style=\"stroke:#000000; stroke-width:4; stroke-opacity:1; fill:none\" points=\"\n  2330.43,1031.65 2330.43,1561.17 2343.49,1561.17 2343.49,1031.65 2330.43,1031.65 \n  \"/>\n<path clip-path=\"url(#clip9602)\" d=\"\nM2363.07 1013.62 L2363.07 1561.17 L2376.12 1561.17 L2376.12 1013.62 L2363.07 1013.62 L2363.07 1013.62  Z\n  \" fill=\"#009af9\" fill-rule=\"evenodd\" fill-opacity=\"1\"/>\n<polyline clip-path=\"url(#clip9602)\" style=\"stroke:#000000; stroke-width:4; stroke-opacity:1; fill:none\" points=\"\n  2363.07,1013.62 2363.07,1561.17 2376.12,1561.17 2376.12,1013.62 2363.07,1013.62 \n  \"/>\n<path clip-path=\"url(#clip9602)\" d=\"\nM2379.38 1559.01 L2379.38 1561.17 L2392.44 1561.17 L2392.44 1559.01 L2379.38 1559.01 L2379.38 1559.01  Z\n  \" fill=\"#009af9\" fill-rule=\"evenodd\" fill-opacity=\"1\"/>\n<polyline clip-path=\"url(#clip9602)\" style=\"stroke:#000000; stroke-width:4; stroke-opacity:1; fill:none\" points=\"\n  2379.38,1559.01 2379.38,1561.17 2392.44,1561.17 2392.44,1559.01 2379.38,1559.01 \n  \"/>\n<path clip-path=\"url(#clip9602)\" d=\"\nM2395.7 540.368 L2395.7 1561.17 L2408.75 1561.17 L2408.75 540.368 L2395.7 540.368 L2395.7 540.368  Z\n  \" fill=\"#009af9\" fill-rule=\"evenodd\" fill-opacity=\"1\"/>\n<polyline clip-path=\"url(#clip9602)\" style=\"stroke:#000000; stroke-width:4; stroke-opacity:1; fill:none\" points=\"\n  2395.7,540.368 2395.7,1561.17 2408.75,1561.17 2408.75,540.368 2395.7,540.368 \n  \"/>\n<path clip-path=\"url(#clip9602)\" d=\"\nM2412.02 1553.24 L2412.02 1561.17 L2425.07 1561.17 L2425.07 1553.24 L2412.02 1553.24 L2412.02 1553.24  Z\n  \" fill=\"#009af9\" fill-rule=\"evenodd\" fill-opacity=\"1\"/>\n<polyline clip-path=\"url(#clip9602)\" style=\"stroke:#000000; stroke-width:4; stroke-opacity:1; fill:none\" points=\"\n  2412.02,1553.24 2412.02,1561.17 2425.07,1561.17 2425.07,1553.24 2412.02,1553.24 \n  \"/>\n<path clip-path=\"url(#clip9602)\" d=\"\nM2428.33 443.698 L2428.33 1561.17 L2441.39 1561.17 L2441.39 443.698 L2428.33 443.698 L2428.33 443.698  Z\n  \" fill=\"#009af9\" fill-rule=\"evenodd\" fill-opacity=\"1\"/>\n<polyline clip-path=\"url(#clip9602)\" style=\"stroke:#000000; stroke-width:4; stroke-opacity:1; fill:none\" points=\"\n  2428.33,443.698 2428.33,1561.17 2441.39,1561.17 2441.39,443.698 2428.33,443.698 \n  \"/>\n<path clip-path=\"url(#clip9602)\" d=\"\nM2477.28 1484.7 L2477.28 1561.17 L2490.34 1561.17 L2490.34 1484.7 L2477.28 1484.7 L2477.28 1484.7  Z\n  \" fill=\"#009af9\" fill-rule=\"evenodd\" fill-opacity=\"1\"/>\n<polyline clip-path=\"url(#clip9602)\" style=\"stroke:#000000; stroke-width:4; stroke-opacity:1; fill:none\" points=\"\n  2477.28,1484.7 2477.28,1561.17 2490.34,1561.17 2490.34,1484.7 2477.28,1484.7 \n  \"/>\n<path clip-path=\"url(#clip9602)\" d=\"\nM2526.24 1533.04 L2526.24 1561.17 L2539.29 1561.17 L2539.29 1533.04 L2526.24 1533.04 L2526.24 1533.04  Z\n  \" fill=\"#009af9\" fill-rule=\"evenodd\" fill-opacity=\"1\"/>\n<polyline clip-path=\"url(#clip9602)\" style=\"stroke:#000000; stroke-width:4; stroke-opacity:1; fill:none\" points=\"\n  2526.24,1533.04 2526.24,1561.17 2539.29,1561.17 2539.29,1533.04 2526.24,1533.04 \n  \"/>\n<path clip-path=\"url(#clip9602)\" d=\"\nM2542.55 1553.24 L2542.55 1561.17 L2555.61 1561.17 L2555.61 1553.24 L2542.55 1553.24 L2542.55 1553.24  Z\n  \" fill=\"#009af9\" fill-rule=\"evenodd\" fill-opacity=\"1\"/>\n<polyline clip-path=\"url(#clip9602)\" style=\"stroke:#000000; stroke-width:4; stroke-opacity:1; fill:none\" points=\"\n  2542.55,1553.24 2542.55,1561.17 2555.61,1561.17 2555.61,1553.24 2542.55,1553.24 \n  \"/>\n<path clip-path=\"url(#clip9602)\" d=\"\nM2558.87 1495.53 L2558.87 1561.17 L2571.92 1561.17 L2571.92 1495.53 L2558.87 1495.53 L2558.87 1495.53  Z\n  \" fill=\"#009af9\" fill-rule=\"evenodd\" fill-opacity=\"1\"/>\n<polyline clip-path=\"url(#clip9602)\" style=\"stroke:#000000; stroke-width:4; stroke-opacity:1; fill:none\" points=\"\n  2558.87,1495.53 2558.87,1561.17 2571.92,1561.17 2571.92,1495.53 2558.87,1495.53 \n  \"/>\n<path clip-path=\"url(#clip9602)\" d=\"\nM2640.45 1015.78 L2640.45 1561.17 L2653.51 1561.17 L2653.51 1015.78 L2640.45 1015.78 L2640.45 1015.78  Z\n  \" fill=\"#009af9\" fill-rule=\"evenodd\" fill-opacity=\"1\"/>\n<polyline clip-path=\"url(#clip9602)\" style=\"stroke:#000000; stroke-width:4; stroke-opacity:1; fill:none\" points=\"\n  2640.45,1015.78 2640.45,1561.17 2653.51,1561.17 2653.51,1015.78 2640.45,1015.78 \n  \"/>\n<path clip-path=\"url(#clip9602)\" d=\"\nM2689.4 1558.29 L2689.4 1561.17 L2702.46 1561.17 L2702.46 1558.29 L2689.4 1558.29 L2689.4 1558.29  Z\n  \" fill=\"#009af9\" fill-rule=\"evenodd\" fill-opacity=\"1\"/>\n<polyline clip-path=\"url(#clip9602)\" style=\"stroke:#000000; stroke-width:4; stroke-opacity:1; fill:none\" points=\"\n  2689.4,1558.29 2689.4,1561.17 2702.46,1561.17 2702.46,1558.29 2689.4,1558.29 \n  \"/>\n<path clip-path=\"url(#clip9602)\" d=\"\nM2754.67 1016.5 L2754.67 1561.17 L2767.73 1561.17 L2767.73 1016.5 L2754.67 1016.5 L2754.67 1016.5  Z\n  \" fill=\"#009af9\" fill-rule=\"evenodd\" fill-opacity=\"1\"/>\n<polyline clip-path=\"url(#clip9602)\" style=\"stroke:#000000; stroke-width:4; stroke-opacity:1; fill:none\" points=\"\n  2754.67,1016.5 2754.67,1561.17 2767.73,1561.17 2767.73,1016.5 2754.67,1016.5 \n  \"/>\n<path clip-path=\"url(#clip9602)\" d=\"\nM2770.99 839.035 L2770.99 1561.17 L2784.04 1561.17 L2784.04 839.035 L2770.99 839.035 L2770.99 839.035  Z\n  \" fill=\"#009af9\" fill-rule=\"evenodd\" fill-opacity=\"1\"/>\n<polyline clip-path=\"url(#clip9602)\" style=\"stroke:#000000; stroke-width:4; stroke-opacity:1; fill:none\" points=\"\n  2770.99,839.035 2770.99,1561.17 2784.04,1561.17 2784.04,839.035 2770.99,839.035 \n  \"/>\n<path clip-path=\"url(#clip9602)\" d=\"\nM2787.31 1546.75 L2787.31 1561.17 L2800.36 1561.17 L2800.36 1546.75 L2787.31 1546.75 L2787.31 1546.75  Z\n  \" fill=\"#009af9\" fill-rule=\"evenodd\" fill-opacity=\"1\"/>\n<polyline clip-path=\"url(#clip9602)\" style=\"stroke:#000000; stroke-width:4; stroke-opacity:1; fill:none\" points=\"\n  2787.31,1546.75 2787.31,1561.17 2800.36,1561.17 2800.36,1546.75 2787.31,1546.75 \n  \"/>\n<path clip-path=\"url(#clip9602)\" d=\"\nM2836.26 972.497 L2836.26 1561.17 L2849.31 1561.17 L2849.31 972.497 L2836.26 972.497 L2836.26 972.497  Z\n  \" fill=\"#009af9\" fill-rule=\"evenodd\" fill-opacity=\"1\"/>\n<polyline clip-path=\"url(#clip9602)\" style=\"stroke:#000000; stroke-width:4; stroke-opacity:1; fill:none\" points=\"\n  2836.26,972.497 2836.26,1561.17 2849.31,1561.17 2849.31,972.497 2836.26,972.497 \n  \"/>\n<path clip-path=\"url(#clip9602)\" d=\"\nM2852.57 1540.97 L2852.57 1561.17 L2865.63 1561.17 L2865.63 1540.97 L2852.57 1540.97 L2852.57 1540.97  Z\n  \" fill=\"#009af9\" fill-rule=\"evenodd\" fill-opacity=\"1\"/>\n<polyline clip-path=\"url(#clip9602)\" style=\"stroke:#000000; stroke-width:4; stroke-opacity:1; fill:none\" points=\"\n  2852.57,1540.97 2852.57,1561.17 2865.63,1561.17 2865.63,1540.97 2852.57,1540.97 \n  \"/>\n<path clip-path=\"url(#clip9602)\" d=\"\nM2868.89 1476.05 L2868.89 1561.17 L2881.94 1561.17 L2881.94 1476.05 L2868.89 1476.05 L2868.89 1476.05  Z\n  \" fill=\"#009af9\" fill-rule=\"evenodd\" fill-opacity=\"1\"/>\n<polyline clip-path=\"url(#clip9602)\" style=\"stroke:#000000; stroke-width:4; stroke-opacity:1; fill:none\" points=\"\n  2868.89,1476.05 2868.89,1561.17 2881.94,1561.17 2881.94,1476.05 2868.89,1476.05 \n  \"/>\n<path clip-path=\"url(#clip9602)\" d=\"\nM2885.21 1364.95 L2885.21 1561.17 L2898.26 1561.17 L2898.26 1364.95 L2885.21 1364.95 L2885.21 1364.95  Z\n  \" fill=\"#009af9\" fill-rule=\"evenodd\" fill-opacity=\"1\"/>\n<polyline clip-path=\"url(#clip9602)\" style=\"stroke:#000000; stroke-width:4; stroke-opacity:1; fill:none\" points=\"\n  2885.21,1364.95 2885.21,1561.17 2898.26,1561.17 2898.26,1364.95 2885.21,1364.95 \n  \"/>\n<path clip-path=\"url(#clip9602)\" d=\"\nM2901.52 1153.57 L2901.52 1561.17 L2914.58 1561.17 L2914.58 1153.57 L2901.52 1153.57 L2901.52 1153.57  Z\n  \" fill=\"#009af9\" fill-rule=\"evenodd\" fill-opacity=\"1\"/>\n<polyline clip-path=\"url(#clip9602)\" style=\"stroke:#000000; stroke-width:4; stroke-opacity:1; fill:none\" points=\"\n  2901.52,1153.57 2901.52,1561.17 2914.58,1561.17 2914.58,1153.57 2901.52,1153.57 \n  \"/>\n<path clip-path=\"url(#clip9602)\" d=\"\nM2917.84 1289.92 L2917.84 1561.17 L2930.89 1561.17 L2930.89 1289.92 L2917.84 1289.92 L2917.84 1289.92  Z\n  \" fill=\"#009af9\" fill-rule=\"evenodd\" fill-opacity=\"1\"/>\n<polyline clip-path=\"url(#clip9602)\" style=\"stroke:#000000; stroke-width:4; stroke-opacity:1; fill:none\" points=\"\n  2917.84,1289.92 2917.84,1561.17 2930.89,1561.17 2930.89,1289.92 2917.84,1289.92 \n  \"/>\n<path clip-path=\"url(#clip9602)\" d=\"\nM2934.16 1447.91 L2934.16 1561.17 L2947.21 1561.17 L2947.21 1447.91 L2934.16 1447.91 L2934.16 1447.91  Z\n  \" fill=\"#009af9\" fill-rule=\"evenodd\" fill-opacity=\"1\"/>\n<polyline clip-path=\"url(#clip9602)\" style=\"stroke:#000000; stroke-width:4; stroke-opacity:1; fill:none\" points=\"\n  2934.16,1447.91 2934.16,1561.17 2947.21,1561.17 2947.21,1447.91 2934.16,1447.91 \n  \"/>\n<path clip-path=\"url(#clip9602)\" d=\"\nM2950.47 1535.2 L2950.47 1561.17 L2963.53 1561.17 L2963.53 1535.2 L2950.47 1535.2 L2950.47 1535.2  Z\n  \" fill=\"#009af9\" fill-rule=\"evenodd\" fill-opacity=\"1\"/>\n<polyline clip-path=\"url(#clip9602)\" style=\"stroke:#000000; stroke-width:4; stroke-opacity:1; fill:none\" points=\"\n  2950.47,1535.2 2950.47,1561.17 2963.53,1561.17 2963.53,1535.2 2950.47,1535.2 \n  \"/>\n<path clip-path=\"url(#clip9602)\" d=\"\nM2966.79 1553.96 L2966.79 1561.17 L2979.84 1561.17 L2979.84 1553.96 L2966.79 1553.96 L2966.79 1553.96  Z\n  \" fill=\"#009af9\" fill-rule=\"evenodd\" fill-opacity=\"1\"/>\n<polyline clip-path=\"url(#clip9602)\" style=\"stroke:#000000; stroke-width:4; stroke-opacity:1; fill:none\" points=\"\n  2966.79,1553.96 2966.79,1561.17 2979.84,1561.17 2979.84,1553.96 2966.79,1553.96 \n  \"/>\n<path clip-path=\"url(#clip9602)\" d=\"\nM2983.11 1559.73 L2983.11 1561.17 L2996.16 1561.17 L2996.16 1559.73 L2983.11 1559.73 L2983.11 1559.73  Z\n  \" fill=\"#009af9\" fill-rule=\"evenodd\" fill-opacity=\"1\"/>\n<polyline clip-path=\"url(#clip9602)\" style=\"stroke:#000000; stroke-width:4; stroke-opacity:1; fill:none\" points=\"\n  2983.11,1559.73 2983.11,1561.17 2996.16,1561.17 2996.16,1559.73 2983.11,1559.73 \n  \"/>\n<path clip-path=\"url(#clip9602)\" d=\"\nM3015.74 1515.73 L3015.74 1561.17 L3028.79 1561.17 L3028.79 1515.73 L3015.74 1515.73 L3015.74 1515.73  Z\n  \" fill=\"#009af9\" fill-rule=\"evenodd\" fill-opacity=\"1\"/>\n<polyline clip-path=\"url(#clip9602)\" style=\"stroke:#000000; stroke-width:4; stroke-opacity:1; fill:none\" points=\"\n  3015.74,1515.73 3015.74,1561.17 3028.79,1561.17 3028.79,1515.73 3015.74,1515.73 \n  \"/>\n<path clip-path=\"url(#clip9602)\" d=\"\nM3032.06 1506.35 L3032.06 1561.17 L3045.11 1561.17 L3045.11 1506.35 L3032.06 1506.35 L3032.06 1506.35  Z\n  \" fill=\"#009af9\" fill-rule=\"evenodd\" fill-opacity=\"1\"/>\n<polyline clip-path=\"url(#clip9602)\" style=\"stroke:#000000; stroke-width:4; stroke-opacity:1; fill:none\" points=\"\n  3032.06,1506.35 3032.06,1561.17 3045.11,1561.17 3045.11,1506.35 3032.06,1506.35 \n  \"/>\n<path clip-path=\"url(#clip9602)\" d=\"\nM3064.69 1517.89 L3064.69 1561.17 L3077.75 1561.17 L3077.75 1517.89 L3064.69 1517.89 L3064.69 1517.89  Z\n  \" fill=\"#009af9\" fill-rule=\"evenodd\" fill-opacity=\"1\"/>\n<polyline clip-path=\"url(#clip9602)\" style=\"stroke:#000000; stroke-width:4; stroke-opacity:1; fill:none\" points=\"\n  3064.69,1517.89 3064.69,1561.17 3077.75,1561.17 3077.75,1517.89 3064.69,1517.89 \n  \"/>\n<path clip-path=\"url(#clip9602)\" d=\"\nM3081.01 1359.9 L3081.01 1561.17 L3094.06 1561.17 L3094.06 1359.9 L3081.01 1359.9 L3081.01 1359.9  Z\n  \" fill=\"#009af9\" fill-rule=\"evenodd\" fill-opacity=\"1\"/>\n<polyline clip-path=\"url(#clip9602)\" style=\"stroke:#000000; stroke-width:4; stroke-opacity:1; fill:none\" points=\"\n  3081.01,1359.9 3081.01,1561.17 3094.06,1561.17 3094.06,1359.9 3081.01,1359.9 \n  \"/>\n<path clip-path=\"url(#clip9602)\" d=\"\nM3097.33 1482.54 L3097.33 1561.17 L3110.38 1561.17 L3110.38 1482.54 L3097.33 1482.54 L3097.33 1482.54  Z\n  \" fill=\"#009af9\" fill-rule=\"evenodd\" fill-opacity=\"1\"/>\n<polyline clip-path=\"url(#clip9602)\" style=\"stroke:#000000; stroke-width:4; stroke-opacity:1; fill:none\" points=\"\n  3097.33,1482.54 3097.33,1561.17 3110.38,1561.17 3110.38,1482.54 3097.33,1482.54 \n  \"/>\n<path clip-path=\"url(#clip9602)\" d=\"\nM3113.64 1554.68 L3113.64 1561.17 L3126.7 1561.17 L3126.7 1554.68 L3113.64 1554.68 L3113.64 1554.68  Z\n  \" fill=\"#009af9\" fill-rule=\"evenodd\" fill-opacity=\"1\"/>\n<polyline clip-path=\"url(#clip9602)\" style=\"stroke:#000000; stroke-width:4; stroke-opacity:1; fill:none\" points=\"\n  3113.64,1554.68 3113.64,1561.17 3126.7,1561.17 3126.7,1554.68 3113.64,1554.68 \n  \"/>\n<path clip-path=\"url(#clip9602)\" d=\"\nM3146.28 1237.26 L3146.28 1561.17 L3159.33 1561.17 L3159.33 1237.26 L3146.28 1237.26 L3146.28 1237.26  Z\n  \" fill=\"#009af9\" fill-rule=\"evenodd\" fill-opacity=\"1\"/>\n<polyline clip-path=\"url(#clip9602)\" style=\"stroke:#000000; stroke-width:4; stroke-opacity:1; fill:none\" points=\"\n  3146.28,1237.26 3146.28,1561.17 3159.33,1561.17 3159.33,1237.26 3146.28,1237.26 \n  \"/>\n<path clip-path=\"url(#clip9602)\" d=\"\nM3162.59 1400.3 L3162.59 1561.17 L3175.65 1561.17 L3175.65 1400.3 L3162.59 1400.3 L3162.59 1400.3  Z\n  \" fill=\"#009af9\" fill-rule=\"evenodd\" fill-opacity=\"1\"/>\n<polyline clip-path=\"url(#clip9602)\" style=\"stroke:#000000; stroke-width:4; stroke-opacity:1; fill:none\" points=\"\n  3162.59,1400.3 3162.59,1561.17 3175.65,1561.17 3175.65,1400.3 3162.59,1400.3 \n  \"/>\n<path clip-path=\"url(#clip9602)\" d=\"\nM3178.91 1489.03 L3178.91 1561.17 L3191.96 1561.17 L3191.96 1489.03 L3178.91 1489.03 L3178.91 1489.03  Z\n  \" fill=\"#009af9\" fill-rule=\"evenodd\" fill-opacity=\"1\"/>\n<polyline clip-path=\"url(#clip9602)\" style=\"stroke:#000000; stroke-width:4; stroke-opacity:1; fill:none\" points=\"\n  3178.91,1489.03 3178.91,1561.17 3191.96,1561.17 3191.96,1489.03 3178.91,1489.03 \n  \"/>\n<path clip-path=\"url(#clip9602)\" d=\"\nM3211.54 1495.53 L3211.54 1561.17 L3224.6 1561.17 L3224.6 1495.53 L3211.54 1495.53 L3211.54 1495.53  Z\n  \" fill=\"#009af9\" fill-rule=\"evenodd\" fill-opacity=\"1\"/>\n<polyline clip-path=\"url(#clip9602)\" style=\"stroke:#000000; stroke-width:4; stroke-opacity:1; fill:none\" points=\"\n  3211.54,1495.53 3211.54,1561.17 3224.6,1561.17 3224.6,1495.53 3211.54,1495.53 \n  \"/>\n<path clip-path=\"url(#clip9602)\" d=\"\nM3227.86 1324.55 L3227.86 1561.17 L3240.91 1561.17 L3240.91 1324.55 L3227.86 1324.55 L3227.86 1324.55  Z\n  \" fill=\"#009af9\" fill-rule=\"evenodd\" fill-opacity=\"1\"/>\n<polyline clip-path=\"url(#clip9602)\" style=\"stroke:#000000; stroke-width:4; stroke-opacity:1; fill:none\" points=\"\n  3227.86,1324.55 3227.86,1561.17 3240.91,1561.17 3240.91,1324.55 3227.86,1324.55 \n  \"/>\n<path clip-path=\"url(#clip9602)\" d=\"\nM3276.81 1497.69 L3276.81 1561.17 L3289.86 1561.17 L3289.86 1497.69 L3276.81 1497.69 L3276.81 1497.69  Z\n  \" fill=\"#009af9\" fill-rule=\"evenodd\" fill-opacity=\"1\"/>\n<polyline clip-path=\"url(#clip9602)\" style=\"stroke:#000000; stroke-width:4; stroke-opacity:1; fill:none\" points=\"\n  3276.81,1497.69 3276.81,1561.17 3289.86,1561.17 3289.86,1497.69 3276.81,1497.69 \n  \"/>\n<path clip-path=\"url(#clip9602)\" d=\"\nM3293.13 1527.99 L3293.13 1561.17 L3306.18 1561.17 L3306.18 1527.99 L3293.13 1527.99 L3293.13 1527.99  Z\n  \" fill=\"#009af9\" fill-rule=\"evenodd\" fill-opacity=\"1\"/>\n<polyline clip-path=\"url(#clip9602)\" style=\"stroke:#000000; stroke-width:4; stroke-opacity:1; fill:none\" points=\"\n  3293.13,1527.99 3293.13,1561.17 3306.18,1561.17 3306.18,1527.99 3293.13,1527.99 \n  \"/>\n<path clip-path=\"url(#clip9602)\" d=\"\nM3309.44 1539.53 L3309.44 1561.17 L3322.5 1561.17 L3322.5 1539.53 L3309.44 1539.53 L3309.44 1539.53  Z\n  \" fill=\"#009af9\" fill-rule=\"evenodd\" fill-opacity=\"1\"/>\n<polyline clip-path=\"url(#clip9602)\" style=\"stroke:#000000; stroke-width:4; stroke-opacity:1; fill:none\" points=\"\n  3309.44,1539.53 3309.44,1561.17 3322.5,1561.17 3322.5,1539.53 3309.44,1539.53 \n  \"/>\n<path clip-path=\"url(#clip9602)\" d=\"\nM3342.08 1499.13 L3342.08 1561.17 L3355.13 1561.17 L3355.13 1499.13 L3342.08 1499.13 L3342.08 1499.13  Z\n  \" fill=\"#009af9\" fill-rule=\"evenodd\" fill-opacity=\"1\"/>\n<polyline clip-path=\"url(#clip9602)\" style=\"stroke:#000000; stroke-width:4; stroke-opacity:1; fill:none\" points=\"\n  3342.08,1499.13 3342.08,1561.17 3355.13,1561.17 3355.13,1499.13 3342.08,1499.13 \n  \"/>\n<path clip-path=\"url(#clip9602)\" d=\"\nM3358.4 1522.22 L3358.4 1561.17 L3371.45 1561.17 L3371.45 1522.22 L3358.4 1522.22 L3358.4 1522.22  Z\n  \" fill=\"#009af9\" fill-rule=\"evenodd\" fill-opacity=\"1\"/>\n<polyline clip-path=\"url(#clip9602)\" style=\"stroke:#000000; stroke-width:4; stroke-opacity:1; fill:none\" points=\"\n  3358.4,1522.22 3358.4,1561.17 3371.45,1561.17 3371.45,1522.22 3358.4,1522.22 \n  \"/>\n<polyline clip-path=\"url(#clip9602)\" style=\"stroke:#008000; stroke-width:16; stroke-opacity:1; fill:none\" stroke-dasharray=\"64, 40\" points=\"\n  -3040.01,1292.09 6849.14,1292.09 \n  \"/>\n<path clip-path=\"url(#clip9600)\" d=\"\nM2937.61 443.964 L3444.76 443.964 L3444.76 262.524 L2937.61 262.524  Z\n  \" fill=\"#ffffff\" fill-rule=\"evenodd\" fill-opacity=\"1\"/>\n<polyline clip-path=\"url(#clip9600)\" style=\"stroke:#000000; stroke-width:4; stroke-opacity:1; fill:none\" points=\"\n  2937.61,443.964 3444.76,443.964 3444.76,262.524 2937.61,262.524 2937.61,443.964 \n  \"/>\n<path clip-path=\"url(#clip9600)\" d=\"\nM2973.61 347.196 L3189.61 347.196 L3189.61 298.812 L2973.61 298.812 L2973.61 347.196  Z\n  \" fill=\"#009af9\" fill-rule=\"evenodd\" fill-opacity=\"1\"/>\n<polyline clip-path=\"url(#clip9600)\" style=\"stroke:#000000; stroke-width:4; stroke-opacity:1; fill:none\" points=\"\n  2973.61,347.196 3189.61,347.196 3189.61,298.812 2973.61,298.812 2973.61,347.196 \n  \"/>\n<g clip-path=\"url(#clip9600)\">\n<text style=\"fill:#000000; fill-opacity:1; font-family:Arial,Helvetica Neue,Helvetica,sans-serif; font-size:48px; text-anchor:start;\" transform=\"rotate(0, 3225.61, 340.504)\" x=\"3225.61\" y=\"340.504\">Events</text>\n</g>\n<polyline clip-path=\"url(#clip9600)\" style=\"stroke:#008000; stroke-width:16; stroke-opacity:1; fill:none\" stroke-dasharray=\"64, 40\" points=\"\n  2973.61,383.484 3189.61,383.484 \n  \"/>\n<g clip-path=\"url(#clip9600)\">\n<text style=\"fill:#000000; fill-opacity:1; font-family:Arial,Helvetica Neue,Helvetica,sans-serif; font-size:48px; text-anchor:start;\" transform=\"rotate(0, 3225.61, 400.984)\" x=\"3225.61\" y=\"400.984\">Mean</text>\n</g>\n</svg>\n"
          },
          "metadata": {}
        }
      ],
      "execution_count": 340,
      "metadata": {
        "collapsed": true,
        "jupyter": {
          "source_hidden": false,
          "outputs_hidden": false
        },
        "nteract": {
          "transient": {
            "deleting": false
          }
        },
        "execution": {
          "iopub.status.busy": "2020-11-27T07:53:41.437Z",
          "iopub.execute_input": "2020-11-27T07:53:41.467Z",
          "iopub.status.idle": "2020-11-27T07:53:41.531Z"
        }
      }
    },
    {
      "cell_type": "markdown",
      "source": [
        "<div align=\"center\">\n",
        "  <h2> USUARIOS  </h2>\n",
        "</div>"
      ],
      "metadata": {
        "nteract": {
          "transient": {
            "deleting": false
          }
        }
      }
    },
    {
      "cell_type": "code",
      "source": [
        "# Cargando archivo .CSV con las agrupaciones generadas al correr los distinos modelos de aprendizaje no supervisado\n",
        "usersDataFrame = DataFrame(CSV.File(\"../data/users_30_10_2020.csv\"))"
      ],
      "outputs": [
        {
          "output_type": "execute_result",
          "execution_count": 252,
          "data": {
            "text/plain": "169×14 DataFrame. Omitted printing of 11 columns\n│ Row │ _id                      │ USER_ID │ username              │\n│     │ \u001b[90mString\u001b[39m                   │ \u001b[90mInt64\u001b[39m   │ \u001b[90mString\u001b[39m                │\n├─────┼──────────────────────────┼─────────┼───────────────────────┤\n│ 1   │ 5fa09d81bc73eb52ca087af6 │ 1       │ guest                 │\n│ 2   │ 5fa09d81bc73eb52ca087af7 │ 2       │ admin                 │\n│ 3   │ 5fa09d81bc73eb52ca087af8 │ 3       │ profesor              │\n│ 4   │ 5fa09d81bc73eb52ca087af9 │ 4       │ estudiante            │\n│ 5   │ 5fa09d81bc73eb52ca087afa │ 5       │ lcardenf@eafit.edu.co │\n│ 6   │ 5fa09d81bc73eb52ca087afb │ 6       │ mvasqu23@eafit.edu.co │\n│ 7   │ 5fa09d81bc73eb52ca087afc │ 7       │ cdiazleo@eafit.edu.co │\n│ 8   │ 5fa09d81bc73eb52ca087afd │ 8       │ cospinaf@eafit.edu.co │\n│ 9   │ 5fa09d81bc73eb52ca087afe │ 9       │ epreciad@eafit.edu.co │\n│ 10  │ 5fa09d81bc73eb52ca087aff │ 10      │ vzapata1@eafit.edu.co │\n⋮\n│ 159 │ 5fa09d82bc73eb52ca087b94 │ 159     │ damarint              │\n│ 160 │ 5fa09d82bc73eb52ca087b95 │ 160     │ sjaramil18            │\n│ 161 │ 5fa09d82bc73eb52ca087b96 │ 161     │ sllanov               │\n│ 162 │ 5fa09d82bc73eb52ca087b97 │ 162     │ jdjimenezb            │\n│ 163 │ 5fa09d82bc73eb52ca087b98 │ 163     │ eaflorezr             │\n│ 164 │ 5fa09d82bc73eb52ca087b99 │ 164     │ slopezs4              │\n│ 165 │ 5fa09d82bc73eb52ca087b9a │ 165     │ mvillegas1            │\n│ 166 │ 5fa09d82bc73eb52ca087b9b │ 166     │ mjmercados            │\n│ 167 │ 5fa09d82bc73eb52ca087b9c │ 167     │ jjcanot               │\n│ 168 │ 5fa09d82bc73eb52ca087b9d │ 168     │ sgomezf1              │\n│ 169 │ 5fa09d82bc73eb52ca087b9e │ 169     │ avelasqueb            │",
            "text/html": "<table class=\"data-frame\"><thead><tr><th></th><th>_id</th><th>USER_ID</th><th>username</th><th>firstname</th></tr><tr><th></th><th>String</th><th>Int64</th><th>String</th><th>String</th></tr></thead><tbody><p>169 rows × 14 columns (omitted printing of 10 columns)</p><tr><th>1</th><td>5fa09d81bc73eb52ca087af6</td><td>1</td><td>guest</td><td>Invitado</td></tr><tr><th>2</th><td>5fa09d81bc73eb52ca087af7</td><td>2</td><td>admin</td><td>Admin</td></tr><tr><th>3</th><td>5fa09d81bc73eb52ca087af8</td><td>3</td><td>profesor</td><td>Profesor</td></tr><tr><th>4</th><td>5fa09d81bc73eb52ca087af9</td><td>4</td><td>estudiante</td><td>Estudiante</td></tr><tr><th>5</th><td>5fa09d81bc73eb52ca087afa</td><td>5</td><td>lcardenf@eafit.edu.co</td><td>Luis</td></tr><tr><th>6</th><td>5fa09d81bc73eb52ca087afb</td><td>6</td><td>mvasqu23@eafit.edu.co</td><td>Mauricio</td></tr><tr><th>7</th><td>5fa09d81bc73eb52ca087afc</td><td>7</td><td>cdiazleo@eafit.edu.co</td><td>Cristian Andrés</td></tr><tr><th>8</th><td>5fa09d81bc73eb52ca087afd</td><td>8</td><td>cospinaf@eafit.edu.co</td><td>Carolina</td></tr><tr><th>9</th><td>5fa09d81bc73eb52ca087afe</td><td>9</td><td>epreciad@eafit.edu.co</td><td>Estefanía</td></tr><tr><th>10</th><td>5fa09d81bc73eb52ca087aff</td><td>10</td><td>vzapata1@eafit.edu.co</td><td>Valeria</td></tr><tr><th>11</th><td>5fa09d81bc73eb52ca087b00</td><td>11</td><td>spulgar8@eafit.edu.co</td><td>Sandra</td></tr><tr><th>12</th><td>5fa09d81bc73eb52ca087b01</td><td>12</td><td>narbela3@eafit.edu.co</td><td>Nicolás</td></tr><tr><th>13</th><td>5fa09d81bc73eb52ca087b02</td><td>13</td><td>lrodriguez@uwcolombia.org</td><td>Lina</td></tr><tr><th>14</th><td>5fa09d81bc73eb52ca087b03</td><td>14</td><td>laviles@uwcolombia.org</td><td>Lorena</td></tr><tr><th>15</th><td>5fa09d81bc73eb52ca087b04</td><td>15</td><td>otaborda@uwcolombia.org</td><td>Olga</td></tr><tr><th>16</th><td>5fa09d81bc73eb52ca087b05</td><td>16</td><td>asanta@uwcolombia.org</td><td>Alejandra</td></tr><tr><th>17</th><td>5fa09d81bc73eb52ca087b06</td><td>17</td><td>alexandraosoriodavila@gmail.com</td><td>Alexandra</td></tr><tr><th>18</th><td>5fa09d81bc73eb52ca087b07</td><td>18</td><td>anagaleano@ensjerico.edu.co</td><td>Ana Maria</td></tr><tr><th>19</th><td>5fa09d81bc73eb52ca087b08</td><td>19</td><td>anamilenamo82@gmail.com</td><td>Ana Milena</td></tr><tr><th>20</th><td>5fa09d81bc73eb52ca087b09</td><td>20</td><td>andresfelipeas@ufps.edu.co</td><td>Andrés Felipe</td></tr><tr><th>21</th><td>5fa09d81bc73eb52ca087b0a</td><td>21</td><td>anyi306870@gmail.com</td><td>Angela Maria</td></tr><tr><th>22</th><td>5fa09d81bc73eb52ca087b0b</td><td>22</td><td>angelica.vargas1@udea.edu.co</td><td>Angélica María</td></tr><tr><th>23</th><td>5fa09d81bc73eb52ca087b0c</td><td>23</td><td>vanegas29@outlook.com</td><td>Angy paola</td></tr><tr><th>24</th><td>5fa09d81bc73eb52ca087b0d</td><td>24</td><td>arlinson.padilla@udea.edu.co</td><td>Arlinson David</td></tr><tr><th>25</th><td>5fa09d81bc73eb52ca087b0e</td><td>25</td><td>berenicefranco74@gmail.com</td><td>Berenice</td></tr><tr><th>26</th><td>5fa09d81bc73eb52ca087b0f</td><td>26</td><td>bibianaossa@gmail.com</td><td>Bibiana</td></tr><tr><th>27</th><td>5fa09d81bc73eb52ca087b10</td><td>27</td><td>tabarescamilo28@gmail.com</td><td>Camilo</td></tr><tr><th>28</th><td>5fa09d81bc73eb52ca087b11</td><td>28</td><td>cavamo64@gmail.com</td><td>Carlos</td></tr><tr><th>29</th><td>5fa09d81bc73eb52ca087b12</td><td>29</td><td>carlosarturovalenciaarango@gmail.com</td><td>Carlos Arturo</td></tr><tr><th>30</th><td>5fa09d81bc73eb52ca087b13</td><td>30</td><td>cserna79@gmail.com</td><td>Carolina</td></tr><tr><th>&vellip;</th><td>&vellip;</td><td>&vellip;</td><td>&vellip;</td><td>&vellip;</td></tr></tbody></table>",
            "text/latex": "\\begin{tabular}{r|ccccc}\n\t& \\_id & USER\\_ID & username & firstname & \\\\\n\t\\hline\n\t& String & Int64 & String & String & \\\\\n\t\\hline\n\t1 & 5fa09d81bc73eb52ca087af6 & 1 & guest & Invitado & $\\dots$ \\\\\n\t2 & 5fa09d81bc73eb52ca087af7 & 2 & admin & Admin & $\\dots$ \\\\\n\t3 & 5fa09d81bc73eb52ca087af8 & 3 & profesor & Profesor & $\\dots$ \\\\\n\t4 & 5fa09d81bc73eb52ca087af9 & 4 & estudiante & Estudiante & $\\dots$ \\\\\n\t5 & 5fa09d81bc73eb52ca087afa & 5 & lcardenf@eafit.edu.co & Luis & $\\dots$ \\\\\n\t6 & 5fa09d81bc73eb52ca087afb & 6 & mvasqu23@eafit.edu.co & Mauricio & $\\dots$ \\\\\n\t7 & 5fa09d81bc73eb52ca087afc & 7 & cdiazleo@eafit.edu.co & Cristian Andrés & $\\dots$ \\\\\n\t8 & 5fa09d81bc73eb52ca087afd & 8 & cospinaf@eafit.edu.co & Carolina & $\\dots$ \\\\\n\t9 & 5fa09d81bc73eb52ca087afe & 9 & epreciad@eafit.edu.co & Estefanía & $\\dots$ \\\\\n\t10 & 5fa09d81bc73eb52ca087aff & 10 & vzapata1@eafit.edu.co & Valeria & $\\dots$ \\\\\n\t11 & 5fa09d81bc73eb52ca087b00 & 11 & spulgar8@eafit.edu.co & Sandra & $\\dots$ \\\\\n\t12 & 5fa09d81bc73eb52ca087b01 & 12 & narbela3@eafit.edu.co & Nicolás & $\\dots$ \\\\\n\t13 & 5fa09d81bc73eb52ca087b02 & 13 & lrodriguez@uwcolombia.org & Lina & $\\dots$ \\\\\n\t14 & 5fa09d81bc73eb52ca087b03 & 14 & laviles@uwcolombia.org & Lorena & $\\dots$ \\\\\n\t15 & 5fa09d81bc73eb52ca087b04 & 15 & otaborda@uwcolombia.org & Olga & $\\dots$ \\\\\n\t16 & 5fa09d81bc73eb52ca087b05 & 16 & asanta@uwcolombia.org & Alejandra & $\\dots$ \\\\\n\t17 & 5fa09d81bc73eb52ca087b06 & 17 & alexandraosoriodavila@gmail.com & Alexandra & $\\dots$ \\\\\n\t18 & 5fa09d81bc73eb52ca087b07 & 18 & anagaleano@ensjerico.edu.co & Ana Maria & $\\dots$ \\\\\n\t19 & 5fa09d81bc73eb52ca087b08 & 19 & anamilenamo82@gmail.com & Ana Milena & $\\dots$ \\\\\n\t20 & 5fa09d81bc73eb52ca087b09 & 20 & andresfelipeas@ufps.edu.co & Andrés Felipe & $\\dots$ \\\\\n\t21 & 5fa09d81bc73eb52ca087b0a & 21 & anyi306870@gmail.com & Angela Maria & $\\dots$ \\\\\n\t22 & 5fa09d81bc73eb52ca087b0b & 22 & angelica.vargas1@udea.edu.co & Angélica María & $\\dots$ \\\\\n\t23 & 5fa09d81bc73eb52ca087b0c & 23 & vanegas29@outlook.com & Angy paola & $\\dots$ \\\\\n\t24 & 5fa09d81bc73eb52ca087b0d & 24 & arlinson.padilla@udea.edu.co & Arlinson David & $\\dots$ \\\\\n\t25 & 5fa09d81bc73eb52ca087b0e & 25 & berenicefranco74@gmail.com & Berenice & $\\dots$ \\\\\n\t26 & 5fa09d81bc73eb52ca087b0f & 26 & bibianaossa@gmail.com & Bibiana & $\\dots$ \\\\\n\t27 & 5fa09d81bc73eb52ca087b10 & 27 & tabarescamilo28@gmail.com & Camilo & $\\dots$ \\\\\n\t28 & 5fa09d81bc73eb52ca087b11 & 28 & cavamo64@gmail.com & Carlos & $\\dots$ \\\\\n\t29 & 5fa09d81bc73eb52ca087b12 & 29 & carlosarturovalenciaarango@gmail.com & Carlos Arturo & $\\dots$ \\\\\n\t30 & 5fa09d81bc73eb52ca087b13 & 30 & cserna79@gmail.com & Carolina & $\\dots$ \\\\\n\t$\\dots$ & $\\dots$ & $\\dots$ & $\\dots$ & $\\dots$ &  \\\\\n\\end{tabular}\n"
          },
          "metadata": {}
        }
      ],
      "execution_count": 252,
      "metadata": {
        "collapsed": true,
        "jupyter": {
          "source_hidden": false,
          "outputs_hidden": false
        },
        "nteract": {
          "transient": {
            "deleting": false
          }
        },
        "execution": {
          "iopub.status.busy": "2020-11-27T06:50:42.644Z",
          "iopub.execute_input": "2020-11-27T06:50:42.674Z",
          "iopub.status.idle": "2020-11-27T06:50:42.739Z"
        }
      }
    },
    {
      "cell_type": "code",
      "source": [
        "#Redifiendo el conjunto de datos de usuarios para identificar su último inicio de sesión y último acceso a la plataforma\n",
        "userInteractionWithGIANT=usersDataFrame[!,[:USER_ID,:firstname, :lastname, :lastlogin, :lastaccess]]"
      ],
      "outputs": [
        {
          "output_type": "execute_result",
          "execution_count": 253,
          "data": {
            "text/plain": "169×5 DataFrame\n│ Row │ USER_ID │ firstname       │ lastname       │ lastlogin  │ lastaccess │\n│     │ \u001b[90mInt64\u001b[39m   │ \u001b[90mString\u001b[39m          │ \u001b[90mString\u001b[39m         │ \u001b[90mInt64\u001b[39m      │ \u001b[90mInt64\u001b[39m      │\n├─────┼─────────┼─────────────────┼────────────────┼────────────┼────────────┤\n│ 1   │ 1       │ Invitado        │                │ 0          │ 0          │\n│ 2   │ 2       │ Admin           │ EAFIT          │ 1604002930 │ 1604004378 │\n│ 3   │ 3       │ Profesor        │ Eafit          │ 1604068231 │ 1604068302 │\n│ 4   │ 4       │ Estudiante      │ Eafit          │ 1603739126 │ 1603746533 │\n│ 5   │ 5       │ Luis            │ Cárdenas       │ 1596644693 │ 1596655656 │\n│ 6   │ 6       │ Mauricio        │ Vásquez        │ 1601936325 │ 1603227659 │\n│ 7   │ 7       │ Cristian Andrés │ Díaz León      │ 0          │ 0          │\n│ 8   │ 8       │ Carolina        │ Ospina Foronda │ 0          │ 1598461145 │\n│ 9   │ 9       │ Estefanía       │ Preciado Santa │ 1604008365 │ 1604097552 │\n│ 10  │ 10      │ Valeria         │ Zapata Giraldo │ 1604089960 │ 1604098696 │\n⋮\n│ 159 │ 159     │ DAMIAN          │ MARIN          │ 0          │ 0          │\n│ 160 │ 160     │ SAMUEL          │ JARAMILLO      │ 0          │ 1602356640 │\n│ 161 │ 161     │ SEBASTIAN       │ LLANO          │ 1602337436 │ 1603059685 │\n│ 162 │ 162     │ JUAN            │ JIMENEZ        │ 0          │ 0          │\n│ 163 │ 163     │ EDSON           │ FLOREZ         │ 0          │ 0          │\n│ 164 │ 164     │ SEBASTIN        │ LPEZ           │ 1600543534 │ 1602364170 │\n│ 165 │ 165     │ MIGUEL          │ VILLEGAS       │ 0          │ 1603131414 │\n│ 166 │ 166     │ MIGUEL          │ MERCADO        │ 0          │ 1600548062 │\n│ 167 │ 167     │ JUAN            │ CANO           │ 0          │ 0          │\n│ 168 │ 168     │ SIMON           │ GOMEZ          │ 1602977364 │ 1602981457 │\n│ 169 │ 169     │ ANDRES          │ VELASQUEZ      │ 0          │ 1602349027 │",
            "text/html": "<table class=\"data-frame\"><thead><tr><th></th><th>USER_ID</th><th>firstname</th><th>lastname</th><th>lastlogin</th><th>lastaccess</th></tr><tr><th></th><th>Int64</th><th>String</th><th>String</th><th>Int64</th><th>Int64</th></tr></thead><tbody><p>169 rows × 5 columns</p><tr><th>1</th><td>1</td><td>Invitado</td><td> </td><td>0</td><td>0</td></tr><tr><th>2</th><td>2</td><td>Admin</td><td>EAFIT</td><td>1604002930</td><td>1604004378</td></tr><tr><th>3</th><td>3</td><td>Profesor</td><td>Eafit</td><td>1604068231</td><td>1604068302</td></tr><tr><th>4</th><td>4</td><td>Estudiante</td><td>Eafit</td><td>1603739126</td><td>1603746533</td></tr><tr><th>5</th><td>5</td><td>Luis</td><td>Cárdenas</td><td>1596644693</td><td>1596655656</td></tr><tr><th>6</th><td>6</td><td>Mauricio</td><td>Vásquez</td><td>1601936325</td><td>1603227659</td></tr><tr><th>7</th><td>7</td><td>Cristian Andrés</td><td>Díaz León</td><td>0</td><td>0</td></tr><tr><th>8</th><td>8</td><td>Carolina</td><td>Ospina Foronda</td><td>0</td><td>1598461145</td></tr><tr><th>9</th><td>9</td><td>Estefanía</td><td>Preciado Santa</td><td>1604008365</td><td>1604097552</td></tr><tr><th>10</th><td>10</td><td>Valeria</td><td>Zapata Giraldo</td><td>1604089960</td><td>1604098696</td></tr><tr><th>11</th><td>11</td><td>Sandra</td><td>Pulgarín</td><td>0</td><td>0</td></tr><tr><th>12</th><td>12</td><td>Nicolás</td><td>Arbelaez</td><td>0</td><td>1596554736</td></tr><tr><th>13</th><td>13</td><td>Lina</td><td>Rodríguez</td><td>0</td><td>0</td></tr><tr><th>14</th><td>14</td><td>Lorena</td><td>Avilés</td><td>0</td><td>0</td></tr><tr><th>15</th><td>15</td><td>Olga</td><td>Taborda</td><td>0</td><td>0</td></tr><tr><th>16</th><td>16</td><td>Alejandra</td><td>Santa</td><td>0</td><td>0</td></tr><tr><th>17</th><td>17</td><td>Alexandra</td><td>Osorio Dávila</td><td>1596658297</td><td>1596841866</td></tr><tr><th>18</th><td>18</td><td>Ana Maria</td><td>Galeano Ceron</td><td>1601070921</td><td>1603138203</td></tr><tr><th>19</th><td>19</td><td>Ana Milena</td><td>Muñoz Orozco</td><td>1600618826</td><td>1601312200</td></tr><tr><th>20</th><td>20</td><td>Andrés Felipe</td><td>Arenas Salamanca</td><td>0</td><td>0</td></tr><tr><th>21</th><td>21</td><td>Angela Maria</td><td>Bedoya Gañan</td><td>0</td><td>1596346010</td></tr><tr><th>22</th><td>22</td><td>Angélica María</td><td>Vargas Pérez</td><td>0</td><td>1597208880</td></tr><tr><th>23</th><td>23</td><td>Angy paola</td><td>Vanegas villa</td><td>1598312428</td><td>1598481886</td></tr><tr><th>24</th><td>24</td><td>Arlinson David</td><td>Padilla Torregroza</td><td>0</td><td>0</td></tr><tr><th>25</th><td>25</td><td>Berenice</td><td>Franco Giraldo</td><td>0</td><td>1596657403</td></tr><tr><th>26</th><td>26</td><td>Bibiana</td><td>Ossa Guiral</td><td>1603663916</td><td>1603684763</td></tr><tr><th>27</th><td>27</td><td>Camilo</td><td>Tabares</td><td>1598471029</td><td>1599187965</td></tr><tr><th>28</th><td>28</td><td>Carlos</td><td>Valencia</td><td>1598309964</td><td>1602620325</td></tr><tr><th>29</th><td>29</td><td>Carlos Arturo</td><td>Valencia Arango</td><td>1596659630</td><td>1597366315</td></tr><tr><th>30</th><td>30</td><td>Carolina</td><td>Serna Henao</td><td>1603460458</td><td>1603976737</td></tr><tr><th>&vellip;</th><td>&vellip;</td><td>&vellip;</td><td>&vellip;</td><td>&vellip;</td><td>&vellip;</td></tr></tbody></table>",
            "text/latex": "\\begin{tabular}{r|ccccc}\n\t& USER\\_ID & firstname & lastname & lastlogin & lastaccess\\\\\n\t\\hline\n\t& Int64 & String & String & Int64 & Int64\\\\\n\t\\hline\n\t1 & 1 & Invitado &   & 0 & 0 \\\\\n\t2 & 2 & Admin & EAFIT & 1604002930 & 1604004378 \\\\\n\t3 & 3 & Profesor & Eafit & 1604068231 & 1604068302 \\\\\n\t4 & 4 & Estudiante & Eafit & 1603739126 & 1603746533 \\\\\n\t5 & 5 & Luis & Cárdenas & 1596644693 & 1596655656 \\\\\n\t6 & 6 & Mauricio & Vásquez & 1601936325 & 1603227659 \\\\\n\t7 & 7 & Cristian Andrés & Díaz León & 0 & 0 \\\\\n\t8 & 8 & Carolina & Ospina Foronda & 0 & 1598461145 \\\\\n\t9 & 9 & Estefanía & Preciado Santa & 1604008365 & 1604097552 \\\\\n\t10 & 10 & Valeria & Zapata Giraldo & 1604089960 & 1604098696 \\\\\n\t11 & 11 & Sandra & Pulgarín & 0 & 0 \\\\\n\t12 & 12 & Nicolás & Arbelaez & 0 & 1596554736 \\\\\n\t13 & 13 & Lina & Rodríguez & 0 & 0 \\\\\n\t14 & 14 & Lorena & Avilés & 0 & 0 \\\\\n\t15 & 15 & Olga & Taborda & 0 & 0 \\\\\n\t16 & 16 & Alejandra & Santa & 0 & 0 \\\\\n\t17 & 17 & Alexandra & Osorio Dávila & 1596658297 & 1596841866 \\\\\n\t18 & 18 & Ana Maria & Galeano Ceron & 1601070921 & 1603138203 \\\\\n\t19 & 19 & Ana Milena & Muñoz Orozco & 1600618826 & 1601312200 \\\\\n\t20 & 20 & Andrés Felipe & Arenas Salamanca & 0 & 0 \\\\\n\t21 & 21 & Angela Maria & Bedoya Gañan & 0 & 1596346010 \\\\\n\t22 & 22 & Angélica María & Vargas Pérez & 0 & 1597208880 \\\\\n\t23 & 23 & Angy paola & Vanegas villa & 1598312428 & 1598481886 \\\\\n\t24 & 24 & Arlinson David & Padilla Torregroza & 0 & 0 \\\\\n\t25 & 25 & Berenice & Franco Giraldo & 0 & 1596657403 \\\\\n\t26 & 26 & Bibiana & Ossa Guiral & 1603663916 & 1603684763 \\\\\n\t27 & 27 & Camilo & Tabares & 1598471029 & 1599187965 \\\\\n\t28 & 28 & Carlos & Valencia & 1598309964 & 1602620325 \\\\\n\t29 & 29 & Carlos Arturo & Valencia Arango & 1596659630 & 1597366315 \\\\\n\t30 & 30 & Carolina & Serna Henao & 1603460458 & 1603976737 \\\\\n\t$\\dots$ & $\\dots$ & $\\dots$ & $\\dots$ & $\\dots$ & $\\dots$ \\\\\n\\end{tabular}\n"
          },
          "metadata": {}
        }
      ],
      "execution_count": 253,
      "metadata": {
        "collapsed": true,
        "jupyter": {
          "source_hidden": false,
          "outputs_hidden": false
        },
        "nteract": {
          "transient": {
            "deleting": false
          }
        },
        "execution": {
          "iopub.status.busy": "2020-11-27T06:50:44.410Z",
          "iopub.execute_input": "2020-11-27T06:50:44.440Z",
          "iopub.status.idle": "2020-11-27T06:50:44.504Z"
        }
      }
    },
    {
      "cell_type": "code",
      "source": [
        "userWithLastAccess = @from i in userInteractionWithGIANT begin\n",
        "            @where i.lastaccess != 0\n",
        "            @select {i.USER_ID, i.firstname, i.lastname, i.lastaccess}\n",
        "            @collect DataFrame\n",
        "       end"
      ],
      "outputs": [
        {
          "output_type": "execute_result",
          "execution_count": 286,
          "data": {
            "text/plain": "119×4 DataFrame\n│ Row │ USER_ID │ firstname  │ lastname       │ lastaccess │\n│     │ \u001b[90mInt64\u001b[39m   │ \u001b[90mString\u001b[39m     │ \u001b[90mString\u001b[39m         │ \u001b[90mInt64\u001b[39m      │\n├─────┼─────────┼────────────┼────────────────┼────────────┤\n│ 1   │ 2       │ Admin      │ EAFIT          │ 1604004378 │\n│ 2   │ 3       │ Profesor   │ Eafit          │ 1604068302 │\n│ 3   │ 4       │ Estudiante │ Eafit          │ 1603746533 │\n│ 4   │ 5       │ Luis       │ Cárdenas       │ 1596655656 │\n│ 5   │ 6       │ Mauricio   │ Vásquez        │ 1603227659 │\n│ 6   │ 8       │ Carolina   │ Ospina Foronda │ 1598461145 │\n│ 7   │ 9       │ Estefanía  │ Preciado Santa │ 1604097552 │\n│ 8   │ 10      │ Valeria    │ Zapata Giraldo │ 1604098696 │\n│ 9   │ 12      │ Nicolás    │ Arbelaez       │ 1596554736 │\n│ 10  │ 17      │ Alexandra  │ Osorio Dávila  │ 1596841866 │\n⋮\n│ 109 │ 154     │ JUAN       │ DOMINGUEZ      │ 1600551905 │\n│ 110 │ 156     │ SOFIA      │ CORONADO       │ 1603060286 │\n│ 111 │ 157     │ PAULINA    │ VLEZ           │ 1603945523 │\n│ 112 │ 158     │ JUAN       │ GARCA          │ 1603251358 │\n│ 113 │ 160     │ SAMUEL     │ JARAMILLO      │ 1602356640 │\n│ 114 │ 161     │ SEBASTIAN  │ LLANO          │ 1603059685 │\n│ 115 │ 164     │ SEBASTIN   │ LPEZ           │ 1602364170 │\n│ 116 │ 165     │ MIGUEL     │ VILLEGAS       │ 1603131414 │\n│ 117 │ 166     │ MIGUEL     │ MERCADO        │ 1600548062 │\n│ 118 │ 168     │ SIMON      │ GOMEZ          │ 1602981457 │\n│ 119 │ 169     │ ANDRES     │ VELASQUEZ      │ 1602349027 │",
            "text/html": "<table class=\"data-frame\"><thead><tr><th></th><th>USER_ID</th><th>firstname</th><th>lastname</th><th>lastaccess</th></tr><tr><th></th><th>Int64</th><th>String</th><th>String</th><th>Int64</th></tr></thead><tbody><p>119 rows × 4 columns</p><tr><th>1</th><td>2</td><td>Admin</td><td>EAFIT</td><td>1604004378</td></tr><tr><th>2</th><td>3</td><td>Profesor</td><td>Eafit</td><td>1604068302</td></tr><tr><th>3</th><td>4</td><td>Estudiante</td><td>Eafit</td><td>1603746533</td></tr><tr><th>4</th><td>5</td><td>Luis</td><td>Cárdenas</td><td>1596655656</td></tr><tr><th>5</th><td>6</td><td>Mauricio</td><td>Vásquez</td><td>1603227659</td></tr><tr><th>6</th><td>8</td><td>Carolina</td><td>Ospina Foronda</td><td>1598461145</td></tr><tr><th>7</th><td>9</td><td>Estefanía</td><td>Preciado Santa</td><td>1604097552</td></tr><tr><th>8</th><td>10</td><td>Valeria</td><td>Zapata Giraldo</td><td>1604098696</td></tr><tr><th>9</th><td>12</td><td>Nicolás</td><td>Arbelaez</td><td>1596554736</td></tr><tr><th>10</th><td>17</td><td>Alexandra</td><td>Osorio Dávila</td><td>1596841866</td></tr><tr><th>11</th><td>18</td><td>Ana Maria</td><td>Galeano Ceron</td><td>1603138203</td></tr><tr><th>12</th><td>19</td><td>Ana Milena</td><td>Muñoz Orozco</td><td>1601312200</td></tr><tr><th>13</th><td>21</td><td>Angela Maria</td><td>Bedoya Gañan</td><td>1596346010</td></tr><tr><th>14</th><td>22</td><td>Angélica María</td><td>Vargas Pérez</td><td>1597208880</td></tr><tr><th>15</th><td>23</td><td>Angy paola</td><td>Vanegas villa</td><td>1598481886</td></tr><tr><th>16</th><td>25</td><td>Berenice</td><td>Franco Giraldo</td><td>1596657403</td></tr><tr><th>17</th><td>26</td><td>Bibiana</td><td>Ossa Guiral</td><td>1603684763</td></tr><tr><th>18</th><td>27</td><td>Camilo</td><td>Tabares</td><td>1599187965</td></tr><tr><th>19</th><td>28</td><td>Carlos</td><td>Valencia</td><td>1602620325</td></tr><tr><th>20</th><td>29</td><td>Carlos Arturo</td><td>Valencia Arango</td><td>1597366315</td></tr><tr><th>21</th><td>30</td><td>Carolina</td><td>Serna Henao</td><td>1603976737</td></tr><tr><th>22</th><td>31</td><td>César</td><td>Montoya</td><td>1597023368</td></tr><tr><th>23</th><td>32</td><td>Claudia Cecilia</td><td>Piedrahita Diaz</td><td>1604116015</td></tr><tr><th>24</th><td>33</td><td>Claudia Patricia</td><td>Echeverri Arenas</td><td>1603666801</td></tr><tr><th>25</th><td>35</td><td>Darley</td><td>Hernández Caro</td><td>1598024116</td></tr><tr><th>26</th><td>36</td><td>David</td><td>Soto Jiménez</td><td>1597277807</td></tr><tr><th>27</th><td>41</td><td>Deisy</td><td>Medina Giraldo</td><td>1603666959</td></tr><tr><th>28</th><td>42</td><td>Deisy Estefania</td><td>Porras Sanchez</td><td>1603983974</td></tr><tr><th>29</th><td>44</td><td>Diana Carolina</td><td>Agudelo Herrera</td><td>1603930973</td></tr><tr><th>30</th><td>48</td><td>Diego Fernando</td><td>Orrego Gutiérrez</td><td>1602828085</td></tr><tr><th>&vellip;</th><td>&vellip;</td><td>&vellip;</td><td>&vellip;</td><td>&vellip;</td></tr></tbody></table>",
            "text/latex": "\\begin{tabular}{r|cccc}\n\t& USER\\_ID & firstname & lastname & lastaccess\\\\\n\t\\hline\n\t& Int64 & String & String & Int64\\\\\n\t\\hline\n\t1 & 2 & Admin & EAFIT & 1604004378 \\\\\n\t2 & 3 & Profesor & Eafit & 1604068302 \\\\\n\t3 & 4 & Estudiante & Eafit & 1603746533 \\\\\n\t4 & 5 & Luis & Cárdenas & 1596655656 \\\\\n\t5 & 6 & Mauricio & Vásquez & 1603227659 \\\\\n\t6 & 8 & Carolina & Ospina Foronda & 1598461145 \\\\\n\t7 & 9 & Estefanía & Preciado Santa & 1604097552 \\\\\n\t8 & 10 & Valeria & Zapata Giraldo & 1604098696 \\\\\n\t9 & 12 & Nicolás & Arbelaez & 1596554736 \\\\\n\t10 & 17 & Alexandra & Osorio Dávila & 1596841866 \\\\\n\t11 & 18 & Ana Maria & Galeano Ceron & 1603138203 \\\\\n\t12 & 19 & Ana Milena & Muñoz Orozco & 1601312200 \\\\\n\t13 & 21 & Angela Maria & Bedoya Gañan & 1596346010 \\\\\n\t14 & 22 & Angélica María & Vargas Pérez & 1597208880 \\\\\n\t15 & 23 & Angy paola & Vanegas villa & 1598481886 \\\\\n\t16 & 25 & Berenice & Franco Giraldo & 1596657403 \\\\\n\t17 & 26 & Bibiana & Ossa Guiral & 1603684763 \\\\\n\t18 & 27 & Camilo & Tabares & 1599187965 \\\\\n\t19 & 28 & Carlos & Valencia & 1602620325 \\\\\n\t20 & 29 & Carlos Arturo & Valencia Arango & 1597366315 \\\\\n\t21 & 30 & Carolina & Serna Henao & 1603976737 \\\\\n\t22 & 31 & César & Montoya & 1597023368 \\\\\n\t23 & 32 & Claudia Cecilia & Piedrahita Diaz & 1604116015 \\\\\n\t24 & 33 & Claudia Patricia & Echeverri Arenas & 1603666801 \\\\\n\t25 & 35 & Darley & Hernández Caro & 1598024116 \\\\\n\t26 & 36 & David & Soto Jiménez & 1597277807 \\\\\n\t27 & 41 & Deisy & Medina Giraldo & 1603666959 \\\\\n\t28 & 42 & Deisy Estefania & Porras Sanchez & 1603983974 \\\\\n\t29 & 44 & Diana Carolina & Agudelo Herrera & 1603930973 \\\\\n\t30 & 48 & Diego Fernando & Orrego Gutiérrez & 1602828085 \\\\\n\t$\\dots$ & $\\dots$ & $\\dots$ & $\\dots$ & $\\dots$ \\\\\n\\end{tabular}\n"
          },
          "metadata": {}
        }
      ],
      "execution_count": 286,
      "metadata": {
        "collapsed": true,
        "jupyter": {
          "source_hidden": false,
          "outputs_hidden": false
        },
        "nteract": {
          "transient": {
            "deleting": false
          }
        },
        "execution": {
          "iopub.status.busy": "2020-11-27T07:24:16.436Z",
          "iopub.execute_input": "2020-11-27T07:24:16.466Z",
          "iopub.status.idle": "2020-11-27T07:24:16.833Z"
        }
      }
    },
    {
      "cell_type": "code",
      "source": [
        "#Convirtiendo Timestap de las variables lastlogin y lastaccess a formato de fecha\n",
        "userInteractionWithGIANT[!,:lastlogin] = map( x -> unix2datetime(x), userInteractionWithGIANT[!,:lastlogin]);"
      ],
      "outputs": [],
      "execution_count": 239,
      "metadata": {
        "collapsed": true,
        "jupyter": {
          "source_hidden": false,
          "outputs_hidden": false
        },
        "nteract": {
          "transient": {
            "deleting": false
          }
        },
        "execution": {
          "iopub.status.busy": "2020-11-27T06:41:19.709Z",
          "iopub.execute_input": "2020-11-27T06:41:19.738Z",
          "iopub.status.idle": "2020-11-27T06:41:19.782Z"
        }
      }
    },
    {
      "cell_type": "code",
      "source": [
        "#Convirtiendo Timestap de las variables lastlogin y lastaccess a formato de fecha\n",
        "userWithLastAccess[!,:lastaccess] = map( x -> unix2datetime(x), userWithLastAccess[!,:lastaccess]);"
      ],
      "outputs": [],
      "execution_count": 287,
      "metadata": {
        "collapsed": true,
        "jupyter": {
          "source_hidden": false,
          "outputs_hidden": false
        },
        "nteract": {
          "transient": {
            "deleting": false
          }
        },
        "execution": {
          "iopub.status.busy": "2020-11-27T07:24:34.311Z",
          "iopub.execute_input": "2020-11-27T07:24:34.346Z",
          "iopub.status.idle": "2020-11-27T07:24:34.386Z"
        }
      }
    },
    {
      "cell_type": "code",
      "source": [
        "#Convirtiendo DataTime to String \n",
        "userInteractionWithGIANT[!,:lastlogin]= map((x) -> Dates.format(x, \"yyyy-mm-dd\") , userInteractionWithGIANT[!,:lastlogin]);\n",
        "#Convirtiendo DataTime to String ;\n",
        "userInteractionWithGIANT[!,:lastaccess]= map((x) -> Dates.format(x, \"yyyy-mm-dd\") , userInteractionWithGIANT[!,:lastaccess]);"
      ],
      "outputs": [],
      "execution_count": 241,
      "metadata": {
        "collapsed": true,
        "jupyter": {
          "source_hidden": false,
          "outputs_hidden": false
        },
        "nteract": {
          "transient": {
            "deleting": false
          }
        },
        "execution": {
          "iopub.status.busy": "2020-11-27T06:41:24.255Z",
          "iopub.execute_input": "2020-11-27T06:41:24.281Z",
          "iopub.status.idle": "2020-11-27T06:41:24.404Z"
        }
      }
    },
    {
      "cell_type": "code",
      "source": [
        "userWithLastAccess"
      ],
      "outputs": [
        {
          "output_type": "execute_result",
          "execution_count": 289,
          "data": {
            "text/plain": "119×4 DataFrame\n│ Row │ USER_ID │ firstname  │ lastname       │ lastaccess          │\n│     │ \u001b[90mInt64\u001b[39m   │ \u001b[90mString\u001b[39m     │ \u001b[90mString\u001b[39m         │ \u001b[90mDateTime\u001b[39m            │\n├─────┼─────────┼────────────┼────────────────┼─────────────────────┤\n│ 1   │ 2       │ Admin      │ EAFIT          │ 2020-10-29T20:46:18 │\n│ 2   │ 3       │ Profesor   │ Eafit          │ 2020-10-30T14:31:42 │\n│ 3   │ 4       │ Estudiante │ Eafit          │ 2020-10-26T21:08:53 │\n│ 4   │ 5       │ Luis       │ Cárdenas       │ 2020-08-05T19:27:36 │\n│ 5   │ 6       │ Mauricio   │ Vásquez        │ 2020-10-20T21:00:59 │\n│ 6   │ 8       │ Carolina   │ Ospina Foronda │ 2020-08-26T16:59:05 │\n│ 7   │ 9       │ Estefanía  │ Preciado Santa │ 2020-10-30T22:39:12 │\n│ 8   │ 10      │ Valeria    │ Zapata Giraldo │ 2020-10-30T22:58:16 │\n│ 9   │ 12      │ Nicolás    │ Arbelaez       │ 2020-08-04T15:25:36 │\n│ 10  │ 17      │ Alexandra  │ Osorio Dávila  │ 2020-08-07T23:11:06 │\n⋮\n│ 109 │ 154     │ JUAN       │ DOMINGUEZ      │ 2020-09-19T21:45:05 │\n│ 110 │ 156     │ SOFIA      │ CORONADO       │ 2020-10-18T22:31:26 │\n│ 111 │ 157     │ PAULINA    │ VLEZ           │ 2020-10-29T04:25:23 │\n│ 112 │ 158     │ JUAN       │ GARCA          │ 2020-10-21T03:35:58 │\n│ 113 │ 160     │ SAMUEL     │ JARAMILLO      │ 2020-10-10T19:04:00 │\n│ 114 │ 161     │ SEBASTIAN  │ LLANO          │ 2020-10-18T22:21:25 │\n│ 115 │ 164     │ SEBASTIN   │ LPEZ           │ 2020-10-10T21:09:30 │\n│ 116 │ 165     │ MIGUEL     │ VILLEGAS       │ 2020-10-19T18:16:54 │\n│ 117 │ 166     │ MIGUEL     │ MERCADO        │ 2020-09-19T20:41:02 │\n│ 118 │ 168     │ SIMON      │ GOMEZ          │ 2020-10-18T00:37:37 │\n│ 119 │ 169     │ ANDRES     │ VELASQUEZ      │ 2020-10-10T16:57:07 │",
            "text/html": "<table class=\"data-frame\"><thead><tr><th></th><th>USER_ID</th><th>firstname</th><th>lastname</th><th>lastaccess</th></tr><tr><th></th><th>Int64</th><th>String</th><th>String</th><th>DateTime</th></tr></thead><tbody><p>119 rows × 4 columns</p><tr><th>1</th><td>2</td><td>Admin</td><td>EAFIT</td><td>2020-10-29T20:46:18</td></tr><tr><th>2</th><td>3</td><td>Profesor</td><td>Eafit</td><td>2020-10-30T14:31:42</td></tr><tr><th>3</th><td>4</td><td>Estudiante</td><td>Eafit</td><td>2020-10-26T21:08:53</td></tr><tr><th>4</th><td>5</td><td>Luis</td><td>Cárdenas</td><td>2020-08-05T19:27:36</td></tr><tr><th>5</th><td>6</td><td>Mauricio</td><td>Vásquez</td><td>2020-10-20T21:00:59</td></tr><tr><th>6</th><td>8</td><td>Carolina</td><td>Ospina Foronda</td><td>2020-08-26T16:59:05</td></tr><tr><th>7</th><td>9</td><td>Estefanía</td><td>Preciado Santa</td><td>2020-10-30T22:39:12</td></tr><tr><th>8</th><td>10</td><td>Valeria</td><td>Zapata Giraldo</td><td>2020-10-30T22:58:16</td></tr><tr><th>9</th><td>12</td><td>Nicolás</td><td>Arbelaez</td><td>2020-08-04T15:25:36</td></tr><tr><th>10</th><td>17</td><td>Alexandra</td><td>Osorio Dávila</td><td>2020-08-07T23:11:06</td></tr><tr><th>11</th><td>18</td><td>Ana Maria</td><td>Galeano Ceron</td><td>2020-10-19T20:10:03</td></tr><tr><th>12</th><td>19</td><td>Ana Milena</td><td>Muñoz Orozco</td><td>2020-09-28T16:56:40</td></tr><tr><th>13</th><td>21</td><td>Angela Maria</td><td>Bedoya Gañan</td><td>2020-08-02T05:26:50</td></tr><tr><th>14</th><td>22</td><td>Angélica María</td><td>Vargas Pérez</td><td>2020-08-12T05:08:00</td></tr><tr><th>15</th><td>23</td><td>Angy paola</td><td>Vanegas villa</td><td>2020-08-26T22:44:46</td></tr><tr><th>16</th><td>25</td><td>Berenice</td><td>Franco Giraldo</td><td>2020-08-05T19:56:43</td></tr><tr><th>17</th><td>26</td><td>Bibiana</td><td>Ossa Guiral</td><td>2020-10-26T03:59:23</td></tr><tr><th>18</th><td>27</td><td>Camilo</td><td>Tabares</td><td>2020-09-04T02:52:45</td></tr><tr><th>19</th><td>28</td><td>Carlos</td><td>Valencia</td><td>2020-10-13T20:18:45</td></tr><tr><th>20</th><td>29</td><td>Carlos Arturo</td><td>Valencia Arango</td><td>2020-08-14T00:51:55</td></tr><tr><th>21</th><td>30</td><td>Carolina</td><td>Serna Henao</td><td>2020-10-29T13:05:37</td></tr><tr><th>22</th><td>31</td><td>César</td><td>Montoya</td><td>2020-08-10T01:36:08</td></tr><tr><th>23</th><td>32</td><td>Claudia Cecilia</td><td>Piedrahita Diaz</td><td>2020-10-31T03:46:55</td></tr><tr><th>24</th><td>33</td><td>Claudia Patricia</td><td>Echeverri Arenas</td><td>2020-10-25T23:00:01</td></tr><tr><th>25</th><td>35</td><td>Darley</td><td>Hernández Caro</td><td>2020-08-21T15:35:16</td></tr><tr><th>26</th><td>36</td><td>David</td><td>Soto Jiménez</td><td>2020-08-13T00:16:47</td></tr><tr><th>27</th><td>41</td><td>Deisy</td><td>Medina Giraldo</td><td>2020-10-25T23:02:39</td></tr><tr><th>28</th><td>42</td><td>Deisy Estefania</td><td>Porras Sanchez</td><td>2020-10-29T15:06:14</td></tr><tr><th>29</th><td>44</td><td>Diana Carolina</td><td>Agudelo Herrera</td><td>2020-10-29T00:22:53</td></tr><tr><th>30</th><td>48</td><td>Diego Fernando</td><td>Orrego Gutiérrez</td><td>2020-10-16T06:01:25</td></tr><tr><th>&vellip;</th><td>&vellip;</td><td>&vellip;</td><td>&vellip;</td><td>&vellip;</td></tr></tbody></table>",
            "text/latex": "\\begin{tabular}{r|cccc}\n\t& USER\\_ID & firstname & lastname & lastaccess\\\\\n\t\\hline\n\t& Int64 & String & String & DateTime\\\\\n\t\\hline\n\t1 & 2 & Admin & EAFIT & 2020-10-29T20:46:18 \\\\\n\t2 & 3 & Profesor & Eafit & 2020-10-30T14:31:42 \\\\\n\t3 & 4 & Estudiante & Eafit & 2020-10-26T21:08:53 \\\\\n\t4 & 5 & Luis & Cárdenas & 2020-08-05T19:27:36 \\\\\n\t5 & 6 & Mauricio & Vásquez & 2020-10-20T21:00:59 \\\\\n\t6 & 8 & Carolina & Ospina Foronda & 2020-08-26T16:59:05 \\\\\n\t7 & 9 & Estefanía & Preciado Santa & 2020-10-30T22:39:12 \\\\\n\t8 & 10 & Valeria & Zapata Giraldo & 2020-10-30T22:58:16 \\\\\n\t9 & 12 & Nicolás & Arbelaez & 2020-08-04T15:25:36 \\\\\n\t10 & 17 & Alexandra & Osorio Dávila & 2020-08-07T23:11:06 \\\\\n\t11 & 18 & Ana Maria & Galeano Ceron & 2020-10-19T20:10:03 \\\\\n\t12 & 19 & Ana Milena & Muñoz Orozco & 2020-09-28T16:56:40 \\\\\n\t13 & 21 & Angela Maria & Bedoya Gañan & 2020-08-02T05:26:50 \\\\\n\t14 & 22 & Angélica María & Vargas Pérez & 2020-08-12T05:08:00 \\\\\n\t15 & 23 & Angy paola & Vanegas villa & 2020-08-26T22:44:46 \\\\\n\t16 & 25 & Berenice & Franco Giraldo & 2020-08-05T19:56:43 \\\\\n\t17 & 26 & Bibiana & Ossa Guiral & 2020-10-26T03:59:23 \\\\\n\t18 & 27 & Camilo & Tabares & 2020-09-04T02:52:45 \\\\\n\t19 & 28 & Carlos & Valencia & 2020-10-13T20:18:45 \\\\\n\t20 & 29 & Carlos Arturo & Valencia Arango & 2020-08-14T00:51:55 \\\\\n\t21 & 30 & Carolina & Serna Henao & 2020-10-29T13:05:37 \\\\\n\t22 & 31 & César & Montoya & 2020-08-10T01:36:08 \\\\\n\t23 & 32 & Claudia Cecilia & Piedrahita Diaz & 2020-10-31T03:46:55 \\\\\n\t24 & 33 & Claudia Patricia & Echeverri Arenas & 2020-10-25T23:00:01 \\\\\n\t25 & 35 & Darley & Hernández Caro & 2020-08-21T15:35:16 \\\\\n\t26 & 36 & David & Soto Jiménez & 2020-08-13T00:16:47 \\\\\n\t27 & 41 & Deisy & Medina Giraldo & 2020-10-25T23:02:39 \\\\\n\t28 & 42 & Deisy Estefania & Porras Sanchez & 2020-10-29T15:06:14 \\\\\n\t29 & 44 & Diana Carolina & Agudelo Herrera & 2020-10-29T00:22:53 \\\\\n\t30 & 48 & Diego Fernando & Orrego Gutiérrez & 2020-10-16T06:01:25 \\\\\n\t$\\dots$ & $\\dots$ & $\\dots$ & $\\dots$ & $\\dots$ \\\\\n\\end{tabular}\n"
          },
          "metadata": {}
        }
      ],
      "execution_count": 289,
      "metadata": {
        "collapsed": true,
        "jupyter": {
          "source_hidden": false,
          "outputs_hidden": false
        },
        "nteract": {
          "transient": {
            "deleting": false
          }
        },
        "execution": {
          "iopub.status.busy": "2020-11-27T07:25:03.642Z",
          "iopub.execute_input": "2020-11-27T07:25:03.672Z",
          "iopub.status.idle": "2020-11-27T07:25:03.735Z"
        }
      }
    },
    {
      "cell_type": "code",
      "source": [
        "q1 = @from i in userWithLastAccess begin\n",
        "            @where Dates.month(i.lastaccess) == 8\n",
        "            @select {i.USER_ID, i.firstname, i.lastname}\n",
        "            @collect DataFrame\n",
        "       end"
      ],
      "outputs": [
        {
          "output_type": "execute_result",
          "execution_count": 298,
          "data": {
            "text/plain": "42×3 DataFrame\n│ Row │ USER_ID │ firstname       │ lastname        │\n│     │ \u001b[90mInt64\u001b[39m   │ \u001b[90mString\u001b[39m          │ \u001b[90mString\u001b[39m          │\n├─────┼─────────┼─────────────────┼─────────────────┤\n│ 1   │ 5       │ Luis            │ Cárdenas        │\n│ 2   │ 8       │ Carolina        │ Ospina Foronda  │\n│ 3   │ 12      │ Nicolás         │ Arbelaez        │\n│ 4   │ 17      │ Alexandra       │ Osorio Dávila   │\n│ 5   │ 21      │ Angela Maria    │ Bedoya Gañan    │\n│ 6   │ 22      │ Angélica María  │ Vargas Pérez    │\n│ 7   │ 23      │ Angy paola      │ Vanegas villa   │\n│ 8   │ 25      │ Berenice        │ Franco Giraldo  │\n│ 9   │ 29      │ Carlos Arturo   │ Valencia Arango │\n│ 10  │ 31      │ César           │ Montoya         │\n⋮\n│ 32  │ 111     │ Steffany        │ Redondo Romano  │\n│ 33  │ 114     │ Valentina       │ Restrepo Hoyos  │\n│ 34  │ 118     │ Yaqueline       │ Zapata Quintero │\n│ 35  │ 119     │ Yeferson        │ Giraldo López   │\n│ 36  │ 120     │ Yeraldín        │ Arias Loaiza    │\n│ 37  │ 126     │ Luz Estella     │ Arango Restrepo │\n│ 38  │ 127     │ Gloria          │ Giraldo         │\n│ 39  │ 128     │ Natalia         │ Moreno Londoño  │\n│ 40  │ 134     │ Jaime Alberto   │ Ocampo Olarte   │\n│ 41  │ 139     │ María Alejandra │ Lopera          │\n│ 42  │ 145     │ Santiago        │ Baena           │",
            "text/html": "<table class=\"data-frame\"><thead><tr><th></th><th>USER_ID</th><th>firstname</th><th>lastname</th></tr><tr><th></th><th>Int64</th><th>String</th><th>String</th></tr></thead><tbody><p>42 rows × 3 columns</p><tr><th>1</th><td>5</td><td>Luis</td><td>Cárdenas</td></tr><tr><th>2</th><td>8</td><td>Carolina</td><td>Ospina Foronda</td></tr><tr><th>3</th><td>12</td><td>Nicolás</td><td>Arbelaez</td></tr><tr><th>4</th><td>17</td><td>Alexandra</td><td>Osorio Dávila</td></tr><tr><th>5</th><td>21</td><td>Angela Maria</td><td>Bedoya Gañan</td></tr><tr><th>6</th><td>22</td><td>Angélica María</td><td>Vargas Pérez</td></tr><tr><th>7</th><td>23</td><td>Angy paola</td><td>Vanegas villa</td></tr><tr><th>8</th><td>25</td><td>Berenice</td><td>Franco Giraldo</td></tr><tr><th>9</th><td>29</td><td>Carlos Arturo</td><td>Valencia Arango</td></tr><tr><th>10</th><td>31</td><td>César</td><td>Montoya</td></tr><tr><th>11</th><td>35</td><td>Darley</td><td>Hernández Caro</td></tr><tr><th>12</th><td>36</td><td>David</td><td>Soto Jiménez</td></tr><tr><th>13</th><td>49</td><td>Dorely</td><td>Pulgarin Moreno</td></tr><tr><th>14</th><td>50</td><td>Eliana Alexandra</td><td>Correa Vélez</td></tr><tr><th>15</th><td>51</td><td>Elvia Lucía</td><td>Urrego Cano</td></tr><tr><th>16</th><td>54</td><td>Francy Andrea</td><td>Rodriguez Piedrahita</td></tr><tr><th>17</th><td>57</td><td>Gloria Patricia</td><td>Pino</td></tr><tr><th>18</th><td>61</td><td>Jaime</td><td>Arango Agudelo</td></tr><tr><th>19</th><td>70</td><td>Jose Fernando</td><td>Sánchez</td></tr><tr><th>20</th><td>73</td><td>Juan Felipe</td><td>López Sánchez</td></tr><tr><th>21</th><td>76</td><td>Juliana Isabel</td><td>Lezcano Escudero</td></tr><tr><th>22</th><td>79</td><td>Leidy Biviana</td><td>Gomez Estrada</td></tr><tr><th>23</th><td>81</td><td>Liliana María</td><td>Serna Castañeda</td></tr><tr><th>24</th><td>85</td><td>Madeleen</td><td>Hernández</td></tr><tr><th>25</th><td>93</td><td>Millerdalia</td><td>Escobar Restrepo</td></tr><tr><th>26</th><td>95</td><td>Natalia</td><td>Ceballos Velasquez</td></tr><tr><th>27</th><td>96</td><td>Natalia Andrea</td><td>Marín López</td></tr><tr><th>28</th><td>101</td><td>Robinson</td><td>Álvarez Cano</td></tr><tr><th>29</th><td>102</td><td>Salomé</td><td>Álvarez Vásquez</td></tr><tr><th>30</th><td>103</td><td>Sammy Steve</td><td>Banoy Rojas</td></tr><tr><th>&vellip;</th><td>&vellip;</td><td>&vellip;</td><td>&vellip;</td></tr></tbody></table>",
            "text/latex": "\\begin{tabular}{r|ccc}\n\t& USER\\_ID & firstname & lastname\\\\\n\t\\hline\n\t& Int64 & String & String\\\\\n\t\\hline\n\t1 & 5 & Luis & Cárdenas \\\\\n\t2 & 8 & Carolina & Ospina Foronda \\\\\n\t3 & 12 & Nicolás & Arbelaez \\\\\n\t4 & 17 & Alexandra & Osorio Dávila \\\\\n\t5 & 21 & Angela Maria & Bedoya Gañan \\\\\n\t6 & 22 & Angélica María & Vargas Pérez \\\\\n\t7 & 23 & Angy paola & Vanegas villa \\\\\n\t8 & 25 & Berenice & Franco Giraldo \\\\\n\t9 & 29 & Carlos Arturo & Valencia Arango \\\\\n\t10 & 31 & César & Montoya \\\\\n\t11 & 35 & Darley & Hernández Caro \\\\\n\t12 & 36 & David & Soto Jiménez \\\\\n\t13 & 49 & Dorely & Pulgarin Moreno \\\\\n\t14 & 50 & Eliana Alexandra & Correa Vélez \\\\\n\t15 & 51 & Elvia Lucía & Urrego Cano \\\\\n\t16 & 54 & Francy Andrea & Rodriguez Piedrahita \\\\\n\t17 & 57 & Gloria Patricia & Pino \\\\\n\t18 & 61 & Jaime & Arango Agudelo \\\\\n\t19 & 70 & Jose Fernando & Sánchez \\\\\n\t20 & 73 & Juan Felipe & López Sánchez \\\\\n\t21 & 76 & Juliana Isabel & Lezcano Escudero \\\\\n\t22 & 79 & Leidy Biviana & Gomez Estrada \\\\\n\t23 & 81 & Liliana María & Serna Castañeda \\\\\n\t24 & 85 & Madeleen & Hernández \\\\\n\t25 & 93 & Millerdalia & Escobar Restrepo \\\\\n\t26 & 95 & Natalia & Ceballos Velasquez \\\\\n\t27 & 96 & Natalia Andrea & Marín López \\\\\n\t28 & 101 & Robinson & Álvarez Cano \\\\\n\t29 & 102 & Salomé & Álvarez Vásquez \\\\\n\t30 & 103 & Sammy Steve & Banoy Rojas \\\\\n\t$\\dots$ & $\\dots$ & $\\dots$ & $\\dots$ \\\\\n\\end{tabular}\n"
          },
          "metadata": {}
        }
      ],
      "execution_count": 298,
      "metadata": {
        "collapsed": true,
        "jupyter": {
          "source_hidden": false,
          "outputs_hidden": false
        },
        "nteract": {
          "transient": {
            "deleting": false
          }
        },
        "execution": {
          "iopub.status.busy": "2020-11-27T07:33:23.053Z",
          "iopub.execute_input": "2020-11-27T07:33:23.093Z",
          "iopub.status.idle": "2020-11-27T07:33:23.287Z"
        }
      }
    },
    {
      "cell_type": "code",
      "source": [
        "userInteractionWithGIANT"
      ],
      "outputs": [
        {
          "output_type": "execute_result",
          "execution_count": 294,
          "data": {
            "text/plain": "169×5 DataFrame\n│ Row │ USER_ID │ firstname       │ lastname       │ lastlogin  │ lastaccess │\n│     │ \u001b[90mInt64\u001b[39m   │ \u001b[90mString\u001b[39m          │ \u001b[90mString\u001b[39m         │ \u001b[90mInt64\u001b[39m      │ \u001b[90mInt64\u001b[39m      │\n├─────┼─────────┼─────────────────┼────────────────┼────────────┼────────────┤\n│ 1   │ 1       │ Invitado        │                │ 0          │ 0          │\n│ 2   │ 2       │ Admin           │ EAFIT          │ 1604002930 │ 1604004378 │\n│ 3   │ 3       │ Profesor        │ Eafit          │ 1604068231 │ 1604068302 │\n│ 4   │ 4       │ Estudiante      │ Eafit          │ 1603739126 │ 1603746533 │\n│ 5   │ 5       │ Luis            │ Cárdenas       │ 1596644693 │ 1596655656 │\n│ 6   │ 6       │ Mauricio        │ Vásquez        │ 1601936325 │ 1603227659 │\n│ 7   │ 7       │ Cristian Andrés │ Díaz León      │ 0          │ 0          │\n│ 8   │ 8       │ Carolina        │ Ospina Foronda │ 0          │ 1598461145 │\n│ 9   │ 9       │ Estefanía       │ Preciado Santa │ 1604008365 │ 1604097552 │\n│ 10  │ 10      │ Valeria         │ Zapata Giraldo │ 1604089960 │ 1604098696 │\n⋮\n│ 159 │ 159     │ DAMIAN          │ MARIN          │ 0          │ 0          │\n│ 160 │ 160     │ SAMUEL          │ JARAMILLO      │ 0          │ 1602356640 │\n│ 161 │ 161     │ SEBASTIAN       │ LLANO          │ 1602337436 │ 1603059685 │\n│ 162 │ 162     │ JUAN            │ JIMENEZ        │ 0          │ 0          │\n│ 163 │ 163     │ EDSON           │ FLOREZ         │ 0          │ 0          │\n│ 164 │ 164     │ SEBASTIN        │ LPEZ           │ 1600543534 │ 1602364170 │\n│ 165 │ 165     │ MIGUEL          │ VILLEGAS       │ 0          │ 1603131414 │\n│ 166 │ 166     │ MIGUEL          │ MERCADO        │ 0          │ 1600548062 │\n│ 167 │ 167     │ JUAN            │ CANO           │ 0          │ 0          │\n│ 168 │ 168     │ SIMON           │ GOMEZ          │ 1602977364 │ 1602981457 │\n│ 169 │ 169     │ ANDRES          │ VELASQUEZ      │ 0          │ 1602349027 │",
            "text/html": "<table class=\"data-frame\"><thead><tr><th></th><th>USER_ID</th><th>firstname</th><th>lastname</th><th>lastlogin</th><th>lastaccess</th></tr><tr><th></th><th>Int64</th><th>String</th><th>String</th><th>Int64</th><th>Int64</th></tr></thead><tbody><p>169 rows × 5 columns</p><tr><th>1</th><td>1</td><td>Invitado</td><td> </td><td>0</td><td>0</td></tr><tr><th>2</th><td>2</td><td>Admin</td><td>EAFIT</td><td>1604002930</td><td>1604004378</td></tr><tr><th>3</th><td>3</td><td>Profesor</td><td>Eafit</td><td>1604068231</td><td>1604068302</td></tr><tr><th>4</th><td>4</td><td>Estudiante</td><td>Eafit</td><td>1603739126</td><td>1603746533</td></tr><tr><th>5</th><td>5</td><td>Luis</td><td>Cárdenas</td><td>1596644693</td><td>1596655656</td></tr><tr><th>6</th><td>6</td><td>Mauricio</td><td>Vásquez</td><td>1601936325</td><td>1603227659</td></tr><tr><th>7</th><td>7</td><td>Cristian Andrés</td><td>Díaz León</td><td>0</td><td>0</td></tr><tr><th>8</th><td>8</td><td>Carolina</td><td>Ospina Foronda</td><td>0</td><td>1598461145</td></tr><tr><th>9</th><td>9</td><td>Estefanía</td><td>Preciado Santa</td><td>1604008365</td><td>1604097552</td></tr><tr><th>10</th><td>10</td><td>Valeria</td><td>Zapata Giraldo</td><td>1604089960</td><td>1604098696</td></tr><tr><th>11</th><td>11</td><td>Sandra</td><td>Pulgarín</td><td>0</td><td>0</td></tr><tr><th>12</th><td>12</td><td>Nicolás</td><td>Arbelaez</td><td>0</td><td>1596554736</td></tr><tr><th>13</th><td>13</td><td>Lina</td><td>Rodríguez</td><td>0</td><td>0</td></tr><tr><th>14</th><td>14</td><td>Lorena</td><td>Avilés</td><td>0</td><td>0</td></tr><tr><th>15</th><td>15</td><td>Olga</td><td>Taborda</td><td>0</td><td>0</td></tr><tr><th>16</th><td>16</td><td>Alejandra</td><td>Santa</td><td>0</td><td>0</td></tr><tr><th>17</th><td>17</td><td>Alexandra</td><td>Osorio Dávila</td><td>1596658297</td><td>1596841866</td></tr><tr><th>18</th><td>18</td><td>Ana Maria</td><td>Galeano Ceron</td><td>1601070921</td><td>1603138203</td></tr><tr><th>19</th><td>19</td><td>Ana Milena</td><td>Muñoz Orozco</td><td>1600618826</td><td>1601312200</td></tr><tr><th>20</th><td>20</td><td>Andrés Felipe</td><td>Arenas Salamanca</td><td>0</td><td>0</td></tr><tr><th>21</th><td>21</td><td>Angela Maria</td><td>Bedoya Gañan</td><td>0</td><td>1596346010</td></tr><tr><th>22</th><td>22</td><td>Angélica María</td><td>Vargas Pérez</td><td>0</td><td>1597208880</td></tr><tr><th>23</th><td>23</td><td>Angy paola</td><td>Vanegas villa</td><td>1598312428</td><td>1598481886</td></tr><tr><th>24</th><td>24</td><td>Arlinson David</td><td>Padilla Torregroza</td><td>0</td><td>0</td></tr><tr><th>25</th><td>25</td><td>Berenice</td><td>Franco Giraldo</td><td>0</td><td>1596657403</td></tr><tr><th>26</th><td>26</td><td>Bibiana</td><td>Ossa Guiral</td><td>1603663916</td><td>1603684763</td></tr><tr><th>27</th><td>27</td><td>Camilo</td><td>Tabares</td><td>1598471029</td><td>1599187965</td></tr><tr><th>28</th><td>28</td><td>Carlos</td><td>Valencia</td><td>1598309964</td><td>1602620325</td></tr><tr><th>29</th><td>29</td><td>Carlos Arturo</td><td>Valencia Arango</td><td>1596659630</td><td>1597366315</td></tr><tr><th>30</th><td>30</td><td>Carolina</td><td>Serna Henao</td><td>1603460458</td><td>1603976737</td></tr><tr><th>&vellip;</th><td>&vellip;</td><td>&vellip;</td><td>&vellip;</td><td>&vellip;</td><td>&vellip;</td></tr></tbody></table>",
            "text/latex": "\\begin{tabular}{r|ccccc}\n\t& USER\\_ID & firstname & lastname & lastlogin & lastaccess\\\\\n\t\\hline\n\t& Int64 & String & String & Int64 & Int64\\\\\n\t\\hline\n\t1 & 1 & Invitado &   & 0 & 0 \\\\\n\t2 & 2 & Admin & EAFIT & 1604002930 & 1604004378 \\\\\n\t3 & 3 & Profesor & Eafit & 1604068231 & 1604068302 \\\\\n\t4 & 4 & Estudiante & Eafit & 1603739126 & 1603746533 \\\\\n\t5 & 5 & Luis & Cárdenas & 1596644693 & 1596655656 \\\\\n\t6 & 6 & Mauricio & Vásquez & 1601936325 & 1603227659 \\\\\n\t7 & 7 & Cristian Andrés & Díaz León & 0 & 0 \\\\\n\t8 & 8 & Carolina & Ospina Foronda & 0 & 1598461145 \\\\\n\t9 & 9 & Estefanía & Preciado Santa & 1604008365 & 1604097552 \\\\\n\t10 & 10 & Valeria & Zapata Giraldo & 1604089960 & 1604098696 \\\\\n\t11 & 11 & Sandra & Pulgarín & 0 & 0 \\\\\n\t12 & 12 & Nicolás & Arbelaez & 0 & 1596554736 \\\\\n\t13 & 13 & Lina & Rodríguez & 0 & 0 \\\\\n\t14 & 14 & Lorena & Avilés & 0 & 0 \\\\\n\t15 & 15 & Olga & Taborda & 0 & 0 \\\\\n\t16 & 16 & Alejandra & Santa & 0 & 0 \\\\\n\t17 & 17 & Alexandra & Osorio Dávila & 1596658297 & 1596841866 \\\\\n\t18 & 18 & Ana Maria & Galeano Ceron & 1601070921 & 1603138203 \\\\\n\t19 & 19 & Ana Milena & Muñoz Orozco & 1600618826 & 1601312200 \\\\\n\t20 & 20 & Andrés Felipe & Arenas Salamanca & 0 & 0 \\\\\n\t21 & 21 & Angela Maria & Bedoya Gañan & 0 & 1596346010 \\\\\n\t22 & 22 & Angélica María & Vargas Pérez & 0 & 1597208880 \\\\\n\t23 & 23 & Angy paola & Vanegas villa & 1598312428 & 1598481886 \\\\\n\t24 & 24 & Arlinson David & Padilla Torregroza & 0 & 0 \\\\\n\t25 & 25 & Berenice & Franco Giraldo & 0 & 1596657403 \\\\\n\t26 & 26 & Bibiana & Ossa Guiral & 1603663916 & 1603684763 \\\\\n\t27 & 27 & Camilo & Tabares & 1598471029 & 1599187965 \\\\\n\t28 & 28 & Carlos & Valencia & 1598309964 & 1602620325 \\\\\n\t29 & 29 & Carlos Arturo & Valencia Arango & 1596659630 & 1597366315 \\\\\n\t30 & 30 & Carolina & Serna Henao & 1603460458 & 1603976737 \\\\\n\t$\\dots$ & $\\dots$ & $\\dots$ & $\\dots$ & $\\dots$ & $\\dots$ \\\\\n\\end{tabular}\n"
          },
          "metadata": {}
        }
      ],
      "execution_count": 294,
      "metadata": {
        "collapsed": true,
        "jupyter": {
          "source_hidden": false,
          "outputs_hidden": false
        },
        "nteract": {
          "transient": {
            "deleting": false
          }
        },
        "execution": {
          "iopub.status.busy": "2020-11-27T07:29:56.387Z",
          "iopub.execute_input": "2020-11-27T07:29:56.427Z",
          "iopub.status.idle": "2020-11-27T07:29:56.490Z"
        }
      }
    },
    {
      "cell_type": "code",
      "source": [
        "names(usersDataFrame)"
      ],
      "outputs": [
        {
          "output_type": "execute_result",
          "execution_count": 166,
          "data": {
            "text/plain": "14-element Array{String,1}:\n \"_id\"\n \"USER_ID\"\n \"username\"\n \"firstname\"\n \"lastname\"\n \"email\"\n \"country\"\n \"city\"\n \"birthday\"\n \"education_level\"\n \"gender\"\n \"lastaccess\"\n \"lastlogin\"\n \"enrolments\""
          },
          "metadata": {}
        }
      ],
      "execution_count": 166,
      "metadata": {
        "collapsed": true,
        "jupyter": {
          "source_hidden": false,
          "outputs_hidden": false
        },
        "nteract": {
          "transient": {
            "deleting": false
          }
        },
        "execution": {
          "iopub.status.busy": "2020-11-27T05:50:16.828Z",
          "iopub.execute_input": "2020-11-27T05:50:16.847Z",
          "iopub.status.idle": "2020-11-27T05:50:16.894Z"
        }
      }
    },
    {
      "cell_type": "code",
      "source": [
        "Pkg.add(\"Query\")\n",
        "using Query"
      ],
      "outputs": [
        {
          "output_type": "stream",
          "name": "stderr",
          "text": [
            "\u001b[32m\u001b[1m  Resolving\u001b[22m\u001b[39m package versions...\n",
            "\u001b[32m\u001b[1m  Installed\u001b[22m\u001b[39m QueryOperators ─ v0.9.2\n",
            "\u001b[32m\u001b[1m  Installed\u001b[22m\u001b[39m Query ────────── v1.0.0\n",
            "\u001b[32m\u001b[1m   Updating\u001b[22m\u001b[39m `~/.julia/environments/v1.4/Project.toml`\n",
            " \u001b[90m [1a8c2f83]\u001b[39m\u001b[92m + Query v1.0.0\u001b[39m\n",
            "\u001b[32m\u001b[1m   Updating\u001b[22m\u001b[39m `~/.julia/environments/v1.4/Manifest.toml`\n",
            " \u001b[90m [1a8c2f83]\u001b[39m\u001b[92m + Query v1.0.0\u001b[39m\n",
            " \u001b[90m [2aef5ad7]\u001b[39m\u001b[92m + QueryOperators v0.9.2\u001b[39m\n",
            "┌ Info: Precompiling Query [1a8c2f83-1ff3-5112-b086-8aa67b057ba1]\n",
            "└ @ Base loading.jl:1260\n"
          ]
        }
      ],
      "execution_count": 57,
      "metadata": {
        "collapsed": true,
        "jupyter": {
          "source_hidden": false,
          "outputs_hidden": false
        },
        "nteract": {
          "transient": {
            "deleting": false
          }
        },
        "execution": {
          "iopub.status.busy": "2020-11-27T05:13:02.873Z",
          "iopub.execute_input": "2020-11-27T05:13:02.897Z",
          "iopub.status.idle": "2020-11-27T05:13:34.785Z"
        }
      }
    },
    {
      "cell_type": "code",
      "source": [
        "userWithHighInterations = @from i in userByEventsSumDataFrame begin\n",
        "            @where i.SUM_EVENTS >= 370\n",
        "            @select {i.USER_ID, i.SUM_EVENTS}\n",
        "            @collect DataFrame\n",
        "       end"
      ],
      "outputs": [
        {
          "output_type": "execute_result",
          "execution_count": 243,
          "data": {
            "text/plain": "44×2 DataFrame\n│ Row │ USER_ID │ SUM_EVENTS │\n│     │ \u001b[90mInt64\u001b[39m   │ \u001b[90mInt64\u001b[39m      │\n├─────┼─────────┼────────────┤\n│ 1   │ 2       │ 1477       │\n│ 2   │ 3       │ 431        │\n│ 3   │ 4       │ 1957       │\n│ 4   │ 9       │ 408        │\n│ 5   │ 10      │ 1407       │\n│ 6   │ 18      │ 550        │\n│ 7   │ 19      │ 546        │\n│ 8   │ 26      │ 732        │\n│ 9   │ 30      │ 857        │\n│ 10  │ 32      │ 748        │\n⋮\n│ 34  │ 106     │ 734        │\n│ 35  │ 108     │ 759        │\n│ 36  │ 110     │ 1415       │\n│ 37  │ 112     │ 1549       │\n│ 38  │ 125     │ 756        │\n│ 39  │ 132     │ 755        │\n│ 40  │ 133     │ 1001       │\n│ 41  │ 137     │ 816        │\n│ 42  │ 141     │ 565        │\n│ 43  │ 142     │ 376        │\n│ 44  │ 156     │ 449        │",
            "text/html": "<table class=\"data-frame\"><thead><tr><th></th><th>USER_ID</th><th>SUM_EVENTS</th></tr><tr><th></th><th>Int64</th><th>Int64</th></tr></thead><tbody><p>44 rows × 2 columns</p><tr><th>1</th><td>2</td><td>1477</td></tr><tr><th>2</th><td>3</td><td>431</td></tr><tr><th>3</th><td>4</td><td>1957</td></tr><tr><th>4</th><td>9</td><td>408</td></tr><tr><th>5</th><td>10</td><td>1407</td></tr><tr><th>6</th><td>18</td><td>550</td></tr><tr><th>7</th><td>19</td><td>546</td></tr><tr><th>8</th><td>26</td><td>732</td></tr><tr><th>9</th><td>30</td><td>857</td></tr><tr><th>10</th><td>32</td><td>748</td></tr><tr><th>11</th><td>33</td><td>840</td></tr><tr><th>12</th><td>41</td><td>707</td></tr><tr><th>13</th><td>42</td><td>883</td></tr><tr><th>14</th><td>44</td><td>911</td></tr><tr><th>15</th><td>48</td><td>557</td></tr><tr><th>16</th><td>55</td><td>524</td></tr><tr><th>17</th><td>59</td><td>408</td></tr><tr><th>18</th><td>62</td><td>473</td></tr><tr><th>19</th><td>67</td><td>479</td></tr><tr><th>20</th><td>68</td><td>745</td></tr><tr><th>21</th><td>71</td><td>632</td></tr><tr><th>22</th><td>74</td><td>381</td></tr><tr><th>23</th><td>75</td><td>619</td></tr><tr><th>24</th><td>80</td><td>712</td></tr><tr><th>25</th><td>82</td><td>1131</td></tr><tr><th>26</th><td>83</td><td>612</td></tr><tr><th>27</th><td>84</td><td>1331</td></tr><tr><th>28</th><td>88</td><td>570</td></tr><tr><th>29</th><td>89</td><td>529</td></tr><tr><th>30</th><td>91</td><td>428</td></tr><tr><th>&vellip;</th><td>&vellip;</td><td>&vellip;</td></tr></tbody></table>",
            "text/latex": "\\begin{tabular}{r|cc}\n\t& USER\\_ID & SUM\\_EVENTS\\\\\n\t\\hline\n\t& Int64 & Int64\\\\\n\t\\hline\n\t1 & 2 & 1477 \\\\\n\t2 & 3 & 431 \\\\\n\t3 & 4 & 1957 \\\\\n\t4 & 9 & 408 \\\\\n\t5 & 10 & 1407 \\\\\n\t6 & 18 & 550 \\\\\n\t7 & 19 & 546 \\\\\n\t8 & 26 & 732 \\\\\n\t9 & 30 & 857 \\\\\n\t10 & 32 & 748 \\\\\n\t11 & 33 & 840 \\\\\n\t12 & 41 & 707 \\\\\n\t13 & 42 & 883 \\\\\n\t14 & 44 & 911 \\\\\n\t15 & 48 & 557 \\\\\n\t16 & 55 & 524 \\\\\n\t17 & 59 & 408 \\\\\n\t18 & 62 & 473 \\\\\n\t19 & 67 & 479 \\\\\n\t20 & 68 & 745 \\\\\n\t21 & 71 & 632 \\\\\n\t22 & 74 & 381 \\\\\n\t23 & 75 & 619 \\\\\n\t24 & 80 & 712 \\\\\n\t25 & 82 & 1131 \\\\\n\t26 & 83 & 612 \\\\\n\t27 & 84 & 1331 \\\\\n\t28 & 88 & 570 \\\\\n\t29 & 89 & 529 \\\\\n\t30 & 91 & 428 \\\\\n\t$\\dots$ & $\\dots$ & $\\dots$ \\\\\n\\end{tabular}\n"
          },
          "metadata": {}
        }
      ],
      "execution_count": 243,
      "metadata": {
        "collapsed": true,
        "jupyter": {
          "source_hidden": false,
          "outputs_hidden": false
        },
        "nteract": {
          "transient": {
            "deleting": false
          }
        },
        "execution": {
          "iopub.status.busy": "2020-11-27T06:42:24.887Z",
          "iopub.execute_input": "2020-11-27T06:42:24.918Z",
          "iopub.status.idle": "2020-11-27T06:42:25.081Z"
        }
      }
    },
    {
      "cell_type": "code",
      "source": [
        "joinResultsDataFrameHigh = innerjoin(userWithHighInterations, frequencyEventUsers, on = [:USER_ID => :USER_ID])"
      ],
      "outputs": [
        {
          "output_type": "execute_result",
          "execution_count": 244,
          "data": {
            "text/plain": "44×111 DataFrame. Omitted printing of 103 columns\n│ Row │ USER_ID │ SUM_EVENTS │ 1     │ 2     │ 3     │ 4     │ 5     │ 6     │\n│     │ \u001b[90mInt64\u001b[39m   │ \u001b[90mInt64\u001b[39m      │ \u001b[90mInt64\u001b[39m │ \u001b[90mInt64\u001b[39m │ \u001b[90mInt64\u001b[39m │ \u001b[90mInt64\u001b[39m │ \u001b[90mInt64\u001b[39m │ \u001b[90mInt64\u001b[39m │\n├─────┼─────────┼────────────┼───────┼───────┼───────┼───────┼───────┼───────┤\n│ 1   │ 2       │ 1477       │ 0     │ 3     │ 65    │ 114   │ 290   │ 13    │\n│ 2   │ 3       │ 431        │ 0     │ 2     │ 33    │ 42    │ 162   │ 6     │\n│ 3   │ 4       │ 1957       │ 3     │ 9     │ 95    │ 111   │ 577   │ 11    │\n│ 4   │ 9       │ 408        │ 11    │ 0     │ 17    │ 24    │ 74    │ 30    │\n│ 5   │ 10      │ 1407       │ 145   │ 7     │ 69    │ 102   │ 396   │ 45    │\n│ 6   │ 18      │ 550        │ 0     │ 3     │ 7     │ 10    │ 129   │ 0     │\n│ 7   │ 19      │ 546        │ 0     │ 1     │ 15    │ 8     │ 129   │ 0     │\n│ 8   │ 26      │ 732        │ 0     │ 0     │ 14    │ 13    │ 171   │ 0     │\n│ 9   │ 30      │ 857        │ 0     │ 6     │ 31    │ 30    │ 213   │ 0     │\n│ 10  │ 32      │ 748        │ 0     │ 0     │ 25    │ 27    │ 137   │ 0     │\n⋮\n│ 34  │ 106     │ 734        │ 0     │ 4     │ 32    │ 37    │ 185   │ 0     │\n│ 35  │ 108     │ 759        │ 0     │ 0     │ 14    │ 30    │ 135   │ 1     │\n│ 36  │ 110     │ 1415       │ 0     │ 14    │ 47    │ 50    │ 337   │ 3     │\n│ 37  │ 112     │ 1549       │ 0     │ 2     │ 79    │ 91    │ 466   │ 10    │\n│ 38  │ 125     │ 756        │ 0     │ 0     │ 24    │ 36    │ 207   │ 0     │\n│ 39  │ 132     │ 755        │ 1     │ 17    │ 14    │ 24    │ 169   │ 8     │\n│ 40  │ 133     │ 1001       │ 28    │ 25    │ 41    │ 34    │ 258   │ 2     │\n│ 41  │ 137     │ 816        │ 1     │ 14    │ 34    │ 39    │ 228   │ 0     │\n│ 42  │ 141     │ 565        │ 0     │ 3     │ 16    │ 23    │ 131   │ 0     │\n│ 43  │ 142     │ 376        │ 2     │ 0     │ 4     │ 9     │ 98    │ 1     │\n│ 44  │ 156     │ 449        │ 1     │ 2     │ 5     │ 7     │ 120   │ 3     │",
            "text/html": "<table class=\"data-frame\"><thead><tr><th></th><th>USER_ID</th><th>SUM_EVENTS</th><th>1</th><th>2</th><th>3</th><th>4</th><th>5</th><th>6</th><th>7</th><th>8</th><th>9</th></tr><tr><th></th><th>Int64</th><th>Int64</th><th>Int64</th><th>Int64</th><th>Int64</th><th>Int64</th><th>Int64</th><th>Int64</th><th>Int64</th><th>Int64</th><th>Int64</th></tr></thead><tbody><p>44 rows × 111 columns (omitted printing of 100 columns)</p><tr><th>1</th><td>2</td><td>1477</td><td>0</td><td>3</td><td>65</td><td>114</td><td>290</td><td>13</td><td>16</td><td>7</td><td>0</td></tr><tr><th>2</th><td>3</td><td>431</td><td>0</td><td>2</td><td>33</td><td>42</td><td>162</td><td>6</td><td>45</td><td>20</td><td>0</td></tr><tr><th>3</th><td>4</td><td>1957</td><td>3</td><td>9</td><td>95</td><td>111</td><td>577</td><td>11</td><td>286</td><td>201</td><td>41</td></tr><tr><th>4</th><td>9</td><td>408</td><td>11</td><td>0</td><td>17</td><td>24</td><td>74</td><td>30</td><td>13</td><td>12</td><td>0</td></tr><tr><th>5</th><td>10</td><td>1407</td><td>145</td><td>7</td><td>69</td><td>102</td><td>396</td><td>45</td><td>190</td><td>98</td><td>30</td></tr><tr><th>6</th><td>18</td><td>550</td><td>0</td><td>3</td><td>7</td><td>10</td><td>129</td><td>0</td><td>29</td><td>20</td><td>18</td></tr><tr><th>7</th><td>19</td><td>546</td><td>0</td><td>1</td><td>15</td><td>8</td><td>129</td><td>0</td><td>30</td><td>18</td><td>18</td></tr><tr><th>8</th><td>26</td><td>732</td><td>0</td><td>0</td><td>14</td><td>13</td><td>171</td><td>0</td><td>63</td><td>37</td><td>13</td></tr><tr><th>9</th><td>30</td><td>857</td><td>0</td><td>6</td><td>31</td><td>30</td><td>213</td><td>0</td><td>114</td><td>52</td><td>22</td></tr><tr><th>10</th><td>32</td><td>748</td><td>0</td><td>0</td><td>25</td><td>27</td><td>137</td><td>0</td><td>50</td><td>54</td><td>26</td></tr><tr><th>11</th><td>33</td><td>840</td><td>0</td><td>6</td><td>15</td><td>29</td><td>186</td><td>0</td><td>55</td><td>30</td><td>17</td></tr><tr><th>12</th><td>41</td><td>707</td><td>0</td><td>1</td><td>21</td><td>33</td><td>163</td><td>0</td><td>44</td><td>41</td><td>7</td></tr><tr><th>13</th><td>42</td><td>883</td><td>0</td><td>3</td><td>20</td><td>27</td><td>255</td><td>0</td><td>72</td><td>60</td><td>47</td></tr><tr><th>14</th><td>44</td><td>911</td><td>0</td><td>6</td><td>42</td><td>44</td><td>229</td><td>3</td><td>77</td><td>57</td><td>25</td></tr><tr><th>15</th><td>48</td><td>557</td><td>0</td><td>2</td><td>25</td><td>34</td><td>147</td><td>1</td><td>41</td><td>39</td><td>40</td></tr><tr><th>16</th><td>55</td><td>524</td><td>0</td><td>2</td><td>12</td><td>13</td><td>89</td><td>4</td><td>30</td><td>25</td><td>6</td></tr><tr><th>17</th><td>59</td><td>408</td><td>0</td><td>0</td><td>8</td><td>10</td><td>73</td><td>0</td><td>10</td><td>12</td><td>8</td></tr><tr><th>18</th><td>62</td><td>473</td><td>1</td><td>0</td><td>13</td><td>13</td><td>116</td><td>1</td><td>31</td><td>25</td><td>19</td></tr><tr><th>19</th><td>67</td><td>479</td><td>0</td><td>0</td><td>11</td><td>15</td><td>87</td><td>0</td><td>38</td><td>23</td><td>6</td></tr><tr><th>20</th><td>68</td><td>745</td><td>0</td><td>7</td><td>29</td><td>28</td><td>181</td><td>0</td><td>42</td><td>33</td><td>12</td></tr><tr><th>21</th><td>71</td><td>632</td><td>0</td><td>2</td><td>17</td><td>29</td><td>123</td><td>0</td><td>46</td><td>32</td><td>10</td></tr><tr><th>22</th><td>74</td><td>381</td><td>3</td><td>0</td><td>8</td><td>7</td><td>62</td><td>0</td><td>16</td><td>16</td><td>7</td></tr><tr><th>23</th><td>75</td><td>619</td><td>0</td><td>1</td><td>15</td><td>16</td><td>125</td><td>0</td><td>50</td><td>29</td><td>11</td></tr><tr><th>24</th><td>80</td><td>712</td><td>0</td><td>0</td><td>36</td><td>36</td><td>151</td><td>3</td><td>58</td><td>32</td><td>19</td></tr><tr><th>25</th><td>82</td><td>1131</td><td>0</td><td>3</td><td>30</td><td>38</td><td>289</td><td>0</td><td>121</td><td>56</td><td>14</td></tr><tr><th>26</th><td>83</td><td>612</td><td>0</td><td>3</td><td>35</td><td>14</td><td>155</td><td>2</td><td>36</td><td>34</td><td>9</td></tr><tr><th>27</th><td>84</td><td>1331</td><td>0</td><td>7</td><td>51</td><td>64</td><td>369</td><td>2</td><td>108</td><td>52</td><td>23</td></tr><tr><th>28</th><td>88</td><td>570</td><td>0</td><td>1</td><td>17</td><td>34</td><td>134</td><td>3</td><td>58</td><td>26</td><td>16</td></tr><tr><th>29</th><td>89</td><td>529</td><td>2</td><td>1</td><td>11</td><td>15</td><td>98</td><td>0</td><td>31</td><td>22</td><td>14</td></tr><tr><th>30</th><td>91</td><td>428</td><td>1</td><td>4</td><td>10</td><td>8</td><td>68</td><td>1</td><td>32</td><td>19</td><td>9</td></tr><tr><th>&vellip;</th><td>&vellip;</td><td>&vellip;</td><td>&vellip;</td><td>&vellip;</td><td>&vellip;</td><td>&vellip;</td><td>&vellip;</td><td>&vellip;</td><td>&vellip;</td><td>&vellip;</td><td>&vellip;</td></tr></tbody></table>",
            "text/latex": "\\begin{tabular}{r|cccccccccccc}\n\t& USER\\_ID & SUM\\_EVENTS & 1 & 2 & 3 & 4 & 5 & 6 & 7 & 8 & 9 & \\\\\n\t\\hline\n\t& Int64 & Int64 & Int64 & Int64 & Int64 & Int64 & Int64 & Int64 & Int64 & Int64 & Int64 & \\\\\n\t\\hline\n\t1 & 2 & 1477 & 0 & 3 & 65 & 114 & 290 & 13 & 16 & 7 & 0 & $\\dots$ \\\\\n\t2 & 3 & 431 & 0 & 2 & 33 & 42 & 162 & 6 & 45 & 20 & 0 & $\\dots$ \\\\\n\t3 & 4 & 1957 & 3 & 9 & 95 & 111 & 577 & 11 & 286 & 201 & 41 & $\\dots$ \\\\\n\t4 & 9 & 408 & 11 & 0 & 17 & 24 & 74 & 30 & 13 & 12 & 0 & $\\dots$ \\\\\n\t5 & 10 & 1407 & 145 & 7 & 69 & 102 & 396 & 45 & 190 & 98 & 30 & $\\dots$ \\\\\n\t6 & 18 & 550 & 0 & 3 & 7 & 10 & 129 & 0 & 29 & 20 & 18 & $\\dots$ \\\\\n\t7 & 19 & 546 & 0 & 1 & 15 & 8 & 129 & 0 & 30 & 18 & 18 & $\\dots$ \\\\\n\t8 & 26 & 732 & 0 & 0 & 14 & 13 & 171 & 0 & 63 & 37 & 13 & $\\dots$ \\\\\n\t9 & 30 & 857 & 0 & 6 & 31 & 30 & 213 & 0 & 114 & 52 & 22 & $\\dots$ \\\\\n\t10 & 32 & 748 & 0 & 0 & 25 & 27 & 137 & 0 & 50 & 54 & 26 & $\\dots$ \\\\\n\t11 & 33 & 840 & 0 & 6 & 15 & 29 & 186 & 0 & 55 & 30 & 17 & $\\dots$ \\\\\n\t12 & 41 & 707 & 0 & 1 & 21 & 33 & 163 & 0 & 44 & 41 & 7 & $\\dots$ \\\\\n\t13 & 42 & 883 & 0 & 3 & 20 & 27 & 255 & 0 & 72 & 60 & 47 & $\\dots$ \\\\\n\t14 & 44 & 911 & 0 & 6 & 42 & 44 & 229 & 3 & 77 & 57 & 25 & $\\dots$ \\\\\n\t15 & 48 & 557 & 0 & 2 & 25 & 34 & 147 & 1 & 41 & 39 & 40 & $\\dots$ \\\\\n\t16 & 55 & 524 & 0 & 2 & 12 & 13 & 89 & 4 & 30 & 25 & 6 & $\\dots$ \\\\\n\t17 & 59 & 408 & 0 & 0 & 8 & 10 & 73 & 0 & 10 & 12 & 8 & $\\dots$ \\\\\n\t18 & 62 & 473 & 1 & 0 & 13 & 13 & 116 & 1 & 31 & 25 & 19 & $\\dots$ \\\\\n\t19 & 67 & 479 & 0 & 0 & 11 & 15 & 87 & 0 & 38 & 23 & 6 & $\\dots$ \\\\\n\t20 & 68 & 745 & 0 & 7 & 29 & 28 & 181 & 0 & 42 & 33 & 12 & $\\dots$ \\\\\n\t21 & 71 & 632 & 0 & 2 & 17 & 29 & 123 & 0 & 46 & 32 & 10 & $\\dots$ \\\\\n\t22 & 74 & 381 & 3 & 0 & 8 & 7 & 62 & 0 & 16 & 16 & 7 & $\\dots$ \\\\\n\t23 & 75 & 619 & 0 & 1 & 15 & 16 & 125 & 0 & 50 & 29 & 11 & $\\dots$ \\\\\n\t24 & 80 & 712 & 0 & 0 & 36 & 36 & 151 & 3 & 58 & 32 & 19 & $\\dots$ \\\\\n\t25 & 82 & 1131 & 0 & 3 & 30 & 38 & 289 & 0 & 121 & 56 & 14 & $\\dots$ \\\\\n\t26 & 83 & 612 & 0 & 3 & 35 & 14 & 155 & 2 & 36 & 34 & 9 & $\\dots$ \\\\\n\t27 & 84 & 1331 & 0 & 7 & 51 & 64 & 369 & 2 & 108 & 52 & 23 & $\\dots$ \\\\\n\t28 & 88 & 570 & 0 & 1 & 17 & 34 & 134 & 3 & 58 & 26 & 16 & $\\dots$ \\\\\n\t29 & 89 & 529 & 2 & 1 & 11 & 15 & 98 & 0 & 31 & 22 & 14 & $\\dots$ \\\\\n\t30 & 91 & 428 & 1 & 4 & 10 & 8 & 68 & 1 & 32 & 19 & 9 & $\\dots$ \\\\\n\t$\\dots$ & $\\dots$ & $\\dots$ & $\\dots$ & $\\dots$ & $\\dots$ & $\\dots$ & $\\dots$ & $\\dots$ & $\\dots$ & $\\dots$ & $\\dots$ &  \\\\\n\\end{tabular}\n"
          },
          "metadata": {}
        }
      ],
      "execution_count": 244,
      "metadata": {
        "collapsed": true,
        "jupyter": {
          "source_hidden": false,
          "outputs_hidden": false
        },
        "nteract": {
          "transient": {
            "deleting": false
          }
        },
        "execution": {
          "iopub.status.busy": "2020-11-27T06:42:32.798Z",
          "iopub.execute_input": "2020-11-27T06:42:32.828Z",
          "iopub.status.idle": "2020-11-27T06:42:32.980Z"
        }
      }
    },
    {
      "cell_type": "code",
      "source": [
        "joinUserHighInterations = innerjoin(userInteractionWithGIANT, joinResultsDataFrameHigh, on = [:USER_ID => :USER_ID])"
      ],
      "outputs": [
        {
          "output_type": "execute_result",
          "execution_count": 245,
          "data": {
            "text/plain": "44×115 DataFrame. Omitted printing of 111 columns\n│ Row │ USER_ID │ firstname         │ lastname          │ lastlogin  │\n│     │ \u001b[90mInt64\u001b[39m   │ \u001b[90mString\u001b[39m            │ \u001b[90mString\u001b[39m            │ \u001b[90mString\u001b[39m     │\n├─────┼─────────┼───────────────────┼───────────────────┼────────────┤\n│ 1   │ 2       │ Admin             │ EAFIT             │ 2020-10-29 │\n│ 2   │ 3       │ Profesor          │ Eafit             │ 2020-10-30 │\n│ 3   │ 4       │ Estudiante        │ Eafit             │ 2020-10-26 │\n│ 4   │ 9       │ Estefanía         │ Preciado Santa    │ 2020-10-29 │\n│ 5   │ 10      │ Valeria           │ Zapata Giraldo    │ 2020-10-30 │\n│ 6   │ 18      │ Ana Maria         │ Galeano Ceron     │ 2020-09-25 │\n│ 7   │ 19      │ Ana Milena        │ Muñoz Orozco      │ 2020-09-20 │\n│ 8   │ 26      │ Bibiana           │ Ossa Guiral       │ 2020-10-25 │\n│ 9   │ 30      │ Carolina          │ Serna Henao       │ 2020-10-23 │\n│ 10  │ 32      │ Claudia Cecilia   │ Piedrahita Diaz   │ 2020-10-30 │\n⋮\n│ 34  │ 106     │ Sara Lucía        │ Correa            │ 2020-10-19 │\n│ 35  │ 108     │ Sindy Yarley      │ Santamaria Serna  │ 2020-10-30 │\n│ 36  │ 110     │ Sonia María       │ Hernández Taborda │ 2020-10-28 │\n│ 37  │ 112     │ Sthefanny         │ Castaño Gómez     │ 2020-10-30 │\n│ 38  │ 125     │ Mónica María      │ Jiménez           │ 2020-10-30 │\n│ 39  │ 132     │ Magaly del Carmen │ Leivaz Vanegas    │ 2020-10-05 │\n│ 40  │ 133     │ Leidy Yaneth      │ Echeverry Ríos    │ 2020-10-31 │\n│ 41  │ 137     │ Sergio            │ Arias Gallego     │ 2020-10-20 │\n│ 42  │ 141     │ Juan              │ Camilo            │ 2020-08-25 │\n│ 43  │ 142     │ Estudiante        │ 3                 │ 2020-08-13 │\n│ 44  │ 156     │ SOFIA             │ CORONADO          │ 2020-10-10 │",
            "text/html": "<table class=\"data-frame\"><thead><tr><th></th><th>USER_ID</th><th>firstname</th><th>lastname</th><th>lastlogin</th><th>lastaccess</th><th>SUM_EVENTS</th></tr><tr><th></th><th>Int64</th><th>String</th><th>String</th><th>String</th><th>String</th><th>Int64</th></tr></thead><tbody><p>44 rows × 115 columns (omitted printing of 109 columns)</p><tr><th>1</th><td>2</td><td>Admin</td><td>EAFIT</td><td>2020-10-29</td><td>2020-10-29</td><td>1477</td></tr><tr><th>2</th><td>3</td><td>Profesor</td><td>Eafit</td><td>2020-10-30</td><td>2020-10-30</td><td>431</td></tr><tr><th>3</th><td>4</td><td>Estudiante</td><td>Eafit</td><td>2020-10-26</td><td>2020-10-26</td><td>1957</td></tr><tr><th>4</th><td>9</td><td>Estefanía</td><td>Preciado Santa</td><td>2020-10-29</td><td>2020-10-30</td><td>408</td></tr><tr><th>5</th><td>10</td><td>Valeria</td><td>Zapata Giraldo</td><td>2020-10-30</td><td>2020-10-30</td><td>1407</td></tr><tr><th>6</th><td>18</td><td>Ana Maria</td><td>Galeano Ceron</td><td>2020-09-25</td><td>2020-10-19</td><td>550</td></tr><tr><th>7</th><td>19</td><td>Ana Milena</td><td>Muñoz Orozco</td><td>2020-09-20</td><td>2020-09-28</td><td>546</td></tr><tr><th>8</th><td>26</td><td>Bibiana</td><td>Ossa Guiral</td><td>2020-10-25</td><td>2020-10-26</td><td>732</td></tr><tr><th>9</th><td>30</td><td>Carolina</td><td>Serna Henao</td><td>2020-10-23</td><td>2020-10-29</td><td>857</td></tr><tr><th>10</th><td>32</td><td>Claudia Cecilia</td><td>Piedrahita Diaz</td><td>2020-10-30</td><td>2020-10-31</td><td>748</td></tr><tr><th>11</th><td>33</td><td>Claudia Patricia</td><td>Echeverri Arenas</td><td>2020-10-25</td><td>2020-10-25</td><td>840</td></tr><tr><th>12</th><td>41</td><td>Deisy</td><td>Medina Giraldo</td><td>2020-10-13</td><td>2020-10-25</td><td>707</td></tr><tr><th>13</th><td>42</td><td>Deisy Estefania</td><td>Porras Sanchez</td><td>2020-10-20</td><td>2020-10-29</td><td>883</td></tr><tr><th>14</th><td>44</td><td>Diana Carolina</td><td>Agudelo Herrera</td><td>2020-10-23</td><td>2020-10-29</td><td>911</td></tr><tr><th>15</th><td>48</td><td>Diego Fernando</td><td>Orrego Gutiérrez</td><td>2020-10-16</td><td>2020-10-16</td><td>557</td></tr><tr><th>16</th><td>55</td><td>Franklin Jhonatan</td><td>Barreto Ordóñez</td><td>2020-10-28</td><td>2020-10-30</td><td>524</td></tr><tr><th>17</th><td>59</td><td>Hugo Armando</td><td>Taborda Rodríguez</td><td>2020-10-28</td><td>2020-10-30</td><td>408</td></tr><tr><th>18</th><td>62</td><td>Jakeline</td><td>Flórez Ríos</td><td>2020-10-18</td><td>2020-10-26</td><td>473</td></tr><tr><th>19</th><td>67</td><td>Jorge Mario</td><td>Madera Díaz</td><td>2020-10-29</td><td>2020-10-29</td><td>479</td></tr><tr><th>20</th><td>68</td><td>Jorge Mauricio</td><td>Herrera Ríos</td><td>2020-10-29</td><td>2020-10-30</td><td>745</td></tr><tr><th>21</th><td>71</td><td>Josse Leandro</td><td>Herrera Rengifo</td><td>2020-10-31</td><td>2020-10-31</td><td>632</td></tr><tr><th>22</th><td>74</td><td>Juan Fernando</td><td>Villa Taborda</td><td>2020-10-16</td><td>2020-10-16</td><td>381</td></tr><tr><th>23</th><td>75</td><td>Julian Alberto</td><td>Garces Hernandez</td><td>2020-10-30</td><td>2020-10-31</td><td>619</td></tr><tr><th>24</th><td>80</td><td>Liliana Marcela</td><td>Piña Puerto</td><td>2020-10-05</td><td>2020-10-27</td><td>712</td></tr><tr><th>25</th><td>82</td><td>Lina María</td><td>Rincón Salazar</td><td>2020-10-22</td><td>2020-10-30</td><td>1131</td></tr><tr><th>26</th><td>83</td><td>Luisa Maria</td><td>Fernandez Marin</td><td>2020-10-29</td><td>2020-11-02</td><td>612</td></tr><tr><th>27</th><td>84</td><td>Luz Angela</td><td>Grajales Fernández</td><td>2020-10-27</td><td>2020-11-02</td><td>1331</td></tr><tr><th>28</th><td>88</td><td>Maria Camila</td><td>Marin Garces</td><td>2020-09-18</td><td>2020-10-01</td><td>570</td></tr><tr><th>29</th><td>89</td><td>Maria Natalia</td><td>Foronda Baena</td><td>2020-10-14</td><td>2020-10-22</td><td>529</td></tr><tr><th>30</th><td>91</td><td>Marianela</td><td>Yepes Franco</td><td>2020-10-15</td><td>2020-10-27</td><td>428</td></tr><tr><th>&vellip;</th><td>&vellip;</td><td>&vellip;</td><td>&vellip;</td><td>&vellip;</td><td>&vellip;</td><td>&vellip;</td></tr></tbody></table>",
            "text/latex": "\\begin{tabular}{r|ccccccc}\n\t& USER\\_ID & firstname & lastname & lastlogin & lastaccess & SUM\\_EVENTS & \\\\\n\t\\hline\n\t& Int64 & String & String & String & String & Int64 & \\\\\n\t\\hline\n\t1 & 2 & Admin & EAFIT & 2020-10-29 & 2020-10-29 & 1477 & $\\dots$ \\\\\n\t2 & 3 & Profesor & Eafit & 2020-10-30 & 2020-10-30 & 431 & $\\dots$ \\\\\n\t3 & 4 & Estudiante & Eafit & 2020-10-26 & 2020-10-26 & 1957 & $\\dots$ \\\\\n\t4 & 9 & Estefanía & Preciado Santa & 2020-10-29 & 2020-10-30 & 408 & $\\dots$ \\\\\n\t5 & 10 & Valeria & Zapata Giraldo & 2020-10-30 & 2020-10-30 & 1407 & $\\dots$ \\\\\n\t6 & 18 & Ana Maria & Galeano Ceron & 2020-09-25 & 2020-10-19 & 550 & $\\dots$ \\\\\n\t7 & 19 & Ana Milena & Muñoz Orozco & 2020-09-20 & 2020-09-28 & 546 & $\\dots$ \\\\\n\t8 & 26 & Bibiana & Ossa Guiral & 2020-10-25 & 2020-10-26 & 732 & $\\dots$ \\\\\n\t9 & 30 & Carolina & Serna Henao & 2020-10-23 & 2020-10-29 & 857 & $\\dots$ \\\\\n\t10 & 32 & Claudia Cecilia & Piedrahita Diaz & 2020-10-30 & 2020-10-31 & 748 & $\\dots$ \\\\\n\t11 & 33 & Claudia Patricia & Echeverri Arenas & 2020-10-25 & 2020-10-25 & 840 & $\\dots$ \\\\\n\t12 & 41 & Deisy & Medina Giraldo & 2020-10-13 & 2020-10-25 & 707 & $\\dots$ \\\\\n\t13 & 42 & Deisy Estefania & Porras Sanchez & 2020-10-20 & 2020-10-29 & 883 & $\\dots$ \\\\\n\t14 & 44 & Diana Carolina & Agudelo Herrera & 2020-10-23 & 2020-10-29 & 911 & $\\dots$ \\\\\n\t15 & 48 & Diego Fernando & Orrego Gutiérrez & 2020-10-16 & 2020-10-16 & 557 & $\\dots$ \\\\\n\t16 & 55 & Franklin Jhonatan & Barreto Ordóñez & 2020-10-28 & 2020-10-30 & 524 & $\\dots$ \\\\\n\t17 & 59 & Hugo Armando & Taborda Rodríguez & 2020-10-28 & 2020-10-30 & 408 & $\\dots$ \\\\\n\t18 & 62 & Jakeline & Flórez Ríos & 2020-10-18 & 2020-10-26 & 473 & $\\dots$ \\\\\n\t19 & 67 & Jorge Mario & Madera Díaz & 2020-10-29 & 2020-10-29 & 479 & $\\dots$ \\\\\n\t20 & 68 & Jorge Mauricio & Herrera Ríos & 2020-10-29 & 2020-10-30 & 745 & $\\dots$ \\\\\n\t21 & 71 & Josse Leandro & Herrera Rengifo & 2020-10-31 & 2020-10-31 & 632 & $\\dots$ \\\\\n\t22 & 74 & Juan Fernando & Villa Taborda & 2020-10-16 & 2020-10-16 & 381 & $\\dots$ \\\\\n\t23 & 75 & Julian Alberto & Garces Hernandez & 2020-10-30 & 2020-10-31 & 619 & $\\dots$ \\\\\n\t24 & 80 & Liliana Marcela & Piña Puerto & 2020-10-05 & 2020-10-27 & 712 & $\\dots$ \\\\\n\t25 & 82 & Lina María & Rincón Salazar & 2020-10-22 & 2020-10-30 & 1131 & $\\dots$ \\\\\n\t26 & 83 & Luisa Maria & Fernandez Marin & 2020-10-29 & 2020-11-02 & 612 & $\\dots$ \\\\\n\t27 & 84 & Luz Angela & Grajales Fernández & 2020-10-27 & 2020-11-02 & 1331 & $\\dots$ \\\\\n\t28 & 88 & Maria Camila & Marin Garces & 2020-09-18 & 2020-10-01 & 570 & $\\dots$ \\\\\n\t29 & 89 & Maria Natalia & Foronda Baena & 2020-10-14 & 2020-10-22 & 529 & $\\dots$ \\\\\n\t30 & 91 & Marianela & Yepes Franco & 2020-10-15 & 2020-10-27 & 428 & $\\dots$ \\\\\n\t$\\dots$ & $\\dots$ & $\\dots$ & $\\dots$ & $\\dots$ & $\\dots$ & $\\dots$ &  \\\\\n\\end{tabular}\n"
          },
          "metadata": {}
        }
      ],
      "execution_count": 245,
      "metadata": {
        "collapsed": true,
        "jupyter": {
          "source_hidden": false,
          "outputs_hidden": false
        },
        "nteract": {
          "transient": {
            "deleting": false
          }
        },
        "execution": {
          "iopub.status.busy": "2020-11-27T06:42:42.863Z",
          "iopub.execute_input": "2020-11-27T06:42:42.891Z",
          "iopub.status.idle": "2020-11-27T06:42:43.027Z"
        }
      }
    },
    {
      "cell_type": "code",
      "source": [
        "userWithLowInterations = @from i in userByEventsSumDataFrame begin\n",
        "            @where i.SUM_EVENTS < 370\n",
        "            @select {i.USER_ID, i.SUM_EVENTS}\n",
        "            @collect DataFrame\n",
        "       end"
      ],
      "outputs": [
        {
          "output_type": "execute_result",
          "execution_count": 246,
          "data": {
            "text/plain": "65×2 DataFrame\n│ Row │ USER_ID │ SUM_EVENTS │\n│     │ \u001b[90mInt64\u001b[39m   │ \u001b[90mInt64\u001b[39m      │\n├─────┼─────────┼────────────┤\n│ 1   │ -10     │ 99         │\n│ 2   │ -1      │ 336        │\n│ 3   │ 0       │ 235        │\n│ 4   │ 5       │ 1          │\n│ 5   │ 6       │ 295        │\n│ 6   │ 7       │ 3          │\n│ 7   │ 8       │ 8          │\n│ 8   │ 23      │ 45         │\n│ 9   │ 27      │ 142        │\n│ 10  │ 28      │ 124        │\n⋮\n│ 55  │ 153     │ 109        │\n│ 56  │ 154     │ 9          │\n│ 57  │ 157     │ 223        │\n│ 58  │ 158     │ 100        │\n│ 59  │ 160     │ 91         │\n│ 60  │ 161     │ 328        │\n│ 61  │ 164     │ 88         │\n│ 62  │ 165     │ 46         │\n│ 63  │ 166     │ 30         │\n│ 64  │ 168     │ 86         │\n│ 65  │ 169     │ 54         │",
            "text/html": "<table class=\"data-frame\"><thead><tr><th></th><th>USER_ID</th><th>SUM_EVENTS</th></tr><tr><th></th><th>Int64</th><th>Int64</th></tr></thead><tbody><p>65 rows × 2 columns</p><tr><th>1</th><td>-10</td><td>99</td></tr><tr><th>2</th><td>-1</td><td>336</td></tr><tr><th>3</th><td>0</td><td>235</td></tr><tr><th>4</th><td>5</td><td>1</td></tr><tr><th>5</th><td>6</td><td>295</td></tr><tr><th>6</th><td>7</td><td>3</td></tr><tr><th>7</th><td>8</td><td>8</td></tr><tr><th>8</th><td>23</td><td>45</td></tr><tr><th>9</th><td>27</td><td>142</td></tr><tr><th>10</th><td>28</td><td>124</td></tr><tr><th>11</th><td>29</td><td>6</td></tr><tr><th>12</th><td>35</td><td>2</td></tr><tr><th>13</th><td>36</td><td>32</td></tr><tr><th>14</th><td>50</td><td>42</td></tr><tr><th>15</th><td>53</td><td>62</td></tr><tr><th>16</th><td>54</td><td>77</td></tr><tr><th>17</th><td>56</td><td>18</td></tr><tr><th>18</th><td>57</td><td>57</td></tr><tr><th>19</th><td>58</td><td>298</td></tr><tr><th>20</th><td>60</td><td>13</td></tr><tr><th>21</th><td>63</td><td>105</td></tr><tr><th>22</th><td>65</td><td>361</td></tr><tr><th>23</th><td>69</td><td>226</td></tr><tr><th>24</th><td>70</td><td>13</td></tr><tr><th>25</th><td>73</td><td>4</td></tr><tr><th>26</th><td>76</td><td>86</td></tr><tr><th>27</th><td>78</td><td>55</td></tr><tr><th>28</th><td>79</td><td>14</td></tr><tr><th>29</th><td>85</td><td>56</td></tr><tr><th>30</th><td>92</td><td>229</td></tr><tr><th>&vellip;</th><td>&vellip;</td><td>&vellip;</td></tr></tbody></table>",
            "text/latex": "\\begin{tabular}{r|cc}\n\t& USER\\_ID & SUM\\_EVENTS\\\\\n\t\\hline\n\t& Int64 & Int64\\\\\n\t\\hline\n\t1 & -10 & 99 \\\\\n\t2 & -1 & 336 \\\\\n\t3 & 0 & 235 \\\\\n\t4 & 5 & 1 \\\\\n\t5 & 6 & 295 \\\\\n\t6 & 7 & 3 \\\\\n\t7 & 8 & 8 \\\\\n\t8 & 23 & 45 \\\\\n\t9 & 27 & 142 \\\\\n\t10 & 28 & 124 \\\\\n\t11 & 29 & 6 \\\\\n\t12 & 35 & 2 \\\\\n\t13 & 36 & 32 \\\\\n\t14 & 50 & 42 \\\\\n\t15 & 53 & 62 \\\\\n\t16 & 54 & 77 \\\\\n\t17 & 56 & 18 \\\\\n\t18 & 57 & 57 \\\\\n\t19 & 58 & 298 \\\\\n\t20 & 60 & 13 \\\\\n\t21 & 63 & 105 \\\\\n\t22 & 65 & 361 \\\\\n\t23 & 69 & 226 \\\\\n\t24 & 70 & 13 \\\\\n\t25 & 73 & 4 \\\\\n\t26 & 76 & 86 \\\\\n\t27 & 78 & 55 \\\\\n\t28 & 79 & 14 \\\\\n\t29 & 85 & 56 \\\\\n\t30 & 92 & 229 \\\\\n\t$\\dots$ & $\\dots$ & $\\dots$ \\\\\n\\end{tabular}\n"
          },
          "metadata": {}
        }
      ],
      "execution_count": 246,
      "metadata": {
        "collapsed": true,
        "jupyter": {
          "source_hidden": false,
          "outputs_hidden": false
        },
        "nteract": {
          "transient": {
            "deleting": false
          }
        },
        "execution": {
          "iopub.status.busy": "2020-11-27T06:42:49.839Z",
          "iopub.execute_input": "2020-11-27T06:42:49.870Z",
          "iopub.status.idle": "2020-11-27T06:42:50.031Z"
        }
      }
    },
    {
      "cell_type": "code",
      "source": [
        "joinResultsDataFrameLow = innerjoin(userWithLowInterations, frequencyEventUsers, on = [:USER_ID => :USER_ID])"
      ],
      "outputs": [
        {
          "output_type": "execute_result",
          "execution_count": 247,
          "data": {
            "text/plain": "65×111 DataFrame. Omitted printing of 103 columns\n│ Row │ USER_ID │ SUM_EVENTS │ 1     │ 2     │ 3     │ 4     │ 5     │ 6     │\n│     │ \u001b[90mInt64\u001b[39m   │ \u001b[90mInt64\u001b[39m      │ \u001b[90mInt64\u001b[39m │ \u001b[90mInt64\u001b[39m │ \u001b[90mInt64\u001b[39m │ \u001b[90mInt64\u001b[39m │ \u001b[90mInt64\u001b[39m │ \u001b[90mInt64\u001b[39m │\n├─────┼─────────┼────────────┼───────┼───────┼───────┼───────┼───────┼───────┤\n│ 1   │ -10     │ 99         │ 0     │ 0     │ 0     │ 0     │ 0     │ 0     │\n│ 2   │ -1      │ 336        │ 0     │ 0     │ 0     │ 0     │ 0     │ 0     │\n│ 3   │ 0       │ 235        │ 0     │ 103   │ 0     │ 0     │ 0     │ 0     │\n│ 4   │ 5       │ 1          │ 0     │ 1     │ 0     │ 0     │ 0     │ 0     │\n│ 5   │ 6       │ 295        │ 0     │ 0     │ 8     │ 8     │ 97    │ 0     │\n│ 6   │ 7       │ 3          │ 0     │ 3     │ 0     │ 0     │ 0     │ 0     │\n│ 7   │ 8       │ 8          │ 2     │ 0     │ 1     │ 1     │ 2     │ 0     │\n│ 8   │ 23      │ 45         │ 0     │ 6     │ 3     │ 4     │ 15    │ 0     │\n│ 9   │ 27      │ 142        │ 0     │ 0     │ 5     │ 8     │ 52    │ 0     │\n│ 10  │ 28      │ 124        │ 0     │ 1     │ 4     │ 4     │ 43    │ 0     │\n⋮\n│ 55  │ 153     │ 109        │ 1     │ 0     │ 2     │ 2     │ 51    │ 0     │\n│ 56  │ 154     │ 9          │ 0     │ 4     │ 1     │ 2     │ 1     │ 0     │\n│ 57  │ 157     │ 223        │ 0     │ 7     │ 6     │ 7     │ 82    │ 0     │\n│ 58  │ 158     │ 100        │ 1     │ 0     │ 1     │ 1     │ 36    │ 0     │\n│ 59  │ 160     │ 91         │ 2     │ 0     │ 1     │ 1     │ 36    │ 0     │\n│ 60  │ 161     │ 328        │ 2     │ 7     │ 7     │ 11    │ 130   │ 1     │\n│ 61  │ 164     │ 88         │ 0     │ 3     │ 2     │ 3     │ 31    │ 1     │\n│ 62  │ 165     │ 46         │ 0     │ 1     │ 1     │ 3     │ 28    │ 0     │\n│ 63  │ 166     │ 30         │ 0     │ 0     │ 1     │ 1     │ 12    │ 0     │\n│ 64  │ 168     │ 86         │ 1     │ 1     │ 2     │ 1     │ 28    │ 0     │\n│ 65  │ 169     │ 54         │ 0     │ 2     │ 1     │ 1     │ 16    │ 0     │",
            "text/html": "<table class=\"data-frame\"><thead><tr><th></th><th>USER_ID</th><th>SUM_EVENTS</th><th>1</th><th>2</th><th>3</th><th>4</th><th>5</th><th>6</th><th>7</th><th>8</th><th>9</th></tr><tr><th></th><th>Int64</th><th>Int64</th><th>Int64</th><th>Int64</th><th>Int64</th><th>Int64</th><th>Int64</th><th>Int64</th><th>Int64</th><th>Int64</th><th>Int64</th></tr></thead><tbody><p>65 rows × 111 columns (omitted printing of 100 columns)</p><tr><th>1</th><td>-10</td><td>99</td><td>0</td><td>0</td><td>0</td><td>0</td><td>0</td><td>0</td><td>0</td><td>0</td><td>0</td></tr><tr><th>2</th><td>-1</td><td>336</td><td>0</td><td>0</td><td>0</td><td>0</td><td>0</td><td>0</td><td>0</td><td>0</td><td>0</td></tr><tr><th>3</th><td>0</td><td>235</td><td>0</td><td>103</td><td>0</td><td>0</td><td>0</td><td>0</td><td>0</td><td>0</td><td>0</td></tr><tr><th>4</th><td>5</td><td>1</td><td>0</td><td>1</td><td>0</td><td>0</td><td>0</td><td>0</td><td>0</td><td>0</td><td>0</td></tr><tr><th>5</th><td>6</td><td>295</td><td>0</td><td>0</td><td>8</td><td>8</td><td>97</td><td>0</td><td>14</td><td>11</td><td>0</td></tr><tr><th>6</th><td>7</td><td>3</td><td>0</td><td>3</td><td>0</td><td>0</td><td>0</td><td>0</td><td>0</td><td>0</td><td>0</td></tr><tr><th>7</th><td>8</td><td>8</td><td>2</td><td>0</td><td>1</td><td>1</td><td>2</td><td>0</td><td>1</td><td>1</td><td>0</td></tr><tr><th>8</th><td>23</td><td>45</td><td>0</td><td>6</td><td>3</td><td>4</td><td>15</td><td>0</td><td>6</td><td>6</td><td>3</td></tr><tr><th>9</th><td>27</td><td>142</td><td>0</td><td>0</td><td>5</td><td>8</td><td>52</td><td>0</td><td>32</td><td>20</td><td>3</td></tr><tr><th>10</th><td>28</td><td>124</td><td>0</td><td>1</td><td>4</td><td>4</td><td>43</td><td>0</td><td>24</td><td>13</td><td>6</td></tr><tr><th>11</th><td>29</td><td>6</td><td>0</td><td>0</td><td>1</td><td>2</td><td>3</td><td>0</td><td>0</td><td>0</td><td>0</td></tr><tr><th>12</th><td>35</td><td>2</td><td>0</td><td>0</td><td>1</td><td>0</td><td>0</td><td>0</td><td>0</td><td>0</td><td>0</td></tr><tr><th>13</th><td>36</td><td>32</td><td>0</td><td>0</td><td>1</td><td>2</td><td>16</td><td>1</td><td>6</td><td>5</td><td>1</td></tr><tr><th>14</th><td>50</td><td>42</td><td>5</td><td>0</td><td>2</td><td>2</td><td>8</td><td>0</td><td>6</td><td>5</td><td>2</td></tr><tr><th>15</th><td>53</td><td>62</td><td>25</td><td>0</td><td>5</td><td>8</td><td>7</td><td>3</td><td>3</td><td>3</td><td>1</td></tr><tr><th>16</th><td>54</td><td>77</td><td>9</td><td>0</td><td>2</td><td>2</td><td>23</td><td>0</td><td>10</td><td>11</td><td>5</td></tr><tr><th>17</th><td>56</td><td>18</td><td>0</td><td>1</td><td>4</td><td>6</td><td>2</td><td>1</td><td>1</td><td>2</td><td>0</td></tr><tr><th>18</th><td>57</td><td>57</td><td>0</td><td>0</td><td>3</td><td>3</td><td>18</td><td>0</td><td>12</td><td>9</td><td>5</td></tr><tr><th>19</th><td>58</td><td>298</td><td>0</td><td>5</td><td>17</td><td>13</td><td>70</td><td>0</td><td>31</td><td>18</td><td>12</td></tr><tr><th>20</th><td>60</td><td>13</td><td>0</td><td>0</td><td>1</td><td>1</td><td>5</td><td>0</td><td>3</td><td>2</td><td>0</td></tr><tr><th>21</th><td>63</td><td>105</td><td>0</td><td>0</td><td>5</td><td>6</td><td>26</td><td>0</td><td>19</td><td>10</td><td>5</td></tr><tr><th>22</th><td>65</td><td>361</td><td>0</td><td>0</td><td>11</td><td>13</td><td>75</td><td>0</td><td>20</td><td>13</td><td>6</td></tr><tr><th>23</th><td>69</td><td>226</td><td>2</td><td>6</td><td>5</td><td>12</td><td>121</td><td>0</td><td>31</td><td>20</td><td>3</td></tr><tr><th>24</th><td>70</td><td>13</td><td>0</td><td>0</td><td>1</td><td>1</td><td>5</td><td>0</td><td>3</td><td>2</td><td>1</td></tr><tr><th>25</th><td>73</td><td>4</td><td>0</td><td>0</td><td>1</td><td>1</td><td>2</td><td>0</td><td>0</td><td>0</td><td>0</td></tr><tr><th>26</th><td>76</td><td>86</td><td>25</td><td>1</td><td>3</td><td>7</td><td>24</td><td>3</td><td>8</td><td>7</td><td>2</td></tr><tr><th>27</th><td>78</td><td>55</td><td>6</td><td>0</td><td>4</td><td>4</td><td>14</td><td>0</td><td>9</td><td>8</td><td>3</td></tr><tr><th>28</th><td>79</td><td>14</td><td>0</td><td>0</td><td>1</td><td>2</td><td>5</td><td>0</td><td>3</td><td>3</td><td>0</td></tr><tr><th>29</th><td>85</td><td>56</td><td>1</td><td>0</td><td>3</td><td>2</td><td>18</td><td>0</td><td>13</td><td>12</td><td>3</td></tr><tr><th>30</th><td>92</td><td>229</td><td>0</td><td>0</td><td>10</td><td>13</td><td>74</td><td>3</td><td>15</td><td>11</td><td>10</td></tr><tr><th>&vellip;</th><td>&vellip;</td><td>&vellip;</td><td>&vellip;</td><td>&vellip;</td><td>&vellip;</td><td>&vellip;</td><td>&vellip;</td><td>&vellip;</td><td>&vellip;</td><td>&vellip;</td><td>&vellip;</td></tr></tbody></table>",
            "text/latex": "\\begin{tabular}{r|cccccccccccc}\n\t& USER\\_ID & SUM\\_EVENTS & 1 & 2 & 3 & 4 & 5 & 6 & 7 & 8 & 9 & \\\\\n\t\\hline\n\t& Int64 & Int64 & Int64 & Int64 & Int64 & Int64 & Int64 & Int64 & Int64 & Int64 & Int64 & \\\\\n\t\\hline\n\t1 & -10 & 99 & 0 & 0 & 0 & 0 & 0 & 0 & 0 & 0 & 0 & $\\dots$ \\\\\n\t2 & -1 & 336 & 0 & 0 & 0 & 0 & 0 & 0 & 0 & 0 & 0 & $\\dots$ \\\\\n\t3 & 0 & 235 & 0 & 103 & 0 & 0 & 0 & 0 & 0 & 0 & 0 & $\\dots$ \\\\\n\t4 & 5 & 1 & 0 & 1 & 0 & 0 & 0 & 0 & 0 & 0 & 0 & $\\dots$ \\\\\n\t5 & 6 & 295 & 0 & 0 & 8 & 8 & 97 & 0 & 14 & 11 & 0 & $\\dots$ \\\\\n\t6 & 7 & 3 & 0 & 3 & 0 & 0 & 0 & 0 & 0 & 0 & 0 & $\\dots$ \\\\\n\t7 & 8 & 8 & 2 & 0 & 1 & 1 & 2 & 0 & 1 & 1 & 0 & $\\dots$ \\\\\n\t8 & 23 & 45 & 0 & 6 & 3 & 4 & 15 & 0 & 6 & 6 & 3 & $\\dots$ \\\\\n\t9 & 27 & 142 & 0 & 0 & 5 & 8 & 52 & 0 & 32 & 20 & 3 & $\\dots$ \\\\\n\t10 & 28 & 124 & 0 & 1 & 4 & 4 & 43 & 0 & 24 & 13 & 6 & $\\dots$ \\\\\n\t11 & 29 & 6 & 0 & 0 & 1 & 2 & 3 & 0 & 0 & 0 & 0 & $\\dots$ \\\\\n\t12 & 35 & 2 & 0 & 0 & 1 & 0 & 0 & 0 & 0 & 0 & 0 & $\\dots$ \\\\\n\t13 & 36 & 32 & 0 & 0 & 1 & 2 & 16 & 1 & 6 & 5 & 1 & $\\dots$ \\\\\n\t14 & 50 & 42 & 5 & 0 & 2 & 2 & 8 & 0 & 6 & 5 & 2 & $\\dots$ \\\\\n\t15 & 53 & 62 & 25 & 0 & 5 & 8 & 7 & 3 & 3 & 3 & 1 & $\\dots$ \\\\\n\t16 & 54 & 77 & 9 & 0 & 2 & 2 & 23 & 0 & 10 & 11 & 5 & $\\dots$ \\\\\n\t17 & 56 & 18 & 0 & 1 & 4 & 6 & 2 & 1 & 1 & 2 & 0 & $\\dots$ \\\\\n\t18 & 57 & 57 & 0 & 0 & 3 & 3 & 18 & 0 & 12 & 9 & 5 & $\\dots$ \\\\\n\t19 & 58 & 298 & 0 & 5 & 17 & 13 & 70 & 0 & 31 & 18 & 12 & $\\dots$ \\\\\n\t20 & 60 & 13 & 0 & 0 & 1 & 1 & 5 & 0 & 3 & 2 & 0 & $\\dots$ \\\\\n\t21 & 63 & 105 & 0 & 0 & 5 & 6 & 26 & 0 & 19 & 10 & 5 & $\\dots$ \\\\\n\t22 & 65 & 361 & 0 & 0 & 11 & 13 & 75 & 0 & 20 & 13 & 6 & $\\dots$ \\\\\n\t23 & 69 & 226 & 2 & 6 & 5 & 12 & 121 & 0 & 31 & 20 & 3 & $\\dots$ \\\\\n\t24 & 70 & 13 & 0 & 0 & 1 & 1 & 5 & 0 & 3 & 2 & 1 & $\\dots$ \\\\\n\t25 & 73 & 4 & 0 & 0 & 1 & 1 & 2 & 0 & 0 & 0 & 0 & $\\dots$ \\\\\n\t26 & 76 & 86 & 25 & 1 & 3 & 7 & 24 & 3 & 8 & 7 & 2 & $\\dots$ \\\\\n\t27 & 78 & 55 & 6 & 0 & 4 & 4 & 14 & 0 & 9 & 8 & 3 & $\\dots$ \\\\\n\t28 & 79 & 14 & 0 & 0 & 1 & 2 & 5 & 0 & 3 & 3 & 0 & $\\dots$ \\\\\n\t29 & 85 & 56 & 1 & 0 & 3 & 2 & 18 & 0 & 13 & 12 & 3 & $\\dots$ \\\\\n\t30 & 92 & 229 & 0 & 0 & 10 & 13 & 74 & 3 & 15 & 11 & 10 & $\\dots$ \\\\\n\t$\\dots$ & $\\dots$ & $\\dots$ & $\\dots$ & $\\dots$ & $\\dots$ & $\\dots$ & $\\dots$ & $\\dots$ & $\\dots$ & $\\dots$ & $\\dots$ &  \\\\\n\\end{tabular}\n"
          },
          "metadata": {}
        }
      ],
      "execution_count": 247,
      "metadata": {
        "collapsed": true,
        "jupyter": {
          "source_hidden": false,
          "outputs_hidden": false
        },
        "nteract": {
          "transient": {
            "deleting": false
          }
        },
        "execution": {
          "iopub.status.busy": "2020-11-27T06:42:54.996Z",
          "iopub.execute_input": "2020-11-27T06:42:55.025Z",
          "iopub.status.idle": "2020-11-27T06:42:55.175Z"
        }
      }
    },
    {
      "cell_type": "code",
      "source": [
        "joinUserLowInterations = innerjoin(userInteractionWithGIANT, joinResultsDataFrameLow, on = [:USER_ID => :USER_ID])"
      ],
      "outputs": [
        {
          "output_type": "execute_result",
          "execution_count": 248,
          "data": {
            "text/plain": "62×115 DataFrame. Omitted printing of 110 columns\n│ Row │ USER_ID │ firstname       │ lastname        │ lastlogin  │ lastaccess │\n│     │ \u001b[90mInt64\u001b[39m   │ \u001b[90mString\u001b[39m          │ \u001b[90mString\u001b[39m          │ \u001b[90mString\u001b[39m     │ \u001b[90mString\u001b[39m     │\n├─────┼─────────┼─────────────────┼─────────────────┼────────────┼────────────┤\n│ 1   │ 5       │ Luis            │ Cárdenas        │ 2020-08-05 │ 2020-08-05 │\n│ 2   │ 6       │ Mauricio        │ Vásquez         │ 2020-10-05 │ 2020-10-20 │\n│ 3   │ 7       │ Cristian Andrés │ Díaz León       │ 1970-01-01 │ 1970-01-01 │\n│ 4   │ 8       │ Carolina        │ Ospina Foronda  │ 1970-01-01 │ 2020-08-26 │\n│ 5   │ 23      │ Angy paola      │ Vanegas villa   │ 2020-08-24 │ 2020-08-26 │\n│ 6   │ 27      │ Camilo          │ Tabares         │ 2020-08-26 │ 2020-09-04 │\n│ 7   │ 28      │ Carlos          │ Valencia        │ 2020-08-24 │ 2020-10-13 │\n│ 8   │ 29      │ Carlos Arturo   │ Valencia Arango │ 2020-08-05 │ 2020-08-14 │\n│ 9   │ 35      │ Darley          │ Hernández Caro  │ 1970-01-01 │ 2020-08-21 │\n│ 10  │ 36      │ David           │ Soto Jiménez    │ 2020-08-07 │ 2020-08-13 │\n⋮\n│ 52  │ 153     │ MARIANA         │ POSADA          │ 2020-09-19 │ 2020-10-18 │\n│ 53  │ 154     │ JUAN            │ DOMINGUEZ       │ 1970-01-01 │ 2020-09-19 │\n│ 54  │ 157     │ PAULINA         │ VLEZ            │ 2020-10-26 │ 2020-10-29 │\n│ 55  │ 158     │ JUAN            │ GARCA           │ 1970-01-01 │ 2020-10-21 │\n│ 56  │ 160     │ SAMUEL          │ JARAMILLO       │ 1970-01-01 │ 2020-10-10 │\n│ 57  │ 161     │ SEBASTIAN       │ LLANO           │ 2020-10-10 │ 2020-10-18 │\n│ 58  │ 164     │ SEBASTIN        │ LPEZ            │ 2020-09-19 │ 2020-10-10 │\n│ 59  │ 165     │ MIGUEL          │ VILLEGAS        │ 1970-01-01 │ 2020-10-19 │\n│ 60  │ 166     │ MIGUEL          │ MERCADO         │ 1970-01-01 │ 2020-09-19 │\n│ 61  │ 168     │ SIMON           │ GOMEZ           │ 2020-10-17 │ 2020-10-18 │\n│ 62  │ 169     │ ANDRES          │ VELASQUEZ       │ 1970-01-01 │ 2020-10-10 │",
            "text/html": "<table class=\"data-frame\"><thead><tr><th></th><th>USER_ID</th><th>firstname</th><th>lastname</th><th>lastlogin</th><th>lastaccess</th><th>SUM_EVENTS</th></tr><tr><th></th><th>Int64</th><th>String</th><th>String</th><th>String</th><th>String</th><th>Int64</th></tr></thead><tbody><p>62 rows × 115 columns (omitted printing of 109 columns)</p><tr><th>1</th><td>5</td><td>Luis</td><td>Cárdenas</td><td>2020-08-05</td><td>2020-08-05</td><td>1</td></tr><tr><th>2</th><td>6</td><td>Mauricio</td><td>Vásquez</td><td>2020-10-05</td><td>2020-10-20</td><td>295</td></tr><tr><th>3</th><td>7</td><td>Cristian Andrés</td><td>Díaz León</td><td>1970-01-01</td><td>1970-01-01</td><td>3</td></tr><tr><th>4</th><td>8</td><td>Carolina</td><td>Ospina Foronda</td><td>1970-01-01</td><td>2020-08-26</td><td>8</td></tr><tr><th>5</th><td>23</td><td>Angy paola</td><td>Vanegas villa</td><td>2020-08-24</td><td>2020-08-26</td><td>45</td></tr><tr><th>6</th><td>27</td><td>Camilo</td><td>Tabares</td><td>2020-08-26</td><td>2020-09-04</td><td>142</td></tr><tr><th>7</th><td>28</td><td>Carlos</td><td>Valencia</td><td>2020-08-24</td><td>2020-10-13</td><td>124</td></tr><tr><th>8</th><td>29</td><td>Carlos Arturo</td><td>Valencia Arango</td><td>2020-08-05</td><td>2020-08-14</td><td>6</td></tr><tr><th>9</th><td>35</td><td>Darley</td><td>Hernández Caro</td><td>1970-01-01</td><td>2020-08-21</td><td>2</td></tr><tr><th>10</th><td>36</td><td>David</td><td>Soto Jiménez</td><td>2020-08-07</td><td>2020-08-13</td><td>32</td></tr><tr><th>11</th><td>50</td><td>Eliana Alexandra</td><td>Correa Vélez</td><td>2020-08-14</td><td>2020-08-18</td><td>42</td></tr><tr><th>12</th><td>53</td><td>Flor Natali</td><td>Hernandez Tobon</td><td>2020-08-27</td><td>2020-09-03</td><td>62</td></tr><tr><th>13</th><td>54</td><td>Francy Andrea</td><td>Rodriguez Piedrahita</td><td>2020-08-14</td><td>2020-08-20</td><td>77</td></tr><tr><th>14</th><td>56</td><td>Gildardo de Jesús</td><td>Giraldo Giraldo</td><td>2020-08-25</td><td>2020-09-02</td><td>18</td></tr><tr><th>15</th><td>57</td><td>Gloria Patricia</td><td>Pino</td><td>2020-08-28</td><td>2020-08-29</td><td>57</td></tr><tr><th>16</th><td>58</td><td>GUSTAVO ADOLFO</td><td>PINEDA ROJAS</td><td>2020-09-24</td><td>2020-10-21</td><td>298</td></tr><tr><th>17</th><td>60</td><td>ISABEL</td><td>VERGARA HERNANDEZ</td><td>2020-08-05</td><td>2020-09-10</td><td>13</td></tr><tr><th>18</th><td>63</td><td>Jean Carlos</td><td>Pinzón</td><td>2020-08-20</td><td>2020-09-05</td><td>105</td></tr><tr><th>19</th><td>65</td><td>Johana</td><td>Salazar</td><td>2020-10-17</td><td>2020-10-17</td><td>361</td></tr><tr><th>20</th><td>69</td><td>José Ángel</td><td>Becerra Hinestroza</td><td>2020-08-24</td><td>2020-09-22</td><td>226</td></tr><tr><th>21</th><td>70</td><td>Jose Fernando</td><td>Sánchez</td><td>2020-08-05</td><td>2020-08-18</td><td>13</td></tr><tr><th>22</th><td>73</td><td>Juan Felipe</td><td>López Sánchez</td><td>2020-08-12</td><td>2020-08-13</td><td>4</td></tr><tr><th>23</th><td>76</td><td>Juliana Isabel</td><td>Lezcano Escudero</td><td>2020-08-20</td><td>2020-08-23</td><td>86</td></tr><tr><th>24</th><td>78</td><td>Kely Melisa</td><td>Higuita Hoyos</td><td>2020-08-27</td><td>2020-10-14</td><td>55</td></tr><tr><th>25</th><td>79</td><td>Leidy Biviana</td><td>Gomez Estrada</td><td>1970-01-01</td><td>2020-08-14</td><td>14</td></tr><tr><th>26</th><td>85</td><td>Madeleen</td><td>Hernández</td><td>2020-08-23</td><td>2020-08-28</td><td>56</td></tr><tr><th>27</th><td>92</td><td>Mauro</td><td>Naranjo Gaibao</td><td>2020-09-09</td><td>2020-09-18</td><td>229</td></tr><tr><th>28</th><td>95</td><td>Natalia</td><td>Ceballos Velasquez</td><td>2020-08-20</td><td>2020-08-27</td><td>77</td></tr><tr><th>29</th><td>99</td><td>Paula Andrea</td><td>Echavarría Durán</td><td>2020-09-05</td><td>2020-09-25</td><td>259</td></tr><tr><th>30</th><td>101</td><td>Robinson</td><td>Álvarez Cano</td><td>1970-01-01</td><td>2020-08-24</td><td>20</td></tr><tr><th>&vellip;</th><td>&vellip;</td><td>&vellip;</td><td>&vellip;</td><td>&vellip;</td><td>&vellip;</td><td>&vellip;</td></tr></tbody></table>",
            "text/latex": "\\begin{tabular}{r|ccccccc}\n\t& USER\\_ID & firstname & lastname & lastlogin & lastaccess & SUM\\_EVENTS & \\\\\n\t\\hline\n\t& Int64 & String & String & String & String & Int64 & \\\\\n\t\\hline\n\t1 & 5 & Luis & Cárdenas & 2020-08-05 & 2020-08-05 & 1 & $\\dots$ \\\\\n\t2 & 6 & Mauricio & Vásquez & 2020-10-05 & 2020-10-20 & 295 & $\\dots$ \\\\\n\t3 & 7 & Cristian Andrés & Díaz León & 1970-01-01 & 1970-01-01 & 3 & $\\dots$ \\\\\n\t4 & 8 & Carolina & Ospina Foronda & 1970-01-01 & 2020-08-26 & 8 & $\\dots$ \\\\\n\t5 & 23 & Angy paola & Vanegas villa & 2020-08-24 & 2020-08-26 & 45 & $\\dots$ \\\\\n\t6 & 27 & Camilo & Tabares & 2020-08-26 & 2020-09-04 & 142 & $\\dots$ \\\\\n\t7 & 28 & Carlos & Valencia & 2020-08-24 & 2020-10-13 & 124 & $\\dots$ \\\\\n\t8 & 29 & Carlos Arturo & Valencia Arango & 2020-08-05 & 2020-08-14 & 6 & $\\dots$ \\\\\n\t9 & 35 & Darley & Hernández Caro & 1970-01-01 & 2020-08-21 & 2 & $\\dots$ \\\\\n\t10 & 36 & David & Soto Jiménez & 2020-08-07 & 2020-08-13 & 32 & $\\dots$ \\\\\n\t11 & 50 & Eliana Alexandra & Correa Vélez & 2020-08-14 & 2020-08-18 & 42 & $\\dots$ \\\\\n\t12 & 53 & Flor Natali & Hernandez Tobon & 2020-08-27 & 2020-09-03 & 62 & $\\dots$ \\\\\n\t13 & 54 & Francy Andrea & Rodriguez Piedrahita & 2020-08-14 & 2020-08-20 & 77 & $\\dots$ \\\\\n\t14 & 56 & Gildardo de Jesús & Giraldo Giraldo & 2020-08-25 & 2020-09-02 & 18 & $\\dots$ \\\\\n\t15 & 57 & Gloria Patricia & Pino & 2020-08-28 & 2020-08-29 & 57 & $\\dots$ \\\\\n\t16 & 58 & GUSTAVO ADOLFO & PINEDA ROJAS & 2020-09-24 & 2020-10-21 & 298 & $\\dots$ \\\\\n\t17 & 60 & ISABEL & VERGARA HERNANDEZ & 2020-08-05 & 2020-09-10 & 13 & $\\dots$ \\\\\n\t18 & 63 & Jean Carlos & Pinzón & 2020-08-20 & 2020-09-05 & 105 & $\\dots$ \\\\\n\t19 & 65 & Johana & Salazar & 2020-10-17 & 2020-10-17 & 361 & $\\dots$ \\\\\n\t20 & 69 & José Ángel & Becerra Hinestroza & 2020-08-24 & 2020-09-22 & 226 & $\\dots$ \\\\\n\t21 & 70 & Jose Fernando & Sánchez & 2020-08-05 & 2020-08-18 & 13 & $\\dots$ \\\\\n\t22 & 73 & Juan Felipe & López Sánchez & 2020-08-12 & 2020-08-13 & 4 & $\\dots$ \\\\\n\t23 & 76 & Juliana Isabel & Lezcano Escudero & 2020-08-20 & 2020-08-23 & 86 & $\\dots$ \\\\\n\t24 & 78 & Kely Melisa & Higuita Hoyos & 2020-08-27 & 2020-10-14 & 55 & $\\dots$ \\\\\n\t25 & 79 & Leidy Biviana & Gomez Estrada & 1970-01-01 & 2020-08-14 & 14 & $\\dots$ \\\\\n\t26 & 85 & Madeleen & Hernández & 2020-08-23 & 2020-08-28 & 56 & $\\dots$ \\\\\n\t27 & 92 & Mauro & Naranjo Gaibao & 2020-09-09 & 2020-09-18 & 229 & $\\dots$ \\\\\n\t28 & 95 & Natalia & Ceballos Velasquez & 2020-08-20 & 2020-08-27 & 77 & $\\dots$ \\\\\n\t29 & 99 & Paula Andrea & Echavarría Durán & 2020-09-05 & 2020-09-25 & 259 & $\\dots$ \\\\\n\t30 & 101 & Robinson & Álvarez Cano & 1970-01-01 & 2020-08-24 & 20 & $\\dots$ \\\\\n\t$\\dots$ & $\\dots$ & $\\dots$ & $\\dots$ & $\\dots$ & $\\dots$ & $\\dots$ &  \\\\\n\\end{tabular}\n"
          },
          "metadata": {}
        }
      ],
      "execution_count": 248,
      "metadata": {
        "collapsed": true,
        "jupyter": {
          "source_hidden": false,
          "outputs_hidden": false
        },
        "nteract": {
          "transient": {
            "deleting": false
          }
        },
        "execution": {
          "iopub.status.busy": "2020-11-27T06:43:02.449Z",
          "iopub.execute_input": "2020-11-27T06:43:02.478Z",
          "iopub.status.idle": "2020-11-27T06:43:02.596Z"
        }
      }
    },
    {
      "cell_type": "code",
      "source": [
        "userLow = @from i in joinUserLowInterations begin\n",
        "            @where i.USER_ID == 53\n",
        "            @select {i.USER_ID, i.firstname, i.lastname, i.SUM_EVENTS, i.lastaccess}\n",
        "            @collect DataFrame\n",
        "       end"
      ],
      "outputs": [
        {
          "output_type": "execute_result",
          "execution_count": 388,
          "data": {
            "text/plain": "1×5 DataFrame\n│ Row │ USER_ID │ firstname   │ lastname        │ SUM_EVENTS │ lastaccess │\n│     │ \u001b[90mInt64\u001b[39m   │ \u001b[90mString\u001b[39m      │ \u001b[90mString\u001b[39m          │ \u001b[90mInt64\u001b[39m      │ \u001b[90mString\u001b[39m     │\n├─────┼─────────┼─────────────┼─────────────────┼────────────┼────────────┤\n│ 1   │ 53      │ Flor Natali │ Hernandez Tobon │ 62         │ 2020-09-03 │",
            "text/html": "<table class=\"data-frame\"><thead><tr><th></th><th>USER_ID</th><th>firstname</th><th>lastname</th><th>SUM_EVENTS</th><th>lastaccess</th></tr><tr><th></th><th>Int64</th><th>String</th><th>String</th><th>Int64</th><th>String</th></tr></thead><tbody><p>1 rows × 5 columns</p><tr><th>1</th><td>53</td><td>Flor Natali</td><td>Hernandez Tobon</td><td>62</td><td>2020-09-03</td></tr></tbody></table>",
            "text/latex": "\\begin{tabular}{r|ccccc}\n\t& USER\\_ID & firstname & lastname & SUM\\_EVENTS & lastaccess\\\\\n\t\\hline\n\t& Int64 & String & String & Int64 & String\\\\\n\t\\hline\n\t1 & 53 & Flor Natali & Hernandez Tobon & 62 & 2020-09-03 \\\\\n\\end{tabular}\n"
          },
          "metadata": {}
        }
      ],
      "execution_count": 388,
      "metadata": {
        "collapsed": true,
        "jupyter": {
          "source_hidden": false,
          "outputs_hidden": false
        },
        "nteract": {
          "transient": {
            "deleting": false
          }
        },
        "execution": {
          "iopub.status.busy": "2020-11-27T07:59:33.091Z",
          "iopub.execute_input": "2020-11-27T07:59:33.138Z",
          "iopub.status.idle": "2020-11-27T07:59:33.310Z"
        }
      }
    },
    {
      "cell_type": "code",
      "source": [
        "userHigh = @from i in joinUserHighInterations begin\n",
        "            @where i.USER_ID == 76\n",
        "            @select {i.USER_ID, i.firstname, i.lastname, i.SUM_EVENTS, i.lastaccess}\n",
        "            @collect DataFrame\n",
        "       end"
      ],
      "outputs": [
        {
          "output_type": "execute_result",
          "execution_count": 386,
          "data": {
            "text/plain": "0×5 DataFrame\n",
            "text/html": "<table class=\"data-frame\"><thead><tr><th></th><th>USER_ID</th><th>firstname</th><th>lastname</th><th>SUM_EVENTS</th><th>lastaccess</th></tr><tr><th></th><th>Int64</th><th>String</th><th>String</th><th>Int64</th><th>String</th></tr></thead><tbody><p>0 rows × 5 columns</p></tbody></table>",
            "text/latex": "\\begin{tabular}{r|ccccc}\n\t& USER\\_ID & firstname & lastname & SUM\\_EVENTS & lastaccess\\\\\n\t\\hline\n\t& Int64 & String & String & Int64 & String\\\\\n\t\\hline\n\\end{tabular}\n"
          },
          "metadata": {}
        }
      ],
      "execution_count": 386,
      "metadata": {
        "collapsed": true,
        "jupyter": {
          "source_hidden": false,
          "outputs_hidden": false
        },
        "nteract": {
          "transient": {
            "deleting": false
          }
        },
        "execution": {
          "iopub.status.busy": "2020-11-27T07:59:15.455Z",
          "iopub.execute_input": "2020-11-27T07:59:15.502Z",
          "iopub.status.idle": "2020-11-27T07:59:15.683Z"
        }
      }
    }
  ],
  "metadata": {
    "kernel_info": {
      "name": "julia-1.4"
    },
    "language_info": {
      "file_extension": ".jl",
      "name": "julia",
      "mimetype": "application/julia",
      "version": "1.4.2"
    },
    "kernelspec": {
      "argv": [
        "/Applications/Julia-1.4.app/Contents/Resources/julia/bin/julia",
        "-i",
        "--startup-file=yes",
        "--color=yes",
        "--project=@.",
        "/Users/johnflorez/.julia/packages/IJulia/tOM8L/src/kernel.jl",
        "{connection_file}"
      ],
      "display_name": "Julia 1.4.2",
      "env": {},
      "interrupt_mode": "signal",
      "language": "julia",
      "name": "julia-1.4"
    },
    "nteract": {
      "version": "0.26.0"
    }
  },
  "nbformat": 4,
  "nbformat_minor": 0
}