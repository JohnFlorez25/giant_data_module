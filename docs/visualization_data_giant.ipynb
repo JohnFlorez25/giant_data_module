{
  "cells": [
    {
      "cell_type": "markdown",
      "source": [
        "***\n",
        "\n",
        "<div align=\"center\">\n",
        "  <h3> Desarrollo de un gestor de inteligencia colectiva y un marco de trabajo para el aprendizaje a través de la resolución colaborativa de      problemas en entornos educativos transmediales </h3>\n",
        "  <h4> Reporte técnico de Análisis de Datos. </h4>\n",
        "  <h5> Visualización de los Datos obtenidos en la primera iteración del Gestor de Inteligencia Colectiva GIANT </h5>\n",
        "  <h3> RT - 010 </h3>\n",
        "  <h3> JOHN FABER FLÓREZ VASCO - MÓDULO DE DATOS - GIANT </h3>\n",
        "</div>\n",
        "\n",
        "***"
      ],
      "metadata": {
        "nteract": {
          "transient": {
            "deleting": false
          }
        }
      }
    },
    {
      "cell_type": "markdown",
      "source": [
        "<p style='text-align: justify;'> \n",
        "\n",
        "<div align=\"center\">\n",
        "  <h2> 1. IMPORTANDO PAQUETES Y CONFIGURACIÓN DEL ENTORNO  </h2>\n",
        "</div>\n",
        "\n",
        "</p>"
      ],
      "metadata": {
        "nteract": {
          "transient": {
            "deleting": false
          }
        }
      }
    },
    {
      "cell_type": "code",
      "source": [
        "import Pkg; \n",
        "Pkg.add(\"Pkg\")\n",
        "using Pkg;"
      ],
      "outputs": [
        {
          "output_type": "stream",
          "name": "stderr",
          "text": [
            "\u001b[32m\u001b[1m   Updating\u001b[22m\u001b[39m registry at `~/.julia/registries/General`\n",
            "\u001b[32m\u001b[1m   Updating\u001b[22m\u001b[39m registry at `~/.julia/registries/JuliaComputingRegistry`\n",
            "\u001b[32m\u001b[1m  Resolving\u001b[22m\u001b[39m package versions...\n",
            "\u001b[32m\u001b[1m   Updating\u001b[22m\u001b[39m `~/.julia/environments/v1.4/Project.toml`\n",
            "\u001b[90m [no changes]\u001b[39m\n",
            "\u001b[32m\u001b[1m   Updating\u001b[22m\u001b[39m `~/.julia/environments/v1.4/Manifest.toml`\n",
            "\u001b[90m [no changes]\u001b[39m\n"
          ]
        }
      ],
      "execution_count": 1,
      "metadata": {
        "collapsed": true,
        "jupyter": {
          "source_hidden": false,
          "outputs_hidden": false
        },
        "nteract": {
          "transient": {
            "deleting": false
          }
        },
        "execution": {
          "iopub.status.busy": "2020-11-30T06:10:25.582Z",
          "iopub.execute_input": "2020-11-30T06:10:27.013Z",
          "iopub.status.idle": "2020-11-30T06:10:44.384Z"
        }
      }
    },
    {
      "cell_type": "code",
      "source": [
        "# Cargando los paquetes instalados\n",
        "using DataFrames\n",
        "using CSV\n",
        "using Plots\n",
        "using Statistics\n",
        "using StatsPlots\n",
        "using StatsBase\n",
        "using Lathe\n",
        "using Clustering #Métodos para la agrupación de datos y evaluación de la calidad de la agrupación.\n",
        "using Distances\n",
        "using Dates\n",
        "gr()"
      ],
      "outputs": [
        {
          "output_type": "execute_result",
          "execution_count": 2,
          "data": {
            "text/plain": "Plots.GRBackend()"
          },
          "metadata": {}
        }
      ],
      "execution_count": 2,
      "metadata": {
        "collapsed": true,
        "jupyter": {
          "source_hidden": false,
          "outputs_hidden": false
        },
        "nteract": {
          "transient": {
            "deleting": false
          }
        },
        "execution": {
          "iopub.status.busy": "2020-11-30T06:24:02.469Z",
          "iopub.execute_input": "2020-11-30T06:24:02.536Z",
          "iopub.status.idle": "2020-11-30T06:24:43.365Z"
        }
      }
    },
    {
      "cell_type": "markdown",
      "source": [
        "<div align=\"center\">\n",
        "  <h2> 2. CARGANDO LOS DATOS  </h2>\n",
        "</div>"
      ],
      "metadata": {
        "nteract": {
          "transient": {
            "deleting": false
          }
        }
      }
    },
    {
      "cell_type": "code",
      "source": [
        "# Se van a leer los datos usando un Archivo tipo CSV y lo vamos a convertir en un DataFrame \n",
        "eventsDataFrame = DataFrame(CSV.File(\"../data/events_30_10_2020.csv\"))\n",
        "first(eventsDataFrame,5)\n"
      ],
      "outputs": [
        {
          "output_type": "execute_result",
          "execution_count": 3,
          "data": {
            "text/plain": "5×14 DataFrame. Omitted printing of 12 columns\n│ Row │ _id                      │ id    │\n│     │ \u001b[90mString\u001b[39m                   │ \u001b[90mInt64\u001b[39m │\n├─────┼──────────────────────────┼───────┤\n│ 1   │ 5fa09d8267fbc452c4f02343 │ 1     │\n│ 2   │ 5fa09d8267fbc452c4f02344 │ 2     │\n│ 3   │ 5fa09d8267fbc452c4f02345 │ 3     │\n│ 4   │ 5fa09d8267fbc452c4f02346 │ 4     │\n│ 5   │ 5fa09d8267fbc452c4f02347 │ 5     │",
            "text/html": "<table class=\"data-frame\"><thead><tr><th></th><th>_id</th><th>id</th><th>eventname</th></tr><tr><th></th><th>String</th><th>Int64</th><th>String</th></tr></thead><tbody><p>5 rows × 14 columns (omitted printing of 11 columns)</p><tr><th>1</th><td>5fa09d8267fbc452c4f02343</td><td>1</td><td>\\\\giant\\\\event\\\\extended_challenge_team_viewed</td></tr><tr><th>2</th><td>5fa09d8267fbc452c4f02344</td><td>2</td><td>\\\\core\\\\event\\\\user_login_failed</td></tr><tr><th>3</th><td>5fa09d8267fbc452c4f02345</td><td>3</td><td>\\\\core\\\\event\\\\user_loggedin</td></tr><tr><th>4</th><td>5fa09d8267fbc452c4f02346</td><td>4</td><td>\\\\core\\\\event\\\\dashboard_viewed</td></tr><tr><th>5</th><td>5fa09d8267fbc452c4f02347</td><td>5</td><td>\\\\core\\\\event\\\\course_viewed</td></tr></tbody></table>",
            "text/latex": "\\begin{tabular}{r|cccc}\n\t& \\_id & id & eventname & \\\\\n\t\\hline\n\t& String & Int64 & String & \\\\\n\t\\hline\n\t1 & 5fa09d8267fbc452c4f02343 & 1 & \\textbackslash{}\\textbackslash{}giant\\textbackslash{}\\textbackslash{}event\\textbackslash{}\\textbackslash{}extended\\_challenge\\_team\\_viewed & $\\dots$ \\\\\n\t2 & 5fa09d8267fbc452c4f02344 & 2 & \\textbackslash{}\\textbackslash{}core\\textbackslash{}\\textbackslash{}event\\textbackslash{}\\textbackslash{}user\\_login\\_failed & $\\dots$ \\\\\n\t3 & 5fa09d8267fbc452c4f02345 & 3 & \\textbackslash{}\\textbackslash{}core\\textbackslash{}\\textbackslash{}event\\textbackslash{}\\textbackslash{}user\\_loggedin & $\\dots$ \\\\\n\t4 & 5fa09d8267fbc452c4f02346 & 4 & \\textbackslash{}\\textbackslash{}core\\textbackslash{}\\textbackslash{}event\\textbackslash{}\\textbackslash{}dashboard\\_viewed & $\\dots$ \\\\\n\t5 & 5fa09d8267fbc452c4f02347 & 5 & \\textbackslash{}\\textbackslash{}core\\textbackslash{}\\textbackslash{}event\\textbackslash{}\\textbackslash{}course\\_viewed & $\\dots$ \\\\\n\\end{tabular}\n"
          },
          "metadata": {}
        }
      ],
      "execution_count": 3,
      "metadata": {
        "collapsed": true,
        "jupyter": {
          "source_hidden": false,
          "outputs_hidden": false
        },
        "nteract": {
          "transient": {
            "deleting": false
          }
        },
        "execution": {
          "iopub.status.busy": "2020-11-30T06:24:48.045Z",
          "iopub.execute_input": "2020-11-30T06:25:15.243Z",
          "iopub.status.idle": "2020-11-30T06:25:31.745Z"
        }
      }
    },
    {
      "cell_type": "code",
      "source": [
        "#Resumen del marco de los datos\n",
        "println(size(eventsDataFrame))"
      ],
      "outputs": [
        {
          "output_type": "stream",
          "name": "stdout",
          "text": [
            "(40674, 14)\n"
          ]
        }
      ],
      "execution_count": 4,
      "metadata": {
        "collapsed": true,
        "jupyter": {
          "source_hidden": false,
          "outputs_hidden": false
        },
        "nteract": {
          "transient": {
            "deleting": false
          }
        },
        "execution": {
          "iopub.status.busy": "2020-11-30T06:25:35.530Z",
          "iopub.execute_input": "2020-11-30T06:25:35.559Z",
          "iopub.status.idle": "2020-11-30T06:25:35.851Z"
        }
      }
    },
    {
      "cell_type": "code",
      "source": [
        "#Observado los nombres de las columnas \n",
        "names(eventsDataFrame)"
      ],
      "outputs": [
        {
          "output_type": "execute_result",
          "execution_count": 5,
          "data": {
            "text/plain": "14-element Array{String,1}:\n \"_id\"\n \"id\"\n \"eventname\"\n \"component\"\n \"action\"\n \"target\"\n \"objecttable\"\n \"objectid\"\n \"crud\"\n \"userid\"\n \"username\"\n \"courseid\"\n \"other\"\n \"timecreated\""
          },
          "metadata": {}
        }
      ],
      "execution_count": 5,
      "metadata": {
        "collapsed": true,
        "jupyter": {
          "source_hidden": false,
          "outputs_hidden": false
        },
        "nteract": {
          "transient": {
            "deleting": false
          }
        },
        "execution": {
          "iopub.status.busy": "2020-11-30T06:25:38.352Z",
          "iopub.execute_input": "2020-11-30T06:25:38.378Z",
          "iopub.status.idle": "2020-11-30T06:25:39.723Z"
        }
      }
    },
    {
      "cell_type": "markdown",
      "source": [
        "<div align=\"center\">\n",
        "  <h2> 3. INGENIERÍA DE CARACTÉRISTICAS  </h2>\n",
        "</div>"
      ],
      "metadata": {
        "nteract": {
          "transient": {
            "deleting": false
          }
        }
      }
    },
    {
      "cell_type": "code",
      "source": [
        "#Convirtiendo variables en tipo String\n",
        "eventsDataFrame[!,[:eventname, :component, :action, :target, :crud]]=convert(Array{String}, eventsDataFrame[!,[:eventname, :component, :action, :target, :crud]])"
      ],
      "outputs": [
        {
          "output_type": "execute_result",
          "execution_count": 6,
          "data": {
            "text/plain": "40674×5 Array{String,2}:\n \"\\\\giant\\\\event\\\\extended_challenge_team_viewed\"  …  \"extended_challenge_team\"  \"r\"\n \"\\\\core\\\\event\\\\user_login_failed\"                   \"user_login\"               \"r\"\n \"\\\\core\\\\event\\\\user_loggedin\"                       \"user\"                     \"r\"\n \"\\\\core\\\\event\\\\dashboard_viewed\"                    \"dashboard\"                \"r\"\n \"\\\\core\\\\event\\\\course_viewed\"                       \"course\"                   \"r\"\n \"\\\\core\\\\event\\\\course_viewed\"                    …  \"course\"                   \"r\"\n \"\\\\core\\\\event\\\\dashboard_viewed\"                    \"dashboard\"                \"r\"\n \"\\\\core\\\\event\\\\dashboard_viewed\"                    \"dashboard\"                \"r\"\n \"\\\\core\\\\event\\\\user_loggedin\"                       \"user\"                     \"r\"\n \"\\\\core\\\\event\\\\dashboard_viewed\"                    \"dashboard\"                \"r\"\n \"\\\\core\\\\event\\\\user_loggedin\"                    …  \"user\"                     \"r\"\n \"\\\\core\\\\event\\\\dashboard_viewed\"                    \"dashboard\"                \"r\"\n \"\\\\core\\\\event\\\\user_profile_viewed\"                 \"user_profile\"             \"r\"\n ⋮                                                 ⋱                             \n \"\\\\core\\\\event\\\\course_viewed\"                       \"course\"                   \"r\"\n \"\\\\core\\\\event\\\\course_viewed\"                       \"course\"                   \"r\"\n \"\\\\core\\\\event\\\\dashboard_viewed\"                    \"dashboard\"                \"r\"\n \"\\\\core\\\\event\\\\course_viewed\"                    …  \"course\"                   \"r\"\n \"\\\\core\\\\event\\\\user_loggedin\"                       \"user\"                     \"r\"\n \"\\\\core\\\\event\\\\dashboard_viewed\"                    \"dashboard\"                \"r\"\n \"\\\\core\\\\event\\\\course_viewed\"                       \"course\"                   \"r\"\n \"\\\\core\\\\event\\\\course_viewed\"                       \"course\"                   \"r\"\n \"\\\\core\\\\event\\\\course_viewed\"                    …  \"course\"                   \"r\"\n \"\\\\mod_scorm\\\\event\\\\course_module_viewed\"           \"course_module\"            \"r\"\n \"\\\\mod_scorm\\\\event\\\\course_module_viewed\"           \"course_module\"            \"r\"\n \"\\\\mod_scorm\\\\event\\\\sco_launched\"                   \"sco\"                      \"r\""
          },
          "metadata": {}
        }
      ],
      "execution_count": 6,
      "metadata": {
        "collapsed": true,
        "jupyter": {
          "source_hidden": false,
          "outputs_hidden": false
        },
        "nteract": {
          "transient": {
            "deleting": false
          }
        },
        "execution": {
          "iopub.status.busy": "2020-11-30T06:25:41.913Z",
          "iopub.execute_input": "2020-11-30T06:25:41.940Z",
          "iopub.status.idle": "2020-11-30T06:25:43.931Z"
        }
      }
    },
    {
      "cell_type": "code",
      "source": [
        "#Convirtiendo Timestap de la variable timecreated a formato de fecha\n",
        "eventsDataFrame[!,:timecreated] = map((x) -> unix2datetime(x), eventsDataFrame[!,:timecreated]);"
      ],
      "outputs": [],
      "execution_count": 7,
      "metadata": {
        "collapsed": true,
        "jupyter": {
          "source_hidden": false,
          "outputs_hidden": false
        },
        "nteract": {
          "transient": {
            "deleting": false
          }
        },
        "execution": {
          "iopub.status.busy": "2020-11-30T06:25:45.055Z",
          "iopub.execute_input": "2020-11-30T06:25:45.087Z",
          "iopub.status.idle": "2020-11-30T06:25:45.325Z"
        }
      }
    },
    {
      "cell_type": "code",
      "source": [
        "eventsDataFrame[!,[:timecreated]]"
      ],
      "outputs": [
        {
          "output_type": "execute_result",
          "execution_count": 126,
          "data": {
            "text/plain": "40674×1 DataFrame\n│ Row   │ timecreated         │\n│       │ \u001b[90mDateTime\u001b[39m            │\n├───────┼─────────────────────┤\n│ 1     │ 2020-08-12T19:16:16 │\n│ 2     │ 2020-08-12T20:19:45 │\n│ 3     │ 2020-08-12T20:20:23 │\n│ 4     │ 2020-08-12T20:20:23 │\n│ 5     │ 2020-08-12T20:20:27 │\n│ 6     │ 2020-08-12T20:20:30 │\n│ 7     │ 2020-08-12T20:22:53 │\n│ 8     │ 2020-08-12T20:24:24 │\n│ 9     │ 2020-08-12T20:39:07 │\n│ 10    │ 2020-08-12T20:39:07 │\n⋮\n│ 40664 │ 2020-11-02T01:53:46 │\n│ 40665 │ 2020-11-02T01:53:54 │\n│ 40666 │ 2020-11-02T01:54:09 │\n│ 40667 │ 2020-11-02T16:06:27 │\n│ 40668 │ 2020-11-02T16:06:31 │\n│ 40669 │ 2020-11-02T16:25:41 │\n│ 40670 │ 2020-11-02T16:25:49 │\n│ 40671 │ 2020-11-02T16:25:52 │\n│ 40672 │ 2020-11-02T16:25:55 │\n│ 40673 │ 2020-11-02T16:25:55 │\n│ 40674 │ 2020-11-02T16:26:07 │",
            "text/html": "<table class=\"data-frame\"><thead><tr><th></th><th>timecreated</th></tr><tr><th></th><th>DateTime</th></tr></thead><tbody><p>40,674 rows × 1 columns</p><tr><th>1</th><td>2020-08-12T19:16:16</td></tr><tr><th>2</th><td>2020-08-12T20:19:45</td></tr><tr><th>3</th><td>2020-08-12T20:20:23</td></tr><tr><th>4</th><td>2020-08-12T20:20:23</td></tr><tr><th>5</th><td>2020-08-12T20:20:27</td></tr><tr><th>6</th><td>2020-08-12T20:20:30</td></tr><tr><th>7</th><td>2020-08-12T20:22:53</td></tr><tr><th>8</th><td>2020-08-12T20:24:24</td></tr><tr><th>9</th><td>2020-08-12T20:39:07</td></tr><tr><th>10</th><td>2020-08-12T20:39:07</td></tr><tr><th>11</th><td>2020-08-12T20:39:19</td></tr><tr><th>12</th><td>2020-08-12T20:39:20</td></tr><tr><th>13</th><td>2020-08-12T20:39:21</td></tr><tr><th>14</th><td>2020-08-12T20:39:41</td></tr><tr><th>15</th><td>2020-08-12T20:39:52</td></tr><tr><th>16</th><td>2020-08-12T20:39:57</td></tr><tr><th>17</th><td>2020-08-12T20:39:57</td></tr><tr><th>18</th><td>2020-08-12T20:39:59</td></tr><tr><th>19</th><td>2020-08-12T20:40:12</td></tr><tr><th>20</th><td>2020-08-12T20:40:12</td></tr><tr><th>21</th><td>2020-08-12T20:40:21</td></tr><tr><th>22</th><td>2020-08-12T20:40:26</td></tr><tr><th>23</th><td>2020-08-12T20:40:31</td></tr><tr><th>24</th><td>2020-08-12T20:40:32</td></tr><tr><th>25</th><td>2020-08-12T20:40:38</td></tr><tr><th>26</th><td>2020-08-12T20:40:44</td></tr><tr><th>27</th><td>2020-08-12T20:40:47</td></tr><tr><th>28</th><td>2020-08-12T20:40:47</td></tr><tr><th>29</th><td>2020-08-12T20:40:48</td></tr><tr><th>30</th><td>2020-08-12T20:42:48</td></tr><tr><th>&vellip;</th><td>&vellip;</td></tr></tbody></table>",
            "text/latex": "\\begin{tabular}{r|c}\n\t& timecreated\\\\\n\t\\hline\n\t& DateTime\\\\\n\t\\hline\n\t1 & 2020-08-12T19:16:16 \\\\\n\t2 & 2020-08-12T20:19:45 \\\\\n\t3 & 2020-08-12T20:20:23 \\\\\n\t4 & 2020-08-12T20:20:23 \\\\\n\t5 & 2020-08-12T20:20:27 \\\\\n\t6 & 2020-08-12T20:20:30 \\\\\n\t7 & 2020-08-12T20:22:53 \\\\\n\t8 & 2020-08-12T20:24:24 \\\\\n\t9 & 2020-08-12T20:39:07 \\\\\n\t10 & 2020-08-12T20:39:07 \\\\\n\t11 & 2020-08-12T20:39:19 \\\\\n\t12 & 2020-08-12T20:39:20 \\\\\n\t13 & 2020-08-12T20:39:21 \\\\\n\t14 & 2020-08-12T20:39:41 \\\\\n\t15 & 2020-08-12T20:39:52 \\\\\n\t16 & 2020-08-12T20:39:57 \\\\\n\t17 & 2020-08-12T20:39:57 \\\\\n\t18 & 2020-08-12T20:39:59 \\\\\n\t19 & 2020-08-12T20:40:12 \\\\\n\t20 & 2020-08-12T20:40:12 \\\\\n\t21 & 2020-08-12T20:40:21 \\\\\n\t22 & 2020-08-12T20:40:26 \\\\\n\t23 & 2020-08-12T20:40:31 \\\\\n\t24 & 2020-08-12T20:40:32 \\\\\n\t25 & 2020-08-12T20:40:38 \\\\\n\t26 & 2020-08-12T20:40:44 \\\\\n\t27 & 2020-08-12T20:40:47 \\\\\n\t28 & 2020-08-12T20:40:47 \\\\\n\t29 & 2020-08-12T20:40:48 \\\\\n\t30 & 2020-08-12T20:42:48 \\\\\n\t$\\dots$ & $\\dots$ \\\\\n\\end{tabular}\n"
          },
          "metadata": {}
        }
      ],
      "execution_count": 126,
      "metadata": {
        "collapsed": true,
        "jupyter": {
          "source_hidden": false,
          "outputs_hidden": false
        },
        "nteract": {
          "transient": {
            "deleting": false
          }
        },
        "execution": {
          "iopub.status.busy": "2020-11-27T05:47:07.634Z",
          "iopub.execute_input": "2020-11-27T05:47:07.654Z",
          "iopub.status.idle": "2020-11-27T05:47:07.700Z"
        }
      }
    },
    {
      "cell_type": "code",
      "source": [
        "#Convirtiendo DataTime to String \n",
        "eventsDataFrame[!,:timecreated] = map((x) -> Dates.format(x, \"yyyy-mm-dd HH:MM:SS\") , eventsDataFrame[!,:timecreated])"
      ],
      "outputs": [
        {
          "output_type": "execute_result",
          "execution_count": 8,
          "data": {
            "text/plain": "40674-element Array{String,1}:\n \"2020-08-12 19:16:16\"\n \"2020-08-12 20:19:45\"\n \"2020-08-12 20:20:23\"\n \"2020-08-12 20:20:23\"\n \"2020-08-12 20:20:27\"\n \"2020-08-12 20:20:30\"\n \"2020-08-12 20:22:53\"\n \"2020-08-12 20:24:24\"\n \"2020-08-12 20:39:07\"\n \"2020-08-12 20:39:07\"\n \"2020-08-12 20:39:19\"\n \"2020-08-12 20:39:20\"\n \"2020-08-12 20:39:21\"\n ⋮\n \"2020-11-02 01:53:29\"\n \"2020-11-02 01:53:46\"\n \"2020-11-02 01:53:54\"\n \"2020-11-02 01:54:09\"\n \"2020-11-02 16:06:27\"\n \"2020-11-02 16:06:31\"\n \"2020-11-02 16:25:41\"\n \"2020-11-02 16:25:49\"\n \"2020-11-02 16:25:52\"\n \"2020-11-02 16:25:55\"\n \"2020-11-02 16:25:55\"\n \"2020-11-02 16:26:07\""
          },
          "metadata": {}
        }
      ],
      "execution_count": 8,
      "metadata": {
        "collapsed": true,
        "jupyter": {
          "source_hidden": false,
          "outputs_hidden": false
        },
        "nteract": {
          "transient": {
            "deleting": false
          }
        },
        "execution": {
          "iopub.status.busy": "2020-11-30T06:25:49.709Z",
          "iopub.execute_input": "2020-11-30T06:25:49.742Z",
          "iopub.status.idle": "2020-11-30T06:25:51.344Z"
        }
      }
    },
    {
      "cell_type": "code",
      "source": [
        "# Agregando las columnas de fecha y hora\n",
        "eventsDataFrame=hcat(eventsDataFrame, DataFrame(reduce(vcat, permutedims.(split.(eventsDataFrame[!,:timecreated], ' '))), [:date, :time,]))"
      ],
      "outputs": [
        {
          "output_type": "execute_result",
          "execution_count": 9,
          "data": {
            "text/plain": "40674×16 DataFrame. Omitted printing of 14 columns\n│ Row   │ _id                      │ id    │\n│       │ \u001b[90mString\u001b[39m                   │ \u001b[90mInt64\u001b[39m │\n├───────┼──────────────────────────┼───────┤\n│ 1     │ 5fa09d8267fbc452c4f02343 │ 1     │\n│ 2     │ 5fa09d8267fbc452c4f02344 │ 2     │\n│ 3     │ 5fa09d8267fbc452c4f02345 │ 3     │\n│ 4     │ 5fa09d8267fbc452c4f02346 │ 4     │\n│ 5     │ 5fa09d8267fbc452c4f02347 │ 5     │\n│ 6     │ 5fa09d8267fbc452c4f02348 │ 6     │\n│ 7     │ 5fa09d8267fbc452c4f02349 │ 7     │\n│ 8     │ 5fa09d8267fbc452c4f0234a │ 8     │\n│ 9     │ 5fa09d8267fbc452c4f0234b │ 9     │\n│ 10    │ 5fa09d8267fbc452c4f0234c │ 10    │\n⋮\n│ 40664 │ 5fa09d8c67fbc452c4f0c21a │ 40664 │\n│ 40665 │ 5fa09d8c67fbc452c4f0c21b │ 40665 │\n│ 40666 │ 5fa09d8c67fbc452c4f0c21c │ 40666 │\n│ 40667 │ 5fa09d8c67fbc452c4f0c21d │ 40667 │\n│ 40668 │ 5fa09d8c67fbc452c4f0c21e │ 40668 │\n│ 40669 │ 5fa09d8c67fbc452c4f0c21f │ 40669 │\n│ 40670 │ 5fa09d8c67fbc452c4f0c220 │ 40670 │\n│ 40671 │ 5fa09d8c67fbc452c4f0c221 │ 40671 │\n│ 40672 │ 5fa09d8c67fbc452c4f0c222 │ 40672 │\n│ 40673 │ 5fa09d8c67fbc452c4f0c223 │ 40673 │\n│ 40674 │ 5fa09d8c67fbc452c4f0c224 │ 40674 │",
            "text/html": "<table class=\"data-frame\"><thead><tr><th></th><th>_id</th><th>id</th><th>eventname</th></tr><tr><th></th><th>String</th><th>Int64</th><th>String</th></tr></thead><tbody><p>40,674 rows × 16 columns (omitted printing of 13 columns)</p><tr><th>1</th><td>5fa09d8267fbc452c4f02343</td><td>1</td><td>\\\\giant\\\\event\\\\extended_challenge_team_viewed</td></tr><tr><th>2</th><td>5fa09d8267fbc452c4f02344</td><td>2</td><td>\\\\core\\\\event\\\\user_login_failed</td></tr><tr><th>3</th><td>5fa09d8267fbc452c4f02345</td><td>3</td><td>\\\\core\\\\event\\\\user_loggedin</td></tr><tr><th>4</th><td>5fa09d8267fbc452c4f02346</td><td>4</td><td>\\\\core\\\\event\\\\dashboard_viewed</td></tr><tr><th>5</th><td>5fa09d8267fbc452c4f02347</td><td>5</td><td>\\\\core\\\\event\\\\course_viewed</td></tr><tr><th>6</th><td>5fa09d8267fbc452c4f02348</td><td>6</td><td>\\\\core\\\\event\\\\course_viewed</td></tr><tr><th>7</th><td>5fa09d8267fbc452c4f02349</td><td>7</td><td>\\\\core\\\\event\\\\dashboard_viewed</td></tr><tr><th>8</th><td>5fa09d8267fbc452c4f0234a</td><td>8</td><td>\\\\core\\\\event\\\\dashboard_viewed</td></tr><tr><th>9</th><td>5fa09d8267fbc452c4f0234b</td><td>9</td><td>\\\\core\\\\event\\\\user_loggedin</td></tr><tr><th>10</th><td>5fa09d8267fbc452c4f0234c</td><td>10</td><td>\\\\core\\\\event\\\\dashboard_viewed</td></tr><tr><th>11</th><td>5fa09d8267fbc452c4f0234d</td><td>11</td><td>\\\\core\\\\event\\\\user_loggedin</td></tr><tr><th>12</th><td>5fa09d8267fbc452c4f0234e</td><td>12</td><td>\\\\core\\\\event\\\\dashboard_viewed</td></tr><tr><th>13</th><td>5fa09d8267fbc452c4f0234f</td><td>13</td><td>\\\\core\\\\event\\\\user_profile_viewed</td></tr><tr><th>14</th><td>5fa09d8267fbc452c4f02350</td><td>14</td><td>\\\\core\\\\event\\\\course_viewed</td></tr><tr><th>15</th><td>5fa09d8267fbc452c4f02351</td><td>15</td><td>\\\\core\\\\event\\\\course_viewed</td></tr><tr><th>16</th><td>5fa09d8267fbc452c4f02352</td><td>16</td><td>\\\\mod_scorm\\\\event\\\\course_module_viewed</td></tr><tr><th>17</th><td>5fa09d8267fbc452c4f02353</td><td>17</td><td>\\\\mod_scorm\\\\event\\\\course_module_viewed</td></tr><tr><th>18</th><td>5fa09d8267fbc452c4f02354</td><td>18</td><td>\\\\mod_scorm\\\\event\\\\sco_launched</td></tr><tr><th>19</th><td>5fa09d8267fbc452c4f02355</td><td>19</td><td>\\\\core\\\\event\\\\user_loggedin</td></tr><tr><th>20</th><td>5fa09d8267fbc452c4f02356</td><td>20</td><td>\\\\core\\\\event\\\\dashboard_viewed</td></tr><tr><th>21</th><td>5fa09d8267fbc452c4f02357</td><td>21</td><td>\\\\core\\\\event\\\\course_viewed</td></tr><tr><th>22</th><td>5fa09d8267fbc452c4f02358</td><td>22</td><td>\\\\core\\\\event\\\\dashboard_viewed</td></tr><tr><th>23</th><td>5fa09d8267fbc452c4f02359</td><td>23</td><td>\\\\core\\\\event\\\\course_viewed</td></tr><tr><th>24</th><td>5fa09d8267fbc452c4f0235a</td><td>24</td><td>\\\\core\\\\event\\\\course_viewed</td></tr><tr><th>25</th><td>5fa09d8267fbc452c4f0235b</td><td>25</td><td>\\\\core\\\\event\\\\course_viewed</td></tr><tr><th>26</th><td>5fa09d8267fbc452c4f0235c</td><td>26</td><td>\\\\core\\\\event\\\\course_viewed</td></tr><tr><th>27</th><td>5fa09d8267fbc452c4f0235d</td><td>27</td><td>\\\\mod_scorm\\\\event\\\\course_module_viewed</td></tr><tr><th>28</th><td>5fa09d8267fbc452c4f0235e</td><td>28</td><td>\\\\mod_scorm\\\\event\\\\course_module_viewed</td></tr><tr><th>29</th><td>5fa09d8267fbc452c4f0235f</td><td>29</td><td>\\\\mod_scorm\\\\event\\\\sco_launched</td></tr><tr><th>30</th><td>5fa09d8267fbc452c4f02360</td><td>30</td><td>\\\\core\\\\event\\\\dashboard_viewed</td></tr><tr><th>&vellip;</th><td>&vellip;</td><td>&vellip;</td><td>&vellip;</td></tr></tbody></table>",
            "text/latex": "\\begin{tabular}{r|cccc}\n\t& \\_id & id & eventname & \\\\\n\t\\hline\n\t& String & Int64 & String & \\\\\n\t\\hline\n\t1 & 5fa09d8267fbc452c4f02343 & 1 & \\textbackslash{}\\textbackslash{}giant\\textbackslash{}\\textbackslash{}event\\textbackslash{}\\textbackslash{}extended\\_challenge\\_team\\_viewed & $\\dots$ \\\\\n\t2 & 5fa09d8267fbc452c4f02344 & 2 & \\textbackslash{}\\textbackslash{}core\\textbackslash{}\\textbackslash{}event\\textbackslash{}\\textbackslash{}user\\_login\\_failed & $\\dots$ \\\\\n\t3 & 5fa09d8267fbc452c4f02345 & 3 & \\textbackslash{}\\textbackslash{}core\\textbackslash{}\\textbackslash{}event\\textbackslash{}\\textbackslash{}user\\_loggedin & $\\dots$ \\\\\n\t4 & 5fa09d8267fbc452c4f02346 & 4 & \\textbackslash{}\\textbackslash{}core\\textbackslash{}\\textbackslash{}event\\textbackslash{}\\textbackslash{}dashboard\\_viewed & $\\dots$ \\\\\n\t5 & 5fa09d8267fbc452c4f02347 & 5 & \\textbackslash{}\\textbackslash{}core\\textbackslash{}\\textbackslash{}event\\textbackslash{}\\textbackslash{}course\\_viewed & $\\dots$ \\\\\n\t6 & 5fa09d8267fbc452c4f02348 & 6 & \\textbackslash{}\\textbackslash{}core\\textbackslash{}\\textbackslash{}event\\textbackslash{}\\textbackslash{}course\\_viewed & $\\dots$ \\\\\n\t7 & 5fa09d8267fbc452c4f02349 & 7 & \\textbackslash{}\\textbackslash{}core\\textbackslash{}\\textbackslash{}event\\textbackslash{}\\textbackslash{}dashboard\\_viewed & $\\dots$ \\\\\n\t8 & 5fa09d8267fbc452c4f0234a & 8 & \\textbackslash{}\\textbackslash{}core\\textbackslash{}\\textbackslash{}event\\textbackslash{}\\textbackslash{}dashboard\\_viewed & $\\dots$ \\\\\n\t9 & 5fa09d8267fbc452c4f0234b & 9 & \\textbackslash{}\\textbackslash{}core\\textbackslash{}\\textbackslash{}event\\textbackslash{}\\textbackslash{}user\\_loggedin & $\\dots$ \\\\\n\t10 & 5fa09d8267fbc452c4f0234c & 10 & \\textbackslash{}\\textbackslash{}core\\textbackslash{}\\textbackslash{}event\\textbackslash{}\\textbackslash{}dashboard\\_viewed & $\\dots$ \\\\\n\t11 & 5fa09d8267fbc452c4f0234d & 11 & \\textbackslash{}\\textbackslash{}core\\textbackslash{}\\textbackslash{}event\\textbackslash{}\\textbackslash{}user\\_loggedin & $\\dots$ \\\\\n\t12 & 5fa09d8267fbc452c4f0234e & 12 & \\textbackslash{}\\textbackslash{}core\\textbackslash{}\\textbackslash{}event\\textbackslash{}\\textbackslash{}dashboard\\_viewed & $\\dots$ \\\\\n\t13 & 5fa09d8267fbc452c4f0234f & 13 & \\textbackslash{}\\textbackslash{}core\\textbackslash{}\\textbackslash{}event\\textbackslash{}\\textbackslash{}user\\_profile\\_viewed & $\\dots$ \\\\\n\t14 & 5fa09d8267fbc452c4f02350 & 14 & \\textbackslash{}\\textbackslash{}core\\textbackslash{}\\textbackslash{}event\\textbackslash{}\\textbackslash{}course\\_viewed & $\\dots$ \\\\\n\t15 & 5fa09d8267fbc452c4f02351 & 15 & \\textbackslash{}\\textbackslash{}core\\textbackslash{}\\textbackslash{}event\\textbackslash{}\\textbackslash{}course\\_viewed & $\\dots$ \\\\\n\t16 & 5fa09d8267fbc452c4f02352 & 16 & \\textbackslash{}\\textbackslash{}mod\\_scorm\\textbackslash{}\\textbackslash{}event\\textbackslash{}\\textbackslash{}course\\_module\\_viewed & $\\dots$ \\\\\n\t17 & 5fa09d8267fbc452c4f02353 & 17 & \\textbackslash{}\\textbackslash{}mod\\_scorm\\textbackslash{}\\textbackslash{}event\\textbackslash{}\\textbackslash{}course\\_module\\_viewed & $\\dots$ \\\\\n\t18 & 5fa09d8267fbc452c4f02354 & 18 & \\textbackslash{}\\textbackslash{}mod\\_scorm\\textbackslash{}\\textbackslash{}event\\textbackslash{}\\textbackslash{}sco\\_launched & $\\dots$ \\\\\n\t19 & 5fa09d8267fbc452c4f02355 & 19 & \\textbackslash{}\\textbackslash{}core\\textbackslash{}\\textbackslash{}event\\textbackslash{}\\textbackslash{}user\\_loggedin & $\\dots$ \\\\\n\t20 & 5fa09d8267fbc452c4f02356 & 20 & \\textbackslash{}\\textbackslash{}core\\textbackslash{}\\textbackslash{}event\\textbackslash{}\\textbackslash{}dashboard\\_viewed & $\\dots$ \\\\\n\t21 & 5fa09d8267fbc452c4f02357 & 21 & \\textbackslash{}\\textbackslash{}core\\textbackslash{}\\textbackslash{}event\\textbackslash{}\\textbackslash{}course\\_viewed & $\\dots$ \\\\\n\t22 & 5fa09d8267fbc452c4f02358 & 22 & \\textbackslash{}\\textbackslash{}core\\textbackslash{}\\textbackslash{}event\\textbackslash{}\\textbackslash{}dashboard\\_viewed & $\\dots$ \\\\\n\t23 & 5fa09d8267fbc452c4f02359 & 23 & \\textbackslash{}\\textbackslash{}core\\textbackslash{}\\textbackslash{}event\\textbackslash{}\\textbackslash{}course\\_viewed & $\\dots$ \\\\\n\t24 & 5fa09d8267fbc452c4f0235a & 24 & \\textbackslash{}\\textbackslash{}core\\textbackslash{}\\textbackslash{}event\\textbackslash{}\\textbackslash{}course\\_viewed & $\\dots$ \\\\\n\t25 & 5fa09d8267fbc452c4f0235b & 25 & \\textbackslash{}\\textbackslash{}core\\textbackslash{}\\textbackslash{}event\\textbackslash{}\\textbackslash{}course\\_viewed & $\\dots$ \\\\\n\t26 & 5fa09d8267fbc452c4f0235c & 26 & \\textbackslash{}\\textbackslash{}core\\textbackslash{}\\textbackslash{}event\\textbackslash{}\\textbackslash{}course\\_viewed & $\\dots$ \\\\\n\t27 & 5fa09d8267fbc452c4f0235d & 27 & \\textbackslash{}\\textbackslash{}mod\\_scorm\\textbackslash{}\\textbackslash{}event\\textbackslash{}\\textbackslash{}course\\_module\\_viewed & $\\dots$ \\\\\n\t28 & 5fa09d8267fbc452c4f0235e & 28 & \\textbackslash{}\\textbackslash{}mod\\_scorm\\textbackslash{}\\textbackslash{}event\\textbackslash{}\\textbackslash{}course\\_module\\_viewed & $\\dots$ \\\\\n\t29 & 5fa09d8267fbc452c4f0235f & 29 & \\textbackslash{}\\textbackslash{}mod\\_scorm\\textbackslash{}\\textbackslash{}event\\textbackslash{}\\textbackslash{}sco\\_launched & $\\dots$ \\\\\n\t30 & 5fa09d8267fbc452c4f02360 & 30 & \\textbackslash{}\\textbackslash{}core\\textbackslash{}\\textbackslash{}event\\textbackslash{}\\textbackslash{}dashboard\\_viewed & $\\dots$ \\\\\n\t$\\dots$ & $\\dots$ & $\\dots$ & $\\dots$ &  \\\\\n\\end{tabular}\n"
          },
          "metadata": {}
        }
      ],
      "execution_count": 9,
      "metadata": {
        "collapsed": true,
        "jupyter": {
          "source_hidden": false,
          "outputs_hidden": false
        },
        "nteract": {
          "transient": {
            "deleting": false
          }
        },
        "execution": {
          "iopub.status.busy": "2020-11-30T06:25:55.381Z",
          "iopub.execute_input": "2020-11-30T06:25:55.408Z",
          "iopub.status.idle": "2020-11-30T06:25:56.284Z"
        }
      }
    },
    {
      "cell_type": "code",
      "source": [
        "# Agregando las columnas de año, mes y día a nuestro set de datos\n",
        "eventsDataFrame=hcat(eventsDataFrame, DataFrame(reduce(vcat, permutedims.(split.(eventsDataFrame[!,:date], '-'))), [:year, :month, :day]))"
      ],
      "outputs": [
        {
          "output_type": "execute_result",
          "execution_count": 10,
          "data": {
            "text/plain": "40674×19 DataFrame. Omitted printing of 17 columns\n│ Row   │ _id                      │ id    │\n│       │ \u001b[90mString\u001b[39m                   │ \u001b[90mInt64\u001b[39m │\n├───────┼──────────────────────────┼───────┤\n│ 1     │ 5fa09d8267fbc452c4f02343 │ 1     │\n│ 2     │ 5fa09d8267fbc452c4f02344 │ 2     │\n│ 3     │ 5fa09d8267fbc452c4f02345 │ 3     │\n│ 4     │ 5fa09d8267fbc452c4f02346 │ 4     │\n│ 5     │ 5fa09d8267fbc452c4f02347 │ 5     │\n│ 6     │ 5fa09d8267fbc452c4f02348 │ 6     │\n│ 7     │ 5fa09d8267fbc452c4f02349 │ 7     │\n│ 8     │ 5fa09d8267fbc452c4f0234a │ 8     │\n│ 9     │ 5fa09d8267fbc452c4f0234b │ 9     │\n│ 10    │ 5fa09d8267fbc452c4f0234c │ 10    │\n⋮\n│ 40664 │ 5fa09d8c67fbc452c4f0c21a │ 40664 │\n│ 40665 │ 5fa09d8c67fbc452c4f0c21b │ 40665 │\n│ 40666 │ 5fa09d8c67fbc452c4f0c21c │ 40666 │\n│ 40667 │ 5fa09d8c67fbc452c4f0c21d │ 40667 │\n│ 40668 │ 5fa09d8c67fbc452c4f0c21e │ 40668 │\n│ 40669 │ 5fa09d8c67fbc452c4f0c21f │ 40669 │\n│ 40670 │ 5fa09d8c67fbc452c4f0c220 │ 40670 │\n│ 40671 │ 5fa09d8c67fbc452c4f0c221 │ 40671 │\n│ 40672 │ 5fa09d8c67fbc452c4f0c222 │ 40672 │\n│ 40673 │ 5fa09d8c67fbc452c4f0c223 │ 40673 │\n│ 40674 │ 5fa09d8c67fbc452c4f0c224 │ 40674 │",
            "text/html": "<table class=\"data-frame\"><thead><tr><th></th><th>_id</th><th>id</th><th>eventname</th></tr><tr><th></th><th>String</th><th>Int64</th><th>String</th></tr></thead><tbody><p>40,674 rows × 19 columns (omitted printing of 16 columns)</p><tr><th>1</th><td>5fa09d8267fbc452c4f02343</td><td>1</td><td>\\\\giant\\\\event\\\\extended_challenge_team_viewed</td></tr><tr><th>2</th><td>5fa09d8267fbc452c4f02344</td><td>2</td><td>\\\\core\\\\event\\\\user_login_failed</td></tr><tr><th>3</th><td>5fa09d8267fbc452c4f02345</td><td>3</td><td>\\\\core\\\\event\\\\user_loggedin</td></tr><tr><th>4</th><td>5fa09d8267fbc452c4f02346</td><td>4</td><td>\\\\core\\\\event\\\\dashboard_viewed</td></tr><tr><th>5</th><td>5fa09d8267fbc452c4f02347</td><td>5</td><td>\\\\core\\\\event\\\\course_viewed</td></tr><tr><th>6</th><td>5fa09d8267fbc452c4f02348</td><td>6</td><td>\\\\core\\\\event\\\\course_viewed</td></tr><tr><th>7</th><td>5fa09d8267fbc452c4f02349</td><td>7</td><td>\\\\core\\\\event\\\\dashboard_viewed</td></tr><tr><th>8</th><td>5fa09d8267fbc452c4f0234a</td><td>8</td><td>\\\\core\\\\event\\\\dashboard_viewed</td></tr><tr><th>9</th><td>5fa09d8267fbc452c4f0234b</td><td>9</td><td>\\\\core\\\\event\\\\user_loggedin</td></tr><tr><th>10</th><td>5fa09d8267fbc452c4f0234c</td><td>10</td><td>\\\\core\\\\event\\\\dashboard_viewed</td></tr><tr><th>11</th><td>5fa09d8267fbc452c4f0234d</td><td>11</td><td>\\\\core\\\\event\\\\user_loggedin</td></tr><tr><th>12</th><td>5fa09d8267fbc452c4f0234e</td><td>12</td><td>\\\\core\\\\event\\\\dashboard_viewed</td></tr><tr><th>13</th><td>5fa09d8267fbc452c4f0234f</td><td>13</td><td>\\\\core\\\\event\\\\user_profile_viewed</td></tr><tr><th>14</th><td>5fa09d8267fbc452c4f02350</td><td>14</td><td>\\\\core\\\\event\\\\course_viewed</td></tr><tr><th>15</th><td>5fa09d8267fbc452c4f02351</td><td>15</td><td>\\\\core\\\\event\\\\course_viewed</td></tr><tr><th>16</th><td>5fa09d8267fbc452c4f02352</td><td>16</td><td>\\\\mod_scorm\\\\event\\\\course_module_viewed</td></tr><tr><th>17</th><td>5fa09d8267fbc452c4f02353</td><td>17</td><td>\\\\mod_scorm\\\\event\\\\course_module_viewed</td></tr><tr><th>18</th><td>5fa09d8267fbc452c4f02354</td><td>18</td><td>\\\\mod_scorm\\\\event\\\\sco_launched</td></tr><tr><th>19</th><td>5fa09d8267fbc452c4f02355</td><td>19</td><td>\\\\core\\\\event\\\\user_loggedin</td></tr><tr><th>20</th><td>5fa09d8267fbc452c4f02356</td><td>20</td><td>\\\\core\\\\event\\\\dashboard_viewed</td></tr><tr><th>21</th><td>5fa09d8267fbc452c4f02357</td><td>21</td><td>\\\\core\\\\event\\\\course_viewed</td></tr><tr><th>22</th><td>5fa09d8267fbc452c4f02358</td><td>22</td><td>\\\\core\\\\event\\\\dashboard_viewed</td></tr><tr><th>23</th><td>5fa09d8267fbc452c4f02359</td><td>23</td><td>\\\\core\\\\event\\\\course_viewed</td></tr><tr><th>24</th><td>5fa09d8267fbc452c4f0235a</td><td>24</td><td>\\\\core\\\\event\\\\course_viewed</td></tr><tr><th>25</th><td>5fa09d8267fbc452c4f0235b</td><td>25</td><td>\\\\core\\\\event\\\\course_viewed</td></tr><tr><th>26</th><td>5fa09d8267fbc452c4f0235c</td><td>26</td><td>\\\\core\\\\event\\\\course_viewed</td></tr><tr><th>27</th><td>5fa09d8267fbc452c4f0235d</td><td>27</td><td>\\\\mod_scorm\\\\event\\\\course_module_viewed</td></tr><tr><th>28</th><td>5fa09d8267fbc452c4f0235e</td><td>28</td><td>\\\\mod_scorm\\\\event\\\\course_module_viewed</td></tr><tr><th>29</th><td>5fa09d8267fbc452c4f0235f</td><td>29</td><td>\\\\mod_scorm\\\\event\\\\sco_launched</td></tr><tr><th>30</th><td>5fa09d8267fbc452c4f02360</td><td>30</td><td>\\\\core\\\\event\\\\dashboard_viewed</td></tr><tr><th>&vellip;</th><td>&vellip;</td><td>&vellip;</td><td>&vellip;</td></tr></tbody></table>",
            "text/latex": "\\begin{tabular}{r|cccc}\n\t& \\_id & id & eventname & \\\\\n\t\\hline\n\t& String & Int64 & String & \\\\\n\t\\hline\n\t1 & 5fa09d8267fbc452c4f02343 & 1 & \\textbackslash{}\\textbackslash{}giant\\textbackslash{}\\textbackslash{}event\\textbackslash{}\\textbackslash{}extended\\_challenge\\_team\\_viewed & $\\dots$ \\\\\n\t2 & 5fa09d8267fbc452c4f02344 & 2 & \\textbackslash{}\\textbackslash{}core\\textbackslash{}\\textbackslash{}event\\textbackslash{}\\textbackslash{}user\\_login\\_failed & $\\dots$ \\\\\n\t3 & 5fa09d8267fbc452c4f02345 & 3 & \\textbackslash{}\\textbackslash{}core\\textbackslash{}\\textbackslash{}event\\textbackslash{}\\textbackslash{}user\\_loggedin & $\\dots$ \\\\\n\t4 & 5fa09d8267fbc452c4f02346 & 4 & \\textbackslash{}\\textbackslash{}core\\textbackslash{}\\textbackslash{}event\\textbackslash{}\\textbackslash{}dashboard\\_viewed & $\\dots$ \\\\\n\t5 & 5fa09d8267fbc452c4f02347 & 5 & \\textbackslash{}\\textbackslash{}core\\textbackslash{}\\textbackslash{}event\\textbackslash{}\\textbackslash{}course\\_viewed & $\\dots$ \\\\\n\t6 & 5fa09d8267fbc452c4f02348 & 6 & \\textbackslash{}\\textbackslash{}core\\textbackslash{}\\textbackslash{}event\\textbackslash{}\\textbackslash{}course\\_viewed & $\\dots$ \\\\\n\t7 & 5fa09d8267fbc452c4f02349 & 7 & \\textbackslash{}\\textbackslash{}core\\textbackslash{}\\textbackslash{}event\\textbackslash{}\\textbackslash{}dashboard\\_viewed & $\\dots$ \\\\\n\t8 & 5fa09d8267fbc452c4f0234a & 8 & \\textbackslash{}\\textbackslash{}core\\textbackslash{}\\textbackslash{}event\\textbackslash{}\\textbackslash{}dashboard\\_viewed & $\\dots$ \\\\\n\t9 & 5fa09d8267fbc452c4f0234b & 9 & \\textbackslash{}\\textbackslash{}core\\textbackslash{}\\textbackslash{}event\\textbackslash{}\\textbackslash{}user\\_loggedin & $\\dots$ \\\\\n\t10 & 5fa09d8267fbc452c4f0234c & 10 & \\textbackslash{}\\textbackslash{}core\\textbackslash{}\\textbackslash{}event\\textbackslash{}\\textbackslash{}dashboard\\_viewed & $\\dots$ \\\\\n\t11 & 5fa09d8267fbc452c4f0234d & 11 & \\textbackslash{}\\textbackslash{}core\\textbackslash{}\\textbackslash{}event\\textbackslash{}\\textbackslash{}user\\_loggedin & $\\dots$ \\\\\n\t12 & 5fa09d8267fbc452c4f0234e & 12 & \\textbackslash{}\\textbackslash{}core\\textbackslash{}\\textbackslash{}event\\textbackslash{}\\textbackslash{}dashboard\\_viewed & $\\dots$ \\\\\n\t13 & 5fa09d8267fbc452c4f0234f & 13 & \\textbackslash{}\\textbackslash{}core\\textbackslash{}\\textbackslash{}event\\textbackslash{}\\textbackslash{}user\\_profile\\_viewed & $\\dots$ \\\\\n\t14 & 5fa09d8267fbc452c4f02350 & 14 & \\textbackslash{}\\textbackslash{}core\\textbackslash{}\\textbackslash{}event\\textbackslash{}\\textbackslash{}course\\_viewed & $\\dots$ \\\\\n\t15 & 5fa09d8267fbc452c4f02351 & 15 & \\textbackslash{}\\textbackslash{}core\\textbackslash{}\\textbackslash{}event\\textbackslash{}\\textbackslash{}course\\_viewed & $\\dots$ \\\\\n\t16 & 5fa09d8267fbc452c4f02352 & 16 & \\textbackslash{}\\textbackslash{}mod\\_scorm\\textbackslash{}\\textbackslash{}event\\textbackslash{}\\textbackslash{}course\\_module\\_viewed & $\\dots$ \\\\\n\t17 & 5fa09d8267fbc452c4f02353 & 17 & \\textbackslash{}\\textbackslash{}mod\\_scorm\\textbackslash{}\\textbackslash{}event\\textbackslash{}\\textbackslash{}course\\_module\\_viewed & $\\dots$ \\\\\n\t18 & 5fa09d8267fbc452c4f02354 & 18 & \\textbackslash{}\\textbackslash{}mod\\_scorm\\textbackslash{}\\textbackslash{}event\\textbackslash{}\\textbackslash{}sco\\_launched & $\\dots$ \\\\\n\t19 & 5fa09d8267fbc452c4f02355 & 19 & \\textbackslash{}\\textbackslash{}core\\textbackslash{}\\textbackslash{}event\\textbackslash{}\\textbackslash{}user\\_loggedin & $\\dots$ \\\\\n\t20 & 5fa09d8267fbc452c4f02356 & 20 & \\textbackslash{}\\textbackslash{}core\\textbackslash{}\\textbackslash{}event\\textbackslash{}\\textbackslash{}dashboard\\_viewed & $\\dots$ \\\\\n\t21 & 5fa09d8267fbc452c4f02357 & 21 & \\textbackslash{}\\textbackslash{}core\\textbackslash{}\\textbackslash{}event\\textbackslash{}\\textbackslash{}course\\_viewed & $\\dots$ \\\\\n\t22 & 5fa09d8267fbc452c4f02358 & 22 & \\textbackslash{}\\textbackslash{}core\\textbackslash{}\\textbackslash{}event\\textbackslash{}\\textbackslash{}dashboard\\_viewed & $\\dots$ \\\\\n\t23 & 5fa09d8267fbc452c4f02359 & 23 & \\textbackslash{}\\textbackslash{}core\\textbackslash{}\\textbackslash{}event\\textbackslash{}\\textbackslash{}course\\_viewed & $\\dots$ \\\\\n\t24 & 5fa09d8267fbc452c4f0235a & 24 & \\textbackslash{}\\textbackslash{}core\\textbackslash{}\\textbackslash{}event\\textbackslash{}\\textbackslash{}course\\_viewed & $\\dots$ \\\\\n\t25 & 5fa09d8267fbc452c4f0235b & 25 & \\textbackslash{}\\textbackslash{}core\\textbackslash{}\\textbackslash{}event\\textbackslash{}\\textbackslash{}course\\_viewed & $\\dots$ \\\\\n\t26 & 5fa09d8267fbc452c4f0235c & 26 & \\textbackslash{}\\textbackslash{}core\\textbackslash{}\\textbackslash{}event\\textbackslash{}\\textbackslash{}course\\_viewed & $\\dots$ \\\\\n\t27 & 5fa09d8267fbc452c4f0235d & 27 & \\textbackslash{}\\textbackslash{}mod\\_scorm\\textbackslash{}\\textbackslash{}event\\textbackslash{}\\textbackslash{}course\\_module\\_viewed & $\\dots$ \\\\\n\t28 & 5fa09d8267fbc452c4f0235e & 28 & \\textbackslash{}\\textbackslash{}mod\\_scorm\\textbackslash{}\\textbackslash{}event\\textbackslash{}\\textbackslash{}course\\_module\\_viewed & $\\dots$ \\\\\n\t29 & 5fa09d8267fbc452c4f0235f & 29 & \\textbackslash{}\\textbackslash{}mod\\_scorm\\textbackslash{}\\textbackslash{}event\\textbackslash{}\\textbackslash{}sco\\_launched & $\\dots$ \\\\\n\t30 & 5fa09d8267fbc452c4f02360 & 30 & \\textbackslash{}\\textbackslash{}core\\textbackslash{}\\textbackslash{}event\\textbackslash{}\\textbackslash{}dashboard\\_viewed & $\\dots$ \\\\\n\t$\\dots$ & $\\dots$ & $\\dots$ & $\\dots$ &  \\\\\n\\end{tabular}\n"
          },
          "metadata": {}
        }
      ],
      "execution_count": 10,
      "metadata": {
        "collapsed": true,
        "jupyter": {
          "source_hidden": false,
          "outputs_hidden": false
        },
        "nteract": {
          "transient": {
            "deleting": false
          }
        },
        "execution": {
          "iopub.status.busy": "2020-11-30T06:25:58.684Z",
          "iopub.execute_input": "2020-11-30T06:25:58.724Z",
          "iopub.status.idle": "2020-11-30T06:25:58.923Z"
        }
      }
    },
    {
      "cell_type": "code",
      "source": [
        "# Agregando las columnas de hora, minutos y segundos a nuestro set de datos\n",
        "eventsDataFrame=hcat(eventsDataFrame, DataFrame(reduce(vcat, permutedims.(split.(eventsDataFrame[!,:time], ':'))), [:hour, :minute, :second]))"
      ],
      "outputs": [
        {
          "output_type": "execute_result",
          "execution_count": 11,
          "data": {
            "text/plain": "40674×22 DataFrame. Omitted printing of 20 columns\n│ Row   │ _id                      │ id    │\n│       │ \u001b[90mString\u001b[39m                   │ \u001b[90mInt64\u001b[39m │\n├───────┼──────────────────────────┼───────┤\n│ 1     │ 5fa09d8267fbc452c4f02343 │ 1     │\n│ 2     │ 5fa09d8267fbc452c4f02344 │ 2     │\n│ 3     │ 5fa09d8267fbc452c4f02345 │ 3     │\n│ 4     │ 5fa09d8267fbc452c4f02346 │ 4     │\n│ 5     │ 5fa09d8267fbc452c4f02347 │ 5     │\n│ 6     │ 5fa09d8267fbc452c4f02348 │ 6     │\n│ 7     │ 5fa09d8267fbc452c4f02349 │ 7     │\n│ 8     │ 5fa09d8267fbc452c4f0234a │ 8     │\n│ 9     │ 5fa09d8267fbc452c4f0234b │ 9     │\n│ 10    │ 5fa09d8267fbc452c4f0234c │ 10    │\n⋮\n│ 40664 │ 5fa09d8c67fbc452c4f0c21a │ 40664 │\n│ 40665 │ 5fa09d8c67fbc452c4f0c21b │ 40665 │\n│ 40666 │ 5fa09d8c67fbc452c4f0c21c │ 40666 │\n│ 40667 │ 5fa09d8c67fbc452c4f0c21d │ 40667 │\n│ 40668 │ 5fa09d8c67fbc452c4f0c21e │ 40668 │\n│ 40669 │ 5fa09d8c67fbc452c4f0c21f │ 40669 │\n│ 40670 │ 5fa09d8c67fbc452c4f0c220 │ 40670 │\n│ 40671 │ 5fa09d8c67fbc452c4f0c221 │ 40671 │\n│ 40672 │ 5fa09d8c67fbc452c4f0c222 │ 40672 │\n│ 40673 │ 5fa09d8c67fbc452c4f0c223 │ 40673 │\n│ 40674 │ 5fa09d8c67fbc452c4f0c224 │ 40674 │",
            "text/html": "<table class=\"data-frame\"><thead><tr><th></th><th>_id</th><th>id</th><th>eventname</th></tr><tr><th></th><th>String</th><th>Int64</th><th>String</th></tr></thead><tbody><p>40,674 rows × 22 columns (omitted printing of 19 columns)</p><tr><th>1</th><td>5fa09d8267fbc452c4f02343</td><td>1</td><td>\\\\giant\\\\event\\\\extended_challenge_team_viewed</td></tr><tr><th>2</th><td>5fa09d8267fbc452c4f02344</td><td>2</td><td>\\\\core\\\\event\\\\user_login_failed</td></tr><tr><th>3</th><td>5fa09d8267fbc452c4f02345</td><td>3</td><td>\\\\core\\\\event\\\\user_loggedin</td></tr><tr><th>4</th><td>5fa09d8267fbc452c4f02346</td><td>4</td><td>\\\\core\\\\event\\\\dashboard_viewed</td></tr><tr><th>5</th><td>5fa09d8267fbc452c4f02347</td><td>5</td><td>\\\\core\\\\event\\\\course_viewed</td></tr><tr><th>6</th><td>5fa09d8267fbc452c4f02348</td><td>6</td><td>\\\\core\\\\event\\\\course_viewed</td></tr><tr><th>7</th><td>5fa09d8267fbc452c4f02349</td><td>7</td><td>\\\\core\\\\event\\\\dashboard_viewed</td></tr><tr><th>8</th><td>5fa09d8267fbc452c4f0234a</td><td>8</td><td>\\\\core\\\\event\\\\dashboard_viewed</td></tr><tr><th>9</th><td>5fa09d8267fbc452c4f0234b</td><td>9</td><td>\\\\core\\\\event\\\\user_loggedin</td></tr><tr><th>10</th><td>5fa09d8267fbc452c4f0234c</td><td>10</td><td>\\\\core\\\\event\\\\dashboard_viewed</td></tr><tr><th>11</th><td>5fa09d8267fbc452c4f0234d</td><td>11</td><td>\\\\core\\\\event\\\\user_loggedin</td></tr><tr><th>12</th><td>5fa09d8267fbc452c4f0234e</td><td>12</td><td>\\\\core\\\\event\\\\dashboard_viewed</td></tr><tr><th>13</th><td>5fa09d8267fbc452c4f0234f</td><td>13</td><td>\\\\core\\\\event\\\\user_profile_viewed</td></tr><tr><th>14</th><td>5fa09d8267fbc452c4f02350</td><td>14</td><td>\\\\core\\\\event\\\\course_viewed</td></tr><tr><th>15</th><td>5fa09d8267fbc452c4f02351</td><td>15</td><td>\\\\core\\\\event\\\\course_viewed</td></tr><tr><th>16</th><td>5fa09d8267fbc452c4f02352</td><td>16</td><td>\\\\mod_scorm\\\\event\\\\course_module_viewed</td></tr><tr><th>17</th><td>5fa09d8267fbc452c4f02353</td><td>17</td><td>\\\\mod_scorm\\\\event\\\\course_module_viewed</td></tr><tr><th>18</th><td>5fa09d8267fbc452c4f02354</td><td>18</td><td>\\\\mod_scorm\\\\event\\\\sco_launched</td></tr><tr><th>19</th><td>5fa09d8267fbc452c4f02355</td><td>19</td><td>\\\\core\\\\event\\\\user_loggedin</td></tr><tr><th>20</th><td>5fa09d8267fbc452c4f02356</td><td>20</td><td>\\\\core\\\\event\\\\dashboard_viewed</td></tr><tr><th>21</th><td>5fa09d8267fbc452c4f02357</td><td>21</td><td>\\\\core\\\\event\\\\course_viewed</td></tr><tr><th>22</th><td>5fa09d8267fbc452c4f02358</td><td>22</td><td>\\\\core\\\\event\\\\dashboard_viewed</td></tr><tr><th>23</th><td>5fa09d8267fbc452c4f02359</td><td>23</td><td>\\\\core\\\\event\\\\course_viewed</td></tr><tr><th>24</th><td>5fa09d8267fbc452c4f0235a</td><td>24</td><td>\\\\core\\\\event\\\\course_viewed</td></tr><tr><th>25</th><td>5fa09d8267fbc452c4f0235b</td><td>25</td><td>\\\\core\\\\event\\\\course_viewed</td></tr><tr><th>26</th><td>5fa09d8267fbc452c4f0235c</td><td>26</td><td>\\\\core\\\\event\\\\course_viewed</td></tr><tr><th>27</th><td>5fa09d8267fbc452c4f0235d</td><td>27</td><td>\\\\mod_scorm\\\\event\\\\course_module_viewed</td></tr><tr><th>28</th><td>5fa09d8267fbc452c4f0235e</td><td>28</td><td>\\\\mod_scorm\\\\event\\\\course_module_viewed</td></tr><tr><th>29</th><td>5fa09d8267fbc452c4f0235f</td><td>29</td><td>\\\\mod_scorm\\\\event\\\\sco_launched</td></tr><tr><th>30</th><td>5fa09d8267fbc452c4f02360</td><td>30</td><td>\\\\core\\\\event\\\\dashboard_viewed</td></tr><tr><th>&vellip;</th><td>&vellip;</td><td>&vellip;</td><td>&vellip;</td></tr></tbody></table>",
            "text/latex": "\\begin{tabular}{r|cccc}\n\t& \\_id & id & eventname & \\\\\n\t\\hline\n\t& String & Int64 & String & \\\\\n\t\\hline\n\t1 & 5fa09d8267fbc452c4f02343 & 1 & \\textbackslash{}\\textbackslash{}giant\\textbackslash{}\\textbackslash{}event\\textbackslash{}\\textbackslash{}extended\\_challenge\\_team\\_viewed & $\\dots$ \\\\\n\t2 & 5fa09d8267fbc452c4f02344 & 2 & \\textbackslash{}\\textbackslash{}core\\textbackslash{}\\textbackslash{}event\\textbackslash{}\\textbackslash{}user\\_login\\_failed & $\\dots$ \\\\\n\t3 & 5fa09d8267fbc452c4f02345 & 3 & \\textbackslash{}\\textbackslash{}core\\textbackslash{}\\textbackslash{}event\\textbackslash{}\\textbackslash{}user\\_loggedin & $\\dots$ \\\\\n\t4 & 5fa09d8267fbc452c4f02346 & 4 & \\textbackslash{}\\textbackslash{}core\\textbackslash{}\\textbackslash{}event\\textbackslash{}\\textbackslash{}dashboard\\_viewed & $\\dots$ \\\\\n\t5 & 5fa09d8267fbc452c4f02347 & 5 & \\textbackslash{}\\textbackslash{}core\\textbackslash{}\\textbackslash{}event\\textbackslash{}\\textbackslash{}course\\_viewed & $\\dots$ \\\\\n\t6 & 5fa09d8267fbc452c4f02348 & 6 & \\textbackslash{}\\textbackslash{}core\\textbackslash{}\\textbackslash{}event\\textbackslash{}\\textbackslash{}course\\_viewed & $\\dots$ \\\\\n\t7 & 5fa09d8267fbc452c4f02349 & 7 & \\textbackslash{}\\textbackslash{}core\\textbackslash{}\\textbackslash{}event\\textbackslash{}\\textbackslash{}dashboard\\_viewed & $\\dots$ \\\\\n\t8 & 5fa09d8267fbc452c4f0234a & 8 & \\textbackslash{}\\textbackslash{}core\\textbackslash{}\\textbackslash{}event\\textbackslash{}\\textbackslash{}dashboard\\_viewed & $\\dots$ \\\\\n\t9 & 5fa09d8267fbc452c4f0234b & 9 & \\textbackslash{}\\textbackslash{}core\\textbackslash{}\\textbackslash{}event\\textbackslash{}\\textbackslash{}user\\_loggedin & $\\dots$ \\\\\n\t10 & 5fa09d8267fbc452c4f0234c & 10 & \\textbackslash{}\\textbackslash{}core\\textbackslash{}\\textbackslash{}event\\textbackslash{}\\textbackslash{}dashboard\\_viewed & $\\dots$ \\\\\n\t11 & 5fa09d8267fbc452c4f0234d & 11 & \\textbackslash{}\\textbackslash{}core\\textbackslash{}\\textbackslash{}event\\textbackslash{}\\textbackslash{}user\\_loggedin & $\\dots$ \\\\\n\t12 & 5fa09d8267fbc452c4f0234e & 12 & \\textbackslash{}\\textbackslash{}core\\textbackslash{}\\textbackslash{}event\\textbackslash{}\\textbackslash{}dashboard\\_viewed & $\\dots$ \\\\\n\t13 & 5fa09d8267fbc452c4f0234f & 13 & \\textbackslash{}\\textbackslash{}core\\textbackslash{}\\textbackslash{}event\\textbackslash{}\\textbackslash{}user\\_profile\\_viewed & $\\dots$ \\\\\n\t14 & 5fa09d8267fbc452c4f02350 & 14 & \\textbackslash{}\\textbackslash{}core\\textbackslash{}\\textbackslash{}event\\textbackslash{}\\textbackslash{}course\\_viewed & $\\dots$ \\\\\n\t15 & 5fa09d8267fbc452c4f02351 & 15 & \\textbackslash{}\\textbackslash{}core\\textbackslash{}\\textbackslash{}event\\textbackslash{}\\textbackslash{}course\\_viewed & $\\dots$ \\\\\n\t16 & 5fa09d8267fbc452c4f02352 & 16 & \\textbackslash{}\\textbackslash{}mod\\_scorm\\textbackslash{}\\textbackslash{}event\\textbackslash{}\\textbackslash{}course\\_module\\_viewed & $\\dots$ \\\\\n\t17 & 5fa09d8267fbc452c4f02353 & 17 & \\textbackslash{}\\textbackslash{}mod\\_scorm\\textbackslash{}\\textbackslash{}event\\textbackslash{}\\textbackslash{}course\\_module\\_viewed & $\\dots$ \\\\\n\t18 & 5fa09d8267fbc452c4f02354 & 18 & \\textbackslash{}\\textbackslash{}mod\\_scorm\\textbackslash{}\\textbackslash{}event\\textbackslash{}\\textbackslash{}sco\\_launched & $\\dots$ \\\\\n\t19 & 5fa09d8267fbc452c4f02355 & 19 & \\textbackslash{}\\textbackslash{}core\\textbackslash{}\\textbackslash{}event\\textbackslash{}\\textbackslash{}user\\_loggedin & $\\dots$ \\\\\n\t20 & 5fa09d8267fbc452c4f02356 & 20 & \\textbackslash{}\\textbackslash{}core\\textbackslash{}\\textbackslash{}event\\textbackslash{}\\textbackslash{}dashboard\\_viewed & $\\dots$ \\\\\n\t21 & 5fa09d8267fbc452c4f02357 & 21 & \\textbackslash{}\\textbackslash{}core\\textbackslash{}\\textbackslash{}event\\textbackslash{}\\textbackslash{}course\\_viewed & $\\dots$ \\\\\n\t22 & 5fa09d8267fbc452c4f02358 & 22 & \\textbackslash{}\\textbackslash{}core\\textbackslash{}\\textbackslash{}event\\textbackslash{}\\textbackslash{}dashboard\\_viewed & $\\dots$ \\\\\n\t23 & 5fa09d8267fbc452c4f02359 & 23 & \\textbackslash{}\\textbackslash{}core\\textbackslash{}\\textbackslash{}event\\textbackslash{}\\textbackslash{}course\\_viewed & $\\dots$ \\\\\n\t24 & 5fa09d8267fbc452c4f0235a & 24 & \\textbackslash{}\\textbackslash{}core\\textbackslash{}\\textbackslash{}event\\textbackslash{}\\textbackslash{}course\\_viewed & $\\dots$ \\\\\n\t25 & 5fa09d8267fbc452c4f0235b & 25 & \\textbackslash{}\\textbackslash{}core\\textbackslash{}\\textbackslash{}event\\textbackslash{}\\textbackslash{}course\\_viewed & $\\dots$ \\\\\n\t26 & 5fa09d8267fbc452c4f0235c & 26 & \\textbackslash{}\\textbackslash{}core\\textbackslash{}\\textbackslash{}event\\textbackslash{}\\textbackslash{}course\\_viewed & $\\dots$ \\\\\n\t27 & 5fa09d8267fbc452c4f0235d & 27 & \\textbackslash{}\\textbackslash{}mod\\_scorm\\textbackslash{}\\textbackslash{}event\\textbackslash{}\\textbackslash{}course\\_module\\_viewed & $\\dots$ \\\\\n\t28 & 5fa09d8267fbc452c4f0235e & 28 & \\textbackslash{}\\textbackslash{}mod\\_scorm\\textbackslash{}\\textbackslash{}event\\textbackslash{}\\textbackslash{}course\\_module\\_viewed & $\\dots$ \\\\\n\t29 & 5fa09d8267fbc452c4f0235f & 29 & \\textbackslash{}\\textbackslash{}mod\\_scorm\\textbackslash{}\\textbackslash{}event\\textbackslash{}\\textbackslash{}sco\\_launched & $\\dots$ \\\\\n\t30 & 5fa09d8267fbc452c4f02360 & 30 & \\textbackslash{}\\textbackslash{}core\\textbackslash{}\\textbackslash{}event\\textbackslash{}\\textbackslash{}dashboard\\_viewed & $\\dots$ \\\\\n\t$\\dots$ & $\\dots$ & $\\dots$ & $\\dots$ &  \\\\\n\\end{tabular}\n"
          },
          "metadata": {}
        }
      ],
      "execution_count": 11,
      "metadata": {
        "collapsed": true,
        "jupyter": {
          "source_hidden": false,
          "outputs_hidden": false
        },
        "nteract": {
          "transient": {
            "deleting": false
          }
        },
        "execution": {
          "iopub.status.busy": "2020-11-30T06:26:01.805Z",
          "iopub.execute_input": "2020-11-30T06:26:01.839Z",
          "iopub.status.idle": "2020-11-30T06:26:01.897Z"
        }
      }
    },
    {
      "cell_type": "code",
      "source": [
        "names(eventsDataFrame)"
      ],
      "outputs": [
        {
          "output_type": "execute_result",
          "execution_count": 12,
          "data": {
            "text/plain": "22-element Array{String,1}:\n \"_id\"\n \"id\"\n \"eventname\"\n \"component\"\n \"action\"\n \"target\"\n \"objecttable\"\n \"objectid\"\n \"crud\"\n \"userid\"\n \"username\"\n \"courseid\"\n \"other\"\n \"timecreated\"\n \"date\"\n \"time\"\n \"year\"\n \"month\"\n \"day\"\n \"hour\"\n \"minute\"\n \"second\""
          },
          "metadata": {}
        }
      ],
      "execution_count": 12,
      "metadata": {
        "collapsed": true,
        "jupyter": {
          "source_hidden": false,
          "outputs_hidden": false
        },
        "nteract": {
          "transient": {
            "deleting": false
          }
        },
        "execution": {
          "iopub.status.busy": "2020-11-30T06:26:10.045Z",
          "iopub.execute_input": "2020-11-30T06:26:10.078Z",
          "iopub.status.idle": "2020-11-30T06:26:10.131Z"
        }
      }
    },
    {
      "cell_type": "code",
      "source": [
        "# Creando nuevo DataFrame para empezar a generar piezas de visualización de lo que está sucediendo en el gestor\n",
        "featureDataFrame=eventsDataFrame[!,[:userid, :eventname, :component, :action, :target, :year, :month, :day, :hour, :minute, :second]]"
      ],
      "outputs": [
        {
          "output_type": "execute_result",
          "execution_count": 13,
          "data": {
            "text/plain": "40674×11 DataFrame. Omitted printing of 8 columns\n│ Row   │ userid │ eventname                                      │ component │\n│       │ \u001b[90mInt64\u001b[39m  │ \u001b[90mString\u001b[39m                                         │ \u001b[90mString\u001b[39m    │\n├───────┼────────┼────────────────────────────────────────────────┼───────────┤\n│ 1     │ 78     │ \\\\giant\\\\event\\\\extended_challenge_team_viewed │ giant     │\n│ 2     │ 141    │ \\\\core\\\\event\\\\user_login_failed               │ core      │\n│ 3     │ 141    │ \\\\core\\\\event\\\\user_loggedin                   │ core      │\n│ 4     │ 141    │ \\\\core\\\\event\\\\dashboard_viewed                │ core      │\n│ 5     │ 141    │ \\\\core\\\\event\\\\course_viewed                   │ core      │\n│ 6     │ 141    │ \\\\core\\\\event\\\\course_viewed                   │ core      │\n│ 7     │ 141    │ \\\\core\\\\event\\\\dashboard_viewed                │ core      │\n│ 8     │ 141    │ \\\\core\\\\event\\\\dashboard_viewed                │ core      │\n│ 9     │ 48     │ \\\\core\\\\event\\\\user_loggedin                   │ core      │\n│ 10    │ 48     │ \\\\core\\\\event\\\\dashboard_viewed                │ core      │\n⋮\n│ 40664 │ 84     │ \\\\core\\\\event\\\\course_viewed                   │ core      │\n│ 40665 │ 84     │ \\\\core\\\\event\\\\dashboard_viewed                │ core      │\n│ 40666 │ 84     │ \\\\core\\\\event\\\\course_viewed                   │ core      │\n│ 40667 │ 112    │ \\\\core\\\\event\\\\user_loggedin                   │ core      │\n│ 40668 │ 112    │ \\\\core\\\\event\\\\dashboard_viewed                │ core      │\n│ 40669 │ 112    │ \\\\core\\\\event\\\\course_viewed                   │ core      │\n│ 40670 │ 112    │ \\\\core\\\\event\\\\course_viewed                   │ core      │\n│ 40671 │ 112    │ \\\\core\\\\event\\\\course_viewed                   │ core      │\n│ 40672 │ 112    │ \\\\mod_scorm\\\\event\\\\course_module_viewed       │ mod_scorm │\n│ 40673 │ 112    │ \\\\mod_scorm\\\\event\\\\course_module_viewed       │ mod_scorm │\n│ 40674 │ 112    │ \\\\mod_scorm\\\\event\\\\sco_launched               │ mod_scorm │",
            "text/html": "<table class=\"data-frame\"><thead><tr><th></th><th>userid</th><th>eventname</th><th>component</th><th>action</th><th>target</th></tr><tr><th></th><th>Int64</th><th>String</th><th>String</th><th>String</th><th>String</th></tr></thead><tbody><p>40,674 rows × 11 columns (omitted printing of 6 columns)</p><tr><th>1</th><td>78</td><td>\\\\giant\\\\event\\\\extended_challenge_team_viewed</td><td>giant</td><td>viewed</td><td>extended_challenge_team</td></tr><tr><th>2</th><td>141</td><td>\\\\core\\\\event\\\\user_login_failed</td><td>core</td><td>failed</td><td>user_login</td></tr><tr><th>3</th><td>141</td><td>\\\\core\\\\event\\\\user_loggedin</td><td>core</td><td>loggedin</td><td>user</td></tr><tr><th>4</th><td>141</td><td>\\\\core\\\\event\\\\dashboard_viewed</td><td>core</td><td>viewed</td><td>dashboard</td></tr><tr><th>5</th><td>141</td><td>\\\\core\\\\event\\\\course_viewed</td><td>core</td><td>viewed</td><td>course</td></tr><tr><th>6</th><td>141</td><td>\\\\core\\\\event\\\\course_viewed</td><td>core</td><td>viewed</td><td>course</td></tr><tr><th>7</th><td>141</td><td>\\\\core\\\\event\\\\dashboard_viewed</td><td>core</td><td>viewed</td><td>dashboard</td></tr><tr><th>8</th><td>141</td><td>\\\\core\\\\event\\\\dashboard_viewed</td><td>core</td><td>viewed</td><td>dashboard</td></tr><tr><th>9</th><td>48</td><td>\\\\core\\\\event\\\\user_loggedin</td><td>core</td><td>loggedin</td><td>user</td></tr><tr><th>10</th><td>48</td><td>\\\\core\\\\event\\\\dashboard_viewed</td><td>core</td><td>viewed</td><td>dashboard</td></tr><tr><th>11</th><td>139</td><td>\\\\core\\\\event\\\\user_loggedin</td><td>core</td><td>loggedin</td><td>user</td></tr><tr><th>12</th><td>139</td><td>\\\\core\\\\event\\\\dashboard_viewed</td><td>core</td><td>viewed</td><td>dashboard</td></tr><tr><th>13</th><td>48</td><td>\\\\core\\\\event\\\\user_profile_viewed</td><td>core</td><td>viewed</td><td>user_profile</td></tr><tr><th>14</th><td>139</td><td>\\\\core\\\\event\\\\course_viewed</td><td>core</td><td>viewed</td><td>course</td></tr><tr><th>15</th><td>139</td><td>\\\\core\\\\event\\\\course_viewed</td><td>core</td><td>viewed</td><td>course</td></tr><tr><th>16</th><td>139</td><td>\\\\mod_scorm\\\\event\\\\course_module_viewed</td><td>mod_scorm</td><td>viewed</td><td>course_module</td></tr><tr><th>17</th><td>139</td><td>\\\\mod_scorm\\\\event\\\\course_module_viewed</td><td>mod_scorm</td><td>viewed</td><td>course_module</td></tr><tr><th>18</th><td>139</td><td>\\\\mod_scorm\\\\event\\\\sco_launched</td><td>mod_scorm</td><td>launched</td><td>sco</td></tr><tr><th>19</th><td>63</td><td>\\\\core\\\\event\\\\user_loggedin</td><td>core</td><td>loggedin</td><td>user</td></tr><tr><th>20</th><td>63</td><td>\\\\core\\\\event\\\\dashboard_viewed</td><td>core</td><td>viewed</td><td>dashboard</td></tr><tr><th>21</th><td>63</td><td>\\\\core\\\\event\\\\course_viewed</td><td>core</td><td>viewed</td><td>course</td></tr><tr><th>22</th><td>141</td><td>\\\\core\\\\event\\\\dashboard_viewed</td><td>core</td><td>viewed</td><td>dashboard</td></tr><tr><th>23</th><td>141</td><td>\\\\core\\\\event\\\\course_viewed</td><td>core</td><td>viewed</td><td>course</td></tr><tr><th>24</th><td>141</td><td>\\\\core\\\\event\\\\course_viewed</td><td>core</td><td>viewed</td><td>course</td></tr><tr><th>25</th><td>141</td><td>\\\\core\\\\event\\\\course_viewed</td><td>core</td><td>viewed</td><td>course</td></tr><tr><th>26</th><td>63</td><td>\\\\core\\\\event\\\\course_viewed</td><td>core</td><td>viewed</td><td>course</td></tr><tr><th>27</th><td>63</td><td>\\\\mod_scorm\\\\event\\\\course_module_viewed</td><td>mod_scorm</td><td>viewed</td><td>course_module</td></tr><tr><th>28</th><td>63</td><td>\\\\mod_scorm\\\\event\\\\course_module_viewed</td><td>mod_scorm</td><td>viewed</td><td>course_module</td></tr><tr><th>29</th><td>63</td><td>\\\\mod_scorm\\\\event\\\\sco_launched</td><td>mod_scorm</td><td>launched</td><td>sco</td></tr><tr><th>30</th><td>48</td><td>\\\\core\\\\event\\\\dashboard_viewed</td><td>core</td><td>viewed</td><td>dashboard</td></tr><tr><th>&vellip;</th><td>&vellip;</td><td>&vellip;</td><td>&vellip;</td><td>&vellip;</td><td>&vellip;</td></tr></tbody></table>",
            "text/latex": "\\begin{tabular}{r|cccccc}\n\t& userid & eventname & component & action & target & \\\\\n\t\\hline\n\t& Int64 & String & String & String & String & \\\\\n\t\\hline\n\t1 & 78 & \\textbackslash{}\\textbackslash{}giant\\textbackslash{}\\textbackslash{}event\\textbackslash{}\\textbackslash{}extended\\_challenge\\_team\\_viewed & giant & viewed & extended\\_challenge\\_team & $\\dots$ \\\\\n\t2 & 141 & \\textbackslash{}\\textbackslash{}core\\textbackslash{}\\textbackslash{}event\\textbackslash{}\\textbackslash{}user\\_login\\_failed & core & failed & user\\_login & $\\dots$ \\\\\n\t3 & 141 & \\textbackslash{}\\textbackslash{}core\\textbackslash{}\\textbackslash{}event\\textbackslash{}\\textbackslash{}user\\_loggedin & core & loggedin & user & $\\dots$ \\\\\n\t4 & 141 & \\textbackslash{}\\textbackslash{}core\\textbackslash{}\\textbackslash{}event\\textbackslash{}\\textbackslash{}dashboard\\_viewed & core & viewed & dashboard & $\\dots$ \\\\\n\t5 & 141 & \\textbackslash{}\\textbackslash{}core\\textbackslash{}\\textbackslash{}event\\textbackslash{}\\textbackslash{}course\\_viewed & core & viewed & course & $\\dots$ \\\\\n\t6 & 141 & \\textbackslash{}\\textbackslash{}core\\textbackslash{}\\textbackslash{}event\\textbackslash{}\\textbackslash{}course\\_viewed & core & viewed & course & $\\dots$ \\\\\n\t7 & 141 & \\textbackslash{}\\textbackslash{}core\\textbackslash{}\\textbackslash{}event\\textbackslash{}\\textbackslash{}dashboard\\_viewed & core & viewed & dashboard & $\\dots$ \\\\\n\t8 & 141 & \\textbackslash{}\\textbackslash{}core\\textbackslash{}\\textbackslash{}event\\textbackslash{}\\textbackslash{}dashboard\\_viewed & core & viewed & dashboard & $\\dots$ \\\\\n\t9 & 48 & \\textbackslash{}\\textbackslash{}core\\textbackslash{}\\textbackslash{}event\\textbackslash{}\\textbackslash{}user\\_loggedin & core & loggedin & user & $\\dots$ \\\\\n\t10 & 48 & \\textbackslash{}\\textbackslash{}core\\textbackslash{}\\textbackslash{}event\\textbackslash{}\\textbackslash{}dashboard\\_viewed & core & viewed & dashboard & $\\dots$ \\\\\n\t11 & 139 & \\textbackslash{}\\textbackslash{}core\\textbackslash{}\\textbackslash{}event\\textbackslash{}\\textbackslash{}user\\_loggedin & core & loggedin & user & $\\dots$ \\\\\n\t12 & 139 & \\textbackslash{}\\textbackslash{}core\\textbackslash{}\\textbackslash{}event\\textbackslash{}\\textbackslash{}dashboard\\_viewed & core & viewed & dashboard & $\\dots$ \\\\\n\t13 & 48 & \\textbackslash{}\\textbackslash{}core\\textbackslash{}\\textbackslash{}event\\textbackslash{}\\textbackslash{}user\\_profile\\_viewed & core & viewed & user\\_profile & $\\dots$ \\\\\n\t14 & 139 & \\textbackslash{}\\textbackslash{}core\\textbackslash{}\\textbackslash{}event\\textbackslash{}\\textbackslash{}course\\_viewed & core & viewed & course & $\\dots$ \\\\\n\t15 & 139 & \\textbackslash{}\\textbackslash{}core\\textbackslash{}\\textbackslash{}event\\textbackslash{}\\textbackslash{}course\\_viewed & core & viewed & course & $\\dots$ \\\\\n\t16 & 139 & \\textbackslash{}\\textbackslash{}mod\\_scorm\\textbackslash{}\\textbackslash{}event\\textbackslash{}\\textbackslash{}course\\_module\\_viewed & mod\\_scorm & viewed & course\\_module & $\\dots$ \\\\\n\t17 & 139 & \\textbackslash{}\\textbackslash{}mod\\_scorm\\textbackslash{}\\textbackslash{}event\\textbackslash{}\\textbackslash{}course\\_module\\_viewed & mod\\_scorm & viewed & course\\_module & $\\dots$ \\\\\n\t18 & 139 & \\textbackslash{}\\textbackslash{}mod\\_scorm\\textbackslash{}\\textbackslash{}event\\textbackslash{}\\textbackslash{}sco\\_launched & mod\\_scorm & launched & sco & $\\dots$ \\\\\n\t19 & 63 & \\textbackslash{}\\textbackslash{}core\\textbackslash{}\\textbackslash{}event\\textbackslash{}\\textbackslash{}user\\_loggedin & core & loggedin & user & $\\dots$ \\\\\n\t20 & 63 & \\textbackslash{}\\textbackslash{}core\\textbackslash{}\\textbackslash{}event\\textbackslash{}\\textbackslash{}dashboard\\_viewed & core & viewed & dashboard & $\\dots$ \\\\\n\t21 & 63 & \\textbackslash{}\\textbackslash{}core\\textbackslash{}\\textbackslash{}event\\textbackslash{}\\textbackslash{}course\\_viewed & core & viewed & course & $\\dots$ \\\\\n\t22 & 141 & \\textbackslash{}\\textbackslash{}core\\textbackslash{}\\textbackslash{}event\\textbackslash{}\\textbackslash{}dashboard\\_viewed & core & viewed & dashboard & $\\dots$ \\\\\n\t23 & 141 & \\textbackslash{}\\textbackslash{}core\\textbackslash{}\\textbackslash{}event\\textbackslash{}\\textbackslash{}course\\_viewed & core & viewed & course & $\\dots$ \\\\\n\t24 & 141 & \\textbackslash{}\\textbackslash{}core\\textbackslash{}\\textbackslash{}event\\textbackslash{}\\textbackslash{}course\\_viewed & core & viewed & course & $\\dots$ \\\\\n\t25 & 141 & \\textbackslash{}\\textbackslash{}core\\textbackslash{}\\textbackslash{}event\\textbackslash{}\\textbackslash{}course\\_viewed & core & viewed & course & $\\dots$ \\\\\n\t26 & 63 & \\textbackslash{}\\textbackslash{}core\\textbackslash{}\\textbackslash{}event\\textbackslash{}\\textbackslash{}course\\_viewed & core & viewed & course & $\\dots$ \\\\\n\t27 & 63 & \\textbackslash{}\\textbackslash{}mod\\_scorm\\textbackslash{}\\textbackslash{}event\\textbackslash{}\\textbackslash{}course\\_module\\_viewed & mod\\_scorm & viewed & course\\_module & $\\dots$ \\\\\n\t28 & 63 & \\textbackslash{}\\textbackslash{}mod\\_scorm\\textbackslash{}\\textbackslash{}event\\textbackslash{}\\textbackslash{}course\\_module\\_viewed & mod\\_scorm & viewed & course\\_module & $\\dots$ \\\\\n\t29 & 63 & \\textbackslash{}\\textbackslash{}mod\\_scorm\\textbackslash{}\\textbackslash{}event\\textbackslash{}\\textbackslash{}sco\\_launched & mod\\_scorm & launched & sco & $\\dots$ \\\\\n\t30 & 48 & \\textbackslash{}\\textbackslash{}core\\textbackslash{}\\textbackslash{}event\\textbackslash{}\\textbackslash{}dashboard\\_viewed & core & viewed & dashboard & $\\dots$ \\\\\n\t$\\dots$ & $\\dots$ & $\\dots$ & $\\dots$ & $\\dots$ & $\\dots$ &  \\\\\n\\end{tabular}\n"
          },
          "metadata": {}
        }
      ],
      "execution_count": 13,
      "metadata": {
        "collapsed": true,
        "jupyter": {
          "source_hidden": false,
          "outputs_hidden": false
        },
        "nteract": {
          "transient": {
            "deleting": false
          }
        },
        "execution": {
          "iopub.status.busy": "2020-11-30T06:26:12.908Z",
          "iopub.execute_input": "2020-11-30T06:26:12.933Z",
          "iopub.status.idle": "2020-11-30T06:26:12.990Z"
        }
      }
    },
    {
      "cell_type": "code",
      "source": [
        "names(featureDataFrame)"
      ],
      "outputs": [
        {
          "output_type": "execute_result",
          "execution_count": 14,
          "data": {
            "text/plain": "11-element Array{String,1}:\n \"userid\"\n \"eventname\"\n \"component\"\n \"action\"\n \"target\"\n \"year\"\n \"month\"\n \"day\"\n \"hour\"\n \"minute\"\n \"second\""
          },
          "metadata": {}
        }
      ],
      "execution_count": 14,
      "metadata": {
        "collapsed": true,
        "jupyter": {
          "source_hidden": false,
          "outputs_hidden": false
        },
        "nteract": {
          "transient": {
            "deleting": false
          }
        },
        "execution": {
          "iopub.status.busy": "2020-11-30T06:26:16.312Z",
          "iopub.execute_input": "2020-11-30T06:26:16.338Z",
          "iopub.status.idle": "2020-11-30T06:26:16.394Z"
        }
      }
    },
    {
      "cell_type": "code",
      "source": [
        "#Exportando a formato CSV el nuevo conjunto de datos para el proceso de análisis de extracción de características\n",
        "CSV.write(\"data_giant_feature_engineering.csv\", featureDataFrame)"
      ],
      "outputs": [
        {
          "output_type": "execute_result",
          "execution_count": 15,
          "data": {
            "text/plain": "\"data_giant_feature_engineering.csv\""
          },
          "metadata": {}
        }
      ],
      "execution_count": 15,
      "metadata": {
        "collapsed": true,
        "jupyter": {
          "source_hidden": false,
          "outputs_hidden": false
        },
        "nteract": {
          "transient": {
            "deleting": false
          }
        },
        "execution": {
          "iopub.status.busy": "2020-11-30T06:26:18.687Z",
          "iopub.execute_input": "2020-11-30T06:26:18.711Z",
          "iopub.status.idle": "2020-11-30T06:26:20.124Z"
        }
      }
    },
    {
      "cell_type": "code",
      "source": [
        "#IDENTIFICANDO CATEGORIAS de la variable action\n",
        "actionID = unique(featureDataFrame[!,:action]);"
      ],
      "outputs": [],
      "execution_count": 16,
      "metadata": {
        "collapsed": true,
        "jupyter": {
          "source_hidden": false,
          "outputs_hidden": false
        },
        "nteract": {
          "transient": {
            "deleting": false
          }
        },
        "execution": {
          "iopub.status.busy": "2020-11-30T06:26:22.228Z",
          "iopub.execute_input": "2020-11-30T06:26:22.252Z",
          "iopub.status.idle": "2020-11-30T06:26:22.292Z"
        }
      }
    },
    {
      "cell_type": "code",
      "source": [
        "# Obteniendo los tipos de acciones que ejecutan los usuarios y asignándoles un identificador a cada acción\n",
        "featureDataFrame[!,:action]=replace(featureDataFrame[!,:action], Pair.(actionID, axes(actionID, 1))...);"
      ],
      "outputs": [],
      "execution_count": 17,
      "metadata": {
        "collapsed": true,
        "jupyter": {
          "source_hidden": false,
          "outputs_hidden": false
        },
        "nteract": {
          "transient": {
            "deleting": false
          }
        },
        "execution": {
          "iopub.status.busy": "2020-11-30T06:26:24.590Z",
          "iopub.execute_input": "2020-11-30T06:26:24.615Z",
          "iopub.status.idle": "2020-11-30T06:26:24.802Z"
        }
      }
    },
    {
      "cell_type": "code",
      "source": [
        "# Agrupando los usuarios de acuerdo a la acción realizada\n",
        "groupbyAction = groupby(featureDataFrame, :action);\n",
        "# Obteniendo la cantidad de acciones según su tipo\n",
        "actionDataFrameCount=combine(groupbyAction, :action => sum)"
      ],
      "outputs": [
        {
          "output_type": "execute_result",
          "execution_count": 18,
          "data": {
            "text/plain": "28×2 DataFrame\n│ Row │ action │ action_sum │\n│     │ \u001b[90mAny\u001b[39m    │ \u001b[90mInt64\u001b[39m      │\n├─────┼────────┼────────────┤\n│ 1   │ 1      │ 28578      │\n│ 2   │ 2      │ 1122       │\n│ 3   │ 3      │ 4293       │\n│ 4   │ 4      │ 9424       │\n│ 5   │ 5      │ 1510       │\n│ 6   │ 6      │ 1800       │\n│ 7   │ 7      │ 12628      │\n│ 8   │ 8      │ 3904       │\n│ 9   │ 9      │ 3033       │\n│ 10  │ 10     │ 390        │\n⋮\n│ 18  │ 18     │ 3546       │\n│ 19  │ 19     │ 2033       │\n│ 20  │ 20     │ 2120       │\n│ 21  │ 21     │ 777        │\n│ 22  │ 22     │ 110        │\n│ 23  │ 23     │ 805        │\n│ 24  │ 24     │ 384        │\n│ 25  │ 25     │ 600        │\n│ 26  │ 26     │ 52         │\n│ 27  │ 27     │ 81         │\n│ 28  │ 28     │ 28         │",
            "text/html": "<table class=\"data-frame\"><thead><tr><th></th><th>action</th><th>action_sum</th></tr><tr><th></th><th>Any</th><th>Int64</th></tr></thead><tbody><p>28 rows × 2 columns</p><tr><th>1</th><td>1</td><td>28578</td></tr><tr><th>2</th><td>2</td><td>1122</td></tr><tr><th>3</th><td>3</td><td>4293</td></tr><tr><th>4</th><td>4</td><td>9424</td></tr><tr><th>5</th><td>5</td><td>1510</td></tr><tr><th>6</th><td>6</td><td>1800</td></tr><tr><th>7</th><td>7</td><td>12628</td></tr><tr><th>8</th><td>8</td><td>3904</td></tr><tr><th>9</th><td>9</td><td>3033</td></tr><tr><th>10</th><td>10</td><td>390</td></tr><tr><th>11</th><td>11</td><td>7392</td></tr><tr><th>12</th><td>12</td><td>8400</td></tr><tr><th>13</th><td>13</td><td>22919</td></tr><tr><th>14</th><td>14</td><td>7560</td></tr><tr><th>15</th><td>15</td><td>2010</td></tr><tr><th>16</th><td>16</td><td>32</td></tr><tr><th>17</th><td>17</td><td>2278</td></tr><tr><th>18</th><td>18</td><td>3546</td></tr><tr><th>19</th><td>19</td><td>2033</td></tr><tr><th>20</th><td>20</td><td>2120</td></tr><tr><th>21</th><td>21</td><td>777</td></tr><tr><th>22</th><td>22</td><td>110</td></tr><tr><th>23</th><td>23</td><td>805</td></tr><tr><th>24</th><td>24</td><td>384</td></tr><tr><th>25</th><td>25</td><td>600</td></tr><tr><th>26</th><td>26</td><td>52</td></tr><tr><th>27</th><td>27</td><td>81</td></tr><tr><th>28</th><td>28</td><td>28</td></tr></tbody></table>",
            "text/latex": "\\begin{tabular}{r|cc}\n\t& action & action\\_sum\\\\\n\t\\hline\n\t& Any & Int64\\\\\n\t\\hline\n\t1 & 1 & 28578 \\\\\n\t2 & 2 & 1122 \\\\\n\t3 & 3 & 4293 \\\\\n\t4 & 4 & 9424 \\\\\n\t5 & 5 & 1510 \\\\\n\t6 & 6 & 1800 \\\\\n\t7 & 7 & 12628 \\\\\n\t8 & 8 & 3904 \\\\\n\t9 & 9 & 3033 \\\\\n\t10 & 10 & 390 \\\\\n\t11 & 11 & 7392 \\\\\n\t12 & 12 & 8400 \\\\\n\t13 & 13 & 22919 \\\\\n\t14 & 14 & 7560 \\\\\n\t15 & 15 & 2010 \\\\\n\t16 & 16 & 32 \\\\\n\t17 & 17 & 2278 \\\\\n\t18 & 18 & 3546 \\\\\n\t19 & 19 & 2033 \\\\\n\t20 & 20 & 2120 \\\\\n\t21 & 21 & 777 \\\\\n\t22 & 22 & 110 \\\\\n\t23 & 23 & 805 \\\\\n\t24 & 24 & 384 \\\\\n\t25 & 25 & 600 \\\\\n\t26 & 26 & 52 \\\\\n\t27 & 27 & 81 \\\\\n\t28 & 28 & 28 \\\\\n\\end{tabular}\n"
          },
          "metadata": {}
        }
      ],
      "execution_count": 18,
      "metadata": {
        "collapsed": true,
        "jupyter": {
          "source_hidden": false,
          "outputs_hidden": false
        },
        "nteract": {
          "transient": {
            "deleting": false
          }
        },
        "execution": {
          "iopub.status.busy": "2020-11-30T06:26:26.716Z",
          "iopub.execute_input": "2020-11-30T06:26:26.748Z",
          "iopub.status.idle": "2020-11-30T06:26:32.797Z"
        }
      }
    },
    {
      "cell_type": "code",
      "source": [
        "#Agregando el nombre de la acción al actionDataFrame\n",
        "insert!(actionDataFrameCount, 2, actionID, :action_name)"
      ],
      "outputs": [
        {
          "output_type": "stream",
          "name": "stderr",
          "text": [
            "┌ Warning: `insert!(df::DataFrame, col_ind::Int, item, name::Symbol; makeunique::Bool = false)` is deprecated, use `insertcols!(df, col_ind, name => item; makeunique = makeunique)` instead.\n",
            "│   caller = top-level scope at In[19]:1\n",
            "└ @ Core In[19]:1\n"
          ]
        },
        {
          "output_type": "execute_result",
          "execution_count": 19,
          "data": {
            "text/plain": "28×3 DataFrame\n│ Row │ action │ action_name │ action_sum │\n│     │ \u001b[90mAny\u001b[39m    │ \u001b[90mString\u001b[39m      │ \u001b[90mInt64\u001b[39m      │\n├─────┼────────┼─────────────┼────────────┤\n│ 1   │ 1      │ viewed      │ 28578      │\n│ 2   │ 2      │ failed      │ 1122       │\n│ 3   │ 3      │ loggedin    │ 4293       │\n│ 4   │ 4      │ launched    │ 9424       │\n│ 5   │ 5      │ started     │ 1510       │\n│ 6   │ 6      │ loggedout   │ 1800       │\n│ 7   │ 7      │ updated     │ 12628      │\n│ 8   │ 8      │ liked       │ 3904       │\n│ 9   │ 9      │ commented   │ 3033       │\n│ 10  │ 10     │ selected    │ 390        │\n⋮\n│ 18  │ 18     │ resumed     │ 3546       │\n│ 19  │ 19     │ uploaded    │ 2033       │\n│ 20  │ 20     │ unliked     │ 2120       │\n│ 21  │ 21     │ restarted   │ 777        │\n│ 22  │ 22     │ reset       │ 110        │\n│ 23  │ 23     │ assigned    │ 805        │\n│ 24  │ 24     │ deleted     │ 384        │\n│ 25  │ 25     │ leveledup   │ 600        │\n│ 26  │ 26     │ unassigned  │ 52         │\n│ 27  │ 27     │ searched    │ 81         │\n│ 28  │ 28     │ loggedinas  │ 28         │",
            "text/html": "<table class=\"data-frame\"><thead><tr><th></th><th>action</th><th>action_name</th><th>action_sum</th></tr><tr><th></th><th>Any</th><th>String</th><th>Int64</th></tr></thead><tbody><p>28 rows × 3 columns</p><tr><th>1</th><td>1</td><td>viewed</td><td>28578</td></tr><tr><th>2</th><td>2</td><td>failed</td><td>1122</td></tr><tr><th>3</th><td>3</td><td>loggedin</td><td>4293</td></tr><tr><th>4</th><td>4</td><td>launched</td><td>9424</td></tr><tr><th>5</th><td>5</td><td>started</td><td>1510</td></tr><tr><th>6</th><td>6</td><td>loggedout</td><td>1800</td></tr><tr><th>7</th><td>7</td><td>updated</td><td>12628</td></tr><tr><th>8</th><td>8</td><td>liked</td><td>3904</td></tr><tr><th>9</th><td>9</td><td>commented</td><td>3033</td></tr><tr><th>10</th><td>10</td><td>selected</td><td>390</td></tr><tr><th>11</th><td>11</td><td>graded</td><td>7392</td></tr><tr><th>12</th><td>12</td><td>submitted</td><td>8400</td></tr><tr><th>13</th><td>13</td><td>created</td><td>22919</td></tr><tr><th>14</th><td>14</td><td>Scored</td><td>7560</td></tr><tr><th>15</th><td>15</td><td>sent</td><td>2010</td></tr><tr><th>16</th><td>16</td><td>added</td><td>32</td></tr><tr><th>17</th><td>17</td><td>ended</td><td>2278</td></tr><tr><th>18</th><td>18</td><td>resumed</td><td>3546</td></tr><tr><th>19</th><td>19</td><td>uploaded</td><td>2033</td></tr><tr><th>20</th><td>20</td><td>unliked</td><td>2120</td></tr><tr><th>21</th><td>21</td><td>restarted</td><td>777</td></tr><tr><th>22</th><td>22</td><td>reset</td><td>110</td></tr><tr><th>23</th><td>23</td><td>assigned</td><td>805</td></tr><tr><th>24</th><td>24</td><td>deleted</td><td>384</td></tr><tr><th>25</th><td>25</td><td>leveledup</td><td>600</td></tr><tr><th>26</th><td>26</td><td>unassigned</td><td>52</td></tr><tr><th>27</th><td>27</td><td>searched</td><td>81</td></tr><tr><th>28</th><td>28</td><td>loggedinas</td><td>28</td></tr></tbody></table>",
            "text/latex": "\\begin{tabular}{r|ccc}\n\t& action & action\\_name & action\\_sum\\\\\n\t\\hline\n\t& Any & String & Int64\\\\\n\t\\hline\n\t1 & 1 & viewed & 28578 \\\\\n\t2 & 2 & failed & 1122 \\\\\n\t3 & 3 & loggedin & 4293 \\\\\n\t4 & 4 & launched & 9424 \\\\\n\t5 & 5 & started & 1510 \\\\\n\t6 & 6 & loggedout & 1800 \\\\\n\t7 & 7 & updated & 12628 \\\\\n\t8 & 8 & liked & 3904 \\\\\n\t9 & 9 & commented & 3033 \\\\\n\t10 & 10 & selected & 390 \\\\\n\t11 & 11 & graded & 7392 \\\\\n\t12 & 12 & submitted & 8400 \\\\\n\t13 & 13 & created & 22919 \\\\\n\t14 & 14 & Scored & 7560 \\\\\n\t15 & 15 & sent & 2010 \\\\\n\t16 & 16 & added & 32 \\\\\n\t17 & 17 & ended & 2278 \\\\\n\t18 & 18 & resumed & 3546 \\\\\n\t19 & 19 & uploaded & 2033 \\\\\n\t20 & 20 & unliked & 2120 \\\\\n\t21 & 21 & restarted & 777 \\\\\n\t22 & 22 & reset & 110 \\\\\n\t23 & 23 & assigned & 805 \\\\\n\t24 & 24 & deleted & 384 \\\\\n\t25 & 25 & leveledup & 600 \\\\\n\t26 & 26 & unassigned & 52 \\\\\n\t27 & 27 & searched & 81 \\\\\n\t28 & 28 & loggedinas & 28 \\\\\n\\end{tabular}\n"
          },
          "metadata": {}
        }
      ],
      "execution_count": 19,
      "metadata": {
        "collapsed": true,
        "jupyter": {
          "source_hidden": false,
          "outputs_hidden": false
        },
        "nteract": {
          "transient": {
            "deleting": false
          }
        },
        "execution": {
          "iopub.status.busy": "2020-11-30T06:26:32.846Z",
          "iopub.execute_input": "2020-11-30T06:26:32.868Z",
          "iopub.status.idle": "2020-11-30T06:26:34.020Z"
        }
      }
    },
    {
      "cell_type": "code",
      "source": [
        "#Organizando la matriz de frecuencia de los eventos por identificador de usuario\n",
        "actionDataFrameCount=sort!(actionDataFrameCount, [:action_sum], rev= true)"
      ],
      "outputs": [
        {
          "output_type": "execute_result",
          "execution_count": 20,
          "data": {
            "text/plain": "28×3 DataFrame\n│ Row │ action │ action_name │ action_sum │\n│     │ \u001b[90mAny\u001b[39m    │ \u001b[90mString\u001b[39m      │ \u001b[90mInt64\u001b[39m      │\n├─────┼────────┼─────────────┼────────────┤\n│ 1   │ 1      │ viewed      │ 28578      │\n│ 2   │ 13     │ created     │ 22919      │\n│ 3   │ 7      │ updated     │ 12628      │\n│ 4   │ 4      │ launched    │ 9424       │\n│ 5   │ 12     │ submitted   │ 8400       │\n│ 6   │ 14     │ Scored      │ 7560       │\n│ 7   │ 11     │ graded      │ 7392       │\n│ 8   │ 3      │ loggedin    │ 4293       │\n│ 9   │ 8      │ liked       │ 3904       │\n│ 10  │ 18     │ resumed     │ 3546       │\n⋮\n│ 18  │ 2      │ failed      │ 1122       │\n│ 19  │ 23     │ assigned    │ 805        │\n│ 20  │ 21     │ restarted   │ 777        │\n│ 21  │ 25     │ leveledup   │ 600        │\n│ 22  │ 10     │ selected    │ 390        │\n│ 23  │ 24     │ deleted     │ 384        │\n│ 24  │ 22     │ reset       │ 110        │\n│ 25  │ 27     │ searched    │ 81         │\n│ 26  │ 26     │ unassigned  │ 52         │\n│ 27  │ 16     │ added       │ 32         │\n│ 28  │ 28     │ loggedinas  │ 28         │",
            "text/html": "<table class=\"data-frame\"><thead><tr><th></th><th>action</th><th>action_name</th><th>action_sum</th></tr><tr><th></th><th>Any</th><th>String</th><th>Int64</th></tr></thead><tbody><p>28 rows × 3 columns</p><tr><th>1</th><td>1</td><td>viewed</td><td>28578</td></tr><tr><th>2</th><td>13</td><td>created</td><td>22919</td></tr><tr><th>3</th><td>7</td><td>updated</td><td>12628</td></tr><tr><th>4</th><td>4</td><td>launched</td><td>9424</td></tr><tr><th>5</th><td>12</td><td>submitted</td><td>8400</td></tr><tr><th>6</th><td>14</td><td>Scored</td><td>7560</td></tr><tr><th>7</th><td>11</td><td>graded</td><td>7392</td></tr><tr><th>8</th><td>3</td><td>loggedin</td><td>4293</td></tr><tr><th>9</th><td>8</td><td>liked</td><td>3904</td></tr><tr><th>10</th><td>18</td><td>resumed</td><td>3546</td></tr><tr><th>11</th><td>9</td><td>commented</td><td>3033</td></tr><tr><th>12</th><td>17</td><td>ended</td><td>2278</td></tr><tr><th>13</th><td>20</td><td>unliked</td><td>2120</td></tr><tr><th>14</th><td>19</td><td>uploaded</td><td>2033</td></tr><tr><th>15</th><td>15</td><td>sent</td><td>2010</td></tr><tr><th>16</th><td>6</td><td>loggedout</td><td>1800</td></tr><tr><th>17</th><td>5</td><td>started</td><td>1510</td></tr><tr><th>18</th><td>2</td><td>failed</td><td>1122</td></tr><tr><th>19</th><td>23</td><td>assigned</td><td>805</td></tr><tr><th>20</th><td>21</td><td>restarted</td><td>777</td></tr><tr><th>21</th><td>25</td><td>leveledup</td><td>600</td></tr><tr><th>22</th><td>10</td><td>selected</td><td>390</td></tr><tr><th>23</th><td>24</td><td>deleted</td><td>384</td></tr><tr><th>24</th><td>22</td><td>reset</td><td>110</td></tr><tr><th>25</th><td>27</td><td>searched</td><td>81</td></tr><tr><th>26</th><td>26</td><td>unassigned</td><td>52</td></tr><tr><th>27</th><td>16</td><td>added</td><td>32</td></tr><tr><th>28</th><td>28</td><td>loggedinas</td><td>28</td></tr></tbody></table>",
            "text/latex": "\\begin{tabular}{r|ccc}\n\t& action & action\\_name & action\\_sum\\\\\n\t\\hline\n\t& Any & String & Int64\\\\\n\t\\hline\n\t1 & 1 & viewed & 28578 \\\\\n\t2 & 13 & created & 22919 \\\\\n\t3 & 7 & updated & 12628 \\\\\n\t4 & 4 & launched & 9424 \\\\\n\t5 & 12 & submitted & 8400 \\\\\n\t6 & 14 & Scored & 7560 \\\\\n\t7 & 11 & graded & 7392 \\\\\n\t8 & 3 & loggedin & 4293 \\\\\n\t9 & 8 & liked & 3904 \\\\\n\t10 & 18 & resumed & 3546 \\\\\n\t11 & 9 & commented & 3033 \\\\\n\t12 & 17 & ended & 2278 \\\\\n\t13 & 20 & unliked & 2120 \\\\\n\t14 & 19 & uploaded & 2033 \\\\\n\t15 & 15 & sent & 2010 \\\\\n\t16 & 6 & loggedout & 1800 \\\\\n\t17 & 5 & started & 1510 \\\\\n\t18 & 2 & failed & 1122 \\\\\n\t19 & 23 & assigned & 805 \\\\\n\t20 & 21 & restarted & 777 \\\\\n\t21 & 25 & leveledup & 600 \\\\\n\t22 & 10 & selected & 390 \\\\\n\t23 & 24 & deleted & 384 \\\\\n\t24 & 22 & reset & 110 \\\\\n\t25 & 27 & searched & 81 \\\\\n\t26 & 26 & unassigned & 52 \\\\\n\t27 & 16 & added & 32 \\\\\n\t28 & 28 & loggedinas & 28 \\\\\n\\end{tabular}\n"
          },
          "metadata": {}
        }
      ],
      "execution_count": 20,
      "metadata": {
        "collapsed": true,
        "jupyter": {
          "source_hidden": false,
          "outputs_hidden": false
        },
        "nteract": {
          "transient": {
            "deleting": false
          }
        },
        "execution": {
          "iopub.status.busy": "2020-11-30T06:26:37.041Z",
          "iopub.execute_input": "2020-11-30T06:26:37.071Z",
          "iopub.status.idle": "2020-11-30T06:26:37.744Z"
        }
      }
    },
    {
      "cell_type": "code",
      "source": [
        "x=actionDataFrameCount[1:10,:action_name]\n",
        "y=actionDataFrameCount[1:10,:action_sum]\n",
        "plot(x, y, seriestype = :bar, size=(700,300), title = \"Actions most performed by users\", legend=false, orientation=:h, yflip=true)"
      ],
      "outputs": [
        {
          "output_type": "execute_result",
          "execution_count": 21,
          "data": {
            "image/svg+xml": "<?xml version=\"1.0\" encoding=\"utf-8\"?>\n<svg xmlns=\"http://www.w3.org/2000/svg\" xmlns:xlink=\"http://www.w3.org/1999/xlink\" width=\"700\" height=\"300\" viewBox=\"0 0 2800 1200\">\n<defs>\n  <clipPath id=\"clip1500\">\n    <rect x=\"0\" y=\"0\" width=\"2800\" height=\"1200\"/>\n  </clipPath>\n</defs>\n<path clip-path=\"url(#clip1500)\" d=\"\nM0 1200 L2800 1200 L2800 0 L0 0  Z\n  \" fill=\"#ffffff\" fill-rule=\"evenodd\" fill-opacity=\"1\"/>\n<defs>\n  <clipPath id=\"clip1501\">\n    <rect x=\"560\" y=\"0\" width=\"1961\" height=\"1200\"/>\n  </clipPath>\n</defs>\n<path clip-path=\"url(#clip1500)\" d=\"\nM295.652 1087.47 L2752.76 1087.47 L2752.76 121.675 L295.652 121.675  Z\n  \" fill=\"#ffffff\" fill-rule=\"evenodd\" fill-opacity=\"1\"/>\n<defs>\n  <clipPath id=\"clip1502\">\n    <rect x=\"295\" y=\"121\" width=\"2458\" height=\"967\"/>\n  </clipPath>\n</defs>\n<polyline clip-path=\"url(#clip1502)\" style=\"stroke:#000000; stroke-width:2; stroke-opacity:0.1; fill:none\" points=\"\n  365.192,121.675 365.192,1087.47 \n  \"/>\n<polyline clip-path=\"url(#clip1502)\" style=\"stroke:#000000; stroke-width:2; stroke-opacity:0.1; fill:none\" points=\"\n  770.753,121.675 770.753,1087.47 \n  \"/>\n<polyline clip-path=\"url(#clip1502)\" style=\"stroke:#000000; stroke-width:2; stroke-opacity:0.1; fill:none\" points=\"\n  1176.31,121.675 1176.31,1087.47 \n  \"/>\n<polyline clip-path=\"url(#clip1502)\" style=\"stroke:#000000; stroke-width:2; stroke-opacity:0.1; fill:none\" points=\"\n  1581.87,121.675 1581.87,1087.47 \n  \"/>\n<polyline clip-path=\"url(#clip1502)\" style=\"stroke:#000000; stroke-width:2; stroke-opacity:0.1; fill:none\" points=\"\n  1987.44,121.675 1987.44,1087.47 \n  \"/>\n<polyline clip-path=\"url(#clip1502)\" style=\"stroke:#000000; stroke-width:2; stroke-opacity:0.1; fill:none\" points=\"\n  2393,121.675 2393,1087.47 \n  \"/>\n<polyline clip-path=\"url(#clip1502)\" style=\"stroke:#000000; stroke-width:2; stroke-opacity:0.1; fill:none\" points=\"\n  295.652,209.88 2752.76,209.88 \n  \"/>\n<polyline clip-path=\"url(#clip1502)\" style=\"stroke:#000000; stroke-width:2; stroke-opacity:0.1; fill:none\" points=\"\n  295.652,297.59 2752.76,297.59 \n  \"/>\n<polyline clip-path=\"url(#clip1502)\" style=\"stroke:#000000; stroke-width:2; stroke-opacity:0.1; fill:none\" points=\"\n  295.652,385.3 2752.76,385.3 \n  \"/>\n<polyline clip-path=\"url(#clip1502)\" style=\"stroke:#000000; stroke-width:2; stroke-opacity:0.1; fill:none\" points=\"\n  295.652,473.01 2752.76,473.01 \n  \"/>\n<polyline clip-path=\"url(#clip1502)\" style=\"stroke:#000000; stroke-width:2; stroke-opacity:0.1; fill:none\" points=\"\n  295.652,560.72 2752.76,560.72 \n  \"/>\n<polyline clip-path=\"url(#clip1502)\" style=\"stroke:#000000; stroke-width:2; stroke-opacity:0.1; fill:none\" points=\"\n  295.652,648.43 2752.76,648.43 \n  \"/>\n<polyline clip-path=\"url(#clip1502)\" style=\"stroke:#000000; stroke-width:2; stroke-opacity:0.1; fill:none\" points=\"\n  295.652,736.14 2752.76,736.14 \n  \"/>\n<polyline clip-path=\"url(#clip1502)\" style=\"stroke:#000000; stroke-width:2; stroke-opacity:0.1; fill:none\" points=\"\n  295.652,823.85 2752.76,823.85 \n  \"/>\n<polyline clip-path=\"url(#clip1502)\" style=\"stroke:#000000; stroke-width:2; stroke-opacity:0.1; fill:none\" points=\"\n  295.652,911.56 2752.76,911.56 \n  \"/>\n<polyline clip-path=\"url(#clip1502)\" style=\"stroke:#000000; stroke-width:2; stroke-opacity:0.1; fill:none\" points=\"\n  295.652,999.27 2752.76,999.27 \n  \"/>\n<polyline clip-path=\"url(#clip1500)\" style=\"stroke:#000000; stroke-width:4; stroke-opacity:1; fill:none\" points=\"\n  295.652,1087.47 2752.76,1087.47 \n  \"/>\n<polyline clip-path=\"url(#clip1500)\" style=\"stroke:#000000; stroke-width:4; stroke-opacity:1; fill:none\" points=\"\n  295.652,121.675 295.652,1087.47 \n  \"/>\n<polyline clip-path=\"url(#clip1500)\" style=\"stroke:#000000; stroke-width:4; stroke-opacity:1; fill:none\" points=\"\n  365.192,1087.47 365.192,1075.89 \n  \"/>\n<polyline clip-path=\"url(#clip1500)\" style=\"stroke:#000000; stroke-width:4; stroke-opacity:1; fill:none\" points=\"\n  770.753,1087.47 770.753,1075.89 \n  \"/>\n<polyline clip-path=\"url(#clip1500)\" style=\"stroke:#000000; stroke-width:4; stroke-opacity:1; fill:none\" points=\"\n  1176.31,1087.47 1176.31,1075.89 \n  \"/>\n<polyline clip-path=\"url(#clip1500)\" style=\"stroke:#000000; stroke-width:4; stroke-opacity:1; fill:none\" points=\"\n  1581.87,1087.47 1581.87,1075.89 \n  \"/>\n<polyline clip-path=\"url(#clip1500)\" style=\"stroke:#000000; stroke-width:4; stroke-opacity:1; fill:none\" points=\"\n  1987.44,1087.47 1987.44,1075.89 \n  \"/>\n<polyline clip-path=\"url(#clip1500)\" style=\"stroke:#000000; stroke-width:4; stroke-opacity:1; fill:none\" points=\"\n  2393,1087.47 2393,1075.89 \n  \"/>\n<polyline clip-path=\"url(#clip1500)\" style=\"stroke:#000000; stroke-width:4; stroke-opacity:1; fill:none\" points=\"\n  295.652,209.88 325.137,209.88 \n  \"/>\n<polyline clip-path=\"url(#clip1500)\" style=\"stroke:#000000; stroke-width:4; stroke-opacity:1; fill:none\" points=\"\n  295.652,297.59 325.137,297.59 \n  \"/>\n<polyline clip-path=\"url(#clip1500)\" style=\"stroke:#000000; stroke-width:4; stroke-opacity:1; fill:none\" points=\"\n  295.652,385.3 325.137,385.3 \n  \"/>\n<polyline clip-path=\"url(#clip1500)\" style=\"stroke:#000000; stroke-width:4; stroke-opacity:1; fill:none\" points=\"\n  295.652,473.01 325.137,473.01 \n  \"/>\n<polyline clip-path=\"url(#clip1500)\" style=\"stroke:#000000; stroke-width:4; stroke-opacity:1; fill:none\" points=\"\n  295.652,560.72 325.137,560.72 \n  \"/>\n<polyline clip-path=\"url(#clip1500)\" style=\"stroke:#000000; stroke-width:4; stroke-opacity:1; fill:none\" points=\"\n  295.652,648.43 325.137,648.43 \n  \"/>\n<polyline clip-path=\"url(#clip1500)\" style=\"stroke:#000000; stroke-width:4; stroke-opacity:1; fill:none\" points=\"\n  295.652,736.14 325.137,736.14 \n  \"/>\n<polyline clip-path=\"url(#clip1500)\" style=\"stroke:#000000; stroke-width:4; stroke-opacity:1; fill:none\" points=\"\n  295.652,823.85 325.137,823.85 \n  \"/>\n<polyline clip-path=\"url(#clip1500)\" style=\"stroke:#000000; stroke-width:4; stroke-opacity:1; fill:none\" points=\"\n  295.652,911.56 325.137,911.56 \n  \"/>\n<polyline clip-path=\"url(#clip1500)\" style=\"stroke:#000000; stroke-width:4; stroke-opacity:1; fill:none\" points=\"\n  295.652,999.27 325.137,999.27 \n  \"/>\n<g clip-path=\"url(#clip1500)\">\n<text style=\"fill:#000000; fill-opacity:1; font-family:Arial,Helvetica Neue,Helvetica,sans-serif; font-size:48px; text-anchor:middle;\" transform=\"rotate(0, 365.192, 1143.47)\" x=\"365.192\" y=\"1143.47\">0</text>\n</g>\n<g clip-path=\"url(#clip1500)\">\n<text style=\"fill:#000000; fill-opacity:1; font-family:Arial,Helvetica Neue,Helvetica,sans-serif; font-size:48px; text-anchor:start;\" transform=\"rotate(0, 685.611, 1164.48)\" x=\"685.611\" y=\"1164.48\">5.0×10</text>\n</g>\n<g clip-path=\"url(#clip1500)\">\n<text style=\"fill:#000000; fill-opacity:1; font-family:Arial,Helvetica Neue,Helvetica,sans-serif; font-size:38px; text-anchor:start;\" transform=\"rotate(0, 834.151, 1137.07)\" x=\"834.151\" y=\"1137.07\">3</text>\n</g>\n<g clip-path=\"url(#clip1500)\">\n<text style=\"fill:#000000; fill-opacity:1; font-family:Arial,Helvetica Neue,Helvetica,sans-serif; font-size:48px; text-anchor:start;\" transform=\"rotate(0, 1091.17, 1164.48)\" x=\"1091.17\" y=\"1164.48\">1.0×10</text>\n</g>\n<g clip-path=\"url(#clip1500)\">\n<text style=\"fill:#000000; fill-opacity:1; font-family:Arial,Helvetica Neue,Helvetica,sans-serif; font-size:38px; text-anchor:start;\" transform=\"rotate(0, 1239.71, 1137.07)\" x=\"1239.71\" y=\"1137.07\">4</text>\n</g>\n<g clip-path=\"url(#clip1500)\">\n<text style=\"fill:#000000; fill-opacity:1; font-family:Arial,Helvetica Neue,Helvetica,sans-serif; font-size:48px; text-anchor:start;\" transform=\"rotate(0, 1496.73, 1164.48)\" x=\"1496.73\" y=\"1164.48\">1.5×10</text>\n</g>\n<g clip-path=\"url(#clip1500)\">\n<text style=\"fill:#000000; fill-opacity:1; font-family:Arial,Helvetica Neue,Helvetica,sans-serif; font-size:38px; text-anchor:start;\" transform=\"rotate(0, 1645.27, 1137.07)\" x=\"1645.27\" y=\"1137.07\">4</text>\n</g>\n<g clip-path=\"url(#clip1500)\">\n<text style=\"fill:#000000; fill-opacity:1; font-family:Arial,Helvetica Neue,Helvetica,sans-serif; font-size:48px; text-anchor:start;\" transform=\"rotate(0, 1902.29, 1164.48)\" x=\"1902.29\" y=\"1164.48\">2.0×10</text>\n</g>\n<g clip-path=\"url(#clip1500)\">\n<text style=\"fill:#000000; fill-opacity:1; font-family:Arial,Helvetica Neue,Helvetica,sans-serif; font-size:38px; text-anchor:start;\" transform=\"rotate(0, 2050.83, 1137.07)\" x=\"2050.83\" y=\"1137.07\">4</text>\n</g>\n<g clip-path=\"url(#clip1500)\">\n<text style=\"fill:#000000; fill-opacity:1; font-family:Arial,Helvetica Neue,Helvetica,sans-serif; font-size:48px; text-anchor:start;\" transform=\"rotate(0, 2307.85, 1164.48)\" x=\"2307.85\" y=\"1164.48\">2.5×10</text>\n</g>\n<g clip-path=\"url(#clip1500)\">\n<text style=\"fill:#000000; fill-opacity:1; font-family:Arial,Helvetica Neue,Helvetica,sans-serif; font-size:38px; text-anchor:start;\" transform=\"rotate(0, 2456.39, 1137.07)\" x=\"2456.39\" y=\"1137.07\">4</text>\n</g>\n<g clip-path=\"url(#clip1500)\">\n<text style=\"fill:#000000; fill-opacity:1; font-family:Arial,Helvetica Neue,Helvetica,sans-serif; font-size:48px; text-anchor:end;\" transform=\"rotate(0, 267.652, 227.38)\" x=\"267.652\" y=\"227.38\">viewed</text>\n</g>\n<g clip-path=\"url(#clip1500)\">\n<text style=\"fill:#000000; fill-opacity:1; font-family:Arial,Helvetica Neue,Helvetica,sans-serif; font-size:48px; text-anchor:end;\" transform=\"rotate(0, 267.652, 315.09)\" x=\"267.652\" y=\"315.09\">created</text>\n</g>\n<g clip-path=\"url(#clip1500)\">\n<text style=\"fill:#000000; fill-opacity:1; font-family:Arial,Helvetica Neue,Helvetica,sans-serif; font-size:48px; text-anchor:end;\" transform=\"rotate(0, 267.652, 402.8)\" x=\"267.652\" y=\"402.8\">updated</text>\n</g>\n<g clip-path=\"url(#clip1500)\">\n<text style=\"fill:#000000; fill-opacity:1; font-family:Arial,Helvetica Neue,Helvetica,sans-serif; font-size:48px; text-anchor:end;\" transform=\"rotate(0, 267.652, 490.51)\" x=\"267.652\" y=\"490.51\">launched</text>\n</g>\n<g clip-path=\"url(#clip1500)\">\n<text style=\"fill:#000000; fill-opacity:1; font-family:Arial,Helvetica Neue,Helvetica,sans-serif; font-size:48px; text-anchor:end;\" transform=\"rotate(0, 267.652, 578.22)\" x=\"267.652\" y=\"578.22\">submitted</text>\n</g>\n<g clip-path=\"url(#clip1500)\">\n<text style=\"fill:#000000; fill-opacity:1; font-family:Arial,Helvetica Neue,Helvetica,sans-serif; font-size:48px; text-anchor:end;\" transform=\"rotate(0, 267.652, 665.93)\" x=\"267.652\" y=\"665.93\">Scored</text>\n</g>\n<g clip-path=\"url(#clip1500)\">\n<text style=\"fill:#000000; fill-opacity:1; font-family:Arial,Helvetica Neue,Helvetica,sans-serif; font-size:48px; text-anchor:end;\" transform=\"rotate(0, 267.652, 753.64)\" x=\"267.652\" y=\"753.64\">graded</text>\n</g>\n<g clip-path=\"url(#clip1500)\">\n<text style=\"fill:#000000; fill-opacity:1; font-family:Arial,Helvetica Neue,Helvetica,sans-serif; font-size:48px; text-anchor:end;\" transform=\"rotate(0, 267.652, 841.35)\" x=\"267.652\" y=\"841.35\">loggedin</text>\n</g>\n<g clip-path=\"url(#clip1500)\">\n<text style=\"fill:#000000; fill-opacity:1; font-family:Arial,Helvetica Neue,Helvetica,sans-serif; font-size:48px; text-anchor:end;\" transform=\"rotate(0, 267.652, 929.06)\" x=\"267.652\" y=\"929.06\">liked</text>\n</g>\n<g clip-path=\"url(#clip1500)\">\n<text style=\"fill:#000000; fill-opacity:1; font-family:Arial,Helvetica Neue,Helvetica,sans-serif; font-size:48px; text-anchor:end;\" transform=\"rotate(0, 267.652, 1016.77)\" x=\"267.652\" y=\"1016.77\">resumed</text>\n</g>\n<g clip-path=\"url(#clip1500)\">\n<text style=\"fill:#000000; fill-opacity:1; font-family:Arial,Helvetica Neue,Helvetica,sans-serif; font-size:84px; text-anchor:middle;\" transform=\"rotate(0, 1524.2, 73.2)\" x=\"1524.2\" y=\"73.2\">Actions most performed by users</text>\n</g>\n<path clip-path=\"url(#clip1502)\" d=\"\nM2683.22 174.796 L365.192 174.796 L365.192 244.964 L2683.22 244.964 L2683.22 174.796 L2683.22 174.796  Z\n  \" fill=\"#009af9\" fill-rule=\"evenodd\" fill-opacity=\"1\"/>\n<polyline clip-path=\"url(#clip1502)\" style=\"stroke:#000000; stroke-width:4; stroke-opacity:1; fill:none\" points=\"\n  2683.22,174.796 365.192,174.796 365.192,244.964 2683.22,244.964 2683.22,174.796 \n  \"/>\n<path clip-path=\"url(#clip1502)\" d=\"\nM2224.2 262.506 L365.192 262.506 L365.192 332.674 L2224.2 332.674 L2224.2 262.506 L2224.2 262.506  Z\n  \" fill=\"#009af9\" fill-rule=\"evenodd\" fill-opacity=\"1\"/>\n<polyline clip-path=\"url(#clip1502)\" style=\"stroke:#000000; stroke-width:4; stroke-opacity:1; fill:none\" points=\"\n  2224.2,262.506 365.192,262.506 365.192,332.674 2224.2,332.674 2224.2,262.506 \n  \"/>\n<path clip-path=\"url(#clip1502)\" d=\"\nM1389.48 350.216 L365.192 350.216 L365.192 420.384 L1389.48 420.384 L1389.48 350.216 L1389.48 350.216  Z\n  \" fill=\"#009af9\" fill-rule=\"evenodd\" fill-opacity=\"1\"/>\n<polyline clip-path=\"url(#clip1502)\" style=\"stroke:#000000; stroke-width:4; stroke-opacity:1; fill:none\" points=\"\n  1389.48,350.216 365.192,350.216 365.192,420.384 1389.48,420.384 1389.48,350.216 \n  \"/>\n<path clip-path=\"url(#clip1502)\" d=\"\nM1129.59 437.926 L365.192 437.926 L365.192 508.094 L1129.59 508.094 L1129.59 437.926 L1129.59 437.926  Z\n  \" fill=\"#009af9\" fill-rule=\"evenodd\" fill-opacity=\"1\"/>\n<polyline clip-path=\"url(#clip1502)\" style=\"stroke:#000000; stroke-width:4; stroke-opacity:1; fill:none\" points=\"\n  1129.59,437.926 365.192,437.926 365.192,508.094 1129.59,508.094 1129.59,437.926 \n  \"/>\n<path clip-path=\"url(#clip1502)\" d=\"\nM1046.53 525.636 L365.192 525.636 L365.192 595.804 L1046.53 595.804 L1046.53 525.636 L1046.53 525.636  Z\n  \" fill=\"#009af9\" fill-rule=\"evenodd\" fill-opacity=\"1\"/>\n<polyline clip-path=\"url(#clip1502)\" style=\"stroke:#000000; stroke-width:4; stroke-opacity:1; fill:none\" points=\"\n  1046.53,525.636 365.192,525.636 365.192,595.804 1046.53,595.804 1046.53,525.636 \n  \"/>\n<path clip-path=\"url(#clip1502)\" d=\"\nM978.4 613.346 L365.192 613.346 L365.192 683.514 L978.4 683.514 L978.4 613.346 L978.4 613.346  Z\n  \" fill=\"#009af9\" fill-rule=\"evenodd\" fill-opacity=\"1\"/>\n<polyline clip-path=\"url(#clip1502)\" style=\"stroke:#000000; stroke-width:4; stroke-opacity:1; fill:none\" points=\"\n  978.4,613.346 365.192,613.346 365.192,683.514 978.4,683.514 978.4,613.346 \n  \"/>\n<path clip-path=\"url(#clip1502)\" d=\"\nM964.773 701.056 L365.192 701.056 L365.192 771.224 L964.773 771.224 L964.773 701.056 L964.773 701.056  Z\n  \" fill=\"#009af9\" fill-rule=\"evenodd\" fill-opacity=\"1\"/>\n<polyline clip-path=\"url(#clip1502)\" style=\"stroke:#000000; stroke-width:4; stroke-opacity:1; fill:none\" points=\"\n  964.773,701.056 365.192,701.056 365.192,771.224 964.773,771.224 964.773,701.056 \n  \"/>\n<path clip-path=\"url(#clip1502)\" d=\"\nM713.407 788.766 L365.192 788.766 L365.192 858.934 L713.407 858.934 L713.407 788.766 L713.407 788.766  Z\n  \" fill=\"#009af9\" fill-rule=\"evenodd\" fill-opacity=\"1\"/>\n<polyline clip-path=\"url(#clip1502)\" style=\"stroke:#000000; stroke-width:4; stroke-opacity:1; fill:none\" points=\"\n  713.407,788.766 365.192,788.766 365.192,858.934 713.407,858.934 713.407,788.766 \n  \"/>\n<path clip-path=\"url(#clip1502)\" d=\"\nM681.854 876.476 L365.192 876.476 L365.192 946.644 L681.854 946.644 L681.854 876.476 L681.854 876.476  Z\n  \" fill=\"#009af9\" fill-rule=\"evenodd\" fill-opacity=\"1\"/>\n<polyline clip-path=\"url(#clip1502)\" style=\"stroke:#000000; stroke-width:4; stroke-opacity:1; fill:none\" points=\"\n  681.854,876.476 365.192,876.476 365.192,946.644 681.854,946.644 681.854,876.476 \n  \"/>\n<path clip-path=\"url(#clip1502)\" d=\"\nM652.816 964.186 L365.192 964.186 L365.192 1034.35 L652.816 1034.35 L652.816 964.186 L652.816 964.186  Z\n  \" fill=\"#009af9\" fill-rule=\"evenodd\" fill-opacity=\"1\"/>\n<polyline clip-path=\"url(#clip1502)\" style=\"stroke:#000000; stroke-width:4; stroke-opacity:1; fill:none\" points=\"\n  652.816,964.186 365.192,964.186 365.192,1034.35 652.816,1034.35 652.816,964.186 \n  \"/>\n</svg>\n"
          },
          "metadata": {}
        }
      ],
      "execution_count": 21,
      "metadata": {
        "collapsed": true,
        "jupyter": {
          "source_hidden": false,
          "outputs_hidden": false
        },
        "nteract": {
          "transient": {
            "deleting": false
          }
        },
        "execution": {
          "iopub.status.busy": "2020-11-30T06:26:39.484Z",
          "iopub.execute_input": "2020-11-30T06:26:39.510Z",
          "iopub.status.idle": "2020-11-30T06:27:03.196Z"
        }
      }
    },
    {
      "cell_type": "code",
      "source": [
        "#Convirtiendo variables en tipo String del feature Data Frame\n",
        "featureDataFrame[!,[:year, :month, :day, :hour, :minute, :second]]=convert(Array{String}, featureDataFrame[!,[:year, :month, :day, :hour, :minute, :second]])"
      ],
      "outputs": [
        {
          "output_type": "execute_result",
          "execution_count": 22,
          "data": {
            "text/plain": "40674×6 Array{String,2}:\n \"2020\"  \"08\"  \"12\"  \"19\"  \"16\"  \"16\"\n \"2020\"  \"08\"  \"12\"  \"20\"  \"19\"  \"45\"\n \"2020\"  \"08\"  \"12\"  \"20\"  \"20\"  \"23\"\n \"2020\"  \"08\"  \"12\"  \"20\"  \"20\"  \"23\"\n \"2020\"  \"08\"  \"12\"  \"20\"  \"20\"  \"27\"\n \"2020\"  \"08\"  \"12\"  \"20\"  \"20\"  \"30\"\n \"2020\"  \"08\"  \"12\"  \"20\"  \"22\"  \"53\"\n \"2020\"  \"08\"  \"12\"  \"20\"  \"24\"  \"24\"\n \"2020\"  \"08\"  \"12\"  \"20\"  \"39\"  \"07\"\n \"2020\"  \"08\"  \"12\"  \"20\"  \"39\"  \"07\"\n \"2020\"  \"08\"  \"12\"  \"20\"  \"39\"  \"19\"\n \"2020\"  \"08\"  \"12\"  \"20\"  \"39\"  \"20\"\n \"2020\"  \"08\"  \"12\"  \"20\"  \"39\"  \"21\"\n ⋮                               ⋮\n \"2020\"  \"11\"  \"02\"  \"01\"  \"53\"  \"29\"\n \"2020\"  \"11\"  \"02\"  \"01\"  \"53\"  \"46\"\n \"2020\"  \"11\"  \"02\"  \"01\"  \"53\"  \"54\"\n \"2020\"  \"11\"  \"02\"  \"01\"  \"54\"  \"09\"\n \"2020\"  \"11\"  \"02\"  \"16\"  \"06\"  \"27\"\n \"2020\"  \"11\"  \"02\"  \"16\"  \"06\"  \"31\"\n \"2020\"  \"11\"  \"02\"  \"16\"  \"25\"  \"41\"\n \"2020\"  \"11\"  \"02\"  \"16\"  \"25\"  \"49\"\n \"2020\"  \"11\"  \"02\"  \"16\"  \"25\"  \"52\"\n \"2020\"  \"11\"  \"02\"  \"16\"  \"25\"  \"55\"\n \"2020\"  \"11\"  \"02\"  \"16\"  \"25\"  \"55\"\n \"2020\"  \"11\"  \"02\"  \"16\"  \"26\"  \"07\""
          },
          "metadata": {}
        }
      ],
      "execution_count": 22,
      "metadata": {
        "collapsed": true,
        "jupyter": {
          "source_hidden": false,
          "outputs_hidden": false
        },
        "nteract": {
          "transient": {
            "deleting": false
          }
        },
        "execution": {
          "iopub.status.busy": "2020-11-30T06:27:05.839Z",
          "iopub.execute_input": "2020-11-30T06:27:05.867Z",
          "iopub.status.idle": "2020-11-30T06:27:06.015Z"
        }
      }
    },
    {
      "cell_type": "code",
      "source": [
        "# Agrupando los usuarios de acuerdo a la acción realizada\n",
        "groupbyLogin = groupby(featureDataFrame, [:month, :day, :action]);"
      ],
      "outputs": [],
      "execution_count": 23,
      "metadata": {
        "collapsed": true,
        "jupyter": {
          "source_hidden": false,
          "outputs_hidden": false
        },
        "nteract": {
          "transient": {
            "deleting": false
          }
        },
        "execution": {
          "iopub.status.busy": "2020-11-30T06:27:08.357Z",
          "iopub.execute_input": "2020-11-30T06:27:08.383Z",
          "iopub.status.idle": "2020-11-30T06:27:08.537Z"
        }
      }
    },
    {
      "cell_type": "code",
      "source": [
        "# Obteniendo la cantidad de acciones según su tipo\n",
        "loginDataFrameCount=combine(groupbyLogin, :action => sum);"
      ],
      "outputs": [],
      "execution_count": 24,
      "metadata": {
        "collapsed": true,
        "jupyter": {
          "source_hidden": false,
          "outputs_hidden": false
        },
        "nteract": {
          "transient": {
            "deleting": false
          }
        },
        "execution": {
          "iopub.status.busy": "2020-11-30T06:27:10.143Z",
          "iopub.execute_input": "2020-11-30T06:27:10.167Z",
          "iopub.status.idle": "2020-11-30T06:27:10.206Z"
        }
      }
    },
    {
      "cell_type": "code",
      "source": [
        "groupbyLoginAction = groupby(loginDataFrameCount, :action);"
      ],
      "outputs": [],
      "execution_count": 25,
      "metadata": {
        "collapsed": true,
        "jupyter": {
          "source_hidden": false,
          "outputs_hidden": false
        },
        "nteract": {
          "transient": {
            "deleting": false
          }
        },
        "execution": {
          "iopub.status.busy": "2020-11-30T06:27:12.053Z",
          "iopub.execute_input": "2020-11-30T06:27:12.086Z",
          "iopub.status.idle": "2020-11-30T06:27:12.126Z"
        }
      }
    },
    {
      "cell_type": "code",
      "source": [
        "names(featureDataFrame)"
      ],
      "outputs": [
        {
          "output_type": "execute_result",
          "execution_count": 26,
          "data": {
            "text/plain": "11-element Array{String,1}:\n \"userid\"\n \"eventname\"\n \"component\"\n \"action\"\n \"target\"\n \"year\"\n \"month\"\n \"day\"\n \"hour\"\n \"minute\"\n \"second\""
          },
          "metadata": {}
        }
      ],
      "execution_count": 26,
      "metadata": {
        "collapsed": true,
        "jupyter": {
          "source_hidden": false,
          "outputs_hidden": false
        },
        "nteract": {
          "transient": {
            "deleting": false
          }
        },
        "execution": {
          "iopub.status.busy": "2020-11-30T06:27:13.726Z",
          "iopub.execute_input": "2020-11-30T06:27:13.749Z",
          "iopub.status.idle": "2020-11-30T06:27:13.807Z"
        }
      }
    },
    {
      "cell_type": "code",
      "source": [
        "groupbyLoginAction[3]\n"
      ],
      "outputs": [
        {
          "output_type": "execute_result",
          "execution_count": 27,
          "data": {
            "text/plain": "82×4 SubDataFrame\n│ Row │ month  │ day    │ action │ action_sum │\n│     │ \u001b[90mString\u001b[39m │ \u001b[90mString\u001b[39m │ \u001b[90mAny\u001b[39m    │ \u001b[90mInt64\u001b[39m      │\n├─────┼────────┼────────┼────────┼────────────┤\n│ 1   │ 08     │ 12     │ 3      │ 30         │\n│ 2   │ 08     │ 13     │ 3      │ 84         │\n│ 3   │ 08     │ 14     │ 3      │ 120        │\n│ 4   │ 08     │ 15     │ 3      │ 54         │\n│ 5   │ 08     │ 16     │ 3      │ 63         │\n│ 6   │ 08     │ 17     │ 3      │ 42         │\n│ 7   │ 08     │ 18     │ 3      │ 117        │\n│ 8   │ 08     │ 19     │ 3      │ 144        │\n│ 9   │ 08     │ 20     │ 3      │ 159        │\n│ 10  │ 08     │ 21     │ 3      │ 105        │\n⋮\n│ 72  │ 10     │ 22     │ 3      │ 57         │\n│ 73  │ 10     │ 23     │ 3      │ 21         │\n│ 74  │ 10     │ 24     │ 3      │ 6          │\n│ 75  │ 10     │ 25     │ 3      │ 36         │\n│ 76  │ 10     │ 26     │ 3      │ 57         │\n│ 77  │ 10     │ 27     │ 3      │ 60         │\n│ 78  │ 10     │ 28     │ 3      │ 57         │\n│ 79  │ 10     │ 29     │ 3      │ 54         │\n│ 80  │ 10     │ 30     │ 3      │ 81         │\n│ 81  │ 10     │ 31     │ 3      │ 18         │\n│ 82  │ 11     │ 02     │ 3      │ 9          │",
            "text/html": "<table class=\"data-frame\"><thead><tr><th></th><th>month</th><th>day</th><th>action</th><th>action_sum</th></tr><tr><th></th><th>String</th><th>String</th><th>Any</th><th>Int64</th></tr></thead><tbody><p>82 rows × 4 columns</p><tr><th>1</th><td>08</td><td>12</td><td>3</td><td>30</td></tr><tr><th>2</th><td>08</td><td>13</td><td>3</td><td>84</td></tr><tr><th>3</th><td>08</td><td>14</td><td>3</td><td>120</td></tr><tr><th>4</th><td>08</td><td>15</td><td>3</td><td>54</td></tr><tr><th>5</th><td>08</td><td>16</td><td>3</td><td>63</td></tr><tr><th>6</th><td>08</td><td>17</td><td>3</td><td>42</td></tr><tr><th>7</th><td>08</td><td>18</td><td>3</td><td>117</td></tr><tr><th>8</th><td>08</td><td>19</td><td>3</td><td>144</td></tr><tr><th>9</th><td>08</td><td>20</td><td>3</td><td>159</td></tr><tr><th>10</th><td>08</td><td>21</td><td>3</td><td>105</td></tr><tr><th>11</th><td>08</td><td>22</td><td>3</td><td>42</td></tr><tr><th>12</th><td>08</td><td>23</td><td>3</td><td>57</td></tr><tr><th>13</th><td>08</td><td>24</td><td>3</td><td>108</td></tr><tr><th>14</th><td>08</td><td>25</td><td>3</td><td>57</td></tr><tr><th>15</th><td>08</td><td>26</td><td>3</td><td>93</td></tr><tr><th>16</th><td>08</td><td>27</td><td>3</td><td>93</td></tr><tr><th>17</th><td>08</td><td>28</td><td>3</td><td>54</td></tr><tr><th>18</th><td>08</td><td>29</td><td>3</td><td>18</td></tr><tr><th>19</th><td>08</td><td>30</td><td>3</td><td>27</td></tr><tr><th>20</th><td>08</td><td>31</td><td>3</td><td>51</td></tr><tr><th>21</th><td>09</td><td>01</td><td>3</td><td>33</td></tr><tr><th>22</th><td>09</td><td>02</td><td>3</td><td>60</td></tr><tr><th>23</th><td>09</td><td>03</td><td>3</td><td>54</td></tr><tr><th>24</th><td>09</td><td>04</td><td>3</td><td>75</td></tr><tr><th>25</th><td>09</td><td>05</td><td>3</td><td>51</td></tr><tr><th>26</th><td>09</td><td>06</td><td>3</td><td>81</td></tr><tr><th>27</th><td>09</td><td>07</td><td>3</td><td>87</td></tr><tr><th>28</th><td>09</td><td>08</td><td>3</td><td>72</td></tr><tr><th>29</th><td>09</td><td>09</td><td>3</td><td>72</td></tr><tr><th>30</th><td>09</td><td>10</td><td>3</td><td>87</td></tr><tr><th>&vellip;</th><td>&vellip;</td><td>&vellip;</td><td>&vellip;</td><td>&vellip;</td></tr></tbody></table>",
            "text/latex": "\\begin{tabular}{r|cccc}\n\t& month & day & action & action\\_sum\\\\\n\t\\hline\n\t& String & String & Any & Int64\\\\\n\t\\hline\n\t1 & 08 & 12 & 3 & 30 \\\\\n\t2 & 08 & 13 & 3 & 84 \\\\\n\t3 & 08 & 14 & 3 & 120 \\\\\n\t4 & 08 & 15 & 3 & 54 \\\\\n\t5 & 08 & 16 & 3 & 63 \\\\\n\t6 & 08 & 17 & 3 & 42 \\\\\n\t7 & 08 & 18 & 3 & 117 \\\\\n\t8 & 08 & 19 & 3 & 144 \\\\\n\t9 & 08 & 20 & 3 & 159 \\\\\n\t10 & 08 & 21 & 3 & 105 \\\\\n\t11 & 08 & 22 & 3 & 42 \\\\\n\t12 & 08 & 23 & 3 & 57 \\\\\n\t13 & 08 & 24 & 3 & 108 \\\\\n\t14 & 08 & 25 & 3 & 57 \\\\\n\t15 & 08 & 26 & 3 & 93 \\\\\n\t16 & 08 & 27 & 3 & 93 \\\\\n\t17 & 08 & 28 & 3 & 54 \\\\\n\t18 & 08 & 29 & 3 & 18 \\\\\n\t19 & 08 & 30 & 3 & 27 \\\\\n\t20 & 08 & 31 & 3 & 51 \\\\\n\t21 & 09 & 01 & 3 & 33 \\\\\n\t22 & 09 & 02 & 3 & 60 \\\\\n\t23 & 09 & 03 & 3 & 54 \\\\\n\t24 & 09 & 04 & 3 & 75 \\\\\n\t25 & 09 & 05 & 3 & 51 \\\\\n\t26 & 09 & 06 & 3 & 81 \\\\\n\t27 & 09 & 07 & 3 & 87 \\\\\n\t28 & 09 & 08 & 3 & 72 \\\\\n\t29 & 09 & 09 & 3 & 72 \\\\\n\t30 & 09 & 10 & 3 & 87 \\\\\n\t$\\dots$ & $\\dots$ & $\\dots$ & $\\dots$ & $\\dots$ \\\\\n\\end{tabular}\n"
          },
          "metadata": {}
        }
      ],
      "execution_count": 27,
      "metadata": {
        "collapsed": true,
        "jupyter": {
          "source_hidden": false,
          "outputs_hidden": false
        },
        "nteract": {
          "transient": {
            "deleting": false
          }
        },
        "execution": {
          "iopub.status.busy": "2020-11-30T06:27:16.109Z",
          "iopub.execute_input": "2020-11-30T06:27:16.133Z",
          "iopub.status.idle": "2020-11-30T06:27:18.583Z"
        }
      }
    },
    {
      "cell_type": "code",
      "source": [
        "topsize=size(groupbyLoginAction[3],1)"
      ],
      "outputs": [
        {
          "output_type": "execute_result",
          "execution_count": 28,
          "data": {
            "text/plain": "82"
          },
          "metadata": {}
        }
      ],
      "execution_count": 28,
      "metadata": {
        "collapsed": true,
        "jupyter": {
          "source_hidden": false,
          "outputs_hidden": false
        },
        "nteract": {
          "transient": {
            "deleting": false
          }
        },
        "execution": {
          "iopub.status.busy": "2020-11-30T06:27:20.955Z",
          "iopub.execute_input": "2020-11-30T06:27:20.984Z",
          "iopub.status.idle": "2020-11-30T06:27:21.183Z"
        }
      }
    },
    {
      "cell_type": "code",
      "source": [
        "describe(groupbyLoginAction[3])"
      ],
      "outputs": [
        {
          "output_type": "execute_result",
          "execution_count": 29,
          "data": {
            "text/plain": "4×8 DataFrame. Omitted printing of 1 columns\n│ Row │ variable   │ mean    │ min │ median │ max │ nunique │ nmissing │\n│     │ \u001b[90mSymbol\u001b[39m     │ \u001b[90mUnion…\u001b[39m  │ \u001b[90mAny\u001b[39m │ \u001b[90mUnion…\u001b[39m │ \u001b[90mAny\u001b[39m │ \u001b[90mUnion…\u001b[39m  │ \u001b[90mUnion…\u001b[39m   │\n├─────┼────────────┼─────────┼─────┼────────┼─────┼─────────┼──────────┤\n│ 1   │ month      │         │ 08  │        │ 11  │ 4       │          │\n│ 2   │ day        │         │ 01  │        │ 31  │ 31      │          │\n│ 3   │ action     │ 3.0     │ 3   │ 3.0    │ 3   │ 1       │ 0        │\n│ 4   │ action_sum │ 52.3537 │ 6   │ 51.0   │ 159 │         │          │",
            "text/html": "<table class=\"data-frame\"><thead><tr><th></th><th>variable</th><th>mean</th><th>min</th><th>median</th><th>max</th><th>nunique</th><th>nmissing</th><th>eltype</th></tr><tr><th></th><th>Symbol</th><th>Union…</th><th>Any</th><th>Union…</th><th>Any</th><th>Union…</th><th>Union…</th><th>DataType</th></tr></thead><tbody><p>4 rows × 8 columns</p><tr><th>1</th><td>month</td><td></td><td>08</td><td></td><td>11</td><td>4</td><td></td><td>String</td></tr><tr><th>2</th><td>day</td><td></td><td>01</td><td></td><td>31</td><td>31</td><td></td><td>String</td></tr><tr><th>3</th><td>action</td><td>3.0</td><td>3</td><td>3.0</td><td>3</td><td>1</td><td>0</td><td>Any</td></tr><tr><th>4</th><td>action_sum</td><td>52.3537</td><td>6</td><td>51.0</td><td>159</td><td></td><td></td><td>Int64</td></tr></tbody></table>",
            "text/latex": "\\begin{tabular}{r|cccccccc}\n\t& variable & mean & min & median & max & nunique & nmissing & eltype\\\\\n\t\\hline\n\t& Symbol & Union… & Any & Union… & Any & Union… & Union… & DataType\\\\\n\t\\hline\n\t1 & month &  & 08 &  & 11 & 4 &  & String \\\\\n\t2 & day &  & 01 &  & 31 & 31 &  & String \\\\\n\t3 & action & 3.0 & 3 & 3.0 & 3 & 1 & 0 & Any \\\\\n\t4 & action\\_sum & 52.3537 & 6 & 51.0 & 159 &  &  & Int64 \\\\\n\\end{tabular}\n"
          },
          "metadata": {}
        }
      ],
      "execution_count": 29,
      "metadata": {
        "collapsed": true,
        "jupyter": {
          "source_hidden": false,
          "outputs_hidden": false
        },
        "nteract": {
          "transient": {
            "deleting": false
          }
        },
        "execution": {
          "iopub.status.busy": "2020-11-30T06:27:23.963Z",
          "iopub.execute_input": "2020-11-30T06:27:23.987Z",
          "iopub.status.idle": "2020-11-30T06:27:30.848Z"
        }
      }
    },
    {
      "cell_type": "code",
      "source": [
        "#Número de conexiones por día en el gestor de inteligencia GIANT\n",
        "x = 1:topsize;\n",
        "y = groupbyLoginAction[3][!,:action_sum]; # These are the plotting data\n",
        "plot(x, y, title = \"Connections per day\", xlabel = \"Day\", ylabel = \"Connections\", lw = 3, marker=:circle, ms=5, mc=:orange,legend=false, size=(650,250))\n",
        "media=floor(Int,mean(groupbyLoginAction[3][!,:action_sum]))\n",
        "hline!(\n",
        "    [media], \n",
        "    color = \"red\", \n",
        "    linestyle = :dash, \n",
        "    linewidth = 4,\n",
        "    label = [\"Mean\" \"Mean\"]\n",
        "    )"
      ],
      "outputs": [
        {
          "output_type": "execute_result",
          "execution_count": 37,
          "data": {
            "image/svg+xml": "<?xml version=\"1.0\" encoding=\"utf-8\"?>\n<svg xmlns=\"http://www.w3.org/2000/svg\" xmlns:xlink=\"http://www.w3.org/1999/xlink\" width=\"650\" height=\"250\" viewBox=\"0 0 2600 1000\">\n<defs>\n  <clipPath id=\"clip4700\">\n    <rect x=\"0\" y=\"0\" width=\"2600\" height=\"1000\"/>\n  </clipPath>\n</defs>\n<path clip-path=\"url(#clip4700)\" d=\"\nM0 1000 L2600 1000 L2600 0 L0 0  Z\n  \" fill=\"#ffffff\" fill-rule=\"evenodd\" fill-opacity=\"1\"/>\n<defs>\n  <clipPath id=\"clip4701\">\n    <rect x=\"520\" y=\"0\" width=\"1821\" height=\"1000\"/>\n  </clipPath>\n</defs>\n<path clip-path=\"url(#clip4700)\" d=\"\nM222.268 842.934 L2552.76 842.934 L2552.76 110.39 L222.268 110.39  Z\n  \" fill=\"#ffffff\" fill-rule=\"evenodd\" fill-opacity=\"1\"/>\n<defs>\n  <clipPath id=\"clip4702\">\n    <rect x=\"222\" y=\"110\" width=\"2331\" height=\"734\"/>\n  </clipPath>\n</defs>\n<polyline clip-path=\"url(#clip4702)\" style=\"stroke:#000000; stroke-width:2; stroke-opacity:0.1; fill:none\" points=\"\n  261.083,842.934 261.083,110.39 \n  \"/>\n<polyline clip-path=\"url(#clip4702)\" style=\"stroke:#000000; stroke-width:2; stroke-opacity:0.1; fill:none\" points=\"\n  803.94,842.934 803.94,110.39 \n  \"/>\n<polyline clip-path=\"url(#clip4702)\" style=\"stroke:#000000; stroke-width:2; stroke-opacity:0.1; fill:none\" points=\"\n  1346.8,842.934 1346.8,110.39 \n  \"/>\n<polyline clip-path=\"url(#clip4702)\" style=\"stroke:#000000; stroke-width:2; stroke-opacity:0.1; fill:none\" points=\"\n  1889.66,842.934 1889.66,110.39 \n  \"/>\n<polyline clip-path=\"url(#clip4702)\" style=\"stroke:#000000; stroke-width:2; stroke-opacity:0.1; fill:none\" points=\"\n  2432.51,842.934 2432.51,110.39 \n  \"/>\n<polyline clip-path=\"url(#clip4702)\" style=\"stroke:#000000; stroke-width:2; stroke-opacity:0.1; fill:none\" points=\"\n  222.268,713.797 2552.76,713.797 \n  \"/>\n<polyline clip-path=\"url(#clip4702)\" style=\"stroke:#000000; stroke-width:2; stroke-opacity:0.1; fill:none\" points=\"\n  222.268,578.291 2552.76,578.291 \n  \"/>\n<polyline clip-path=\"url(#clip4702)\" style=\"stroke:#000000; stroke-width:2; stroke-opacity:0.1; fill:none\" points=\"\n  222.268,442.786 2552.76,442.786 \n  \"/>\n<polyline clip-path=\"url(#clip4702)\" style=\"stroke:#000000; stroke-width:2; stroke-opacity:0.1; fill:none\" points=\"\n  222.268,307.28 2552.76,307.28 \n  \"/>\n<polyline clip-path=\"url(#clip4702)\" style=\"stroke:#000000; stroke-width:2; stroke-opacity:0.1; fill:none\" points=\"\n  222.268,171.774 2552.76,171.774 \n  \"/>\n<polyline clip-path=\"url(#clip4700)\" style=\"stroke:#000000; stroke-width:4; stroke-opacity:1; fill:none\" points=\"\n  222.268,842.934 2552.76,842.934 \n  \"/>\n<polyline clip-path=\"url(#clip4700)\" style=\"stroke:#000000; stroke-width:4; stroke-opacity:1; fill:none\" points=\"\n  222.268,842.934 222.268,110.39 \n  \"/>\n<polyline clip-path=\"url(#clip4700)\" style=\"stroke:#000000; stroke-width:4; stroke-opacity:1; fill:none\" points=\"\n  261.083,842.934 261.083,834.144 \n  \"/>\n<polyline clip-path=\"url(#clip4700)\" style=\"stroke:#000000; stroke-width:4; stroke-opacity:1; fill:none\" points=\"\n  803.94,842.934 803.94,834.144 \n  \"/>\n<polyline clip-path=\"url(#clip4700)\" style=\"stroke:#000000; stroke-width:4; stroke-opacity:1; fill:none\" points=\"\n  1346.8,842.934 1346.8,834.144 \n  \"/>\n<polyline clip-path=\"url(#clip4700)\" style=\"stroke:#000000; stroke-width:4; stroke-opacity:1; fill:none\" points=\"\n  1889.66,842.934 1889.66,834.144 \n  \"/>\n<polyline clip-path=\"url(#clip4700)\" style=\"stroke:#000000; stroke-width:4; stroke-opacity:1; fill:none\" points=\"\n  2432.51,842.934 2432.51,834.144 \n  \"/>\n<polyline clip-path=\"url(#clip4700)\" style=\"stroke:#000000; stroke-width:4; stroke-opacity:1; fill:none\" points=\"\n  222.268,713.797 250.234,713.797 \n  \"/>\n<polyline clip-path=\"url(#clip4700)\" style=\"stroke:#000000; stroke-width:4; stroke-opacity:1; fill:none\" points=\"\n  222.268,578.291 250.234,578.291 \n  \"/>\n<polyline clip-path=\"url(#clip4700)\" style=\"stroke:#000000; stroke-width:4; stroke-opacity:1; fill:none\" points=\"\n  222.268,442.786 250.234,442.786 \n  \"/>\n<polyline clip-path=\"url(#clip4700)\" style=\"stroke:#000000; stroke-width:4; stroke-opacity:1; fill:none\" points=\"\n  222.268,307.28 250.234,307.28 \n  \"/>\n<polyline clip-path=\"url(#clip4700)\" style=\"stroke:#000000; stroke-width:4; stroke-opacity:1; fill:none\" points=\"\n  222.268,171.774 250.234,171.774 \n  \"/>\n<g clip-path=\"url(#clip4700)\">\n<text style=\"fill:#000000; fill-opacity:1; font-family:Arial,Helvetica Neue,Helvetica,sans-serif; font-size:48px; text-anchor:middle;\" transform=\"rotate(0, 261.083, 897.934)\" x=\"261.083\" y=\"897.934\">0</text>\n</g>\n<g clip-path=\"url(#clip4700)\">\n<text style=\"fill:#000000; fill-opacity:1; font-family:Arial,Helvetica Neue,Helvetica,sans-serif; font-size:48px; text-anchor:middle;\" transform=\"rotate(0, 803.94, 897.934)\" x=\"803.94\" y=\"897.934\">20</text>\n</g>\n<g clip-path=\"url(#clip4700)\">\n<text style=\"fill:#000000; fill-opacity:1; font-family:Arial,Helvetica Neue,Helvetica,sans-serif; font-size:48px; text-anchor:middle;\" transform=\"rotate(0, 1346.8, 897.934)\" x=\"1346.8\" y=\"897.934\">40</text>\n</g>\n<g clip-path=\"url(#clip4700)\">\n<text style=\"fill:#000000; fill-opacity:1; font-family:Arial,Helvetica Neue,Helvetica,sans-serif; font-size:48px; text-anchor:middle;\" transform=\"rotate(0, 1889.66, 897.934)\" x=\"1889.66\" y=\"897.934\">60</text>\n</g>\n<g clip-path=\"url(#clip4700)\">\n<text style=\"fill:#000000; fill-opacity:1; font-family:Arial,Helvetica Neue,Helvetica,sans-serif; font-size:48px; text-anchor:middle;\" transform=\"rotate(0, 2432.51, 897.934)\" x=\"2432.51\" y=\"897.934\">80</text>\n</g>\n<g clip-path=\"url(#clip4700)\">\n<text style=\"fill:#000000; fill-opacity:1; font-family:Arial,Helvetica Neue,Helvetica,sans-serif; font-size:48px; text-anchor:end;\" transform=\"rotate(0, 196.268, 731.297)\" x=\"196.268\" y=\"731.297\">30</text>\n</g>\n<g clip-path=\"url(#clip4700)\">\n<text style=\"fill:#000000; fill-opacity:1; font-family:Arial,Helvetica Neue,Helvetica,sans-serif; font-size:48px; text-anchor:end;\" transform=\"rotate(0, 196.268, 595.791)\" x=\"196.268\" y=\"595.791\">60</text>\n</g>\n<g clip-path=\"url(#clip4700)\">\n<text style=\"fill:#000000; fill-opacity:1; font-family:Arial,Helvetica Neue,Helvetica,sans-serif; font-size:48px; text-anchor:end;\" transform=\"rotate(0, 196.268, 460.286)\" x=\"196.268\" y=\"460.286\">90</text>\n</g>\n<g clip-path=\"url(#clip4700)\">\n<text style=\"fill:#000000; fill-opacity:1; font-family:Arial,Helvetica Neue,Helvetica,sans-serif; font-size:48px; text-anchor:end;\" transform=\"rotate(0, 196.268, 324.78)\" x=\"196.268\" y=\"324.78\">120</text>\n</g>\n<g clip-path=\"url(#clip4700)\">\n<text style=\"fill:#000000; fill-opacity:1; font-family:Arial,Helvetica Neue,Helvetica,sans-serif; font-size:48px; text-anchor:end;\" transform=\"rotate(0, 196.268, 189.274)\" x=\"196.268\" y=\"189.274\">150</text>\n</g>\n<g clip-path=\"url(#clip4700)\">\n<text style=\"fill:#000000; fill-opacity:1; font-family:Arial,Helvetica Neue,Helvetica,sans-serif; font-size:84px; text-anchor:middle;\" transform=\"rotate(0, 1387.51, 73.2)\" x=\"1387.51\" y=\"73.2\">Connections per day</text>\n</g>\n<g clip-path=\"url(#clip4700)\">\n<text style=\"fill:#000000; fill-opacity:1; font-family:Arial,Helvetica Neue,Helvetica,sans-serif; font-size:66px; text-anchor:middle;\" transform=\"rotate(0, 1387.51, 978.796)\" x=\"1387.51\" y=\"978.796\">Day</text>\n</g>\n<g clip-path=\"url(#clip4700)\">\n<text style=\"fill:#000000; fill-opacity:1; font-family:Arial,Helvetica Neue,Helvetica,sans-serif; font-size:66px; text-anchor:middle;\" transform=\"rotate(-90, 78.4192, 476.662)\" x=\"78.4192\" y=\"476.662\">Connections</text>\n</g>\n<polyline clip-path=\"url(#clip4702)\" style=\"stroke:#009af9; stroke-width:12; stroke-opacity:1; fill:none\" points=\"\n  288.226,713.797 315.368,469.887 342.511,307.28 369.654,605.393 396.797,564.741 423.94,659.595 451.083,320.83 478.226,198.875 505.369,131.122 532.511,375.033 \n  559.654,659.595 586.797,591.842 613.94,361.482 641.083,591.842 668.226,429.235 695.369,429.235 722.512,605.393 749.654,768 776.797,727.348 803.94,618.943 \n  831.083,700.247 858.226,578.291 885.369,605.393 912.512,510.539 939.655,618.943 966.797,483.437 993.94,456.336 1021.08,524.089 1048.23,524.089 1075.37,456.336 \n  1102.51,768 1129.65,795.101 1156.8,781.55 1183.94,700.247 1211.08,700.247 1238.23,618.943 1265.37,361.482 1292.51,686.696 1319.65,551.19 1346.8,781.55 \n  1373.94,686.696 1401.08,591.842 1428.23,618.943 1455.37,537.64 1482.51,727.348 1509.66,754.449 1536.8,795.101 1563.94,686.696 1591.08,713.797 1618.23,727.348 \n  1645.37,618.943 1672.51,673.145 1699.66,808.651 1726.8,808.651 1753.94,591.842 1781.08,578.291 1808.23,564.741 1835.37,551.19 1862.51,659.595 1889.66,686.696 \n  1916.8,808.651 1943.94,754.449 1971.08,632.494 1998.23,605.393 2025.37,618.943 2052.51,686.696 2079.66,673.145 2106.8,646.044 2133.94,618.943 2161.08,591.842 \n  2188.23,618.943 2215.37,591.842 2242.51,754.449 2269.66,822.202 2296.8,686.696 2323.94,591.842 2351.08,578.291 2378.23,591.842 2405.37,605.393 2432.51,483.437 \n  2459.66,768 2486.8,808.651 \n  \"/>\n<circle clip-path=\"url(#clip4702)\" cx=\"288.226\" cy=\"713.797\" r=\"18\" fill=\"#ffa500\" fill-rule=\"evenodd\" fill-opacity=\"1\" stroke=\"#000000\" stroke-opacity=\"1\" stroke-width=\"2\"/>\n<circle clip-path=\"url(#clip4702)\" cx=\"315.368\" cy=\"469.887\" r=\"18\" fill=\"#ffa500\" fill-rule=\"evenodd\" fill-opacity=\"1\" stroke=\"#000000\" stroke-opacity=\"1\" stroke-width=\"2\"/>\n<circle clip-path=\"url(#clip4702)\" cx=\"342.511\" cy=\"307.28\" r=\"18\" fill=\"#ffa500\" fill-rule=\"evenodd\" fill-opacity=\"1\" stroke=\"#000000\" stroke-opacity=\"1\" stroke-width=\"2\"/>\n<circle clip-path=\"url(#clip4702)\" cx=\"369.654\" cy=\"605.393\" r=\"18\" fill=\"#ffa500\" fill-rule=\"evenodd\" fill-opacity=\"1\" stroke=\"#000000\" stroke-opacity=\"1\" stroke-width=\"2\"/>\n<circle clip-path=\"url(#clip4702)\" cx=\"396.797\" cy=\"564.741\" r=\"18\" fill=\"#ffa500\" fill-rule=\"evenodd\" fill-opacity=\"1\" stroke=\"#000000\" stroke-opacity=\"1\" stroke-width=\"2\"/>\n<circle clip-path=\"url(#clip4702)\" cx=\"423.94\" cy=\"659.595\" r=\"18\" fill=\"#ffa500\" fill-rule=\"evenodd\" fill-opacity=\"1\" stroke=\"#000000\" stroke-opacity=\"1\" stroke-width=\"2\"/>\n<circle clip-path=\"url(#clip4702)\" cx=\"451.083\" cy=\"320.83\" r=\"18\" fill=\"#ffa500\" fill-rule=\"evenodd\" fill-opacity=\"1\" stroke=\"#000000\" stroke-opacity=\"1\" stroke-width=\"2\"/>\n<circle clip-path=\"url(#clip4702)\" cx=\"478.226\" cy=\"198.875\" r=\"18\" fill=\"#ffa500\" fill-rule=\"evenodd\" fill-opacity=\"1\" stroke=\"#000000\" stroke-opacity=\"1\" stroke-width=\"2\"/>\n<circle clip-path=\"url(#clip4702)\" cx=\"505.369\" cy=\"131.122\" r=\"18\" fill=\"#ffa500\" fill-rule=\"evenodd\" fill-opacity=\"1\" stroke=\"#000000\" stroke-opacity=\"1\" stroke-width=\"2\"/>\n<circle clip-path=\"url(#clip4702)\" cx=\"532.511\" cy=\"375.033\" r=\"18\" fill=\"#ffa500\" fill-rule=\"evenodd\" fill-opacity=\"1\" stroke=\"#000000\" stroke-opacity=\"1\" stroke-width=\"2\"/>\n<circle clip-path=\"url(#clip4702)\" cx=\"559.654\" cy=\"659.595\" r=\"18\" fill=\"#ffa500\" fill-rule=\"evenodd\" fill-opacity=\"1\" stroke=\"#000000\" stroke-opacity=\"1\" stroke-width=\"2\"/>\n<circle clip-path=\"url(#clip4702)\" cx=\"586.797\" cy=\"591.842\" r=\"18\" fill=\"#ffa500\" fill-rule=\"evenodd\" fill-opacity=\"1\" stroke=\"#000000\" stroke-opacity=\"1\" stroke-width=\"2\"/>\n<circle clip-path=\"url(#clip4702)\" cx=\"613.94\" cy=\"361.482\" r=\"18\" fill=\"#ffa500\" fill-rule=\"evenodd\" fill-opacity=\"1\" stroke=\"#000000\" stroke-opacity=\"1\" stroke-width=\"2\"/>\n<circle clip-path=\"url(#clip4702)\" cx=\"641.083\" cy=\"591.842\" r=\"18\" fill=\"#ffa500\" fill-rule=\"evenodd\" fill-opacity=\"1\" stroke=\"#000000\" stroke-opacity=\"1\" stroke-width=\"2\"/>\n<circle clip-path=\"url(#clip4702)\" cx=\"668.226\" cy=\"429.235\" r=\"18\" fill=\"#ffa500\" fill-rule=\"evenodd\" fill-opacity=\"1\" stroke=\"#000000\" stroke-opacity=\"1\" stroke-width=\"2\"/>\n<circle clip-path=\"url(#clip4702)\" cx=\"695.369\" cy=\"429.235\" r=\"18\" fill=\"#ffa500\" fill-rule=\"evenodd\" fill-opacity=\"1\" stroke=\"#000000\" stroke-opacity=\"1\" stroke-width=\"2\"/>\n<circle clip-path=\"url(#clip4702)\" cx=\"722.512\" cy=\"605.393\" r=\"18\" fill=\"#ffa500\" fill-rule=\"evenodd\" fill-opacity=\"1\" stroke=\"#000000\" stroke-opacity=\"1\" stroke-width=\"2\"/>\n<circle clip-path=\"url(#clip4702)\" cx=\"749.654\" cy=\"768\" r=\"18\" fill=\"#ffa500\" fill-rule=\"evenodd\" fill-opacity=\"1\" stroke=\"#000000\" stroke-opacity=\"1\" stroke-width=\"2\"/>\n<circle clip-path=\"url(#clip4702)\" cx=\"776.797\" cy=\"727.348\" r=\"18\" fill=\"#ffa500\" fill-rule=\"evenodd\" fill-opacity=\"1\" stroke=\"#000000\" stroke-opacity=\"1\" stroke-width=\"2\"/>\n<circle clip-path=\"url(#clip4702)\" cx=\"803.94\" cy=\"618.943\" r=\"18\" fill=\"#ffa500\" fill-rule=\"evenodd\" fill-opacity=\"1\" stroke=\"#000000\" stroke-opacity=\"1\" stroke-width=\"2\"/>\n<circle clip-path=\"url(#clip4702)\" cx=\"831.083\" cy=\"700.247\" r=\"18\" fill=\"#ffa500\" fill-rule=\"evenodd\" fill-opacity=\"1\" stroke=\"#000000\" stroke-opacity=\"1\" stroke-width=\"2\"/>\n<circle clip-path=\"url(#clip4702)\" cx=\"858.226\" cy=\"578.291\" r=\"18\" fill=\"#ffa500\" fill-rule=\"evenodd\" fill-opacity=\"1\" stroke=\"#000000\" stroke-opacity=\"1\" stroke-width=\"2\"/>\n<circle clip-path=\"url(#clip4702)\" cx=\"885.369\" cy=\"605.393\" r=\"18\" fill=\"#ffa500\" fill-rule=\"evenodd\" fill-opacity=\"1\" stroke=\"#000000\" stroke-opacity=\"1\" stroke-width=\"2\"/>\n<circle clip-path=\"url(#clip4702)\" cx=\"912.512\" cy=\"510.539\" r=\"18\" fill=\"#ffa500\" fill-rule=\"evenodd\" fill-opacity=\"1\" stroke=\"#000000\" stroke-opacity=\"1\" stroke-width=\"2\"/>\n<circle clip-path=\"url(#clip4702)\" cx=\"939.655\" cy=\"618.943\" r=\"18\" fill=\"#ffa500\" fill-rule=\"evenodd\" fill-opacity=\"1\" stroke=\"#000000\" stroke-opacity=\"1\" stroke-width=\"2\"/>\n<circle clip-path=\"url(#clip4702)\" cx=\"966.797\" cy=\"483.437\" r=\"18\" fill=\"#ffa500\" fill-rule=\"evenodd\" fill-opacity=\"1\" stroke=\"#000000\" stroke-opacity=\"1\" stroke-width=\"2\"/>\n<circle clip-path=\"url(#clip4702)\" cx=\"993.94\" cy=\"456.336\" r=\"18\" fill=\"#ffa500\" fill-rule=\"evenodd\" fill-opacity=\"1\" stroke=\"#000000\" stroke-opacity=\"1\" stroke-width=\"2\"/>\n<circle clip-path=\"url(#clip4702)\" cx=\"1021.08\" cy=\"524.089\" r=\"18\" fill=\"#ffa500\" fill-rule=\"evenodd\" fill-opacity=\"1\" stroke=\"#000000\" stroke-opacity=\"1\" stroke-width=\"2\"/>\n<circle clip-path=\"url(#clip4702)\" cx=\"1048.23\" cy=\"524.089\" r=\"18\" fill=\"#ffa500\" fill-rule=\"evenodd\" fill-opacity=\"1\" stroke=\"#000000\" stroke-opacity=\"1\" stroke-width=\"2\"/>\n<circle clip-path=\"url(#clip4702)\" cx=\"1075.37\" cy=\"456.336\" r=\"18\" fill=\"#ffa500\" fill-rule=\"evenodd\" fill-opacity=\"1\" stroke=\"#000000\" stroke-opacity=\"1\" stroke-width=\"2\"/>\n<circle clip-path=\"url(#clip4702)\" cx=\"1102.51\" cy=\"768\" r=\"18\" fill=\"#ffa500\" fill-rule=\"evenodd\" fill-opacity=\"1\" stroke=\"#000000\" stroke-opacity=\"1\" stroke-width=\"2\"/>\n<circle clip-path=\"url(#clip4702)\" cx=\"1129.65\" cy=\"795.101\" r=\"18\" fill=\"#ffa500\" fill-rule=\"evenodd\" fill-opacity=\"1\" stroke=\"#000000\" stroke-opacity=\"1\" stroke-width=\"2\"/>\n<circle clip-path=\"url(#clip4702)\" cx=\"1156.8\" cy=\"781.55\" r=\"18\" fill=\"#ffa500\" fill-rule=\"evenodd\" fill-opacity=\"1\" stroke=\"#000000\" stroke-opacity=\"1\" stroke-width=\"2\"/>\n<circle clip-path=\"url(#clip4702)\" cx=\"1183.94\" cy=\"700.247\" r=\"18\" fill=\"#ffa500\" fill-rule=\"evenodd\" fill-opacity=\"1\" stroke=\"#000000\" stroke-opacity=\"1\" stroke-width=\"2\"/>\n<circle clip-path=\"url(#clip4702)\" cx=\"1211.08\" cy=\"700.247\" r=\"18\" fill=\"#ffa500\" fill-rule=\"evenodd\" fill-opacity=\"1\" stroke=\"#000000\" stroke-opacity=\"1\" stroke-width=\"2\"/>\n<circle clip-path=\"url(#clip4702)\" cx=\"1238.23\" cy=\"618.943\" r=\"18\" fill=\"#ffa500\" fill-rule=\"evenodd\" fill-opacity=\"1\" stroke=\"#000000\" stroke-opacity=\"1\" stroke-width=\"2\"/>\n<circle clip-path=\"url(#clip4702)\" cx=\"1265.37\" cy=\"361.482\" r=\"18\" fill=\"#ffa500\" fill-rule=\"evenodd\" fill-opacity=\"1\" stroke=\"#000000\" stroke-opacity=\"1\" stroke-width=\"2\"/>\n<circle clip-path=\"url(#clip4702)\" cx=\"1292.51\" cy=\"686.696\" r=\"18\" fill=\"#ffa500\" fill-rule=\"evenodd\" fill-opacity=\"1\" stroke=\"#000000\" stroke-opacity=\"1\" stroke-width=\"2\"/>\n<circle clip-path=\"url(#clip4702)\" cx=\"1319.65\" cy=\"551.19\" r=\"18\" fill=\"#ffa500\" fill-rule=\"evenodd\" fill-opacity=\"1\" stroke=\"#000000\" stroke-opacity=\"1\" stroke-width=\"2\"/>\n<circle clip-path=\"url(#clip4702)\" cx=\"1346.8\" cy=\"781.55\" r=\"18\" fill=\"#ffa500\" fill-rule=\"evenodd\" fill-opacity=\"1\" stroke=\"#000000\" stroke-opacity=\"1\" stroke-width=\"2\"/>\n<circle clip-path=\"url(#clip4702)\" cx=\"1373.94\" cy=\"686.696\" r=\"18\" fill=\"#ffa500\" fill-rule=\"evenodd\" fill-opacity=\"1\" stroke=\"#000000\" stroke-opacity=\"1\" stroke-width=\"2\"/>\n<circle clip-path=\"url(#clip4702)\" cx=\"1401.08\" cy=\"591.842\" r=\"18\" fill=\"#ffa500\" fill-rule=\"evenodd\" fill-opacity=\"1\" stroke=\"#000000\" stroke-opacity=\"1\" stroke-width=\"2\"/>\n<circle clip-path=\"url(#clip4702)\" cx=\"1428.23\" cy=\"618.943\" r=\"18\" fill=\"#ffa500\" fill-rule=\"evenodd\" fill-opacity=\"1\" stroke=\"#000000\" stroke-opacity=\"1\" stroke-width=\"2\"/>\n<circle clip-path=\"url(#clip4702)\" cx=\"1455.37\" cy=\"537.64\" r=\"18\" fill=\"#ffa500\" fill-rule=\"evenodd\" fill-opacity=\"1\" stroke=\"#000000\" stroke-opacity=\"1\" stroke-width=\"2\"/>\n<circle clip-path=\"url(#clip4702)\" cx=\"1482.51\" cy=\"727.348\" r=\"18\" fill=\"#ffa500\" fill-rule=\"evenodd\" fill-opacity=\"1\" stroke=\"#000000\" stroke-opacity=\"1\" stroke-width=\"2\"/>\n<circle clip-path=\"url(#clip4702)\" cx=\"1509.66\" cy=\"754.449\" r=\"18\" fill=\"#ffa500\" fill-rule=\"evenodd\" fill-opacity=\"1\" stroke=\"#000000\" stroke-opacity=\"1\" stroke-width=\"2\"/>\n<circle clip-path=\"url(#clip4702)\" cx=\"1536.8\" cy=\"795.101\" r=\"18\" fill=\"#ffa500\" fill-rule=\"evenodd\" fill-opacity=\"1\" stroke=\"#000000\" stroke-opacity=\"1\" stroke-width=\"2\"/>\n<circle clip-path=\"url(#clip4702)\" cx=\"1563.94\" cy=\"686.696\" r=\"18\" fill=\"#ffa500\" fill-rule=\"evenodd\" fill-opacity=\"1\" stroke=\"#000000\" stroke-opacity=\"1\" stroke-width=\"2\"/>\n<circle clip-path=\"url(#clip4702)\" cx=\"1591.08\" cy=\"713.797\" r=\"18\" fill=\"#ffa500\" fill-rule=\"evenodd\" fill-opacity=\"1\" stroke=\"#000000\" stroke-opacity=\"1\" stroke-width=\"2\"/>\n<circle clip-path=\"url(#clip4702)\" cx=\"1618.23\" cy=\"727.348\" r=\"18\" fill=\"#ffa500\" fill-rule=\"evenodd\" fill-opacity=\"1\" stroke=\"#000000\" stroke-opacity=\"1\" stroke-width=\"2\"/>\n<circle clip-path=\"url(#clip4702)\" cx=\"1645.37\" cy=\"618.943\" r=\"18\" fill=\"#ffa500\" fill-rule=\"evenodd\" fill-opacity=\"1\" stroke=\"#000000\" stroke-opacity=\"1\" stroke-width=\"2\"/>\n<circle clip-path=\"url(#clip4702)\" cx=\"1672.51\" cy=\"673.145\" r=\"18\" fill=\"#ffa500\" fill-rule=\"evenodd\" fill-opacity=\"1\" stroke=\"#000000\" stroke-opacity=\"1\" stroke-width=\"2\"/>\n<circle clip-path=\"url(#clip4702)\" cx=\"1699.66\" cy=\"808.651\" r=\"18\" fill=\"#ffa500\" fill-rule=\"evenodd\" fill-opacity=\"1\" stroke=\"#000000\" stroke-opacity=\"1\" stroke-width=\"2\"/>\n<circle clip-path=\"url(#clip4702)\" cx=\"1726.8\" cy=\"808.651\" r=\"18\" fill=\"#ffa500\" fill-rule=\"evenodd\" fill-opacity=\"1\" stroke=\"#000000\" stroke-opacity=\"1\" stroke-width=\"2\"/>\n<circle clip-path=\"url(#clip4702)\" cx=\"1753.94\" cy=\"591.842\" r=\"18\" fill=\"#ffa500\" fill-rule=\"evenodd\" fill-opacity=\"1\" stroke=\"#000000\" stroke-opacity=\"1\" stroke-width=\"2\"/>\n<circle clip-path=\"url(#clip4702)\" cx=\"1781.08\" cy=\"578.291\" r=\"18\" fill=\"#ffa500\" fill-rule=\"evenodd\" fill-opacity=\"1\" stroke=\"#000000\" stroke-opacity=\"1\" stroke-width=\"2\"/>\n<circle clip-path=\"url(#clip4702)\" cx=\"1808.23\" cy=\"564.741\" r=\"18\" fill=\"#ffa500\" fill-rule=\"evenodd\" fill-opacity=\"1\" stroke=\"#000000\" stroke-opacity=\"1\" stroke-width=\"2\"/>\n<circle clip-path=\"url(#clip4702)\" cx=\"1835.37\" cy=\"551.19\" r=\"18\" fill=\"#ffa500\" fill-rule=\"evenodd\" fill-opacity=\"1\" stroke=\"#000000\" stroke-opacity=\"1\" stroke-width=\"2\"/>\n<circle clip-path=\"url(#clip4702)\" cx=\"1862.51\" cy=\"659.595\" r=\"18\" fill=\"#ffa500\" fill-rule=\"evenodd\" fill-opacity=\"1\" stroke=\"#000000\" stroke-opacity=\"1\" stroke-width=\"2\"/>\n<circle clip-path=\"url(#clip4702)\" cx=\"1889.66\" cy=\"686.696\" r=\"18\" fill=\"#ffa500\" fill-rule=\"evenodd\" fill-opacity=\"1\" stroke=\"#000000\" stroke-opacity=\"1\" stroke-width=\"2\"/>\n<circle clip-path=\"url(#clip4702)\" cx=\"1916.8\" cy=\"808.651\" r=\"18\" fill=\"#ffa500\" fill-rule=\"evenodd\" fill-opacity=\"1\" stroke=\"#000000\" stroke-opacity=\"1\" stroke-width=\"2\"/>\n<circle clip-path=\"url(#clip4702)\" cx=\"1943.94\" cy=\"754.449\" r=\"18\" fill=\"#ffa500\" fill-rule=\"evenodd\" fill-opacity=\"1\" stroke=\"#000000\" stroke-opacity=\"1\" stroke-width=\"2\"/>\n<circle clip-path=\"url(#clip4702)\" cx=\"1971.08\" cy=\"632.494\" r=\"18\" fill=\"#ffa500\" fill-rule=\"evenodd\" fill-opacity=\"1\" stroke=\"#000000\" stroke-opacity=\"1\" stroke-width=\"2\"/>\n<circle clip-path=\"url(#clip4702)\" cx=\"1998.23\" cy=\"605.393\" r=\"18\" fill=\"#ffa500\" fill-rule=\"evenodd\" fill-opacity=\"1\" stroke=\"#000000\" stroke-opacity=\"1\" stroke-width=\"2\"/>\n<circle clip-path=\"url(#clip4702)\" cx=\"2025.37\" cy=\"618.943\" r=\"18\" fill=\"#ffa500\" fill-rule=\"evenodd\" fill-opacity=\"1\" stroke=\"#000000\" stroke-opacity=\"1\" stroke-width=\"2\"/>\n<circle clip-path=\"url(#clip4702)\" cx=\"2052.51\" cy=\"686.696\" r=\"18\" fill=\"#ffa500\" fill-rule=\"evenodd\" fill-opacity=\"1\" stroke=\"#000000\" stroke-opacity=\"1\" stroke-width=\"2\"/>\n<circle clip-path=\"url(#clip4702)\" cx=\"2079.66\" cy=\"673.145\" r=\"18\" fill=\"#ffa500\" fill-rule=\"evenodd\" fill-opacity=\"1\" stroke=\"#000000\" stroke-opacity=\"1\" stroke-width=\"2\"/>\n<circle clip-path=\"url(#clip4702)\" cx=\"2106.8\" cy=\"646.044\" r=\"18\" fill=\"#ffa500\" fill-rule=\"evenodd\" fill-opacity=\"1\" stroke=\"#000000\" stroke-opacity=\"1\" stroke-width=\"2\"/>\n<circle clip-path=\"url(#clip4702)\" cx=\"2133.94\" cy=\"618.943\" r=\"18\" fill=\"#ffa500\" fill-rule=\"evenodd\" fill-opacity=\"1\" stroke=\"#000000\" stroke-opacity=\"1\" stroke-width=\"2\"/>\n<circle clip-path=\"url(#clip4702)\" cx=\"2161.08\" cy=\"591.842\" r=\"18\" fill=\"#ffa500\" fill-rule=\"evenodd\" fill-opacity=\"1\" stroke=\"#000000\" stroke-opacity=\"1\" stroke-width=\"2\"/>\n<circle clip-path=\"url(#clip4702)\" cx=\"2188.23\" cy=\"618.943\" r=\"18\" fill=\"#ffa500\" fill-rule=\"evenodd\" fill-opacity=\"1\" stroke=\"#000000\" stroke-opacity=\"1\" stroke-width=\"2\"/>\n<circle clip-path=\"url(#clip4702)\" cx=\"2215.37\" cy=\"591.842\" r=\"18\" fill=\"#ffa500\" fill-rule=\"evenodd\" fill-opacity=\"1\" stroke=\"#000000\" stroke-opacity=\"1\" stroke-width=\"2\"/>\n<circle clip-path=\"url(#clip4702)\" cx=\"2242.51\" cy=\"754.449\" r=\"18\" fill=\"#ffa500\" fill-rule=\"evenodd\" fill-opacity=\"1\" stroke=\"#000000\" stroke-opacity=\"1\" stroke-width=\"2\"/>\n<circle clip-path=\"url(#clip4702)\" cx=\"2269.66\" cy=\"822.202\" r=\"18\" fill=\"#ffa500\" fill-rule=\"evenodd\" fill-opacity=\"1\" stroke=\"#000000\" stroke-opacity=\"1\" stroke-width=\"2\"/>\n<circle clip-path=\"url(#clip4702)\" cx=\"2296.8\" cy=\"686.696\" r=\"18\" fill=\"#ffa500\" fill-rule=\"evenodd\" fill-opacity=\"1\" stroke=\"#000000\" stroke-opacity=\"1\" stroke-width=\"2\"/>\n<circle clip-path=\"url(#clip4702)\" cx=\"2323.94\" cy=\"591.842\" r=\"18\" fill=\"#ffa500\" fill-rule=\"evenodd\" fill-opacity=\"1\" stroke=\"#000000\" stroke-opacity=\"1\" stroke-width=\"2\"/>\n<circle clip-path=\"url(#clip4702)\" cx=\"2351.08\" cy=\"578.291\" r=\"18\" fill=\"#ffa500\" fill-rule=\"evenodd\" fill-opacity=\"1\" stroke=\"#000000\" stroke-opacity=\"1\" stroke-width=\"2\"/>\n<circle clip-path=\"url(#clip4702)\" cx=\"2378.23\" cy=\"591.842\" r=\"18\" fill=\"#ffa500\" fill-rule=\"evenodd\" fill-opacity=\"1\" stroke=\"#000000\" stroke-opacity=\"1\" stroke-width=\"2\"/>\n<circle clip-path=\"url(#clip4702)\" cx=\"2405.37\" cy=\"605.393\" r=\"18\" fill=\"#ffa500\" fill-rule=\"evenodd\" fill-opacity=\"1\" stroke=\"#000000\" stroke-opacity=\"1\" stroke-width=\"2\"/>\n<circle clip-path=\"url(#clip4702)\" cx=\"2432.51\" cy=\"483.437\" r=\"18\" fill=\"#ffa500\" fill-rule=\"evenodd\" fill-opacity=\"1\" stroke=\"#000000\" stroke-opacity=\"1\" stroke-width=\"2\"/>\n<circle clip-path=\"url(#clip4702)\" cx=\"2459.66\" cy=\"768\" r=\"18\" fill=\"#ffa500\" fill-rule=\"evenodd\" fill-opacity=\"1\" stroke=\"#000000\" stroke-opacity=\"1\" stroke-width=\"2\"/>\n<circle clip-path=\"url(#clip4702)\" cx=\"2486.8\" cy=\"808.651\" r=\"18\" fill=\"#ffa500\" fill-rule=\"evenodd\" fill-opacity=\"1\" stroke=\"#000000\" stroke-opacity=\"1\" stroke-width=\"2\"/>\n<polyline clip-path=\"url(#clip4702)\" style=\"stroke:#ff0000; stroke-width:16; stroke-opacity:1; fill:none\" stroke-dasharray=\"64, 40\" points=\"\n  -2108.22,614.426 4883.24,614.426 \n  \"/>\n</svg>\n"
          },
          "metadata": {}
        }
      ],
      "execution_count": 37,
      "metadata": {
        "collapsed": true,
        "jupyter": {
          "source_hidden": false,
          "outputs_hidden": false
        },
        "nteract": {
          "transient": {
            "deleting": false
          }
        },
        "execution": {
          "iopub.status.busy": "2020-11-30T06:28:06.616Z",
          "iopub.execute_input": "2020-11-30T06:28:06.641Z",
          "iopub.status.idle": "2020-11-30T06:28:06.689Z"
        }
      }
    },
    {
      "cell_type": "code",
      "source": [
        "# Leer matriz de frecuencia para tener un indice de cuales son los usuarios que más interactuan en la plataforma \n",
        "frequencyEventUsers= DataFrame(CSV.File(\"../data/frequency_events_users_giant.csv\"))\n",
        "first(frequencyEventUsers,5)"
      ],
      "outputs": [
        {
          "output_type": "execute_result",
          "execution_count": 38,
          "data": {
            "text/plain": "5×110 DataFrame. Omitted printing of 102 columns\n│ Row │ USER_ID │ 1     │ 2     │ 3     │ 4     │ 5     │ 6     │ 7     │\n│     │ \u001b[90mInt64\u001b[39m   │ \u001b[90mInt64\u001b[39m │ \u001b[90mInt64\u001b[39m │ \u001b[90mInt64\u001b[39m │ \u001b[90mInt64\u001b[39m │ \u001b[90mInt64\u001b[39m │ \u001b[90mInt64\u001b[39m │ \u001b[90mInt64\u001b[39m │\n├─────┼─────────┼───────┼───────┼───────┼───────┼───────┼───────┼───────┤\n│ 1   │ -10     │ 0     │ 0     │ 0     │ 0     │ 0     │ 0     │ 0     │\n│ 2   │ -1      │ 0     │ 0     │ 0     │ 0     │ 0     │ 0     │ 0     │\n│ 3   │ 0       │ 0     │ 103   │ 0     │ 0     │ 0     │ 0     │ 0     │\n│ 4   │ 2       │ 0     │ 3     │ 65    │ 114   │ 290   │ 13    │ 16    │\n│ 5   │ 3       │ 0     │ 2     │ 33    │ 42    │ 162   │ 6     │ 45    │",
            "text/html": "<table class=\"data-frame\"><thead><tr><th></th><th>USER_ID</th><th>1</th><th>2</th><th>3</th><th>4</th><th>5</th><th>6</th><th>7</th><th>8</th><th>9</th><th>10</th><th>11</th></tr><tr><th></th><th>Int64</th><th>Int64</th><th>Int64</th><th>Int64</th><th>Int64</th><th>Int64</th><th>Int64</th><th>Int64</th><th>Int64</th><th>Int64</th><th>Int64</th><th>Int64</th></tr></thead><tbody><p>5 rows × 110 columns (omitted printing of 98 columns)</p><tr><th>1</th><td>-10</td><td>0</td><td>0</td><td>0</td><td>0</td><td>0</td><td>0</td><td>0</td><td>0</td><td>0</td><td>0</td><td>0</td></tr><tr><th>2</th><td>-1</td><td>0</td><td>0</td><td>0</td><td>0</td><td>0</td><td>0</td><td>0</td><td>0</td><td>0</td><td>0</td><td>0</td></tr><tr><th>3</th><td>0</td><td>0</td><td>103</td><td>0</td><td>0</td><td>0</td><td>0</td><td>0</td><td>0</td><td>0</td><td>0</td><td>0</td></tr><tr><th>4</th><td>2</td><td>0</td><td>3</td><td>65</td><td>114</td><td>290</td><td>13</td><td>16</td><td>7</td><td>0</td><td>0</td><td>74</td></tr><tr><th>5</th><td>3</td><td>0</td><td>2</td><td>33</td><td>42</td><td>162</td><td>6</td><td>45</td><td>20</td><td>0</td><td>0</td><td>0</td></tr></tbody></table>",
            "text/latex": "\\begin{tabular}{r|ccccccccccccc}\n\t& USER\\_ID & 1 & 2 & 3 & 4 & 5 & 6 & 7 & 8 & 9 & 10 & 11 & \\\\\n\t\\hline\n\t& Int64 & Int64 & Int64 & Int64 & Int64 & Int64 & Int64 & Int64 & Int64 & Int64 & Int64 & Int64 & \\\\\n\t\\hline\n\t1 & -10 & 0 & 0 & 0 & 0 & 0 & 0 & 0 & 0 & 0 & 0 & 0 & $\\dots$ \\\\\n\t2 & -1 & 0 & 0 & 0 & 0 & 0 & 0 & 0 & 0 & 0 & 0 & 0 & $\\dots$ \\\\\n\t3 & 0 & 0 & 103 & 0 & 0 & 0 & 0 & 0 & 0 & 0 & 0 & 0 & $\\dots$ \\\\\n\t4 & 2 & 0 & 3 & 65 & 114 & 290 & 13 & 16 & 7 & 0 & 0 & 74 & $\\dots$ \\\\\n\t5 & 3 & 0 & 2 & 33 & 42 & 162 & 6 & 45 & 20 & 0 & 0 & 0 & $\\dots$ \\\\\n\\end{tabular}\n"
          },
          "metadata": {}
        }
      ],
      "execution_count": 38,
      "metadata": {
        "collapsed": true,
        "jupyter": {
          "source_hidden": false,
          "outputs_hidden": false
        },
        "nteract": {
          "transient": {
            "deleting": false
          }
        },
        "execution": {
          "iopub.status.busy": "2020-11-30T06:28:12.595Z",
          "iopub.execute_input": "2020-11-30T06:28:12.638Z",
          "iopub.status.idle": "2020-11-30T06:28:12.981Z"
        }
      }
    },
    {
      "cell_type": "code",
      "source": [
        "#Resumen del marco de los datos\n",
        "println(size(frequencyEventUsers))"
      ],
      "outputs": [
        {
          "output_type": "stream",
          "name": "stdout",
          "text": [
            "(109, 110)\n"
          ]
        }
      ],
      "execution_count": 39,
      "metadata": {
        "collapsed": true,
        "jupyter": {
          "source_hidden": false,
          "outputs_hidden": false
        },
        "nteract": {
          "transient": {
            "deleting": false
          }
        },
        "execution": {
          "iopub.status.busy": "2020-11-30T06:28:15.552Z",
          "iopub.execute_input": "2020-11-30T06:28:15.575Z",
          "iopub.status.idle": "2020-11-30T06:28:15.732Z"
        }
      }
    },
    {
      "cell_type": "code",
      "source": [
        "eventsDataFrame"
      ],
      "outputs": [
        {
          "output_type": "execute_result",
          "execution_count": 40,
          "data": {
            "text/plain": "40674×22 DataFrame. Omitted printing of 20 columns\n│ Row   │ _id                      │ id    │\n│       │ \u001b[90mString\u001b[39m                   │ \u001b[90mInt64\u001b[39m │\n├───────┼──────────────────────────┼───────┤\n│ 1     │ 5fa09d8267fbc452c4f02343 │ 1     │\n│ 2     │ 5fa09d8267fbc452c4f02344 │ 2     │\n│ 3     │ 5fa09d8267fbc452c4f02345 │ 3     │\n│ 4     │ 5fa09d8267fbc452c4f02346 │ 4     │\n│ 5     │ 5fa09d8267fbc452c4f02347 │ 5     │\n│ 6     │ 5fa09d8267fbc452c4f02348 │ 6     │\n│ 7     │ 5fa09d8267fbc452c4f02349 │ 7     │\n│ 8     │ 5fa09d8267fbc452c4f0234a │ 8     │\n│ 9     │ 5fa09d8267fbc452c4f0234b │ 9     │\n│ 10    │ 5fa09d8267fbc452c4f0234c │ 10    │\n⋮\n│ 40664 │ 5fa09d8c67fbc452c4f0c21a │ 40664 │\n│ 40665 │ 5fa09d8c67fbc452c4f0c21b │ 40665 │\n│ 40666 │ 5fa09d8c67fbc452c4f0c21c │ 40666 │\n│ 40667 │ 5fa09d8c67fbc452c4f0c21d │ 40667 │\n│ 40668 │ 5fa09d8c67fbc452c4f0c21e │ 40668 │\n│ 40669 │ 5fa09d8c67fbc452c4f0c21f │ 40669 │\n│ 40670 │ 5fa09d8c67fbc452c4f0c220 │ 40670 │\n│ 40671 │ 5fa09d8c67fbc452c4f0c221 │ 40671 │\n│ 40672 │ 5fa09d8c67fbc452c4f0c222 │ 40672 │\n│ 40673 │ 5fa09d8c67fbc452c4f0c223 │ 40673 │\n│ 40674 │ 5fa09d8c67fbc452c4f0c224 │ 40674 │",
            "text/html": "<table class=\"data-frame\"><thead><tr><th></th><th>_id</th><th>id</th><th>eventname</th></tr><tr><th></th><th>String</th><th>Int64</th><th>String</th></tr></thead><tbody><p>40,674 rows × 22 columns (omitted printing of 19 columns)</p><tr><th>1</th><td>5fa09d8267fbc452c4f02343</td><td>1</td><td>\\\\giant\\\\event\\\\extended_challenge_team_viewed</td></tr><tr><th>2</th><td>5fa09d8267fbc452c4f02344</td><td>2</td><td>\\\\core\\\\event\\\\user_login_failed</td></tr><tr><th>3</th><td>5fa09d8267fbc452c4f02345</td><td>3</td><td>\\\\core\\\\event\\\\user_loggedin</td></tr><tr><th>4</th><td>5fa09d8267fbc452c4f02346</td><td>4</td><td>\\\\core\\\\event\\\\dashboard_viewed</td></tr><tr><th>5</th><td>5fa09d8267fbc452c4f02347</td><td>5</td><td>\\\\core\\\\event\\\\course_viewed</td></tr><tr><th>6</th><td>5fa09d8267fbc452c4f02348</td><td>6</td><td>\\\\core\\\\event\\\\course_viewed</td></tr><tr><th>7</th><td>5fa09d8267fbc452c4f02349</td><td>7</td><td>\\\\core\\\\event\\\\dashboard_viewed</td></tr><tr><th>8</th><td>5fa09d8267fbc452c4f0234a</td><td>8</td><td>\\\\core\\\\event\\\\dashboard_viewed</td></tr><tr><th>9</th><td>5fa09d8267fbc452c4f0234b</td><td>9</td><td>\\\\core\\\\event\\\\user_loggedin</td></tr><tr><th>10</th><td>5fa09d8267fbc452c4f0234c</td><td>10</td><td>\\\\core\\\\event\\\\dashboard_viewed</td></tr><tr><th>11</th><td>5fa09d8267fbc452c4f0234d</td><td>11</td><td>\\\\core\\\\event\\\\user_loggedin</td></tr><tr><th>12</th><td>5fa09d8267fbc452c4f0234e</td><td>12</td><td>\\\\core\\\\event\\\\dashboard_viewed</td></tr><tr><th>13</th><td>5fa09d8267fbc452c4f0234f</td><td>13</td><td>\\\\core\\\\event\\\\user_profile_viewed</td></tr><tr><th>14</th><td>5fa09d8267fbc452c4f02350</td><td>14</td><td>\\\\core\\\\event\\\\course_viewed</td></tr><tr><th>15</th><td>5fa09d8267fbc452c4f02351</td><td>15</td><td>\\\\core\\\\event\\\\course_viewed</td></tr><tr><th>16</th><td>5fa09d8267fbc452c4f02352</td><td>16</td><td>\\\\mod_scorm\\\\event\\\\course_module_viewed</td></tr><tr><th>17</th><td>5fa09d8267fbc452c4f02353</td><td>17</td><td>\\\\mod_scorm\\\\event\\\\course_module_viewed</td></tr><tr><th>18</th><td>5fa09d8267fbc452c4f02354</td><td>18</td><td>\\\\mod_scorm\\\\event\\\\sco_launched</td></tr><tr><th>19</th><td>5fa09d8267fbc452c4f02355</td><td>19</td><td>\\\\core\\\\event\\\\user_loggedin</td></tr><tr><th>20</th><td>5fa09d8267fbc452c4f02356</td><td>20</td><td>\\\\core\\\\event\\\\dashboard_viewed</td></tr><tr><th>21</th><td>5fa09d8267fbc452c4f02357</td><td>21</td><td>\\\\core\\\\event\\\\course_viewed</td></tr><tr><th>22</th><td>5fa09d8267fbc452c4f02358</td><td>22</td><td>\\\\core\\\\event\\\\dashboard_viewed</td></tr><tr><th>23</th><td>5fa09d8267fbc452c4f02359</td><td>23</td><td>\\\\core\\\\event\\\\course_viewed</td></tr><tr><th>24</th><td>5fa09d8267fbc452c4f0235a</td><td>24</td><td>\\\\core\\\\event\\\\course_viewed</td></tr><tr><th>25</th><td>5fa09d8267fbc452c4f0235b</td><td>25</td><td>\\\\core\\\\event\\\\course_viewed</td></tr><tr><th>26</th><td>5fa09d8267fbc452c4f0235c</td><td>26</td><td>\\\\core\\\\event\\\\course_viewed</td></tr><tr><th>27</th><td>5fa09d8267fbc452c4f0235d</td><td>27</td><td>\\\\mod_scorm\\\\event\\\\course_module_viewed</td></tr><tr><th>28</th><td>5fa09d8267fbc452c4f0235e</td><td>28</td><td>\\\\mod_scorm\\\\event\\\\course_module_viewed</td></tr><tr><th>29</th><td>5fa09d8267fbc452c4f0235f</td><td>29</td><td>\\\\mod_scorm\\\\event\\\\sco_launched</td></tr><tr><th>30</th><td>5fa09d8267fbc452c4f02360</td><td>30</td><td>\\\\core\\\\event\\\\dashboard_viewed</td></tr><tr><th>&vellip;</th><td>&vellip;</td><td>&vellip;</td><td>&vellip;</td></tr></tbody></table>",
            "text/latex": "\\begin{tabular}{r|cccc}\n\t& \\_id & id & eventname & \\\\\n\t\\hline\n\t& String & Int64 & String & \\\\\n\t\\hline\n\t1 & 5fa09d8267fbc452c4f02343 & 1 & \\textbackslash{}\\textbackslash{}giant\\textbackslash{}\\textbackslash{}event\\textbackslash{}\\textbackslash{}extended\\_challenge\\_team\\_viewed & $\\dots$ \\\\\n\t2 & 5fa09d8267fbc452c4f02344 & 2 & \\textbackslash{}\\textbackslash{}core\\textbackslash{}\\textbackslash{}event\\textbackslash{}\\textbackslash{}user\\_login\\_failed & $\\dots$ \\\\\n\t3 & 5fa09d8267fbc452c4f02345 & 3 & \\textbackslash{}\\textbackslash{}core\\textbackslash{}\\textbackslash{}event\\textbackslash{}\\textbackslash{}user\\_loggedin & $\\dots$ \\\\\n\t4 & 5fa09d8267fbc452c4f02346 & 4 & \\textbackslash{}\\textbackslash{}core\\textbackslash{}\\textbackslash{}event\\textbackslash{}\\textbackslash{}dashboard\\_viewed & $\\dots$ \\\\\n\t5 & 5fa09d8267fbc452c4f02347 & 5 & \\textbackslash{}\\textbackslash{}core\\textbackslash{}\\textbackslash{}event\\textbackslash{}\\textbackslash{}course\\_viewed & $\\dots$ \\\\\n\t6 & 5fa09d8267fbc452c4f02348 & 6 & \\textbackslash{}\\textbackslash{}core\\textbackslash{}\\textbackslash{}event\\textbackslash{}\\textbackslash{}course\\_viewed & $\\dots$ \\\\\n\t7 & 5fa09d8267fbc452c4f02349 & 7 & \\textbackslash{}\\textbackslash{}core\\textbackslash{}\\textbackslash{}event\\textbackslash{}\\textbackslash{}dashboard\\_viewed & $\\dots$ \\\\\n\t8 & 5fa09d8267fbc452c4f0234a & 8 & \\textbackslash{}\\textbackslash{}core\\textbackslash{}\\textbackslash{}event\\textbackslash{}\\textbackslash{}dashboard\\_viewed & $\\dots$ \\\\\n\t9 & 5fa09d8267fbc452c4f0234b & 9 & \\textbackslash{}\\textbackslash{}core\\textbackslash{}\\textbackslash{}event\\textbackslash{}\\textbackslash{}user\\_loggedin & $\\dots$ \\\\\n\t10 & 5fa09d8267fbc452c4f0234c & 10 & \\textbackslash{}\\textbackslash{}core\\textbackslash{}\\textbackslash{}event\\textbackslash{}\\textbackslash{}dashboard\\_viewed & $\\dots$ \\\\\n\t11 & 5fa09d8267fbc452c4f0234d & 11 & \\textbackslash{}\\textbackslash{}core\\textbackslash{}\\textbackslash{}event\\textbackslash{}\\textbackslash{}user\\_loggedin & $\\dots$ \\\\\n\t12 & 5fa09d8267fbc452c4f0234e & 12 & \\textbackslash{}\\textbackslash{}core\\textbackslash{}\\textbackslash{}event\\textbackslash{}\\textbackslash{}dashboard\\_viewed & $\\dots$ \\\\\n\t13 & 5fa09d8267fbc452c4f0234f & 13 & \\textbackslash{}\\textbackslash{}core\\textbackslash{}\\textbackslash{}event\\textbackslash{}\\textbackslash{}user\\_profile\\_viewed & $\\dots$ \\\\\n\t14 & 5fa09d8267fbc452c4f02350 & 14 & \\textbackslash{}\\textbackslash{}core\\textbackslash{}\\textbackslash{}event\\textbackslash{}\\textbackslash{}course\\_viewed & $\\dots$ \\\\\n\t15 & 5fa09d8267fbc452c4f02351 & 15 & \\textbackslash{}\\textbackslash{}core\\textbackslash{}\\textbackslash{}event\\textbackslash{}\\textbackslash{}course\\_viewed & $\\dots$ \\\\\n\t16 & 5fa09d8267fbc452c4f02352 & 16 & \\textbackslash{}\\textbackslash{}mod\\_scorm\\textbackslash{}\\textbackslash{}event\\textbackslash{}\\textbackslash{}course\\_module\\_viewed & $\\dots$ \\\\\n\t17 & 5fa09d8267fbc452c4f02353 & 17 & \\textbackslash{}\\textbackslash{}mod\\_scorm\\textbackslash{}\\textbackslash{}event\\textbackslash{}\\textbackslash{}course\\_module\\_viewed & $\\dots$ \\\\\n\t18 & 5fa09d8267fbc452c4f02354 & 18 & \\textbackslash{}\\textbackslash{}mod\\_scorm\\textbackslash{}\\textbackslash{}event\\textbackslash{}\\textbackslash{}sco\\_launched & $\\dots$ \\\\\n\t19 & 5fa09d8267fbc452c4f02355 & 19 & \\textbackslash{}\\textbackslash{}core\\textbackslash{}\\textbackslash{}event\\textbackslash{}\\textbackslash{}user\\_loggedin & $\\dots$ \\\\\n\t20 & 5fa09d8267fbc452c4f02356 & 20 & \\textbackslash{}\\textbackslash{}core\\textbackslash{}\\textbackslash{}event\\textbackslash{}\\textbackslash{}dashboard\\_viewed & $\\dots$ \\\\\n\t21 & 5fa09d8267fbc452c4f02357 & 21 & \\textbackslash{}\\textbackslash{}core\\textbackslash{}\\textbackslash{}event\\textbackslash{}\\textbackslash{}course\\_viewed & $\\dots$ \\\\\n\t22 & 5fa09d8267fbc452c4f02358 & 22 & \\textbackslash{}\\textbackslash{}core\\textbackslash{}\\textbackslash{}event\\textbackslash{}\\textbackslash{}dashboard\\_viewed & $\\dots$ \\\\\n\t23 & 5fa09d8267fbc452c4f02359 & 23 & \\textbackslash{}\\textbackslash{}core\\textbackslash{}\\textbackslash{}event\\textbackslash{}\\textbackslash{}course\\_viewed & $\\dots$ \\\\\n\t24 & 5fa09d8267fbc452c4f0235a & 24 & \\textbackslash{}\\textbackslash{}core\\textbackslash{}\\textbackslash{}event\\textbackslash{}\\textbackslash{}course\\_viewed & $\\dots$ \\\\\n\t25 & 5fa09d8267fbc452c4f0235b & 25 & \\textbackslash{}\\textbackslash{}core\\textbackslash{}\\textbackslash{}event\\textbackslash{}\\textbackslash{}course\\_viewed & $\\dots$ \\\\\n\t26 & 5fa09d8267fbc452c4f0235c & 26 & \\textbackslash{}\\textbackslash{}core\\textbackslash{}\\textbackslash{}event\\textbackslash{}\\textbackslash{}course\\_viewed & $\\dots$ \\\\\n\t27 & 5fa09d8267fbc452c4f0235d & 27 & \\textbackslash{}\\textbackslash{}mod\\_scorm\\textbackslash{}\\textbackslash{}event\\textbackslash{}\\textbackslash{}course\\_module\\_viewed & $\\dots$ \\\\\n\t28 & 5fa09d8267fbc452c4f0235e & 28 & \\textbackslash{}\\textbackslash{}mod\\_scorm\\textbackslash{}\\textbackslash{}event\\textbackslash{}\\textbackslash{}course\\_module\\_viewed & $\\dots$ \\\\\n\t29 & 5fa09d8267fbc452c4f0235f & 29 & \\textbackslash{}\\textbackslash{}mod\\_scorm\\textbackslash{}\\textbackslash{}event\\textbackslash{}\\textbackslash{}sco\\_launched & $\\dots$ \\\\\n\t30 & 5fa09d8267fbc452c4f02360 & 30 & \\textbackslash{}\\textbackslash{}core\\textbackslash{}\\textbackslash{}event\\textbackslash{}\\textbackslash{}dashboard\\_viewed & $\\dots$ \\\\\n\t$\\dots$ & $\\dots$ & $\\dots$ & $\\dots$ &  \\\\\n\\end{tabular}\n"
          },
          "metadata": {}
        }
      ],
      "execution_count": 40,
      "metadata": {
        "collapsed": true,
        "jupyter": {
          "source_hidden": false,
          "outputs_hidden": false
        },
        "nteract": {
          "transient": {
            "deleting": false
          }
        },
        "execution": {
          "iopub.status.busy": "2020-11-30T06:28:17.898Z",
          "iopub.execute_input": "2020-11-30T06:28:17.920Z",
          "iopub.status.idle": "2020-11-30T06:28:17.971Z"
        }
      }
    },
    {
      "cell_type": "code",
      "source": [
        "# Obteniendo la suma de los eventos realizados por un usuario\n",
        "eventsWithoutUsers = frequencyEventUsers[!, Not([:USER_ID])];\n",
        "userByEventsSumDataFrame = DataFrame(USER_ID = frequencyEventUsers[!,:USER_ID], SUM_EVENTS = sum.(eachrow(eventsWithoutUsers)))\n"
      ],
      "outputs": [
        {
          "output_type": "execute_result",
          "execution_count": 41,
          "data": {
            "text/plain": "109×2 DataFrame\n│ Row │ USER_ID │ SUM_EVENTS │\n│     │ \u001b[90mInt64\u001b[39m   │ \u001b[90mInt64\u001b[39m      │\n├─────┼─────────┼────────────┤\n│ 1   │ -10     │ 99         │\n│ 2   │ -1      │ 336        │\n│ 3   │ 0       │ 235        │\n│ 4   │ 2       │ 1477       │\n│ 5   │ 3       │ 431        │\n│ 6   │ 4       │ 1957       │\n│ 7   │ 5       │ 1          │\n│ 8   │ 6       │ 295        │\n│ 9   │ 7       │ 3          │\n│ 10  │ 8       │ 8          │\n⋮\n│ 99  │ 154     │ 9          │\n│ 100 │ 156     │ 449        │\n│ 101 │ 157     │ 223        │\n│ 102 │ 158     │ 100        │\n│ 103 │ 160     │ 91         │\n│ 104 │ 161     │ 328        │\n│ 105 │ 164     │ 88         │\n│ 106 │ 165     │ 46         │\n│ 107 │ 166     │ 30         │\n│ 108 │ 168     │ 86         │\n│ 109 │ 169     │ 54         │",
            "text/html": "<table class=\"data-frame\"><thead><tr><th></th><th>USER_ID</th><th>SUM_EVENTS</th></tr><tr><th></th><th>Int64</th><th>Int64</th></tr></thead><tbody><p>109 rows × 2 columns</p><tr><th>1</th><td>-10</td><td>99</td></tr><tr><th>2</th><td>-1</td><td>336</td></tr><tr><th>3</th><td>0</td><td>235</td></tr><tr><th>4</th><td>2</td><td>1477</td></tr><tr><th>5</th><td>3</td><td>431</td></tr><tr><th>6</th><td>4</td><td>1957</td></tr><tr><th>7</th><td>5</td><td>1</td></tr><tr><th>8</th><td>6</td><td>295</td></tr><tr><th>9</th><td>7</td><td>3</td></tr><tr><th>10</th><td>8</td><td>8</td></tr><tr><th>11</th><td>9</td><td>408</td></tr><tr><th>12</th><td>10</td><td>1407</td></tr><tr><th>13</th><td>18</td><td>550</td></tr><tr><th>14</th><td>19</td><td>546</td></tr><tr><th>15</th><td>23</td><td>45</td></tr><tr><th>16</th><td>26</td><td>732</td></tr><tr><th>17</th><td>27</td><td>142</td></tr><tr><th>18</th><td>28</td><td>124</td></tr><tr><th>19</th><td>29</td><td>6</td></tr><tr><th>20</th><td>30</td><td>857</td></tr><tr><th>21</th><td>32</td><td>748</td></tr><tr><th>22</th><td>33</td><td>840</td></tr><tr><th>23</th><td>35</td><td>2</td></tr><tr><th>24</th><td>36</td><td>32</td></tr><tr><th>25</th><td>41</td><td>707</td></tr><tr><th>26</th><td>42</td><td>883</td></tr><tr><th>27</th><td>44</td><td>911</td></tr><tr><th>28</th><td>48</td><td>557</td></tr><tr><th>29</th><td>50</td><td>42</td></tr><tr><th>30</th><td>53</td><td>62</td></tr><tr><th>&vellip;</th><td>&vellip;</td><td>&vellip;</td></tr></tbody></table>",
            "text/latex": "\\begin{tabular}{r|cc}\n\t& USER\\_ID & SUM\\_EVENTS\\\\\n\t\\hline\n\t& Int64 & Int64\\\\\n\t\\hline\n\t1 & -10 & 99 \\\\\n\t2 & -1 & 336 \\\\\n\t3 & 0 & 235 \\\\\n\t4 & 2 & 1477 \\\\\n\t5 & 3 & 431 \\\\\n\t6 & 4 & 1957 \\\\\n\t7 & 5 & 1 \\\\\n\t8 & 6 & 295 \\\\\n\t9 & 7 & 3 \\\\\n\t10 & 8 & 8 \\\\\n\t11 & 9 & 408 \\\\\n\t12 & 10 & 1407 \\\\\n\t13 & 18 & 550 \\\\\n\t14 & 19 & 546 \\\\\n\t15 & 23 & 45 \\\\\n\t16 & 26 & 732 \\\\\n\t17 & 27 & 142 \\\\\n\t18 & 28 & 124 \\\\\n\t19 & 29 & 6 \\\\\n\t20 & 30 & 857 \\\\\n\t21 & 32 & 748 \\\\\n\t22 & 33 & 840 \\\\\n\t23 & 35 & 2 \\\\\n\t24 & 36 & 32 \\\\\n\t25 & 41 & 707 \\\\\n\t26 & 42 & 883 \\\\\n\t27 & 44 & 911 \\\\\n\t28 & 48 & 557 \\\\\n\t29 & 50 & 42 \\\\\n\t30 & 53 & 62 \\\\\n\t$\\dots$ & $\\dots$ & $\\dots$ \\\\\n\\end{tabular}\n"
          },
          "metadata": {}
        }
      ],
      "execution_count": 41,
      "metadata": {
        "collapsed": true,
        "jupyter": {
          "source_hidden": false,
          "outputs_hidden": false
        },
        "nteract": {
          "transient": {
            "deleting": false
          }
        },
        "execution": {
          "iopub.status.busy": "2020-11-30T06:28:20.341Z",
          "iopub.execute_input": "2020-11-30T06:28:20.377Z",
          "iopub.status.idle": "2020-11-30T06:28:20.575Z"
        }
      }
    },
    {
      "cell_type": "code",
      "source": [
        "# Obteniendo análisis descriptivo del marco de datos con los usuarios que tienen mayor ejecución de eventos\n",
        "describe(userByEventsSumDataFrame)"
      ],
      "outputs": [
        {
          "output_type": "execute_result",
          "execution_count": 42,
          "data": {
            "text/plain": "2×8 DataFrame. Omitted printing of 1 columns\n│ Row │ variable   │ mean    │ min   │ median  │ max   │ nunique │ nmissing │\n│     │ \u001b[90mSymbol\u001b[39m     │ \u001b[90mFloat64\u001b[39m │ \u001b[90mInt64\u001b[39m │ \u001b[90mFloat64\u001b[39m │ \u001b[90mInt64\u001b[39m │ \u001b[90mNothing\u001b[39m │ \u001b[90mNothing\u001b[39m  │\n├─────┼────────────┼─────────┼───────┼─────────┼───────┼─────────┼──────────┤\n│ 1   │ USER_ID    │ 85.7248 │ -10   │ 84.0    │ 169   │         │          │\n│ 2   │ SUM_EVENTS │ 373.156 │ 1     │ 229.0   │ 1957  │         │          │",
            "text/html": "<table class=\"data-frame\"><thead><tr><th></th><th>variable</th><th>mean</th><th>min</th><th>median</th><th>max</th><th>nunique</th><th>nmissing</th><th>eltype</th></tr><tr><th></th><th>Symbol</th><th>Float64</th><th>Int64</th><th>Float64</th><th>Int64</th><th>Nothing</th><th>Nothing</th><th>DataType</th></tr></thead><tbody><p>2 rows × 8 columns</p><tr><th>1</th><td>USER_ID</td><td>85.7248</td><td>-10</td><td>84.0</td><td>169</td><td></td><td></td><td>Int64</td></tr><tr><th>2</th><td>SUM_EVENTS</td><td>373.156</td><td>1</td><td>229.0</td><td>1957</td><td></td><td></td><td>Int64</td></tr></tbody></table>",
            "text/latex": "\\begin{tabular}{r|cccccccc}\n\t& variable & mean & min & median & max & nunique & nmissing & eltype\\\\\n\t\\hline\n\t& Symbol & Float64 & Int64 & Float64 & Int64 & Nothing & Nothing & DataType\\\\\n\t\\hline\n\t1 & USER\\_ID & 85.7248 & -10 & 84.0 & 169 &  &  & Int64 \\\\\n\t2 & SUM\\_EVENTS & 373.156 & 1 & 229.0 & 1957 &  &  & Int64 \\\\\n\\end{tabular}\n"
          },
          "metadata": {}
        }
      ],
      "execution_count": 42,
      "metadata": {
        "collapsed": true,
        "jupyter": {
          "source_hidden": false,
          "outputs_hidden": false
        },
        "nteract": {
          "transient": {
            "deleting": false
          }
        },
        "execution": {
          "iopub.status.busy": "2020-11-30T06:28:22.929Z",
          "iopub.execute_input": "2020-11-30T06:28:22.950Z",
          "iopub.status.idle": "2020-11-30T06:28:23.425Z"
        }
      }
    },
    {
      "cell_type": "code",
      "source": [
        "floor(Int,mean(userByEventsSumDataFrame[!,:SUM_EVENTS]))"
      ],
      "outputs": [
        {
          "output_type": "execute_result",
          "execution_count": 43,
          "data": {
            "text/plain": "373"
          },
          "metadata": {}
        }
      ],
      "execution_count": 43,
      "metadata": {
        "collapsed": true,
        "jupyter": {
          "source_hidden": false,
          "outputs_hidden": false
        },
        "nteract": {
          "transient": {
            "deleting": false
          }
        },
        "execution": {
          "iopub.status.busy": "2020-11-30T06:28:25.470Z",
          "iopub.execute_input": "2020-11-30T06:28:25.494Z",
          "iopub.status.idle": "2020-11-30T06:28:25.545Z"
        }
      }
    },
    {
      "cell_type": "code",
      "source": [
        "x=userByEventsSumDataFrame[!,:USER_ID]\n",
        "y=userByEventsSumDataFrame[!,:SUM_EVENTS]\n",
        "plot(x, y, seriestype = :bar, size=(700,300), title = \"Highest number of events executed\", xlabel = \"user id\", ylabel = \"events sum\", label = [\"Events\" \"Events\"] )\n",
        "media=floor(Int,mean(userByEventsSumDataFrame[!,:SUM_EVENTS]))\n",
        "hline!(\n",
        "    [media], \n",
        "    color = \"green\", \n",
        "    linestyle = :dash, \n",
        "    linewidth = 4,\n",
        "    label = [\"Mean\" \"Mean\"]\n",
        "    )"
      ],
      "outputs": [
        {
          "output_type": "execute_result",
          "execution_count": 47,
          "data": {
            "image/svg+xml": "<?xml version=\"1.0\" encoding=\"utf-8\"?>\n<svg xmlns=\"http://www.w3.org/2000/svg\" xmlns:xlink=\"http://www.w3.org/1999/xlink\" width=\"700\" height=\"300\" viewBox=\"0 0 2800 1200\">\n<defs>\n  <clipPath id=\"clip6300\">\n    <rect x=\"0\" y=\"0\" width=\"2800\" height=\"1200\"/>\n  </clipPath>\n</defs>\n<path clip-path=\"url(#clip6300)\" d=\"\nM0 1200 L2800 1200 L2800 0 L0 0  Z\n  \" fill=\"#ffffff\" fill-rule=\"evenodd\" fill-opacity=\"1\"/>\n<defs>\n  <clipPath id=\"clip6301\">\n    <rect x=\"560\" y=\"0\" width=\"1961\" height=\"1200\"/>\n  </clipPath>\n</defs>\n<path clip-path=\"url(#clip6300)\" d=\"\nM248.371 1047.53 L2752.76 1047.53 L2752.76 107.004 L248.371 107.004  Z\n  \" fill=\"#ffffff\" fill-rule=\"evenodd\" fill-opacity=\"1\"/>\n<defs>\n  <clipPath id=\"clip6302\">\n    <rect x=\"248\" y=\"107\" width=\"2505\" height=\"942\"/>\n  </clipPath>\n</defs>\n<polyline clip-path=\"url(#clip6302)\" style=\"stroke:#000000; stroke-width:2; stroke-opacity:0.1; fill:none\" points=\"\n  515.04,1047.53 515.04,107.004 \n  \"/>\n<polyline clip-path=\"url(#clip6302)\" style=\"stroke:#000000; stroke-width:2; stroke-opacity:0.1; fill:none\" points=\"\n  1134.87,1047.53 1134.87,107.004 \n  \"/>\n<polyline clip-path=\"url(#clip6302)\" style=\"stroke:#000000; stroke-width:2; stroke-opacity:0.1; fill:none\" points=\"\n  1754.69,1047.53 1754.69,107.004 \n  \"/>\n<polyline clip-path=\"url(#clip6302)\" style=\"stroke:#000000; stroke-width:2; stroke-opacity:0.1; fill:none\" points=\"\n  2374.52,1047.53 2374.52,107.004 \n  \"/>\n<polyline clip-path=\"url(#clip6302)\" style=\"stroke:#000000; stroke-width:2; stroke-opacity:0.1; fill:none\" points=\"\n  248.371,1020.91 2752.76,1020.91 \n  \"/>\n<polyline clip-path=\"url(#clip6302)\" style=\"stroke:#000000; stroke-width:2; stroke-opacity:0.1; fill:none\" points=\"\n  248.371,794.215 2752.76,794.215 \n  \"/>\n<polyline clip-path=\"url(#clip6302)\" style=\"stroke:#000000; stroke-width:2; stroke-opacity:0.1; fill:none\" points=\"\n  248.371,567.519 2752.76,567.519 \n  \"/>\n<polyline clip-path=\"url(#clip6302)\" style=\"stroke:#000000; stroke-width:2; stroke-opacity:0.1; fill:none\" points=\"\n  248.371,340.823 2752.76,340.823 \n  \"/>\n<polyline clip-path=\"url(#clip6302)\" style=\"stroke:#000000; stroke-width:2; stroke-opacity:0.1; fill:none\" points=\"\n  248.371,114.127 2752.76,114.127 \n  \"/>\n<polyline clip-path=\"url(#clip6300)\" style=\"stroke:#000000; stroke-width:4; stroke-opacity:1; fill:none\" points=\"\n  248.371,1047.53 2752.76,1047.53 \n  \"/>\n<polyline clip-path=\"url(#clip6300)\" style=\"stroke:#000000; stroke-width:4; stroke-opacity:1; fill:none\" points=\"\n  248.371,1047.53 248.371,107.004 \n  \"/>\n<polyline clip-path=\"url(#clip6300)\" style=\"stroke:#000000; stroke-width:4; stroke-opacity:1; fill:none\" points=\"\n  515.04,1047.53 515.04,1036.24 \n  \"/>\n<polyline clip-path=\"url(#clip6300)\" style=\"stroke:#000000; stroke-width:4; stroke-opacity:1; fill:none\" points=\"\n  1134.87,1047.53 1134.87,1036.24 \n  \"/>\n<polyline clip-path=\"url(#clip6300)\" style=\"stroke:#000000; stroke-width:4; stroke-opacity:1; fill:none\" points=\"\n  1754.69,1047.53 1754.69,1036.24 \n  \"/>\n<polyline clip-path=\"url(#clip6300)\" style=\"stroke:#000000; stroke-width:4; stroke-opacity:1; fill:none\" points=\"\n  2374.52,1047.53 2374.52,1036.24 \n  \"/>\n<polyline clip-path=\"url(#clip6300)\" style=\"stroke:#000000; stroke-width:4; stroke-opacity:1; fill:none\" points=\"\n  248.371,1020.91 278.423,1020.91 \n  \"/>\n<polyline clip-path=\"url(#clip6300)\" style=\"stroke:#000000; stroke-width:4; stroke-opacity:1; fill:none\" points=\"\n  248.371,794.215 278.423,794.215 \n  \"/>\n<polyline clip-path=\"url(#clip6300)\" style=\"stroke:#000000; stroke-width:4; stroke-opacity:1; fill:none\" points=\"\n  248.371,567.519 278.423,567.519 \n  \"/>\n<polyline clip-path=\"url(#clip6300)\" style=\"stroke:#000000; stroke-width:4; stroke-opacity:1; fill:none\" points=\"\n  248.371,340.823 278.423,340.823 \n  \"/>\n<polyline clip-path=\"url(#clip6300)\" style=\"stroke:#000000; stroke-width:4; stroke-opacity:1; fill:none\" points=\"\n  248.371,114.127 278.423,114.127 \n  \"/>\n<g clip-path=\"url(#clip6300)\">\n<text style=\"fill:#000000; fill-opacity:1; font-family:Arial,Helvetica Neue,Helvetica,sans-serif; font-size:48px; text-anchor:middle;\" transform=\"rotate(0, 515.04, 1103.53)\" x=\"515.04\" y=\"1103.53\">0</text>\n</g>\n<g clip-path=\"url(#clip6300)\">\n<text style=\"fill:#000000; fill-opacity:1; font-family:Arial,Helvetica Neue,Helvetica,sans-serif; font-size:48px; text-anchor:middle;\" transform=\"rotate(0, 1134.87, 1103.53)\" x=\"1134.87\" y=\"1103.53\">50</text>\n</g>\n<g clip-path=\"url(#clip6300)\">\n<text style=\"fill:#000000; fill-opacity:1; font-family:Arial,Helvetica Neue,Helvetica,sans-serif; font-size:48px; text-anchor:middle;\" transform=\"rotate(0, 1754.69, 1103.53)\" x=\"1754.69\" y=\"1103.53\">100</text>\n</g>\n<g clip-path=\"url(#clip6300)\">\n<text style=\"fill:#000000; fill-opacity:1; font-family:Arial,Helvetica Neue,Helvetica,sans-serif; font-size:48px; text-anchor:middle;\" transform=\"rotate(0, 2374.52, 1103.53)\" x=\"2374.52\" y=\"1103.53\">150</text>\n</g>\n<g clip-path=\"url(#clip6300)\">\n<text style=\"fill:#000000; fill-opacity:1; font-family:Arial,Helvetica Neue,Helvetica,sans-serif; font-size:48px; text-anchor:end;\" transform=\"rotate(0, 220.371, 1038.41)\" x=\"220.371\" y=\"1038.41\">0</text>\n</g>\n<g clip-path=\"url(#clip6300)\">\n<text style=\"fill:#000000; fill-opacity:1; font-family:Arial,Helvetica Neue,Helvetica,sans-serif; font-size:48px; text-anchor:end;\" transform=\"rotate(0, 220.371, 811.715)\" x=\"220.371\" y=\"811.715\">500</text>\n</g>\n<g clip-path=\"url(#clip6300)\">\n<text style=\"fill:#000000; fill-opacity:1; font-family:Arial,Helvetica Neue,Helvetica,sans-serif; font-size:48px; text-anchor:end;\" transform=\"rotate(0, 220.371, 585.019)\" x=\"220.371\" y=\"585.019\">1000</text>\n</g>\n<g clip-path=\"url(#clip6300)\">\n<text style=\"fill:#000000; fill-opacity:1; font-family:Arial,Helvetica Neue,Helvetica,sans-serif; font-size:48px; text-anchor:end;\" transform=\"rotate(0, 220.371, 358.323)\" x=\"220.371\" y=\"358.323\">1500</text>\n</g>\n<g clip-path=\"url(#clip6300)\">\n<text style=\"fill:#000000; fill-opacity:1; font-family:Arial,Helvetica Neue,Helvetica,sans-serif; font-size:48px; text-anchor:end;\" transform=\"rotate(0, 220.371, 131.627)\" x=\"220.371\" y=\"131.627\">2000</text>\n</g>\n<g clip-path=\"url(#clip6300)\">\n<text style=\"fill:#000000; fill-opacity:1; font-family:Arial,Helvetica Neue,Helvetica,sans-serif; font-size:84px; text-anchor:middle;\" transform=\"rotate(0, 1500.56, 73.2)\" x=\"1500.56\" y=\"73.2\">Highest number of events executed</text>\n</g>\n<g clip-path=\"url(#clip6300)\">\n<text style=\"fill:#000000; fill-opacity:1; font-family:Arial,Helvetica Neue,Helvetica,sans-serif; font-size:66px; text-anchor:middle;\" transform=\"rotate(0, 1500.56, 1185.39)\" x=\"1500.56\" y=\"1185.39\">user id</text>\n</g>\n<g clip-path=\"url(#clip6300)\">\n<text style=\"fill:#000000; fill-opacity:1; font-family:Arial,Helvetica Neue,Helvetica,sans-serif; font-size:66px; text-anchor:middle;\" transform=\"rotate(-90, 73.7591, 577.267)\" x=\"73.7591\" y=\"577.267\">events sum</text>\n</g>\n<path clip-path=\"url(#clip6302)\" d=\"\nM386.116 976.025 L386.116 1020.91 L396.033 1020.91 L396.033 976.025 L386.116 976.025 L386.116 976.025  Z\n  \" fill=\"#009af9\" fill-rule=\"evenodd\" fill-opacity=\"1\"/>\n<polyline clip-path=\"url(#clip6302)\" style=\"stroke:#000000; stroke-width:4; stroke-opacity:1; fill:none\" points=\"\n  386.116,976.025 386.116,1020.91 396.033,1020.91 396.033,976.025 386.116,976.025 \n  \"/>\n<path clip-path=\"url(#clip6302)\" d=\"\nM497.685 868.571 L497.685 1020.91 L507.602 1020.91 L507.602 868.571 L497.685 868.571 L497.685 868.571  Z\n  \" fill=\"#009af9\" fill-rule=\"evenodd\" fill-opacity=\"1\"/>\n<polyline clip-path=\"url(#clip6302)\" style=\"stroke:#000000; stroke-width:4; stroke-opacity:1; fill:none\" points=\"\n  497.685,868.571 497.685,1020.91 507.602,1020.91 507.602,868.571 497.685,868.571 \n  \"/>\n<path clip-path=\"url(#clip6302)\" d=\"\nM510.081 914.363 L510.081 1020.91 L519.999 1020.91 L519.999 914.363 L510.081 914.363 L510.081 914.363  Z\n  \" fill=\"#009af9\" fill-rule=\"evenodd\" fill-opacity=\"1\"/>\n<polyline clip-path=\"url(#clip6302)\" style=\"stroke:#000000; stroke-width:4; stroke-opacity:1; fill:none\" points=\"\n  510.081,914.363 510.081,1020.91 519.999,1020.91 519.999,914.363 510.081,914.363 \n  \"/>\n<path clip-path=\"url(#clip6302)\" d=\"\nM534.874 351.251 L534.874 1020.91 L544.792 1020.91 L544.792 351.251 L534.874 351.251 L534.874 351.251  Z\n  \" fill=\"#009af9\" fill-rule=\"evenodd\" fill-opacity=\"1\"/>\n<polyline clip-path=\"url(#clip6302)\" style=\"stroke:#000000; stroke-width:4; stroke-opacity:1; fill:none\" points=\"\n  534.874,351.251 534.874,1020.91 544.792,1020.91 544.792,351.251 534.874,351.251 \n  \"/>\n<path clip-path=\"url(#clip6302)\" d=\"\nM547.271 825.499 L547.271 1020.91 L557.188 1020.91 L557.188 825.499 L547.271 825.499 L547.271 825.499  Z\n  \" fill=\"#009af9\" fill-rule=\"evenodd\" fill-opacity=\"1\"/>\n<polyline clip-path=\"url(#clip6302)\" style=\"stroke:#000000; stroke-width:4; stroke-opacity:1; fill:none\" points=\"\n  547.271,825.499 547.271,1020.91 557.188,1020.91 557.188,825.499 547.271,825.499 \n  \"/>\n<path clip-path=\"url(#clip6302)\" d=\"\nM559.667 133.623 L559.667 1020.91 L569.585 1020.91 L569.585 133.623 L559.667 133.623 L559.667 133.623  Z\n  \" fill=\"#009af9\" fill-rule=\"evenodd\" fill-opacity=\"1\"/>\n<polyline clip-path=\"url(#clip6302)\" style=\"stroke:#000000; stroke-width:4; stroke-opacity:1; fill:none\" points=\"\n  559.667,133.623 559.667,1020.91 569.585,1020.91 569.585,133.623 559.667,133.623 \n  \"/>\n<path clip-path=\"url(#clip6302)\" d=\"\nM572.064 1020.46 L572.064 1020.91 L581.981 1020.91 L581.981 1020.46 L572.064 1020.46 L572.064 1020.46  Z\n  \" fill=\"#009af9\" fill-rule=\"evenodd\" fill-opacity=\"1\"/>\n<polyline clip-path=\"url(#clip6302)\" style=\"stroke:#000000; stroke-width:4; stroke-opacity:1; fill:none\" points=\"\n  572.064,1020.46 572.064,1020.91 581.981,1020.91 581.981,1020.46 572.064,1020.46 \n  \"/>\n<path clip-path=\"url(#clip6302)\" d=\"\nM584.461 887.16 L584.461 1020.91 L594.378 1020.91 L594.378 887.16 L584.461 887.16 L584.461 887.16  Z\n  \" fill=\"#009af9\" fill-rule=\"evenodd\" fill-opacity=\"1\"/>\n<polyline clip-path=\"url(#clip6302)\" style=\"stroke:#000000; stroke-width:4; stroke-opacity:1; fill:none\" points=\"\n  584.461,887.16 584.461,1020.91 594.378,1020.91 594.378,887.16 584.461,887.16 \n  \"/>\n<path clip-path=\"url(#clip6302)\" d=\"\nM596.857 1019.55 L596.857 1020.91 L606.774 1020.91 L606.774 1019.55 L596.857 1019.55 L596.857 1019.55  Z\n  \" fill=\"#009af9\" fill-rule=\"evenodd\" fill-opacity=\"1\"/>\n<polyline clip-path=\"url(#clip6302)\" style=\"stroke:#000000; stroke-width:4; stroke-opacity:1; fill:none\" points=\"\n  596.857,1019.55 596.857,1020.91 606.774,1020.91 606.774,1019.55 596.857,1019.55 \n  \"/>\n<path clip-path=\"url(#clip6302)\" d=\"\nM609.254 1017.28 L609.254 1020.91 L619.171 1020.91 L619.171 1017.28 L609.254 1017.28 L609.254 1017.28  Z\n  \" fill=\"#009af9\" fill-rule=\"evenodd\" fill-opacity=\"1\"/>\n<polyline clip-path=\"url(#clip6302)\" style=\"stroke:#000000; stroke-width:4; stroke-opacity:1; fill:none\" points=\"\n  609.254,1017.28 609.254,1020.91 619.171,1020.91 619.171,1017.28 609.254,1017.28 \n  \"/>\n<path clip-path=\"url(#clip6302)\" d=\"\nM621.65 835.927 L621.65 1020.91 L631.567 1020.91 L631.567 835.927 L621.65 835.927 L621.65 835.927  Z\n  \" fill=\"#009af9\" fill-rule=\"evenodd\" fill-opacity=\"1\"/>\n<polyline clip-path=\"url(#clip6302)\" style=\"stroke:#000000; stroke-width:4; stroke-opacity:1; fill:none\" points=\"\n  621.65,835.927 621.65,1020.91 631.567,1020.91 631.567,835.927 621.65,835.927 \n  \"/>\n<path clip-path=\"url(#clip6302)\" d=\"\nM634.047 382.988 L634.047 1020.91 L643.964 1020.91 L643.964 382.988 L634.047 382.988 L634.047 382.988  Z\n  \" fill=\"#009af9\" fill-rule=\"evenodd\" fill-opacity=\"1\"/>\n<polyline clip-path=\"url(#clip6302)\" style=\"stroke:#000000; stroke-width:4; stroke-opacity:1; fill:none\" points=\"\n  634.047,382.988 634.047,1020.91 643.964,1020.91 643.964,382.988 634.047,382.988 \n  \"/>\n<path clip-path=\"url(#clip6302)\" d=\"\nM733.219 771.545 L733.219 1020.91 L743.136 1020.91 L743.136 771.545 L733.219 771.545 L733.219 771.545  Z\n  \" fill=\"#009af9\" fill-rule=\"evenodd\" fill-opacity=\"1\"/>\n<polyline clip-path=\"url(#clip6302)\" style=\"stroke:#000000; stroke-width:4; stroke-opacity:1; fill:none\" points=\"\n  733.219,771.545 733.219,1020.91 743.136,1020.91 743.136,771.545 733.219,771.545 \n  \"/>\n<path clip-path=\"url(#clip6302)\" d=\"\nM745.615 773.359 L745.615 1020.91 L755.532 1020.91 L755.532 773.359 L745.615 773.359 L745.615 773.359  Z\n  \" fill=\"#009af9\" fill-rule=\"evenodd\" fill-opacity=\"1\"/>\n<polyline clip-path=\"url(#clip6302)\" style=\"stroke:#000000; stroke-width:4; stroke-opacity:1; fill:none\" points=\"\n  745.615,773.359 745.615,1020.91 755.532,1020.91 755.532,773.359 745.615,773.359 \n  \"/>\n<path clip-path=\"url(#clip6302)\" d=\"\nM795.201 1000.51 L795.201 1020.91 L805.119 1020.91 L805.119 1000.51 L795.201 1000.51 L795.201 1000.51  Z\n  \" fill=\"#009af9\" fill-rule=\"evenodd\" fill-opacity=\"1\"/>\n<polyline clip-path=\"url(#clip6302)\" style=\"stroke:#000000; stroke-width:4; stroke-opacity:1; fill:none\" points=\"\n  795.201,1000.51 795.201,1020.91 805.119,1020.91 805.119,1000.51 795.201,1000.51 \n  \"/>\n<path clip-path=\"url(#clip6302)\" d=\"\nM832.391 689.028 L832.391 1020.91 L842.308 1020.91 L842.308 689.028 L832.391 689.028 L832.391 689.028  Z\n  \" fill=\"#009af9\" fill-rule=\"evenodd\" fill-opacity=\"1\"/>\n<polyline clip-path=\"url(#clip6302)\" style=\"stroke:#000000; stroke-width:4; stroke-opacity:1; fill:none\" points=\"\n  832.391,689.028 832.391,1020.91 842.308,1020.91 842.308,689.028 832.391,689.028 \n  \"/>\n<path clip-path=\"url(#clip6302)\" d=\"\nM844.787 956.529 L844.787 1020.91 L854.705 1020.91 L854.705 956.529 L844.787 956.529 L844.787 956.529  Z\n  \" fill=\"#009af9\" fill-rule=\"evenodd\" fill-opacity=\"1\"/>\n<polyline clip-path=\"url(#clip6302)\" style=\"stroke:#000000; stroke-width:4; stroke-opacity:1; fill:none\" points=\"\n  844.787,956.529 844.787,1020.91 854.705,1020.91 854.705,956.529 844.787,956.529 \n  \"/>\n<path clip-path=\"url(#clip6302)\" d=\"\nM857.184 964.69 L857.184 1020.91 L867.101 1020.91 L867.101 964.69 L857.184 964.69 L857.184 964.69  Z\n  \" fill=\"#009af9\" fill-rule=\"evenodd\" fill-opacity=\"1\"/>\n<polyline clip-path=\"url(#clip6302)\" style=\"stroke:#000000; stroke-width:4; stroke-opacity:1; fill:none\" points=\"\n  857.184,964.69 857.184,1020.91 867.101,1020.91 867.101,964.69 857.184,964.69 \n  \"/>\n<path clip-path=\"url(#clip6302)\" d=\"\nM869.58 1018.19 L869.58 1020.91 L879.498 1020.91 L879.498 1018.19 L869.58 1018.19 L869.58 1018.19  Z\n  \" fill=\"#009af9\" fill-rule=\"evenodd\" fill-opacity=\"1\"/>\n<polyline clip-path=\"url(#clip6302)\" style=\"stroke:#000000; stroke-width:4; stroke-opacity:1; fill:none\" points=\"\n  869.58,1018.19 869.58,1020.91 879.498,1020.91 879.498,1018.19 869.58,1018.19 \n  \"/>\n<path clip-path=\"url(#clip6302)\" d=\"\nM881.977 632.354 L881.977 1020.91 L891.894 1020.91 L891.894 632.354 L881.977 632.354 L881.977 632.354  Z\n  \" fill=\"#009af9\" fill-rule=\"evenodd\" fill-opacity=\"1\"/>\n<polyline clip-path=\"url(#clip6302)\" style=\"stroke:#000000; stroke-width:4; stroke-opacity:1; fill:none\" points=\"\n  881.977,632.354 881.977,1020.91 891.894,1020.91 891.894,632.354 881.977,632.354 \n  \"/>\n<path clip-path=\"url(#clip6302)\" d=\"\nM906.77 681.773 L906.77 1020.91 L916.687 1020.91 L916.687 681.773 L906.77 681.773 L906.77 681.773  Z\n  \" fill=\"#009af9\" fill-rule=\"evenodd\" fill-opacity=\"1\"/>\n<polyline clip-path=\"url(#clip6302)\" style=\"stroke:#000000; stroke-width:4; stroke-opacity:1; fill:none\" points=\"\n  906.77,681.773 906.77,1020.91 916.687,1020.91 916.687,681.773 906.77,681.773 \n  \"/>\n<path clip-path=\"url(#clip6302)\" d=\"\nM919.167 640.061 L919.167 1020.91 L929.084 1020.91 L929.084 640.061 L919.167 640.061 L919.167 640.061  Z\n  \" fill=\"#009af9\" fill-rule=\"evenodd\" fill-opacity=\"1\"/>\n<polyline clip-path=\"url(#clip6302)\" style=\"stroke:#000000; stroke-width:4; stroke-opacity:1; fill:none\" points=\"\n  919.167,640.061 919.167,1020.91 929.084,1020.91 929.084,640.061 919.167,640.061 \n  \"/>\n<path clip-path=\"url(#clip6302)\" d=\"\nM943.96 1020 L943.96 1020.91 L953.877 1020.91 L953.877 1020 L943.96 1020 L943.96 1020  Z\n  \" fill=\"#009af9\" fill-rule=\"evenodd\" fill-opacity=\"1\"/>\n<polyline clip-path=\"url(#clip6302)\" style=\"stroke:#000000; stroke-width:4; stroke-opacity:1; fill:none\" points=\"\n  943.96,1020 943.96,1020.91 953.877,1020.91 953.877,1020 943.96,1020 \n  \"/>\n<path clip-path=\"url(#clip6302)\" d=\"\nM956.356 1006.4 L956.356 1020.91 L966.273 1020.91 L966.273 1006.4 L956.356 1006.4 L956.356 1006.4  Z\n  \" fill=\"#009af9\" fill-rule=\"evenodd\" fill-opacity=\"1\"/>\n<polyline clip-path=\"url(#clip6302)\" style=\"stroke:#000000; stroke-width:4; stroke-opacity:1; fill:none\" points=\"\n  956.356,1006.4 956.356,1020.91 966.273,1020.91 966.273,1006.4 956.356,1006.4 \n  \"/>\n<path clip-path=\"url(#clip6302)\" d=\"\nM1018.34 700.362 L1018.34 1020.91 L1028.26 1020.91 L1028.26 700.362 L1018.34 700.362 L1018.34 700.362  Z\n  \" fill=\"#009af9\" fill-rule=\"evenodd\" fill-opacity=\"1\"/>\n<polyline clip-path=\"url(#clip6302)\" style=\"stroke:#000000; stroke-width:4; stroke-opacity:1; fill:none\" points=\"\n  1018.34,700.362 1018.34,1020.91 1028.26,1020.91 1028.26,700.362 1018.34,700.362 \n  \"/>\n<path clip-path=\"url(#clip6302)\" d=\"\nM1030.74 620.566 L1030.74 1020.91 L1040.65 1020.91 L1040.65 620.566 L1030.74 620.566 L1030.74 620.566  Z\n  \" fill=\"#009af9\" fill-rule=\"evenodd\" fill-opacity=\"1\"/>\n<polyline clip-path=\"url(#clip6302)\" style=\"stroke:#000000; stroke-width:4; stroke-opacity:1; fill:none\" points=\"\n  1030.74,620.566 1030.74,1020.91 1040.65,1020.91 1040.65,620.566 1030.74,620.566 \n  \"/>\n<path clip-path=\"url(#clip6302)\" d=\"\nM1055.53 607.871 L1055.53 1020.91 L1065.45 1020.91 L1065.45 607.871 L1055.53 607.871 L1055.53 607.871  Z\n  \" fill=\"#009af9\" fill-rule=\"evenodd\" fill-opacity=\"1\"/>\n<polyline clip-path=\"url(#clip6302)\" style=\"stroke:#000000; stroke-width:4; stroke-opacity:1; fill:none\" points=\"\n  1055.53,607.871 1055.53,1020.91 1065.45,1020.91 1065.45,607.871 1055.53,607.871 \n  \"/>\n<path clip-path=\"url(#clip6302)\" d=\"\nM1105.11 768.371 L1105.11 1020.91 L1115.03 1020.91 L1115.03 768.371 L1105.11 768.371 L1105.11 768.371  Z\n  \" fill=\"#009af9\" fill-rule=\"evenodd\" fill-opacity=\"1\"/>\n<polyline clip-path=\"url(#clip6302)\" style=\"stroke:#000000; stroke-width:4; stroke-opacity:1; fill:none\" points=\"\n  1105.11,768.371 1105.11,1020.91 1115.03,1020.91 1115.03,768.371 1105.11,768.371 \n  \"/>\n<path clip-path=\"url(#clip6302)\" d=\"\nM1129.91 1001.87 L1129.91 1020.91 L1139.82 1020.91 L1139.82 1001.87 L1129.91 1001.87 L1129.91 1001.87  Z\n  \" fill=\"#009af9\" fill-rule=\"evenodd\" fill-opacity=\"1\"/>\n<polyline clip-path=\"url(#clip6302)\" style=\"stroke:#000000; stroke-width:4; stroke-opacity:1; fill:none\" points=\"\n  1129.91,1001.87 1129.91,1020.91 1139.82,1020.91 1139.82,1001.87 1129.91,1001.87 \n  \"/>\n<path clip-path=\"url(#clip6302)\" d=\"\nM1167.1 992.8 L1167.1 1020.91 L1177.01 1020.91 L1177.01 992.8 L1167.1 992.8 L1167.1 992.8  Z\n  \" fill=\"#009af9\" fill-rule=\"evenodd\" fill-opacity=\"1\"/>\n<polyline clip-path=\"url(#clip6302)\" style=\"stroke:#000000; stroke-width:4; stroke-opacity:1; fill:none\" points=\"\n  1167.1,992.8 1167.1,1020.91 1177.01,1020.91 1177.01,992.8 1167.1,992.8 \n  \"/>\n<path clip-path=\"url(#clip6302)\" d=\"\nM1179.49 985.999 L1179.49 1020.91 L1189.41 1020.91 L1189.41 985.999 L1179.49 985.999 L1179.49 985.999  Z\n  \" fill=\"#009af9\" fill-rule=\"evenodd\" fill-opacity=\"1\"/>\n<polyline clip-path=\"url(#clip6302)\" style=\"stroke:#000000; stroke-width:4; stroke-opacity:1; fill:none\" points=\"\n  1179.49,985.999 1179.49,1020.91 1189.41,1020.91 1189.41,985.999 1179.49,985.999 \n  \"/>\n<path clip-path=\"url(#clip6302)\" d=\"\nM1191.89 783.333 L1191.89 1020.91 L1201.81 1020.91 L1201.81 783.333 L1191.89 783.333 L1191.89 783.333  Z\n  \" fill=\"#009af9\" fill-rule=\"evenodd\" fill-opacity=\"1\"/>\n<polyline clip-path=\"url(#clip6302)\" style=\"stroke:#000000; stroke-width:4; stroke-opacity:1; fill:none\" points=\"\n  1191.89,783.333 1191.89,1020.91 1201.81,1020.91 1201.81,783.333 1191.89,783.333 \n  \"/>\n<path clip-path=\"url(#clip6302)\" d=\"\nM1204.29 1012.75 L1204.29 1020.91 L1214.2 1020.91 L1214.2 1012.75 L1204.29 1012.75 L1204.29 1012.75  Z\n  \" fill=\"#009af9\" fill-rule=\"evenodd\" fill-opacity=\"1\"/>\n<polyline clip-path=\"url(#clip6302)\" style=\"stroke:#000000; stroke-width:4; stroke-opacity:1; fill:none\" points=\"\n  1204.29,1012.75 1204.29,1020.91 1214.2,1020.91 1214.2,1012.75 1204.29,1012.75 \n  \"/>\n<path clip-path=\"url(#clip6302)\" d=\"\nM1216.68 995.067 L1216.68 1020.91 L1226.6 1020.91 L1226.6 995.067 L1216.68 995.067 L1216.68 995.067  Z\n  \" fill=\"#009af9\" fill-rule=\"evenodd\" fill-opacity=\"1\"/>\n<polyline clip-path=\"url(#clip6302)\" style=\"stroke:#000000; stroke-width:4; stroke-opacity:1; fill:none\" points=\"\n  1216.68,995.067 1216.68,1020.91 1226.6,1020.91 1226.6,995.067 1216.68,995.067 \n  \"/>\n<path clip-path=\"url(#clip6302)\" d=\"\nM1229.08 885.8 L1229.08 1020.91 L1239 1020.91 L1239 885.8 L1229.08 885.8 L1229.08 885.8  Z\n  \" fill=\"#009af9\" fill-rule=\"evenodd\" fill-opacity=\"1\"/>\n<polyline clip-path=\"url(#clip6302)\" style=\"stroke:#000000; stroke-width:4; stroke-opacity:1; fill:none\" points=\"\n  1229.08,885.8 1229.08,1020.91 1239,1020.91 1239,885.8 1229.08,885.8 \n  \"/>\n<path clip-path=\"url(#clip6302)\" d=\"\nM1241.48 835.927 L1241.48 1020.91 L1251.39 1020.91 L1251.39 835.927 L1241.48 835.927 L1241.48 835.927  Z\n  \" fill=\"#009af9\" fill-rule=\"evenodd\" fill-opacity=\"1\"/>\n<polyline clip-path=\"url(#clip6302)\" style=\"stroke:#000000; stroke-width:4; stroke-opacity:1; fill:none\" points=\"\n  1241.48,835.927 1241.48,1020.91 1251.39,1020.91 1251.39,835.927 1241.48,835.927 \n  \"/>\n<path clip-path=\"url(#clip6302)\" d=\"\nM1253.87 1015.02 L1253.87 1020.91 L1263.79 1020.91 L1263.79 1015.02 L1253.87 1015.02 L1253.87 1015.02  Z\n  \" fill=\"#009af9\" fill-rule=\"evenodd\" fill-opacity=\"1\"/>\n<polyline clip-path=\"url(#clip6302)\" style=\"stroke:#000000; stroke-width:4; stroke-opacity:1; fill:none\" points=\"\n  1253.87,1015.02 1253.87,1020.91 1263.79,1020.91 1263.79,1015.02 1253.87,1015.02 \n  \"/>\n<path clip-path=\"url(#clip6302)\" d=\"\nM1278.67 806.456 L1278.67 1020.91 L1288.58 1020.91 L1288.58 806.456 L1278.67 806.456 L1278.67 806.456  Z\n  \" fill=\"#009af9\" fill-rule=\"evenodd\" fill-opacity=\"1\"/>\n<polyline clip-path=\"url(#clip6302)\" style=\"stroke:#000000; stroke-width:4; stroke-opacity:1; fill:none\" points=\"\n  1278.67,806.456 1278.67,1020.91 1288.58,1020.91 1288.58,806.456 1278.67,806.456 \n  \"/>\n<path clip-path=\"url(#clip6302)\" d=\"\nM1291.06 973.304 L1291.06 1020.91 L1300.98 1020.91 L1300.98 973.304 L1291.06 973.304 L1291.06 973.304  Z\n  \" fill=\"#009af9\" fill-rule=\"evenodd\" fill-opacity=\"1\"/>\n<polyline clip-path=\"url(#clip6302)\" style=\"stroke:#000000; stroke-width:4; stroke-opacity:1; fill:none\" points=\"\n  1291.06,973.304 1291.06,1020.91 1300.98,1020.91 1300.98,973.304 1291.06,973.304 \n  \"/>\n<path clip-path=\"url(#clip6302)\" d=\"\nM1315.86 857.236 L1315.86 1020.91 L1325.77 1020.91 L1325.77 857.236 L1315.86 857.236 L1315.86 857.236  Z\n  \" fill=\"#009af9\" fill-rule=\"evenodd\" fill-opacity=\"1\"/>\n<polyline clip-path=\"url(#clip6302)\" style=\"stroke:#000000; stroke-width:4; stroke-opacity:1; fill:none\" points=\"\n  1315.86,857.236 1315.86,1020.91 1325.77,1020.91 1325.77,857.236 1315.86,857.236 \n  \"/>\n<path clip-path=\"url(#clip6302)\" d=\"\nM1340.65 803.736 L1340.65 1020.91 L1350.57 1020.91 L1350.57 803.736 L1340.65 803.736 L1340.65 803.736  Z\n  \" fill=\"#009af9\" fill-rule=\"evenodd\" fill-opacity=\"1\"/>\n<polyline clip-path=\"url(#clip6302)\" style=\"stroke:#000000; stroke-width:4; stroke-opacity:1; fill:none\" points=\"\n  1340.65,803.736 1340.65,1020.91 1350.57,1020.91 1350.57,803.736 1340.65,803.736 \n  \"/>\n<path clip-path=\"url(#clip6302)\" d=\"\nM1353.04 683.134 L1353.04 1020.91 L1362.96 1020.91 L1362.96 683.134 L1353.04 683.134 L1353.04 683.134  Z\n  \" fill=\"#009af9\" fill-rule=\"evenodd\" fill-opacity=\"1\"/>\n<polyline clip-path=\"url(#clip6302)\" style=\"stroke:#000000; stroke-width:4; stroke-opacity:1; fill:none\" points=\"\n  1353.04,683.134 1353.04,1020.91 1362.96,1020.91 1362.96,683.134 1353.04,683.134 \n  \"/>\n<path clip-path=\"url(#clip6302)\" d=\"\nM1365.44 918.444 L1365.44 1020.91 L1375.36 1020.91 L1375.36 918.444 L1365.44 918.444 L1365.44 918.444  Z\n  \" fill=\"#009af9\" fill-rule=\"evenodd\" fill-opacity=\"1\"/>\n<polyline clip-path=\"url(#clip6302)\" style=\"stroke:#000000; stroke-width:4; stroke-opacity:1; fill:none\" points=\"\n  1365.44,918.444 1365.44,1020.91 1375.36,1020.91 1375.36,918.444 1365.44,918.444 \n  \"/>\n<path clip-path=\"url(#clip6302)\" d=\"\nM1377.84 1015.02 L1377.84 1020.91 L1387.75 1020.91 L1387.75 1015.02 L1377.84 1015.02 L1377.84 1015.02  Z\n  \" fill=\"#009af9\" fill-rule=\"evenodd\" fill-opacity=\"1\"/>\n<polyline clip-path=\"url(#clip6302)\" style=\"stroke:#000000; stroke-width:4; stroke-opacity:1; fill:none\" points=\"\n  1377.84,1015.02 1377.84,1020.91 1387.75,1020.91 1387.75,1015.02 1377.84,1015.02 \n  \"/>\n<path clip-path=\"url(#clip6302)\" d=\"\nM1390.23 734.367 L1390.23 1020.91 L1400.15 1020.91 L1400.15 734.367 L1390.23 734.367 L1390.23 734.367  Z\n  \" fill=\"#009af9\" fill-rule=\"evenodd\" fill-opacity=\"1\"/>\n<polyline clip-path=\"url(#clip6302)\" style=\"stroke:#000000; stroke-width:4; stroke-opacity:1; fill:none\" points=\"\n  1390.23,734.367 1390.23,1020.91 1400.15,1020.91 1400.15,734.367 1390.23,734.367 \n  \"/>\n<path clip-path=\"url(#clip6302)\" d=\"\nM1415.03 1019.1 L1415.03 1020.91 L1424.94 1020.91 L1424.94 1019.1 L1415.03 1019.1 L1415.03 1019.1  Z\n  \" fill=\"#009af9\" fill-rule=\"evenodd\" fill-opacity=\"1\"/>\n<polyline clip-path=\"url(#clip6302)\" style=\"stroke:#000000; stroke-width:4; stroke-opacity:1; fill:none\" points=\"\n  1415.03,1019.1 1415.03,1020.91 1424.94,1020.91 1424.94,1019.1 1415.03,1019.1 \n  \"/>\n<path clip-path=\"url(#clip6302)\" d=\"\nM1427.42 848.168 L1427.42 1020.91 L1437.34 1020.91 L1437.34 848.168 L1427.42 848.168 L1427.42 848.168  Z\n  \" fill=\"#009af9\" fill-rule=\"evenodd\" fill-opacity=\"1\"/>\n<polyline clip-path=\"url(#clip6302)\" style=\"stroke:#000000; stroke-width:4; stroke-opacity:1; fill:none\" points=\"\n  1427.42,848.168 1427.42,1020.91 1437.34,1020.91 1437.34,848.168 1427.42,848.168 \n  \"/>\n<path clip-path=\"url(#clip6302)\" d=\"\nM1439.82 740.261 L1439.82 1020.91 L1449.74 1020.91 L1449.74 740.261 L1439.82 740.261 L1439.82 740.261  Z\n  \" fill=\"#009af9\" fill-rule=\"evenodd\" fill-opacity=\"1\"/>\n<polyline clip-path=\"url(#clip6302)\" style=\"stroke:#000000; stroke-width:4; stroke-opacity:1; fill:none\" points=\"\n  1439.82,740.261 1439.82,1020.91 1449.74,1020.91 1449.74,740.261 1439.82,740.261 \n  \"/>\n<path clip-path=\"url(#clip6302)\" d=\"\nM1452.22 981.919 L1452.22 1020.91 L1462.13 1020.91 L1462.13 981.919 L1452.22 981.919 L1452.22 981.919  Z\n  \" fill=\"#009af9\" fill-rule=\"evenodd\" fill-opacity=\"1\"/>\n<polyline clip-path=\"url(#clip6302)\" style=\"stroke:#000000; stroke-width:4; stroke-opacity:1; fill:none\" points=\"\n  1452.22,981.919 1452.22,1020.91 1462.13,1020.91 1462.13,981.919 1452.22,981.919 \n  \"/>\n<path clip-path=\"url(#clip6302)\" d=\"\nM1477.01 995.974 L1477.01 1020.91 L1486.93 1020.91 L1486.93 995.974 L1477.01 995.974 L1477.01 995.974  Z\n  \" fill=\"#009af9\" fill-rule=\"evenodd\" fill-opacity=\"1\"/>\n<polyline clip-path=\"url(#clip6302)\" style=\"stroke:#000000; stroke-width:4; stroke-opacity:1; fill:none\" points=\"\n  1477.01,995.974 1477.01,1020.91 1486.93,1020.91 1486.93,995.974 1477.01,995.974 \n  \"/>\n<path clip-path=\"url(#clip6302)\" d=\"\nM1489.41 1014.56 L1489.41 1020.91 L1499.32 1020.91 L1499.32 1014.56 L1489.41 1014.56 L1489.41 1014.56  Z\n  \" fill=\"#009af9\" fill-rule=\"evenodd\" fill-opacity=\"1\"/>\n<polyline clip-path=\"url(#clip6302)\" style=\"stroke:#000000; stroke-width:4; stroke-opacity:1; fill:none\" points=\"\n  1489.41,1014.56 1489.41,1020.91 1499.32,1020.91 1499.32,1014.56 1489.41,1014.56 \n  \"/>\n<path clip-path=\"url(#clip6302)\" d=\"\nM1501.8 698.096 L1501.8 1020.91 L1511.72 1020.91 L1511.72 698.096 L1501.8 698.096 L1501.8 698.096  Z\n  \" fill=\"#009af9\" fill-rule=\"evenodd\" fill-opacity=\"1\"/>\n<polyline clip-path=\"url(#clip6302)\" style=\"stroke:#000000; stroke-width:4; stroke-opacity:1; fill:none\" points=\"\n  1501.8,698.096 1501.8,1020.91 1511.72,1020.91 1511.72,698.096 1501.8,698.096 \n  \"/>\n<path clip-path=\"url(#clip6302)\" d=\"\nM1526.6 508.124 L1526.6 1020.91 L1536.51 1020.91 L1536.51 508.124 L1526.6 508.124 L1526.6 508.124  Z\n  \" fill=\"#009af9\" fill-rule=\"evenodd\" fill-opacity=\"1\"/>\n<polyline clip-path=\"url(#clip6302)\" style=\"stroke:#000000; stroke-width:4; stroke-opacity:1; fill:none\" points=\"\n  1526.6,508.124 1526.6,1020.91 1536.51,1020.91 1536.51,508.124 1526.6,508.124 \n  \"/>\n<path clip-path=\"url(#clip6302)\" d=\"\nM1538.99 743.435 L1538.99 1020.91 L1548.91 1020.91 L1548.91 743.435 L1538.99 743.435 L1538.99 743.435  Z\n  \" fill=\"#009af9\" fill-rule=\"evenodd\" fill-opacity=\"1\"/>\n<polyline clip-path=\"url(#clip6302)\" style=\"stroke:#000000; stroke-width:4; stroke-opacity:1; fill:none\" points=\"\n  1538.99,743.435 1538.99,1020.91 1548.91,1020.91 1548.91,743.435 1538.99,743.435 \n  \"/>\n<path clip-path=\"url(#clip6302)\" d=\"\nM1551.39 417.446 L1551.39 1020.91 L1561.31 1020.91 L1561.31 417.446 L1551.39 417.446 L1551.39 417.446  Z\n  \" fill=\"#009af9\" fill-rule=\"evenodd\" fill-opacity=\"1\"/>\n<polyline clip-path=\"url(#clip6302)\" style=\"stroke:#000000; stroke-width:4; stroke-opacity:1; fill:none\" points=\"\n  1551.39,417.446 1551.39,1020.91 1561.31,1020.91 1561.31,417.446 1551.39,417.446 \n  \"/>\n<path clip-path=\"url(#clip6302)\" d=\"\nM1563.79 995.52 L1563.79 1020.91 L1573.7 1020.91 L1573.7 995.52 L1563.79 995.52 L1563.79 995.52  Z\n  \" fill=\"#009af9\" fill-rule=\"evenodd\" fill-opacity=\"1\"/>\n<polyline clip-path=\"url(#clip6302)\" style=\"stroke:#000000; stroke-width:4; stroke-opacity:1; fill:none\" points=\"\n  1563.79,995.52 1563.79,1020.91 1573.7,1020.91 1573.7,995.52 1563.79,995.52 \n  \"/>\n<path clip-path=\"url(#clip6302)\" d=\"\nM1600.98 762.477 L1600.98 1020.91 L1610.89 1020.91 L1610.89 762.477 L1600.98 762.477 L1600.98 762.477  Z\n  \" fill=\"#009af9\" fill-rule=\"evenodd\" fill-opacity=\"1\"/>\n<polyline clip-path=\"url(#clip6302)\" style=\"stroke:#000000; stroke-width:4; stroke-opacity:1; fill:none\" points=\"\n  1600.98,762.477 1600.98,1020.91 1610.89,1020.91 1610.89,762.477 1600.98,762.477 \n  \"/>\n<path clip-path=\"url(#clip6302)\" d=\"\nM1613.37 781.066 L1613.37 1020.91 L1623.29 1020.91 L1623.29 781.066 L1613.37 781.066 L1613.37 781.066  Z\n  \" fill=\"#009af9\" fill-rule=\"evenodd\" fill-opacity=\"1\"/>\n<polyline clip-path=\"url(#clip6302)\" style=\"stroke:#000000; stroke-width:4; stroke-opacity:1; fill:none\" points=\"\n  1613.37,781.066 1613.37,1020.91 1623.29,1020.91 1623.29,781.066 1613.37,781.066 \n  \"/>\n<path clip-path=\"url(#clip6302)\" d=\"\nM1638.16 826.859 L1638.16 1020.91 L1648.08 1020.91 L1648.08 826.859 L1638.16 826.859 L1638.16 826.859  Z\n  \" fill=\"#009af9\" fill-rule=\"evenodd\" fill-opacity=\"1\"/>\n<polyline clip-path=\"url(#clip6302)\" style=\"stroke:#000000; stroke-width:4; stroke-opacity:1; fill:none\" points=\"\n  1638.16,826.859 1638.16,1020.91 1648.08,1020.91 1648.08,826.859 1638.16,826.859 \n  \"/>\n<path clip-path=\"url(#clip6302)\" d=\"\nM1650.56 917.084 L1650.56 1020.91 L1660.48 1020.91 L1660.48 917.084 L1650.56 917.084 L1650.56 917.084  Z\n  \" fill=\"#009af9\" fill-rule=\"evenodd\" fill-opacity=\"1\"/>\n<polyline clip-path=\"url(#clip6302)\" style=\"stroke:#000000; stroke-width:4; stroke-opacity:1; fill:none\" points=\"\n  1650.56,917.084 1650.56,1020.91 1660.48,1020.91 1660.48,917.084 1650.56,917.084 \n  \"/>\n<path clip-path=\"url(#clip6302)\" d=\"\nM1675.35 569.332 L1675.35 1020.91 L1685.27 1020.91 L1685.27 569.332 L1675.35 569.332 L1675.35 569.332  Z\n  \" fill=\"#009af9\" fill-rule=\"evenodd\" fill-opacity=\"1\"/>\n<polyline clip-path=\"url(#clip6302)\" style=\"stroke:#000000; stroke-width:4; stroke-opacity:1; fill:none\" points=\"\n  1675.35,569.332 1675.35,1020.91 1685.27,1020.91 1685.27,569.332 1675.35,569.332 \n  \"/>\n<path clip-path=\"url(#clip6302)\" d=\"\nM1687.75 985.999 L1687.75 1020.91 L1697.67 1020.91 L1697.67 985.999 L1687.75 985.999 L1687.75 985.999  Z\n  \" fill=\"#009af9\" fill-rule=\"evenodd\" fill-opacity=\"1\"/>\n<polyline clip-path=\"url(#clip6302)\" style=\"stroke:#000000; stroke-width:4; stroke-opacity:1; fill:none\" points=\"\n  1687.75,985.999 1687.75,1020.91 1697.67,1020.91 1697.67,985.999 1687.75,985.999 \n  \"/>\n<path clip-path=\"url(#clip6302)\" d=\"\nM1737.34 903.482 L1737.34 1020.91 L1747.25 1020.91 L1747.25 903.482 L1737.34 903.482 L1737.34 903.482  Z\n  \" fill=\"#009af9\" fill-rule=\"evenodd\" fill-opacity=\"1\"/>\n<polyline clip-path=\"url(#clip6302)\" style=\"stroke:#000000; stroke-width:4; stroke-opacity:1; fill:none\" points=\"\n  1737.34,903.482 1737.34,1020.91 1747.25,1020.91 1747.25,903.482 1737.34,903.482 \n  \"/>\n<path clip-path=\"url(#clip6302)\" d=\"\nM1749.73 621.472 L1749.73 1020.91 L1759.65 1020.91 L1759.65 621.472 L1749.73 621.472 L1749.73 621.472  Z\n  \" fill=\"#009af9\" fill-rule=\"evenodd\" fill-opacity=\"1\"/>\n<polyline clip-path=\"url(#clip6302)\" style=\"stroke:#000000; stroke-width:4; stroke-opacity:1; fill:none\" points=\"\n  1749.73,621.472 1749.73,1020.91 1759.65,1020.91 1759.65,621.472 1749.73,621.472 \n  \"/>\n<path clip-path=\"url(#clip6302)\" d=\"\nM1762.13 1011.84 L1762.13 1020.91 L1772.05 1020.91 L1772.05 1011.84 L1762.13 1011.84 L1762.13 1011.84  Z\n  \" fill=\"#009af9\" fill-rule=\"evenodd\" fill-opacity=\"1\"/>\n<polyline clip-path=\"url(#clip6302)\" style=\"stroke:#000000; stroke-width:4; stroke-opacity:1; fill:none\" points=\"\n  1762.13,1011.84 1762.13,1020.91 1772.05,1020.91 1772.05,1011.84 1762.13,1011.84 \n  \"/>\n<path clip-path=\"url(#clip6302)\" d=\"\nM1774.53 997.787 L1774.53 1020.91 L1784.44 1020.91 L1784.44 997.787 L1774.53 997.787 L1774.53 997.787  Z\n  \" fill=\"#009af9\" fill-rule=\"evenodd\" fill-opacity=\"1\"/>\n<polyline clip-path=\"url(#clip6302)\" style=\"stroke:#000000; stroke-width:4; stroke-opacity:1; fill:none\" points=\"\n  1774.53,997.787 1774.53,1020.91 1784.44,1020.91 1784.44,997.787 1774.53,997.787 \n  \"/>\n<path clip-path=\"url(#clip6302)\" d=\"\nM1786.92 880.812 L1786.92 1020.91 L1796.84 1020.91 L1796.84 880.812 L1786.92 880.812 L1786.92 880.812  Z\n  \" fill=\"#009af9\" fill-rule=\"evenodd\" fill-opacity=\"1\"/>\n<polyline clip-path=\"url(#clip6302)\" style=\"stroke:#000000; stroke-width:4; stroke-opacity:1; fill:none\" points=\"\n  1786.92,880.812 1786.92,1020.91 1796.84,1020.91 1796.84,880.812 1786.92,880.812 \n  \"/>\n<path clip-path=\"url(#clip6302)\" d=\"\nM1799.32 691.295 L1799.32 1020.91 L1809.24 1020.91 L1809.24 691.295 L1799.32 691.295 L1799.32 691.295  Z\n  \" fill=\"#009af9\" fill-rule=\"evenodd\" fill-opacity=\"1\"/>\n<polyline clip-path=\"url(#clip6302)\" style=\"stroke:#000000; stroke-width:4; stroke-opacity:1; fill:none\" points=\"\n  1799.32,691.295 1799.32,1020.91 1809.24,1020.91 1809.24,691.295 1799.32,691.295 \n  \"/>\n<path clip-path=\"url(#clip6302)\" d=\"\nM1824.11 688.121 L1824.11 1020.91 L1834.03 1020.91 L1834.03 688.121 L1824.11 688.121 L1824.11 688.121  Z\n  \" fill=\"#009af9\" fill-rule=\"evenodd\" fill-opacity=\"1\"/>\n<polyline clip-path=\"url(#clip6302)\" style=\"stroke:#000000; stroke-width:4; stroke-opacity:1; fill:none\" points=\"\n  1824.11,688.121 1824.11,1020.91 1834.03,1020.91 1834.03,688.121 1824.11,688.121 \n  \"/>\n<path clip-path=\"url(#clip6302)\" d=\"\nM1848.91 676.786 L1848.91 1020.91 L1858.82 1020.91 L1858.82 676.786 L1848.91 676.786 L1848.91 676.786  Z\n  \" fill=\"#009af9\" fill-rule=\"evenodd\" fill-opacity=\"1\"/>\n<polyline clip-path=\"url(#clip6302)\" style=\"stroke:#000000; stroke-width:4; stroke-opacity:1; fill:none\" points=\"\n  1848.91,676.786 1848.91,1020.91 1858.82,1020.91 1858.82,676.786 1848.91,676.786 \n  \"/>\n<path clip-path=\"url(#clip6302)\" d=\"\nM1861.3 1019.55 L1861.3 1020.91 L1871.22 1020.91 L1871.22 1019.55 L1861.3 1019.55 L1861.3 1019.55  Z\n  \" fill=\"#009af9\" fill-rule=\"evenodd\" fill-opacity=\"1\"/>\n<polyline clip-path=\"url(#clip6302)\" style=\"stroke:#000000; stroke-width:4; stroke-opacity:1; fill:none\" points=\"\n  1861.3,1019.55 1861.3,1020.91 1871.22,1020.91 1871.22,1019.55 1861.3,1019.55 \n  \"/>\n<path clip-path=\"url(#clip6302)\" d=\"\nM1873.7 379.361 L1873.7 1020.91 L1883.62 1020.91 L1883.62 379.361 L1873.7 379.361 L1873.7 379.361  Z\n  \" fill=\"#009af9\" fill-rule=\"evenodd\" fill-opacity=\"1\"/>\n<polyline clip-path=\"url(#clip6302)\" style=\"stroke:#000000; stroke-width:4; stroke-opacity:1; fill:none\" points=\"\n  1873.7,379.361 1873.7,1020.91 1883.62,1020.91 1883.62,379.361 1873.7,379.361 \n  \"/>\n<path clip-path=\"url(#clip6302)\" d=\"\nM1886.09 1015.92 L1886.09 1020.91 L1896.01 1020.91 L1896.01 1015.92 L1886.09 1015.92 L1886.09 1015.92  Z\n  \" fill=\"#009af9\" fill-rule=\"evenodd\" fill-opacity=\"1\"/>\n<polyline clip-path=\"url(#clip6302)\" style=\"stroke:#000000; stroke-width:4; stroke-opacity:1; fill:none\" points=\"\n  1886.09,1015.92 1886.09,1020.91 1896.01,1020.91 1896.01,1015.92 1886.09,1015.92 \n  \"/>\n<path clip-path=\"url(#clip6302)\" d=\"\nM1898.49 318.607 L1898.49 1020.91 L1908.41 1020.91 L1908.41 318.607 L1898.49 318.607 L1898.49 318.607  Z\n  \" fill=\"#009af9\" fill-rule=\"evenodd\" fill-opacity=\"1\"/>\n<polyline clip-path=\"url(#clip6302)\" style=\"stroke:#000000; stroke-width:4; stroke-opacity:1; fill:none\" points=\"\n  1898.49,318.607 1898.49,1020.91 1908.41,1020.91 1908.41,318.607 1898.49,318.607 \n  \"/>\n<path clip-path=\"url(#clip6302)\" d=\"\nM1935.68 972.851 L1935.68 1020.91 L1945.6 1020.91 L1945.6 972.851 L1935.68 972.851 L1935.68 972.851  Z\n  \" fill=\"#009af9\" fill-rule=\"evenodd\" fill-opacity=\"1\"/>\n<polyline clip-path=\"url(#clip6302)\" style=\"stroke:#000000; stroke-width:4; stroke-opacity:1; fill:none\" points=\"\n  1935.68,972.851 1935.68,1020.91 1945.6,1020.91 1945.6,972.851 1935.68,972.851 \n  \"/>\n<path clip-path=\"url(#clip6302)\" d=\"\nM1972.87 1003.23 L1972.87 1020.91 L1982.79 1020.91 L1982.79 1003.23 L1972.87 1003.23 L1972.87 1003.23  Z\n  \" fill=\"#009af9\" fill-rule=\"evenodd\" fill-opacity=\"1\"/>\n<polyline clip-path=\"url(#clip6302)\" style=\"stroke:#000000; stroke-width:4; stroke-opacity:1; fill:none\" points=\"\n  1972.87,1003.23 1972.87,1020.91 1982.79,1020.91 1982.79,1003.23 1972.87,1003.23 \n  \"/>\n<path clip-path=\"url(#clip6302)\" d=\"\nM1985.27 1015.92 L1985.27 1020.91 L1995.18 1020.91 L1995.18 1015.92 L1985.27 1015.92 L1985.27 1015.92  Z\n  \" fill=\"#009af9\" fill-rule=\"evenodd\" fill-opacity=\"1\"/>\n<polyline clip-path=\"url(#clip6302)\" style=\"stroke:#000000; stroke-width:4; stroke-opacity:1; fill:none\" points=\"\n  1985.27,1015.92 1985.27,1020.91 1995.18,1020.91 1995.18,1015.92 1985.27,1015.92 \n  \"/>\n<path clip-path=\"url(#clip6302)\" d=\"\nM1997.66 979.652 L1997.66 1020.91 L2007.58 1020.91 L2007.58 979.652 L1997.66 979.652 L1997.66 979.652  Z\n  \" fill=\"#009af9\" fill-rule=\"evenodd\" fill-opacity=\"1\"/>\n<polyline clip-path=\"url(#clip6302)\" style=\"stroke:#000000; stroke-width:4; stroke-opacity:1; fill:none\" points=\"\n  1997.66,979.652 1997.66,1020.91 2007.58,1020.91 2007.58,979.652 1997.66,979.652 \n  \"/>\n<path clip-path=\"url(#clip6302)\" d=\"\nM2059.65 678.146 L2059.65 1020.91 L2069.56 1020.91 L2069.56 678.146 L2059.65 678.146 L2059.65 678.146  Z\n  \" fill=\"#009af9\" fill-rule=\"evenodd\" fill-opacity=\"1\"/>\n<polyline clip-path=\"url(#clip6302)\" style=\"stroke:#000000; stroke-width:4; stroke-opacity:1; fill:none\" points=\"\n  2059.65,678.146 2059.65,1020.91 2069.56,1020.91 2069.56,678.146 2059.65,678.146 \n  \"/>\n<path clip-path=\"url(#clip6302)\" d=\"\nM2096.84 1019.1 L2096.84 1020.91 L2106.75 1020.91 L2106.75 1019.1 L2096.84 1019.1 L2096.84 1019.1  Z\n  \" fill=\"#009af9\" fill-rule=\"evenodd\" fill-opacity=\"1\"/>\n<polyline clip-path=\"url(#clip6302)\" style=\"stroke:#000000; stroke-width:4; stroke-opacity:1; fill:none\" points=\"\n  2096.84,1019.1 2096.84,1020.91 2106.75,1020.91 2106.75,1019.1 2096.84,1019.1 \n  \"/>\n<path clip-path=\"url(#clip6302)\" d=\"\nM2146.42 678.6 L2146.42 1020.91 L2156.34 1020.91 L2156.34 678.6 L2146.42 678.6 L2146.42 678.6  Z\n  \" fill=\"#009af9\" fill-rule=\"evenodd\" fill-opacity=\"1\"/>\n<polyline clip-path=\"url(#clip6302)\" style=\"stroke:#000000; stroke-width:4; stroke-opacity:1; fill:none\" points=\"\n  2146.42,678.6 2146.42,1020.91 2156.34,1020.91 2156.34,678.6 2146.42,678.6 \n  \"/>\n<path clip-path=\"url(#clip6302)\" d=\"\nM2158.82 567.065 L2158.82 1020.91 L2168.74 1020.91 L2168.74 567.065 L2158.82 567.065 L2158.82 567.065  Z\n  \" fill=\"#009af9\" fill-rule=\"evenodd\" fill-opacity=\"1\"/>\n<polyline clip-path=\"url(#clip6302)\" style=\"stroke:#000000; stroke-width:4; stroke-opacity:1; fill:none\" points=\"\n  2158.82,567.065 2158.82,1020.91 2168.74,1020.91 2168.74,567.065 2158.82,567.065 \n  \"/>\n<path clip-path=\"url(#clip6302)\" d=\"\nM2171.21 1011.84 L2171.21 1020.91 L2181.13 1020.91 L2181.13 1011.84 L2171.21 1011.84 L2171.21 1011.84  Z\n  \" fill=\"#009af9\" fill-rule=\"evenodd\" fill-opacity=\"1\"/>\n<polyline clip-path=\"url(#clip6302)\" style=\"stroke:#000000; stroke-width:4; stroke-opacity:1; fill:none\" points=\"\n  2171.21,1011.84 2171.21,1020.91 2181.13,1020.91 2181.13,1011.84 2171.21,1011.84 \n  \"/>\n<path clip-path=\"url(#clip6302)\" d=\"\nM2208.4 650.943 L2208.4 1020.91 L2218.32 1020.91 L2218.32 650.943 L2208.4 650.943 L2208.4 650.943  Z\n  \" fill=\"#009af9\" fill-rule=\"evenodd\" fill-opacity=\"1\"/>\n<polyline clip-path=\"url(#clip6302)\" style=\"stroke:#000000; stroke-width:4; stroke-opacity:1; fill:none\" points=\"\n  2208.4,650.943 2208.4,1020.91 2218.32,1020.91 2218.32,650.943 2208.4,650.943 \n  \"/>\n<path clip-path=\"url(#clip6302)\" d=\"\nM2220.8 1008.22 L2220.8 1020.91 L2230.72 1020.91 L2230.72 1008.22 L2220.8 1008.22 L2220.8 1008.22  Z\n  \" fill=\"#009af9\" fill-rule=\"evenodd\" fill-opacity=\"1\"/>\n<polyline clip-path=\"url(#clip6302)\" style=\"stroke:#000000; stroke-width:4; stroke-opacity:1; fill:none\" points=\"\n  2220.8,1008.22 2220.8,1020.91 2230.72,1020.91 2230.72,1008.22 2220.8,1008.22 \n  \"/>\n<path clip-path=\"url(#clip6302)\" d=\"\nM2233.2 967.41 L2233.2 1020.91 L2243.11 1020.91 L2243.11 967.41 L2233.2 967.41 L2233.2 967.41  Z\n  \" fill=\"#009af9\" fill-rule=\"evenodd\" fill-opacity=\"1\"/>\n<polyline clip-path=\"url(#clip6302)\" style=\"stroke:#000000; stroke-width:4; stroke-opacity:1; fill:none\" points=\"\n  2233.2,967.41 2233.2,1020.91 2243.11,1020.91 2243.11,967.41 2233.2,967.41 \n  \"/>\n<path clip-path=\"url(#clip6302)\" d=\"\nM2245.59 897.588 L2245.59 1020.91 L2255.51 1020.91 L2255.51 897.588 L2245.59 897.588 L2245.59 897.588  Z\n  \" fill=\"#009af9\" fill-rule=\"evenodd\" fill-opacity=\"1\"/>\n<polyline clip-path=\"url(#clip6302)\" style=\"stroke:#000000; stroke-width:4; stroke-opacity:1; fill:none\" points=\"\n  2245.59,897.588 2245.59,1020.91 2255.51,1020.91 2255.51,897.588 2245.59,897.588 \n  \"/>\n<path clip-path=\"url(#clip6302)\" d=\"\nM2257.99 764.744 L2257.99 1020.91 L2267.91 1020.91 L2267.91 764.744 L2257.99 764.744 L2257.99 764.744  Z\n  \" fill=\"#009af9\" fill-rule=\"evenodd\" fill-opacity=\"1\"/>\n<polyline clip-path=\"url(#clip6302)\" style=\"stroke:#000000; stroke-width:4; stroke-opacity:1; fill:none\" points=\"\n  2257.99,764.744 2257.99,1020.91 2267.91,1020.91 2267.91,764.744 2257.99,764.744 \n  \"/>\n<path clip-path=\"url(#clip6302)\" d=\"\nM2270.39 850.435 L2270.39 1020.91 L2280.3 1020.91 L2280.3 850.435 L2270.39 850.435 L2270.39 850.435  Z\n  \" fill=\"#009af9\" fill-rule=\"evenodd\" fill-opacity=\"1\"/>\n<polyline clip-path=\"url(#clip6302)\" style=\"stroke:#000000; stroke-width:4; stroke-opacity:1; fill:none\" points=\"\n  2270.39,850.435 2270.39,1020.91 2280.3,1020.91 2280.3,850.435 2270.39,850.435 \n  \"/>\n<path clip-path=\"url(#clip6302)\" d=\"\nM2282.78 949.728 L2282.78 1020.91 L2292.7 1020.91 L2292.7 949.728 L2282.78 949.728 L2282.78 949.728  Z\n  \" fill=\"#009af9\" fill-rule=\"evenodd\" fill-opacity=\"1\"/>\n<polyline clip-path=\"url(#clip6302)\" style=\"stroke:#000000; stroke-width:4; stroke-opacity:1; fill:none\" points=\"\n  2282.78,949.728 2282.78,1020.91 2292.7,1020.91 2292.7,949.728 2282.78,949.728 \n  \"/>\n<path clip-path=\"url(#clip6302)\" d=\"\nM2295.18 1004.59 L2295.18 1020.91 L2305.1 1020.91 L2305.1 1004.59 L2295.18 1004.59 L2295.18 1004.59  Z\n  \" fill=\"#009af9\" fill-rule=\"evenodd\" fill-opacity=\"1\"/>\n<polyline clip-path=\"url(#clip6302)\" style=\"stroke:#000000; stroke-width:4; stroke-opacity:1; fill:none\" points=\"\n  2295.18,1004.59 2295.18,1020.91 2305.1,1020.91 2305.1,1004.59 2295.18,1004.59 \n  \"/>\n<path clip-path=\"url(#clip6302)\" d=\"\nM2307.58 1016.38 L2307.58 1020.91 L2317.49 1020.91 L2317.49 1016.38 L2307.58 1016.38 L2307.58 1016.38  Z\n  \" fill=\"#009af9\" fill-rule=\"evenodd\" fill-opacity=\"1\"/>\n<polyline clip-path=\"url(#clip6302)\" style=\"stroke:#000000; stroke-width:4; stroke-opacity:1; fill:none\" points=\"\n  2307.58,1016.38 2307.58,1020.91 2317.49,1020.91 2317.49,1016.38 2307.58,1016.38 \n  \"/>\n<path clip-path=\"url(#clip6302)\" d=\"\nM2319.97 1020 L2319.97 1020.91 L2329.89 1020.91 L2329.89 1020 L2319.97 1020 L2319.97 1020  Z\n  \" fill=\"#009af9\" fill-rule=\"evenodd\" fill-opacity=\"1\"/>\n<polyline clip-path=\"url(#clip6302)\" style=\"stroke:#000000; stroke-width:4; stroke-opacity:1; fill:none\" points=\"\n  2319.97,1020 2319.97,1020.91 2329.89,1020.91 2329.89,1020 2319.97,1020 \n  \"/>\n<path clip-path=\"url(#clip6302)\" d=\"\nM2344.77 992.347 L2344.77 1020.91 L2354.68 1020.91 L2354.68 992.347 L2344.77 992.347 L2344.77 992.347  Z\n  \" fill=\"#009af9\" fill-rule=\"evenodd\" fill-opacity=\"1\"/>\n<polyline clip-path=\"url(#clip6302)\" style=\"stroke:#000000; stroke-width:4; stroke-opacity:1; fill:none\" points=\"\n  2344.77,992.347 2344.77,1020.91 2354.68,1020.91 2354.68,992.347 2344.77,992.347 \n  \"/>\n<path clip-path=\"url(#clip6302)\" d=\"\nM2357.16 986.453 L2357.16 1020.91 L2367.08 1020.91 L2367.08 986.453 L2357.16 986.453 L2357.16 986.453  Z\n  \" fill=\"#009af9\" fill-rule=\"evenodd\" fill-opacity=\"1\"/>\n<polyline clip-path=\"url(#clip6302)\" style=\"stroke:#000000; stroke-width:4; stroke-opacity:1; fill:none\" points=\"\n  2357.16,986.453 2357.16,1020.91 2367.08,1020.91 2367.08,986.453 2357.16,986.453 \n  \"/>\n<path clip-path=\"url(#clip6302)\" d=\"\nM2381.96 993.707 L2381.96 1020.91 L2391.87 1020.91 L2391.87 993.707 L2381.96 993.707 L2381.96 993.707  Z\n  \" fill=\"#009af9\" fill-rule=\"evenodd\" fill-opacity=\"1\"/>\n<polyline clip-path=\"url(#clip6302)\" style=\"stroke:#000000; stroke-width:4; stroke-opacity:1; fill:none\" points=\"\n  2381.96,993.707 2381.96,1020.91 2391.87,1020.91 2391.87,993.707 2381.96,993.707 \n  \"/>\n<path clip-path=\"url(#clip6302)\" d=\"\nM2394.35 894.414 L2394.35 1020.91 L2404.27 1020.91 L2404.27 894.414 L2394.35 894.414 L2394.35 894.414  Z\n  \" fill=\"#009af9\" fill-rule=\"evenodd\" fill-opacity=\"1\"/>\n<polyline clip-path=\"url(#clip6302)\" style=\"stroke:#000000; stroke-width:4; stroke-opacity:1; fill:none\" points=\"\n  2394.35,894.414 2394.35,1020.91 2404.27,1020.91 2404.27,894.414 2394.35,894.414 \n  \"/>\n<path clip-path=\"url(#clip6302)\" d=\"\nM2406.75 971.491 L2406.75 1020.91 L2416.67 1020.91 L2416.67 971.491 L2406.75 971.491 L2406.75 971.491  Z\n  \" fill=\"#009af9\" fill-rule=\"evenodd\" fill-opacity=\"1\"/>\n<polyline clip-path=\"url(#clip6302)\" style=\"stroke:#000000; stroke-width:4; stroke-opacity:1; fill:none\" points=\"\n  2406.75,971.491 2406.75,1020.91 2416.67,1020.91 2416.67,971.491 2406.75,971.491 \n  \"/>\n<path clip-path=\"url(#clip6302)\" d=\"\nM2419.15 1016.83 L2419.15 1020.91 L2429.06 1020.91 L2429.06 1016.83 L2419.15 1016.83 L2419.15 1016.83  Z\n  \" fill=\"#009af9\" fill-rule=\"evenodd\" fill-opacity=\"1\"/>\n<polyline clip-path=\"url(#clip6302)\" style=\"stroke:#000000; stroke-width:4; stroke-opacity:1; fill:none\" points=\"\n  2419.15,1016.83 2419.15,1020.91 2429.06,1020.91 2429.06,1016.83 2419.15,1016.83 \n  \"/>\n<path clip-path=\"url(#clip6302)\" d=\"\nM2443.94 817.337 L2443.94 1020.91 L2453.86 1020.91 L2453.86 817.337 L2443.94 817.337 L2443.94 817.337  Z\n  \" fill=\"#009af9\" fill-rule=\"evenodd\" fill-opacity=\"1\"/>\n<polyline clip-path=\"url(#clip6302)\" style=\"stroke:#000000; stroke-width:4; stroke-opacity:1; fill:none\" points=\"\n  2443.94,817.337 2443.94,1020.91 2453.86,1020.91 2453.86,817.337 2443.94,817.337 \n  \"/>\n<path clip-path=\"url(#clip6302)\" d=\"\nM2456.33 919.804 L2456.33 1020.91 L2466.25 1020.91 L2466.25 919.804 L2456.33 919.804 L2456.33 919.804  Z\n  \" fill=\"#009af9\" fill-rule=\"evenodd\" fill-opacity=\"1\"/>\n<polyline clip-path=\"url(#clip6302)\" style=\"stroke:#000000; stroke-width:4; stroke-opacity:1; fill:none\" points=\"\n  2456.33,919.804 2456.33,1020.91 2466.25,1020.91 2466.25,919.804 2456.33,919.804 \n  \"/>\n<path clip-path=\"url(#clip6302)\" d=\"\nM2468.73 975.571 L2468.73 1020.91 L2478.65 1020.91 L2478.65 975.571 L2468.73 975.571 L2468.73 975.571  Z\n  \" fill=\"#009af9\" fill-rule=\"evenodd\" fill-opacity=\"1\"/>\n<polyline clip-path=\"url(#clip6302)\" style=\"stroke:#000000; stroke-width:4; stroke-opacity:1; fill:none\" points=\"\n  2468.73,975.571 2468.73,1020.91 2478.65,1020.91 2478.65,975.571 2468.73,975.571 \n  \"/>\n<path clip-path=\"url(#clip6302)\" d=\"\nM2493.52 979.652 L2493.52 1020.91 L2503.44 1020.91 L2503.44 979.652 L2493.52 979.652 L2493.52 979.652  Z\n  \" fill=\"#009af9\" fill-rule=\"evenodd\" fill-opacity=\"1\"/>\n<polyline clip-path=\"url(#clip6302)\" style=\"stroke:#000000; stroke-width:4; stroke-opacity:1; fill:none\" points=\"\n  2493.52,979.652 2493.52,1020.91 2503.44,1020.91 2503.44,979.652 2493.52,979.652 \n  \"/>\n<path clip-path=\"url(#clip6302)\" d=\"\nM2505.92 872.198 L2505.92 1020.91 L2515.84 1020.91 L2515.84 872.198 L2505.92 872.198 L2505.92 872.198  Z\n  \" fill=\"#009af9\" fill-rule=\"evenodd\" fill-opacity=\"1\"/>\n<polyline clip-path=\"url(#clip6302)\" style=\"stroke:#000000; stroke-width:4; stroke-opacity:1; fill:none\" points=\"\n  2505.92,872.198 2505.92,1020.91 2515.84,1020.91 2515.84,872.198 2505.92,872.198 \n  \"/>\n<path clip-path=\"url(#clip6302)\" d=\"\nM2543.11 981.012 L2543.11 1020.91 L2553.03 1020.91 L2553.03 981.012 L2543.11 981.012 L2543.11 981.012  Z\n  \" fill=\"#009af9\" fill-rule=\"evenodd\" fill-opacity=\"1\"/>\n<polyline clip-path=\"url(#clip6302)\" style=\"stroke:#000000; stroke-width:4; stroke-opacity:1; fill:none\" points=\"\n  2543.11,981.012 2543.11,1020.91 2553.03,1020.91 2553.03,981.012 2543.11,981.012 \n  \"/>\n<path clip-path=\"url(#clip6302)\" d=\"\nM2555.51 1000.05 L2555.51 1020.91 L2565.42 1020.91 L2565.42 1000.05 L2555.51 1000.05 L2555.51 1000.05  Z\n  \" fill=\"#009af9\" fill-rule=\"evenodd\" fill-opacity=\"1\"/>\n<polyline clip-path=\"url(#clip6302)\" style=\"stroke:#000000; stroke-width:4; stroke-opacity:1; fill:none\" points=\"\n  2555.51,1000.05 2555.51,1020.91 2565.42,1020.91 2565.42,1000.05 2555.51,1000.05 \n  \"/>\n<path clip-path=\"url(#clip6302)\" d=\"\nM2567.9 1007.31 L2567.9 1020.91 L2577.82 1020.91 L2577.82 1007.31 L2567.9 1007.31 L2567.9 1007.31  Z\n  \" fill=\"#009af9\" fill-rule=\"evenodd\" fill-opacity=\"1\"/>\n<polyline clip-path=\"url(#clip6302)\" style=\"stroke:#000000; stroke-width:4; stroke-opacity:1; fill:none\" points=\"\n  2567.9,1007.31 2567.9,1020.91 2577.82,1020.91 2577.82,1007.31 2567.9,1007.31 \n  \"/>\n<path clip-path=\"url(#clip6302)\" d=\"\nM2592.7 981.919 L2592.7 1020.91 L2602.61 1020.91 L2602.61 981.919 L2592.7 981.919 L2592.7 981.919  Z\n  \" fill=\"#009af9\" fill-rule=\"evenodd\" fill-opacity=\"1\"/>\n<polyline clip-path=\"url(#clip6302)\" style=\"stroke:#000000; stroke-width:4; stroke-opacity:1; fill:none\" points=\"\n  2592.7,981.919 2592.7,1020.91 2602.61,1020.91 2602.61,981.919 2592.7,981.919 \n  \"/>\n<path clip-path=\"url(#clip6302)\" d=\"\nM2605.09 996.427 L2605.09 1020.91 L2615.01 1020.91 L2615.01 996.427 L2605.09 996.427 L2605.09 996.427  Z\n  \" fill=\"#009af9\" fill-rule=\"evenodd\" fill-opacity=\"1\"/>\n<polyline clip-path=\"url(#clip6302)\" style=\"stroke:#000000; stroke-width:4; stroke-opacity:1; fill:none\" points=\"\n  2605.09,996.427 2605.09,1020.91 2615.01,1020.91 2615.01,996.427 2605.09,996.427 \n  \"/>\n<polyline clip-path=\"url(#clip6302)\" style=\"stroke:#008000; stroke-width:16; stroke-opacity:1; fill:none\" stroke-dasharray=\"64, 40\" points=\"\n  -2256.01,851.795 5257.14,851.795 \n  \"/>\n<path clip-path=\"url(#clip6300)\" d=\"\nM2241.61 395.964 L2668.76 395.964 L2668.76 214.524 L2241.61 214.524  Z\n  \" fill=\"#ffffff\" fill-rule=\"evenodd\" fill-opacity=\"1\"/>\n<polyline clip-path=\"url(#clip6300)\" style=\"stroke:#000000; stroke-width:4; stroke-opacity:1; fill:none\" points=\"\n  2241.61,395.964 2668.76,395.964 2668.76,214.524 2241.61,214.524 2241.61,395.964 \n  \"/>\n<path clip-path=\"url(#clip6300)\" d=\"\nM2269.61 299.196 L2437.61 299.196 L2437.61 250.812 L2269.61 250.812 L2269.61 299.196  Z\n  \" fill=\"#009af9\" fill-rule=\"evenodd\" fill-opacity=\"1\"/>\n<polyline clip-path=\"url(#clip6300)\" style=\"stroke:#000000; stroke-width:4; stroke-opacity:1; fill:none\" points=\"\n  2269.61,299.196 2437.61,299.196 2437.61,250.812 2269.61,250.812 2269.61,299.196 \n  \"/>\n<g clip-path=\"url(#clip6300)\">\n<text style=\"fill:#000000; fill-opacity:1; font-family:Arial,Helvetica Neue,Helvetica,sans-serif; font-size:48px; text-anchor:start;\" transform=\"rotate(0, 2465.61, 292.504)\" x=\"2465.61\" y=\"292.504\">Events</text>\n</g>\n<polyline clip-path=\"url(#clip6300)\" style=\"stroke:#008000; stroke-width:16; stroke-opacity:1; fill:none\" stroke-dasharray=\"64, 40\" points=\"\n  2269.61,335.484 2437.61,335.484 \n  \"/>\n<g clip-path=\"url(#clip6300)\">\n<text style=\"fill:#000000; fill-opacity:1; font-family:Arial,Helvetica Neue,Helvetica,sans-serif; font-size:48px; text-anchor:start;\" transform=\"rotate(0, 2465.61, 352.984)\" x=\"2465.61\" y=\"352.984\">Mean</text>\n</g>\n</svg>\n"
          },
          "metadata": {}
        }
      ],
      "execution_count": 47,
      "metadata": {
        "collapsed": true,
        "jupyter": {
          "source_hidden": false,
          "outputs_hidden": false
        },
        "nteract": {
          "transient": {
            "deleting": false
          }
        },
        "execution": {
          "iopub.status.busy": "2020-11-30T06:28:47.213Z",
          "iopub.execute_input": "2020-11-30T06:28:47.234Z",
          "iopub.status.idle": "2020-11-30T06:28:47.288Z"
        }
      }
    },
    {
      "cell_type": "markdown",
      "source": [
        "<div align=\"center\">\n",
        "  <h2> USUARIOS  </h2>\n",
        "</div>"
      ],
      "metadata": {
        "nteract": {
          "transient": {
            "deleting": false
          }
        }
      }
    },
    {
      "cell_type": "code",
      "source": [
        "# Cargando archivo .CSV con las agrupaciones generadas al correr los distinos modelos de aprendizaje no supervisado\n",
        "usersDataFrame = DataFrame(CSV.File(\"../data/users_30_10_2020.csv\"))"
      ],
      "outputs": [
        {
          "output_type": "execute_result",
          "execution_count": 252,
          "data": {
            "text/plain": "169×14 DataFrame. Omitted printing of 11 columns\n│ Row │ _id                      │ USER_ID │ username              │\n│     │ \u001b[90mString\u001b[39m                   │ \u001b[90mInt64\u001b[39m   │ \u001b[90mString\u001b[39m                │\n├─────┼──────────────────────────┼─────────┼───────────────────────┤\n│ 1   │ 5fa09d81bc73eb52ca087af6 │ 1       │ guest                 │\n│ 2   │ 5fa09d81bc73eb52ca087af7 │ 2       │ admin                 │\n│ 3   │ 5fa09d81bc73eb52ca087af8 │ 3       │ profesor              │\n│ 4   │ 5fa09d81bc73eb52ca087af9 │ 4       │ estudiante            │\n│ 5   │ 5fa09d81bc73eb52ca087afa │ 5       │ lcardenf@eafit.edu.co │\n│ 6   │ 5fa09d81bc73eb52ca087afb │ 6       │ mvasqu23@eafit.edu.co │\n│ 7   │ 5fa09d81bc73eb52ca087afc │ 7       │ cdiazleo@eafit.edu.co │\n│ 8   │ 5fa09d81bc73eb52ca087afd │ 8       │ cospinaf@eafit.edu.co │\n│ 9   │ 5fa09d81bc73eb52ca087afe │ 9       │ epreciad@eafit.edu.co │\n│ 10  │ 5fa09d81bc73eb52ca087aff │ 10      │ vzapata1@eafit.edu.co │\n⋮\n│ 159 │ 5fa09d82bc73eb52ca087b94 │ 159     │ damarint              │\n│ 160 │ 5fa09d82bc73eb52ca087b95 │ 160     │ sjaramil18            │\n│ 161 │ 5fa09d82bc73eb52ca087b96 │ 161     │ sllanov               │\n│ 162 │ 5fa09d82bc73eb52ca087b97 │ 162     │ jdjimenezb            │\n│ 163 │ 5fa09d82bc73eb52ca087b98 │ 163     │ eaflorezr             │\n│ 164 │ 5fa09d82bc73eb52ca087b99 │ 164     │ slopezs4              │\n│ 165 │ 5fa09d82bc73eb52ca087b9a │ 165     │ mvillegas1            │\n│ 166 │ 5fa09d82bc73eb52ca087b9b │ 166     │ mjmercados            │\n│ 167 │ 5fa09d82bc73eb52ca087b9c │ 167     │ jjcanot               │\n│ 168 │ 5fa09d82bc73eb52ca087b9d │ 168     │ sgomezf1              │\n│ 169 │ 5fa09d82bc73eb52ca087b9e │ 169     │ avelasqueb            │",
            "text/html": "<table class=\"data-frame\"><thead><tr><th></th><th>_id</th><th>USER_ID</th><th>username</th><th>firstname</th></tr><tr><th></th><th>String</th><th>Int64</th><th>String</th><th>String</th></tr></thead><tbody><p>169 rows × 14 columns (omitted printing of 10 columns)</p><tr><th>1</th><td>5fa09d81bc73eb52ca087af6</td><td>1</td><td>guest</td><td>Invitado</td></tr><tr><th>2</th><td>5fa09d81bc73eb52ca087af7</td><td>2</td><td>admin</td><td>Admin</td></tr><tr><th>3</th><td>5fa09d81bc73eb52ca087af8</td><td>3</td><td>profesor</td><td>Profesor</td></tr><tr><th>4</th><td>5fa09d81bc73eb52ca087af9</td><td>4</td><td>estudiante</td><td>Estudiante</td></tr><tr><th>5</th><td>5fa09d81bc73eb52ca087afa</td><td>5</td><td>lcardenf@eafit.edu.co</td><td>Luis</td></tr><tr><th>6</th><td>5fa09d81bc73eb52ca087afb</td><td>6</td><td>mvasqu23@eafit.edu.co</td><td>Mauricio</td></tr><tr><th>7</th><td>5fa09d81bc73eb52ca087afc</td><td>7</td><td>cdiazleo@eafit.edu.co</td><td>Cristian Andrés</td></tr><tr><th>8</th><td>5fa09d81bc73eb52ca087afd</td><td>8</td><td>cospinaf@eafit.edu.co</td><td>Carolina</td></tr><tr><th>9</th><td>5fa09d81bc73eb52ca087afe</td><td>9</td><td>epreciad@eafit.edu.co</td><td>Estefanía</td></tr><tr><th>10</th><td>5fa09d81bc73eb52ca087aff</td><td>10</td><td>vzapata1@eafit.edu.co</td><td>Valeria</td></tr><tr><th>11</th><td>5fa09d81bc73eb52ca087b00</td><td>11</td><td>spulgar8@eafit.edu.co</td><td>Sandra</td></tr><tr><th>12</th><td>5fa09d81bc73eb52ca087b01</td><td>12</td><td>narbela3@eafit.edu.co</td><td>Nicolás</td></tr><tr><th>13</th><td>5fa09d81bc73eb52ca087b02</td><td>13</td><td>lrodriguez@uwcolombia.org</td><td>Lina</td></tr><tr><th>14</th><td>5fa09d81bc73eb52ca087b03</td><td>14</td><td>laviles@uwcolombia.org</td><td>Lorena</td></tr><tr><th>15</th><td>5fa09d81bc73eb52ca087b04</td><td>15</td><td>otaborda@uwcolombia.org</td><td>Olga</td></tr><tr><th>16</th><td>5fa09d81bc73eb52ca087b05</td><td>16</td><td>asanta@uwcolombia.org</td><td>Alejandra</td></tr><tr><th>17</th><td>5fa09d81bc73eb52ca087b06</td><td>17</td><td>alexandraosoriodavila@gmail.com</td><td>Alexandra</td></tr><tr><th>18</th><td>5fa09d81bc73eb52ca087b07</td><td>18</td><td>anagaleano@ensjerico.edu.co</td><td>Ana Maria</td></tr><tr><th>19</th><td>5fa09d81bc73eb52ca087b08</td><td>19</td><td>anamilenamo82@gmail.com</td><td>Ana Milena</td></tr><tr><th>20</th><td>5fa09d81bc73eb52ca087b09</td><td>20</td><td>andresfelipeas@ufps.edu.co</td><td>Andrés Felipe</td></tr><tr><th>21</th><td>5fa09d81bc73eb52ca087b0a</td><td>21</td><td>anyi306870@gmail.com</td><td>Angela Maria</td></tr><tr><th>22</th><td>5fa09d81bc73eb52ca087b0b</td><td>22</td><td>angelica.vargas1@udea.edu.co</td><td>Angélica María</td></tr><tr><th>23</th><td>5fa09d81bc73eb52ca087b0c</td><td>23</td><td>vanegas29@outlook.com</td><td>Angy paola</td></tr><tr><th>24</th><td>5fa09d81bc73eb52ca087b0d</td><td>24</td><td>arlinson.padilla@udea.edu.co</td><td>Arlinson David</td></tr><tr><th>25</th><td>5fa09d81bc73eb52ca087b0e</td><td>25</td><td>berenicefranco74@gmail.com</td><td>Berenice</td></tr><tr><th>26</th><td>5fa09d81bc73eb52ca087b0f</td><td>26</td><td>bibianaossa@gmail.com</td><td>Bibiana</td></tr><tr><th>27</th><td>5fa09d81bc73eb52ca087b10</td><td>27</td><td>tabarescamilo28@gmail.com</td><td>Camilo</td></tr><tr><th>28</th><td>5fa09d81bc73eb52ca087b11</td><td>28</td><td>cavamo64@gmail.com</td><td>Carlos</td></tr><tr><th>29</th><td>5fa09d81bc73eb52ca087b12</td><td>29</td><td>carlosarturovalenciaarango@gmail.com</td><td>Carlos Arturo</td></tr><tr><th>30</th><td>5fa09d81bc73eb52ca087b13</td><td>30</td><td>cserna79@gmail.com</td><td>Carolina</td></tr><tr><th>&vellip;</th><td>&vellip;</td><td>&vellip;</td><td>&vellip;</td><td>&vellip;</td></tr></tbody></table>",
            "text/latex": "\\begin{tabular}{r|ccccc}\n\t& \\_id & USER\\_ID & username & firstname & \\\\\n\t\\hline\n\t& String & Int64 & String & String & \\\\\n\t\\hline\n\t1 & 5fa09d81bc73eb52ca087af6 & 1 & guest & Invitado & $\\dots$ \\\\\n\t2 & 5fa09d81bc73eb52ca087af7 & 2 & admin & Admin & $\\dots$ \\\\\n\t3 & 5fa09d81bc73eb52ca087af8 & 3 & profesor & Profesor & $\\dots$ \\\\\n\t4 & 5fa09d81bc73eb52ca087af9 & 4 & estudiante & Estudiante & $\\dots$ \\\\\n\t5 & 5fa09d81bc73eb52ca087afa & 5 & lcardenf@eafit.edu.co & Luis & $\\dots$ \\\\\n\t6 & 5fa09d81bc73eb52ca087afb & 6 & mvasqu23@eafit.edu.co & Mauricio & $\\dots$ \\\\\n\t7 & 5fa09d81bc73eb52ca087afc & 7 & cdiazleo@eafit.edu.co & Cristian Andrés & $\\dots$ \\\\\n\t8 & 5fa09d81bc73eb52ca087afd & 8 & cospinaf@eafit.edu.co & Carolina & $\\dots$ \\\\\n\t9 & 5fa09d81bc73eb52ca087afe & 9 & epreciad@eafit.edu.co & Estefanía & $\\dots$ \\\\\n\t10 & 5fa09d81bc73eb52ca087aff & 10 & vzapata1@eafit.edu.co & Valeria & $\\dots$ \\\\\n\t11 & 5fa09d81bc73eb52ca087b00 & 11 & spulgar8@eafit.edu.co & Sandra & $\\dots$ \\\\\n\t12 & 5fa09d81bc73eb52ca087b01 & 12 & narbela3@eafit.edu.co & Nicolás & $\\dots$ \\\\\n\t13 & 5fa09d81bc73eb52ca087b02 & 13 & lrodriguez@uwcolombia.org & Lina & $\\dots$ \\\\\n\t14 & 5fa09d81bc73eb52ca087b03 & 14 & laviles@uwcolombia.org & Lorena & $\\dots$ \\\\\n\t15 & 5fa09d81bc73eb52ca087b04 & 15 & otaborda@uwcolombia.org & Olga & $\\dots$ \\\\\n\t16 & 5fa09d81bc73eb52ca087b05 & 16 & asanta@uwcolombia.org & Alejandra & $\\dots$ \\\\\n\t17 & 5fa09d81bc73eb52ca087b06 & 17 & alexandraosoriodavila@gmail.com & Alexandra & $\\dots$ \\\\\n\t18 & 5fa09d81bc73eb52ca087b07 & 18 & anagaleano@ensjerico.edu.co & Ana Maria & $\\dots$ \\\\\n\t19 & 5fa09d81bc73eb52ca087b08 & 19 & anamilenamo82@gmail.com & Ana Milena & $\\dots$ \\\\\n\t20 & 5fa09d81bc73eb52ca087b09 & 20 & andresfelipeas@ufps.edu.co & Andrés Felipe & $\\dots$ \\\\\n\t21 & 5fa09d81bc73eb52ca087b0a & 21 & anyi306870@gmail.com & Angela Maria & $\\dots$ \\\\\n\t22 & 5fa09d81bc73eb52ca087b0b & 22 & angelica.vargas1@udea.edu.co & Angélica María & $\\dots$ \\\\\n\t23 & 5fa09d81bc73eb52ca087b0c & 23 & vanegas29@outlook.com & Angy paola & $\\dots$ \\\\\n\t24 & 5fa09d81bc73eb52ca087b0d & 24 & arlinson.padilla@udea.edu.co & Arlinson David & $\\dots$ \\\\\n\t25 & 5fa09d81bc73eb52ca087b0e & 25 & berenicefranco74@gmail.com & Berenice & $\\dots$ \\\\\n\t26 & 5fa09d81bc73eb52ca087b0f & 26 & bibianaossa@gmail.com & Bibiana & $\\dots$ \\\\\n\t27 & 5fa09d81bc73eb52ca087b10 & 27 & tabarescamilo28@gmail.com & Camilo & $\\dots$ \\\\\n\t28 & 5fa09d81bc73eb52ca087b11 & 28 & cavamo64@gmail.com & Carlos & $\\dots$ \\\\\n\t29 & 5fa09d81bc73eb52ca087b12 & 29 & carlosarturovalenciaarango@gmail.com & Carlos Arturo & $\\dots$ \\\\\n\t30 & 5fa09d81bc73eb52ca087b13 & 30 & cserna79@gmail.com & Carolina & $\\dots$ \\\\\n\t$\\dots$ & $\\dots$ & $\\dots$ & $\\dots$ & $\\dots$ &  \\\\\n\\end{tabular}\n"
          },
          "metadata": {}
        }
      ],
      "execution_count": 252,
      "metadata": {
        "collapsed": true,
        "jupyter": {
          "source_hidden": false,
          "outputs_hidden": false
        },
        "nteract": {
          "transient": {
            "deleting": false
          }
        },
        "execution": {
          "iopub.status.busy": "2020-11-27T06:50:42.644Z",
          "iopub.execute_input": "2020-11-27T06:50:42.674Z",
          "iopub.status.idle": "2020-11-27T06:50:42.739Z"
        }
      }
    },
    {
      "cell_type": "code",
      "source": [
        "#Redifiendo el conjunto de datos de usuarios para identificar su último inicio de sesión y último acceso a la plataforma\n",
        "userInteractionWithGIANT=usersDataFrame[!,[:USER_ID,:firstname, :lastname, :lastlogin, :lastaccess]]"
      ],
      "outputs": [
        {
          "output_type": "execute_result",
          "execution_count": 253,
          "data": {
            "text/plain": "169×5 DataFrame\n│ Row │ USER_ID │ firstname       │ lastname       │ lastlogin  │ lastaccess │\n│     │ \u001b[90mInt64\u001b[39m   │ \u001b[90mString\u001b[39m          │ \u001b[90mString\u001b[39m         │ \u001b[90mInt64\u001b[39m      │ \u001b[90mInt64\u001b[39m      │\n├─────┼─────────┼─────────────────┼────────────────┼────────────┼────────────┤\n│ 1   │ 1       │ Invitado        │                │ 0          │ 0          │\n│ 2   │ 2       │ Admin           │ EAFIT          │ 1604002930 │ 1604004378 │\n│ 3   │ 3       │ Profesor        │ Eafit          │ 1604068231 │ 1604068302 │\n│ 4   │ 4       │ Estudiante      │ Eafit          │ 1603739126 │ 1603746533 │\n│ 5   │ 5       │ Luis            │ Cárdenas       │ 1596644693 │ 1596655656 │\n│ 6   │ 6       │ Mauricio        │ Vásquez        │ 1601936325 │ 1603227659 │\n│ 7   │ 7       │ Cristian Andrés │ Díaz León      │ 0          │ 0          │\n│ 8   │ 8       │ Carolina        │ Ospina Foronda │ 0          │ 1598461145 │\n│ 9   │ 9       │ Estefanía       │ Preciado Santa │ 1604008365 │ 1604097552 │\n│ 10  │ 10      │ Valeria         │ Zapata Giraldo │ 1604089960 │ 1604098696 │\n⋮\n│ 159 │ 159     │ DAMIAN          │ MARIN          │ 0          │ 0          │\n│ 160 │ 160     │ SAMUEL          │ JARAMILLO      │ 0          │ 1602356640 │\n│ 161 │ 161     │ SEBASTIAN       │ LLANO          │ 1602337436 │ 1603059685 │\n│ 162 │ 162     │ JUAN            │ JIMENEZ        │ 0          │ 0          │\n│ 163 │ 163     │ EDSON           │ FLOREZ         │ 0          │ 0          │\n│ 164 │ 164     │ SEBASTIN        │ LPEZ           │ 1600543534 │ 1602364170 │\n│ 165 │ 165     │ MIGUEL          │ VILLEGAS       │ 0          │ 1603131414 │\n│ 166 │ 166     │ MIGUEL          │ MERCADO        │ 0          │ 1600548062 │\n│ 167 │ 167     │ JUAN            │ CANO           │ 0          │ 0          │\n│ 168 │ 168     │ SIMON           │ GOMEZ          │ 1602977364 │ 1602981457 │\n│ 169 │ 169     │ ANDRES          │ VELASQUEZ      │ 0          │ 1602349027 │",
            "text/html": "<table class=\"data-frame\"><thead><tr><th></th><th>USER_ID</th><th>firstname</th><th>lastname</th><th>lastlogin</th><th>lastaccess</th></tr><tr><th></th><th>Int64</th><th>String</th><th>String</th><th>Int64</th><th>Int64</th></tr></thead><tbody><p>169 rows × 5 columns</p><tr><th>1</th><td>1</td><td>Invitado</td><td> </td><td>0</td><td>0</td></tr><tr><th>2</th><td>2</td><td>Admin</td><td>EAFIT</td><td>1604002930</td><td>1604004378</td></tr><tr><th>3</th><td>3</td><td>Profesor</td><td>Eafit</td><td>1604068231</td><td>1604068302</td></tr><tr><th>4</th><td>4</td><td>Estudiante</td><td>Eafit</td><td>1603739126</td><td>1603746533</td></tr><tr><th>5</th><td>5</td><td>Luis</td><td>Cárdenas</td><td>1596644693</td><td>1596655656</td></tr><tr><th>6</th><td>6</td><td>Mauricio</td><td>Vásquez</td><td>1601936325</td><td>1603227659</td></tr><tr><th>7</th><td>7</td><td>Cristian Andrés</td><td>Díaz León</td><td>0</td><td>0</td></tr><tr><th>8</th><td>8</td><td>Carolina</td><td>Ospina Foronda</td><td>0</td><td>1598461145</td></tr><tr><th>9</th><td>9</td><td>Estefanía</td><td>Preciado Santa</td><td>1604008365</td><td>1604097552</td></tr><tr><th>10</th><td>10</td><td>Valeria</td><td>Zapata Giraldo</td><td>1604089960</td><td>1604098696</td></tr><tr><th>11</th><td>11</td><td>Sandra</td><td>Pulgarín</td><td>0</td><td>0</td></tr><tr><th>12</th><td>12</td><td>Nicolás</td><td>Arbelaez</td><td>0</td><td>1596554736</td></tr><tr><th>13</th><td>13</td><td>Lina</td><td>Rodríguez</td><td>0</td><td>0</td></tr><tr><th>14</th><td>14</td><td>Lorena</td><td>Avilés</td><td>0</td><td>0</td></tr><tr><th>15</th><td>15</td><td>Olga</td><td>Taborda</td><td>0</td><td>0</td></tr><tr><th>16</th><td>16</td><td>Alejandra</td><td>Santa</td><td>0</td><td>0</td></tr><tr><th>17</th><td>17</td><td>Alexandra</td><td>Osorio Dávila</td><td>1596658297</td><td>1596841866</td></tr><tr><th>18</th><td>18</td><td>Ana Maria</td><td>Galeano Ceron</td><td>1601070921</td><td>1603138203</td></tr><tr><th>19</th><td>19</td><td>Ana Milena</td><td>Muñoz Orozco</td><td>1600618826</td><td>1601312200</td></tr><tr><th>20</th><td>20</td><td>Andrés Felipe</td><td>Arenas Salamanca</td><td>0</td><td>0</td></tr><tr><th>21</th><td>21</td><td>Angela Maria</td><td>Bedoya Gañan</td><td>0</td><td>1596346010</td></tr><tr><th>22</th><td>22</td><td>Angélica María</td><td>Vargas Pérez</td><td>0</td><td>1597208880</td></tr><tr><th>23</th><td>23</td><td>Angy paola</td><td>Vanegas villa</td><td>1598312428</td><td>1598481886</td></tr><tr><th>24</th><td>24</td><td>Arlinson David</td><td>Padilla Torregroza</td><td>0</td><td>0</td></tr><tr><th>25</th><td>25</td><td>Berenice</td><td>Franco Giraldo</td><td>0</td><td>1596657403</td></tr><tr><th>26</th><td>26</td><td>Bibiana</td><td>Ossa Guiral</td><td>1603663916</td><td>1603684763</td></tr><tr><th>27</th><td>27</td><td>Camilo</td><td>Tabares</td><td>1598471029</td><td>1599187965</td></tr><tr><th>28</th><td>28</td><td>Carlos</td><td>Valencia</td><td>1598309964</td><td>1602620325</td></tr><tr><th>29</th><td>29</td><td>Carlos Arturo</td><td>Valencia Arango</td><td>1596659630</td><td>1597366315</td></tr><tr><th>30</th><td>30</td><td>Carolina</td><td>Serna Henao</td><td>1603460458</td><td>1603976737</td></tr><tr><th>&vellip;</th><td>&vellip;</td><td>&vellip;</td><td>&vellip;</td><td>&vellip;</td><td>&vellip;</td></tr></tbody></table>",
            "text/latex": "\\begin{tabular}{r|ccccc}\n\t& USER\\_ID & firstname & lastname & lastlogin & lastaccess\\\\\n\t\\hline\n\t& Int64 & String & String & Int64 & Int64\\\\\n\t\\hline\n\t1 & 1 & Invitado &   & 0 & 0 \\\\\n\t2 & 2 & Admin & EAFIT & 1604002930 & 1604004378 \\\\\n\t3 & 3 & Profesor & Eafit & 1604068231 & 1604068302 \\\\\n\t4 & 4 & Estudiante & Eafit & 1603739126 & 1603746533 \\\\\n\t5 & 5 & Luis & Cárdenas & 1596644693 & 1596655656 \\\\\n\t6 & 6 & Mauricio & Vásquez & 1601936325 & 1603227659 \\\\\n\t7 & 7 & Cristian Andrés & Díaz León & 0 & 0 \\\\\n\t8 & 8 & Carolina & Ospina Foronda & 0 & 1598461145 \\\\\n\t9 & 9 & Estefanía & Preciado Santa & 1604008365 & 1604097552 \\\\\n\t10 & 10 & Valeria & Zapata Giraldo & 1604089960 & 1604098696 \\\\\n\t11 & 11 & Sandra & Pulgarín & 0 & 0 \\\\\n\t12 & 12 & Nicolás & Arbelaez & 0 & 1596554736 \\\\\n\t13 & 13 & Lina & Rodríguez & 0 & 0 \\\\\n\t14 & 14 & Lorena & Avilés & 0 & 0 \\\\\n\t15 & 15 & Olga & Taborda & 0 & 0 \\\\\n\t16 & 16 & Alejandra & Santa & 0 & 0 \\\\\n\t17 & 17 & Alexandra & Osorio Dávila & 1596658297 & 1596841866 \\\\\n\t18 & 18 & Ana Maria & Galeano Ceron & 1601070921 & 1603138203 \\\\\n\t19 & 19 & Ana Milena & Muñoz Orozco & 1600618826 & 1601312200 \\\\\n\t20 & 20 & Andrés Felipe & Arenas Salamanca & 0 & 0 \\\\\n\t21 & 21 & Angela Maria & Bedoya Gañan & 0 & 1596346010 \\\\\n\t22 & 22 & Angélica María & Vargas Pérez & 0 & 1597208880 \\\\\n\t23 & 23 & Angy paola & Vanegas villa & 1598312428 & 1598481886 \\\\\n\t24 & 24 & Arlinson David & Padilla Torregroza & 0 & 0 \\\\\n\t25 & 25 & Berenice & Franco Giraldo & 0 & 1596657403 \\\\\n\t26 & 26 & Bibiana & Ossa Guiral & 1603663916 & 1603684763 \\\\\n\t27 & 27 & Camilo & Tabares & 1598471029 & 1599187965 \\\\\n\t28 & 28 & Carlos & Valencia & 1598309964 & 1602620325 \\\\\n\t29 & 29 & Carlos Arturo & Valencia Arango & 1596659630 & 1597366315 \\\\\n\t30 & 30 & Carolina & Serna Henao & 1603460458 & 1603976737 \\\\\n\t$\\dots$ & $\\dots$ & $\\dots$ & $\\dots$ & $\\dots$ & $\\dots$ \\\\\n\\end{tabular}\n"
          },
          "metadata": {}
        }
      ],
      "execution_count": 253,
      "metadata": {
        "collapsed": true,
        "jupyter": {
          "source_hidden": false,
          "outputs_hidden": false
        },
        "nteract": {
          "transient": {
            "deleting": false
          }
        },
        "execution": {
          "iopub.status.busy": "2020-11-27T06:50:44.410Z",
          "iopub.execute_input": "2020-11-27T06:50:44.440Z",
          "iopub.status.idle": "2020-11-27T06:50:44.504Z"
        }
      }
    },
    {
      "cell_type": "code",
      "source": [
        "userWithLastAccess = @from i in userInteractionWithGIANT begin\n",
        "            @where i.lastaccess != 0\n",
        "            @select {i.USER_ID, i.firstname, i.lastname, i.lastaccess}\n",
        "            @collect DataFrame\n",
        "       end"
      ],
      "outputs": [
        {
          "output_type": "execute_result",
          "execution_count": 286,
          "data": {
            "text/plain": "119×4 DataFrame\n│ Row │ USER_ID │ firstname  │ lastname       │ lastaccess │\n│     │ \u001b[90mInt64\u001b[39m   │ \u001b[90mString\u001b[39m     │ \u001b[90mString\u001b[39m         │ \u001b[90mInt64\u001b[39m      │\n├─────┼─────────┼────────────┼────────────────┼────────────┤\n│ 1   │ 2       │ Admin      │ EAFIT          │ 1604004378 │\n│ 2   │ 3       │ Profesor   │ Eafit          │ 1604068302 │\n│ 3   │ 4       │ Estudiante │ Eafit          │ 1603746533 │\n│ 4   │ 5       │ Luis       │ Cárdenas       │ 1596655656 │\n│ 5   │ 6       │ Mauricio   │ Vásquez        │ 1603227659 │\n│ 6   │ 8       │ Carolina   │ Ospina Foronda │ 1598461145 │\n│ 7   │ 9       │ Estefanía  │ Preciado Santa │ 1604097552 │\n│ 8   │ 10      │ Valeria    │ Zapata Giraldo │ 1604098696 │\n│ 9   │ 12      │ Nicolás    │ Arbelaez       │ 1596554736 │\n│ 10  │ 17      │ Alexandra  │ Osorio Dávila  │ 1596841866 │\n⋮\n│ 109 │ 154     │ JUAN       │ DOMINGUEZ      │ 1600551905 │\n│ 110 │ 156     │ SOFIA      │ CORONADO       │ 1603060286 │\n│ 111 │ 157     │ PAULINA    │ VLEZ           │ 1603945523 │\n│ 112 │ 158     │ JUAN       │ GARCA          │ 1603251358 │\n│ 113 │ 160     │ SAMUEL     │ JARAMILLO      │ 1602356640 │\n│ 114 │ 161     │ SEBASTIAN  │ LLANO          │ 1603059685 │\n│ 115 │ 164     │ SEBASTIN   │ LPEZ           │ 1602364170 │\n│ 116 │ 165     │ MIGUEL     │ VILLEGAS       │ 1603131414 │\n│ 117 │ 166     │ MIGUEL     │ MERCADO        │ 1600548062 │\n│ 118 │ 168     │ SIMON      │ GOMEZ          │ 1602981457 │\n│ 119 │ 169     │ ANDRES     │ VELASQUEZ      │ 1602349027 │",
            "text/html": "<table class=\"data-frame\"><thead><tr><th></th><th>USER_ID</th><th>firstname</th><th>lastname</th><th>lastaccess</th></tr><tr><th></th><th>Int64</th><th>String</th><th>String</th><th>Int64</th></tr></thead><tbody><p>119 rows × 4 columns</p><tr><th>1</th><td>2</td><td>Admin</td><td>EAFIT</td><td>1604004378</td></tr><tr><th>2</th><td>3</td><td>Profesor</td><td>Eafit</td><td>1604068302</td></tr><tr><th>3</th><td>4</td><td>Estudiante</td><td>Eafit</td><td>1603746533</td></tr><tr><th>4</th><td>5</td><td>Luis</td><td>Cárdenas</td><td>1596655656</td></tr><tr><th>5</th><td>6</td><td>Mauricio</td><td>Vásquez</td><td>1603227659</td></tr><tr><th>6</th><td>8</td><td>Carolina</td><td>Ospina Foronda</td><td>1598461145</td></tr><tr><th>7</th><td>9</td><td>Estefanía</td><td>Preciado Santa</td><td>1604097552</td></tr><tr><th>8</th><td>10</td><td>Valeria</td><td>Zapata Giraldo</td><td>1604098696</td></tr><tr><th>9</th><td>12</td><td>Nicolás</td><td>Arbelaez</td><td>1596554736</td></tr><tr><th>10</th><td>17</td><td>Alexandra</td><td>Osorio Dávila</td><td>1596841866</td></tr><tr><th>11</th><td>18</td><td>Ana Maria</td><td>Galeano Ceron</td><td>1603138203</td></tr><tr><th>12</th><td>19</td><td>Ana Milena</td><td>Muñoz Orozco</td><td>1601312200</td></tr><tr><th>13</th><td>21</td><td>Angela Maria</td><td>Bedoya Gañan</td><td>1596346010</td></tr><tr><th>14</th><td>22</td><td>Angélica María</td><td>Vargas Pérez</td><td>1597208880</td></tr><tr><th>15</th><td>23</td><td>Angy paola</td><td>Vanegas villa</td><td>1598481886</td></tr><tr><th>16</th><td>25</td><td>Berenice</td><td>Franco Giraldo</td><td>1596657403</td></tr><tr><th>17</th><td>26</td><td>Bibiana</td><td>Ossa Guiral</td><td>1603684763</td></tr><tr><th>18</th><td>27</td><td>Camilo</td><td>Tabares</td><td>1599187965</td></tr><tr><th>19</th><td>28</td><td>Carlos</td><td>Valencia</td><td>1602620325</td></tr><tr><th>20</th><td>29</td><td>Carlos Arturo</td><td>Valencia Arango</td><td>1597366315</td></tr><tr><th>21</th><td>30</td><td>Carolina</td><td>Serna Henao</td><td>1603976737</td></tr><tr><th>22</th><td>31</td><td>César</td><td>Montoya</td><td>1597023368</td></tr><tr><th>23</th><td>32</td><td>Claudia Cecilia</td><td>Piedrahita Diaz</td><td>1604116015</td></tr><tr><th>24</th><td>33</td><td>Claudia Patricia</td><td>Echeverri Arenas</td><td>1603666801</td></tr><tr><th>25</th><td>35</td><td>Darley</td><td>Hernández Caro</td><td>1598024116</td></tr><tr><th>26</th><td>36</td><td>David</td><td>Soto Jiménez</td><td>1597277807</td></tr><tr><th>27</th><td>41</td><td>Deisy</td><td>Medina Giraldo</td><td>1603666959</td></tr><tr><th>28</th><td>42</td><td>Deisy Estefania</td><td>Porras Sanchez</td><td>1603983974</td></tr><tr><th>29</th><td>44</td><td>Diana Carolina</td><td>Agudelo Herrera</td><td>1603930973</td></tr><tr><th>30</th><td>48</td><td>Diego Fernando</td><td>Orrego Gutiérrez</td><td>1602828085</td></tr><tr><th>&vellip;</th><td>&vellip;</td><td>&vellip;</td><td>&vellip;</td><td>&vellip;</td></tr></tbody></table>",
            "text/latex": "\\begin{tabular}{r|cccc}\n\t& USER\\_ID & firstname & lastname & lastaccess\\\\\n\t\\hline\n\t& Int64 & String & String & Int64\\\\\n\t\\hline\n\t1 & 2 & Admin & EAFIT & 1604004378 \\\\\n\t2 & 3 & Profesor & Eafit & 1604068302 \\\\\n\t3 & 4 & Estudiante & Eafit & 1603746533 \\\\\n\t4 & 5 & Luis & Cárdenas & 1596655656 \\\\\n\t5 & 6 & Mauricio & Vásquez & 1603227659 \\\\\n\t6 & 8 & Carolina & Ospina Foronda & 1598461145 \\\\\n\t7 & 9 & Estefanía & Preciado Santa & 1604097552 \\\\\n\t8 & 10 & Valeria & Zapata Giraldo & 1604098696 \\\\\n\t9 & 12 & Nicolás & Arbelaez & 1596554736 \\\\\n\t10 & 17 & Alexandra & Osorio Dávila & 1596841866 \\\\\n\t11 & 18 & Ana Maria & Galeano Ceron & 1603138203 \\\\\n\t12 & 19 & Ana Milena & Muñoz Orozco & 1601312200 \\\\\n\t13 & 21 & Angela Maria & Bedoya Gañan & 1596346010 \\\\\n\t14 & 22 & Angélica María & Vargas Pérez & 1597208880 \\\\\n\t15 & 23 & Angy paola & Vanegas villa & 1598481886 \\\\\n\t16 & 25 & Berenice & Franco Giraldo & 1596657403 \\\\\n\t17 & 26 & Bibiana & Ossa Guiral & 1603684763 \\\\\n\t18 & 27 & Camilo & Tabares & 1599187965 \\\\\n\t19 & 28 & Carlos & Valencia & 1602620325 \\\\\n\t20 & 29 & Carlos Arturo & Valencia Arango & 1597366315 \\\\\n\t21 & 30 & Carolina & Serna Henao & 1603976737 \\\\\n\t22 & 31 & César & Montoya & 1597023368 \\\\\n\t23 & 32 & Claudia Cecilia & Piedrahita Diaz & 1604116015 \\\\\n\t24 & 33 & Claudia Patricia & Echeverri Arenas & 1603666801 \\\\\n\t25 & 35 & Darley & Hernández Caro & 1598024116 \\\\\n\t26 & 36 & David & Soto Jiménez & 1597277807 \\\\\n\t27 & 41 & Deisy & Medina Giraldo & 1603666959 \\\\\n\t28 & 42 & Deisy Estefania & Porras Sanchez & 1603983974 \\\\\n\t29 & 44 & Diana Carolina & Agudelo Herrera & 1603930973 \\\\\n\t30 & 48 & Diego Fernando & Orrego Gutiérrez & 1602828085 \\\\\n\t$\\dots$ & $\\dots$ & $\\dots$ & $\\dots$ & $\\dots$ \\\\\n\\end{tabular}\n"
          },
          "metadata": {}
        }
      ],
      "execution_count": 286,
      "metadata": {
        "collapsed": true,
        "jupyter": {
          "source_hidden": false,
          "outputs_hidden": false
        },
        "nteract": {
          "transient": {
            "deleting": false
          }
        },
        "execution": {
          "iopub.status.busy": "2020-11-27T07:24:16.436Z",
          "iopub.execute_input": "2020-11-27T07:24:16.466Z",
          "iopub.status.idle": "2020-11-27T07:24:16.833Z"
        }
      }
    },
    {
      "cell_type": "code",
      "source": [
        "#Convirtiendo Timestap de las variables lastlogin y lastaccess a formato de fecha\n",
        "userInteractionWithGIANT[!,:lastlogin] = map( x -> unix2datetime(x), userInteractionWithGIANT[!,:lastlogin]);"
      ],
      "outputs": [],
      "execution_count": 239,
      "metadata": {
        "collapsed": true,
        "jupyter": {
          "source_hidden": false,
          "outputs_hidden": false
        },
        "nteract": {
          "transient": {
            "deleting": false
          }
        },
        "execution": {
          "iopub.status.busy": "2020-11-27T06:41:19.709Z",
          "iopub.execute_input": "2020-11-27T06:41:19.738Z",
          "iopub.status.idle": "2020-11-27T06:41:19.782Z"
        }
      }
    },
    {
      "cell_type": "code",
      "source": [
        "#Convirtiendo Timestap de las variables lastlogin y lastaccess a formato de fecha\n",
        "userWithLastAccess[!,:lastaccess] = map( x -> unix2datetime(x), userWithLastAccess[!,:lastaccess]);"
      ],
      "outputs": [],
      "execution_count": 287,
      "metadata": {
        "collapsed": true,
        "jupyter": {
          "source_hidden": false,
          "outputs_hidden": false
        },
        "nteract": {
          "transient": {
            "deleting": false
          }
        },
        "execution": {
          "iopub.status.busy": "2020-11-27T07:24:34.311Z",
          "iopub.execute_input": "2020-11-27T07:24:34.346Z",
          "iopub.status.idle": "2020-11-27T07:24:34.386Z"
        }
      }
    },
    {
      "cell_type": "code",
      "source": [
        "#Convirtiendo DataTime to String \n",
        "userInteractionWithGIANT[!,:lastlogin]= map((x) -> Dates.format(x, \"yyyy-mm-dd\") , userInteractionWithGIANT[!,:lastlogin]);\n",
        "#Convirtiendo DataTime to String ;\n",
        "userInteractionWithGIANT[!,:lastaccess]= map((x) -> Dates.format(x, \"yyyy-mm-dd\") , userInteractionWithGIANT[!,:lastaccess]);"
      ],
      "outputs": [],
      "execution_count": 241,
      "metadata": {
        "collapsed": true,
        "jupyter": {
          "source_hidden": false,
          "outputs_hidden": false
        },
        "nteract": {
          "transient": {
            "deleting": false
          }
        },
        "execution": {
          "iopub.status.busy": "2020-11-27T06:41:24.255Z",
          "iopub.execute_input": "2020-11-27T06:41:24.281Z",
          "iopub.status.idle": "2020-11-27T06:41:24.404Z"
        }
      }
    },
    {
      "cell_type": "code",
      "source": [
        "userWithLastAccess"
      ],
      "outputs": [
        {
          "output_type": "execute_result",
          "execution_count": 289,
          "data": {
            "text/plain": "119×4 DataFrame\n│ Row │ USER_ID │ firstname  │ lastname       │ lastaccess          │\n│     │ \u001b[90mInt64\u001b[39m   │ \u001b[90mString\u001b[39m     │ \u001b[90mString\u001b[39m         │ \u001b[90mDateTime\u001b[39m            │\n├─────┼─────────┼────────────┼────────────────┼─────────────────────┤\n│ 1   │ 2       │ Admin      │ EAFIT          │ 2020-10-29T20:46:18 │\n│ 2   │ 3       │ Profesor   │ Eafit          │ 2020-10-30T14:31:42 │\n│ 3   │ 4       │ Estudiante │ Eafit          │ 2020-10-26T21:08:53 │\n│ 4   │ 5       │ Luis       │ Cárdenas       │ 2020-08-05T19:27:36 │\n│ 5   │ 6       │ Mauricio   │ Vásquez        │ 2020-10-20T21:00:59 │\n│ 6   │ 8       │ Carolina   │ Ospina Foronda │ 2020-08-26T16:59:05 │\n│ 7   │ 9       │ Estefanía  │ Preciado Santa │ 2020-10-30T22:39:12 │\n│ 8   │ 10      │ Valeria    │ Zapata Giraldo │ 2020-10-30T22:58:16 │\n│ 9   │ 12      │ Nicolás    │ Arbelaez       │ 2020-08-04T15:25:36 │\n│ 10  │ 17      │ Alexandra  │ Osorio Dávila  │ 2020-08-07T23:11:06 │\n⋮\n│ 109 │ 154     │ JUAN       │ DOMINGUEZ      │ 2020-09-19T21:45:05 │\n│ 110 │ 156     │ SOFIA      │ CORONADO       │ 2020-10-18T22:31:26 │\n│ 111 │ 157     │ PAULINA    │ VLEZ           │ 2020-10-29T04:25:23 │\n│ 112 │ 158     │ JUAN       │ GARCA          │ 2020-10-21T03:35:58 │\n│ 113 │ 160     │ SAMUEL     │ JARAMILLO      │ 2020-10-10T19:04:00 │\n│ 114 │ 161     │ SEBASTIAN  │ LLANO          │ 2020-10-18T22:21:25 │\n│ 115 │ 164     │ SEBASTIN   │ LPEZ           │ 2020-10-10T21:09:30 │\n│ 116 │ 165     │ MIGUEL     │ VILLEGAS       │ 2020-10-19T18:16:54 │\n│ 117 │ 166     │ MIGUEL     │ MERCADO        │ 2020-09-19T20:41:02 │\n│ 118 │ 168     │ SIMON      │ GOMEZ          │ 2020-10-18T00:37:37 │\n│ 119 │ 169     │ ANDRES     │ VELASQUEZ      │ 2020-10-10T16:57:07 │",
            "text/html": "<table class=\"data-frame\"><thead><tr><th></th><th>USER_ID</th><th>firstname</th><th>lastname</th><th>lastaccess</th></tr><tr><th></th><th>Int64</th><th>String</th><th>String</th><th>DateTime</th></tr></thead><tbody><p>119 rows × 4 columns</p><tr><th>1</th><td>2</td><td>Admin</td><td>EAFIT</td><td>2020-10-29T20:46:18</td></tr><tr><th>2</th><td>3</td><td>Profesor</td><td>Eafit</td><td>2020-10-30T14:31:42</td></tr><tr><th>3</th><td>4</td><td>Estudiante</td><td>Eafit</td><td>2020-10-26T21:08:53</td></tr><tr><th>4</th><td>5</td><td>Luis</td><td>Cárdenas</td><td>2020-08-05T19:27:36</td></tr><tr><th>5</th><td>6</td><td>Mauricio</td><td>Vásquez</td><td>2020-10-20T21:00:59</td></tr><tr><th>6</th><td>8</td><td>Carolina</td><td>Ospina Foronda</td><td>2020-08-26T16:59:05</td></tr><tr><th>7</th><td>9</td><td>Estefanía</td><td>Preciado Santa</td><td>2020-10-30T22:39:12</td></tr><tr><th>8</th><td>10</td><td>Valeria</td><td>Zapata Giraldo</td><td>2020-10-30T22:58:16</td></tr><tr><th>9</th><td>12</td><td>Nicolás</td><td>Arbelaez</td><td>2020-08-04T15:25:36</td></tr><tr><th>10</th><td>17</td><td>Alexandra</td><td>Osorio Dávila</td><td>2020-08-07T23:11:06</td></tr><tr><th>11</th><td>18</td><td>Ana Maria</td><td>Galeano Ceron</td><td>2020-10-19T20:10:03</td></tr><tr><th>12</th><td>19</td><td>Ana Milena</td><td>Muñoz Orozco</td><td>2020-09-28T16:56:40</td></tr><tr><th>13</th><td>21</td><td>Angela Maria</td><td>Bedoya Gañan</td><td>2020-08-02T05:26:50</td></tr><tr><th>14</th><td>22</td><td>Angélica María</td><td>Vargas Pérez</td><td>2020-08-12T05:08:00</td></tr><tr><th>15</th><td>23</td><td>Angy paola</td><td>Vanegas villa</td><td>2020-08-26T22:44:46</td></tr><tr><th>16</th><td>25</td><td>Berenice</td><td>Franco Giraldo</td><td>2020-08-05T19:56:43</td></tr><tr><th>17</th><td>26</td><td>Bibiana</td><td>Ossa Guiral</td><td>2020-10-26T03:59:23</td></tr><tr><th>18</th><td>27</td><td>Camilo</td><td>Tabares</td><td>2020-09-04T02:52:45</td></tr><tr><th>19</th><td>28</td><td>Carlos</td><td>Valencia</td><td>2020-10-13T20:18:45</td></tr><tr><th>20</th><td>29</td><td>Carlos Arturo</td><td>Valencia Arango</td><td>2020-08-14T00:51:55</td></tr><tr><th>21</th><td>30</td><td>Carolina</td><td>Serna Henao</td><td>2020-10-29T13:05:37</td></tr><tr><th>22</th><td>31</td><td>César</td><td>Montoya</td><td>2020-08-10T01:36:08</td></tr><tr><th>23</th><td>32</td><td>Claudia Cecilia</td><td>Piedrahita Diaz</td><td>2020-10-31T03:46:55</td></tr><tr><th>24</th><td>33</td><td>Claudia Patricia</td><td>Echeverri Arenas</td><td>2020-10-25T23:00:01</td></tr><tr><th>25</th><td>35</td><td>Darley</td><td>Hernández Caro</td><td>2020-08-21T15:35:16</td></tr><tr><th>26</th><td>36</td><td>David</td><td>Soto Jiménez</td><td>2020-08-13T00:16:47</td></tr><tr><th>27</th><td>41</td><td>Deisy</td><td>Medina Giraldo</td><td>2020-10-25T23:02:39</td></tr><tr><th>28</th><td>42</td><td>Deisy Estefania</td><td>Porras Sanchez</td><td>2020-10-29T15:06:14</td></tr><tr><th>29</th><td>44</td><td>Diana Carolina</td><td>Agudelo Herrera</td><td>2020-10-29T00:22:53</td></tr><tr><th>30</th><td>48</td><td>Diego Fernando</td><td>Orrego Gutiérrez</td><td>2020-10-16T06:01:25</td></tr><tr><th>&vellip;</th><td>&vellip;</td><td>&vellip;</td><td>&vellip;</td><td>&vellip;</td></tr></tbody></table>",
            "text/latex": "\\begin{tabular}{r|cccc}\n\t& USER\\_ID & firstname & lastname & lastaccess\\\\\n\t\\hline\n\t& Int64 & String & String & DateTime\\\\\n\t\\hline\n\t1 & 2 & Admin & EAFIT & 2020-10-29T20:46:18 \\\\\n\t2 & 3 & Profesor & Eafit & 2020-10-30T14:31:42 \\\\\n\t3 & 4 & Estudiante & Eafit & 2020-10-26T21:08:53 \\\\\n\t4 & 5 & Luis & Cárdenas & 2020-08-05T19:27:36 \\\\\n\t5 & 6 & Mauricio & Vásquez & 2020-10-20T21:00:59 \\\\\n\t6 & 8 & Carolina & Ospina Foronda & 2020-08-26T16:59:05 \\\\\n\t7 & 9 & Estefanía & Preciado Santa & 2020-10-30T22:39:12 \\\\\n\t8 & 10 & Valeria & Zapata Giraldo & 2020-10-30T22:58:16 \\\\\n\t9 & 12 & Nicolás & Arbelaez & 2020-08-04T15:25:36 \\\\\n\t10 & 17 & Alexandra & Osorio Dávila & 2020-08-07T23:11:06 \\\\\n\t11 & 18 & Ana Maria & Galeano Ceron & 2020-10-19T20:10:03 \\\\\n\t12 & 19 & Ana Milena & Muñoz Orozco & 2020-09-28T16:56:40 \\\\\n\t13 & 21 & Angela Maria & Bedoya Gañan & 2020-08-02T05:26:50 \\\\\n\t14 & 22 & Angélica María & Vargas Pérez & 2020-08-12T05:08:00 \\\\\n\t15 & 23 & Angy paola & Vanegas villa & 2020-08-26T22:44:46 \\\\\n\t16 & 25 & Berenice & Franco Giraldo & 2020-08-05T19:56:43 \\\\\n\t17 & 26 & Bibiana & Ossa Guiral & 2020-10-26T03:59:23 \\\\\n\t18 & 27 & Camilo & Tabares & 2020-09-04T02:52:45 \\\\\n\t19 & 28 & Carlos & Valencia & 2020-10-13T20:18:45 \\\\\n\t20 & 29 & Carlos Arturo & Valencia Arango & 2020-08-14T00:51:55 \\\\\n\t21 & 30 & Carolina & Serna Henao & 2020-10-29T13:05:37 \\\\\n\t22 & 31 & César & Montoya & 2020-08-10T01:36:08 \\\\\n\t23 & 32 & Claudia Cecilia & Piedrahita Diaz & 2020-10-31T03:46:55 \\\\\n\t24 & 33 & Claudia Patricia & Echeverri Arenas & 2020-10-25T23:00:01 \\\\\n\t25 & 35 & Darley & Hernández Caro & 2020-08-21T15:35:16 \\\\\n\t26 & 36 & David & Soto Jiménez & 2020-08-13T00:16:47 \\\\\n\t27 & 41 & Deisy & Medina Giraldo & 2020-10-25T23:02:39 \\\\\n\t28 & 42 & Deisy Estefania & Porras Sanchez & 2020-10-29T15:06:14 \\\\\n\t29 & 44 & Diana Carolina & Agudelo Herrera & 2020-10-29T00:22:53 \\\\\n\t30 & 48 & Diego Fernando & Orrego Gutiérrez & 2020-10-16T06:01:25 \\\\\n\t$\\dots$ & $\\dots$ & $\\dots$ & $\\dots$ & $\\dots$ \\\\\n\\end{tabular}\n"
          },
          "metadata": {}
        }
      ],
      "execution_count": 289,
      "metadata": {
        "collapsed": true,
        "jupyter": {
          "source_hidden": false,
          "outputs_hidden": false
        },
        "nteract": {
          "transient": {
            "deleting": false
          }
        },
        "execution": {
          "iopub.status.busy": "2020-11-27T07:25:03.642Z",
          "iopub.execute_input": "2020-11-27T07:25:03.672Z",
          "iopub.status.idle": "2020-11-27T07:25:03.735Z"
        }
      }
    },
    {
      "cell_type": "code",
      "source": [
        "q1 = @from i in userWithLastAccess begin\n",
        "            @where Dates.month(i.lastaccess) == 8\n",
        "            @select {i.USER_ID, i.firstname, i.lastname}\n",
        "            @collect DataFrame\n",
        "       end"
      ],
      "outputs": [
        {
          "output_type": "execute_result",
          "execution_count": 298,
          "data": {
            "text/plain": "42×3 DataFrame\n│ Row │ USER_ID │ firstname       │ lastname        │\n│     │ \u001b[90mInt64\u001b[39m   │ \u001b[90mString\u001b[39m          │ \u001b[90mString\u001b[39m          │\n├─────┼─────────┼─────────────────┼─────────────────┤\n│ 1   │ 5       │ Luis            │ Cárdenas        │\n│ 2   │ 8       │ Carolina        │ Ospina Foronda  │\n│ 3   │ 12      │ Nicolás         │ Arbelaez        │\n│ 4   │ 17      │ Alexandra       │ Osorio Dávila   │\n│ 5   │ 21      │ Angela Maria    │ Bedoya Gañan    │\n│ 6   │ 22      │ Angélica María  │ Vargas Pérez    │\n│ 7   │ 23      │ Angy paola      │ Vanegas villa   │\n│ 8   │ 25      │ Berenice        │ Franco Giraldo  │\n│ 9   │ 29      │ Carlos Arturo   │ Valencia Arango │\n│ 10  │ 31      │ César           │ Montoya         │\n⋮\n│ 32  │ 111     │ Steffany        │ Redondo Romano  │\n│ 33  │ 114     │ Valentina       │ Restrepo Hoyos  │\n│ 34  │ 118     │ Yaqueline       │ Zapata Quintero │\n│ 35  │ 119     │ Yeferson        │ Giraldo López   │\n│ 36  │ 120     │ Yeraldín        │ Arias Loaiza    │\n│ 37  │ 126     │ Luz Estella     │ Arango Restrepo │\n│ 38  │ 127     │ Gloria          │ Giraldo         │\n│ 39  │ 128     │ Natalia         │ Moreno Londoño  │\n│ 40  │ 134     │ Jaime Alberto   │ Ocampo Olarte   │\n│ 41  │ 139     │ María Alejandra │ Lopera          │\n│ 42  │ 145     │ Santiago        │ Baena           │",
            "text/html": "<table class=\"data-frame\"><thead><tr><th></th><th>USER_ID</th><th>firstname</th><th>lastname</th></tr><tr><th></th><th>Int64</th><th>String</th><th>String</th></tr></thead><tbody><p>42 rows × 3 columns</p><tr><th>1</th><td>5</td><td>Luis</td><td>Cárdenas</td></tr><tr><th>2</th><td>8</td><td>Carolina</td><td>Ospina Foronda</td></tr><tr><th>3</th><td>12</td><td>Nicolás</td><td>Arbelaez</td></tr><tr><th>4</th><td>17</td><td>Alexandra</td><td>Osorio Dávila</td></tr><tr><th>5</th><td>21</td><td>Angela Maria</td><td>Bedoya Gañan</td></tr><tr><th>6</th><td>22</td><td>Angélica María</td><td>Vargas Pérez</td></tr><tr><th>7</th><td>23</td><td>Angy paola</td><td>Vanegas villa</td></tr><tr><th>8</th><td>25</td><td>Berenice</td><td>Franco Giraldo</td></tr><tr><th>9</th><td>29</td><td>Carlos Arturo</td><td>Valencia Arango</td></tr><tr><th>10</th><td>31</td><td>César</td><td>Montoya</td></tr><tr><th>11</th><td>35</td><td>Darley</td><td>Hernández Caro</td></tr><tr><th>12</th><td>36</td><td>David</td><td>Soto Jiménez</td></tr><tr><th>13</th><td>49</td><td>Dorely</td><td>Pulgarin Moreno</td></tr><tr><th>14</th><td>50</td><td>Eliana Alexandra</td><td>Correa Vélez</td></tr><tr><th>15</th><td>51</td><td>Elvia Lucía</td><td>Urrego Cano</td></tr><tr><th>16</th><td>54</td><td>Francy Andrea</td><td>Rodriguez Piedrahita</td></tr><tr><th>17</th><td>57</td><td>Gloria Patricia</td><td>Pino</td></tr><tr><th>18</th><td>61</td><td>Jaime</td><td>Arango Agudelo</td></tr><tr><th>19</th><td>70</td><td>Jose Fernando</td><td>Sánchez</td></tr><tr><th>20</th><td>73</td><td>Juan Felipe</td><td>López Sánchez</td></tr><tr><th>21</th><td>76</td><td>Juliana Isabel</td><td>Lezcano Escudero</td></tr><tr><th>22</th><td>79</td><td>Leidy Biviana</td><td>Gomez Estrada</td></tr><tr><th>23</th><td>81</td><td>Liliana María</td><td>Serna Castañeda</td></tr><tr><th>24</th><td>85</td><td>Madeleen</td><td>Hernández</td></tr><tr><th>25</th><td>93</td><td>Millerdalia</td><td>Escobar Restrepo</td></tr><tr><th>26</th><td>95</td><td>Natalia</td><td>Ceballos Velasquez</td></tr><tr><th>27</th><td>96</td><td>Natalia Andrea</td><td>Marín López</td></tr><tr><th>28</th><td>101</td><td>Robinson</td><td>Álvarez Cano</td></tr><tr><th>29</th><td>102</td><td>Salomé</td><td>Álvarez Vásquez</td></tr><tr><th>30</th><td>103</td><td>Sammy Steve</td><td>Banoy Rojas</td></tr><tr><th>&vellip;</th><td>&vellip;</td><td>&vellip;</td><td>&vellip;</td></tr></tbody></table>",
            "text/latex": "\\begin{tabular}{r|ccc}\n\t& USER\\_ID & firstname & lastname\\\\\n\t\\hline\n\t& Int64 & String & String\\\\\n\t\\hline\n\t1 & 5 & Luis & Cárdenas \\\\\n\t2 & 8 & Carolina & Ospina Foronda \\\\\n\t3 & 12 & Nicolás & Arbelaez \\\\\n\t4 & 17 & Alexandra & Osorio Dávila \\\\\n\t5 & 21 & Angela Maria & Bedoya Gañan \\\\\n\t6 & 22 & Angélica María & Vargas Pérez \\\\\n\t7 & 23 & Angy paola & Vanegas villa \\\\\n\t8 & 25 & Berenice & Franco Giraldo \\\\\n\t9 & 29 & Carlos Arturo & Valencia Arango \\\\\n\t10 & 31 & César & Montoya \\\\\n\t11 & 35 & Darley & Hernández Caro \\\\\n\t12 & 36 & David & Soto Jiménez \\\\\n\t13 & 49 & Dorely & Pulgarin Moreno \\\\\n\t14 & 50 & Eliana Alexandra & Correa Vélez \\\\\n\t15 & 51 & Elvia Lucía & Urrego Cano \\\\\n\t16 & 54 & Francy Andrea & Rodriguez Piedrahita \\\\\n\t17 & 57 & Gloria Patricia & Pino \\\\\n\t18 & 61 & Jaime & Arango Agudelo \\\\\n\t19 & 70 & Jose Fernando & Sánchez \\\\\n\t20 & 73 & Juan Felipe & López Sánchez \\\\\n\t21 & 76 & Juliana Isabel & Lezcano Escudero \\\\\n\t22 & 79 & Leidy Biviana & Gomez Estrada \\\\\n\t23 & 81 & Liliana María & Serna Castañeda \\\\\n\t24 & 85 & Madeleen & Hernández \\\\\n\t25 & 93 & Millerdalia & Escobar Restrepo \\\\\n\t26 & 95 & Natalia & Ceballos Velasquez \\\\\n\t27 & 96 & Natalia Andrea & Marín López \\\\\n\t28 & 101 & Robinson & Álvarez Cano \\\\\n\t29 & 102 & Salomé & Álvarez Vásquez \\\\\n\t30 & 103 & Sammy Steve & Banoy Rojas \\\\\n\t$\\dots$ & $\\dots$ & $\\dots$ & $\\dots$ \\\\\n\\end{tabular}\n"
          },
          "metadata": {}
        }
      ],
      "execution_count": 298,
      "metadata": {
        "collapsed": true,
        "jupyter": {
          "source_hidden": false,
          "outputs_hidden": false
        },
        "nteract": {
          "transient": {
            "deleting": false
          }
        },
        "execution": {
          "iopub.status.busy": "2020-11-27T07:33:23.053Z",
          "iopub.execute_input": "2020-11-27T07:33:23.093Z",
          "iopub.status.idle": "2020-11-27T07:33:23.287Z"
        }
      }
    },
    {
      "cell_type": "code",
      "source": [
        "userInteractionWithGIANT"
      ],
      "outputs": [
        {
          "output_type": "execute_result",
          "execution_count": 294,
          "data": {
            "text/plain": "169×5 DataFrame\n│ Row │ USER_ID │ firstname       │ lastname       │ lastlogin  │ lastaccess │\n│     │ \u001b[90mInt64\u001b[39m   │ \u001b[90mString\u001b[39m          │ \u001b[90mString\u001b[39m         │ \u001b[90mInt64\u001b[39m      │ \u001b[90mInt64\u001b[39m      │\n├─────┼─────────┼─────────────────┼────────────────┼────────────┼────────────┤\n│ 1   │ 1       │ Invitado        │                │ 0          │ 0          │\n│ 2   │ 2       │ Admin           │ EAFIT          │ 1604002930 │ 1604004378 │\n│ 3   │ 3       │ Profesor        │ Eafit          │ 1604068231 │ 1604068302 │\n│ 4   │ 4       │ Estudiante      │ Eafit          │ 1603739126 │ 1603746533 │\n│ 5   │ 5       │ Luis            │ Cárdenas       │ 1596644693 │ 1596655656 │\n│ 6   │ 6       │ Mauricio        │ Vásquez        │ 1601936325 │ 1603227659 │\n│ 7   │ 7       │ Cristian Andrés │ Díaz León      │ 0          │ 0          │\n│ 8   │ 8       │ Carolina        │ Ospina Foronda │ 0          │ 1598461145 │\n│ 9   │ 9       │ Estefanía       │ Preciado Santa │ 1604008365 │ 1604097552 │\n│ 10  │ 10      │ Valeria         │ Zapata Giraldo │ 1604089960 │ 1604098696 │\n⋮\n│ 159 │ 159     │ DAMIAN          │ MARIN          │ 0          │ 0          │\n│ 160 │ 160     │ SAMUEL          │ JARAMILLO      │ 0          │ 1602356640 │\n│ 161 │ 161     │ SEBASTIAN       │ LLANO          │ 1602337436 │ 1603059685 │\n│ 162 │ 162     │ JUAN            │ JIMENEZ        │ 0          │ 0          │\n│ 163 │ 163     │ EDSON           │ FLOREZ         │ 0          │ 0          │\n│ 164 │ 164     │ SEBASTIN        │ LPEZ           │ 1600543534 │ 1602364170 │\n│ 165 │ 165     │ MIGUEL          │ VILLEGAS       │ 0          │ 1603131414 │\n│ 166 │ 166     │ MIGUEL          │ MERCADO        │ 0          │ 1600548062 │\n│ 167 │ 167     │ JUAN            │ CANO           │ 0          │ 0          │\n│ 168 │ 168     │ SIMON           │ GOMEZ          │ 1602977364 │ 1602981457 │\n│ 169 │ 169     │ ANDRES          │ VELASQUEZ      │ 0          │ 1602349027 │",
            "text/html": "<table class=\"data-frame\"><thead><tr><th></th><th>USER_ID</th><th>firstname</th><th>lastname</th><th>lastlogin</th><th>lastaccess</th></tr><tr><th></th><th>Int64</th><th>String</th><th>String</th><th>Int64</th><th>Int64</th></tr></thead><tbody><p>169 rows × 5 columns</p><tr><th>1</th><td>1</td><td>Invitado</td><td> </td><td>0</td><td>0</td></tr><tr><th>2</th><td>2</td><td>Admin</td><td>EAFIT</td><td>1604002930</td><td>1604004378</td></tr><tr><th>3</th><td>3</td><td>Profesor</td><td>Eafit</td><td>1604068231</td><td>1604068302</td></tr><tr><th>4</th><td>4</td><td>Estudiante</td><td>Eafit</td><td>1603739126</td><td>1603746533</td></tr><tr><th>5</th><td>5</td><td>Luis</td><td>Cárdenas</td><td>1596644693</td><td>1596655656</td></tr><tr><th>6</th><td>6</td><td>Mauricio</td><td>Vásquez</td><td>1601936325</td><td>1603227659</td></tr><tr><th>7</th><td>7</td><td>Cristian Andrés</td><td>Díaz León</td><td>0</td><td>0</td></tr><tr><th>8</th><td>8</td><td>Carolina</td><td>Ospina Foronda</td><td>0</td><td>1598461145</td></tr><tr><th>9</th><td>9</td><td>Estefanía</td><td>Preciado Santa</td><td>1604008365</td><td>1604097552</td></tr><tr><th>10</th><td>10</td><td>Valeria</td><td>Zapata Giraldo</td><td>1604089960</td><td>1604098696</td></tr><tr><th>11</th><td>11</td><td>Sandra</td><td>Pulgarín</td><td>0</td><td>0</td></tr><tr><th>12</th><td>12</td><td>Nicolás</td><td>Arbelaez</td><td>0</td><td>1596554736</td></tr><tr><th>13</th><td>13</td><td>Lina</td><td>Rodríguez</td><td>0</td><td>0</td></tr><tr><th>14</th><td>14</td><td>Lorena</td><td>Avilés</td><td>0</td><td>0</td></tr><tr><th>15</th><td>15</td><td>Olga</td><td>Taborda</td><td>0</td><td>0</td></tr><tr><th>16</th><td>16</td><td>Alejandra</td><td>Santa</td><td>0</td><td>0</td></tr><tr><th>17</th><td>17</td><td>Alexandra</td><td>Osorio Dávila</td><td>1596658297</td><td>1596841866</td></tr><tr><th>18</th><td>18</td><td>Ana Maria</td><td>Galeano Ceron</td><td>1601070921</td><td>1603138203</td></tr><tr><th>19</th><td>19</td><td>Ana Milena</td><td>Muñoz Orozco</td><td>1600618826</td><td>1601312200</td></tr><tr><th>20</th><td>20</td><td>Andrés Felipe</td><td>Arenas Salamanca</td><td>0</td><td>0</td></tr><tr><th>21</th><td>21</td><td>Angela Maria</td><td>Bedoya Gañan</td><td>0</td><td>1596346010</td></tr><tr><th>22</th><td>22</td><td>Angélica María</td><td>Vargas Pérez</td><td>0</td><td>1597208880</td></tr><tr><th>23</th><td>23</td><td>Angy paola</td><td>Vanegas villa</td><td>1598312428</td><td>1598481886</td></tr><tr><th>24</th><td>24</td><td>Arlinson David</td><td>Padilla Torregroza</td><td>0</td><td>0</td></tr><tr><th>25</th><td>25</td><td>Berenice</td><td>Franco Giraldo</td><td>0</td><td>1596657403</td></tr><tr><th>26</th><td>26</td><td>Bibiana</td><td>Ossa Guiral</td><td>1603663916</td><td>1603684763</td></tr><tr><th>27</th><td>27</td><td>Camilo</td><td>Tabares</td><td>1598471029</td><td>1599187965</td></tr><tr><th>28</th><td>28</td><td>Carlos</td><td>Valencia</td><td>1598309964</td><td>1602620325</td></tr><tr><th>29</th><td>29</td><td>Carlos Arturo</td><td>Valencia Arango</td><td>1596659630</td><td>1597366315</td></tr><tr><th>30</th><td>30</td><td>Carolina</td><td>Serna Henao</td><td>1603460458</td><td>1603976737</td></tr><tr><th>&vellip;</th><td>&vellip;</td><td>&vellip;</td><td>&vellip;</td><td>&vellip;</td><td>&vellip;</td></tr></tbody></table>",
            "text/latex": "\\begin{tabular}{r|ccccc}\n\t& USER\\_ID & firstname & lastname & lastlogin & lastaccess\\\\\n\t\\hline\n\t& Int64 & String & String & Int64 & Int64\\\\\n\t\\hline\n\t1 & 1 & Invitado &   & 0 & 0 \\\\\n\t2 & 2 & Admin & EAFIT & 1604002930 & 1604004378 \\\\\n\t3 & 3 & Profesor & Eafit & 1604068231 & 1604068302 \\\\\n\t4 & 4 & Estudiante & Eafit & 1603739126 & 1603746533 \\\\\n\t5 & 5 & Luis & Cárdenas & 1596644693 & 1596655656 \\\\\n\t6 & 6 & Mauricio & Vásquez & 1601936325 & 1603227659 \\\\\n\t7 & 7 & Cristian Andrés & Díaz León & 0 & 0 \\\\\n\t8 & 8 & Carolina & Ospina Foronda & 0 & 1598461145 \\\\\n\t9 & 9 & Estefanía & Preciado Santa & 1604008365 & 1604097552 \\\\\n\t10 & 10 & Valeria & Zapata Giraldo & 1604089960 & 1604098696 \\\\\n\t11 & 11 & Sandra & Pulgarín & 0 & 0 \\\\\n\t12 & 12 & Nicolás & Arbelaez & 0 & 1596554736 \\\\\n\t13 & 13 & Lina & Rodríguez & 0 & 0 \\\\\n\t14 & 14 & Lorena & Avilés & 0 & 0 \\\\\n\t15 & 15 & Olga & Taborda & 0 & 0 \\\\\n\t16 & 16 & Alejandra & Santa & 0 & 0 \\\\\n\t17 & 17 & Alexandra & Osorio Dávila & 1596658297 & 1596841866 \\\\\n\t18 & 18 & Ana Maria & Galeano Ceron & 1601070921 & 1603138203 \\\\\n\t19 & 19 & Ana Milena & Muñoz Orozco & 1600618826 & 1601312200 \\\\\n\t20 & 20 & Andrés Felipe & Arenas Salamanca & 0 & 0 \\\\\n\t21 & 21 & Angela Maria & Bedoya Gañan & 0 & 1596346010 \\\\\n\t22 & 22 & Angélica María & Vargas Pérez & 0 & 1597208880 \\\\\n\t23 & 23 & Angy paola & Vanegas villa & 1598312428 & 1598481886 \\\\\n\t24 & 24 & Arlinson David & Padilla Torregroza & 0 & 0 \\\\\n\t25 & 25 & Berenice & Franco Giraldo & 0 & 1596657403 \\\\\n\t26 & 26 & Bibiana & Ossa Guiral & 1603663916 & 1603684763 \\\\\n\t27 & 27 & Camilo & Tabares & 1598471029 & 1599187965 \\\\\n\t28 & 28 & Carlos & Valencia & 1598309964 & 1602620325 \\\\\n\t29 & 29 & Carlos Arturo & Valencia Arango & 1596659630 & 1597366315 \\\\\n\t30 & 30 & Carolina & Serna Henao & 1603460458 & 1603976737 \\\\\n\t$\\dots$ & $\\dots$ & $\\dots$ & $\\dots$ & $\\dots$ & $\\dots$ \\\\\n\\end{tabular}\n"
          },
          "metadata": {}
        }
      ],
      "execution_count": 294,
      "metadata": {
        "collapsed": true,
        "jupyter": {
          "source_hidden": false,
          "outputs_hidden": false
        },
        "nteract": {
          "transient": {
            "deleting": false
          }
        },
        "execution": {
          "iopub.status.busy": "2020-11-27T07:29:56.387Z",
          "iopub.execute_input": "2020-11-27T07:29:56.427Z",
          "iopub.status.idle": "2020-11-27T07:29:56.490Z"
        }
      }
    },
    {
      "cell_type": "code",
      "source": [
        "names(usersDataFrame)"
      ],
      "outputs": [
        {
          "output_type": "execute_result",
          "execution_count": 166,
          "data": {
            "text/plain": "14-element Array{String,1}:\n \"_id\"\n \"USER_ID\"\n \"username\"\n \"firstname\"\n \"lastname\"\n \"email\"\n \"country\"\n \"city\"\n \"birthday\"\n \"education_level\"\n \"gender\"\n \"lastaccess\"\n \"lastlogin\"\n \"enrolments\""
          },
          "metadata": {}
        }
      ],
      "execution_count": 166,
      "metadata": {
        "collapsed": true,
        "jupyter": {
          "source_hidden": false,
          "outputs_hidden": false
        },
        "nteract": {
          "transient": {
            "deleting": false
          }
        },
        "execution": {
          "iopub.status.busy": "2020-11-27T05:50:16.828Z",
          "iopub.execute_input": "2020-11-27T05:50:16.847Z",
          "iopub.status.idle": "2020-11-27T05:50:16.894Z"
        }
      }
    },
    {
      "cell_type": "code",
      "source": [
        "Pkg.add(\"Query\")\n",
        "using Query"
      ],
      "outputs": [
        {
          "output_type": "stream",
          "name": "stderr",
          "text": [
            "\u001b[32m\u001b[1m  Resolving\u001b[22m\u001b[39m package versions...\n",
            "\u001b[32m\u001b[1m  Installed\u001b[22m\u001b[39m QueryOperators ─ v0.9.2\n",
            "\u001b[32m\u001b[1m  Installed\u001b[22m\u001b[39m Query ────────── v1.0.0\n",
            "\u001b[32m\u001b[1m   Updating\u001b[22m\u001b[39m `~/.julia/environments/v1.4/Project.toml`\n",
            " \u001b[90m [1a8c2f83]\u001b[39m\u001b[92m + Query v1.0.0\u001b[39m\n",
            "\u001b[32m\u001b[1m   Updating\u001b[22m\u001b[39m `~/.julia/environments/v1.4/Manifest.toml`\n",
            " \u001b[90m [1a8c2f83]\u001b[39m\u001b[92m + Query v1.0.0\u001b[39m\n",
            " \u001b[90m [2aef5ad7]\u001b[39m\u001b[92m + QueryOperators v0.9.2\u001b[39m\n",
            "┌ Info: Precompiling Query [1a8c2f83-1ff3-5112-b086-8aa67b057ba1]\n",
            "└ @ Base loading.jl:1260\n"
          ]
        }
      ],
      "execution_count": 57,
      "metadata": {
        "collapsed": true,
        "jupyter": {
          "source_hidden": false,
          "outputs_hidden": false
        },
        "nteract": {
          "transient": {
            "deleting": false
          }
        },
        "execution": {
          "iopub.status.busy": "2020-11-27T05:13:02.873Z",
          "iopub.execute_input": "2020-11-27T05:13:02.897Z",
          "iopub.status.idle": "2020-11-27T05:13:34.785Z"
        }
      }
    },
    {
      "cell_type": "code",
      "source": [
        "userWithHighInterations = @from i in userByEventsSumDataFrame begin\n",
        "            @where i.SUM_EVENTS >= 370\n",
        "            @select {i.USER_ID, i.SUM_EVENTS}\n",
        "            @collect DataFrame\n",
        "       end"
      ],
      "outputs": [
        {
          "output_type": "execute_result",
          "execution_count": 243,
          "data": {
            "text/plain": "44×2 DataFrame\n│ Row │ USER_ID │ SUM_EVENTS │\n│     │ \u001b[90mInt64\u001b[39m   │ \u001b[90mInt64\u001b[39m      │\n├─────┼─────────┼────────────┤\n│ 1   │ 2       │ 1477       │\n│ 2   │ 3       │ 431        │\n│ 3   │ 4       │ 1957       │\n│ 4   │ 9       │ 408        │\n│ 5   │ 10      │ 1407       │\n│ 6   │ 18      │ 550        │\n│ 7   │ 19      │ 546        │\n│ 8   │ 26      │ 732        │\n│ 9   │ 30      │ 857        │\n│ 10  │ 32      │ 748        │\n⋮\n│ 34  │ 106     │ 734        │\n│ 35  │ 108     │ 759        │\n│ 36  │ 110     │ 1415       │\n│ 37  │ 112     │ 1549       │\n│ 38  │ 125     │ 756        │\n│ 39  │ 132     │ 755        │\n│ 40  │ 133     │ 1001       │\n│ 41  │ 137     │ 816        │\n│ 42  │ 141     │ 565        │\n│ 43  │ 142     │ 376        │\n│ 44  │ 156     │ 449        │",
            "text/html": "<table class=\"data-frame\"><thead><tr><th></th><th>USER_ID</th><th>SUM_EVENTS</th></tr><tr><th></th><th>Int64</th><th>Int64</th></tr></thead><tbody><p>44 rows × 2 columns</p><tr><th>1</th><td>2</td><td>1477</td></tr><tr><th>2</th><td>3</td><td>431</td></tr><tr><th>3</th><td>4</td><td>1957</td></tr><tr><th>4</th><td>9</td><td>408</td></tr><tr><th>5</th><td>10</td><td>1407</td></tr><tr><th>6</th><td>18</td><td>550</td></tr><tr><th>7</th><td>19</td><td>546</td></tr><tr><th>8</th><td>26</td><td>732</td></tr><tr><th>9</th><td>30</td><td>857</td></tr><tr><th>10</th><td>32</td><td>748</td></tr><tr><th>11</th><td>33</td><td>840</td></tr><tr><th>12</th><td>41</td><td>707</td></tr><tr><th>13</th><td>42</td><td>883</td></tr><tr><th>14</th><td>44</td><td>911</td></tr><tr><th>15</th><td>48</td><td>557</td></tr><tr><th>16</th><td>55</td><td>524</td></tr><tr><th>17</th><td>59</td><td>408</td></tr><tr><th>18</th><td>62</td><td>473</td></tr><tr><th>19</th><td>67</td><td>479</td></tr><tr><th>20</th><td>68</td><td>745</td></tr><tr><th>21</th><td>71</td><td>632</td></tr><tr><th>22</th><td>74</td><td>381</td></tr><tr><th>23</th><td>75</td><td>619</td></tr><tr><th>24</th><td>80</td><td>712</td></tr><tr><th>25</th><td>82</td><td>1131</td></tr><tr><th>26</th><td>83</td><td>612</td></tr><tr><th>27</th><td>84</td><td>1331</td></tr><tr><th>28</th><td>88</td><td>570</td></tr><tr><th>29</th><td>89</td><td>529</td></tr><tr><th>30</th><td>91</td><td>428</td></tr><tr><th>&vellip;</th><td>&vellip;</td><td>&vellip;</td></tr></tbody></table>",
            "text/latex": "\\begin{tabular}{r|cc}\n\t& USER\\_ID & SUM\\_EVENTS\\\\\n\t\\hline\n\t& Int64 & Int64\\\\\n\t\\hline\n\t1 & 2 & 1477 \\\\\n\t2 & 3 & 431 \\\\\n\t3 & 4 & 1957 \\\\\n\t4 & 9 & 408 \\\\\n\t5 & 10 & 1407 \\\\\n\t6 & 18 & 550 \\\\\n\t7 & 19 & 546 \\\\\n\t8 & 26 & 732 \\\\\n\t9 & 30 & 857 \\\\\n\t10 & 32 & 748 \\\\\n\t11 & 33 & 840 \\\\\n\t12 & 41 & 707 \\\\\n\t13 & 42 & 883 \\\\\n\t14 & 44 & 911 \\\\\n\t15 & 48 & 557 \\\\\n\t16 & 55 & 524 \\\\\n\t17 & 59 & 408 \\\\\n\t18 & 62 & 473 \\\\\n\t19 & 67 & 479 \\\\\n\t20 & 68 & 745 \\\\\n\t21 & 71 & 632 \\\\\n\t22 & 74 & 381 \\\\\n\t23 & 75 & 619 \\\\\n\t24 & 80 & 712 \\\\\n\t25 & 82 & 1131 \\\\\n\t26 & 83 & 612 \\\\\n\t27 & 84 & 1331 \\\\\n\t28 & 88 & 570 \\\\\n\t29 & 89 & 529 \\\\\n\t30 & 91 & 428 \\\\\n\t$\\dots$ & $\\dots$ & $\\dots$ \\\\\n\\end{tabular}\n"
          },
          "metadata": {}
        }
      ],
      "execution_count": 243,
      "metadata": {
        "collapsed": true,
        "jupyter": {
          "source_hidden": false,
          "outputs_hidden": false
        },
        "nteract": {
          "transient": {
            "deleting": false
          }
        },
        "execution": {
          "iopub.status.busy": "2020-11-27T06:42:24.887Z",
          "iopub.execute_input": "2020-11-27T06:42:24.918Z",
          "iopub.status.idle": "2020-11-27T06:42:25.081Z"
        }
      }
    },
    {
      "cell_type": "code",
      "source": [
        "joinResultsDataFrameHigh = innerjoin(userWithHighInterations, frequencyEventUsers, on = [:USER_ID => :USER_ID])"
      ],
      "outputs": [
        {
          "output_type": "execute_result",
          "execution_count": 244,
          "data": {
            "text/plain": "44×111 DataFrame. Omitted printing of 103 columns\n│ Row │ USER_ID │ SUM_EVENTS │ 1     │ 2     │ 3     │ 4     │ 5     │ 6     │\n│     │ \u001b[90mInt64\u001b[39m   │ \u001b[90mInt64\u001b[39m      │ \u001b[90mInt64\u001b[39m │ \u001b[90mInt64\u001b[39m │ \u001b[90mInt64\u001b[39m │ \u001b[90mInt64\u001b[39m │ \u001b[90mInt64\u001b[39m │ \u001b[90mInt64\u001b[39m │\n├─────┼─────────┼────────────┼───────┼───────┼───────┼───────┼───────┼───────┤\n│ 1   │ 2       │ 1477       │ 0     │ 3     │ 65    │ 114   │ 290   │ 13    │\n│ 2   │ 3       │ 431        │ 0     │ 2     │ 33    │ 42    │ 162   │ 6     │\n│ 3   │ 4       │ 1957       │ 3     │ 9     │ 95    │ 111   │ 577   │ 11    │\n│ 4   │ 9       │ 408        │ 11    │ 0     │ 17    │ 24    │ 74    │ 30    │\n│ 5   │ 10      │ 1407       │ 145   │ 7     │ 69    │ 102   │ 396   │ 45    │\n│ 6   │ 18      │ 550        │ 0     │ 3     │ 7     │ 10    │ 129   │ 0     │\n│ 7   │ 19      │ 546        │ 0     │ 1     │ 15    │ 8     │ 129   │ 0     │\n│ 8   │ 26      │ 732        │ 0     │ 0     │ 14    │ 13    │ 171   │ 0     │\n│ 9   │ 30      │ 857        │ 0     │ 6     │ 31    │ 30    │ 213   │ 0     │\n│ 10  │ 32      │ 748        │ 0     │ 0     │ 25    │ 27    │ 137   │ 0     │\n⋮\n│ 34  │ 106     │ 734        │ 0     │ 4     │ 32    │ 37    │ 185   │ 0     │\n│ 35  │ 108     │ 759        │ 0     │ 0     │ 14    │ 30    │ 135   │ 1     │\n│ 36  │ 110     │ 1415       │ 0     │ 14    │ 47    │ 50    │ 337   │ 3     │\n│ 37  │ 112     │ 1549       │ 0     │ 2     │ 79    │ 91    │ 466   │ 10    │\n│ 38  │ 125     │ 756        │ 0     │ 0     │ 24    │ 36    │ 207   │ 0     │\n│ 39  │ 132     │ 755        │ 1     │ 17    │ 14    │ 24    │ 169   │ 8     │\n│ 40  │ 133     │ 1001       │ 28    │ 25    │ 41    │ 34    │ 258   │ 2     │\n│ 41  │ 137     │ 816        │ 1     │ 14    │ 34    │ 39    │ 228   │ 0     │\n│ 42  │ 141     │ 565        │ 0     │ 3     │ 16    │ 23    │ 131   │ 0     │\n│ 43  │ 142     │ 376        │ 2     │ 0     │ 4     │ 9     │ 98    │ 1     │\n│ 44  │ 156     │ 449        │ 1     │ 2     │ 5     │ 7     │ 120   │ 3     │",
            "text/html": "<table class=\"data-frame\"><thead><tr><th></th><th>USER_ID</th><th>SUM_EVENTS</th><th>1</th><th>2</th><th>3</th><th>4</th><th>5</th><th>6</th><th>7</th><th>8</th><th>9</th></tr><tr><th></th><th>Int64</th><th>Int64</th><th>Int64</th><th>Int64</th><th>Int64</th><th>Int64</th><th>Int64</th><th>Int64</th><th>Int64</th><th>Int64</th><th>Int64</th></tr></thead><tbody><p>44 rows × 111 columns (omitted printing of 100 columns)</p><tr><th>1</th><td>2</td><td>1477</td><td>0</td><td>3</td><td>65</td><td>114</td><td>290</td><td>13</td><td>16</td><td>7</td><td>0</td></tr><tr><th>2</th><td>3</td><td>431</td><td>0</td><td>2</td><td>33</td><td>42</td><td>162</td><td>6</td><td>45</td><td>20</td><td>0</td></tr><tr><th>3</th><td>4</td><td>1957</td><td>3</td><td>9</td><td>95</td><td>111</td><td>577</td><td>11</td><td>286</td><td>201</td><td>41</td></tr><tr><th>4</th><td>9</td><td>408</td><td>11</td><td>0</td><td>17</td><td>24</td><td>74</td><td>30</td><td>13</td><td>12</td><td>0</td></tr><tr><th>5</th><td>10</td><td>1407</td><td>145</td><td>7</td><td>69</td><td>102</td><td>396</td><td>45</td><td>190</td><td>98</td><td>30</td></tr><tr><th>6</th><td>18</td><td>550</td><td>0</td><td>3</td><td>7</td><td>10</td><td>129</td><td>0</td><td>29</td><td>20</td><td>18</td></tr><tr><th>7</th><td>19</td><td>546</td><td>0</td><td>1</td><td>15</td><td>8</td><td>129</td><td>0</td><td>30</td><td>18</td><td>18</td></tr><tr><th>8</th><td>26</td><td>732</td><td>0</td><td>0</td><td>14</td><td>13</td><td>171</td><td>0</td><td>63</td><td>37</td><td>13</td></tr><tr><th>9</th><td>30</td><td>857</td><td>0</td><td>6</td><td>31</td><td>30</td><td>213</td><td>0</td><td>114</td><td>52</td><td>22</td></tr><tr><th>10</th><td>32</td><td>748</td><td>0</td><td>0</td><td>25</td><td>27</td><td>137</td><td>0</td><td>50</td><td>54</td><td>26</td></tr><tr><th>11</th><td>33</td><td>840</td><td>0</td><td>6</td><td>15</td><td>29</td><td>186</td><td>0</td><td>55</td><td>30</td><td>17</td></tr><tr><th>12</th><td>41</td><td>707</td><td>0</td><td>1</td><td>21</td><td>33</td><td>163</td><td>0</td><td>44</td><td>41</td><td>7</td></tr><tr><th>13</th><td>42</td><td>883</td><td>0</td><td>3</td><td>20</td><td>27</td><td>255</td><td>0</td><td>72</td><td>60</td><td>47</td></tr><tr><th>14</th><td>44</td><td>911</td><td>0</td><td>6</td><td>42</td><td>44</td><td>229</td><td>3</td><td>77</td><td>57</td><td>25</td></tr><tr><th>15</th><td>48</td><td>557</td><td>0</td><td>2</td><td>25</td><td>34</td><td>147</td><td>1</td><td>41</td><td>39</td><td>40</td></tr><tr><th>16</th><td>55</td><td>524</td><td>0</td><td>2</td><td>12</td><td>13</td><td>89</td><td>4</td><td>30</td><td>25</td><td>6</td></tr><tr><th>17</th><td>59</td><td>408</td><td>0</td><td>0</td><td>8</td><td>10</td><td>73</td><td>0</td><td>10</td><td>12</td><td>8</td></tr><tr><th>18</th><td>62</td><td>473</td><td>1</td><td>0</td><td>13</td><td>13</td><td>116</td><td>1</td><td>31</td><td>25</td><td>19</td></tr><tr><th>19</th><td>67</td><td>479</td><td>0</td><td>0</td><td>11</td><td>15</td><td>87</td><td>0</td><td>38</td><td>23</td><td>6</td></tr><tr><th>20</th><td>68</td><td>745</td><td>0</td><td>7</td><td>29</td><td>28</td><td>181</td><td>0</td><td>42</td><td>33</td><td>12</td></tr><tr><th>21</th><td>71</td><td>632</td><td>0</td><td>2</td><td>17</td><td>29</td><td>123</td><td>0</td><td>46</td><td>32</td><td>10</td></tr><tr><th>22</th><td>74</td><td>381</td><td>3</td><td>0</td><td>8</td><td>7</td><td>62</td><td>0</td><td>16</td><td>16</td><td>7</td></tr><tr><th>23</th><td>75</td><td>619</td><td>0</td><td>1</td><td>15</td><td>16</td><td>125</td><td>0</td><td>50</td><td>29</td><td>11</td></tr><tr><th>24</th><td>80</td><td>712</td><td>0</td><td>0</td><td>36</td><td>36</td><td>151</td><td>3</td><td>58</td><td>32</td><td>19</td></tr><tr><th>25</th><td>82</td><td>1131</td><td>0</td><td>3</td><td>30</td><td>38</td><td>289</td><td>0</td><td>121</td><td>56</td><td>14</td></tr><tr><th>26</th><td>83</td><td>612</td><td>0</td><td>3</td><td>35</td><td>14</td><td>155</td><td>2</td><td>36</td><td>34</td><td>9</td></tr><tr><th>27</th><td>84</td><td>1331</td><td>0</td><td>7</td><td>51</td><td>64</td><td>369</td><td>2</td><td>108</td><td>52</td><td>23</td></tr><tr><th>28</th><td>88</td><td>570</td><td>0</td><td>1</td><td>17</td><td>34</td><td>134</td><td>3</td><td>58</td><td>26</td><td>16</td></tr><tr><th>29</th><td>89</td><td>529</td><td>2</td><td>1</td><td>11</td><td>15</td><td>98</td><td>0</td><td>31</td><td>22</td><td>14</td></tr><tr><th>30</th><td>91</td><td>428</td><td>1</td><td>4</td><td>10</td><td>8</td><td>68</td><td>1</td><td>32</td><td>19</td><td>9</td></tr><tr><th>&vellip;</th><td>&vellip;</td><td>&vellip;</td><td>&vellip;</td><td>&vellip;</td><td>&vellip;</td><td>&vellip;</td><td>&vellip;</td><td>&vellip;</td><td>&vellip;</td><td>&vellip;</td><td>&vellip;</td></tr></tbody></table>",
            "text/latex": "\\begin{tabular}{r|cccccccccccc}\n\t& USER\\_ID & SUM\\_EVENTS & 1 & 2 & 3 & 4 & 5 & 6 & 7 & 8 & 9 & \\\\\n\t\\hline\n\t& Int64 & Int64 & Int64 & Int64 & Int64 & Int64 & Int64 & Int64 & Int64 & Int64 & Int64 & \\\\\n\t\\hline\n\t1 & 2 & 1477 & 0 & 3 & 65 & 114 & 290 & 13 & 16 & 7 & 0 & $\\dots$ \\\\\n\t2 & 3 & 431 & 0 & 2 & 33 & 42 & 162 & 6 & 45 & 20 & 0 & $\\dots$ \\\\\n\t3 & 4 & 1957 & 3 & 9 & 95 & 111 & 577 & 11 & 286 & 201 & 41 & $\\dots$ \\\\\n\t4 & 9 & 408 & 11 & 0 & 17 & 24 & 74 & 30 & 13 & 12 & 0 & $\\dots$ \\\\\n\t5 & 10 & 1407 & 145 & 7 & 69 & 102 & 396 & 45 & 190 & 98 & 30 & $\\dots$ \\\\\n\t6 & 18 & 550 & 0 & 3 & 7 & 10 & 129 & 0 & 29 & 20 & 18 & $\\dots$ \\\\\n\t7 & 19 & 546 & 0 & 1 & 15 & 8 & 129 & 0 & 30 & 18 & 18 & $\\dots$ \\\\\n\t8 & 26 & 732 & 0 & 0 & 14 & 13 & 171 & 0 & 63 & 37 & 13 & $\\dots$ \\\\\n\t9 & 30 & 857 & 0 & 6 & 31 & 30 & 213 & 0 & 114 & 52 & 22 & $\\dots$ \\\\\n\t10 & 32 & 748 & 0 & 0 & 25 & 27 & 137 & 0 & 50 & 54 & 26 & $\\dots$ \\\\\n\t11 & 33 & 840 & 0 & 6 & 15 & 29 & 186 & 0 & 55 & 30 & 17 & $\\dots$ \\\\\n\t12 & 41 & 707 & 0 & 1 & 21 & 33 & 163 & 0 & 44 & 41 & 7 & $\\dots$ \\\\\n\t13 & 42 & 883 & 0 & 3 & 20 & 27 & 255 & 0 & 72 & 60 & 47 & $\\dots$ \\\\\n\t14 & 44 & 911 & 0 & 6 & 42 & 44 & 229 & 3 & 77 & 57 & 25 & $\\dots$ \\\\\n\t15 & 48 & 557 & 0 & 2 & 25 & 34 & 147 & 1 & 41 & 39 & 40 & $\\dots$ \\\\\n\t16 & 55 & 524 & 0 & 2 & 12 & 13 & 89 & 4 & 30 & 25 & 6 & $\\dots$ \\\\\n\t17 & 59 & 408 & 0 & 0 & 8 & 10 & 73 & 0 & 10 & 12 & 8 & $\\dots$ \\\\\n\t18 & 62 & 473 & 1 & 0 & 13 & 13 & 116 & 1 & 31 & 25 & 19 & $\\dots$ \\\\\n\t19 & 67 & 479 & 0 & 0 & 11 & 15 & 87 & 0 & 38 & 23 & 6 & $\\dots$ \\\\\n\t20 & 68 & 745 & 0 & 7 & 29 & 28 & 181 & 0 & 42 & 33 & 12 & $\\dots$ \\\\\n\t21 & 71 & 632 & 0 & 2 & 17 & 29 & 123 & 0 & 46 & 32 & 10 & $\\dots$ \\\\\n\t22 & 74 & 381 & 3 & 0 & 8 & 7 & 62 & 0 & 16 & 16 & 7 & $\\dots$ \\\\\n\t23 & 75 & 619 & 0 & 1 & 15 & 16 & 125 & 0 & 50 & 29 & 11 & $\\dots$ \\\\\n\t24 & 80 & 712 & 0 & 0 & 36 & 36 & 151 & 3 & 58 & 32 & 19 & $\\dots$ \\\\\n\t25 & 82 & 1131 & 0 & 3 & 30 & 38 & 289 & 0 & 121 & 56 & 14 & $\\dots$ \\\\\n\t26 & 83 & 612 & 0 & 3 & 35 & 14 & 155 & 2 & 36 & 34 & 9 & $\\dots$ \\\\\n\t27 & 84 & 1331 & 0 & 7 & 51 & 64 & 369 & 2 & 108 & 52 & 23 & $\\dots$ \\\\\n\t28 & 88 & 570 & 0 & 1 & 17 & 34 & 134 & 3 & 58 & 26 & 16 & $\\dots$ \\\\\n\t29 & 89 & 529 & 2 & 1 & 11 & 15 & 98 & 0 & 31 & 22 & 14 & $\\dots$ \\\\\n\t30 & 91 & 428 & 1 & 4 & 10 & 8 & 68 & 1 & 32 & 19 & 9 & $\\dots$ \\\\\n\t$\\dots$ & $\\dots$ & $\\dots$ & $\\dots$ & $\\dots$ & $\\dots$ & $\\dots$ & $\\dots$ & $\\dots$ & $\\dots$ & $\\dots$ & $\\dots$ &  \\\\\n\\end{tabular}\n"
          },
          "metadata": {}
        }
      ],
      "execution_count": 244,
      "metadata": {
        "collapsed": true,
        "jupyter": {
          "source_hidden": false,
          "outputs_hidden": false
        },
        "nteract": {
          "transient": {
            "deleting": false
          }
        },
        "execution": {
          "iopub.status.busy": "2020-11-27T06:42:32.798Z",
          "iopub.execute_input": "2020-11-27T06:42:32.828Z",
          "iopub.status.idle": "2020-11-27T06:42:32.980Z"
        }
      }
    },
    {
      "cell_type": "code",
      "source": [
        "joinUserHighInterations = innerjoin(userInteractionWithGIANT, joinResultsDataFrameHigh, on = [:USER_ID => :USER_ID])"
      ],
      "outputs": [
        {
          "output_type": "execute_result",
          "execution_count": 245,
          "data": {
            "text/plain": "44×115 DataFrame. Omitted printing of 111 columns\n│ Row │ USER_ID │ firstname         │ lastname          │ lastlogin  │\n│     │ \u001b[90mInt64\u001b[39m   │ \u001b[90mString\u001b[39m            │ \u001b[90mString\u001b[39m            │ \u001b[90mString\u001b[39m     │\n├─────┼─────────┼───────────────────┼───────────────────┼────────────┤\n│ 1   │ 2       │ Admin             │ EAFIT             │ 2020-10-29 │\n│ 2   │ 3       │ Profesor          │ Eafit             │ 2020-10-30 │\n│ 3   │ 4       │ Estudiante        │ Eafit             │ 2020-10-26 │\n│ 4   │ 9       │ Estefanía         │ Preciado Santa    │ 2020-10-29 │\n│ 5   │ 10      │ Valeria           │ Zapata Giraldo    │ 2020-10-30 │\n│ 6   │ 18      │ Ana Maria         │ Galeano Ceron     │ 2020-09-25 │\n│ 7   │ 19      │ Ana Milena        │ Muñoz Orozco      │ 2020-09-20 │\n│ 8   │ 26      │ Bibiana           │ Ossa Guiral       │ 2020-10-25 │\n│ 9   │ 30      │ Carolina          │ Serna Henao       │ 2020-10-23 │\n│ 10  │ 32      │ Claudia Cecilia   │ Piedrahita Diaz   │ 2020-10-30 │\n⋮\n│ 34  │ 106     │ Sara Lucía        │ Correa            │ 2020-10-19 │\n│ 35  │ 108     │ Sindy Yarley      │ Santamaria Serna  │ 2020-10-30 │\n│ 36  │ 110     │ Sonia María       │ Hernández Taborda │ 2020-10-28 │\n│ 37  │ 112     │ Sthefanny         │ Castaño Gómez     │ 2020-10-30 │\n│ 38  │ 125     │ Mónica María      │ Jiménez           │ 2020-10-30 │\n│ 39  │ 132     │ Magaly del Carmen │ Leivaz Vanegas    │ 2020-10-05 │\n│ 40  │ 133     │ Leidy Yaneth      │ Echeverry Ríos    │ 2020-10-31 │\n│ 41  │ 137     │ Sergio            │ Arias Gallego     │ 2020-10-20 │\n│ 42  │ 141     │ Juan              │ Camilo            │ 2020-08-25 │\n│ 43  │ 142     │ Estudiante        │ 3                 │ 2020-08-13 │\n│ 44  │ 156     │ SOFIA             │ CORONADO          │ 2020-10-10 │",
            "text/html": "<table class=\"data-frame\"><thead><tr><th></th><th>USER_ID</th><th>firstname</th><th>lastname</th><th>lastlogin</th><th>lastaccess</th><th>SUM_EVENTS</th></tr><tr><th></th><th>Int64</th><th>String</th><th>String</th><th>String</th><th>String</th><th>Int64</th></tr></thead><tbody><p>44 rows × 115 columns (omitted printing of 109 columns)</p><tr><th>1</th><td>2</td><td>Admin</td><td>EAFIT</td><td>2020-10-29</td><td>2020-10-29</td><td>1477</td></tr><tr><th>2</th><td>3</td><td>Profesor</td><td>Eafit</td><td>2020-10-30</td><td>2020-10-30</td><td>431</td></tr><tr><th>3</th><td>4</td><td>Estudiante</td><td>Eafit</td><td>2020-10-26</td><td>2020-10-26</td><td>1957</td></tr><tr><th>4</th><td>9</td><td>Estefanía</td><td>Preciado Santa</td><td>2020-10-29</td><td>2020-10-30</td><td>408</td></tr><tr><th>5</th><td>10</td><td>Valeria</td><td>Zapata Giraldo</td><td>2020-10-30</td><td>2020-10-30</td><td>1407</td></tr><tr><th>6</th><td>18</td><td>Ana Maria</td><td>Galeano Ceron</td><td>2020-09-25</td><td>2020-10-19</td><td>550</td></tr><tr><th>7</th><td>19</td><td>Ana Milena</td><td>Muñoz Orozco</td><td>2020-09-20</td><td>2020-09-28</td><td>546</td></tr><tr><th>8</th><td>26</td><td>Bibiana</td><td>Ossa Guiral</td><td>2020-10-25</td><td>2020-10-26</td><td>732</td></tr><tr><th>9</th><td>30</td><td>Carolina</td><td>Serna Henao</td><td>2020-10-23</td><td>2020-10-29</td><td>857</td></tr><tr><th>10</th><td>32</td><td>Claudia Cecilia</td><td>Piedrahita Diaz</td><td>2020-10-30</td><td>2020-10-31</td><td>748</td></tr><tr><th>11</th><td>33</td><td>Claudia Patricia</td><td>Echeverri Arenas</td><td>2020-10-25</td><td>2020-10-25</td><td>840</td></tr><tr><th>12</th><td>41</td><td>Deisy</td><td>Medina Giraldo</td><td>2020-10-13</td><td>2020-10-25</td><td>707</td></tr><tr><th>13</th><td>42</td><td>Deisy Estefania</td><td>Porras Sanchez</td><td>2020-10-20</td><td>2020-10-29</td><td>883</td></tr><tr><th>14</th><td>44</td><td>Diana Carolina</td><td>Agudelo Herrera</td><td>2020-10-23</td><td>2020-10-29</td><td>911</td></tr><tr><th>15</th><td>48</td><td>Diego Fernando</td><td>Orrego Gutiérrez</td><td>2020-10-16</td><td>2020-10-16</td><td>557</td></tr><tr><th>16</th><td>55</td><td>Franklin Jhonatan</td><td>Barreto Ordóñez</td><td>2020-10-28</td><td>2020-10-30</td><td>524</td></tr><tr><th>17</th><td>59</td><td>Hugo Armando</td><td>Taborda Rodríguez</td><td>2020-10-28</td><td>2020-10-30</td><td>408</td></tr><tr><th>18</th><td>62</td><td>Jakeline</td><td>Flórez Ríos</td><td>2020-10-18</td><td>2020-10-26</td><td>473</td></tr><tr><th>19</th><td>67</td><td>Jorge Mario</td><td>Madera Díaz</td><td>2020-10-29</td><td>2020-10-29</td><td>479</td></tr><tr><th>20</th><td>68</td><td>Jorge Mauricio</td><td>Herrera Ríos</td><td>2020-10-29</td><td>2020-10-30</td><td>745</td></tr><tr><th>21</th><td>71</td><td>Josse Leandro</td><td>Herrera Rengifo</td><td>2020-10-31</td><td>2020-10-31</td><td>632</td></tr><tr><th>22</th><td>74</td><td>Juan Fernando</td><td>Villa Taborda</td><td>2020-10-16</td><td>2020-10-16</td><td>381</td></tr><tr><th>23</th><td>75</td><td>Julian Alberto</td><td>Garces Hernandez</td><td>2020-10-30</td><td>2020-10-31</td><td>619</td></tr><tr><th>24</th><td>80</td><td>Liliana Marcela</td><td>Piña Puerto</td><td>2020-10-05</td><td>2020-10-27</td><td>712</td></tr><tr><th>25</th><td>82</td><td>Lina María</td><td>Rincón Salazar</td><td>2020-10-22</td><td>2020-10-30</td><td>1131</td></tr><tr><th>26</th><td>83</td><td>Luisa Maria</td><td>Fernandez Marin</td><td>2020-10-29</td><td>2020-11-02</td><td>612</td></tr><tr><th>27</th><td>84</td><td>Luz Angela</td><td>Grajales Fernández</td><td>2020-10-27</td><td>2020-11-02</td><td>1331</td></tr><tr><th>28</th><td>88</td><td>Maria Camila</td><td>Marin Garces</td><td>2020-09-18</td><td>2020-10-01</td><td>570</td></tr><tr><th>29</th><td>89</td><td>Maria Natalia</td><td>Foronda Baena</td><td>2020-10-14</td><td>2020-10-22</td><td>529</td></tr><tr><th>30</th><td>91</td><td>Marianela</td><td>Yepes Franco</td><td>2020-10-15</td><td>2020-10-27</td><td>428</td></tr><tr><th>&vellip;</th><td>&vellip;</td><td>&vellip;</td><td>&vellip;</td><td>&vellip;</td><td>&vellip;</td><td>&vellip;</td></tr></tbody></table>",
            "text/latex": "\\begin{tabular}{r|ccccccc}\n\t& USER\\_ID & firstname & lastname & lastlogin & lastaccess & SUM\\_EVENTS & \\\\\n\t\\hline\n\t& Int64 & String & String & String & String & Int64 & \\\\\n\t\\hline\n\t1 & 2 & Admin & EAFIT & 2020-10-29 & 2020-10-29 & 1477 & $\\dots$ \\\\\n\t2 & 3 & Profesor & Eafit & 2020-10-30 & 2020-10-30 & 431 & $\\dots$ \\\\\n\t3 & 4 & Estudiante & Eafit & 2020-10-26 & 2020-10-26 & 1957 & $\\dots$ \\\\\n\t4 & 9 & Estefanía & Preciado Santa & 2020-10-29 & 2020-10-30 & 408 & $\\dots$ \\\\\n\t5 & 10 & Valeria & Zapata Giraldo & 2020-10-30 & 2020-10-30 & 1407 & $\\dots$ \\\\\n\t6 & 18 & Ana Maria & Galeano Ceron & 2020-09-25 & 2020-10-19 & 550 & $\\dots$ \\\\\n\t7 & 19 & Ana Milena & Muñoz Orozco & 2020-09-20 & 2020-09-28 & 546 & $\\dots$ \\\\\n\t8 & 26 & Bibiana & Ossa Guiral & 2020-10-25 & 2020-10-26 & 732 & $\\dots$ \\\\\n\t9 & 30 & Carolina & Serna Henao & 2020-10-23 & 2020-10-29 & 857 & $\\dots$ \\\\\n\t10 & 32 & Claudia Cecilia & Piedrahita Diaz & 2020-10-30 & 2020-10-31 & 748 & $\\dots$ \\\\\n\t11 & 33 & Claudia Patricia & Echeverri Arenas & 2020-10-25 & 2020-10-25 & 840 & $\\dots$ \\\\\n\t12 & 41 & Deisy & Medina Giraldo & 2020-10-13 & 2020-10-25 & 707 & $\\dots$ \\\\\n\t13 & 42 & Deisy Estefania & Porras Sanchez & 2020-10-20 & 2020-10-29 & 883 & $\\dots$ \\\\\n\t14 & 44 & Diana Carolina & Agudelo Herrera & 2020-10-23 & 2020-10-29 & 911 & $\\dots$ \\\\\n\t15 & 48 & Diego Fernando & Orrego Gutiérrez & 2020-10-16 & 2020-10-16 & 557 & $\\dots$ \\\\\n\t16 & 55 & Franklin Jhonatan & Barreto Ordóñez & 2020-10-28 & 2020-10-30 & 524 & $\\dots$ \\\\\n\t17 & 59 & Hugo Armando & Taborda Rodríguez & 2020-10-28 & 2020-10-30 & 408 & $\\dots$ \\\\\n\t18 & 62 & Jakeline & Flórez Ríos & 2020-10-18 & 2020-10-26 & 473 & $\\dots$ \\\\\n\t19 & 67 & Jorge Mario & Madera Díaz & 2020-10-29 & 2020-10-29 & 479 & $\\dots$ \\\\\n\t20 & 68 & Jorge Mauricio & Herrera Ríos & 2020-10-29 & 2020-10-30 & 745 & $\\dots$ \\\\\n\t21 & 71 & Josse Leandro & Herrera Rengifo & 2020-10-31 & 2020-10-31 & 632 & $\\dots$ \\\\\n\t22 & 74 & Juan Fernando & Villa Taborda & 2020-10-16 & 2020-10-16 & 381 & $\\dots$ \\\\\n\t23 & 75 & Julian Alberto & Garces Hernandez & 2020-10-30 & 2020-10-31 & 619 & $\\dots$ \\\\\n\t24 & 80 & Liliana Marcela & Piña Puerto & 2020-10-05 & 2020-10-27 & 712 & $\\dots$ \\\\\n\t25 & 82 & Lina María & Rincón Salazar & 2020-10-22 & 2020-10-30 & 1131 & $\\dots$ \\\\\n\t26 & 83 & Luisa Maria & Fernandez Marin & 2020-10-29 & 2020-11-02 & 612 & $\\dots$ \\\\\n\t27 & 84 & Luz Angela & Grajales Fernández & 2020-10-27 & 2020-11-02 & 1331 & $\\dots$ \\\\\n\t28 & 88 & Maria Camila & Marin Garces & 2020-09-18 & 2020-10-01 & 570 & $\\dots$ \\\\\n\t29 & 89 & Maria Natalia & Foronda Baena & 2020-10-14 & 2020-10-22 & 529 & $\\dots$ \\\\\n\t30 & 91 & Marianela & Yepes Franco & 2020-10-15 & 2020-10-27 & 428 & $\\dots$ \\\\\n\t$\\dots$ & $\\dots$ & $\\dots$ & $\\dots$ & $\\dots$ & $\\dots$ & $\\dots$ &  \\\\\n\\end{tabular}\n"
          },
          "metadata": {}
        }
      ],
      "execution_count": 245,
      "metadata": {
        "collapsed": true,
        "jupyter": {
          "source_hidden": false,
          "outputs_hidden": false
        },
        "nteract": {
          "transient": {
            "deleting": false
          }
        },
        "execution": {
          "iopub.status.busy": "2020-11-27T06:42:42.863Z",
          "iopub.execute_input": "2020-11-27T06:42:42.891Z",
          "iopub.status.idle": "2020-11-27T06:42:43.027Z"
        }
      }
    },
    {
      "cell_type": "code",
      "source": [
        "userWithLowInterations = @from i in userByEventsSumDataFrame begin\n",
        "            @where i.SUM_EVENTS < 370\n",
        "            @select {i.USER_ID, i.SUM_EVENTS}\n",
        "            @collect DataFrame\n",
        "       end"
      ],
      "outputs": [
        {
          "output_type": "execute_result",
          "execution_count": 246,
          "data": {
            "text/plain": "65×2 DataFrame\n│ Row │ USER_ID │ SUM_EVENTS │\n│     │ \u001b[90mInt64\u001b[39m   │ \u001b[90mInt64\u001b[39m      │\n├─────┼─────────┼────────────┤\n│ 1   │ -10     │ 99         │\n│ 2   │ -1      │ 336        │\n│ 3   │ 0       │ 235        │\n│ 4   │ 5       │ 1          │\n│ 5   │ 6       │ 295        │\n│ 6   │ 7       │ 3          │\n│ 7   │ 8       │ 8          │\n│ 8   │ 23      │ 45         │\n│ 9   │ 27      │ 142        │\n│ 10  │ 28      │ 124        │\n⋮\n│ 55  │ 153     │ 109        │\n│ 56  │ 154     │ 9          │\n│ 57  │ 157     │ 223        │\n│ 58  │ 158     │ 100        │\n│ 59  │ 160     │ 91         │\n│ 60  │ 161     │ 328        │\n│ 61  │ 164     │ 88         │\n│ 62  │ 165     │ 46         │\n│ 63  │ 166     │ 30         │\n│ 64  │ 168     │ 86         │\n│ 65  │ 169     │ 54         │",
            "text/html": "<table class=\"data-frame\"><thead><tr><th></th><th>USER_ID</th><th>SUM_EVENTS</th></tr><tr><th></th><th>Int64</th><th>Int64</th></tr></thead><tbody><p>65 rows × 2 columns</p><tr><th>1</th><td>-10</td><td>99</td></tr><tr><th>2</th><td>-1</td><td>336</td></tr><tr><th>3</th><td>0</td><td>235</td></tr><tr><th>4</th><td>5</td><td>1</td></tr><tr><th>5</th><td>6</td><td>295</td></tr><tr><th>6</th><td>7</td><td>3</td></tr><tr><th>7</th><td>8</td><td>8</td></tr><tr><th>8</th><td>23</td><td>45</td></tr><tr><th>9</th><td>27</td><td>142</td></tr><tr><th>10</th><td>28</td><td>124</td></tr><tr><th>11</th><td>29</td><td>6</td></tr><tr><th>12</th><td>35</td><td>2</td></tr><tr><th>13</th><td>36</td><td>32</td></tr><tr><th>14</th><td>50</td><td>42</td></tr><tr><th>15</th><td>53</td><td>62</td></tr><tr><th>16</th><td>54</td><td>77</td></tr><tr><th>17</th><td>56</td><td>18</td></tr><tr><th>18</th><td>57</td><td>57</td></tr><tr><th>19</th><td>58</td><td>298</td></tr><tr><th>20</th><td>60</td><td>13</td></tr><tr><th>21</th><td>63</td><td>105</td></tr><tr><th>22</th><td>65</td><td>361</td></tr><tr><th>23</th><td>69</td><td>226</td></tr><tr><th>24</th><td>70</td><td>13</td></tr><tr><th>25</th><td>73</td><td>4</td></tr><tr><th>26</th><td>76</td><td>86</td></tr><tr><th>27</th><td>78</td><td>55</td></tr><tr><th>28</th><td>79</td><td>14</td></tr><tr><th>29</th><td>85</td><td>56</td></tr><tr><th>30</th><td>92</td><td>229</td></tr><tr><th>&vellip;</th><td>&vellip;</td><td>&vellip;</td></tr></tbody></table>",
            "text/latex": "\\begin{tabular}{r|cc}\n\t& USER\\_ID & SUM\\_EVENTS\\\\\n\t\\hline\n\t& Int64 & Int64\\\\\n\t\\hline\n\t1 & -10 & 99 \\\\\n\t2 & -1 & 336 \\\\\n\t3 & 0 & 235 \\\\\n\t4 & 5 & 1 \\\\\n\t5 & 6 & 295 \\\\\n\t6 & 7 & 3 \\\\\n\t7 & 8 & 8 \\\\\n\t8 & 23 & 45 \\\\\n\t9 & 27 & 142 \\\\\n\t10 & 28 & 124 \\\\\n\t11 & 29 & 6 \\\\\n\t12 & 35 & 2 \\\\\n\t13 & 36 & 32 \\\\\n\t14 & 50 & 42 \\\\\n\t15 & 53 & 62 \\\\\n\t16 & 54 & 77 \\\\\n\t17 & 56 & 18 \\\\\n\t18 & 57 & 57 \\\\\n\t19 & 58 & 298 \\\\\n\t20 & 60 & 13 \\\\\n\t21 & 63 & 105 \\\\\n\t22 & 65 & 361 \\\\\n\t23 & 69 & 226 \\\\\n\t24 & 70 & 13 \\\\\n\t25 & 73 & 4 \\\\\n\t26 & 76 & 86 \\\\\n\t27 & 78 & 55 \\\\\n\t28 & 79 & 14 \\\\\n\t29 & 85 & 56 \\\\\n\t30 & 92 & 229 \\\\\n\t$\\dots$ & $\\dots$ & $\\dots$ \\\\\n\\end{tabular}\n"
          },
          "metadata": {}
        }
      ],
      "execution_count": 246,
      "metadata": {
        "collapsed": true,
        "jupyter": {
          "source_hidden": false,
          "outputs_hidden": false
        },
        "nteract": {
          "transient": {
            "deleting": false
          }
        },
        "execution": {
          "iopub.status.busy": "2020-11-27T06:42:49.839Z",
          "iopub.execute_input": "2020-11-27T06:42:49.870Z",
          "iopub.status.idle": "2020-11-27T06:42:50.031Z"
        }
      }
    },
    {
      "cell_type": "code",
      "source": [
        "joinResultsDataFrameLow = innerjoin(userWithLowInterations, frequencyEventUsers, on = [:USER_ID => :USER_ID])"
      ],
      "outputs": [
        {
          "output_type": "execute_result",
          "execution_count": 247,
          "data": {
            "text/plain": "65×111 DataFrame. Omitted printing of 103 columns\n│ Row │ USER_ID │ SUM_EVENTS │ 1     │ 2     │ 3     │ 4     │ 5     │ 6     │\n│     │ \u001b[90mInt64\u001b[39m   │ \u001b[90mInt64\u001b[39m      │ \u001b[90mInt64\u001b[39m │ \u001b[90mInt64\u001b[39m │ \u001b[90mInt64\u001b[39m │ \u001b[90mInt64\u001b[39m │ \u001b[90mInt64\u001b[39m │ \u001b[90mInt64\u001b[39m │\n├─────┼─────────┼────────────┼───────┼───────┼───────┼───────┼───────┼───────┤\n│ 1   │ -10     │ 99         │ 0     │ 0     │ 0     │ 0     │ 0     │ 0     │\n│ 2   │ -1      │ 336        │ 0     │ 0     │ 0     │ 0     │ 0     │ 0     │\n│ 3   │ 0       │ 235        │ 0     │ 103   │ 0     │ 0     │ 0     │ 0     │\n│ 4   │ 5       │ 1          │ 0     │ 1     │ 0     │ 0     │ 0     │ 0     │\n│ 5   │ 6       │ 295        │ 0     │ 0     │ 8     │ 8     │ 97    │ 0     │\n│ 6   │ 7       │ 3          │ 0     │ 3     │ 0     │ 0     │ 0     │ 0     │\n│ 7   │ 8       │ 8          │ 2     │ 0     │ 1     │ 1     │ 2     │ 0     │\n│ 8   │ 23      │ 45         │ 0     │ 6     │ 3     │ 4     │ 15    │ 0     │\n│ 9   │ 27      │ 142        │ 0     │ 0     │ 5     │ 8     │ 52    │ 0     │\n│ 10  │ 28      │ 124        │ 0     │ 1     │ 4     │ 4     │ 43    │ 0     │\n⋮\n│ 55  │ 153     │ 109        │ 1     │ 0     │ 2     │ 2     │ 51    │ 0     │\n│ 56  │ 154     │ 9          │ 0     │ 4     │ 1     │ 2     │ 1     │ 0     │\n│ 57  │ 157     │ 223        │ 0     │ 7     │ 6     │ 7     │ 82    │ 0     │\n│ 58  │ 158     │ 100        │ 1     │ 0     │ 1     │ 1     │ 36    │ 0     │\n│ 59  │ 160     │ 91         │ 2     │ 0     │ 1     │ 1     │ 36    │ 0     │\n│ 60  │ 161     │ 328        │ 2     │ 7     │ 7     │ 11    │ 130   │ 1     │\n│ 61  │ 164     │ 88         │ 0     │ 3     │ 2     │ 3     │ 31    │ 1     │\n│ 62  │ 165     │ 46         │ 0     │ 1     │ 1     │ 3     │ 28    │ 0     │\n│ 63  │ 166     │ 30         │ 0     │ 0     │ 1     │ 1     │ 12    │ 0     │\n│ 64  │ 168     │ 86         │ 1     │ 1     │ 2     │ 1     │ 28    │ 0     │\n│ 65  │ 169     │ 54         │ 0     │ 2     │ 1     │ 1     │ 16    │ 0     │",
            "text/html": "<table class=\"data-frame\"><thead><tr><th></th><th>USER_ID</th><th>SUM_EVENTS</th><th>1</th><th>2</th><th>3</th><th>4</th><th>5</th><th>6</th><th>7</th><th>8</th><th>9</th></tr><tr><th></th><th>Int64</th><th>Int64</th><th>Int64</th><th>Int64</th><th>Int64</th><th>Int64</th><th>Int64</th><th>Int64</th><th>Int64</th><th>Int64</th><th>Int64</th></tr></thead><tbody><p>65 rows × 111 columns (omitted printing of 100 columns)</p><tr><th>1</th><td>-10</td><td>99</td><td>0</td><td>0</td><td>0</td><td>0</td><td>0</td><td>0</td><td>0</td><td>0</td><td>0</td></tr><tr><th>2</th><td>-1</td><td>336</td><td>0</td><td>0</td><td>0</td><td>0</td><td>0</td><td>0</td><td>0</td><td>0</td><td>0</td></tr><tr><th>3</th><td>0</td><td>235</td><td>0</td><td>103</td><td>0</td><td>0</td><td>0</td><td>0</td><td>0</td><td>0</td><td>0</td></tr><tr><th>4</th><td>5</td><td>1</td><td>0</td><td>1</td><td>0</td><td>0</td><td>0</td><td>0</td><td>0</td><td>0</td><td>0</td></tr><tr><th>5</th><td>6</td><td>295</td><td>0</td><td>0</td><td>8</td><td>8</td><td>97</td><td>0</td><td>14</td><td>11</td><td>0</td></tr><tr><th>6</th><td>7</td><td>3</td><td>0</td><td>3</td><td>0</td><td>0</td><td>0</td><td>0</td><td>0</td><td>0</td><td>0</td></tr><tr><th>7</th><td>8</td><td>8</td><td>2</td><td>0</td><td>1</td><td>1</td><td>2</td><td>0</td><td>1</td><td>1</td><td>0</td></tr><tr><th>8</th><td>23</td><td>45</td><td>0</td><td>6</td><td>3</td><td>4</td><td>15</td><td>0</td><td>6</td><td>6</td><td>3</td></tr><tr><th>9</th><td>27</td><td>142</td><td>0</td><td>0</td><td>5</td><td>8</td><td>52</td><td>0</td><td>32</td><td>20</td><td>3</td></tr><tr><th>10</th><td>28</td><td>124</td><td>0</td><td>1</td><td>4</td><td>4</td><td>43</td><td>0</td><td>24</td><td>13</td><td>6</td></tr><tr><th>11</th><td>29</td><td>6</td><td>0</td><td>0</td><td>1</td><td>2</td><td>3</td><td>0</td><td>0</td><td>0</td><td>0</td></tr><tr><th>12</th><td>35</td><td>2</td><td>0</td><td>0</td><td>1</td><td>0</td><td>0</td><td>0</td><td>0</td><td>0</td><td>0</td></tr><tr><th>13</th><td>36</td><td>32</td><td>0</td><td>0</td><td>1</td><td>2</td><td>16</td><td>1</td><td>6</td><td>5</td><td>1</td></tr><tr><th>14</th><td>50</td><td>42</td><td>5</td><td>0</td><td>2</td><td>2</td><td>8</td><td>0</td><td>6</td><td>5</td><td>2</td></tr><tr><th>15</th><td>53</td><td>62</td><td>25</td><td>0</td><td>5</td><td>8</td><td>7</td><td>3</td><td>3</td><td>3</td><td>1</td></tr><tr><th>16</th><td>54</td><td>77</td><td>9</td><td>0</td><td>2</td><td>2</td><td>23</td><td>0</td><td>10</td><td>11</td><td>5</td></tr><tr><th>17</th><td>56</td><td>18</td><td>0</td><td>1</td><td>4</td><td>6</td><td>2</td><td>1</td><td>1</td><td>2</td><td>0</td></tr><tr><th>18</th><td>57</td><td>57</td><td>0</td><td>0</td><td>3</td><td>3</td><td>18</td><td>0</td><td>12</td><td>9</td><td>5</td></tr><tr><th>19</th><td>58</td><td>298</td><td>0</td><td>5</td><td>17</td><td>13</td><td>70</td><td>0</td><td>31</td><td>18</td><td>12</td></tr><tr><th>20</th><td>60</td><td>13</td><td>0</td><td>0</td><td>1</td><td>1</td><td>5</td><td>0</td><td>3</td><td>2</td><td>0</td></tr><tr><th>21</th><td>63</td><td>105</td><td>0</td><td>0</td><td>5</td><td>6</td><td>26</td><td>0</td><td>19</td><td>10</td><td>5</td></tr><tr><th>22</th><td>65</td><td>361</td><td>0</td><td>0</td><td>11</td><td>13</td><td>75</td><td>0</td><td>20</td><td>13</td><td>6</td></tr><tr><th>23</th><td>69</td><td>226</td><td>2</td><td>6</td><td>5</td><td>12</td><td>121</td><td>0</td><td>31</td><td>20</td><td>3</td></tr><tr><th>24</th><td>70</td><td>13</td><td>0</td><td>0</td><td>1</td><td>1</td><td>5</td><td>0</td><td>3</td><td>2</td><td>1</td></tr><tr><th>25</th><td>73</td><td>4</td><td>0</td><td>0</td><td>1</td><td>1</td><td>2</td><td>0</td><td>0</td><td>0</td><td>0</td></tr><tr><th>26</th><td>76</td><td>86</td><td>25</td><td>1</td><td>3</td><td>7</td><td>24</td><td>3</td><td>8</td><td>7</td><td>2</td></tr><tr><th>27</th><td>78</td><td>55</td><td>6</td><td>0</td><td>4</td><td>4</td><td>14</td><td>0</td><td>9</td><td>8</td><td>3</td></tr><tr><th>28</th><td>79</td><td>14</td><td>0</td><td>0</td><td>1</td><td>2</td><td>5</td><td>0</td><td>3</td><td>3</td><td>0</td></tr><tr><th>29</th><td>85</td><td>56</td><td>1</td><td>0</td><td>3</td><td>2</td><td>18</td><td>0</td><td>13</td><td>12</td><td>3</td></tr><tr><th>30</th><td>92</td><td>229</td><td>0</td><td>0</td><td>10</td><td>13</td><td>74</td><td>3</td><td>15</td><td>11</td><td>10</td></tr><tr><th>&vellip;</th><td>&vellip;</td><td>&vellip;</td><td>&vellip;</td><td>&vellip;</td><td>&vellip;</td><td>&vellip;</td><td>&vellip;</td><td>&vellip;</td><td>&vellip;</td><td>&vellip;</td><td>&vellip;</td></tr></tbody></table>",
            "text/latex": "\\begin{tabular}{r|cccccccccccc}\n\t& USER\\_ID & SUM\\_EVENTS & 1 & 2 & 3 & 4 & 5 & 6 & 7 & 8 & 9 & \\\\\n\t\\hline\n\t& Int64 & Int64 & Int64 & Int64 & Int64 & Int64 & Int64 & Int64 & Int64 & Int64 & Int64 & \\\\\n\t\\hline\n\t1 & -10 & 99 & 0 & 0 & 0 & 0 & 0 & 0 & 0 & 0 & 0 & $\\dots$ \\\\\n\t2 & -1 & 336 & 0 & 0 & 0 & 0 & 0 & 0 & 0 & 0 & 0 & $\\dots$ \\\\\n\t3 & 0 & 235 & 0 & 103 & 0 & 0 & 0 & 0 & 0 & 0 & 0 & $\\dots$ \\\\\n\t4 & 5 & 1 & 0 & 1 & 0 & 0 & 0 & 0 & 0 & 0 & 0 & $\\dots$ \\\\\n\t5 & 6 & 295 & 0 & 0 & 8 & 8 & 97 & 0 & 14 & 11 & 0 & $\\dots$ \\\\\n\t6 & 7 & 3 & 0 & 3 & 0 & 0 & 0 & 0 & 0 & 0 & 0 & $\\dots$ \\\\\n\t7 & 8 & 8 & 2 & 0 & 1 & 1 & 2 & 0 & 1 & 1 & 0 & $\\dots$ \\\\\n\t8 & 23 & 45 & 0 & 6 & 3 & 4 & 15 & 0 & 6 & 6 & 3 & $\\dots$ \\\\\n\t9 & 27 & 142 & 0 & 0 & 5 & 8 & 52 & 0 & 32 & 20 & 3 & $\\dots$ \\\\\n\t10 & 28 & 124 & 0 & 1 & 4 & 4 & 43 & 0 & 24 & 13 & 6 & $\\dots$ \\\\\n\t11 & 29 & 6 & 0 & 0 & 1 & 2 & 3 & 0 & 0 & 0 & 0 & $\\dots$ \\\\\n\t12 & 35 & 2 & 0 & 0 & 1 & 0 & 0 & 0 & 0 & 0 & 0 & $\\dots$ \\\\\n\t13 & 36 & 32 & 0 & 0 & 1 & 2 & 16 & 1 & 6 & 5 & 1 & $\\dots$ \\\\\n\t14 & 50 & 42 & 5 & 0 & 2 & 2 & 8 & 0 & 6 & 5 & 2 & $\\dots$ \\\\\n\t15 & 53 & 62 & 25 & 0 & 5 & 8 & 7 & 3 & 3 & 3 & 1 & $\\dots$ \\\\\n\t16 & 54 & 77 & 9 & 0 & 2 & 2 & 23 & 0 & 10 & 11 & 5 & $\\dots$ \\\\\n\t17 & 56 & 18 & 0 & 1 & 4 & 6 & 2 & 1 & 1 & 2 & 0 & $\\dots$ \\\\\n\t18 & 57 & 57 & 0 & 0 & 3 & 3 & 18 & 0 & 12 & 9 & 5 & $\\dots$ \\\\\n\t19 & 58 & 298 & 0 & 5 & 17 & 13 & 70 & 0 & 31 & 18 & 12 & $\\dots$ \\\\\n\t20 & 60 & 13 & 0 & 0 & 1 & 1 & 5 & 0 & 3 & 2 & 0 & $\\dots$ \\\\\n\t21 & 63 & 105 & 0 & 0 & 5 & 6 & 26 & 0 & 19 & 10 & 5 & $\\dots$ \\\\\n\t22 & 65 & 361 & 0 & 0 & 11 & 13 & 75 & 0 & 20 & 13 & 6 & $\\dots$ \\\\\n\t23 & 69 & 226 & 2 & 6 & 5 & 12 & 121 & 0 & 31 & 20 & 3 & $\\dots$ \\\\\n\t24 & 70 & 13 & 0 & 0 & 1 & 1 & 5 & 0 & 3 & 2 & 1 & $\\dots$ \\\\\n\t25 & 73 & 4 & 0 & 0 & 1 & 1 & 2 & 0 & 0 & 0 & 0 & $\\dots$ \\\\\n\t26 & 76 & 86 & 25 & 1 & 3 & 7 & 24 & 3 & 8 & 7 & 2 & $\\dots$ \\\\\n\t27 & 78 & 55 & 6 & 0 & 4 & 4 & 14 & 0 & 9 & 8 & 3 & $\\dots$ \\\\\n\t28 & 79 & 14 & 0 & 0 & 1 & 2 & 5 & 0 & 3 & 3 & 0 & $\\dots$ \\\\\n\t29 & 85 & 56 & 1 & 0 & 3 & 2 & 18 & 0 & 13 & 12 & 3 & $\\dots$ \\\\\n\t30 & 92 & 229 & 0 & 0 & 10 & 13 & 74 & 3 & 15 & 11 & 10 & $\\dots$ \\\\\n\t$\\dots$ & $\\dots$ & $\\dots$ & $\\dots$ & $\\dots$ & $\\dots$ & $\\dots$ & $\\dots$ & $\\dots$ & $\\dots$ & $\\dots$ & $\\dots$ &  \\\\\n\\end{tabular}\n"
          },
          "metadata": {}
        }
      ],
      "execution_count": 247,
      "metadata": {
        "collapsed": true,
        "jupyter": {
          "source_hidden": false,
          "outputs_hidden": false
        },
        "nteract": {
          "transient": {
            "deleting": false
          }
        },
        "execution": {
          "iopub.status.busy": "2020-11-27T06:42:54.996Z",
          "iopub.execute_input": "2020-11-27T06:42:55.025Z",
          "iopub.status.idle": "2020-11-27T06:42:55.175Z"
        }
      }
    },
    {
      "cell_type": "code",
      "source": [
        "joinUserLowInterations = innerjoin(userInteractionWithGIANT, joinResultsDataFrameLow, on = [:USER_ID => :USER_ID])"
      ],
      "outputs": [
        {
          "output_type": "execute_result",
          "execution_count": 248,
          "data": {
            "text/plain": "62×115 DataFrame. Omitted printing of 110 columns\n│ Row │ USER_ID │ firstname       │ lastname        │ lastlogin  │ lastaccess │\n│     │ \u001b[90mInt64\u001b[39m   │ \u001b[90mString\u001b[39m          │ \u001b[90mString\u001b[39m          │ \u001b[90mString\u001b[39m     │ \u001b[90mString\u001b[39m     │\n├─────┼─────────┼─────────────────┼─────────────────┼────────────┼────────────┤\n│ 1   │ 5       │ Luis            │ Cárdenas        │ 2020-08-05 │ 2020-08-05 │\n│ 2   │ 6       │ Mauricio        │ Vásquez         │ 2020-10-05 │ 2020-10-20 │\n│ 3   │ 7       │ Cristian Andrés │ Díaz León       │ 1970-01-01 │ 1970-01-01 │\n│ 4   │ 8       │ Carolina        │ Ospina Foronda  │ 1970-01-01 │ 2020-08-26 │\n│ 5   │ 23      │ Angy paola      │ Vanegas villa   │ 2020-08-24 │ 2020-08-26 │\n│ 6   │ 27      │ Camilo          │ Tabares         │ 2020-08-26 │ 2020-09-04 │\n│ 7   │ 28      │ Carlos          │ Valencia        │ 2020-08-24 │ 2020-10-13 │\n│ 8   │ 29      │ Carlos Arturo   │ Valencia Arango │ 2020-08-05 │ 2020-08-14 │\n│ 9   │ 35      │ Darley          │ Hernández Caro  │ 1970-01-01 │ 2020-08-21 │\n│ 10  │ 36      │ David           │ Soto Jiménez    │ 2020-08-07 │ 2020-08-13 │\n⋮\n│ 52  │ 153     │ MARIANA         │ POSADA          │ 2020-09-19 │ 2020-10-18 │\n│ 53  │ 154     │ JUAN            │ DOMINGUEZ       │ 1970-01-01 │ 2020-09-19 │\n│ 54  │ 157     │ PAULINA         │ VLEZ            │ 2020-10-26 │ 2020-10-29 │\n│ 55  │ 158     │ JUAN            │ GARCA           │ 1970-01-01 │ 2020-10-21 │\n│ 56  │ 160     │ SAMUEL          │ JARAMILLO       │ 1970-01-01 │ 2020-10-10 │\n│ 57  │ 161     │ SEBASTIAN       │ LLANO           │ 2020-10-10 │ 2020-10-18 │\n│ 58  │ 164     │ SEBASTIN        │ LPEZ            │ 2020-09-19 │ 2020-10-10 │\n│ 59  │ 165     │ MIGUEL          │ VILLEGAS        │ 1970-01-01 │ 2020-10-19 │\n│ 60  │ 166     │ MIGUEL          │ MERCADO         │ 1970-01-01 │ 2020-09-19 │\n│ 61  │ 168     │ SIMON           │ GOMEZ           │ 2020-10-17 │ 2020-10-18 │\n│ 62  │ 169     │ ANDRES          │ VELASQUEZ       │ 1970-01-01 │ 2020-10-10 │",
            "text/html": "<table class=\"data-frame\"><thead><tr><th></th><th>USER_ID</th><th>firstname</th><th>lastname</th><th>lastlogin</th><th>lastaccess</th><th>SUM_EVENTS</th></tr><tr><th></th><th>Int64</th><th>String</th><th>String</th><th>String</th><th>String</th><th>Int64</th></tr></thead><tbody><p>62 rows × 115 columns (omitted printing of 109 columns)</p><tr><th>1</th><td>5</td><td>Luis</td><td>Cárdenas</td><td>2020-08-05</td><td>2020-08-05</td><td>1</td></tr><tr><th>2</th><td>6</td><td>Mauricio</td><td>Vásquez</td><td>2020-10-05</td><td>2020-10-20</td><td>295</td></tr><tr><th>3</th><td>7</td><td>Cristian Andrés</td><td>Díaz León</td><td>1970-01-01</td><td>1970-01-01</td><td>3</td></tr><tr><th>4</th><td>8</td><td>Carolina</td><td>Ospina Foronda</td><td>1970-01-01</td><td>2020-08-26</td><td>8</td></tr><tr><th>5</th><td>23</td><td>Angy paola</td><td>Vanegas villa</td><td>2020-08-24</td><td>2020-08-26</td><td>45</td></tr><tr><th>6</th><td>27</td><td>Camilo</td><td>Tabares</td><td>2020-08-26</td><td>2020-09-04</td><td>142</td></tr><tr><th>7</th><td>28</td><td>Carlos</td><td>Valencia</td><td>2020-08-24</td><td>2020-10-13</td><td>124</td></tr><tr><th>8</th><td>29</td><td>Carlos Arturo</td><td>Valencia Arango</td><td>2020-08-05</td><td>2020-08-14</td><td>6</td></tr><tr><th>9</th><td>35</td><td>Darley</td><td>Hernández Caro</td><td>1970-01-01</td><td>2020-08-21</td><td>2</td></tr><tr><th>10</th><td>36</td><td>David</td><td>Soto Jiménez</td><td>2020-08-07</td><td>2020-08-13</td><td>32</td></tr><tr><th>11</th><td>50</td><td>Eliana Alexandra</td><td>Correa Vélez</td><td>2020-08-14</td><td>2020-08-18</td><td>42</td></tr><tr><th>12</th><td>53</td><td>Flor Natali</td><td>Hernandez Tobon</td><td>2020-08-27</td><td>2020-09-03</td><td>62</td></tr><tr><th>13</th><td>54</td><td>Francy Andrea</td><td>Rodriguez Piedrahita</td><td>2020-08-14</td><td>2020-08-20</td><td>77</td></tr><tr><th>14</th><td>56</td><td>Gildardo de Jesús</td><td>Giraldo Giraldo</td><td>2020-08-25</td><td>2020-09-02</td><td>18</td></tr><tr><th>15</th><td>57</td><td>Gloria Patricia</td><td>Pino</td><td>2020-08-28</td><td>2020-08-29</td><td>57</td></tr><tr><th>16</th><td>58</td><td>GUSTAVO ADOLFO</td><td>PINEDA ROJAS</td><td>2020-09-24</td><td>2020-10-21</td><td>298</td></tr><tr><th>17</th><td>60</td><td>ISABEL</td><td>VERGARA HERNANDEZ</td><td>2020-08-05</td><td>2020-09-10</td><td>13</td></tr><tr><th>18</th><td>63</td><td>Jean Carlos</td><td>Pinzón</td><td>2020-08-20</td><td>2020-09-05</td><td>105</td></tr><tr><th>19</th><td>65</td><td>Johana</td><td>Salazar</td><td>2020-10-17</td><td>2020-10-17</td><td>361</td></tr><tr><th>20</th><td>69</td><td>José Ángel</td><td>Becerra Hinestroza</td><td>2020-08-24</td><td>2020-09-22</td><td>226</td></tr><tr><th>21</th><td>70</td><td>Jose Fernando</td><td>Sánchez</td><td>2020-08-05</td><td>2020-08-18</td><td>13</td></tr><tr><th>22</th><td>73</td><td>Juan Felipe</td><td>López Sánchez</td><td>2020-08-12</td><td>2020-08-13</td><td>4</td></tr><tr><th>23</th><td>76</td><td>Juliana Isabel</td><td>Lezcano Escudero</td><td>2020-08-20</td><td>2020-08-23</td><td>86</td></tr><tr><th>24</th><td>78</td><td>Kely Melisa</td><td>Higuita Hoyos</td><td>2020-08-27</td><td>2020-10-14</td><td>55</td></tr><tr><th>25</th><td>79</td><td>Leidy Biviana</td><td>Gomez Estrada</td><td>1970-01-01</td><td>2020-08-14</td><td>14</td></tr><tr><th>26</th><td>85</td><td>Madeleen</td><td>Hernández</td><td>2020-08-23</td><td>2020-08-28</td><td>56</td></tr><tr><th>27</th><td>92</td><td>Mauro</td><td>Naranjo Gaibao</td><td>2020-09-09</td><td>2020-09-18</td><td>229</td></tr><tr><th>28</th><td>95</td><td>Natalia</td><td>Ceballos Velasquez</td><td>2020-08-20</td><td>2020-08-27</td><td>77</td></tr><tr><th>29</th><td>99</td><td>Paula Andrea</td><td>Echavarría Durán</td><td>2020-09-05</td><td>2020-09-25</td><td>259</td></tr><tr><th>30</th><td>101</td><td>Robinson</td><td>Álvarez Cano</td><td>1970-01-01</td><td>2020-08-24</td><td>20</td></tr><tr><th>&vellip;</th><td>&vellip;</td><td>&vellip;</td><td>&vellip;</td><td>&vellip;</td><td>&vellip;</td><td>&vellip;</td></tr></tbody></table>",
            "text/latex": "\\begin{tabular}{r|ccccccc}\n\t& USER\\_ID & firstname & lastname & lastlogin & lastaccess & SUM\\_EVENTS & \\\\\n\t\\hline\n\t& Int64 & String & String & String & String & Int64 & \\\\\n\t\\hline\n\t1 & 5 & Luis & Cárdenas & 2020-08-05 & 2020-08-05 & 1 & $\\dots$ \\\\\n\t2 & 6 & Mauricio & Vásquez & 2020-10-05 & 2020-10-20 & 295 & $\\dots$ \\\\\n\t3 & 7 & Cristian Andrés & Díaz León & 1970-01-01 & 1970-01-01 & 3 & $\\dots$ \\\\\n\t4 & 8 & Carolina & Ospina Foronda & 1970-01-01 & 2020-08-26 & 8 & $\\dots$ \\\\\n\t5 & 23 & Angy paola & Vanegas villa & 2020-08-24 & 2020-08-26 & 45 & $\\dots$ \\\\\n\t6 & 27 & Camilo & Tabares & 2020-08-26 & 2020-09-04 & 142 & $\\dots$ \\\\\n\t7 & 28 & Carlos & Valencia & 2020-08-24 & 2020-10-13 & 124 & $\\dots$ \\\\\n\t8 & 29 & Carlos Arturo & Valencia Arango & 2020-08-05 & 2020-08-14 & 6 & $\\dots$ \\\\\n\t9 & 35 & Darley & Hernández Caro & 1970-01-01 & 2020-08-21 & 2 & $\\dots$ \\\\\n\t10 & 36 & David & Soto Jiménez & 2020-08-07 & 2020-08-13 & 32 & $\\dots$ \\\\\n\t11 & 50 & Eliana Alexandra & Correa Vélez & 2020-08-14 & 2020-08-18 & 42 & $\\dots$ \\\\\n\t12 & 53 & Flor Natali & Hernandez Tobon & 2020-08-27 & 2020-09-03 & 62 & $\\dots$ \\\\\n\t13 & 54 & Francy Andrea & Rodriguez Piedrahita & 2020-08-14 & 2020-08-20 & 77 & $\\dots$ \\\\\n\t14 & 56 & Gildardo de Jesús & Giraldo Giraldo & 2020-08-25 & 2020-09-02 & 18 & $\\dots$ \\\\\n\t15 & 57 & Gloria Patricia & Pino & 2020-08-28 & 2020-08-29 & 57 & $\\dots$ \\\\\n\t16 & 58 & GUSTAVO ADOLFO & PINEDA ROJAS & 2020-09-24 & 2020-10-21 & 298 & $\\dots$ \\\\\n\t17 & 60 & ISABEL & VERGARA HERNANDEZ & 2020-08-05 & 2020-09-10 & 13 & $\\dots$ \\\\\n\t18 & 63 & Jean Carlos & Pinzón & 2020-08-20 & 2020-09-05 & 105 & $\\dots$ \\\\\n\t19 & 65 & Johana & Salazar & 2020-10-17 & 2020-10-17 & 361 & $\\dots$ \\\\\n\t20 & 69 & José Ángel & Becerra Hinestroza & 2020-08-24 & 2020-09-22 & 226 & $\\dots$ \\\\\n\t21 & 70 & Jose Fernando & Sánchez & 2020-08-05 & 2020-08-18 & 13 & $\\dots$ \\\\\n\t22 & 73 & Juan Felipe & López Sánchez & 2020-08-12 & 2020-08-13 & 4 & $\\dots$ \\\\\n\t23 & 76 & Juliana Isabel & Lezcano Escudero & 2020-08-20 & 2020-08-23 & 86 & $\\dots$ \\\\\n\t24 & 78 & Kely Melisa & Higuita Hoyos & 2020-08-27 & 2020-10-14 & 55 & $\\dots$ \\\\\n\t25 & 79 & Leidy Biviana & Gomez Estrada & 1970-01-01 & 2020-08-14 & 14 & $\\dots$ \\\\\n\t26 & 85 & Madeleen & Hernández & 2020-08-23 & 2020-08-28 & 56 & $\\dots$ \\\\\n\t27 & 92 & Mauro & Naranjo Gaibao & 2020-09-09 & 2020-09-18 & 229 & $\\dots$ \\\\\n\t28 & 95 & Natalia & Ceballos Velasquez & 2020-08-20 & 2020-08-27 & 77 & $\\dots$ \\\\\n\t29 & 99 & Paula Andrea & Echavarría Durán & 2020-09-05 & 2020-09-25 & 259 & $\\dots$ \\\\\n\t30 & 101 & Robinson & Álvarez Cano & 1970-01-01 & 2020-08-24 & 20 & $\\dots$ \\\\\n\t$\\dots$ & $\\dots$ & $\\dots$ & $\\dots$ & $\\dots$ & $\\dots$ & $\\dots$ &  \\\\\n\\end{tabular}\n"
          },
          "metadata": {}
        }
      ],
      "execution_count": 248,
      "metadata": {
        "collapsed": true,
        "jupyter": {
          "source_hidden": false,
          "outputs_hidden": false
        },
        "nteract": {
          "transient": {
            "deleting": false
          }
        },
        "execution": {
          "iopub.status.busy": "2020-11-27T06:43:02.449Z",
          "iopub.execute_input": "2020-11-27T06:43:02.478Z",
          "iopub.status.idle": "2020-11-27T06:43:02.596Z"
        }
      }
    },
    {
      "cell_type": "code",
      "source": [
        "userLow = @from i in joinUserLowInterations begin\n",
        "            @where i.USER_ID == 53\n",
        "            @select {i.USER_ID, i.firstname, i.lastname, i.SUM_EVENTS, i.lastaccess}\n",
        "            @collect DataFrame\n",
        "       end"
      ],
      "outputs": [
        {
          "output_type": "execute_result",
          "execution_count": 388,
          "data": {
            "text/plain": "1×5 DataFrame\n│ Row │ USER_ID │ firstname   │ lastname        │ SUM_EVENTS │ lastaccess │\n│     │ \u001b[90mInt64\u001b[39m   │ \u001b[90mString\u001b[39m      │ \u001b[90mString\u001b[39m          │ \u001b[90mInt64\u001b[39m      │ \u001b[90mString\u001b[39m     │\n├─────┼─────────┼─────────────┼─────────────────┼────────────┼────────────┤\n│ 1   │ 53      │ Flor Natali │ Hernandez Tobon │ 62         │ 2020-09-03 │",
            "text/html": "<table class=\"data-frame\"><thead><tr><th></th><th>USER_ID</th><th>firstname</th><th>lastname</th><th>SUM_EVENTS</th><th>lastaccess</th></tr><tr><th></th><th>Int64</th><th>String</th><th>String</th><th>Int64</th><th>String</th></tr></thead><tbody><p>1 rows × 5 columns</p><tr><th>1</th><td>53</td><td>Flor Natali</td><td>Hernandez Tobon</td><td>62</td><td>2020-09-03</td></tr></tbody></table>",
            "text/latex": "\\begin{tabular}{r|ccccc}\n\t& USER\\_ID & firstname & lastname & SUM\\_EVENTS & lastaccess\\\\\n\t\\hline\n\t& Int64 & String & String & Int64 & String\\\\\n\t\\hline\n\t1 & 53 & Flor Natali & Hernandez Tobon & 62 & 2020-09-03 \\\\\n\\end{tabular}\n"
          },
          "metadata": {}
        }
      ],
      "execution_count": 388,
      "metadata": {
        "collapsed": true,
        "jupyter": {
          "source_hidden": false,
          "outputs_hidden": false
        },
        "nteract": {
          "transient": {
            "deleting": false
          }
        },
        "execution": {
          "iopub.status.busy": "2020-11-27T07:59:33.091Z",
          "iopub.execute_input": "2020-11-27T07:59:33.138Z",
          "iopub.status.idle": "2020-11-27T07:59:33.310Z"
        }
      }
    },
    {
      "cell_type": "code",
      "source": [
        "userHigh = @from i in joinUserHighInterations begin\n",
        "            @where i.USER_ID == 76\n",
        "            @select {i.USER_ID, i.firstname, i.lastname, i.SUM_EVENTS, i.lastaccess}\n",
        "            @collect DataFrame\n",
        "       end"
      ],
      "outputs": [
        {
          "output_type": "execute_result",
          "execution_count": 386,
          "data": {
            "text/plain": "0×5 DataFrame\n",
            "text/html": "<table class=\"data-frame\"><thead><tr><th></th><th>USER_ID</th><th>firstname</th><th>lastname</th><th>SUM_EVENTS</th><th>lastaccess</th></tr><tr><th></th><th>Int64</th><th>String</th><th>String</th><th>Int64</th><th>String</th></tr></thead><tbody><p>0 rows × 5 columns</p></tbody></table>",
            "text/latex": "\\begin{tabular}{r|ccccc}\n\t& USER\\_ID & firstname & lastname & SUM\\_EVENTS & lastaccess\\\\\n\t\\hline\n\t& Int64 & String & String & Int64 & String\\\\\n\t\\hline\n\\end{tabular}\n"
          },
          "metadata": {}
        }
      ],
      "execution_count": 386,
      "metadata": {
        "collapsed": true,
        "jupyter": {
          "source_hidden": false,
          "outputs_hidden": false
        },
        "nteract": {
          "transient": {
            "deleting": false
          }
        },
        "execution": {
          "iopub.status.busy": "2020-11-27T07:59:15.455Z",
          "iopub.execute_input": "2020-11-27T07:59:15.502Z",
          "iopub.status.idle": "2020-11-27T07:59:15.683Z"
        }
      }
    }
  ],
  "metadata": {
    "kernel_info": {
      "name": "julia-1.4"
    },
    "language_info": {
      "file_extension": ".jl",
      "name": "julia",
      "mimetype": "application/julia",
      "version": "1.4.2"
    },
    "kernelspec": {
      "argv": [
        "/Applications/Julia-1.4.app/Contents/Resources/julia/bin/julia",
        "-i",
        "--startup-file=yes",
        "--color=yes",
        "--project=@.",
        "/Users/johnflorez/.julia/packages/IJulia/tOM8L/src/kernel.jl",
        "{connection_file}"
      ],
      "display_name": "Julia 1.4.2",
      "env": {},
      "interrupt_mode": "signal",
      "language": "julia",
      "name": "julia-1.4"
    },
    "nteract": {
      "version": "0.26.0"
    }
  },
  "nbformat": 4,
  "nbformat_minor": 0
}