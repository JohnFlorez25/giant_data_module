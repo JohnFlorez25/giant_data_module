{
  "cells": [
    {
      "cell_type": "markdown",
      "source": [
        "***\n",
        "\n",
        "<div align=\"center\">\n",
        "  <h3> Desarrollo de un gestor de inteligencia colectiva y un marco de trabajo para el aprendizaje a través de la resolución colaborativa de      problemas en entornos educativos transmediales </h3>\n",
        "  <h4> Reporte técnico de Análisis de Datos. </h4>\n",
        "  <h5> Visualización de los Datos obtenidos en la primera iteración del Gestor de Inteligencia Colectiva GIANT </h5>\n",
        "  <h3> RT - 010 </h3>\n",
        "  <h3> JOHN FABER FLÓREZ VASCO - MÓDULO DE DATOS - GIANT </h3>\n",
        "</div>\n",
        "\n",
        "***"
      ],
      "metadata": {
        "nteract": {
          "transient": {
            "deleting": false
          }
        }
      }
    },
    {
      "cell_type": "markdown",
      "source": [
        "<p style='text-align: justify;'> \n",
        "\n",
        "<div align=\"center\">\n",
        "  <h2> 1. IMPORTANDO PAQUETES Y CONFIGURACIÓN DEL ENTORNO  </h2>\n",
        "</div>\n",
        "\n",
        "</p>"
      ],
      "metadata": {
        "nteract": {
          "transient": {
            "deleting": false
          }
        }
      }
    },
    {
      "cell_type": "code",
      "source": [
        "import Pkg; \n",
        "Pkg.add(\"Pkg\")\n",
        "using Pkg;"
      ],
      "outputs": [
        {
          "output_type": "stream",
          "name": "stderr",
          "text": [
            "\u001b[32m\u001b[1m   Updating\u001b[22m\u001b[39m registry at `~/.julia/registries/General`\n",
            "\u001b[32m\u001b[1m   Updating\u001b[22m\u001b[39m registry at `~/.julia/registries/JuliaComputingRegistry`\n",
            "\u001b[32m\u001b[1m  Resolving\u001b[22m\u001b[39m package versions...\n",
            "\u001b[32m\u001b[1m   Updating\u001b[22m\u001b[39m `~/.julia/environments/v1.4/Project.toml`\n",
            "\u001b[90m [no changes]\u001b[39m\n",
            "\u001b[32m\u001b[1m   Updating\u001b[22m\u001b[39m `~/.julia/environments/v1.4/Manifest.toml`\n",
            "\u001b[90m [no changes]\u001b[39m\n"
          ]
        }
      ],
      "execution_count": 1,
      "metadata": {
        "collapsed": true,
        "jupyter": {
          "source_hidden": false,
          "outputs_hidden": false
        },
        "nteract": {
          "transient": {
            "deleting": false
          }
        },
        "execution": {
          "iopub.status.busy": "2020-10-13T01:11:30.243Z",
          "iopub.execute_input": "2020-10-13T01:11:31.915Z",
          "iopub.status.idle": "2020-10-13T01:11:48.854Z"
        }
      }
    },
    {
      "cell_type": "code",
      "source": [
        "# Cargando los paquetes instalados\n",
        "using DataFrames\n",
        "using CSV\n",
        "using Plots\n",
        "using Statistics\n",
        "using StatsPlots\n",
        "using StatsBase\n",
        "using Lathe\n",
        "using Clustering #Métodos para la agrupación de datos y evaluación de la calidad de la agrupación.\n",
        "using Distances\n",
        "using Dates\n",
        "gr()"
      ],
      "outputs": [
        {
          "output_type": "execute_result",
          "execution_count": 9,
          "data": {
            "text/plain": "Plots.GRBackend()"
          },
          "metadata": {}
        }
      ],
      "execution_count": 9,
      "metadata": {
        "collapsed": true,
        "jupyter": {
          "source_hidden": false,
          "outputs_hidden": false
        },
        "nteract": {
          "transient": {
            "deleting": false
          }
        },
        "execution": {
          "iopub.status.busy": "2020-10-13T01:33:06.138Z",
          "iopub.execute_input": "2020-10-13T01:33:06.153Z",
          "iopub.status.idle": "2020-10-13T01:33:06.172Z"
        }
      }
    },
    {
      "cell_type": "markdown",
      "source": [
        "<div align=\"center\">\n",
        "  <h2> 2. CARGANDO LOS DATOS  </h2>\n",
        "</div>"
      ],
      "metadata": {
        "nteract": {
          "transient": {
            "deleting": false
          }
        }
      }
    },
    {
      "cell_type": "code",
      "source": [
        "# Se van a leer los datos usando un Archivo tipo CSV y lo vamos a convertir en un DataFrame \n",
        "eventsDataFrame = DataFrame(CSV.File(\"events_data_09_10_2020.csv\"))\n",
        "first(eventsDataFrame,5)\n"
      ],
      "outputs": [
        {
          "output_type": "execute_result",
          "execution_count": 122,
          "data": {
            "text/plain": "5×14 DataFrame. Omitted printing of 12 columns\n│ Row │ _id                      │ id    │\n│     │ \u001b[90mString\u001b[39m                   │ \u001b[90mInt64\u001b[39m │\n├─────┼──────────────────────────┼───────┤\n│ 1   │ 5f7fa802d706e40192c3bfbb │ 1     │\n│ 2   │ 5f7fa802d706e40192c3bfbc │ 2     │\n│ 3   │ 5f7fa802d706e40192c3bfbd │ 3     │\n│ 4   │ 5f7fa802d706e40192c3bfbe │ 4     │\n│ 5   │ 5f7fa802d706e40192c3bfbf │ 5     │",
            "text/html": "<table class=\"data-frame\"><thead><tr><th></th><th>_id</th><th>id</th><th>eventname</th></tr><tr><th></th><th>String</th><th>Int64</th><th>String</th></tr></thead><tbody><p>5 rows × 14 columns (omitted printing of 11 columns)</p><tr><th>1</th><td>5f7fa802d706e40192c3bfbb</td><td>1</td><td>\\\\giant\\\\event\\\\extended_challenge_team_viewed</td></tr><tr><th>2</th><td>5f7fa802d706e40192c3bfbc</td><td>2</td><td>\\\\core\\\\event\\\\user_login_failed</td></tr><tr><th>3</th><td>5f7fa802d706e40192c3bfbd</td><td>3</td><td>\\\\core\\\\event\\\\user_loggedin</td></tr><tr><th>4</th><td>5f7fa802d706e40192c3bfbe</td><td>4</td><td>\\\\core\\\\event\\\\dashboard_viewed</td></tr><tr><th>5</th><td>5f7fa802d706e40192c3bfbf</td><td>5</td><td>\\\\core\\\\event\\\\course_viewed</td></tr></tbody></table>",
            "text/latex": "\\begin{tabular}{r|cccc}\n\t& \\_id & id & eventname & \\\\\n\t\\hline\n\t& String & Int64 & String & \\\\\n\t\\hline\n\t1 & 5f7fa802d706e40192c3bfbb & 1 & \\textbackslash{}\\textbackslash{}giant\\textbackslash{}\\textbackslash{}event\\textbackslash{}\\textbackslash{}extended\\_challenge\\_team\\_viewed & $\\dots$ \\\\\n\t2 & 5f7fa802d706e40192c3bfbc & 2 & \\textbackslash{}\\textbackslash{}core\\textbackslash{}\\textbackslash{}event\\textbackslash{}\\textbackslash{}user\\_login\\_failed & $\\dots$ \\\\\n\t3 & 5f7fa802d706e40192c3bfbd & 3 & \\textbackslash{}\\textbackslash{}core\\textbackslash{}\\textbackslash{}event\\textbackslash{}\\textbackslash{}user\\_loggedin & $\\dots$ \\\\\n\t4 & 5f7fa802d706e40192c3bfbe & 4 & \\textbackslash{}\\textbackslash{}core\\textbackslash{}\\textbackslash{}event\\textbackslash{}\\textbackslash{}dashboard\\_viewed & $\\dots$ \\\\\n\t5 & 5f7fa802d706e40192c3bfbf & 5 & \\textbackslash{}\\textbackslash{}core\\textbackslash{}\\textbackslash{}event\\textbackslash{}\\textbackslash{}course\\_viewed & $\\dots$ \\\\\n\\end{tabular}\n"
          },
          "metadata": {}
        }
      ],
      "execution_count": 122,
      "metadata": {
        "collapsed": true,
        "jupyter": {
          "source_hidden": false,
          "outputs_hidden": false
        },
        "nteract": {
          "transient": {
            "deleting": false
          }
        },
        "execution": {
          "iopub.status.busy": "2020-10-13T03:44:18.924Z",
          "iopub.execute_input": "2020-10-13T03:44:18.937Z",
          "iopub.status.idle": "2020-10-13T03:44:18.990Z"
        }
      }
    },
    {
      "cell_type": "code",
      "source": [
        "#Resumen del marco de los datos\n",
        "println(size(eventsDataFrame))"
      ],
      "outputs": [
        {
          "output_type": "stream",
          "name": "stdout",
          "text": [
            "(30020, 14)\n"
          ]
        }
      ],
      "execution_count": 123,
      "metadata": {
        "collapsed": true,
        "jupyter": {
          "source_hidden": false,
          "outputs_hidden": false
        },
        "nteract": {
          "transient": {
            "deleting": false
          }
        },
        "execution": {
          "iopub.status.busy": "2020-10-13T03:44:20.473Z",
          "iopub.execute_input": "2020-10-13T03:44:20.487Z",
          "iopub.status.idle": "2020-10-13T03:44:20.511Z"
        }
      }
    },
    {
      "cell_type": "code",
      "source": [
        "#Observado los nombres de las columnas \n",
        "names(eventsDataFrame)"
      ],
      "outputs": [
        {
          "output_type": "execute_result",
          "execution_count": 124,
          "data": {
            "text/plain": "14-element Array{String,1}:\n \"_id\"\n \"id\"\n \"eventname\"\n \"component\"\n \"action\"\n \"target\"\n \"objecttable\"\n \"objectid\"\n \"crud\"\n \"userid\"\n \"username\"\n \"courseid\"\n \"other\"\n \"timecreated\""
          },
          "metadata": {}
        }
      ],
      "execution_count": 124,
      "metadata": {
        "collapsed": true,
        "jupyter": {
          "source_hidden": false,
          "outputs_hidden": false
        },
        "nteract": {
          "transient": {
            "deleting": false
          }
        },
        "execution": {
          "iopub.status.busy": "2020-10-13T03:44:22.098Z",
          "iopub.execute_input": "2020-10-13T03:44:22.114Z",
          "iopub.status.idle": "2020-10-13T03:44:22.143Z"
        }
      }
    },
    {
      "cell_type": "markdown",
      "source": [
        "<div align=\"center\">\n",
        "  <h2> 3. INGENIERÍA DE CARACTÉRISTICAS  </h2>\n",
        "</div>"
      ],
      "metadata": {
        "nteract": {
          "transient": {
            "deleting": false
          }
        }
      }
    },
    {
      "cell_type": "code",
      "source": [
        "#Convirtiendo variables en tipo String\n",
        "eventsDataFrame[!,[:eventname, :component, :action, :target, :crud]]=convert(Array{String}, eventsDataFrame[!,[:eventname, :component, :action, :target, :crud]])"
      ],
      "outputs": [
        {
          "output_type": "execute_result",
          "execution_count": 125,
          "data": {
            "text/plain": "30020×5 Array{String,2}:\n \"\\\\giant\\\\event\\\\extended_challenge_team_viewed\"  …  \"extended_challenge_team\"  \"r\"\n \"\\\\core\\\\event\\\\user_login_failed\"                   \"user_login\"               \"r\"\n \"\\\\core\\\\event\\\\user_loggedin\"                       \"user\"                     \"r\"\n \"\\\\core\\\\event\\\\dashboard_viewed\"                    \"dashboard\"                \"r\"\n \"\\\\core\\\\event\\\\course_viewed\"                       \"course\"                   \"r\"\n \"\\\\core\\\\event\\\\course_viewed\"                    …  \"course\"                   \"r\"\n \"\\\\core\\\\event\\\\dashboard_viewed\"                    \"dashboard\"                \"r\"\n \"\\\\core\\\\event\\\\dashboard_viewed\"                    \"dashboard\"                \"r\"\n \"\\\\core\\\\event\\\\user_loggedin\"                       \"user\"                     \"r\"\n \"\\\\core\\\\event\\\\dashboard_viewed\"                    \"dashboard\"                \"r\"\n \"\\\\core\\\\event\\\\user_loggedin\"                    …  \"user\"                     \"r\"\n \"\\\\core\\\\event\\\\dashboard_viewed\"                    \"dashboard\"                \"r\"\n \"\\\\core\\\\event\\\\user_profile_viewed\"                 \"user_profile\"             \"r\"\n ⋮                                                 ⋱                             \n \"\\\\mod_scorm\\\\event\\\\course_module_viewed\"           \"course_module\"            \"r\"\n \"\\\\mod_scorm\\\\event\\\\sco_launched\"                   \"sco\"                      \"r\"\n \"\\\\core\\\\event\\\\dashboard_viewed\"                 …  \"dashboard\"                \"r\"\n \"\\\\core\\\\event\\\\course_viewed\"                       \"course\"                   \"r\"\n \"\\\\core\\\\event\\\\course_viewed\"                       \"course\"                   \"r\"\n \"\\\\mod_scorm\\\\event\\\\course_module_viewed\"           \"course_module\"            \"r\"\n \"\\\\mod_scorm\\\\event\\\\sco_launched\"                   \"sco\"                      \"r\"\n \"\\\\core\\\\event\\\\dashboard_viewed\"                 …  \"dashboard\"                \"r\"\n \"\\\\core\\\\event\\\\course_viewed\"                       \"course\"                   \"r\"\n \"\\\\core\\\\event\\\\course_viewed\"                       \"course\"                   \"r\"\n \"\\\\mod_scorm\\\\event\\\\course_module_viewed\"           \"course_module\"            \"r\"\n \"\\\\mod_scorm\\\\event\\\\sco_launched\"                   \"sco\"                      \"r\""
          },
          "metadata": {}
        }
      ],
      "execution_count": 125,
      "metadata": {
        "collapsed": true,
        "jupyter": {
          "source_hidden": false,
          "outputs_hidden": false
        },
        "nteract": {
          "transient": {
            "deleting": false
          }
        },
        "execution": {
          "iopub.status.busy": "2020-10-13T03:44:24.522Z",
          "iopub.execute_input": "2020-10-13T03:44:24.534Z",
          "iopub.status.idle": "2020-10-13T03:44:24.601Z"
        }
      }
    },
    {
      "cell_type": "code",
      "source": [
        "#Convirtiendo Timestap de la variable timecreated a formato de fecha\n",
        "eventsDataFrame[!,:timecreated] = map((x) -> unix2datetime(x), eventsDataFrame[!,:timecreated]);"
      ],
      "outputs": [],
      "execution_count": 126,
      "metadata": {
        "collapsed": true,
        "jupyter": {
          "source_hidden": false,
          "outputs_hidden": false
        },
        "nteract": {
          "transient": {
            "deleting": false
          }
        },
        "execution": {
          "iopub.status.busy": "2020-10-13T03:44:28.165Z",
          "iopub.execute_input": "2020-10-13T03:44:28.176Z",
          "iopub.status.idle": "2020-10-13T03:44:28.202Z"
        }
      }
    },
    {
      "cell_type": "code",
      "source": [
        "eventsDataFrame[!,[:timecreated]]"
      ],
      "outputs": [
        {
          "output_type": "execute_result",
          "execution_count": 127,
          "data": {
            "text/plain": "30020×1 DataFrame\n│ Row   │ timecreated         │\n│       │ \u001b[90mDateTime\u001b[39m            │\n├───────┼─────────────────────┤\n│ 1     │ 2020-08-12T19:16:16 │\n│ 2     │ 2020-08-12T20:19:45 │\n│ 3     │ 2020-08-12T20:20:23 │\n│ 4     │ 2020-08-12T20:20:23 │\n│ 5     │ 2020-08-12T20:20:27 │\n│ 6     │ 2020-08-12T20:20:30 │\n│ 7     │ 2020-08-12T20:22:53 │\n│ 8     │ 2020-08-12T20:24:24 │\n│ 9     │ 2020-08-12T20:39:07 │\n│ 10    │ 2020-08-12T20:39:07 │\n⋮\n│ 30010 │ 2020-10-08T23:26:54 │\n│ 30011 │ 2020-10-08T23:38:02 │\n│ 30012 │ 2020-10-08T23:38:20 │\n│ 30013 │ 2020-10-08T23:38:26 │\n│ 30014 │ 2020-10-08T23:38:28 │\n│ 30015 │ 2020-10-08T23:38:32 │\n│ 30016 │ 2020-10-08T23:39:09 │\n│ 30017 │ 2020-10-08T23:39:11 │\n│ 30018 │ 2020-10-08T23:39:24 │\n│ 30019 │ 2020-10-08T23:39:33 │\n│ 30020 │ 2020-10-08T23:39:43 │",
            "text/html": "<table class=\"data-frame\"><thead><tr><th></th><th>timecreated</th></tr><tr><th></th><th>DateTime</th></tr></thead><tbody><p>30,020 rows × 1 columns</p><tr><th>1</th><td>2020-08-12T19:16:16</td></tr><tr><th>2</th><td>2020-08-12T20:19:45</td></tr><tr><th>3</th><td>2020-08-12T20:20:23</td></tr><tr><th>4</th><td>2020-08-12T20:20:23</td></tr><tr><th>5</th><td>2020-08-12T20:20:27</td></tr><tr><th>6</th><td>2020-08-12T20:20:30</td></tr><tr><th>7</th><td>2020-08-12T20:22:53</td></tr><tr><th>8</th><td>2020-08-12T20:24:24</td></tr><tr><th>9</th><td>2020-08-12T20:39:07</td></tr><tr><th>10</th><td>2020-08-12T20:39:07</td></tr><tr><th>11</th><td>2020-08-12T20:39:19</td></tr><tr><th>12</th><td>2020-08-12T20:39:20</td></tr><tr><th>13</th><td>2020-08-12T20:39:21</td></tr><tr><th>14</th><td>2020-08-12T20:39:41</td></tr><tr><th>15</th><td>2020-08-12T20:39:52</td></tr><tr><th>16</th><td>2020-08-12T20:39:57</td></tr><tr><th>17</th><td>2020-08-12T20:39:57</td></tr><tr><th>18</th><td>2020-08-12T20:39:59</td></tr><tr><th>19</th><td>2020-08-12T20:40:12</td></tr><tr><th>20</th><td>2020-08-12T20:40:12</td></tr><tr><th>21</th><td>2020-08-12T20:40:21</td></tr><tr><th>22</th><td>2020-08-12T20:40:26</td></tr><tr><th>23</th><td>2020-08-12T20:40:31</td></tr><tr><th>24</th><td>2020-08-12T20:40:32</td></tr><tr><th>25</th><td>2020-08-12T20:40:38</td></tr><tr><th>26</th><td>2020-08-12T20:40:44</td></tr><tr><th>27</th><td>2020-08-12T20:40:47</td></tr><tr><th>28</th><td>2020-08-12T20:40:47</td></tr><tr><th>29</th><td>2020-08-12T20:40:48</td></tr><tr><th>30</th><td>2020-08-12T20:42:48</td></tr><tr><th>&vellip;</th><td>&vellip;</td></tr></tbody></table>",
            "text/latex": "\\begin{tabular}{r|c}\n\t& timecreated\\\\\n\t\\hline\n\t& DateTime\\\\\n\t\\hline\n\t1 & 2020-08-12T19:16:16 \\\\\n\t2 & 2020-08-12T20:19:45 \\\\\n\t3 & 2020-08-12T20:20:23 \\\\\n\t4 & 2020-08-12T20:20:23 \\\\\n\t5 & 2020-08-12T20:20:27 \\\\\n\t6 & 2020-08-12T20:20:30 \\\\\n\t7 & 2020-08-12T20:22:53 \\\\\n\t8 & 2020-08-12T20:24:24 \\\\\n\t9 & 2020-08-12T20:39:07 \\\\\n\t10 & 2020-08-12T20:39:07 \\\\\n\t11 & 2020-08-12T20:39:19 \\\\\n\t12 & 2020-08-12T20:39:20 \\\\\n\t13 & 2020-08-12T20:39:21 \\\\\n\t14 & 2020-08-12T20:39:41 \\\\\n\t15 & 2020-08-12T20:39:52 \\\\\n\t16 & 2020-08-12T20:39:57 \\\\\n\t17 & 2020-08-12T20:39:57 \\\\\n\t18 & 2020-08-12T20:39:59 \\\\\n\t19 & 2020-08-12T20:40:12 \\\\\n\t20 & 2020-08-12T20:40:12 \\\\\n\t21 & 2020-08-12T20:40:21 \\\\\n\t22 & 2020-08-12T20:40:26 \\\\\n\t23 & 2020-08-12T20:40:31 \\\\\n\t24 & 2020-08-12T20:40:32 \\\\\n\t25 & 2020-08-12T20:40:38 \\\\\n\t26 & 2020-08-12T20:40:44 \\\\\n\t27 & 2020-08-12T20:40:47 \\\\\n\t28 & 2020-08-12T20:40:47 \\\\\n\t29 & 2020-08-12T20:40:48 \\\\\n\t30 & 2020-08-12T20:42:48 \\\\\n\t$\\dots$ & $\\dots$ \\\\\n\\end{tabular}\n"
          },
          "metadata": {}
        }
      ],
      "execution_count": 127,
      "metadata": {
        "collapsed": true,
        "jupyter": {
          "source_hidden": false,
          "outputs_hidden": false
        },
        "nteract": {
          "transient": {
            "deleting": false
          }
        },
        "execution": {
          "iopub.status.busy": "2020-10-13T03:44:29.495Z",
          "iopub.execute_input": "2020-10-13T03:44:29.505Z",
          "iopub.status.idle": "2020-10-13T03:44:29.530Z"
        }
      }
    },
    {
      "cell_type": "code",
      "source": [
        "#Convirtiendo DataTime to String \n",
        "eventsDataFrame[!,:timecreated] = map((x) -> Dates.format(x, \"yyyy-mm-dd\") , eventsDataFrame[!,:timecreated])"
      ],
      "outputs": [
        {
          "output_type": "execute_result",
          "execution_count": 128,
          "data": {
            "text/plain": "30020-element Array{String,1}:\n \"2020-08-12\"\n \"2020-08-12\"\n \"2020-08-12\"\n \"2020-08-12\"\n \"2020-08-12\"\n \"2020-08-12\"\n \"2020-08-12\"\n \"2020-08-12\"\n \"2020-08-12\"\n \"2020-08-12\"\n \"2020-08-12\"\n \"2020-08-12\"\n \"2020-08-12\"\n ⋮\n \"2020-10-08\"\n \"2020-10-08\"\n \"2020-10-08\"\n \"2020-10-08\"\n \"2020-10-08\"\n \"2020-10-08\"\n \"2020-10-08\"\n \"2020-10-08\"\n \"2020-10-08\"\n \"2020-10-08\"\n \"2020-10-08\"\n \"2020-10-08\""
          },
          "metadata": {}
        }
      ],
      "execution_count": 128,
      "metadata": {
        "collapsed": true,
        "jupyter": {
          "source_hidden": false,
          "outputs_hidden": false
        },
        "nteract": {
          "transient": {
            "deleting": false
          }
        },
        "execution": {
          "iopub.status.busy": "2020-10-13T03:44:31.504Z",
          "iopub.execute_input": "2020-10-13T03:44:31.516Z",
          "iopub.status.idle": "2020-10-13T03:44:32.242Z"
        }
      }
    },
    {
      "cell_type": "code",
      "source": [
        "# Agregando las columnas de año, mes y día a nuestro set de datos\n",
        "eventsDataFrame=hcat(eventsDataFrame, DataFrame(reduce(vcat, permutedims.(split.(eventsDataFrame[!,:timecreated], '-'))), [:year, :month, :day]))"
      ],
      "outputs": [
        {
          "output_type": "execute_result",
          "execution_count": 129,
          "data": {
            "text/plain": "30020×17 DataFrame. Omitted printing of 15 columns\n│ Row   │ _id                      │ id    │\n│       │ \u001b[90mString\u001b[39m                   │ \u001b[90mInt64\u001b[39m │\n├───────┼──────────────────────────┼───────┤\n│ 1     │ 5f7fa802d706e40192c3bfbb │ 1     │\n│ 2     │ 5f7fa802d706e40192c3bfbc │ 2     │\n│ 3     │ 5f7fa802d706e40192c3bfbd │ 3     │\n│ 4     │ 5f7fa802d706e40192c3bfbe │ 4     │\n│ 5     │ 5f7fa802d706e40192c3bfbf │ 5     │\n│ 6     │ 5f7fa802d706e40192c3bfc0 │ 6     │\n│ 7     │ 5f7fa802d706e40192c3bfc1 │ 7     │\n│ 8     │ 5f7fa802d706e40192c3bfc2 │ 8     │\n│ 9     │ 5f7fa802d706e40192c3bfc3 │ 9     │\n│ 10    │ 5f7fa802d706e40192c3bfc4 │ 10    │\n⋮\n│ 30010 │ 5f7fa80ad706e40192c434f4 │ 30010 │\n│ 30011 │ 5f7fa80ad706e40192c434f5 │ 30011 │\n│ 30012 │ 5f7fa80ad706e40192c434f6 │ 30012 │\n│ 30013 │ 5f7fa80ad706e40192c434f7 │ 30013 │\n│ 30014 │ 5f7fa80ad706e40192c434f8 │ 30014 │\n│ 30015 │ 5f7fa80ad706e40192c434f9 │ 30015 │\n│ 30016 │ 5f7fa80ad706e40192c434fa │ 30016 │\n│ 30017 │ 5f7fa80ad706e40192c434fb │ 30017 │\n│ 30018 │ 5f7fa80ad706e40192c434fc │ 30018 │\n│ 30019 │ 5f7fa80ad706e40192c434fd │ 30019 │\n│ 30020 │ 5f7fa80ad706e40192c434fe │ 30020 │",
            "text/html": "<table class=\"data-frame\"><thead><tr><th></th><th>_id</th><th>id</th><th>eventname</th></tr><tr><th></th><th>String</th><th>Int64</th><th>String</th></tr></thead><tbody><p>30,020 rows × 17 columns (omitted printing of 14 columns)</p><tr><th>1</th><td>5f7fa802d706e40192c3bfbb</td><td>1</td><td>\\\\giant\\\\event\\\\extended_challenge_team_viewed</td></tr><tr><th>2</th><td>5f7fa802d706e40192c3bfbc</td><td>2</td><td>\\\\core\\\\event\\\\user_login_failed</td></tr><tr><th>3</th><td>5f7fa802d706e40192c3bfbd</td><td>3</td><td>\\\\core\\\\event\\\\user_loggedin</td></tr><tr><th>4</th><td>5f7fa802d706e40192c3bfbe</td><td>4</td><td>\\\\core\\\\event\\\\dashboard_viewed</td></tr><tr><th>5</th><td>5f7fa802d706e40192c3bfbf</td><td>5</td><td>\\\\core\\\\event\\\\course_viewed</td></tr><tr><th>6</th><td>5f7fa802d706e40192c3bfc0</td><td>6</td><td>\\\\core\\\\event\\\\course_viewed</td></tr><tr><th>7</th><td>5f7fa802d706e40192c3bfc1</td><td>7</td><td>\\\\core\\\\event\\\\dashboard_viewed</td></tr><tr><th>8</th><td>5f7fa802d706e40192c3bfc2</td><td>8</td><td>\\\\core\\\\event\\\\dashboard_viewed</td></tr><tr><th>9</th><td>5f7fa802d706e40192c3bfc3</td><td>9</td><td>\\\\core\\\\event\\\\user_loggedin</td></tr><tr><th>10</th><td>5f7fa802d706e40192c3bfc4</td><td>10</td><td>\\\\core\\\\event\\\\dashboard_viewed</td></tr><tr><th>11</th><td>5f7fa802d706e40192c3bfc5</td><td>11</td><td>\\\\core\\\\event\\\\user_loggedin</td></tr><tr><th>12</th><td>5f7fa802d706e40192c3bfc6</td><td>12</td><td>\\\\core\\\\event\\\\dashboard_viewed</td></tr><tr><th>13</th><td>5f7fa802d706e40192c3bfc7</td><td>13</td><td>\\\\core\\\\event\\\\user_profile_viewed</td></tr><tr><th>14</th><td>5f7fa802d706e40192c3bfc8</td><td>14</td><td>\\\\core\\\\event\\\\course_viewed</td></tr><tr><th>15</th><td>5f7fa802d706e40192c3bfc9</td><td>15</td><td>\\\\core\\\\event\\\\course_viewed</td></tr><tr><th>16</th><td>5f7fa802d706e40192c3bfca</td><td>16</td><td>\\\\mod_scorm\\\\event\\\\course_module_viewed</td></tr><tr><th>17</th><td>5f7fa802d706e40192c3bfcb</td><td>17</td><td>\\\\mod_scorm\\\\event\\\\course_module_viewed</td></tr><tr><th>18</th><td>5f7fa802d706e40192c3bfcc</td><td>18</td><td>\\\\mod_scorm\\\\event\\\\sco_launched</td></tr><tr><th>19</th><td>5f7fa802d706e40192c3bfcd</td><td>19</td><td>\\\\core\\\\event\\\\user_loggedin</td></tr><tr><th>20</th><td>5f7fa802d706e40192c3bfce</td><td>20</td><td>\\\\core\\\\event\\\\dashboard_viewed</td></tr><tr><th>21</th><td>5f7fa802d706e40192c3bfcf</td><td>21</td><td>\\\\core\\\\event\\\\course_viewed</td></tr><tr><th>22</th><td>5f7fa802d706e40192c3bfd0</td><td>22</td><td>\\\\core\\\\event\\\\dashboard_viewed</td></tr><tr><th>23</th><td>5f7fa802d706e40192c3bfd1</td><td>23</td><td>\\\\core\\\\event\\\\course_viewed</td></tr><tr><th>24</th><td>5f7fa802d706e40192c3bfd2</td><td>24</td><td>\\\\core\\\\event\\\\course_viewed</td></tr><tr><th>25</th><td>5f7fa802d706e40192c3bfd3</td><td>25</td><td>\\\\core\\\\event\\\\course_viewed</td></tr><tr><th>26</th><td>5f7fa802d706e40192c3bfd4</td><td>26</td><td>\\\\core\\\\event\\\\course_viewed</td></tr><tr><th>27</th><td>5f7fa802d706e40192c3bfd5</td><td>27</td><td>\\\\mod_scorm\\\\event\\\\course_module_viewed</td></tr><tr><th>28</th><td>5f7fa802d706e40192c3bfd6</td><td>28</td><td>\\\\mod_scorm\\\\event\\\\course_module_viewed</td></tr><tr><th>29</th><td>5f7fa802d706e40192c3bfd7</td><td>29</td><td>\\\\mod_scorm\\\\event\\\\sco_launched</td></tr><tr><th>30</th><td>5f7fa802d706e40192c3bfd8</td><td>30</td><td>\\\\core\\\\event\\\\dashboard_viewed</td></tr><tr><th>&vellip;</th><td>&vellip;</td><td>&vellip;</td><td>&vellip;</td></tr></tbody></table>",
            "text/latex": "\\begin{tabular}{r|cccc}\n\t& \\_id & id & eventname & \\\\\n\t\\hline\n\t& String & Int64 & String & \\\\\n\t\\hline\n\t1 & 5f7fa802d706e40192c3bfbb & 1 & \\textbackslash{}\\textbackslash{}giant\\textbackslash{}\\textbackslash{}event\\textbackslash{}\\textbackslash{}extended\\_challenge\\_team\\_viewed & $\\dots$ \\\\\n\t2 & 5f7fa802d706e40192c3bfbc & 2 & \\textbackslash{}\\textbackslash{}core\\textbackslash{}\\textbackslash{}event\\textbackslash{}\\textbackslash{}user\\_login\\_failed & $\\dots$ \\\\\n\t3 & 5f7fa802d706e40192c3bfbd & 3 & \\textbackslash{}\\textbackslash{}core\\textbackslash{}\\textbackslash{}event\\textbackslash{}\\textbackslash{}user\\_loggedin & $\\dots$ \\\\\n\t4 & 5f7fa802d706e40192c3bfbe & 4 & \\textbackslash{}\\textbackslash{}core\\textbackslash{}\\textbackslash{}event\\textbackslash{}\\textbackslash{}dashboard\\_viewed & $\\dots$ \\\\\n\t5 & 5f7fa802d706e40192c3bfbf & 5 & \\textbackslash{}\\textbackslash{}core\\textbackslash{}\\textbackslash{}event\\textbackslash{}\\textbackslash{}course\\_viewed & $\\dots$ \\\\\n\t6 & 5f7fa802d706e40192c3bfc0 & 6 & \\textbackslash{}\\textbackslash{}core\\textbackslash{}\\textbackslash{}event\\textbackslash{}\\textbackslash{}course\\_viewed & $\\dots$ \\\\\n\t7 & 5f7fa802d706e40192c3bfc1 & 7 & \\textbackslash{}\\textbackslash{}core\\textbackslash{}\\textbackslash{}event\\textbackslash{}\\textbackslash{}dashboard\\_viewed & $\\dots$ \\\\\n\t8 & 5f7fa802d706e40192c3bfc2 & 8 & \\textbackslash{}\\textbackslash{}core\\textbackslash{}\\textbackslash{}event\\textbackslash{}\\textbackslash{}dashboard\\_viewed & $\\dots$ \\\\\n\t9 & 5f7fa802d706e40192c3bfc3 & 9 & \\textbackslash{}\\textbackslash{}core\\textbackslash{}\\textbackslash{}event\\textbackslash{}\\textbackslash{}user\\_loggedin & $\\dots$ \\\\\n\t10 & 5f7fa802d706e40192c3bfc4 & 10 & \\textbackslash{}\\textbackslash{}core\\textbackslash{}\\textbackslash{}event\\textbackslash{}\\textbackslash{}dashboard\\_viewed & $\\dots$ \\\\\n\t11 & 5f7fa802d706e40192c3bfc5 & 11 & \\textbackslash{}\\textbackslash{}core\\textbackslash{}\\textbackslash{}event\\textbackslash{}\\textbackslash{}user\\_loggedin & $\\dots$ \\\\\n\t12 & 5f7fa802d706e40192c3bfc6 & 12 & \\textbackslash{}\\textbackslash{}core\\textbackslash{}\\textbackslash{}event\\textbackslash{}\\textbackslash{}dashboard\\_viewed & $\\dots$ \\\\\n\t13 & 5f7fa802d706e40192c3bfc7 & 13 & \\textbackslash{}\\textbackslash{}core\\textbackslash{}\\textbackslash{}event\\textbackslash{}\\textbackslash{}user\\_profile\\_viewed & $\\dots$ \\\\\n\t14 & 5f7fa802d706e40192c3bfc8 & 14 & \\textbackslash{}\\textbackslash{}core\\textbackslash{}\\textbackslash{}event\\textbackslash{}\\textbackslash{}course\\_viewed & $\\dots$ \\\\\n\t15 & 5f7fa802d706e40192c3bfc9 & 15 & \\textbackslash{}\\textbackslash{}core\\textbackslash{}\\textbackslash{}event\\textbackslash{}\\textbackslash{}course\\_viewed & $\\dots$ \\\\\n\t16 & 5f7fa802d706e40192c3bfca & 16 & \\textbackslash{}\\textbackslash{}mod\\_scorm\\textbackslash{}\\textbackslash{}event\\textbackslash{}\\textbackslash{}course\\_module\\_viewed & $\\dots$ \\\\\n\t17 & 5f7fa802d706e40192c3bfcb & 17 & \\textbackslash{}\\textbackslash{}mod\\_scorm\\textbackslash{}\\textbackslash{}event\\textbackslash{}\\textbackslash{}course\\_module\\_viewed & $\\dots$ \\\\\n\t18 & 5f7fa802d706e40192c3bfcc & 18 & \\textbackslash{}\\textbackslash{}mod\\_scorm\\textbackslash{}\\textbackslash{}event\\textbackslash{}\\textbackslash{}sco\\_launched & $\\dots$ \\\\\n\t19 & 5f7fa802d706e40192c3bfcd & 19 & \\textbackslash{}\\textbackslash{}core\\textbackslash{}\\textbackslash{}event\\textbackslash{}\\textbackslash{}user\\_loggedin & $\\dots$ \\\\\n\t20 & 5f7fa802d706e40192c3bfce & 20 & \\textbackslash{}\\textbackslash{}core\\textbackslash{}\\textbackslash{}event\\textbackslash{}\\textbackslash{}dashboard\\_viewed & $\\dots$ \\\\\n\t21 & 5f7fa802d706e40192c3bfcf & 21 & \\textbackslash{}\\textbackslash{}core\\textbackslash{}\\textbackslash{}event\\textbackslash{}\\textbackslash{}course\\_viewed & $\\dots$ \\\\\n\t22 & 5f7fa802d706e40192c3bfd0 & 22 & \\textbackslash{}\\textbackslash{}core\\textbackslash{}\\textbackslash{}event\\textbackslash{}\\textbackslash{}dashboard\\_viewed & $\\dots$ \\\\\n\t23 & 5f7fa802d706e40192c3bfd1 & 23 & \\textbackslash{}\\textbackslash{}core\\textbackslash{}\\textbackslash{}event\\textbackslash{}\\textbackslash{}course\\_viewed & $\\dots$ \\\\\n\t24 & 5f7fa802d706e40192c3bfd2 & 24 & \\textbackslash{}\\textbackslash{}core\\textbackslash{}\\textbackslash{}event\\textbackslash{}\\textbackslash{}course\\_viewed & $\\dots$ \\\\\n\t25 & 5f7fa802d706e40192c3bfd3 & 25 & \\textbackslash{}\\textbackslash{}core\\textbackslash{}\\textbackslash{}event\\textbackslash{}\\textbackslash{}course\\_viewed & $\\dots$ \\\\\n\t26 & 5f7fa802d706e40192c3bfd4 & 26 & \\textbackslash{}\\textbackslash{}core\\textbackslash{}\\textbackslash{}event\\textbackslash{}\\textbackslash{}course\\_viewed & $\\dots$ \\\\\n\t27 & 5f7fa802d706e40192c3bfd5 & 27 & \\textbackslash{}\\textbackslash{}mod\\_scorm\\textbackslash{}\\textbackslash{}event\\textbackslash{}\\textbackslash{}course\\_module\\_viewed & $\\dots$ \\\\\n\t28 & 5f7fa802d706e40192c3bfd6 & 28 & \\textbackslash{}\\textbackslash{}mod\\_scorm\\textbackslash{}\\textbackslash{}event\\textbackslash{}\\textbackslash{}course\\_module\\_viewed & $\\dots$ \\\\\n\t29 & 5f7fa802d706e40192c3bfd7 & 29 & \\textbackslash{}\\textbackslash{}mod\\_scorm\\textbackslash{}\\textbackslash{}event\\textbackslash{}\\textbackslash{}sco\\_launched & $\\dots$ \\\\\n\t30 & 5f7fa802d706e40192c3bfd8 & 30 & \\textbackslash{}\\textbackslash{}core\\textbackslash{}\\textbackslash{}event\\textbackslash{}\\textbackslash{}dashboard\\_viewed & $\\dots$ \\\\\n\t$\\dots$ & $\\dots$ & $\\dots$ & $\\dots$ &  \\\\\n\\end{tabular}\n"
          },
          "metadata": {}
        }
      ],
      "execution_count": 129,
      "metadata": {
        "collapsed": true,
        "jupyter": {
          "source_hidden": false,
          "outputs_hidden": false
        },
        "nteract": {
          "transient": {
            "deleting": false
          }
        },
        "execution": {
          "iopub.status.busy": "2020-10-13T03:44:35.054Z",
          "iopub.execute_input": "2020-10-13T03:44:35.069Z",
          "iopub.status.idle": "2020-10-13T03:44:35.117Z"
        }
      }
    },
    {
      "cell_type": "code",
      "source": [
        "names(eventsDataFrame)"
      ],
      "outputs": [
        {
          "output_type": "execute_result",
          "execution_count": 130,
          "data": {
            "text/plain": "17-element Array{String,1}:\n \"_id\"\n \"id\"\n \"eventname\"\n \"component\"\n \"action\"\n \"target\"\n \"objecttable\"\n \"objectid\"\n \"crud\"\n \"userid\"\n \"username\"\n \"courseid\"\n \"other\"\n \"timecreated\"\n \"year\"\n \"month\"\n \"day\""
          },
          "metadata": {}
        }
      ],
      "execution_count": 130,
      "metadata": {
        "collapsed": true,
        "jupyter": {
          "source_hidden": false,
          "outputs_hidden": false
        },
        "nteract": {
          "transient": {
            "deleting": false
          }
        },
        "execution": {
          "iopub.status.busy": "2020-10-13T03:44:37.953Z",
          "iopub.execute_input": "2020-10-13T03:44:37.965Z",
          "iopub.status.idle": "2020-10-13T03:44:37.996Z"
        }
      }
    },
    {
      "cell_type": "code",
      "source": [
        "# Creando nuevo DataFrame para empezar a generar piezas de visualización de lo que está sucediendo en el gestor\n",
        "featureDataFrame=eventsDataFrame[!,[:userid, :component, :action, :target, :year, :month, :day]]"
      ],
      "outputs": [
        {
          "output_type": "execute_result",
          "execution_count": 131,
          "data": {
            "text/plain": "30020×7 DataFrame. Omitted printing of 2 columns\n│ Row   │ userid │ component │ action   │ target                  │ year     │\n│       │ \u001b[90mInt64\u001b[39m  │ \u001b[90mString\u001b[39m    │ \u001b[90mString\u001b[39m   │ \u001b[90mString\u001b[39m                  │ \u001b[90mSubStri…\u001b[39m │\n├───────┼────────┼───────────┼──────────┼─────────────────────────┼──────────┤\n│ 1     │ 78     │ giant     │ viewed   │ extended_challenge_team │ 2020     │\n│ 2     │ 141    │ core      │ failed   │ user_login              │ 2020     │\n│ 3     │ 141    │ core      │ loggedin │ user                    │ 2020     │\n│ 4     │ 141    │ core      │ viewed   │ dashboard               │ 2020     │\n│ 5     │ 141    │ core      │ viewed   │ course                  │ 2020     │\n│ 6     │ 141    │ core      │ viewed   │ course                  │ 2020     │\n│ 7     │ 141    │ core      │ viewed   │ dashboard               │ 2020     │\n│ 8     │ 141    │ core      │ viewed   │ dashboard               │ 2020     │\n│ 9     │ 48     │ core      │ loggedin │ user                    │ 2020     │\n│ 10    │ 48     │ core      │ viewed   │ dashboard               │ 2020     │\n⋮\n│ 30010 │ 41     │ mod_scorm │ launched │ sco                     │ 2020     │\n│ 30011 │ 10     │ core      │ viewed   │ dashboard               │ 2020     │\n│ 30012 │ 10     │ core      │ viewed   │ course                  │ 2020     │\n│ 30013 │ 10     │ core      │ viewed   │ course                  │ 2020     │\n│ 30014 │ 10     │ mod_scorm │ viewed   │ course_module           │ 2020     │\n│ 30015 │ 10     │ mod_scorm │ launched │ sco                     │ 2020     │\n│ 30016 │ 10     │ core      │ viewed   │ dashboard               │ 2020     │\n│ 30017 │ 10     │ core      │ viewed   │ course                  │ 2020     │\n│ 30018 │ 10     │ core      │ viewed   │ course                  │ 2020     │\n│ 30019 │ 10     │ mod_scorm │ viewed   │ course_module           │ 2020     │\n│ 30020 │ 10     │ mod_scorm │ launched │ sco                     │ 2020     │",
            "text/html": "<table class=\"data-frame\"><thead><tr><th></th><th>userid</th><th>component</th><th>action</th><th>target</th><th>year</th><th>month</th><th>day</th></tr><tr><th></th><th>Int64</th><th>String</th><th>String</th><th>String</th><th>SubStri…</th><th>SubStri…</th><th>SubStri…</th></tr></thead><tbody><p>30,020 rows × 7 columns</p><tr><th>1</th><td>78</td><td>giant</td><td>viewed</td><td>extended_challenge_team</td><td>2020</td><td>08</td><td>12</td></tr><tr><th>2</th><td>141</td><td>core</td><td>failed</td><td>user_login</td><td>2020</td><td>08</td><td>12</td></tr><tr><th>3</th><td>141</td><td>core</td><td>loggedin</td><td>user</td><td>2020</td><td>08</td><td>12</td></tr><tr><th>4</th><td>141</td><td>core</td><td>viewed</td><td>dashboard</td><td>2020</td><td>08</td><td>12</td></tr><tr><th>5</th><td>141</td><td>core</td><td>viewed</td><td>course</td><td>2020</td><td>08</td><td>12</td></tr><tr><th>6</th><td>141</td><td>core</td><td>viewed</td><td>course</td><td>2020</td><td>08</td><td>12</td></tr><tr><th>7</th><td>141</td><td>core</td><td>viewed</td><td>dashboard</td><td>2020</td><td>08</td><td>12</td></tr><tr><th>8</th><td>141</td><td>core</td><td>viewed</td><td>dashboard</td><td>2020</td><td>08</td><td>12</td></tr><tr><th>9</th><td>48</td><td>core</td><td>loggedin</td><td>user</td><td>2020</td><td>08</td><td>12</td></tr><tr><th>10</th><td>48</td><td>core</td><td>viewed</td><td>dashboard</td><td>2020</td><td>08</td><td>12</td></tr><tr><th>11</th><td>139</td><td>core</td><td>loggedin</td><td>user</td><td>2020</td><td>08</td><td>12</td></tr><tr><th>12</th><td>139</td><td>core</td><td>viewed</td><td>dashboard</td><td>2020</td><td>08</td><td>12</td></tr><tr><th>13</th><td>48</td><td>core</td><td>viewed</td><td>user_profile</td><td>2020</td><td>08</td><td>12</td></tr><tr><th>14</th><td>139</td><td>core</td><td>viewed</td><td>course</td><td>2020</td><td>08</td><td>12</td></tr><tr><th>15</th><td>139</td><td>core</td><td>viewed</td><td>course</td><td>2020</td><td>08</td><td>12</td></tr><tr><th>16</th><td>139</td><td>mod_scorm</td><td>viewed</td><td>course_module</td><td>2020</td><td>08</td><td>12</td></tr><tr><th>17</th><td>139</td><td>mod_scorm</td><td>viewed</td><td>course_module</td><td>2020</td><td>08</td><td>12</td></tr><tr><th>18</th><td>139</td><td>mod_scorm</td><td>launched</td><td>sco</td><td>2020</td><td>08</td><td>12</td></tr><tr><th>19</th><td>63</td><td>core</td><td>loggedin</td><td>user</td><td>2020</td><td>08</td><td>12</td></tr><tr><th>20</th><td>63</td><td>core</td><td>viewed</td><td>dashboard</td><td>2020</td><td>08</td><td>12</td></tr><tr><th>21</th><td>63</td><td>core</td><td>viewed</td><td>course</td><td>2020</td><td>08</td><td>12</td></tr><tr><th>22</th><td>141</td><td>core</td><td>viewed</td><td>dashboard</td><td>2020</td><td>08</td><td>12</td></tr><tr><th>23</th><td>141</td><td>core</td><td>viewed</td><td>course</td><td>2020</td><td>08</td><td>12</td></tr><tr><th>24</th><td>141</td><td>core</td><td>viewed</td><td>course</td><td>2020</td><td>08</td><td>12</td></tr><tr><th>25</th><td>141</td><td>core</td><td>viewed</td><td>course</td><td>2020</td><td>08</td><td>12</td></tr><tr><th>26</th><td>63</td><td>core</td><td>viewed</td><td>course</td><td>2020</td><td>08</td><td>12</td></tr><tr><th>27</th><td>63</td><td>mod_scorm</td><td>viewed</td><td>course_module</td><td>2020</td><td>08</td><td>12</td></tr><tr><th>28</th><td>63</td><td>mod_scorm</td><td>viewed</td><td>course_module</td><td>2020</td><td>08</td><td>12</td></tr><tr><th>29</th><td>63</td><td>mod_scorm</td><td>launched</td><td>sco</td><td>2020</td><td>08</td><td>12</td></tr><tr><th>30</th><td>48</td><td>core</td><td>viewed</td><td>dashboard</td><td>2020</td><td>08</td><td>12</td></tr><tr><th>&vellip;</th><td>&vellip;</td><td>&vellip;</td><td>&vellip;</td><td>&vellip;</td><td>&vellip;</td><td>&vellip;</td><td>&vellip;</td></tr></tbody></table>",
            "text/latex": "\\begin{tabular}{r|ccccccc}\n\t& userid & component & action & target & year & month & day\\\\\n\t\\hline\n\t& Int64 & String & String & String & SubStri… & SubStri… & SubStri…\\\\\n\t\\hline\n\t1 & 78 & giant & viewed & extended\\_challenge\\_team & 2020 & 08 & 12 \\\\\n\t2 & 141 & core & failed & user\\_login & 2020 & 08 & 12 \\\\\n\t3 & 141 & core & loggedin & user & 2020 & 08 & 12 \\\\\n\t4 & 141 & core & viewed & dashboard & 2020 & 08 & 12 \\\\\n\t5 & 141 & core & viewed & course & 2020 & 08 & 12 \\\\\n\t6 & 141 & core & viewed & course & 2020 & 08 & 12 \\\\\n\t7 & 141 & core & viewed & dashboard & 2020 & 08 & 12 \\\\\n\t8 & 141 & core & viewed & dashboard & 2020 & 08 & 12 \\\\\n\t9 & 48 & core & loggedin & user & 2020 & 08 & 12 \\\\\n\t10 & 48 & core & viewed & dashboard & 2020 & 08 & 12 \\\\\n\t11 & 139 & core & loggedin & user & 2020 & 08 & 12 \\\\\n\t12 & 139 & core & viewed & dashboard & 2020 & 08 & 12 \\\\\n\t13 & 48 & core & viewed & user\\_profile & 2020 & 08 & 12 \\\\\n\t14 & 139 & core & viewed & course & 2020 & 08 & 12 \\\\\n\t15 & 139 & core & viewed & course & 2020 & 08 & 12 \\\\\n\t16 & 139 & mod\\_scorm & viewed & course\\_module & 2020 & 08 & 12 \\\\\n\t17 & 139 & mod\\_scorm & viewed & course\\_module & 2020 & 08 & 12 \\\\\n\t18 & 139 & mod\\_scorm & launched & sco & 2020 & 08 & 12 \\\\\n\t19 & 63 & core & loggedin & user & 2020 & 08 & 12 \\\\\n\t20 & 63 & core & viewed & dashboard & 2020 & 08 & 12 \\\\\n\t21 & 63 & core & viewed & course & 2020 & 08 & 12 \\\\\n\t22 & 141 & core & viewed & dashboard & 2020 & 08 & 12 \\\\\n\t23 & 141 & core & viewed & course & 2020 & 08 & 12 \\\\\n\t24 & 141 & core & viewed & course & 2020 & 08 & 12 \\\\\n\t25 & 141 & core & viewed & course & 2020 & 08 & 12 \\\\\n\t26 & 63 & core & viewed & course & 2020 & 08 & 12 \\\\\n\t27 & 63 & mod\\_scorm & viewed & course\\_module & 2020 & 08 & 12 \\\\\n\t28 & 63 & mod\\_scorm & viewed & course\\_module & 2020 & 08 & 12 \\\\\n\t29 & 63 & mod\\_scorm & launched & sco & 2020 & 08 & 12 \\\\\n\t30 & 48 & core & viewed & dashboard & 2020 & 08 & 12 \\\\\n\t$\\dots$ & $\\dots$ & $\\dots$ & $\\dots$ & $\\dots$ & $\\dots$ & $\\dots$ & $\\dots$ \\\\\n\\end{tabular}\n"
          },
          "metadata": {}
        }
      ],
      "execution_count": 131,
      "metadata": {
        "collapsed": true,
        "jupyter": {
          "source_hidden": false,
          "outputs_hidden": false
        },
        "nteract": {
          "transient": {
            "deleting": false
          }
        },
        "execution": {
          "iopub.status.busy": "2020-10-13T03:44:40.286Z",
          "iopub.execute_input": "2020-10-13T03:44:40.298Z",
          "iopub.status.idle": "2020-10-13T03:44:40.326Z"
        }
      }
    },
    {
      "cell_type": "code",
      "source": [
        "#IDENTIFICANDO CATEGORIAS de la variable eventname\n",
        "actionID = unique(featureDataFrame[!,:action]);"
      ],
      "outputs": [
        {
          "output_type": "execute_result",
          "execution_count": 132,
          "data": {
            "text/plain": "27-element Array{String,1}:\n \"viewed\"\n \"failed\"\n \"loggedin\"\n \"launched\"\n \"started\"\n \"loggedout\"\n \"updated\"\n \"liked\"\n \"commented\"\n \"selected\"\n \"graded\"\n \"submitted\"\n \"created\"\n ⋮\n \"added\"\n \"ended\"\n \"resumed\"\n \"uploaded\"\n \"unliked\"\n \"restarted\"\n \"reset\"\n \"assigned\"\n \"deleted\"\n \"leveledup\"\n \"unassigned\"\n \"searched\""
          },
          "metadata": {}
        }
      ],
      "execution_count": 132,
      "metadata": {
        "collapsed": true,
        "jupyter": {
          "source_hidden": false,
          "outputs_hidden": false
        },
        "nteract": {
          "transient": {
            "deleting": false
          }
        },
        "execution": {
          "iopub.status.busy": "2020-10-13T03:44:43.420Z",
          "iopub.execute_input": "2020-10-13T03:44:43.431Z",
          "iopub.status.idle": "2020-10-13T03:44:43.459Z"
        }
      }
    },
    {
      "cell_type": "code",
      "source": [
        "# Obteniendo los tipos de acciones que ejecutan los usuarios y asignándoles un identificador a cada acción\n",
        "featureDataFrame[!,:action]=replace(featureDataFrame[!,:action], Pair.(actionID, axes(actionID, 1))...);"
      ],
      "outputs": [
        {
          "output_type": "execute_result",
          "execution_count": 133,
          "data": {
            "text/plain": "30020-element Array{Any,1}:\n 1\n 2\n 3\n 1\n 1\n 1\n 1\n 1\n 3\n 1\n 3\n 1\n 1\n ⋮\n 1\n 4\n 1\n 1\n 1\n 1\n 4\n 1\n 1\n 1\n 1\n 4"
          },
          "metadata": {}
        }
      ],
      "execution_count": 133,
      "metadata": {
        "collapsed": true,
        "jupyter": {
          "source_hidden": false,
          "outputs_hidden": false
        },
        "nteract": {
          "transient": {
            "deleting": false
          }
        },
        "execution": {
          "iopub.status.busy": "2020-10-13T03:44:46.379Z",
          "iopub.execute_input": "2020-10-13T03:44:46.390Z",
          "iopub.status.idle": "2020-10-13T03:44:46.417Z"
        }
      }
    },
    {
      "cell_type": "code",
      "source": [
        "# Agrupando los usuarios de acuerdo a la acción realizada\n",
        "groupbyAction = groupby(featureDataFrame, :action);\n",
        "# Obteniendo la cantidad de acciones según su tipo\n",
        "actionDataFrameCount=combine(groupbyAction, :action => sum)"
      ],
      "outputs": [
        {
          "output_type": "execute_result",
          "execution_count": 134,
          "data": {
            "text/plain": "27×2 DataFrame\n│ Row │ action │ action_sum │\n│     │ \u001b[90mAny\u001b[39m    │ \u001b[90mInt64\u001b[39m      │\n├─────┼────────┼────────────┤\n│ 1   │ 1      │ 21825      │\n│ 2   │ 2      │ 774        │\n│ 3   │ 3      │ 3297       │\n│ 4   │ 4      │ 6304       │\n│ 5   │ 5      │ 1350       │\n│ 6   │ 6      │ 1368       │\n│ 7   │ 7      │ 5908       │\n│ 8   │ 8      │ 2960       │\n│ 9   │ 9      │ 2169       │\n│ 10  │ 10     │ 320        │\n⋮\n│ 17  │ 17     │ 1836       │\n│ 18  │ 18     │ 2970       │\n│ 19  │ 19     │ 1102       │\n│ 20  │ 20     │ 1260       │\n│ 21  │ 21     │ 777        │\n│ 22  │ 22     │ 88         │\n│ 23  │ 23     │ 805        │\n│ 24  │ 24     │ 384        │\n│ 25  │ 25     │ 400        │\n│ 26  │ 26     │ 52         │\n│ 27  │ 27     │ 27         │",
            "text/html": "<table class=\"data-frame\"><thead><tr><th></th><th>action</th><th>action_sum</th></tr><tr><th></th><th>Any</th><th>Int64</th></tr></thead><tbody><p>27 rows × 2 columns</p><tr><th>1</th><td>1</td><td>21825</td></tr><tr><th>2</th><td>2</td><td>774</td></tr><tr><th>3</th><td>3</td><td>3297</td></tr><tr><th>4</th><td>4</td><td>6304</td></tr><tr><th>5</th><td>5</td><td>1350</td></tr><tr><th>6</th><td>6</td><td>1368</td></tr><tr><th>7</th><td>7</td><td>5908</td></tr><tr><th>8</th><td>8</td><td>2960</td></tr><tr><th>9</th><td>9</td><td>2169</td></tr><tr><th>10</th><td>10</td><td>320</td></tr><tr><th>11</th><td>11</td><td>5016</td></tr><tr><th>12</th><td>12</td><td>4224</td></tr><tr><th>13</th><td>13</td><td>17537</td></tr><tr><th>14</th><td>14</td><td>5586</td></tr><tr><th>15</th><td>15</td><td>1275</td></tr><tr><th>16</th><td>16</td><td>32</td></tr><tr><th>17</th><td>17</td><td>1836</td></tr><tr><th>18</th><td>18</td><td>2970</td></tr><tr><th>19</th><td>19</td><td>1102</td></tr><tr><th>20</th><td>20</td><td>1260</td></tr><tr><th>21</th><td>21</td><td>777</td></tr><tr><th>22</th><td>22</td><td>88</td></tr><tr><th>23</th><td>23</td><td>805</td></tr><tr><th>24</th><td>24</td><td>384</td></tr><tr><th>25</th><td>25</td><td>400</td></tr><tr><th>26</th><td>26</td><td>52</td></tr><tr><th>27</th><td>27</td><td>27</td></tr></tbody></table>",
            "text/latex": "\\begin{tabular}{r|cc}\n\t& action & action\\_sum\\\\\n\t\\hline\n\t& Any & Int64\\\\\n\t\\hline\n\t1 & 1 & 21825 \\\\\n\t2 & 2 & 774 \\\\\n\t3 & 3 & 3297 \\\\\n\t4 & 4 & 6304 \\\\\n\t5 & 5 & 1350 \\\\\n\t6 & 6 & 1368 \\\\\n\t7 & 7 & 5908 \\\\\n\t8 & 8 & 2960 \\\\\n\t9 & 9 & 2169 \\\\\n\t10 & 10 & 320 \\\\\n\t11 & 11 & 5016 \\\\\n\t12 & 12 & 4224 \\\\\n\t13 & 13 & 17537 \\\\\n\t14 & 14 & 5586 \\\\\n\t15 & 15 & 1275 \\\\\n\t16 & 16 & 32 \\\\\n\t17 & 17 & 1836 \\\\\n\t18 & 18 & 2970 \\\\\n\t19 & 19 & 1102 \\\\\n\t20 & 20 & 1260 \\\\\n\t21 & 21 & 777 \\\\\n\t22 & 22 & 88 \\\\\n\t23 & 23 & 805 \\\\\n\t24 & 24 & 384 \\\\\n\t25 & 25 & 400 \\\\\n\t26 & 26 & 52 \\\\\n\t27 & 27 & 27 \\\\\n\\end{tabular}\n"
          },
          "metadata": {}
        }
      ],
      "execution_count": 134,
      "metadata": {
        "collapsed": true,
        "jupyter": {
          "source_hidden": false,
          "outputs_hidden": false
        },
        "nteract": {
          "transient": {
            "deleting": false
          }
        },
        "execution": {
          "iopub.status.busy": "2020-10-13T03:44:53.062Z",
          "iopub.execute_input": "2020-10-13T03:44:53.073Z",
          "iopub.status.idle": "2020-10-13T03:44:53.098Z"
        }
      }
    },
    {
      "cell_type": "code",
      "source": [
        "#Agregando el nombre de la acción al actionDataFrame\n",
        "insert!(actionDataFrameCount, 2, actionID, :action_name)"
      ],
      "outputs": [
        {
          "output_type": "stream",
          "name": "stderr",
          "text": [
            "┌ Warning: `insert!(df::DataFrame, col_ind::Int, item, name::Symbol; makeunique::Bool = false)` is deprecated, use `insertcols!(df, col_ind, name => item; makeunique = makeunique)` instead.\n",
            "│   caller = top-level scope at In[136]:1\n",
            "└ @ Core In[136]:1\n"
          ]
        },
        {
          "output_type": "execute_result",
          "execution_count": 136,
          "data": {
            "text/plain": "27×3 DataFrame\n│ Row │ action │ action_name │ action_sum │\n│     │ \u001b[90mAny\u001b[39m    │ \u001b[90mString\u001b[39m      │ \u001b[90mInt64\u001b[39m      │\n├─────┼────────┼─────────────┼────────────┤\n│ 1   │ 1      │ viewed      │ 21825      │\n│ 2   │ 2      │ failed      │ 774        │\n│ 3   │ 3      │ loggedin    │ 3297       │\n│ 4   │ 4      │ launched    │ 6304       │\n│ 5   │ 5      │ started     │ 1350       │\n│ 6   │ 6      │ loggedout   │ 1368       │\n│ 7   │ 7      │ updated     │ 5908       │\n│ 8   │ 8      │ liked       │ 2960       │\n│ 9   │ 9      │ commented   │ 2169       │\n│ 10  │ 10     │ selected    │ 320        │\n⋮\n│ 17  │ 17     │ ended       │ 1836       │\n│ 18  │ 18     │ resumed     │ 2970       │\n│ 19  │ 19     │ uploaded    │ 1102       │\n│ 20  │ 20     │ unliked     │ 1260       │\n│ 21  │ 21     │ restarted   │ 777        │\n│ 22  │ 22     │ reset       │ 88         │\n│ 23  │ 23     │ assigned    │ 805        │\n│ 24  │ 24     │ deleted     │ 384        │\n│ 25  │ 25     │ leveledup   │ 400        │\n│ 26  │ 26     │ unassigned  │ 52         │\n│ 27  │ 27     │ searched    │ 27         │",
            "text/html": "<table class=\"data-frame\"><thead><tr><th></th><th>action</th><th>action_name</th><th>action_sum</th></tr><tr><th></th><th>Any</th><th>String</th><th>Int64</th></tr></thead><tbody><p>27 rows × 3 columns</p><tr><th>1</th><td>1</td><td>viewed</td><td>21825</td></tr><tr><th>2</th><td>2</td><td>failed</td><td>774</td></tr><tr><th>3</th><td>3</td><td>loggedin</td><td>3297</td></tr><tr><th>4</th><td>4</td><td>launched</td><td>6304</td></tr><tr><th>5</th><td>5</td><td>started</td><td>1350</td></tr><tr><th>6</th><td>6</td><td>loggedout</td><td>1368</td></tr><tr><th>7</th><td>7</td><td>updated</td><td>5908</td></tr><tr><th>8</th><td>8</td><td>liked</td><td>2960</td></tr><tr><th>9</th><td>9</td><td>commented</td><td>2169</td></tr><tr><th>10</th><td>10</td><td>selected</td><td>320</td></tr><tr><th>11</th><td>11</td><td>graded</td><td>5016</td></tr><tr><th>12</th><td>12</td><td>submitted</td><td>4224</td></tr><tr><th>13</th><td>13</td><td>created</td><td>17537</td></tr><tr><th>14</th><td>14</td><td>Scored</td><td>5586</td></tr><tr><th>15</th><td>15</td><td>sent</td><td>1275</td></tr><tr><th>16</th><td>16</td><td>added</td><td>32</td></tr><tr><th>17</th><td>17</td><td>ended</td><td>1836</td></tr><tr><th>18</th><td>18</td><td>resumed</td><td>2970</td></tr><tr><th>19</th><td>19</td><td>uploaded</td><td>1102</td></tr><tr><th>20</th><td>20</td><td>unliked</td><td>1260</td></tr><tr><th>21</th><td>21</td><td>restarted</td><td>777</td></tr><tr><th>22</th><td>22</td><td>reset</td><td>88</td></tr><tr><th>23</th><td>23</td><td>assigned</td><td>805</td></tr><tr><th>24</th><td>24</td><td>deleted</td><td>384</td></tr><tr><th>25</th><td>25</td><td>leveledup</td><td>400</td></tr><tr><th>26</th><td>26</td><td>unassigned</td><td>52</td></tr><tr><th>27</th><td>27</td><td>searched</td><td>27</td></tr></tbody></table>",
            "text/latex": "\\begin{tabular}{r|ccc}\n\t& action & action\\_name & action\\_sum\\\\\n\t\\hline\n\t& Any & String & Int64\\\\\n\t\\hline\n\t1 & 1 & viewed & 21825 \\\\\n\t2 & 2 & failed & 774 \\\\\n\t3 & 3 & loggedin & 3297 \\\\\n\t4 & 4 & launched & 6304 \\\\\n\t5 & 5 & started & 1350 \\\\\n\t6 & 6 & loggedout & 1368 \\\\\n\t7 & 7 & updated & 5908 \\\\\n\t8 & 8 & liked & 2960 \\\\\n\t9 & 9 & commented & 2169 \\\\\n\t10 & 10 & selected & 320 \\\\\n\t11 & 11 & graded & 5016 \\\\\n\t12 & 12 & submitted & 4224 \\\\\n\t13 & 13 & created & 17537 \\\\\n\t14 & 14 & Scored & 5586 \\\\\n\t15 & 15 & sent & 1275 \\\\\n\t16 & 16 & added & 32 \\\\\n\t17 & 17 & ended & 1836 \\\\\n\t18 & 18 & resumed & 2970 \\\\\n\t19 & 19 & uploaded & 1102 \\\\\n\t20 & 20 & unliked & 1260 \\\\\n\t21 & 21 & restarted & 777 \\\\\n\t22 & 22 & reset & 88 \\\\\n\t23 & 23 & assigned & 805 \\\\\n\t24 & 24 & deleted & 384 \\\\\n\t25 & 25 & leveledup & 400 \\\\\n\t26 & 26 & unassigned & 52 \\\\\n\t27 & 27 & searched & 27 \\\\\n\\end{tabular}\n"
          },
          "metadata": {}
        }
      ],
      "execution_count": 136,
      "metadata": {
        "collapsed": true,
        "jupyter": {
          "source_hidden": false,
          "outputs_hidden": false
        },
        "nteract": {
          "transient": {
            "deleting": false
          }
        },
        "execution": {
          "iopub.status.busy": "2020-10-13T03:45:05.023Z",
          "iopub.execute_input": "2020-10-13T03:45:05.034Z",
          "iopub.status.idle": "2020-10-13T03:45:05.064Z"
        }
      }
    },
    {
      "cell_type": "code",
      "source": [
        "#Organizando la matriz de frecuencia de los eventos por identificador de usuario\n",
        "actionDataFrameCount=sort!(actionDataFrameCount, [:action_sum], rev= true)"
      ],
      "outputs": [
        {
          "output_type": "execute_result",
          "execution_count": 139,
          "data": {
            "text/plain": "27×3 DataFrame\n│ Row │ action │ action_name │ action_sum │\n│     │ \u001b[90mAny\u001b[39m    │ \u001b[90mString\u001b[39m      │ \u001b[90mInt64\u001b[39m      │\n├─────┼────────┼─────────────┼────────────┤\n│ 1   │ 1      │ viewed      │ 21825      │\n│ 2   │ 13     │ created     │ 17537      │\n│ 3   │ 4      │ launched    │ 6304       │\n│ 4   │ 7      │ updated     │ 5908       │\n│ 5   │ 14     │ Scored      │ 5586       │\n│ 6   │ 11     │ graded      │ 5016       │\n│ 7   │ 12     │ submitted   │ 4224       │\n│ 8   │ 3      │ loggedin    │ 3297       │\n│ 9   │ 18     │ resumed     │ 2970       │\n│ 10  │ 8      │ liked       │ 2960       │\n⋮\n│ 17  │ 19     │ uploaded    │ 1102       │\n│ 18  │ 23     │ assigned    │ 805        │\n│ 19  │ 21     │ restarted   │ 777        │\n│ 20  │ 2      │ failed      │ 774        │\n│ 21  │ 25     │ leveledup   │ 400        │\n│ 22  │ 24     │ deleted     │ 384        │\n│ 23  │ 10     │ selected    │ 320        │\n│ 24  │ 22     │ reset       │ 88         │\n│ 25  │ 26     │ unassigned  │ 52         │\n│ 26  │ 16     │ added       │ 32         │\n│ 27  │ 27     │ searched    │ 27         │",
            "text/html": "<table class=\"data-frame\"><thead><tr><th></th><th>action</th><th>action_name</th><th>action_sum</th></tr><tr><th></th><th>Any</th><th>String</th><th>Int64</th></tr></thead><tbody><p>27 rows × 3 columns</p><tr><th>1</th><td>1</td><td>viewed</td><td>21825</td></tr><tr><th>2</th><td>13</td><td>created</td><td>17537</td></tr><tr><th>3</th><td>4</td><td>launched</td><td>6304</td></tr><tr><th>4</th><td>7</td><td>updated</td><td>5908</td></tr><tr><th>5</th><td>14</td><td>Scored</td><td>5586</td></tr><tr><th>6</th><td>11</td><td>graded</td><td>5016</td></tr><tr><th>7</th><td>12</td><td>submitted</td><td>4224</td></tr><tr><th>8</th><td>3</td><td>loggedin</td><td>3297</td></tr><tr><th>9</th><td>18</td><td>resumed</td><td>2970</td></tr><tr><th>10</th><td>8</td><td>liked</td><td>2960</td></tr><tr><th>11</th><td>9</td><td>commented</td><td>2169</td></tr><tr><th>12</th><td>17</td><td>ended</td><td>1836</td></tr><tr><th>13</th><td>6</td><td>loggedout</td><td>1368</td></tr><tr><th>14</th><td>5</td><td>started</td><td>1350</td></tr><tr><th>15</th><td>15</td><td>sent</td><td>1275</td></tr><tr><th>16</th><td>20</td><td>unliked</td><td>1260</td></tr><tr><th>17</th><td>19</td><td>uploaded</td><td>1102</td></tr><tr><th>18</th><td>23</td><td>assigned</td><td>805</td></tr><tr><th>19</th><td>21</td><td>restarted</td><td>777</td></tr><tr><th>20</th><td>2</td><td>failed</td><td>774</td></tr><tr><th>21</th><td>25</td><td>leveledup</td><td>400</td></tr><tr><th>22</th><td>24</td><td>deleted</td><td>384</td></tr><tr><th>23</th><td>10</td><td>selected</td><td>320</td></tr><tr><th>24</th><td>22</td><td>reset</td><td>88</td></tr><tr><th>25</th><td>26</td><td>unassigned</td><td>52</td></tr><tr><th>26</th><td>16</td><td>added</td><td>32</td></tr><tr><th>27</th><td>27</td><td>searched</td><td>27</td></tr></tbody></table>",
            "text/latex": "\\begin{tabular}{r|ccc}\n\t& action & action\\_name & action\\_sum\\\\\n\t\\hline\n\t& Any & String & Int64\\\\\n\t\\hline\n\t1 & 1 & viewed & 21825 \\\\\n\t2 & 13 & created & 17537 \\\\\n\t3 & 4 & launched & 6304 \\\\\n\t4 & 7 & updated & 5908 \\\\\n\t5 & 14 & Scored & 5586 \\\\\n\t6 & 11 & graded & 5016 \\\\\n\t7 & 12 & submitted & 4224 \\\\\n\t8 & 3 & loggedin & 3297 \\\\\n\t9 & 18 & resumed & 2970 \\\\\n\t10 & 8 & liked & 2960 \\\\\n\t11 & 9 & commented & 2169 \\\\\n\t12 & 17 & ended & 1836 \\\\\n\t13 & 6 & loggedout & 1368 \\\\\n\t14 & 5 & started & 1350 \\\\\n\t15 & 15 & sent & 1275 \\\\\n\t16 & 20 & unliked & 1260 \\\\\n\t17 & 19 & uploaded & 1102 \\\\\n\t18 & 23 & assigned & 805 \\\\\n\t19 & 21 & restarted & 777 \\\\\n\t20 & 2 & failed & 774 \\\\\n\t21 & 25 & leveledup & 400 \\\\\n\t22 & 24 & deleted & 384 \\\\\n\t23 & 10 & selected & 320 \\\\\n\t24 & 22 & reset & 88 \\\\\n\t25 & 26 & unassigned & 52 \\\\\n\t26 & 16 & added & 32 \\\\\n\t27 & 27 & searched & 27 \\\\\n\\end{tabular}\n"
          },
          "metadata": {}
        }
      ],
      "execution_count": 139,
      "metadata": {
        "collapsed": true,
        "jupyter": {
          "source_hidden": false,
          "outputs_hidden": false
        },
        "nteract": {
          "transient": {
            "deleting": false
          }
        },
        "execution": {
          "iopub.status.busy": "2020-10-13T03:47:44.442Z",
          "iopub.execute_input": "2020-10-13T03:47:44.455Z",
          "iopub.status.idle": "2020-10-13T03:47:44.573Z"
        }
      }
    },
    {
      "cell_type": "code",
      "source": [
        "x=actionDataFrameCount[1:4,:action_name]\n",
        "y=actionDataFrameCount[1:4,:action_sum]\n",
        "plot(x, y, seriestype = :bar, size=(700,300), title = \"Actions most performed by users\", legend=false, orientation=:h, yflip=true)"
      ],
      "outputs": [
        {
          "output_type": "execute_result",
          "execution_count": 299,
          "data": {
            "image/svg+xml": "<?xml version=\"1.0\" encoding=\"utf-8\"?>\n<svg xmlns=\"http://www.w3.org/2000/svg\" xmlns:xlink=\"http://www.w3.org/1999/xlink\" width=\"700\" height=\"300\" viewBox=\"0 0 2800 1200\">\n<defs>\n  <clipPath id=\"clip5300\">\n    <rect x=\"0\" y=\"0\" width=\"2800\" height=\"1200\"/>\n  </clipPath>\n</defs>\n<path clip-path=\"url(#clip5300)\" d=\"\nM0 1200 L2800 1200 L2800 0 L0 0  Z\n  \" fill=\"#ffffff\" fill-rule=\"evenodd\" fill-opacity=\"1\"/>\n<defs>\n  <clipPath id=\"clip5301\">\n    <rect x=\"560\" y=\"0\" width=\"1961\" height=\"1200\"/>\n  </clipPath>\n</defs>\n<path clip-path=\"url(#clip5300)\" d=\"\nM286.319 1103.45 L2752.76 1103.45 L2752.76 100.717 L286.319 100.717  Z\n  \" fill=\"#ffffff\" fill-rule=\"evenodd\" fill-opacity=\"1\"/>\n<defs>\n  <clipPath id=\"clip5302\">\n    <rect x=\"286\" y=\"100\" width=\"2467\" height=\"1004\"/>\n  </clipPath>\n</defs>\n<polyline clip-path=\"url(#clip5302)\" style=\"stroke:#000000; stroke-width:2; stroke-opacity:0.1; fill:none\" points=\"\n  356.124,100.717 356.124,1103.45 \n  \"/>\n<polyline clip-path=\"url(#clip5302)\" style=\"stroke:#000000; stroke-width:2; stroke-opacity:0.1; fill:none\" points=\"\n  889.188,100.717 889.188,1103.45 \n  \"/>\n<polyline clip-path=\"url(#clip5302)\" style=\"stroke:#000000; stroke-width:2; stroke-opacity:0.1; fill:none\" points=\"\n  1422.25,100.717 1422.25,1103.45 \n  \"/>\n<polyline clip-path=\"url(#clip5302)\" style=\"stroke:#000000; stroke-width:2; stroke-opacity:0.1; fill:none\" points=\"\n  1955.32,100.717 1955.32,1103.45 \n  \"/>\n<polyline clip-path=\"url(#clip5302)\" style=\"stroke:#000000; stroke-width:2; stroke-opacity:0.1; fill:none\" points=\"\n  2488.38,100.717 2488.38,1103.45 \n  \"/>\n<polyline clip-path=\"url(#clip5302)\" style=\"stroke:#000000; stroke-width:2; stroke-opacity:0.1; fill:none\" points=\"\n  286.319,249.809 2752.76,249.809 \n  \"/>\n<polyline clip-path=\"url(#clip5302)\" style=\"stroke:#000000; stroke-width:2; stroke-opacity:0.1; fill:none\" points=\"\n  286.319,484.659 2752.76,484.659 \n  \"/>\n<polyline clip-path=\"url(#clip5302)\" style=\"stroke:#000000; stroke-width:2; stroke-opacity:0.1; fill:none\" points=\"\n  286.319,719.509 2752.76,719.509 \n  \"/>\n<polyline clip-path=\"url(#clip5302)\" style=\"stroke:#000000; stroke-width:2; stroke-opacity:0.1; fill:none\" points=\"\n  286.319,954.359 2752.76,954.359 \n  \"/>\n<polyline clip-path=\"url(#clip5300)\" style=\"stroke:#000000; stroke-width:4; stroke-opacity:1; fill:none\" points=\"\n  286.319,1103.45 2752.76,1103.45 \n  \"/>\n<polyline clip-path=\"url(#clip5300)\" style=\"stroke:#000000; stroke-width:4; stroke-opacity:1; fill:none\" points=\"\n  286.319,100.717 286.319,1103.45 \n  \"/>\n<polyline clip-path=\"url(#clip5300)\" style=\"stroke:#000000; stroke-width:4; stroke-opacity:1; fill:none\" points=\"\n  356.124,1103.45 356.124,1091.42 \n  \"/>\n<polyline clip-path=\"url(#clip5300)\" style=\"stroke:#000000; stroke-width:4; stroke-opacity:1; fill:none\" points=\"\n  889.188,1103.45 889.188,1091.42 \n  \"/>\n<polyline clip-path=\"url(#clip5300)\" style=\"stroke:#000000; stroke-width:4; stroke-opacity:1; fill:none\" points=\"\n  1422.25,1103.45 1422.25,1091.42 \n  \"/>\n<polyline clip-path=\"url(#clip5300)\" style=\"stroke:#000000; stroke-width:4; stroke-opacity:1; fill:none\" points=\"\n  1955.32,1103.45 1955.32,1091.42 \n  \"/>\n<polyline clip-path=\"url(#clip5300)\" style=\"stroke:#000000; stroke-width:4; stroke-opacity:1; fill:none\" points=\"\n  2488.38,1103.45 2488.38,1091.42 \n  \"/>\n<polyline clip-path=\"url(#clip5300)\" style=\"stroke:#000000; stroke-width:4; stroke-opacity:1; fill:none\" points=\"\n  286.319,249.809 315.916,249.809 \n  \"/>\n<polyline clip-path=\"url(#clip5300)\" style=\"stroke:#000000; stroke-width:4; stroke-opacity:1; fill:none\" points=\"\n  286.319,484.659 315.916,484.659 \n  \"/>\n<polyline clip-path=\"url(#clip5300)\" style=\"stroke:#000000; stroke-width:4; stroke-opacity:1; fill:none\" points=\"\n  286.319,719.509 315.916,719.509 \n  \"/>\n<polyline clip-path=\"url(#clip5300)\" style=\"stroke:#000000; stroke-width:4; stroke-opacity:1; fill:none\" points=\"\n  286.319,954.359 315.916,954.359 \n  \"/>\n<g clip-path=\"url(#clip5300)\">\n<text style=\"fill:#000000; fill-opacity:1; font-family:Arial,Helvetica Neue,Helvetica,sans-serif; font-size:48px; text-anchor:middle;\" transform=\"rotate(0, 356.124, 1159.45)\" x=\"356.124\" y=\"1159.45\">0</text>\n</g>\n<g clip-path=\"url(#clip5300)\">\n<text style=\"fill:#000000; fill-opacity:1; font-family:Arial,Helvetica Neue,Helvetica,sans-serif; font-size:48px; text-anchor:start;\" transform=\"rotate(0, 804.046, 1180.46)\" x=\"804.046\" y=\"1180.46\">5.0×10</text>\n</g>\n<g clip-path=\"url(#clip5300)\">\n<text style=\"fill:#000000; fill-opacity:1; font-family:Arial,Helvetica Neue,Helvetica,sans-serif; font-size:38px; text-anchor:start;\" transform=\"rotate(0, 952.586, 1153.05)\" x=\"952.586\" y=\"1153.05\">3</text>\n</g>\n<g clip-path=\"url(#clip5300)\">\n<text style=\"fill:#000000; fill-opacity:1; font-family:Arial,Helvetica Neue,Helvetica,sans-serif; font-size:48px; text-anchor:start;\" transform=\"rotate(0, 1337.11, 1180.46)\" x=\"1337.11\" y=\"1180.46\">1.0×10</text>\n</g>\n<g clip-path=\"url(#clip5300)\">\n<text style=\"fill:#000000; fill-opacity:1; font-family:Arial,Helvetica Neue,Helvetica,sans-serif; font-size:38px; text-anchor:start;\" transform=\"rotate(0, 1485.65, 1153.05)\" x=\"1485.65\" y=\"1153.05\">4</text>\n</g>\n<g clip-path=\"url(#clip5300)\">\n<text style=\"fill:#000000; fill-opacity:1; font-family:Arial,Helvetica Neue,Helvetica,sans-serif; font-size:48px; text-anchor:start;\" transform=\"rotate(0, 1870.18, 1180.46)\" x=\"1870.18\" y=\"1180.46\">1.5×10</text>\n</g>\n<g clip-path=\"url(#clip5300)\">\n<text style=\"fill:#000000; fill-opacity:1; font-family:Arial,Helvetica Neue,Helvetica,sans-serif; font-size:38px; text-anchor:start;\" transform=\"rotate(0, 2018.72, 1153.05)\" x=\"2018.72\" y=\"1153.05\">4</text>\n</g>\n<g clip-path=\"url(#clip5300)\">\n<text style=\"fill:#000000; fill-opacity:1; font-family:Arial,Helvetica Neue,Helvetica,sans-serif; font-size:48px; text-anchor:start;\" transform=\"rotate(0, 2403.24, 1180.46)\" x=\"2403.24\" y=\"1180.46\">2.0×10</text>\n</g>\n<g clip-path=\"url(#clip5300)\">\n<text style=\"fill:#000000; fill-opacity:1; font-family:Arial,Helvetica Neue,Helvetica,sans-serif; font-size:38px; text-anchor:start;\" transform=\"rotate(0, 2551.78, 1153.05)\" x=\"2551.78\" y=\"1153.05\">4</text>\n</g>\n<g clip-path=\"url(#clip5300)\">\n<text style=\"fill:#000000; fill-opacity:1; font-family:Arial,Helvetica Neue,Helvetica,sans-serif; font-size:48px; text-anchor:end;\" transform=\"rotate(0, 258.319, 267.309)\" x=\"258.319\" y=\"267.309\">viewed</text>\n</g>\n<g clip-path=\"url(#clip5300)\">\n<text style=\"fill:#000000; fill-opacity:1; font-family:Arial,Helvetica Neue,Helvetica,sans-serif; font-size:48px; text-anchor:end;\" transform=\"rotate(0, 258.319, 502.159)\" x=\"258.319\" y=\"502.159\">created</text>\n</g>\n<g clip-path=\"url(#clip5300)\">\n<text style=\"fill:#000000; fill-opacity:1; font-family:Arial,Helvetica Neue,Helvetica,sans-serif; font-size:48px; text-anchor:end;\" transform=\"rotate(0, 258.319, 737.009)\" x=\"258.319\" y=\"737.009\">launched</text>\n</g>\n<g clip-path=\"url(#clip5300)\">\n<text style=\"fill:#000000; fill-opacity:1; font-family:Arial,Helvetica Neue,Helvetica,sans-serif; font-size:48px; text-anchor:end;\" transform=\"rotate(0, 258.319, 971.859)\" x=\"258.319\" y=\"971.859\">updated</text>\n</g>\n<g clip-path=\"url(#clip5300)\">\n<text style=\"fill:#000000; fill-opacity:1; font-family:Arial,Helvetica Neue,Helvetica,sans-serif; font-size:84px; text-anchor:middle;\" transform=\"rotate(0, 1519.54, 73.2)\" x=\"1519.54\" y=\"73.2\">Actions most performed by users</text>\n</g>\n<path clip-path=\"url(#clip5302)\" d=\"\nM2682.95 155.869 L356.124 155.869 L356.124 343.749 L2682.95 343.749 L2682.95 155.869 L2682.95 155.869  Z\n  \" fill=\"#009af9\" fill-rule=\"evenodd\" fill-opacity=\"1\"/>\n<polyline clip-path=\"url(#clip5302)\" style=\"stroke:#000000; stroke-width:4; stroke-opacity:1; fill:none\" points=\"\n  2682.95,155.869 356.124,155.869 356.124,343.749 2682.95,343.749 2682.95,155.869 \n  \"/>\n<path clip-path=\"url(#clip5302)\" d=\"\nM2225.79 390.719 L356.124 390.719 L356.124 578.599 L2225.79 578.599 L2225.79 390.719 L2225.79 390.719  Z\n  \" fill=\"#009af9\" fill-rule=\"evenodd\" fill-opacity=\"1\"/>\n<polyline clip-path=\"url(#clip5302)\" style=\"stroke:#000000; stroke-width:4; stroke-opacity:1; fill:none\" points=\"\n  2225.79,390.719 356.124,390.719 356.124,578.599 2225.79,578.599 2225.79,390.719 \n  \"/>\n<path clip-path=\"url(#clip5302)\" d=\"\nM1028.21 625.569 L356.124 625.569 L356.124 813.449 L1028.21 813.449 L1028.21 625.569 L1028.21 625.569  Z\n  \" fill=\"#009af9\" fill-rule=\"evenodd\" fill-opacity=\"1\"/>\n<polyline clip-path=\"url(#clip5302)\" style=\"stroke:#000000; stroke-width:4; stroke-opacity:1; fill:none\" points=\"\n  1028.21,625.569 356.124,625.569 356.124,813.449 1028.21,813.449 1028.21,625.569 \n  \"/>\n<path clip-path=\"url(#clip5302)\" d=\"\nM985.993 860.419 L356.124 860.419 L356.124 1048.3 L985.993 1048.3 L985.993 860.419 L985.993 860.419  Z\n  \" fill=\"#009af9\" fill-rule=\"evenodd\" fill-opacity=\"1\"/>\n<polyline clip-path=\"url(#clip5302)\" style=\"stroke:#000000; stroke-width:4; stroke-opacity:1; fill:none\" points=\"\n  985.993,860.419 356.124,860.419 356.124,1048.3 985.993,1048.3 985.993,860.419 \n  \"/>\n</svg>\n"
          },
          "metadata": {}
        }
      ],
      "execution_count": 299,
      "metadata": {
        "collapsed": true,
        "jupyter": {
          "source_hidden": false,
          "outputs_hidden": false
        },
        "nteract": {
          "transient": {
            "deleting": false
          }
        },
        "execution": {
          "iopub.status.busy": "2020-10-13T05:08:14.139Z",
          "iopub.execute_input": "2020-10-13T05:08:14.157Z",
          "iopub.status.idle": "2020-10-13T05:08:14.187Z"
        }
      }
    },
    {
      "cell_type": "code",
      "source": [
        "#Convirtiendo variables en tipo String del feature Data Frame\n",
        "featureDataFrame[!,[:year, :month, :day]]=convert(Array{String}, eventsDataFrame[!,[:year, :month, :day]]);"
      ],
      "outputs": [],
      "execution_count": 329,
      "metadata": {
        "collapsed": true,
        "jupyter": {
          "source_hidden": false,
          "outputs_hidden": false
        },
        "nteract": {
          "transient": {
            "deleting": false
          }
        },
        "execution": {
          "iopub.status.busy": "2020-10-13T05:39:48.672Z",
          "iopub.execute_input": "2020-10-13T05:39:48.692Z",
          "iopub.status.idle": "2020-10-13T05:39:48.719Z"
        }
      }
    },
    {
      "cell_type": "code",
      "source": [
        "# Agrupando los usuarios de acuerdo a la acción realizada\n",
        "groupbyLogin = groupby(featureDataFrame, [:month, :day, :action]);"
      ],
      "outputs": [],
      "execution_count": 330,
      "metadata": {
        "collapsed": true,
        "jupyter": {
          "source_hidden": false,
          "outputs_hidden": false
        },
        "nteract": {
          "transient": {
            "deleting": false
          }
        },
        "execution": {
          "iopub.status.busy": "2020-10-13T05:39:50.183Z",
          "iopub.execute_input": "2020-10-13T05:39:50.198Z",
          "iopub.status.idle": "2020-10-13T05:39:50.222Z"
        }
      }
    },
    {
      "cell_type": "code",
      "source": [
        "# Obteniendo la cantidad de acciones según su tipo\n",
        "loginataFrameCount=combine(groupbyLogin, :action => sum);"
      ],
      "outputs": [],
      "execution_count": 331,
      "metadata": {
        "collapsed": true,
        "jupyter": {
          "source_hidden": false,
          "outputs_hidden": false
        },
        "nteract": {
          "transient": {
            "deleting": false
          }
        },
        "execution": {
          "iopub.status.busy": "2020-10-13T05:39:51.464Z",
          "iopub.execute_input": "2020-10-13T05:39:51.481Z",
          "iopub.status.idle": "2020-10-13T05:39:51.512Z"
        }
      }
    },
    {
      "cell_type": "code",
      "source": [
        "groupbyLoginAction = groupby(loginataFrameCount, :action);"
      ],
      "outputs": [],
      "execution_count": 337,
      "metadata": {
        "collapsed": true,
        "jupyter": {
          "source_hidden": false,
          "outputs_hidden": false
        },
        "nteract": {
          "transient": {
            "deleting": false
          }
        },
        "execution": {
          "iopub.status.busy": "2020-10-13T05:41:25.835Z",
          "iopub.execute_input": "2020-10-13T05:41:25.849Z",
          "iopub.status.idle": "2020-10-13T05:41:25.873Z"
        }
      }
    },
    {
      "cell_type": "code",
      "source": [
        "groupbyLoginAction[3]\n"
      ],
      "outputs": [
        {
          "output_type": "execute_result",
          "execution_count": 378,
          "data": {
            "text/plain": "58×4 SubDataFrame\n│ Row │ month  │ day    │ action │ action_sum │\n│     │ \u001b[90mString\u001b[39m │ \u001b[90mString\u001b[39m │ \u001b[90mAny\u001b[39m    │ \u001b[90mInt64\u001b[39m      │\n├─────┼────────┼────────┼────────┼────────────┤\n│ 1   │ 08     │ 12     │ 3      │ 30         │\n│ 2   │ 08     │ 13     │ 3      │ 84         │\n│ 3   │ 08     │ 14     │ 3      │ 120        │\n│ 4   │ 08     │ 15     │ 3      │ 54         │\n│ 5   │ 08     │ 16     │ 3      │ 63         │\n│ 6   │ 08     │ 17     │ 3      │ 42         │\n│ 7   │ 08     │ 18     │ 3      │ 117        │\n│ 8   │ 08     │ 19     │ 3      │ 144        │\n│ 9   │ 08     │ 20     │ 3      │ 159        │\n│ 10  │ 08     │ 21     │ 3      │ 105        │\n⋮\n│ 48  │ 09     │ 28     │ 3      │ 36         │\n│ 49  │ 09     │ 29     │ 3      │ 30         │\n│ 50  │ 09     │ 30     │ 3      │ 27         │\n│ 51  │ 10     │ 01     │ 3      │ 51         │\n│ 52  │ 10     │ 02     │ 3      │ 39         │\n│ 53  │ 10     │ 03     │ 3      │ 9          │\n│ 54  │ 10     │ 04     │ 3      │ 9          │\n│ 55  │ 10     │ 05     │ 3      │ 57         │\n│ 56  │ 10     │ 06     │ 3      │ 60         │\n│ 57  │ 10     │ 07     │ 3      │ 63         │\n│ 58  │ 10     │ 08     │ 3      │ 66         │",
            "text/html": "<table class=\"data-frame\"><thead><tr><th></th><th>month</th><th>day</th><th>action</th><th>action_sum</th></tr><tr><th></th><th>String</th><th>String</th><th>Any</th><th>Int64</th></tr></thead><tbody><p>58 rows × 4 columns</p><tr><th>1</th><td>08</td><td>12</td><td>3</td><td>30</td></tr><tr><th>2</th><td>08</td><td>13</td><td>3</td><td>84</td></tr><tr><th>3</th><td>08</td><td>14</td><td>3</td><td>120</td></tr><tr><th>4</th><td>08</td><td>15</td><td>3</td><td>54</td></tr><tr><th>5</th><td>08</td><td>16</td><td>3</td><td>63</td></tr><tr><th>6</th><td>08</td><td>17</td><td>3</td><td>42</td></tr><tr><th>7</th><td>08</td><td>18</td><td>3</td><td>117</td></tr><tr><th>8</th><td>08</td><td>19</td><td>3</td><td>144</td></tr><tr><th>9</th><td>08</td><td>20</td><td>3</td><td>159</td></tr><tr><th>10</th><td>08</td><td>21</td><td>3</td><td>105</td></tr><tr><th>11</th><td>08</td><td>22</td><td>3</td><td>42</td></tr><tr><th>12</th><td>08</td><td>23</td><td>3</td><td>57</td></tr><tr><th>13</th><td>08</td><td>24</td><td>3</td><td>108</td></tr><tr><th>14</th><td>08</td><td>25</td><td>3</td><td>57</td></tr><tr><th>15</th><td>08</td><td>26</td><td>3</td><td>93</td></tr><tr><th>16</th><td>08</td><td>27</td><td>3</td><td>93</td></tr><tr><th>17</th><td>08</td><td>28</td><td>3</td><td>54</td></tr><tr><th>18</th><td>08</td><td>29</td><td>3</td><td>18</td></tr><tr><th>19</th><td>08</td><td>30</td><td>3</td><td>27</td></tr><tr><th>20</th><td>08</td><td>31</td><td>3</td><td>51</td></tr><tr><th>21</th><td>09</td><td>01</td><td>3</td><td>33</td></tr><tr><th>22</th><td>09</td><td>02</td><td>3</td><td>60</td></tr><tr><th>23</th><td>09</td><td>03</td><td>3</td><td>54</td></tr><tr><th>24</th><td>09</td><td>04</td><td>3</td><td>75</td></tr><tr><th>25</th><td>09</td><td>05</td><td>3</td><td>51</td></tr><tr><th>26</th><td>09</td><td>06</td><td>3</td><td>81</td></tr><tr><th>27</th><td>09</td><td>07</td><td>3</td><td>87</td></tr><tr><th>28</th><td>09</td><td>08</td><td>3</td><td>72</td></tr><tr><th>29</th><td>09</td><td>09</td><td>3</td><td>72</td></tr><tr><th>30</th><td>09</td><td>10</td><td>3</td><td>87</td></tr><tr><th>&vellip;</th><td>&vellip;</td><td>&vellip;</td><td>&vellip;</td><td>&vellip;</td></tr></tbody></table>",
            "text/latex": "\\begin{tabular}{r|cccc}\n\t& month & day & action & action\\_sum\\\\\n\t\\hline\n\t& String & String & Any & Int64\\\\\n\t\\hline\n\t1 & 08 & 12 & 3 & 30 \\\\\n\t2 & 08 & 13 & 3 & 84 \\\\\n\t3 & 08 & 14 & 3 & 120 \\\\\n\t4 & 08 & 15 & 3 & 54 \\\\\n\t5 & 08 & 16 & 3 & 63 \\\\\n\t6 & 08 & 17 & 3 & 42 \\\\\n\t7 & 08 & 18 & 3 & 117 \\\\\n\t8 & 08 & 19 & 3 & 144 \\\\\n\t9 & 08 & 20 & 3 & 159 \\\\\n\t10 & 08 & 21 & 3 & 105 \\\\\n\t11 & 08 & 22 & 3 & 42 \\\\\n\t12 & 08 & 23 & 3 & 57 \\\\\n\t13 & 08 & 24 & 3 & 108 \\\\\n\t14 & 08 & 25 & 3 & 57 \\\\\n\t15 & 08 & 26 & 3 & 93 \\\\\n\t16 & 08 & 27 & 3 & 93 \\\\\n\t17 & 08 & 28 & 3 & 54 \\\\\n\t18 & 08 & 29 & 3 & 18 \\\\\n\t19 & 08 & 30 & 3 & 27 \\\\\n\t20 & 08 & 31 & 3 & 51 \\\\\n\t21 & 09 & 01 & 3 & 33 \\\\\n\t22 & 09 & 02 & 3 & 60 \\\\\n\t23 & 09 & 03 & 3 & 54 \\\\\n\t24 & 09 & 04 & 3 & 75 \\\\\n\t25 & 09 & 05 & 3 & 51 \\\\\n\t26 & 09 & 06 & 3 & 81 \\\\\n\t27 & 09 & 07 & 3 & 87 \\\\\n\t28 & 09 & 08 & 3 & 72 \\\\\n\t29 & 09 & 09 & 3 & 72 \\\\\n\t30 & 09 & 10 & 3 & 87 \\\\\n\t$\\dots$ & $\\dots$ & $\\dots$ & $\\dots$ & $\\dots$ \\\\\n\\end{tabular}\n"
          },
          "metadata": {}
        }
      ],
      "execution_count": 378,
      "metadata": {
        "collapsed": true,
        "jupyter": {
          "source_hidden": false,
          "outputs_hidden": false
        },
        "nteract": {
          "transient": {
            "deleting": false
          }
        },
        "execution": {
          "iopub.status.busy": "2020-10-13T05:50:06.372Z",
          "iopub.execute_input": "2020-10-13T05:50:06.389Z",
          "iopub.status.idle": "2020-10-13T05:50:06.423Z"
        }
      }
    },
    {
      "cell_type": "code",
      "source": [
        "topsize=size(groupbyLoginAction[3],1);"
      ],
      "outputs": [],
      "execution_count": 377,
      "metadata": {
        "collapsed": true,
        "jupyter": {
          "source_hidden": false,
          "outputs_hidden": false
        },
        "nteract": {
          "transient": {
            "deleting": false
          }
        },
        "execution": {
          "iopub.status.busy": "2020-10-13T05:50:05.155Z",
          "iopub.execute_input": "2020-10-13T05:50:05.169Z",
          "iopub.status.idle": "2020-10-13T05:50:05.193Z"
        }
      }
    },
    {
      "cell_type": "code",
      "source": [
        "describe(groupbyLoginAction[3])"
      ],
      "outputs": [
        {
          "output_type": "execute_result",
          "execution_count": 379,
          "data": {
            "text/plain": "4×8 DataFrame. Omitted printing of 1 columns\n│ Row │ variable   │ mean    │ min │ median │ max │ nunique │ nmissing │\n│     │ \u001b[90mSymbol\u001b[39m     │ \u001b[90mUnion…\u001b[39m  │ \u001b[90mAny\u001b[39m │ \u001b[90mUnion…\u001b[39m │ \u001b[90mAny\u001b[39m │ \u001b[90mUnion…\u001b[39m  │ \u001b[90mUnion…\u001b[39m   │\n├─────┼────────────┼─────────┼─────┼────────┼─────┼─────────┼──────────┤\n│ 1   │ month      │         │ 08  │        │ 10  │ 3       │          │\n│ 2   │ day        │         │ 01  │        │ 31  │ 31      │          │\n│ 3   │ action     │ 3.0     │ 3   │ 3.0    │ 3   │ 1       │ 0        │\n│ 4   │ action_sum │ 56.8448 │ 9   │ 54.0   │ 159 │         │          │",
            "text/html": "<table class=\"data-frame\"><thead><tr><th></th><th>variable</th><th>mean</th><th>min</th><th>median</th><th>max</th><th>nunique</th><th>nmissing</th><th>eltype</th></tr><tr><th></th><th>Symbol</th><th>Union…</th><th>Any</th><th>Union…</th><th>Any</th><th>Union…</th><th>Union…</th><th>DataType</th></tr></thead><tbody><p>4 rows × 8 columns</p><tr><th>1</th><td>month</td><td></td><td>08</td><td></td><td>10</td><td>3</td><td></td><td>String</td></tr><tr><th>2</th><td>day</td><td></td><td>01</td><td></td><td>31</td><td>31</td><td></td><td>String</td></tr><tr><th>3</th><td>action</td><td>3.0</td><td>3</td><td>3.0</td><td>3</td><td>1</td><td>0</td><td>Any</td></tr><tr><th>4</th><td>action_sum</td><td>56.8448</td><td>9</td><td>54.0</td><td>159</td><td></td><td></td><td>Int64</td></tr></tbody></table>",
            "text/latex": "\\begin{tabular}{r|cccccccc}\n\t& variable & mean & min & median & max & nunique & nmissing & eltype\\\\\n\t\\hline\n\t& Symbol & Union… & Any & Union… & Any & Union… & Union… & DataType\\\\\n\t\\hline\n\t1 & month &  & 08 &  & 10 & 3 &  & String \\\\\n\t2 & day &  & 01 &  & 31 & 31 &  & String \\\\\n\t3 & action & 3.0 & 3 & 3.0 & 3 & 1 & 0 & Any \\\\\n\t4 & action\\_sum & 56.8448 & 9 & 54.0 & 159 &  &  & Int64 \\\\\n\\end{tabular}\n"
          },
          "metadata": {}
        }
      ],
      "execution_count": 379,
      "metadata": {
        "collapsed": true,
        "jupyter": {
          "source_hidden": false,
          "outputs_hidden": false
        },
        "nteract": {
          "transient": {
            "deleting": false
          }
        },
        "execution": {
          "iopub.status.busy": "2020-10-13T05:54:00.511Z",
          "iopub.execute_input": "2020-10-13T05:54:00.527Z",
          "iopub.status.idle": "2020-10-13T05:54:07.424Z"
        }
      }
    },
    {
      "cell_type": "code",
      "source": [
        "#Número de conexiones por día en el gestor de inteligencia GIANT\n",
        "x = 1:topsize; \n",
        "y = groupbyLoginAction[3][!,:action_sum]; # These are the plotting data\n",
        "plot(x, y, title = \"Connections per day\", xlabel = \"Day\", ylabel = \"Connection's Number\", lw = 3, marker=:circle, ms=5, mc=:orange,legend=false, size=(1100,300))"
      ],
      "outputs": [
        {
          "output_type": "execute_result",
          "execution_count": 375,
          "data": {
            "image/svg+xml": "<?xml version=\"1.0\" encoding=\"utf-8\"?>\n<svg xmlns=\"http://www.w3.org/2000/svg\" xmlns:xlink=\"http://www.w3.org/1999/xlink\" width=\"1100\" height=\"300\" viewBox=\"0 0 4400 1200\">\n<defs>\n  <clipPath id=\"clip1700\">\n    <rect x=\"0\" y=\"0\" width=\"4400\" height=\"1200\"/>\n  </clipPath>\n</defs>\n<path clip-path=\"url(#clip1700)\" d=\"\nM0 1200 L4400 1200 L4400 0 L0 0  Z\n  \" fill=\"#ffffff\" fill-rule=\"evenodd\" fill-opacity=\"1\"/>\n<defs>\n  <clipPath id=\"clip1701\">\n    <rect x=\"880\" y=\"0\" width=\"3081\" height=\"1200\"/>\n  </clipPath>\n</defs>\n<path clip-path=\"url(#clip1700)\" d=\"\nM221.89 1076.68 L4352.76 1076.68 L4352.76 86.9988 L221.89 86.9988  Z\n  \" fill=\"#ffffff\" fill-rule=\"evenodd\" fill-opacity=\"1\"/>\n<defs>\n  <clipPath id=\"clip1702\">\n    <rect x=\"221\" y=\"86\" width=\"4132\" height=\"991\"/>\n  </clipPath>\n</defs>\n<polyline clip-path=\"url(#clip1702)\" style=\"stroke:#000000; stroke-width:2; stroke-opacity:0.1; fill:none\" points=\"\n  270.432,1076.68 270.432,86.9988 \n  \"/>\n<polyline clip-path=\"url(#clip1702)\" style=\"stroke:#000000; stroke-width:2; stroke-opacity:0.1; fill:none\" points=\"\n  954.124,1076.68 954.124,86.9988 \n  \"/>\n<polyline clip-path=\"url(#clip1702)\" style=\"stroke:#000000; stroke-width:2; stroke-opacity:0.1; fill:none\" points=\"\n  1637.82,1076.68 1637.82,86.9988 \n  \"/>\n<polyline clip-path=\"url(#clip1702)\" style=\"stroke:#000000; stroke-width:2; stroke-opacity:0.1; fill:none\" points=\"\n  2321.51,1076.68 2321.51,86.9988 \n  \"/>\n<polyline clip-path=\"url(#clip1702)\" style=\"stroke:#000000; stroke-width:2; stroke-opacity:0.1; fill:none\" points=\"\n  3005.2,1076.68 3005.2,86.9988 \n  \"/>\n<polyline clip-path=\"url(#clip1702)\" style=\"stroke:#000000; stroke-width:2; stroke-opacity:0.1; fill:none\" points=\"\n  3688.89,1076.68 3688.89,86.9988 \n  \"/>\n<polyline clip-path=\"url(#clip1702)\" style=\"stroke:#000000; stroke-width:2; stroke-opacity:0.1; fill:none\" points=\"\n  221.89,917.957 4352.76,917.957 \n  \"/>\n<polyline clip-path=\"url(#clip1702)\" style=\"stroke:#000000; stroke-width:2; stroke-opacity:0.1; fill:none\" points=\"\n  221.89,731.225 4352.76,731.225 \n  \"/>\n<polyline clip-path=\"url(#clip1702)\" style=\"stroke:#000000; stroke-width:2; stroke-opacity:0.1; fill:none\" points=\"\n  221.89,544.493 4352.76,544.493 \n  \"/>\n<polyline clip-path=\"url(#clip1702)\" style=\"stroke:#000000; stroke-width:2; stroke-opacity:0.1; fill:none\" points=\"\n  221.89,357.76 4352.76,357.76 \n  \"/>\n<polyline clip-path=\"url(#clip1702)\" style=\"stroke:#000000; stroke-width:2; stroke-opacity:0.1; fill:none\" points=\"\n  221.89,171.028 4352.76,171.028 \n  \"/>\n<polyline clip-path=\"url(#clip1700)\" style=\"stroke:#000000; stroke-width:4; stroke-opacity:1; fill:none\" points=\"\n  221.89,1076.68 4352.76,1076.68 \n  \"/>\n<polyline clip-path=\"url(#clip1700)\" style=\"stroke:#000000; stroke-width:4; stroke-opacity:1; fill:none\" points=\"\n  221.89,1076.68 221.89,86.9988 \n  \"/>\n<polyline clip-path=\"url(#clip1700)\" style=\"stroke:#000000; stroke-width:4; stroke-opacity:1; fill:none\" points=\"\n  270.432,1076.68 270.432,1064.8 \n  \"/>\n<polyline clip-path=\"url(#clip1700)\" style=\"stroke:#000000; stroke-width:4; stroke-opacity:1; fill:none\" points=\"\n  954.124,1076.68 954.124,1064.8 \n  \"/>\n<polyline clip-path=\"url(#clip1700)\" style=\"stroke:#000000; stroke-width:4; stroke-opacity:1; fill:none\" points=\"\n  1637.82,1076.68 1637.82,1064.8 \n  \"/>\n<polyline clip-path=\"url(#clip1700)\" style=\"stroke:#000000; stroke-width:4; stroke-opacity:1; fill:none\" points=\"\n  2321.51,1076.68 2321.51,1064.8 \n  \"/>\n<polyline clip-path=\"url(#clip1700)\" style=\"stroke:#000000; stroke-width:4; stroke-opacity:1; fill:none\" points=\"\n  3005.2,1076.68 3005.2,1064.8 \n  \"/>\n<polyline clip-path=\"url(#clip1700)\" style=\"stroke:#000000; stroke-width:4; stroke-opacity:1; fill:none\" points=\"\n  3688.89,1076.68 3688.89,1064.8 \n  \"/>\n<polyline clip-path=\"url(#clip1700)\" style=\"stroke:#000000; stroke-width:4; stroke-opacity:1; fill:none\" points=\"\n  221.89,917.957 271.46,917.957 \n  \"/>\n<polyline clip-path=\"url(#clip1700)\" style=\"stroke:#000000; stroke-width:4; stroke-opacity:1; fill:none\" points=\"\n  221.89,731.225 271.46,731.225 \n  \"/>\n<polyline clip-path=\"url(#clip1700)\" style=\"stroke:#000000; stroke-width:4; stroke-opacity:1; fill:none\" points=\"\n  221.89,544.493 271.46,544.493 \n  \"/>\n<polyline clip-path=\"url(#clip1700)\" style=\"stroke:#000000; stroke-width:4; stroke-opacity:1; fill:none\" points=\"\n  221.89,357.76 271.46,357.76 \n  \"/>\n<polyline clip-path=\"url(#clip1700)\" style=\"stroke:#000000; stroke-width:4; stroke-opacity:1; fill:none\" points=\"\n  221.89,171.028 271.46,171.028 \n  \"/>\n<g clip-path=\"url(#clip1700)\">\n<text style=\"fill:#000000; fill-opacity:1; font-family:Arial,Helvetica Neue,Helvetica,sans-serif; font-size:48px; text-anchor:middle;\" transform=\"rotate(0, 270.432, 1140.68)\" x=\"270.432\" y=\"1140.68\">0</text>\n</g>\n<g clip-path=\"url(#clip1700)\">\n<text style=\"fill:#000000; fill-opacity:1; font-family:Arial,Helvetica Neue,Helvetica,sans-serif; font-size:48px; text-anchor:middle;\" transform=\"rotate(0, 954.124, 1140.68)\" x=\"954.124\" y=\"1140.68\">10</text>\n</g>\n<g clip-path=\"url(#clip1700)\">\n<text style=\"fill:#000000; fill-opacity:1; font-family:Arial,Helvetica Neue,Helvetica,sans-serif; font-size:48px; text-anchor:middle;\" transform=\"rotate(0, 1637.82, 1140.68)\" x=\"1637.82\" y=\"1140.68\">20</text>\n</g>\n<g clip-path=\"url(#clip1700)\">\n<text style=\"fill:#000000; fill-opacity:1; font-family:Arial,Helvetica Neue,Helvetica,sans-serif; font-size:48px; text-anchor:middle;\" transform=\"rotate(0, 2321.51, 1140.68)\" x=\"2321.51\" y=\"1140.68\">30</text>\n</g>\n<g clip-path=\"url(#clip1700)\">\n<text style=\"fill:#000000; fill-opacity:1; font-family:Arial,Helvetica Neue,Helvetica,sans-serif; font-size:48px; text-anchor:middle;\" transform=\"rotate(0, 3005.2, 1140.68)\" x=\"3005.2\" y=\"1140.68\">40</text>\n</g>\n<g clip-path=\"url(#clip1700)\">\n<text style=\"fill:#000000; fill-opacity:1; font-family:Arial,Helvetica Neue,Helvetica,sans-serif; font-size:48px; text-anchor:middle;\" transform=\"rotate(0, 3688.89, 1140.68)\" x=\"3688.89\" y=\"1140.68\">50</text>\n</g>\n<g clip-path=\"url(#clip1700)\">\n<text style=\"fill:#000000; fill-opacity:1; font-family:Arial,Helvetica Neue,Helvetica,sans-serif; font-size:48px; text-anchor:end;\" transform=\"rotate(0, 177.89, 935.457)\" x=\"177.89\" y=\"935.457\">30</text>\n</g>\n<g clip-path=\"url(#clip1700)\">\n<text style=\"fill:#000000; fill-opacity:1; font-family:Arial,Helvetica Neue,Helvetica,sans-serif; font-size:48px; text-anchor:end;\" transform=\"rotate(0, 177.89, 748.725)\" x=\"177.89\" y=\"748.725\">60</text>\n</g>\n<g clip-path=\"url(#clip1700)\">\n<text style=\"fill:#000000; fill-opacity:1; font-family:Arial,Helvetica Neue,Helvetica,sans-serif; font-size:48px; text-anchor:end;\" transform=\"rotate(0, 177.89, 561.993)\" x=\"177.89\" y=\"561.993\">90</text>\n</g>\n<g clip-path=\"url(#clip1700)\">\n<text style=\"fill:#000000; fill-opacity:1; font-family:Arial,Helvetica Neue,Helvetica,sans-serif; font-size:48px; text-anchor:end;\" transform=\"rotate(0, 177.89, 375.26)\" x=\"177.89\" y=\"375.26\">120</text>\n</g>\n<g clip-path=\"url(#clip1700)\">\n<text style=\"fill:#000000; fill-opacity:1; font-family:Arial,Helvetica Neue,Helvetica,sans-serif; font-size:48px; text-anchor:end;\" transform=\"rotate(0, 177.89, 188.528)\" x=\"177.89\" y=\"188.528\">150</text>\n</g>\n<g clip-path=\"url(#clip1700)\">\n<text style=\"fill:#000000; fill-opacity:1; font-family:Arial,Helvetica Neue,Helvetica,sans-serif; font-size:82px; text-anchor:middle;\" transform=\"rotate(0, 2287.32, 72)\" x=\"2287.32\" y=\"72\">Connections per day</text>\n</g>\n<g clip-path=\"url(#clip1700)\">\n<text style=\"fill:#000000; fill-opacity:1; font-family:Arial,Helvetica Neue,Helvetica,sans-serif; font-size:66px; text-anchor:middle;\" transform=\"rotate(0, 2287.32, 1230.54)\" x=\"2287.32\" y=\"1230.54\">Day</text>\n</g>\n<g clip-path=\"url(#clip1700)\">\n<text style=\"fill:#000000; fill-opacity:1; font-family:Arial,Helvetica Neue,Helvetica,sans-serif; font-size:66px; text-anchor:middle;\" transform=\"rotate(-90, 42.0404, 581.839)\" x=\"42.0404\" y=\"581.839\">Connection&apos;s Number</text>\n</g>\n<polyline clip-path=\"url(#clip1702)\" style=\"stroke:#009af9; stroke-width:12; stroke-opacity:1; fill:none\" points=\"\n  338.801,917.957 407.17,581.839 475.539,357.76 543.908,768.571 612.278,712.552 680.647,843.264 749.016,376.434 817.385,208.375 885.754,115.009 954.124,451.127 \n  1022.49,843.264 1090.86,749.898 1159.23,432.453 1227.6,749.898 1295.97,525.819 1364.34,525.819 1432.71,768.571 1501.08,992.65 1569.45,936.63 1637.82,787.244 \n  1706.18,899.284 1774.55,731.225 1842.92,768.571 1911.29,637.859 1979.66,787.244 2048.03,600.512 2116.4,563.166 2184.77,656.532 2253.14,656.532 2321.51,563.166 \n  2389.88,992.65 2458.25,1030 2526.61,1011.32 2594.98,899.284 2663.35,899.284 2731.72,787.244 2800.09,432.453 2868.46,880.611 2936.83,693.878 3005.2,1011.32 \n  3073.57,880.611 3141.94,749.898 3210.31,787.244 3278.68,675.205 3347.05,936.63 3415.41,973.977 3483.78,1030 3552.15,880.611 3620.52,917.957 3688.89,936.63 \n  3757.26,787.244 3825.63,861.937 3894,1048.67 3962.37,1048.67 4030.74,749.898 4099.11,731.225 4167.48,712.552 4235.84,693.878 \n  \"/>\n<circle clip-path=\"url(#clip1702)\" cx=\"338.801\" cy=\"917.957\" r=\"18\" fill=\"#ffa500\" fill-rule=\"evenodd\" fill-opacity=\"1\" stroke=\"#000000\" stroke-opacity=\"1\" stroke-width=\"2.4\"/>\n<circle clip-path=\"url(#clip1702)\" cx=\"407.17\" cy=\"581.839\" r=\"18\" fill=\"#ffa500\" fill-rule=\"evenodd\" fill-opacity=\"1\" stroke=\"#000000\" stroke-opacity=\"1\" stroke-width=\"2.4\"/>\n<circle clip-path=\"url(#clip1702)\" cx=\"475.539\" cy=\"357.76\" r=\"18\" fill=\"#ffa500\" fill-rule=\"evenodd\" fill-opacity=\"1\" stroke=\"#000000\" stroke-opacity=\"1\" stroke-width=\"2.4\"/>\n<circle clip-path=\"url(#clip1702)\" cx=\"543.908\" cy=\"768.571\" r=\"18\" fill=\"#ffa500\" fill-rule=\"evenodd\" fill-opacity=\"1\" stroke=\"#000000\" stroke-opacity=\"1\" stroke-width=\"2.4\"/>\n<circle clip-path=\"url(#clip1702)\" cx=\"612.278\" cy=\"712.552\" r=\"18\" fill=\"#ffa500\" fill-rule=\"evenodd\" fill-opacity=\"1\" stroke=\"#000000\" stroke-opacity=\"1\" stroke-width=\"2.4\"/>\n<circle clip-path=\"url(#clip1702)\" cx=\"680.647\" cy=\"843.264\" r=\"18\" fill=\"#ffa500\" fill-rule=\"evenodd\" fill-opacity=\"1\" stroke=\"#000000\" stroke-opacity=\"1\" stroke-width=\"2.4\"/>\n<circle clip-path=\"url(#clip1702)\" cx=\"749.016\" cy=\"376.434\" r=\"18\" fill=\"#ffa500\" fill-rule=\"evenodd\" fill-opacity=\"1\" stroke=\"#000000\" stroke-opacity=\"1\" stroke-width=\"2.4\"/>\n<circle clip-path=\"url(#clip1702)\" cx=\"817.385\" cy=\"208.375\" r=\"18\" fill=\"#ffa500\" fill-rule=\"evenodd\" fill-opacity=\"1\" stroke=\"#000000\" stroke-opacity=\"1\" stroke-width=\"2.4\"/>\n<circle clip-path=\"url(#clip1702)\" cx=\"885.754\" cy=\"115.009\" r=\"18\" fill=\"#ffa500\" fill-rule=\"evenodd\" fill-opacity=\"1\" stroke=\"#000000\" stroke-opacity=\"1\" stroke-width=\"2.4\"/>\n<circle clip-path=\"url(#clip1702)\" cx=\"954.124\" cy=\"451.127\" r=\"18\" fill=\"#ffa500\" fill-rule=\"evenodd\" fill-opacity=\"1\" stroke=\"#000000\" stroke-opacity=\"1\" stroke-width=\"2.4\"/>\n<circle clip-path=\"url(#clip1702)\" cx=\"1022.49\" cy=\"843.264\" r=\"18\" fill=\"#ffa500\" fill-rule=\"evenodd\" fill-opacity=\"1\" stroke=\"#000000\" stroke-opacity=\"1\" stroke-width=\"2.4\"/>\n<circle clip-path=\"url(#clip1702)\" cx=\"1090.86\" cy=\"749.898\" r=\"18\" fill=\"#ffa500\" fill-rule=\"evenodd\" fill-opacity=\"1\" stroke=\"#000000\" stroke-opacity=\"1\" stroke-width=\"2.4\"/>\n<circle clip-path=\"url(#clip1702)\" cx=\"1159.23\" cy=\"432.453\" r=\"18\" fill=\"#ffa500\" fill-rule=\"evenodd\" fill-opacity=\"1\" stroke=\"#000000\" stroke-opacity=\"1\" stroke-width=\"2.4\"/>\n<circle clip-path=\"url(#clip1702)\" cx=\"1227.6\" cy=\"749.898\" r=\"18\" fill=\"#ffa500\" fill-rule=\"evenodd\" fill-opacity=\"1\" stroke=\"#000000\" stroke-opacity=\"1\" stroke-width=\"2.4\"/>\n<circle clip-path=\"url(#clip1702)\" cx=\"1295.97\" cy=\"525.819\" r=\"18\" fill=\"#ffa500\" fill-rule=\"evenodd\" fill-opacity=\"1\" stroke=\"#000000\" stroke-opacity=\"1\" stroke-width=\"2.4\"/>\n<circle clip-path=\"url(#clip1702)\" cx=\"1364.34\" cy=\"525.819\" r=\"18\" fill=\"#ffa500\" fill-rule=\"evenodd\" fill-opacity=\"1\" stroke=\"#000000\" stroke-opacity=\"1\" stroke-width=\"2.4\"/>\n<circle clip-path=\"url(#clip1702)\" cx=\"1432.71\" cy=\"768.571\" r=\"18\" fill=\"#ffa500\" fill-rule=\"evenodd\" fill-opacity=\"1\" stroke=\"#000000\" stroke-opacity=\"1\" stroke-width=\"2.4\"/>\n<circle clip-path=\"url(#clip1702)\" cx=\"1501.08\" cy=\"992.65\" r=\"18\" fill=\"#ffa500\" fill-rule=\"evenodd\" fill-opacity=\"1\" stroke=\"#000000\" stroke-opacity=\"1\" stroke-width=\"2.4\"/>\n<circle clip-path=\"url(#clip1702)\" cx=\"1569.45\" cy=\"936.63\" r=\"18\" fill=\"#ffa500\" fill-rule=\"evenodd\" fill-opacity=\"1\" stroke=\"#000000\" stroke-opacity=\"1\" stroke-width=\"2.4\"/>\n<circle clip-path=\"url(#clip1702)\" cx=\"1637.82\" cy=\"787.244\" r=\"18\" fill=\"#ffa500\" fill-rule=\"evenodd\" fill-opacity=\"1\" stroke=\"#000000\" stroke-opacity=\"1\" stroke-width=\"2.4\"/>\n<circle clip-path=\"url(#clip1702)\" cx=\"1706.18\" cy=\"899.284\" r=\"18\" fill=\"#ffa500\" fill-rule=\"evenodd\" fill-opacity=\"1\" stroke=\"#000000\" stroke-opacity=\"1\" stroke-width=\"2.4\"/>\n<circle clip-path=\"url(#clip1702)\" cx=\"1774.55\" cy=\"731.225\" r=\"18\" fill=\"#ffa500\" fill-rule=\"evenodd\" fill-opacity=\"1\" stroke=\"#000000\" stroke-opacity=\"1\" stroke-width=\"2.4\"/>\n<circle clip-path=\"url(#clip1702)\" cx=\"1842.92\" cy=\"768.571\" r=\"18\" fill=\"#ffa500\" fill-rule=\"evenodd\" fill-opacity=\"1\" stroke=\"#000000\" stroke-opacity=\"1\" stroke-width=\"2.4\"/>\n<circle clip-path=\"url(#clip1702)\" cx=\"1911.29\" cy=\"637.859\" r=\"18\" fill=\"#ffa500\" fill-rule=\"evenodd\" fill-opacity=\"1\" stroke=\"#000000\" stroke-opacity=\"1\" stroke-width=\"2.4\"/>\n<circle clip-path=\"url(#clip1702)\" cx=\"1979.66\" cy=\"787.244\" r=\"18\" fill=\"#ffa500\" fill-rule=\"evenodd\" fill-opacity=\"1\" stroke=\"#000000\" stroke-opacity=\"1\" stroke-width=\"2.4\"/>\n<circle clip-path=\"url(#clip1702)\" cx=\"2048.03\" cy=\"600.512\" r=\"18\" fill=\"#ffa500\" fill-rule=\"evenodd\" fill-opacity=\"1\" stroke=\"#000000\" stroke-opacity=\"1\" stroke-width=\"2.4\"/>\n<circle clip-path=\"url(#clip1702)\" cx=\"2116.4\" cy=\"563.166\" r=\"18\" fill=\"#ffa500\" fill-rule=\"evenodd\" fill-opacity=\"1\" stroke=\"#000000\" stroke-opacity=\"1\" stroke-width=\"2.4\"/>\n<circle clip-path=\"url(#clip1702)\" cx=\"2184.77\" cy=\"656.532\" r=\"18\" fill=\"#ffa500\" fill-rule=\"evenodd\" fill-opacity=\"1\" stroke=\"#000000\" stroke-opacity=\"1\" stroke-width=\"2.4\"/>\n<circle clip-path=\"url(#clip1702)\" cx=\"2253.14\" cy=\"656.532\" r=\"18\" fill=\"#ffa500\" fill-rule=\"evenodd\" fill-opacity=\"1\" stroke=\"#000000\" stroke-opacity=\"1\" stroke-width=\"2.4\"/>\n<circle clip-path=\"url(#clip1702)\" cx=\"2321.51\" cy=\"563.166\" r=\"18\" fill=\"#ffa500\" fill-rule=\"evenodd\" fill-opacity=\"1\" stroke=\"#000000\" stroke-opacity=\"1\" stroke-width=\"2.4\"/>\n<circle clip-path=\"url(#clip1702)\" cx=\"2389.88\" cy=\"992.65\" r=\"18\" fill=\"#ffa500\" fill-rule=\"evenodd\" fill-opacity=\"1\" stroke=\"#000000\" stroke-opacity=\"1\" stroke-width=\"2.4\"/>\n<circle clip-path=\"url(#clip1702)\" cx=\"2458.25\" cy=\"1030\" r=\"18\" fill=\"#ffa500\" fill-rule=\"evenodd\" fill-opacity=\"1\" stroke=\"#000000\" stroke-opacity=\"1\" stroke-width=\"2.4\"/>\n<circle clip-path=\"url(#clip1702)\" cx=\"2526.61\" cy=\"1011.32\" r=\"18\" fill=\"#ffa500\" fill-rule=\"evenodd\" fill-opacity=\"1\" stroke=\"#000000\" stroke-opacity=\"1\" stroke-width=\"2.4\"/>\n<circle clip-path=\"url(#clip1702)\" cx=\"2594.98\" cy=\"899.284\" r=\"18\" fill=\"#ffa500\" fill-rule=\"evenodd\" fill-opacity=\"1\" stroke=\"#000000\" stroke-opacity=\"1\" stroke-width=\"2.4\"/>\n<circle clip-path=\"url(#clip1702)\" cx=\"2663.35\" cy=\"899.284\" r=\"18\" fill=\"#ffa500\" fill-rule=\"evenodd\" fill-opacity=\"1\" stroke=\"#000000\" stroke-opacity=\"1\" stroke-width=\"2.4\"/>\n<circle clip-path=\"url(#clip1702)\" cx=\"2731.72\" cy=\"787.244\" r=\"18\" fill=\"#ffa500\" fill-rule=\"evenodd\" fill-opacity=\"1\" stroke=\"#000000\" stroke-opacity=\"1\" stroke-width=\"2.4\"/>\n<circle clip-path=\"url(#clip1702)\" cx=\"2800.09\" cy=\"432.453\" r=\"18\" fill=\"#ffa500\" fill-rule=\"evenodd\" fill-opacity=\"1\" stroke=\"#000000\" stroke-opacity=\"1\" stroke-width=\"2.4\"/>\n<circle clip-path=\"url(#clip1702)\" cx=\"2868.46\" cy=\"880.611\" r=\"18\" fill=\"#ffa500\" fill-rule=\"evenodd\" fill-opacity=\"1\" stroke=\"#000000\" stroke-opacity=\"1\" stroke-width=\"2.4\"/>\n<circle clip-path=\"url(#clip1702)\" cx=\"2936.83\" cy=\"693.878\" r=\"18\" fill=\"#ffa500\" fill-rule=\"evenodd\" fill-opacity=\"1\" stroke=\"#000000\" stroke-opacity=\"1\" stroke-width=\"2.4\"/>\n<circle clip-path=\"url(#clip1702)\" cx=\"3005.2\" cy=\"1011.32\" r=\"18\" fill=\"#ffa500\" fill-rule=\"evenodd\" fill-opacity=\"1\" stroke=\"#000000\" stroke-opacity=\"1\" stroke-width=\"2.4\"/>\n<circle clip-path=\"url(#clip1702)\" cx=\"3073.57\" cy=\"880.611\" r=\"18\" fill=\"#ffa500\" fill-rule=\"evenodd\" fill-opacity=\"1\" stroke=\"#000000\" stroke-opacity=\"1\" stroke-width=\"2.4\"/>\n<circle clip-path=\"url(#clip1702)\" cx=\"3141.94\" cy=\"749.898\" r=\"18\" fill=\"#ffa500\" fill-rule=\"evenodd\" fill-opacity=\"1\" stroke=\"#000000\" stroke-opacity=\"1\" stroke-width=\"2.4\"/>\n<circle clip-path=\"url(#clip1702)\" cx=\"3210.31\" cy=\"787.244\" r=\"18\" fill=\"#ffa500\" fill-rule=\"evenodd\" fill-opacity=\"1\" stroke=\"#000000\" stroke-opacity=\"1\" stroke-width=\"2.4\"/>\n<circle clip-path=\"url(#clip1702)\" cx=\"3278.68\" cy=\"675.205\" r=\"18\" fill=\"#ffa500\" fill-rule=\"evenodd\" fill-opacity=\"1\" stroke=\"#000000\" stroke-opacity=\"1\" stroke-width=\"2.4\"/>\n<circle clip-path=\"url(#clip1702)\" cx=\"3347.05\" cy=\"936.63\" r=\"18\" fill=\"#ffa500\" fill-rule=\"evenodd\" fill-opacity=\"1\" stroke=\"#000000\" stroke-opacity=\"1\" stroke-width=\"2.4\"/>\n<circle clip-path=\"url(#clip1702)\" cx=\"3415.41\" cy=\"973.977\" r=\"18\" fill=\"#ffa500\" fill-rule=\"evenodd\" fill-opacity=\"1\" stroke=\"#000000\" stroke-opacity=\"1\" stroke-width=\"2.4\"/>\n<circle clip-path=\"url(#clip1702)\" cx=\"3483.78\" cy=\"1030\" r=\"18\" fill=\"#ffa500\" fill-rule=\"evenodd\" fill-opacity=\"1\" stroke=\"#000000\" stroke-opacity=\"1\" stroke-width=\"2.4\"/>\n<circle clip-path=\"url(#clip1702)\" cx=\"3552.15\" cy=\"880.611\" r=\"18\" fill=\"#ffa500\" fill-rule=\"evenodd\" fill-opacity=\"1\" stroke=\"#000000\" stroke-opacity=\"1\" stroke-width=\"2.4\"/>\n<circle clip-path=\"url(#clip1702)\" cx=\"3620.52\" cy=\"917.957\" r=\"18\" fill=\"#ffa500\" fill-rule=\"evenodd\" fill-opacity=\"1\" stroke=\"#000000\" stroke-opacity=\"1\" stroke-width=\"2.4\"/>\n<circle clip-path=\"url(#clip1702)\" cx=\"3688.89\" cy=\"936.63\" r=\"18\" fill=\"#ffa500\" fill-rule=\"evenodd\" fill-opacity=\"1\" stroke=\"#000000\" stroke-opacity=\"1\" stroke-width=\"2.4\"/>\n<circle clip-path=\"url(#clip1702)\" cx=\"3757.26\" cy=\"787.244\" r=\"18\" fill=\"#ffa500\" fill-rule=\"evenodd\" fill-opacity=\"1\" stroke=\"#000000\" stroke-opacity=\"1\" stroke-width=\"2.4\"/>\n<circle clip-path=\"url(#clip1702)\" cx=\"3825.63\" cy=\"861.937\" r=\"18\" fill=\"#ffa500\" fill-rule=\"evenodd\" fill-opacity=\"1\" stroke=\"#000000\" stroke-opacity=\"1\" stroke-width=\"2.4\"/>\n<circle clip-path=\"url(#clip1702)\" cx=\"3894\" cy=\"1048.67\" r=\"18\" fill=\"#ffa500\" fill-rule=\"evenodd\" fill-opacity=\"1\" stroke=\"#000000\" stroke-opacity=\"1\" stroke-width=\"2.4\"/>\n<circle clip-path=\"url(#clip1702)\" cx=\"3962.37\" cy=\"1048.67\" r=\"18\" fill=\"#ffa500\" fill-rule=\"evenodd\" fill-opacity=\"1\" stroke=\"#000000\" stroke-opacity=\"1\" stroke-width=\"2.4\"/>\n<circle clip-path=\"url(#clip1702)\" cx=\"4030.74\" cy=\"749.898\" r=\"18\" fill=\"#ffa500\" fill-rule=\"evenodd\" fill-opacity=\"1\" stroke=\"#000000\" stroke-opacity=\"1\" stroke-width=\"2.4\"/>\n<circle clip-path=\"url(#clip1702)\" cx=\"4099.11\" cy=\"731.225\" r=\"18\" fill=\"#ffa500\" fill-rule=\"evenodd\" fill-opacity=\"1\" stroke=\"#000000\" stroke-opacity=\"1\" stroke-width=\"2.4\"/>\n<circle clip-path=\"url(#clip1702)\" cx=\"4167.48\" cy=\"712.552\" r=\"18\" fill=\"#ffa500\" fill-rule=\"evenodd\" fill-opacity=\"1\" stroke=\"#000000\" stroke-opacity=\"1\" stroke-width=\"2.4\"/>\n<circle clip-path=\"url(#clip1702)\" cx=\"4235.84\" cy=\"693.878\" r=\"18\" fill=\"#ffa500\" fill-rule=\"evenodd\" fill-opacity=\"1\" stroke=\"#000000\" stroke-opacity=\"1\" stroke-width=\"2.4\"/>\n</svg>\n"
          },
          "metadata": {}
        }
      ],
      "execution_count": 375,
      "metadata": {
        "collapsed": true,
        "jupyter": {
          "source_hidden": false,
          "outputs_hidden": false
        },
        "nteract": {
          "transient": {
            "deleting": false
          }
        },
        "execution": {
          "iopub.status.busy": "2020-10-13T05:49:41.619Z",
          "iopub.execute_input": "2020-10-13T05:49:41.632Z",
          "iopub.status.idle": "2020-10-13T05:49:41.666Z"
        }
      }
    }
  ],
  "metadata": {
    "kernel_info": {
      "name": "julia-1.4"
    },
    "language_info": {
      "file_extension": ".jl",
      "name": "julia",
      "mimetype": "application/julia",
      "version": "1.4.2"
    },
    "kernelspec": {
      "argv": [
        "/Applications/Julia-1.4.app/Contents/Resources/julia/bin/julia",
        "-i",
        "--startup-file=yes",
        "--color=yes",
        "--project=@.",
        "/Users/johnflorez/.julia/packages/IJulia/tOM8L/src/kernel.jl",
        "{connection_file}"
      ],
      "display_name": "Julia 1.4.2",
      "env": {},
      "interrupt_mode": "signal",
      "language": "julia",
      "name": "julia-1.4"
    },
    "nteract": {
      "version": "0.25.1"
    }
  },
  "nbformat": 4,
  "nbformat_minor": 0
}