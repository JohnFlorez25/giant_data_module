{
  "cells": [
    {
      "cell_type": "markdown",
      "source": [
        "***\n",
        "\n",
        "<div align=\"center\">\n",
        "  <h3> Desarrollo de un gestor de inteligencia colectiva y un marco de trabajo para el aprendizaje a través de la resolución colaborativa de      problemas en entornos educativos transmediales </h3>\n",
        "  <h4> Reporte técnico de Análisis de Datos. </h4>\n",
        "  <h5> Visualización de los Datos obtenidos en la primera iteración del Gestor de Inteligencia Colectiva GIANT </h5>\n",
        "  <h3> RT - 010 </h3>\n",
        "  <h3> JOHN FABER FLÓREZ VASCO - MÓDULO DE DATOS - GIANT </h3>\n",
        "</div>\n",
        "\n",
        "***"
      ],
      "metadata": {
        "nteract": {
          "transient": {
            "deleting": false
          }
        }
      }
    },
    {
      "cell_type": "markdown",
      "source": [
        "<p style='text-align: justify;'> \n",
        "\n",
        "<div align=\"center\">\n",
        "  <h2> 1. IMPORTANDO PAQUETES Y CONFIGURACIÓN DEL ENTORNO  </h2>\n",
        "</div>\n",
        "\n",
        "</p>"
      ],
      "metadata": {
        "nteract": {
          "transient": {
            "deleting": false
          }
        }
      }
    },
    {
      "cell_type": "code",
      "source": [
        "import Pkg; \n",
        "Pkg.add(\"Pkg\")\n",
        "using Pkg;"
      ],
      "outputs": [
        {
          "output_type": "stream",
          "name": "stderr",
          "text": [
            "\u001b[32m\u001b[1m   Updating\u001b[22m\u001b[39m registry at `~/.julia/registries/General`\n",
            "\u001b[32m\u001b[1m   Updating\u001b[22m\u001b[39m registry at `~/.julia/registries/JuliaComputingRegistry`\n",
            "\u001b[32m\u001b[1m  Resolving\u001b[22m\u001b[39m package versions...\n",
            "\u001b[32m\u001b[1m   Updating\u001b[22m\u001b[39m `~/.julia/environments/v1.4/Project.toml`\n",
            "\u001b[90m [no changes]\u001b[39m\n",
            "\u001b[32m\u001b[1m   Updating\u001b[22m\u001b[39m `~/.julia/environments/v1.4/Manifest.toml`\n",
            "\u001b[90m [no changes]\u001b[39m\n"
          ]
        }
      ],
      "execution_count": 1,
      "metadata": {
        "collapsed": true,
        "jupyter": {
          "source_hidden": false,
          "outputs_hidden": false
        },
        "nteract": {
          "transient": {
            "deleting": false
          }
        },
        "execution": {
          "iopub.status.busy": "2020-10-21T06:36:44.003Z",
          "iopub.execute_input": "2020-10-21T06:36:46.085Z",
          "iopub.status.idle": "2020-10-21T06:37:02.686Z"
        }
      }
    },
    {
      "cell_type": "code",
      "source": [
        "# Cargando los paquetes instalados\n",
        "using DataFrames\n",
        "using CSV\n",
        "using Plots\n",
        "using Statistics\n",
        "using StatsPlots\n",
        "using StatsBase\n",
        "using Lathe\n",
        "using Clustering #Métodos para la agrupación de datos y evaluación de la calidad de la agrupación.\n",
        "using Distances\n",
        "using Dates\n",
        "gr()"
      ],
      "outputs": [
        {
          "output_type": "execute_result",
          "execution_count": 2,
          "data": {
            "text/plain": "Plots.GRBackend()"
          },
          "metadata": {}
        }
      ],
      "execution_count": 2,
      "metadata": {
        "collapsed": true,
        "jupyter": {
          "source_hidden": false,
          "outputs_hidden": false
        },
        "nteract": {
          "transient": {
            "deleting": false
          }
        },
        "execution": {
          "iopub.status.busy": "2020-10-21T06:39:22.796Z",
          "iopub.execute_input": "2020-10-21T06:39:22.822Z",
          "iopub.status.idle": "2020-10-21T06:40:09.710Z"
        }
      }
    },
    {
      "cell_type": "markdown",
      "source": [
        "<div align=\"center\">\n",
        "  <h2> 2. CARGANDO LOS DATOS  </h2>\n",
        "</div>"
      ],
      "metadata": {
        "nteract": {
          "transient": {
            "deleting": false
          }
        }
      }
    },
    {
      "cell_type": "code",
      "source": [
        "# Se van a leer los datos usando un Archivo tipo CSV y lo vamos a convertir en un DataFrame \n",
        "eventsDataFrame = DataFrame(CSV.File(\"events_data_09_10_2020.csv\"))\n",
        "first(eventsDataFrame,5)\n"
      ],
      "outputs": [
        {
          "output_type": "execute_result",
          "execution_count": 31,
          "data": {
            "text/plain": "5×14 DataFrame. Omitted printing of 12 columns\n│ Row │ _id                      │ id    │\n│     │ \u001b[90mString\u001b[39m                   │ \u001b[90mInt64\u001b[39m │\n├─────┼──────────────────────────┼───────┤\n│ 1   │ 5f7fa802d706e40192c3bfbb │ 1     │\n│ 2   │ 5f7fa802d706e40192c3bfbc │ 2     │\n│ 3   │ 5f7fa802d706e40192c3bfbd │ 3     │\n│ 4   │ 5f7fa802d706e40192c3bfbe │ 4     │\n│ 5   │ 5f7fa802d706e40192c3bfbf │ 5     │",
            "text/html": "<table class=\"data-frame\"><thead><tr><th></th><th>_id</th><th>id</th><th>eventname</th></tr><tr><th></th><th>String</th><th>Int64</th><th>String</th></tr></thead><tbody><p>5 rows × 14 columns (omitted printing of 11 columns)</p><tr><th>1</th><td>5f7fa802d706e40192c3bfbb</td><td>1</td><td>\\\\giant\\\\event\\\\extended_challenge_team_viewed</td></tr><tr><th>2</th><td>5f7fa802d706e40192c3bfbc</td><td>2</td><td>\\\\core\\\\event\\\\user_login_failed</td></tr><tr><th>3</th><td>5f7fa802d706e40192c3bfbd</td><td>3</td><td>\\\\core\\\\event\\\\user_loggedin</td></tr><tr><th>4</th><td>5f7fa802d706e40192c3bfbe</td><td>4</td><td>\\\\core\\\\event\\\\dashboard_viewed</td></tr><tr><th>5</th><td>5f7fa802d706e40192c3bfbf</td><td>5</td><td>\\\\core\\\\event\\\\course_viewed</td></tr></tbody></table>",
            "text/latex": "\\begin{tabular}{r|cccc}\n\t& \\_id & id & eventname & \\\\\n\t\\hline\n\t& String & Int64 & String & \\\\\n\t\\hline\n\t1 & 5f7fa802d706e40192c3bfbb & 1 & \\textbackslash{}\\textbackslash{}giant\\textbackslash{}\\textbackslash{}event\\textbackslash{}\\textbackslash{}extended\\_challenge\\_team\\_viewed & $\\dots$ \\\\\n\t2 & 5f7fa802d706e40192c3bfbc & 2 & \\textbackslash{}\\textbackslash{}core\\textbackslash{}\\textbackslash{}event\\textbackslash{}\\textbackslash{}user\\_login\\_failed & $\\dots$ \\\\\n\t3 & 5f7fa802d706e40192c3bfbd & 3 & \\textbackslash{}\\textbackslash{}core\\textbackslash{}\\textbackslash{}event\\textbackslash{}\\textbackslash{}user\\_loggedin & $\\dots$ \\\\\n\t4 & 5f7fa802d706e40192c3bfbe & 4 & \\textbackslash{}\\textbackslash{}core\\textbackslash{}\\textbackslash{}event\\textbackslash{}\\textbackslash{}dashboard\\_viewed & $\\dots$ \\\\\n\t5 & 5f7fa802d706e40192c3bfbf & 5 & \\textbackslash{}\\textbackslash{}core\\textbackslash{}\\textbackslash{}event\\textbackslash{}\\textbackslash{}course\\_viewed & $\\dots$ \\\\\n\\end{tabular}\n"
          },
          "metadata": {}
        }
      ],
      "execution_count": 31,
      "metadata": {
        "collapsed": true,
        "jupyter": {
          "source_hidden": false,
          "outputs_hidden": false
        },
        "nteract": {
          "transient": {
            "deleting": false
          }
        },
        "execution": {
          "iopub.status.busy": "2020-10-21T07:52:20.050Z",
          "iopub.execute_input": "2020-10-21T07:52:20.076Z",
          "iopub.status.idle": "2020-10-21T07:52:20.264Z"
        }
      }
    },
    {
      "cell_type": "code",
      "source": [
        "#Resumen del marco de los datos\n",
        "println(size(eventsDataFrame))"
      ],
      "outputs": [
        {
          "output_type": "stream",
          "name": "stdout",
          "text": [
            "(30020, 14)\n"
          ]
        }
      ],
      "execution_count": 32,
      "metadata": {
        "collapsed": true,
        "jupyter": {
          "source_hidden": false,
          "outputs_hidden": false
        },
        "nteract": {
          "transient": {
            "deleting": false
          }
        },
        "execution": {
          "iopub.status.busy": "2020-10-21T07:52:22.176Z",
          "iopub.execute_input": "2020-10-21T07:52:22.191Z",
          "iopub.status.idle": "2020-10-21T07:52:22.226Z"
        }
      }
    },
    {
      "cell_type": "code",
      "source": [
        "#Observado los nombres de las columnas \n",
        "names(eventsDataFrame)"
      ],
      "outputs": [
        {
          "output_type": "execute_result",
          "execution_count": 33,
          "data": {
            "text/plain": "14-element Array{String,1}:\n \"_id\"\n \"id\"\n \"eventname\"\n \"component\"\n \"action\"\n \"target\"\n \"objecttable\"\n \"objectid\"\n \"crud\"\n \"userid\"\n \"username\"\n \"courseid\"\n \"other\"\n \"timecreated\""
          },
          "metadata": {}
        }
      ],
      "execution_count": 33,
      "metadata": {
        "collapsed": true,
        "jupyter": {
          "source_hidden": false,
          "outputs_hidden": false
        },
        "nteract": {
          "transient": {
            "deleting": false
          }
        },
        "execution": {
          "iopub.status.busy": "2020-10-21T07:52:24.083Z",
          "iopub.execute_input": "2020-10-21T07:52:24.098Z",
          "iopub.status.idle": "2020-10-21T07:52:24.141Z"
        }
      }
    },
    {
      "cell_type": "markdown",
      "source": [
        "<div align=\"center\">\n",
        "  <h2> 3. INGENIERÍA DE CARACTÉRISTICAS  </h2>\n",
        "</div>"
      ],
      "metadata": {
        "nteract": {
          "transient": {
            "deleting": false
          }
        }
      }
    },
    {
      "cell_type": "code",
      "source": [
        "#Convirtiendo variables en tipo String\n",
        "eventsDataFrame[!,[:eventname, :component, :action, :target, :crud]]=convert(Array{String}, eventsDataFrame[!,[:eventname, :component, :action, :target, :crud]])"
      ],
      "outputs": [
        {
          "output_type": "execute_result",
          "execution_count": 34,
          "data": {
            "text/plain": "30020×5 Array{String,2}:\n \"\\\\giant\\\\event\\\\extended_challenge_team_viewed\"  …  \"extended_challenge_team\"  \"r\"\n \"\\\\core\\\\event\\\\user_login_failed\"                   \"user_login\"               \"r\"\n \"\\\\core\\\\event\\\\user_loggedin\"                       \"user\"                     \"r\"\n \"\\\\core\\\\event\\\\dashboard_viewed\"                    \"dashboard\"                \"r\"\n \"\\\\core\\\\event\\\\course_viewed\"                       \"course\"                   \"r\"\n \"\\\\core\\\\event\\\\course_viewed\"                    …  \"course\"                   \"r\"\n \"\\\\core\\\\event\\\\dashboard_viewed\"                    \"dashboard\"                \"r\"\n \"\\\\core\\\\event\\\\dashboard_viewed\"                    \"dashboard\"                \"r\"\n \"\\\\core\\\\event\\\\user_loggedin\"                       \"user\"                     \"r\"\n \"\\\\core\\\\event\\\\dashboard_viewed\"                    \"dashboard\"                \"r\"\n \"\\\\core\\\\event\\\\user_loggedin\"                    …  \"user\"                     \"r\"\n \"\\\\core\\\\event\\\\dashboard_viewed\"                    \"dashboard\"                \"r\"\n \"\\\\core\\\\event\\\\user_profile_viewed\"                 \"user_profile\"             \"r\"\n ⋮                                                 ⋱                             \n \"\\\\mod_scorm\\\\event\\\\course_module_viewed\"           \"course_module\"            \"r\"\n \"\\\\mod_scorm\\\\event\\\\sco_launched\"                   \"sco\"                      \"r\"\n \"\\\\core\\\\event\\\\dashboard_viewed\"                 …  \"dashboard\"                \"r\"\n \"\\\\core\\\\event\\\\course_viewed\"                       \"course\"                   \"r\"\n \"\\\\core\\\\event\\\\course_viewed\"                       \"course\"                   \"r\"\n \"\\\\mod_scorm\\\\event\\\\course_module_viewed\"           \"course_module\"            \"r\"\n \"\\\\mod_scorm\\\\event\\\\sco_launched\"                   \"sco\"                      \"r\"\n \"\\\\core\\\\event\\\\dashboard_viewed\"                 …  \"dashboard\"                \"r\"\n \"\\\\core\\\\event\\\\course_viewed\"                       \"course\"                   \"r\"\n \"\\\\core\\\\event\\\\course_viewed\"                       \"course\"                   \"r\"\n \"\\\\mod_scorm\\\\event\\\\course_module_viewed\"           \"course_module\"            \"r\"\n \"\\\\mod_scorm\\\\event\\\\sco_launched\"                   \"sco\"                      \"r\""
          },
          "metadata": {}
        }
      ],
      "execution_count": 34,
      "metadata": {
        "collapsed": true,
        "jupyter": {
          "source_hidden": false,
          "outputs_hidden": false
        },
        "nteract": {
          "transient": {
            "deleting": false
          }
        },
        "execution": {
          "iopub.status.busy": "2020-10-21T07:52:27.888Z",
          "iopub.execute_input": "2020-10-21T07:52:27.908Z",
          "iopub.status.idle": "2020-10-21T07:52:27.948Z"
        }
      }
    },
    {
      "cell_type": "code",
      "source": [
        "#Convirtiendo Timestap de la variable timecreated a formato de fecha\n",
        "eventsDataFrame[!,:timecreated] = map((x) -> unix2datetime(x), eventsDataFrame[!,:timecreated]);"
      ],
      "outputs": [],
      "execution_count": 35,
      "metadata": {
        "collapsed": true,
        "jupyter": {
          "source_hidden": false,
          "outputs_hidden": false
        },
        "nteract": {
          "transient": {
            "deleting": false
          }
        },
        "execution": {
          "iopub.status.busy": "2020-10-21T07:52:31.637Z",
          "iopub.execute_input": "2020-10-21T07:52:31.653Z",
          "iopub.status.idle": "2020-10-21T07:52:32.298Z"
        }
      }
    },
    {
      "cell_type": "code",
      "source": [
        "eventsDataFrame[!,[:timecreated]]"
      ],
      "outputs": [
        {
          "output_type": "execute_result",
          "execution_count": 36,
          "data": {
            "text/plain": "30020×1 DataFrame\n│ Row   │ timecreated         │\n│       │ \u001b[90mDateTime\u001b[39m            │\n├───────┼─────────────────────┤\n│ 1     │ 2020-08-12T19:16:16 │\n│ 2     │ 2020-08-12T20:19:45 │\n│ 3     │ 2020-08-12T20:20:23 │\n│ 4     │ 2020-08-12T20:20:23 │\n│ 5     │ 2020-08-12T20:20:27 │\n│ 6     │ 2020-08-12T20:20:30 │\n│ 7     │ 2020-08-12T20:22:53 │\n│ 8     │ 2020-08-12T20:24:24 │\n│ 9     │ 2020-08-12T20:39:07 │\n│ 10    │ 2020-08-12T20:39:07 │\n⋮\n│ 30010 │ 2020-10-08T23:26:54 │\n│ 30011 │ 2020-10-08T23:38:02 │\n│ 30012 │ 2020-10-08T23:38:20 │\n│ 30013 │ 2020-10-08T23:38:26 │\n│ 30014 │ 2020-10-08T23:38:28 │\n│ 30015 │ 2020-10-08T23:38:32 │\n│ 30016 │ 2020-10-08T23:39:09 │\n│ 30017 │ 2020-10-08T23:39:11 │\n│ 30018 │ 2020-10-08T23:39:24 │\n│ 30019 │ 2020-10-08T23:39:33 │\n│ 30020 │ 2020-10-08T23:39:43 │",
            "text/html": "<table class=\"data-frame\"><thead><tr><th></th><th>timecreated</th></tr><tr><th></th><th>DateTime</th></tr></thead><tbody><p>30,020 rows × 1 columns</p><tr><th>1</th><td>2020-08-12T19:16:16</td></tr><tr><th>2</th><td>2020-08-12T20:19:45</td></tr><tr><th>3</th><td>2020-08-12T20:20:23</td></tr><tr><th>4</th><td>2020-08-12T20:20:23</td></tr><tr><th>5</th><td>2020-08-12T20:20:27</td></tr><tr><th>6</th><td>2020-08-12T20:20:30</td></tr><tr><th>7</th><td>2020-08-12T20:22:53</td></tr><tr><th>8</th><td>2020-08-12T20:24:24</td></tr><tr><th>9</th><td>2020-08-12T20:39:07</td></tr><tr><th>10</th><td>2020-08-12T20:39:07</td></tr><tr><th>11</th><td>2020-08-12T20:39:19</td></tr><tr><th>12</th><td>2020-08-12T20:39:20</td></tr><tr><th>13</th><td>2020-08-12T20:39:21</td></tr><tr><th>14</th><td>2020-08-12T20:39:41</td></tr><tr><th>15</th><td>2020-08-12T20:39:52</td></tr><tr><th>16</th><td>2020-08-12T20:39:57</td></tr><tr><th>17</th><td>2020-08-12T20:39:57</td></tr><tr><th>18</th><td>2020-08-12T20:39:59</td></tr><tr><th>19</th><td>2020-08-12T20:40:12</td></tr><tr><th>20</th><td>2020-08-12T20:40:12</td></tr><tr><th>21</th><td>2020-08-12T20:40:21</td></tr><tr><th>22</th><td>2020-08-12T20:40:26</td></tr><tr><th>23</th><td>2020-08-12T20:40:31</td></tr><tr><th>24</th><td>2020-08-12T20:40:32</td></tr><tr><th>25</th><td>2020-08-12T20:40:38</td></tr><tr><th>26</th><td>2020-08-12T20:40:44</td></tr><tr><th>27</th><td>2020-08-12T20:40:47</td></tr><tr><th>28</th><td>2020-08-12T20:40:47</td></tr><tr><th>29</th><td>2020-08-12T20:40:48</td></tr><tr><th>30</th><td>2020-08-12T20:42:48</td></tr><tr><th>&vellip;</th><td>&vellip;</td></tr></tbody></table>",
            "text/latex": "\\begin{tabular}{r|c}\n\t& timecreated\\\\\n\t\\hline\n\t& DateTime\\\\\n\t\\hline\n\t1 & 2020-08-12T19:16:16 \\\\\n\t2 & 2020-08-12T20:19:45 \\\\\n\t3 & 2020-08-12T20:20:23 \\\\\n\t4 & 2020-08-12T20:20:23 \\\\\n\t5 & 2020-08-12T20:20:27 \\\\\n\t6 & 2020-08-12T20:20:30 \\\\\n\t7 & 2020-08-12T20:22:53 \\\\\n\t8 & 2020-08-12T20:24:24 \\\\\n\t9 & 2020-08-12T20:39:07 \\\\\n\t10 & 2020-08-12T20:39:07 \\\\\n\t11 & 2020-08-12T20:39:19 \\\\\n\t12 & 2020-08-12T20:39:20 \\\\\n\t13 & 2020-08-12T20:39:21 \\\\\n\t14 & 2020-08-12T20:39:41 \\\\\n\t15 & 2020-08-12T20:39:52 \\\\\n\t16 & 2020-08-12T20:39:57 \\\\\n\t17 & 2020-08-12T20:39:57 \\\\\n\t18 & 2020-08-12T20:39:59 \\\\\n\t19 & 2020-08-12T20:40:12 \\\\\n\t20 & 2020-08-12T20:40:12 \\\\\n\t21 & 2020-08-12T20:40:21 \\\\\n\t22 & 2020-08-12T20:40:26 \\\\\n\t23 & 2020-08-12T20:40:31 \\\\\n\t24 & 2020-08-12T20:40:32 \\\\\n\t25 & 2020-08-12T20:40:38 \\\\\n\t26 & 2020-08-12T20:40:44 \\\\\n\t27 & 2020-08-12T20:40:47 \\\\\n\t28 & 2020-08-12T20:40:47 \\\\\n\t29 & 2020-08-12T20:40:48 \\\\\n\t30 & 2020-08-12T20:42:48 \\\\\n\t$\\dots$ & $\\dots$ \\\\\n\\end{tabular}\n"
          },
          "metadata": {}
        }
      ],
      "execution_count": 36,
      "metadata": {
        "collapsed": true,
        "jupyter": {
          "source_hidden": false,
          "outputs_hidden": false
        },
        "nteract": {
          "transient": {
            "deleting": false
          }
        },
        "execution": {
          "iopub.status.busy": "2020-10-21T07:52:34.016Z",
          "iopub.execute_input": "2020-10-21T07:52:34.035Z",
          "iopub.status.idle": "2020-10-21T07:52:34.331Z"
        }
      }
    },
    {
      "cell_type": "code",
      "source": [
        "#Convirtiendo DataTime to String \n",
        "eventsDataFrame[!,:timecreated] = map((x) -> Dates.format(x, \"yyyy-mm-dd HH:MM:SS\") , eventsDataFrame[!,:timecreated])"
      ],
      "outputs": [
        {
          "output_type": "execute_result",
          "execution_count": 37,
          "data": {
            "text/plain": "30020-element Array{String,1}:\n \"2020-08-12 19:16:16\"\n \"2020-08-12 20:19:45\"\n \"2020-08-12 20:20:23\"\n \"2020-08-12 20:20:23\"\n \"2020-08-12 20:20:27\"\n \"2020-08-12 20:20:30\"\n \"2020-08-12 20:22:53\"\n \"2020-08-12 20:24:24\"\n \"2020-08-12 20:39:07\"\n \"2020-08-12 20:39:07\"\n \"2020-08-12 20:39:19\"\n \"2020-08-12 20:39:20\"\n \"2020-08-12 20:39:21\"\n ⋮\n \"2020-10-08 23:26:53\"\n \"2020-10-08 23:26:54\"\n \"2020-10-08 23:38:02\"\n \"2020-10-08 23:38:20\"\n \"2020-10-08 23:38:26\"\n \"2020-10-08 23:38:28\"\n \"2020-10-08 23:38:32\"\n \"2020-10-08 23:39:09\"\n \"2020-10-08 23:39:11\"\n \"2020-10-08 23:39:24\"\n \"2020-10-08 23:39:33\"\n \"2020-10-08 23:39:43\""
          },
          "metadata": {}
        }
      ],
      "execution_count": 37,
      "metadata": {
        "collapsed": true,
        "jupyter": {
          "source_hidden": false,
          "outputs_hidden": false
        },
        "nteract": {
          "transient": {
            "deleting": false
          }
        },
        "execution": {
          "iopub.status.busy": "2020-10-21T07:52:37.540Z",
          "iopub.execute_input": "2020-10-21T07:52:37.569Z",
          "iopub.status.idle": "2020-10-21T07:52:38.673Z"
        }
      }
    },
    {
      "cell_type": "code",
      "source": [
        "# Agregando las columnas de fecha y hora\n",
        "eventsDataFrame=hcat(eventsDataFrame, DataFrame(reduce(vcat, permutedims.(split.(eventsDataFrame[!,:timecreated], ' '))), [:date, :time,]))"
      ],
      "outputs": [
        {
          "output_type": "execute_result",
          "execution_count": 38,
          "data": {
            "text/plain": "30020×16 DataFrame. Omitted printing of 14 columns\n│ Row   │ _id                      │ id    │\n│       │ \u001b[90mString\u001b[39m                   │ \u001b[90mInt64\u001b[39m │\n├───────┼──────────────────────────┼───────┤\n│ 1     │ 5f7fa802d706e40192c3bfbb │ 1     │\n│ 2     │ 5f7fa802d706e40192c3bfbc │ 2     │\n│ 3     │ 5f7fa802d706e40192c3bfbd │ 3     │\n│ 4     │ 5f7fa802d706e40192c3bfbe │ 4     │\n│ 5     │ 5f7fa802d706e40192c3bfbf │ 5     │\n│ 6     │ 5f7fa802d706e40192c3bfc0 │ 6     │\n│ 7     │ 5f7fa802d706e40192c3bfc1 │ 7     │\n│ 8     │ 5f7fa802d706e40192c3bfc2 │ 8     │\n│ 9     │ 5f7fa802d706e40192c3bfc3 │ 9     │\n│ 10    │ 5f7fa802d706e40192c3bfc4 │ 10    │\n⋮\n│ 30010 │ 5f7fa80ad706e40192c434f4 │ 30010 │\n│ 30011 │ 5f7fa80ad706e40192c434f5 │ 30011 │\n│ 30012 │ 5f7fa80ad706e40192c434f6 │ 30012 │\n│ 30013 │ 5f7fa80ad706e40192c434f7 │ 30013 │\n│ 30014 │ 5f7fa80ad706e40192c434f8 │ 30014 │\n│ 30015 │ 5f7fa80ad706e40192c434f9 │ 30015 │\n│ 30016 │ 5f7fa80ad706e40192c434fa │ 30016 │\n│ 30017 │ 5f7fa80ad706e40192c434fb │ 30017 │\n│ 30018 │ 5f7fa80ad706e40192c434fc │ 30018 │\n│ 30019 │ 5f7fa80ad706e40192c434fd │ 30019 │\n│ 30020 │ 5f7fa80ad706e40192c434fe │ 30020 │",
            "text/html": "<table class=\"data-frame\"><thead><tr><th></th><th>_id</th><th>id</th><th>eventname</th></tr><tr><th></th><th>String</th><th>Int64</th><th>String</th></tr></thead><tbody><p>30,020 rows × 16 columns (omitted printing of 13 columns)</p><tr><th>1</th><td>5f7fa802d706e40192c3bfbb</td><td>1</td><td>\\\\giant\\\\event\\\\extended_challenge_team_viewed</td></tr><tr><th>2</th><td>5f7fa802d706e40192c3bfbc</td><td>2</td><td>\\\\core\\\\event\\\\user_login_failed</td></tr><tr><th>3</th><td>5f7fa802d706e40192c3bfbd</td><td>3</td><td>\\\\core\\\\event\\\\user_loggedin</td></tr><tr><th>4</th><td>5f7fa802d706e40192c3bfbe</td><td>4</td><td>\\\\core\\\\event\\\\dashboard_viewed</td></tr><tr><th>5</th><td>5f7fa802d706e40192c3bfbf</td><td>5</td><td>\\\\core\\\\event\\\\course_viewed</td></tr><tr><th>6</th><td>5f7fa802d706e40192c3bfc0</td><td>6</td><td>\\\\core\\\\event\\\\course_viewed</td></tr><tr><th>7</th><td>5f7fa802d706e40192c3bfc1</td><td>7</td><td>\\\\core\\\\event\\\\dashboard_viewed</td></tr><tr><th>8</th><td>5f7fa802d706e40192c3bfc2</td><td>8</td><td>\\\\core\\\\event\\\\dashboard_viewed</td></tr><tr><th>9</th><td>5f7fa802d706e40192c3bfc3</td><td>9</td><td>\\\\core\\\\event\\\\user_loggedin</td></tr><tr><th>10</th><td>5f7fa802d706e40192c3bfc4</td><td>10</td><td>\\\\core\\\\event\\\\dashboard_viewed</td></tr><tr><th>11</th><td>5f7fa802d706e40192c3bfc5</td><td>11</td><td>\\\\core\\\\event\\\\user_loggedin</td></tr><tr><th>12</th><td>5f7fa802d706e40192c3bfc6</td><td>12</td><td>\\\\core\\\\event\\\\dashboard_viewed</td></tr><tr><th>13</th><td>5f7fa802d706e40192c3bfc7</td><td>13</td><td>\\\\core\\\\event\\\\user_profile_viewed</td></tr><tr><th>14</th><td>5f7fa802d706e40192c3bfc8</td><td>14</td><td>\\\\core\\\\event\\\\course_viewed</td></tr><tr><th>15</th><td>5f7fa802d706e40192c3bfc9</td><td>15</td><td>\\\\core\\\\event\\\\course_viewed</td></tr><tr><th>16</th><td>5f7fa802d706e40192c3bfca</td><td>16</td><td>\\\\mod_scorm\\\\event\\\\course_module_viewed</td></tr><tr><th>17</th><td>5f7fa802d706e40192c3bfcb</td><td>17</td><td>\\\\mod_scorm\\\\event\\\\course_module_viewed</td></tr><tr><th>18</th><td>5f7fa802d706e40192c3bfcc</td><td>18</td><td>\\\\mod_scorm\\\\event\\\\sco_launched</td></tr><tr><th>19</th><td>5f7fa802d706e40192c3bfcd</td><td>19</td><td>\\\\core\\\\event\\\\user_loggedin</td></tr><tr><th>20</th><td>5f7fa802d706e40192c3bfce</td><td>20</td><td>\\\\core\\\\event\\\\dashboard_viewed</td></tr><tr><th>21</th><td>5f7fa802d706e40192c3bfcf</td><td>21</td><td>\\\\core\\\\event\\\\course_viewed</td></tr><tr><th>22</th><td>5f7fa802d706e40192c3bfd0</td><td>22</td><td>\\\\core\\\\event\\\\dashboard_viewed</td></tr><tr><th>23</th><td>5f7fa802d706e40192c3bfd1</td><td>23</td><td>\\\\core\\\\event\\\\course_viewed</td></tr><tr><th>24</th><td>5f7fa802d706e40192c3bfd2</td><td>24</td><td>\\\\core\\\\event\\\\course_viewed</td></tr><tr><th>25</th><td>5f7fa802d706e40192c3bfd3</td><td>25</td><td>\\\\core\\\\event\\\\course_viewed</td></tr><tr><th>26</th><td>5f7fa802d706e40192c3bfd4</td><td>26</td><td>\\\\core\\\\event\\\\course_viewed</td></tr><tr><th>27</th><td>5f7fa802d706e40192c3bfd5</td><td>27</td><td>\\\\mod_scorm\\\\event\\\\course_module_viewed</td></tr><tr><th>28</th><td>5f7fa802d706e40192c3bfd6</td><td>28</td><td>\\\\mod_scorm\\\\event\\\\course_module_viewed</td></tr><tr><th>29</th><td>5f7fa802d706e40192c3bfd7</td><td>29</td><td>\\\\mod_scorm\\\\event\\\\sco_launched</td></tr><tr><th>30</th><td>5f7fa802d706e40192c3bfd8</td><td>30</td><td>\\\\core\\\\event\\\\dashboard_viewed</td></tr><tr><th>&vellip;</th><td>&vellip;</td><td>&vellip;</td><td>&vellip;</td></tr></tbody></table>",
            "text/latex": "\\begin{tabular}{r|cccc}\n\t& \\_id & id & eventname & \\\\\n\t\\hline\n\t& String & Int64 & String & \\\\\n\t\\hline\n\t1 & 5f7fa802d706e40192c3bfbb & 1 & \\textbackslash{}\\textbackslash{}giant\\textbackslash{}\\textbackslash{}event\\textbackslash{}\\textbackslash{}extended\\_challenge\\_team\\_viewed & $\\dots$ \\\\\n\t2 & 5f7fa802d706e40192c3bfbc & 2 & \\textbackslash{}\\textbackslash{}core\\textbackslash{}\\textbackslash{}event\\textbackslash{}\\textbackslash{}user\\_login\\_failed & $\\dots$ \\\\\n\t3 & 5f7fa802d706e40192c3bfbd & 3 & \\textbackslash{}\\textbackslash{}core\\textbackslash{}\\textbackslash{}event\\textbackslash{}\\textbackslash{}user\\_loggedin & $\\dots$ \\\\\n\t4 & 5f7fa802d706e40192c3bfbe & 4 & \\textbackslash{}\\textbackslash{}core\\textbackslash{}\\textbackslash{}event\\textbackslash{}\\textbackslash{}dashboard\\_viewed & $\\dots$ \\\\\n\t5 & 5f7fa802d706e40192c3bfbf & 5 & \\textbackslash{}\\textbackslash{}core\\textbackslash{}\\textbackslash{}event\\textbackslash{}\\textbackslash{}course\\_viewed & $\\dots$ \\\\\n\t6 & 5f7fa802d706e40192c3bfc0 & 6 & \\textbackslash{}\\textbackslash{}core\\textbackslash{}\\textbackslash{}event\\textbackslash{}\\textbackslash{}course\\_viewed & $\\dots$ \\\\\n\t7 & 5f7fa802d706e40192c3bfc1 & 7 & \\textbackslash{}\\textbackslash{}core\\textbackslash{}\\textbackslash{}event\\textbackslash{}\\textbackslash{}dashboard\\_viewed & $\\dots$ \\\\\n\t8 & 5f7fa802d706e40192c3bfc2 & 8 & \\textbackslash{}\\textbackslash{}core\\textbackslash{}\\textbackslash{}event\\textbackslash{}\\textbackslash{}dashboard\\_viewed & $\\dots$ \\\\\n\t9 & 5f7fa802d706e40192c3bfc3 & 9 & \\textbackslash{}\\textbackslash{}core\\textbackslash{}\\textbackslash{}event\\textbackslash{}\\textbackslash{}user\\_loggedin & $\\dots$ \\\\\n\t10 & 5f7fa802d706e40192c3bfc4 & 10 & \\textbackslash{}\\textbackslash{}core\\textbackslash{}\\textbackslash{}event\\textbackslash{}\\textbackslash{}dashboard\\_viewed & $\\dots$ \\\\\n\t11 & 5f7fa802d706e40192c3bfc5 & 11 & \\textbackslash{}\\textbackslash{}core\\textbackslash{}\\textbackslash{}event\\textbackslash{}\\textbackslash{}user\\_loggedin & $\\dots$ \\\\\n\t12 & 5f7fa802d706e40192c3bfc6 & 12 & \\textbackslash{}\\textbackslash{}core\\textbackslash{}\\textbackslash{}event\\textbackslash{}\\textbackslash{}dashboard\\_viewed & $\\dots$ \\\\\n\t13 & 5f7fa802d706e40192c3bfc7 & 13 & \\textbackslash{}\\textbackslash{}core\\textbackslash{}\\textbackslash{}event\\textbackslash{}\\textbackslash{}user\\_profile\\_viewed & $\\dots$ \\\\\n\t14 & 5f7fa802d706e40192c3bfc8 & 14 & \\textbackslash{}\\textbackslash{}core\\textbackslash{}\\textbackslash{}event\\textbackslash{}\\textbackslash{}course\\_viewed & $\\dots$ \\\\\n\t15 & 5f7fa802d706e40192c3bfc9 & 15 & \\textbackslash{}\\textbackslash{}core\\textbackslash{}\\textbackslash{}event\\textbackslash{}\\textbackslash{}course\\_viewed & $\\dots$ \\\\\n\t16 & 5f7fa802d706e40192c3bfca & 16 & \\textbackslash{}\\textbackslash{}mod\\_scorm\\textbackslash{}\\textbackslash{}event\\textbackslash{}\\textbackslash{}course\\_module\\_viewed & $\\dots$ \\\\\n\t17 & 5f7fa802d706e40192c3bfcb & 17 & \\textbackslash{}\\textbackslash{}mod\\_scorm\\textbackslash{}\\textbackslash{}event\\textbackslash{}\\textbackslash{}course\\_module\\_viewed & $\\dots$ \\\\\n\t18 & 5f7fa802d706e40192c3bfcc & 18 & \\textbackslash{}\\textbackslash{}mod\\_scorm\\textbackslash{}\\textbackslash{}event\\textbackslash{}\\textbackslash{}sco\\_launched & $\\dots$ \\\\\n\t19 & 5f7fa802d706e40192c3bfcd & 19 & \\textbackslash{}\\textbackslash{}core\\textbackslash{}\\textbackslash{}event\\textbackslash{}\\textbackslash{}user\\_loggedin & $\\dots$ \\\\\n\t20 & 5f7fa802d706e40192c3bfce & 20 & \\textbackslash{}\\textbackslash{}core\\textbackslash{}\\textbackslash{}event\\textbackslash{}\\textbackslash{}dashboard\\_viewed & $\\dots$ \\\\\n\t21 & 5f7fa802d706e40192c3bfcf & 21 & \\textbackslash{}\\textbackslash{}core\\textbackslash{}\\textbackslash{}event\\textbackslash{}\\textbackslash{}course\\_viewed & $\\dots$ \\\\\n\t22 & 5f7fa802d706e40192c3bfd0 & 22 & \\textbackslash{}\\textbackslash{}core\\textbackslash{}\\textbackslash{}event\\textbackslash{}\\textbackslash{}dashboard\\_viewed & $\\dots$ \\\\\n\t23 & 5f7fa802d706e40192c3bfd1 & 23 & \\textbackslash{}\\textbackslash{}core\\textbackslash{}\\textbackslash{}event\\textbackslash{}\\textbackslash{}course\\_viewed & $\\dots$ \\\\\n\t24 & 5f7fa802d706e40192c3bfd2 & 24 & \\textbackslash{}\\textbackslash{}core\\textbackslash{}\\textbackslash{}event\\textbackslash{}\\textbackslash{}course\\_viewed & $\\dots$ \\\\\n\t25 & 5f7fa802d706e40192c3bfd3 & 25 & \\textbackslash{}\\textbackslash{}core\\textbackslash{}\\textbackslash{}event\\textbackslash{}\\textbackslash{}course\\_viewed & $\\dots$ \\\\\n\t26 & 5f7fa802d706e40192c3bfd4 & 26 & \\textbackslash{}\\textbackslash{}core\\textbackslash{}\\textbackslash{}event\\textbackslash{}\\textbackslash{}course\\_viewed & $\\dots$ \\\\\n\t27 & 5f7fa802d706e40192c3bfd5 & 27 & \\textbackslash{}\\textbackslash{}mod\\_scorm\\textbackslash{}\\textbackslash{}event\\textbackslash{}\\textbackslash{}course\\_module\\_viewed & $\\dots$ \\\\\n\t28 & 5f7fa802d706e40192c3bfd6 & 28 & \\textbackslash{}\\textbackslash{}mod\\_scorm\\textbackslash{}\\textbackslash{}event\\textbackslash{}\\textbackslash{}course\\_module\\_viewed & $\\dots$ \\\\\n\t29 & 5f7fa802d706e40192c3bfd7 & 29 & \\textbackslash{}\\textbackslash{}mod\\_scorm\\textbackslash{}\\textbackslash{}event\\textbackslash{}\\textbackslash{}sco\\_launched & $\\dots$ \\\\\n\t30 & 5f7fa802d706e40192c3bfd8 & 30 & \\textbackslash{}\\textbackslash{}core\\textbackslash{}\\textbackslash{}event\\textbackslash{}\\textbackslash{}dashboard\\_viewed & $\\dots$ \\\\\n\t$\\dots$ & $\\dots$ & $\\dots$ & $\\dots$ &  \\\\\n\\end{tabular}\n"
          },
          "metadata": {}
        }
      ],
      "execution_count": 38,
      "metadata": {
        "collapsed": true,
        "jupyter": {
          "source_hidden": false,
          "outputs_hidden": false
        },
        "nteract": {
          "transient": {
            "deleting": false
          }
        },
        "execution": {
          "iopub.status.busy": "2020-10-21T07:52:43.076Z",
          "iopub.execute_input": "2020-10-21T07:52:43.094Z",
          "iopub.status.idle": "2020-10-21T07:52:43.140Z"
        }
      }
    },
    {
      "cell_type": "code",
      "source": [
        "# Agregando las columnas de año, mes y día a nuestro set de datos\n",
        "eventsDataFrame=hcat(eventsDataFrame, DataFrame(reduce(vcat, permutedims.(split.(eventsDataFrame[!,:date], '-'))), [:year, :month, :day]))"
      ],
      "outputs": [
        {
          "output_type": "execute_result",
          "execution_count": 39,
          "data": {
            "text/plain": "30020×19 DataFrame. Omitted printing of 17 columns\n│ Row   │ _id                      │ id    │\n│       │ \u001b[90mString\u001b[39m                   │ \u001b[90mInt64\u001b[39m │\n├───────┼──────────────────────────┼───────┤\n│ 1     │ 5f7fa802d706e40192c3bfbb │ 1     │\n│ 2     │ 5f7fa802d706e40192c3bfbc │ 2     │\n│ 3     │ 5f7fa802d706e40192c3bfbd │ 3     │\n│ 4     │ 5f7fa802d706e40192c3bfbe │ 4     │\n│ 5     │ 5f7fa802d706e40192c3bfbf │ 5     │\n│ 6     │ 5f7fa802d706e40192c3bfc0 │ 6     │\n│ 7     │ 5f7fa802d706e40192c3bfc1 │ 7     │\n│ 8     │ 5f7fa802d706e40192c3bfc2 │ 8     │\n│ 9     │ 5f7fa802d706e40192c3bfc3 │ 9     │\n│ 10    │ 5f7fa802d706e40192c3bfc4 │ 10    │\n⋮\n│ 30010 │ 5f7fa80ad706e40192c434f4 │ 30010 │\n│ 30011 │ 5f7fa80ad706e40192c434f5 │ 30011 │\n│ 30012 │ 5f7fa80ad706e40192c434f6 │ 30012 │\n│ 30013 │ 5f7fa80ad706e40192c434f7 │ 30013 │\n│ 30014 │ 5f7fa80ad706e40192c434f8 │ 30014 │\n│ 30015 │ 5f7fa80ad706e40192c434f9 │ 30015 │\n│ 30016 │ 5f7fa80ad706e40192c434fa │ 30016 │\n│ 30017 │ 5f7fa80ad706e40192c434fb │ 30017 │\n│ 30018 │ 5f7fa80ad706e40192c434fc │ 30018 │\n│ 30019 │ 5f7fa80ad706e40192c434fd │ 30019 │\n│ 30020 │ 5f7fa80ad706e40192c434fe │ 30020 │",
            "text/html": "<table class=\"data-frame\"><thead><tr><th></th><th>_id</th><th>id</th><th>eventname</th></tr><tr><th></th><th>String</th><th>Int64</th><th>String</th></tr></thead><tbody><p>30,020 rows × 19 columns (omitted printing of 16 columns)</p><tr><th>1</th><td>5f7fa802d706e40192c3bfbb</td><td>1</td><td>\\\\giant\\\\event\\\\extended_challenge_team_viewed</td></tr><tr><th>2</th><td>5f7fa802d706e40192c3bfbc</td><td>2</td><td>\\\\core\\\\event\\\\user_login_failed</td></tr><tr><th>3</th><td>5f7fa802d706e40192c3bfbd</td><td>3</td><td>\\\\core\\\\event\\\\user_loggedin</td></tr><tr><th>4</th><td>5f7fa802d706e40192c3bfbe</td><td>4</td><td>\\\\core\\\\event\\\\dashboard_viewed</td></tr><tr><th>5</th><td>5f7fa802d706e40192c3bfbf</td><td>5</td><td>\\\\core\\\\event\\\\course_viewed</td></tr><tr><th>6</th><td>5f7fa802d706e40192c3bfc0</td><td>6</td><td>\\\\core\\\\event\\\\course_viewed</td></tr><tr><th>7</th><td>5f7fa802d706e40192c3bfc1</td><td>7</td><td>\\\\core\\\\event\\\\dashboard_viewed</td></tr><tr><th>8</th><td>5f7fa802d706e40192c3bfc2</td><td>8</td><td>\\\\core\\\\event\\\\dashboard_viewed</td></tr><tr><th>9</th><td>5f7fa802d706e40192c3bfc3</td><td>9</td><td>\\\\core\\\\event\\\\user_loggedin</td></tr><tr><th>10</th><td>5f7fa802d706e40192c3bfc4</td><td>10</td><td>\\\\core\\\\event\\\\dashboard_viewed</td></tr><tr><th>11</th><td>5f7fa802d706e40192c3bfc5</td><td>11</td><td>\\\\core\\\\event\\\\user_loggedin</td></tr><tr><th>12</th><td>5f7fa802d706e40192c3bfc6</td><td>12</td><td>\\\\core\\\\event\\\\dashboard_viewed</td></tr><tr><th>13</th><td>5f7fa802d706e40192c3bfc7</td><td>13</td><td>\\\\core\\\\event\\\\user_profile_viewed</td></tr><tr><th>14</th><td>5f7fa802d706e40192c3bfc8</td><td>14</td><td>\\\\core\\\\event\\\\course_viewed</td></tr><tr><th>15</th><td>5f7fa802d706e40192c3bfc9</td><td>15</td><td>\\\\core\\\\event\\\\course_viewed</td></tr><tr><th>16</th><td>5f7fa802d706e40192c3bfca</td><td>16</td><td>\\\\mod_scorm\\\\event\\\\course_module_viewed</td></tr><tr><th>17</th><td>5f7fa802d706e40192c3bfcb</td><td>17</td><td>\\\\mod_scorm\\\\event\\\\course_module_viewed</td></tr><tr><th>18</th><td>5f7fa802d706e40192c3bfcc</td><td>18</td><td>\\\\mod_scorm\\\\event\\\\sco_launched</td></tr><tr><th>19</th><td>5f7fa802d706e40192c3bfcd</td><td>19</td><td>\\\\core\\\\event\\\\user_loggedin</td></tr><tr><th>20</th><td>5f7fa802d706e40192c3bfce</td><td>20</td><td>\\\\core\\\\event\\\\dashboard_viewed</td></tr><tr><th>21</th><td>5f7fa802d706e40192c3bfcf</td><td>21</td><td>\\\\core\\\\event\\\\course_viewed</td></tr><tr><th>22</th><td>5f7fa802d706e40192c3bfd0</td><td>22</td><td>\\\\core\\\\event\\\\dashboard_viewed</td></tr><tr><th>23</th><td>5f7fa802d706e40192c3bfd1</td><td>23</td><td>\\\\core\\\\event\\\\course_viewed</td></tr><tr><th>24</th><td>5f7fa802d706e40192c3bfd2</td><td>24</td><td>\\\\core\\\\event\\\\course_viewed</td></tr><tr><th>25</th><td>5f7fa802d706e40192c3bfd3</td><td>25</td><td>\\\\core\\\\event\\\\course_viewed</td></tr><tr><th>26</th><td>5f7fa802d706e40192c3bfd4</td><td>26</td><td>\\\\core\\\\event\\\\course_viewed</td></tr><tr><th>27</th><td>5f7fa802d706e40192c3bfd5</td><td>27</td><td>\\\\mod_scorm\\\\event\\\\course_module_viewed</td></tr><tr><th>28</th><td>5f7fa802d706e40192c3bfd6</td><td>28</td><td>\\\\mod_scorm\\\\event\\\\course_module_viewed</td></tr><tr><th>29</th><td>5f7fa802d706e40192c3bfd7</td><td>29</td><td>\\\\mod_scorm\\\\event\\\\sco_launched</td></tr><tr><th>30</th><td>5f7fa802d706e40192c3bfd8</td><td>30</td><td>\\\\core\\\\event\\\\dashboard_viewed</td></tr><tr><th>&vellip;</th><td>&vellip;</td><td>&vellip;</td><td>&vellip;</td></tr></tbody></table>",
            "text/latex": "\\begin{tabular}{r|cccc}\n\t& \\_id & id & eventname & \\\\\n\t\\hline\n\t& String & Int64 & String & \\\\\n\t\\hline\n\t1 & 5f7fa802d706e40192c3bfbb & 1 & \\textbackslash{}\\textbackslash{}giant\\textbackslash{}\\textbackslash{}event\\textbackslash{}\\textbackslash{}extended\\_challenge\\_team\\_viewed & $\\dots$ \\\\\n\t2 & 5f7fa802d706e40192c3bfbc & 2 & \\textbackslash{}\\textbackslash{}core\\textbackslash{}\\textbackslash{}event\\textbackslash{}\\textbackslash{}user\\_login\\_failed & $\\dots$ \\\\\n\t3 & 5f7fa802d706e40192c3bfbd & 3 & \\textbackslash{}\\textbackslash{}core\\textbackslash{}\\textbackslash{}event\\textbackslash{}\\textbackslash{}user\\_loggedin & $\\dots$ \\\\\n\t4 & 5f7fa802d706e40192c3bfbe & 4 & \\textbackslash{}\\textbackslash{}core\\textbackslash{}\\textbackslash{}event\\textbackslash{}\\textbackslash{}dashboard\\_viewed & $\\dots$ \\\\\n\t5 & 5f7fa802d706e40192c3bfbf & 5 & \\textbackslash{}\\textbackslash{}core\\textbackslash{}\\textbackslash{}event\\textbackslash{}\\textbackslash{}course\\_viewed & $\\dots$ \\\\\n\t6 & 5f7fa802d706e40192c3bfc0 & 6 & \\textbackslash{}\\textbackslash{}core\\textbackslash{}\\textbackslash{}event\\textbackslash{}\\textbackslash{}course\\_viewed & $\\dots$ \\\\\n\t7 & 5f7fa802d706e40192c3bfc1 & 7 & \\textbackslash{}\\textbackslash{}core\\textbackslash{}\\textbackslash{}event\\textbackslash{}\\textbackslash{}dashboard\\_viewed & $\\dots$ \\\\\n\t8 & 5f7fa802d706e40192c3bfc2 & 8 & \\textbackslash{}\\textbackslash{}core\\textbackslash{}\\textbackslash{}event\\textbackslash{}\\textbackslash{}dashboard\\_viewed & $\\dots$ \\\\\n\t9 & 5f7fa802d706e40192c3bfc3 & 9 & \\textbackslash{}\\textbackslash{}core\\textbackslash{}\\textbackslash{}event\\textbackslash{}\\textbackslash{}user\\_loggedin & $\\dots$ \\\\\n\t10 & 5f7fa802d706e40192c3bfc4 & 10 & \\textbackslash{}\\textbackslash{}core\\textbackslash{}\\textbackslash{}event\\textbackslash{}\\textbackslash{}dashboard\\_viewed & $\\dots$ \\\\\n\t11 & 5f7fa802d706e40192c3bfc5 & 11 & \\textbackslash{}\\textbackslash{}core\\textbackslash{}\\textbackslash{}event\\textbackslash{}\\textbackslash{}user\\_loggedin & $\\dots$ \\\\\n\t12 & 5f7fa802d706e40192c3bfc6 & 12 & \\textbackslash{}\\textbackslash{}core\\textbackslash{}\\textbackslash{}event\\textbackslash{}\\textbackslash{}dashboard\\_viewed & $\\dots$ \\\\\n\t13 & 5f7fa802d706e40192c3bfc7 & 13 & \\textbackslash{}\\textbackslash{}core\\textbackslash{}\\textbackslash{}event\\textbackslash{}\\textbackslash{}user\\_profile\\_viewed & $\\dots$ \\\\\n\t14 & 5f7fa802d706e40192c3bfc8 & 14 & \\textbackslash{}\\textbackslash{}core\\textbackslash{}\\textbackslash{}event\\textbackslash{}\\textbackslash{}course\\_viewed & $\\dots$ \\\\\n\t15 & 5f7fa802d706e40192c3bfc9 & 15 & \\textbackslash{}\\textbackslash{}core\\textbackslash{}\\textbackslash{}event\\textbackslash{}\\textbackslash{}course\\_viewed & $\\dots$ \\\\\n\t16 & 5f7fa802d706e40192c3bfca & 16 & \\textbackslash{}\\textbackslash{}mod\\_scorm\\textbackslash{}\\textbackslash{}event\\textbackslash{}\\textbackslash{}course\\_module\\_viewed & $\\dots$ \\\\\n\t17 & 5f7fa802d706e40192c3bfcb & 17 & \\textbackslash{}\\textbackslash{}mod\\_scorm\\textbackslash{}\\textbackslash{}event\\textbackslash{}\\textbackslash{}course\\_module\\_viewed & $\\dots$ \\\\\n\t18 & 5f7fa802d706e40192c3bfcc & 18 & \\textbackslash{}\\textbackslash{}mod\\_scorm\\textbackslash{}\\textbackslash{}event\\textbackslash{}\\textbackslash{}sco\\_launched & $\\dots$ \\\\\n\t19 & 5f7fa802d706e40192c3bfcd & 19 & \\textbackslash{}\\textbackslash{}core\\textbackslash{}\\textbackslash{}event\\textbackslash{}\\textbackslash{}user\\_loggedin & $\\dots$ \\\\\n\t20 & 5f7fa802d706e40192c3bfce & 20 & \\textbackslash{}\\textbackslash{}core\\textbackslash{}\\textbackslash{}event\\textbackslash{}\\textbackslash{}dashboard\\_viewed & $\\dots$ \\\\\n\t21 & 5f7fa802d706e40192c3bfcf & 21 & \\textbackslash{}\\textbackslash{}core\\textbackslash{}\\textbackslash{}event\\textbackslash{}\\textbackslash{}course\\_viewed & $\\dots$ \\\\\n\t22 & 5f7fa802d706e40192c3bfd0 & 22 & \\textbackslash{}\\textbackslash{}core\\textbackslash{}\\textbackslash{}event\\textbackslash{}\\textbackslash{}dashboard\\_viewed & $\\dots$ \\\\\n\t23 & 5f7fa802d706e40192c3bfd1 & 23 & \\textbackslash{}\\textbackslash{}core\\textbackslash{}\\textbackslash{}event\\textbackslash{}\\textbackslash{}course\\_viewed & $\\dots$ \\\\\n\t24 & 5f7fa802d706e40192c3bfd2 & 24 & \\textbackslash{}\\textbackslash{}core\\textbackslash{}\\textbackslash{}event\\textbackslash{}\\textbackslash{}course\\_viewed & $\\dots$ \\\\\n\t25 & 5f7fa802d706e40192c3bfd3 & 25 & \\textbackslash{}\\textbackslash{}core\\textbackslash{}\\textbackslash{}event\\textbackslash{}\\textbackslash{}course\\_viewed & $\\dots$ \\\\\n\t26 & 5f7fa802d706e40192c3bfd4 & 26 & \\textbackslash{}\\textbackslash{}core\\textbackslash{}\\textbackslash{}event\\textbackslash{}\\textbackslash{}course\\_viewed & $\\dots$ \\\\\n\t27 & 5f7fa802d706e40192c3bfd5 & 27 & \\textbackslash{}\\textbackslash{}mod\\_scorm\\textbackslash{}\\textbackslash{}event\\textbackslash{}\\textbackslash{}course\\_module\\_viewed & $\\dots$ \\\\\n\t28 & 5f7fa802d706e40192c3bfd6 & 28 & \\textbackslash{}\\textbackslash{}mod\\_scorm\\textbackslash{}\\textbackslash{}event\\textbackslash{}\\textbackslash{}course\\_module\\_viewed & $\\dots$ \\\\\n\t29 & 5f7fa802d706e40192c3bfd7 & 29 & \\textbackslash{}\\textbackslash{}mod\\_scorm\\textbackslash{}\\textbackslash{}event\\textbackslash{}\\textbackslash{}sco\\_launched & $\\dots$ \\\\\n\t30 & 5f7fa802d706e40192c3bfd8 & 30 & \\textbackslash{}\\textbackslash{}core\\textbackslash{}\\textbackslash{}event\\textbackslash{}\\textbackslash{}dashboard\\_viewed & $\\dots$ \\\\\n\t$\\dots$ & $\\dots$ & $\\dots$ & $\\dots$ &  \\\\\n\\end{tabular}\n"
          },
          "metadata": {}
        }
      ],
      "execution_count": 39,
      "metadata": {
        "collapsed": true,
        "jupyter": {
          "source_hidden": false,
          "outputs_hidden": false
        },
        "nteract": {
          "transient": {
            "deleting": false
          }
        },
        "execution": {
          "iopub.status.busy": "2020-10-21T07:52:46.646Z",
          "iopub.execute_input": "2020-10-21T07:52:46.662Z",
          "iopub.status.idle": "2020-10-21T07:52:46.697Z"
        }
      }
    },
    {
      "cell_type": "code",
      "source": [
        "# Agregando las columnas de hora, minutos y segundos a nuestro set de datos\n",
        "eventsDataFrame=hcat(eventsDataFrame, DataFrame(reduce(vcat, permutedims.(split.(eventsDataFrame[!,:time], ':'))), [:hour, :minute, :second]))"
      ],
      "outputs": [
        {
          "output_type": "execute_result",
          "execution_count": 40,
          "data": {
            "text/plain": "30020×22 DataFrame. Omitted printing of 20 columns\n│ Row   │ _id                      │ id    │\n│       │ \u001b[90mString\u001b[39m                   │ \u001b[90mInt64\u001b[39m │\n├───────┼──────────────────────────┼───────┤\n│ 1     │ 5f7fa802d706e40192c3bfbb │ 1     │\n│ 2     │ 5f7fa802d706e40192c3bfbc │ 2     │\n│ 3     │ 5f7fa802d706e40192c3bfbd │ 3     │\n│ 4     │ 5f7fa802d706e40192c3bfbe │ 4     │\n│ 5     │ 5f7fa802d706e40192c3bfbf │ 5     │\n│ 6     │ 5f7fa802d706e40192c3bfc0 │ 6     │\n│ 7     │ 5f7fa802d706e40192c3bfc1 │ 7     │\n│ 8     │ 5f7fa802d706e40192c3bfc2 │ 8     │\n│ 9     │ 5f7fa802d706e40192c3bfc3 │ 9     │\n│ 10    │ 5f7fa802d706e40192c3bfc4 │ 10    │\n⋮\n│ 30010 │ 5f7fa80ad706e40192c434f4 │ 30010 │\n│ 30011 │ 5f7fa80ad706e40192c434f5 │ 30011 │\n│ 30012 │ 5f7fa80ad706e40192c434f6 │ 30012 │\n│ 30013 │ 5f7fa80ad706e40192c434f7 │ 30013 │\n│ 30014 │ 5f7fa80ad706e40192c434f8 │ 30014 │\n│ 30015 │ 5f7fa80ad706e40192c434f9 │ 30015 │\n│ 30016 │ 5f7fa80ad706e40192c434fa │ 30016 │\n│ 30017 │ 5f7fa80ad706e40192c434fb │ 30017 │\n│ 30018 │ 5f7fa80ad706e40192c434fc │ 30018 │\n│ 30019 │ 5f7fa80ad706e40192c434fd │ 30019 │\n│ 30020 │ 5f7fa80ad706e40192c434fe │ 30020 │",
            "text/html": "<table class=\"data-frame\"><thead><tr><th></th><th>_id</th><th>id</th><th>eventname</th></tr><tr><th></th><th>String</th><th>Int64</th><th>String</th></tr></thead><tbody><p>30,020 rows × 22 columns (omitted printing of 19 columns)</p><tr><th>1</th><td>5f7fa802d706e40192c3bfbb</td><td>1</td><td>\\\\giant\\\\event\\\\extended_challenge_team_viewed</td></tr><tr><th>2</th><td>5f7fa802d706e40192c3bfbc</td><td>2</td><td>\\\\core\\\\event\\\\user_login_failed</td></tr><tr><th>3</th><td>5f7fa802d706e40192c3bfbd</td><td>3</td><td>\\\\core\\\\event\\\\user_loggedin</td></tr><tr><th>4</th><td>5f7fa802d706e40192c3bfbe</td><td>4</td><td>\\\\core\\\\event\\\\dashboard_viewed</td></tr><tr><th>5</th><td>5f7fa802d706e40192c3bfbf</td><td>5</td><td>\\\\core\\\\event\\\\course_viewed</td></tr><tr><th>6</th><td>5f7fa802d706e40192c3bfc0</td><td>6</td><td>\\\\core\\\\event\\\\course_viewed</td></tr><tr><th>7</th><td>5f7fa802d706e40192c3bfc1</td><td>7</td><td>\\\\core\\\\event\\\\dashboard_viewed</td></tr><tr><th>8</th><td>5f7fa802d706e40192c3bfc2</td><td>8</td><td>\\\\core\\\\event\\\\dashboard_viewed</td></tr><tr><th>9</th><td>5f7fa802d706e40192c3bfc3</td><td>9</td><td>\\\\core\\\\event\\\\user_loggedin</td></tr><tr><th>10</th><td>5f7fa802d706e40192c3bfc4</td><td>10</td><td>\\\\core\\\\event\\\\dashboard_viewed</td></tr><tr><th>11</th><td>5f7fa802d706e40192c3bfc5</td><td>11</td><td>\\\\core\\\\event\\\\user_loggedin</td></tr><tr><th>12</th><td>5f7fa802d706e40192c3bfc6</td><td>12</td><td>\\\\core\\\\event\\\\dashboard_viewed</td></tr><tr><th>13</th><td>5f7fa802d706e40192c3bfc7</td><td>13</td><td>\\\\core\\\\event\\\\user_profile_viewed</td></tr><tr><th>14</th><td>5f7fa802d706e40192c3bfc8</td><td>14</td><td>\\\\core\\\\event\\\\course_viewed</td></tr><tr><th>15</th><td>5f7fa802d706e40192c3bfc9</td><td>15</td><td>\\\\core\\\\event\\\\course_viewed</td></tr><tr><th>16</th><td>5f7fa802d706e40192c3bfca</td><td>16</td><td>\\\\mod_scorm\\\\event\\\\course_module_viewed</td></tr><tr><th>17</th><td>5f7fa802d706e40192c3bfcb</td><td>17</td><td>\\\\mod_scorm\\\\event\\\\course_module_viewed</td></tr><tr><th>18</th><td>5f7fa802d706e40192c3bfcc</td><td>18</td><td>\\\\mod_scorm\\\\event\\\\sco_launched</td></tr><tr><th>19</th><td>5f7fa802d706e40192c3bfcd</td><td>19</td><td>\\\\core\\\\event\\\\user_loggedin</td></tr><tr><th>20</th><td>5f7fa802d706e40192c3bfce</td><td>20</td><td>\\\\core\\\\event\\\\dashboard_viewed</td></tr><tr><th>21</th><td>5f7fa802d706e40192c3bfcf</td><td>21</td><td>\\\\core\\\\event\\\\course_viewed</td></tr><tr><th>22</th><td>5f7fa802d706e40192c3bfd0</td><td>22</td><td>\\\\core\\\\event\\\\dashboard_viewed</td></tr><tr><th>23</th><td>5f7fa802d706e40192c3bfd1</td><td>23</td><td>\\\\core\\\\event\\\\course_viewed</td></tr><tr><th>24</th><td>5f7fa802d706e40192c3bfd2</td><td>24</td><td>\\\\core\\\\event\\\\course_viewed</td></tr><tr><th>25</th><td>5f7fa802d706e40192c3bfd3</td><td>25</td><td>\\\\core\\\\event\\\\course_viewed</td></tr><tr><th>26</th><td>5f7fa802d706e40192c3bfd4</td><td>26</td><td>\\\\core\\\\event\\\\course_viewed</td></tr><tr><th>27</th><td>5f7fa802d706e40192c3bfd5</td><td>27</td><td>\\\\mod_scorm\\\\event\\\\course_module_viewed</td></tr><tr><th>28</th><td>5f7fa802d706e40192c3bfd6</td><td>28</td><td>\\\\mod_scorm\\\\event\\\\course_module_viewed</td></tr><tr><th>29</th><td>5f7fa802d706e40192c3bfd7</td><td>29</td><td>\\\\mod_scorm\\\\event\\\\sco_launched</td></tr><tr><th>30</th><td>5f7fa802d706e40192c3bfd8</td><td>30</td><td>\\\\core\\\\event\\\\dashboard_viewed</td></tr><tr><th>&vellip;</th><td>&vellip;</td><td>&vellip;</td><td>&vellip;</td></tr></tbody></table>",
            "text/latex": "\\begin{tabular}{r|cccc}\n\t& \\_id & id & eventname & \\\\\n\t\\hline\n\t& String & Int64 & String & \\\\\n\t\\hline\n\t1 & 5f7fa802d706e40192c3bfbb & 1 & \\textbackslash{}\\textbackslash{}giant\\textbackslash{}\\textbackslash{}event\\textbackslash{}\\textbackslash{}extended\\_challenge\\_team\\_viewed & $\\dots$ \\\\\n\t2 & 5f7fa802d706e40192c3bfbc & 2 & \\textbackslash{}\\textbackslash{}core\\textbackslash{}\\textbackslash{}event\\textbackslash{}\\textbackslash{}user\\_login\\_failed & $\\dots$ \\\\\n\t3 & 5f7fa802d706e40192c3bfbd & 3 & \\textbackslash{}\\textbackslash{}core\\textbackslash{}\\textbackslash{}event\\textbackslash{}\\textbackslash{}user\\_loggedin & $\\dots$ \\\\\n\t4 & 5f7fa802d706e40192c3bfbe & 4 & \\textbackslash{}\\textbackslash{}core\\textbackslash{}\\textbackslash{}event\\textbackslash{}\\textbackslash{}dashboard\\_viewed & $\\dots$ \\\\\n\t5 & 5f7fa802d706e40192c3bfbf & 5 & \\textbackslash{}\\textbackslash{}core\\textbackslash{}\\textbackslash{}event\\textbackslash{}\\textbackslash{}course\\_viewed & $\\dots$ \\\\\n\t6 & 5f7fa802d706e40192c3bfc0 & 6 & \\textbackslash{}\\textbackslash{}core\\textbackslash{}\\textbackslash{}event\\textbackslash{}\\textbackslash{}course\\_viewed & $\\dots$ \\\\\n\t7 & 5f7fa802d706e40192c3bfc1 & 7 & \\textbackslash{}\\textbackslash{}core\\textbackslash{}\\textbackslash{}event\\textbackslash{}\\textbackslash{}dashboard\\_viewed & $\\dots$ \\\\\n\t8 & 5f7fa802d706e40192c3bfc2 & 8 & \\textbackslash{}\\textbackslash{}core\\textbackslash{}\\textbackslash{}event\\textbackslash{}\\textbackslash{}dashboard\\_viewed & $\\dots$ \\\\\n\t9 & 5f7fa802d706e40192c3bfc3 & 9 & \\textbackslash{}\\textbackslash{}core\\textbackslash{}\\textbackslash{}event\\textbackslash{}\\textbackslash{}user\\_loggedin & $\\dots$ \\\\\n\t10 & 5f7fa802d706e40192c3bfc4 & 10 & \\textbackslash{}\\textbackslash{}core\\textbackslash{}\\textbackslash{}event\\textbackslash{}\\textbackslash{}dashboard\\_viewed & $\\dots$ \\\\\n\t11 & 5f7fa802d706e40192c3bfc5 & 11 & \\textbackslash{}\\textbackslash{}core\\textbackslash{}\\textbackslash{}event\\textbackslash{}\\textbackslash{}user\\_loggedin & $\\dots$ \\\\\n\t12 & 5f7fa802d706e40192c3bfc6 & 12 & \\textbackslash{}\\textbackslash{}core\\textbackslash{}\\textbackslash{}event\\textbackslash{}\\textbackslash{}dashboard\\_viewed & $\\dots$ \\\\\n\t13 & 5f7fa802d706e40192c3bfc7 & 13 & \\textbackslash{}\\textbackslash{}core\\textbackslash{}\\textbackslash{}event\\textbackslash{}\\textbackslash{}user\\_profile\\_viewed & $\\dots$ \\\\\n\t14 & 5f7fa802d706e40192c3bfc8 & 14 & \\textbackslash{}\\textbackslash{}core\\textbackslash{}\\textbackslash{}event\\textbackslash{}\\textbackslash{}course\\_viewed & $\\dots$ \\\\\n\t15 & 5f7fa802d706e40192c3bfc9 & 15 & \\textbackslash{}\\textbackslash{}core\\textbackslash{}\\textbackslash{}event\\textbackslash{}\\textbackslash{}course\\_viewed & $\\dots$ \\\\\n\t16 & 5f7fa802d706e40192c3bfca & 16 & \\textbackslash{}\\textbackslash{}mod\\_scorm\\textbackslash{}\\textbackslash{}event\\textbackslash{}\\textbackslash{}course\\_module\\_viewed & $\\dots$ \\\\\n\t17 & 5f7fa802d706e40192c3bfcb & 17 & \\textbackslash{}\\textbackslash{}mod\\_scorm\\textbackslash{}\\textbackslash{}event\\textbackslash{}\\textbackslash{}course\\_module\\_viewed & $\\dots$ \\\\\n\t18 & 5f7fa802d706e40192c3bfcc & 18 & \\textbackslash{}\\textbackslash{}mod\\_scorm\\textbackslash{}\\textbackslash{}event\\textbackslash{}\\textbackslash{}sco\\_launched & $\\dots$ \\\\\n\t19 & 5f7fa802d706e40192c3bfcd & 19 & \\textbackslash{}\\textbackslash{}core\\textbackslash{}\\textbackslash{}event\\textbackslash{}\\textbackslash{}user\\_loggedin & $\\dots$ \\\\\n\t20 & 5f7fa802d706e40192c3bfce & 20 & \\textbackslash{}\\textbackslash{}core\\textbackslash{}\\textbackslash{}event\\textbackslash{}\\textbackslash{}dashboard\\_viewed & $\\dots$ \\\\\n\t21 & 5f7fa802d706e40192c3bfcf & 21 & \\textbackslash{}\\textbackslash{}core\\textbackslash{}\\textbackslash{}event\\textbackslash{}\\textbackslash{}course\\_viewed & $\\dots$ \\\\\n\t22 & 5f7fa802d706e40192c3bfd0 & 22 & \\textbackslash{}\\textbackslash{}core\\textbackslash{}\\textbackslash{}event\\textbackslash{}\\textbackslash{}dashboard\\_viewed & $\\dots$ \\\\\n\t23 & 5f7fa802d706e40192c3bfd1 & 23 & \\textbackslash{}\\textbackslash{}core\\textbackslash{}\\textbackslash{}event\\textbackslash{}\\textbackslash{}course\\_viewed & $\\dots$ \\\\\n\t24 & 5f7fa802d706e40192c3bfd2 & 24 & \\textbackslash{}\\textbackslash{}core\\textbackslash{}\\textbackslash{}event\\textbackslash{}\\textbackslash{}course\\_viewed & $\\dots$ \\\\\n\t25 & 5f7fa802d706e40192c3bfd3 & 25 & \\textbackslash{}\\textbackslash{}core\\textbackslash{}\\textbackslash{}event\\textbackslash{}\\textbackslash{}course\\_viewed & $\\dots$ \\\\\n\t26 & 5f7fa802d706e40192c3bfd4 & 26 & \\textbackslash{}\\textbackslash{}core\\textbackslash{}\\textbackslash{}event\\textbackslash{}\\textbackslash{}course\\_viewed & $\\dots$ \\\\\n\t27 & 5f7fa802d706e40192c3bfd5 & 27 & \\textbackslash{}\\textbackslash{}mod\\_scorm\\textbackslash{}\\textbackslash{}event\\textbackslash{}\\textbackslash{}course\\_module\\_viewed & $\\dots$ \\\\\n\t28 & 5f7fa802d706e40192c3bfd6 & 28 & \\textbackslash{}\\textbackslash{}mod\\_scorm\\textbackslash{}\\textbackslash{}event\\textbackslash{}\\textbackslash{}course\\_module\\_viewed & $\\dots$ \\\\\n\t29 & 5f7fa802d706e40192c3bfd7 & 29 & \\textbackslash{}\\textbackslash{}mod\\_scorm\\textbackslash{}\\textbackslash{}event\\textbackslash{}\\textbackslash{}sco\\_launched & $\\dots$ \\\\\n\t30 & 5f7fa802d706e40192c3bfd8 & 30 & \\textbackslash{}\\textbackslash{}core\\textbackslash{}\\textbackslash{}event\\textbackslash{}\\textbackslash{}dashboard\\_viewed & $\\dots$ \\\\\n\t$\\dots$ & $\\dots$ & $\\dots$ & $\\dots$ &  \\\\\n\\end{tabular}\n"
          },
          "metadata": {}
        }
      ],
      "execution_count": 40,
      "metadata": {
        "collapsed": true,
        "jupyter": {
          "source_hidden": false,
          "outputs_hidden": false
        },
        "nteract": {
          "transient": {
            "deleting": false
          }
        },
        "execution": {
          "iopub.status.busy": "2020-10-21T07:52:49.133Z",
          "iopub.execute_input": "2020-10-21T07:52:49.152Z",
          "iopub.status.idle": "2020-10-21T07:52:49.269Z"
        }
      }
    },
    {
      "cell_type": "code",
      "source": [
        "names(eventsDataFrame)"
      ],
      "outputs": [
        {
          "output_type": "execute_result",
          "execution_count": 41,
          "data": {
            "text/plain": "22-element Array{String,1}:\n \"_id\"\n \"id\"\n \"eventname\"\n \"component\"\n \"action\"\n \"target\"\n \"objecttable\"\n \"objectid\"\n \"crud\"\n \"userid\"\n \"username\"\n \"courseid\"\n \"other\"\n \"timecreated\"\n \"date\"\n \"time\"\n \"year\"\n \"month\"\n \"day\"\n \"hour\"\n \"minute\"\n \"second\""
          },
          "metadata": {}
        }
      ],
      "execution_count": 41,
      "metadata": {
        "collapsed": true,
        "jupyter": {
          "source_hidden": false,
          "outputs_hidden": false
        },
        "nteract": {
          "transient": {
            "deleting": false
          }
        },
        "execution": {
          "iopub.status.busy": "2020-10-21T07:52:51.512Z",
          "iopub.execute_input": "2020-10-21T07:52:51.534Z",
          "iopub.status.idle": "2020-10-21T07:52:51.574Z"
        }
      }
    },
    {
      "cell_type": "code",
      "source": [
        "# Creando nuevo DataFrame para empezar a generar piezas de visualización de lo que está sucediendo en el gestor\n",
        "featureDataFrame=eventsDataFrame[!,[:userid, :eventname, :component, :action, :target, :year, :month, :day, :hour, :minute, :second]]"
      ],
      "outputs": [
        {
          "output_type": "execute_result",
          "execution_count": 42,
          "data": {
            "text/plain": "30020×11 DataFrame. Omitted printing of 8 columns\n│ Row   │ userid │ eventname                                      │ component │\n│       │ \u001b[90mInt64\u001b[39m  │ \u001b[90mString\u001b[39m                                         │ \u001b[90mString\u001b[39m    │\n├───────┼────────┼────────────────────────────────────────────────┼───────────┤\n│ 1     │ 78     │ \\\\giant\\\\event\\\\extended_challenge_team_viewed │ giant     │\n│ 2     │ 141    │ \\\\core\\\\event\\\\user_login_failed               │ core      │\n│ 3     │ 141    │ \\\\core\\\\event\\\\user_loggedin                   │ core      │\n│ 4     │ 141    │ \\\\core\\\\event\\\\dashboard_viewed                │ core      │\n│ 5     │ 141    │ \\\\core\\\\event\\\\course_viewed                   │ core      │\n│ 6     │ 141    │ \\\\core\\\\event\\\\course_viewed                   │ core      │\n│ 7     │ 141    │ \\\\core\\\\event\\\\dashboard_viewed                │ core      │\n│ 8     │ 141    │ \\\\core\\\\event\\\\dashboard_viewed                │ core      │\n│ 9     │ 48     │ \\\\core\\\\event\\\\user_loggedin                   │ core      │\n│ 10    │ 48     │ \\\\core\\\\event\\\\dashboard_viewed                │ core      │\n⋮\n│ 30010 │ 41     │ \\\\mod_scorm\\\\event\\\\sco_launched               │ mod_scorm │\n│ 30011 │ 10     │ \\\\core\\\\event\\\\dashboard_viewed                │ core      │\n│ 30012 │ 10     │ \\\\core\\\\event\\\\course_viewed                   │ core      │\n│ 30013 │ 10     │ \\\\core\\\\event\\\\course_viewed                   │ core      │\n│ 30014 │ 10     │ \\\\mod_scorm\\\\event\\\\course_module_viewed       │ mod_scorm │\n│ 30015 │ 10     │ \\\\mod_scorm\\\\event\\\\sco_launched               │ mod_scorm │\n│ 30016 │ 10     │ \\\\core\\\\event\\\\dashboard_viewed                │ core      │\n│ 30017 │ 10     │ \\\\core\\\\event\\\\course_viewed                   │ core      │\n│ 30018 │ 10     │ \\\\core\\\\event\\\\course_viewed                   │ core      │\n│ 30019 │ 10     │ \\\\mod_scorm\\\\event\\\\course_module_viewed       │ mod_scorm │\n│ 30020 │ 10     │ \\\\mod_scorm\\\\event\\\\sco_launched               │ mod_scorm │",
            "text/html": "<table class=\"data-frame\"><thead><tr><th></th><th>userid</th><th>eventname</th><th>component</th><th>action</th><th>target</th></tr><tr><th></th><th>Int64</th><th>String</th><th>String</th><th>String</th><th>String</th></tr></thead><tbody><p>30,020 rows × 11 columns (omitted printing of 6 columns)</p><tr><th>1</th><td>78</td><td>\\\\giant\\\\event\\\\extended_challenge_team_viewed</td><td>giant</td><td>viewed</td><td>extended_challenge_team</td></tr><tr><th>2</th><td>141</td><td>\\\\core\\\\event\\\\user_login_failed</td><td>core</td><td>failed</td><td>user_login</td></tr><tr><th>3</th><td>141</td><td>\\\\core\\\\event\\\\user_loggedin</td><td>core</td><td>loggedin</td><td>user</td></tr><tr><th>4</th><td>141</td><td>\\\\core\\\\event\\\\dashboard_viewed</td><td>core</td><td>viewed</td><td>dashboard</td></tr><tr><th>5</th><td>141</td><td>\\\\core\\\\event\\\\course_viewed</td><td>core</td><td>viewed</td><td>course</td></tr><tr><th>6</th><td>141</td><td>\\\\core\\\\event\\\\course_viewed</td><td>core</td><td>viewed</td><td>course</td></tr><tr><th>7</th><td>141</td><td>\\\\core\\\\event\\\\dashboard_viewed</td><td>core</td><td>viewed</td><td>dashboard</td></tr><tr><th>8</th><td>141</td><td>\\\\core\\\\event\\\\dashboard_viewed</td><td>core</td><td>viewed</td><td>dashboard</td></tr><tr><th>9</th><td>48</td><td>\\\\core\\\\event\\\\user_loggedin</td><td>core</td><td>loggedin</td><td>user</td></tr><tr><th>10</th><td>48</td><td>\\\\core\\\\event\\\\dashboard_viewed</td><td>core</td><td>viewed</td><td>dashboard</td></tr><tr><th>11</th><td>139</td><td>\\\\core\\\\event\\\\user_loggedin</td><td>core</td><td>loggedin</td><td>user</td></tr><tr><th>12</th><td>139</td><td>\\\\core\\\\event\\\\dashboard_viewed</td><td>core</td><td>viewed</td><td>dashboard</td></tr><tr><th>13</th><td>48</td><td>\\\\core\\\\event\\\\user_profile_viewed</td><td>core</td><td>viewed</td><td>user_profile</td></tr><tr><th>14</th><td>139</td><td>\\\\core\\\\event\\\\course_viewed</td><td>core</td><td>viewed</td><td>course</td></tr><tr><th>15</th><td>139</td><td>\\\\core\\\\event\\\\course_viewed</td><td>core</td><td>viewed</td><td>course</td></tr><tr><th>16</th><td>139</td><td>\\\\mod_scorm\\\\event\\\\course_module_viewed</td><td>mod_scorm</td><td>viewed</td><td>course_module</td></tr><tr><th>17</th><td>139</td><td>\\\\mod_scorm\\\\event\\\\course_module_viewed</td><td>mod_scorm</td><td>viewed</td><td>course_module</td></tr><tr><th>18</th><td>139</td><td>\\\\mod_scorm\\\\event\\\\sco_launched</td><td>mod_scorm</td><td>launched</td><td>sco</td></tr><tr><th>19</th><td>63</td><td>\\\\core\\\\event\\\\user_loggedin</td><td>core</td><td>loggedin</td><td>user</td></tr><tr><th>20</th><td>63</td><td>\\\\core\\\\event\\\\dashboard_viewed</td><td>core</td><td>viewed</td><td>dashboard</td></tr><tr><th>21</th><td>63</td><td>\\\\core\\\\event\\\\course_viewed</td><td>core</td><td>viewed</td><td>course</td></tr><tr><th>22</th><td>141</td><td>\\\\core\\\\event\\\\dashboard_viewed</td><td>core</td><td>viewed</td><td>dashboard</td></tr><tr><th>23</th><td>141</td><td>\\\\core\\\\event\\\\course_viewed</td><td>core</td><td>viewed</td><td>course</td></tr><tr><th>24</th><td>141</td><td>\\\\core\\\\event\\\\course_viewed</td><td>core</td><td>viewed</td><td>course</td></tr><tr><th>25</th><td>141</td><td>\\\\core\\\\event\\\\course_viewed</td><td>core</td><td>viewed</td><td>course</td></tr><tr><th>26</th><td>63</td><td>\\\\core\\\\event\\\\course_viewed</td><td>core</td><td>viewed</td><td>course</td></tr><tr><th>27</th><td>63</td><td>\\\\mod_scorm\\\\event\\\\course_module_viewed</td><td>mod_scorm</td><td>viewed</td><td>course_module</td></tr><tr><th>28</th><td>63</td><td>\\\\mod_scorm\\\\event\\\\course_module_viewed</td><td>mod_scorm</td><td>viewed</td><td>course_module</td></tr><tr><th>29</th><td>63</td><td>\\\\mod_scorm\\\\event\\\\sco_launched</td><td>mod_scorm</td><td>launched</td><td>sco</td></tr><tr><th>30</th><td>48</td><td>\\\\core\\\\event\\\\dashboard_viewed</td><td>core</td><td>viewed</td><td>dashboard</td></tr><tr><th>&vellip;</th><td>&vellip;</td><td>&vellip;</td><td>&vellip;</td><td>&vellip;</td><td>&vellip;</td></tr></tbody></table>",
            "text/latex": "\\begin{tabular}{r|cccccc}\n\t& userid & eventname & component & action & target & \\\\\n\t\\hline\n\t& Int64 & String & String & String & String & \\\\\n\t\\hline\n\t1 & 78 & \\textbackslash{}\\textbackslash{}giant\\textbackslash{}\\textbackslash{}event\\textbackslash{}\\textbackslash{}extended\\_challenge\\_team\\_viewed & giant & viewed & extended\\_challenge\\_team & $\\dots$ \\\\\n\t2 & 141 & \\textbackslash{}\\textbackslash{}core\\textbackslash{}\\textbackslash{}event\\textbackslash{}\\textbackslash{}user\\_login\\_failed & core & failed & user\\_login & $\\dots$ \\\\\n\t3 & 141 & \\textbackslash{}\\textbackslash{}core\\textbackslash{}\\textbackslash{}event\\textbackslash{}\\textbackslash{}user\\_loggedin & core & loggedin & user & $\\dots$ \\\\\n\t4 & 141 & \\textbackslash{}\\textbackslash{}core\\textbackslash{}\\textbackslash{}event\\textbackslash{}\\textbackslash{}dashboard\\_viewed & core & viewed & dashboard & $\\dots$ \\\\\n\t5 & 141 & \\textbackslash{}\\textbackslash{}core\\textbackslash{}\\textbackslash{}event\\textbackslash{}\\textbackslash{}course\\_viewed & core & viewed & course & $\\dots$ \\\\\n\t6 & 141 & \\textbackslash{}\\textbackslash{}core\\textbackslash{}\\textbackslash{}event\\textbackslash{}\\textbackslash{}course\\_viewed & core & viewed & course & $\\dots$ \\\\\n\t7 & 141 & \\textbackslash{}\\textbackslash{}core\\textbackslash{}\\textbackslash{}event\\textbackslash{}\\textbackslash{}dashboard\\_viewed & core & viewed & dashboard & $\\dots$ \\\\\n\t8 & 141 & \\textbackslash{}\\textbackslash{}core\\textbackslash{}\\textbackslash{}event\\textbackslash{}\\textbackslash{}dashboard\\_viewed & core & viewed & dashboard & $\\dots$ \\\\\n\t9 & 48 & \\textbackslash{}\\textbackslash{}core\\textbackslash{}\\textbackslash{}event\\textbackslash{}\\textbackslash{}user\\_loggedin & core & loggedin & user & $\\dots$ \\\\\n\t10 & 48 & \\textbackslash{}\\textbackslash{}core\\textbackslash{}\\textbackslash{}event\\textbackslash{}\\textbackslash{}dashboard\\_viewed & core & viewed & dashboard & $\\dots$ \\\\\n\t11 & 139 & \\textbackslash{}\\textbackslash{}core\\textbackslash{}\\textbackslash{}event\\textbackslash{}\\textbackslash{}user\\_loggedin & core & loggedin & user & $\\dots$ \\\\\n\t12 & 139 & \\textbackslash{}\\textbackslash{}core\\textbackslash{}\\textbackslash{}event\\textbackslash{}\\textbackslash{}dashboard\\_viewed & core & viewed & dashboard & $\\dots$ \\\\\n\t13 & 48 & \\textbackslash{}\\textbackslash{}core\\textbackslash{}\\textbackslash{}event\\textbackslash{}\\textbackslash{}user\\_profile\\_viewed & core & viewed & user\\_profile & $\\dots$ \\\\\n\t14 & 139 & \\textbackslash{}\\textbackslash{}core\\textbackslash{}\\textbackslash{}event\\textbackslash{}\\textbackslash{}course\\_viewed & core & viewed & course & $\\dots$ \\\\\n\t15 & 139 & \\textbackslash{}\\textbackslash{}core\\textbackslash{}\\textbackslash{}event\\textbackslash{}\\textbackslash{}course\\_viewed & core & viewed & course & $\\dots$ \\\\\n\t16 & 139 & \\textbackslash{}\\textbackslash{}mod\\_scorm\\textbackslash{}\\textbackslash{}event\\textbackslash{}\\textbackslash{}course\\_module\\_viewed & mod\\_scorm & viewed & course\\_module & $\\dots$ \\\\\n\t17 & 139 & \\textbackslash{}\\textbackslash{}mod\\_scorm\\textbackslash{}\\textbackslash{}event\\textbackslash{}\\textbackslash{}course\\_module\\_viewed & mod\\_scorm & viewed & course\\_module & $\\dots$ \\\\\n\t18 & 139 & \\textbackslash{}\\textbackslash{}mod\\_scorm\\textbackslash{}\\textbackslash{}event\\textbackslash{}\\textbackslash{}sco\\_launched & mod\\_scorm & launched & sco & $\\dots$ \\\\\n\t19 & 63 & \\textbackslash{}\\textbackslash{}core\\textbackslash{}\\textbackslash{}event\\textbackslash{}\\textbackslash{}user\\_loggedin & core & loggedin & user & $\\dots$ \\\\\n\t20 & 63 & \\textbackslash{}\\textbackslash{}core\\textbackslash{}\\textbackslash{}event\\textbackslash{}\\textbackslash{}dashboard\\_viewed & core & viewed & dashboard & $\\dots$ \\\\\n\t21 & 63 & \\textbackslash{}\\textbackslash{}core\\textbackslash{}\\textbackslash{}event\\textbackslash{}\\textbackslash{}course\\_viewed & core & viewed & course & $\\dots$ \\\\\n\t22 & 141 & \\textbackslash{}\\textbackslash{}core\\textbackslash{}\\textbackslash{}event\\textbackslash{}\\textbackslash{}dashboard\\_viewed & core & viewed & dashboard & $\\dots$ \\\\\n\t23 & 141 & \\textbackslash{}\\textbackslash{}core\\textbackslash{}\\textbackslash{}event\\textbackslash{}\\textbackslash{}course\\_viewed & core & viewed & course & $\\dots$ \\\\\n\t24 & 141 & \\textbackslash{}\\textbackslash{}core\\textbackslash{}\\textbackslash{}event\\textbackslash{}\\textbackslash{}course\\_viewed & core & viewed & course & $\\dots$ \\\\\n\t25 & 141 & \\textbackslash{}\\textbackslash{}core\\textbackslash{}\\textbackslash{}event\\textbackslash{}\\textbackslash{}course\\_viewed & core & viewed & course & $\\dots$ \\\\\n\t26 & 63 & \\textbackslash{}\\textbackslash{}core\\textbackslash{}\\textbackslash{}event\\textbackslash{}\\textbackslash{}course\\_viewed & core & viewed & course & $\\dots$ \\\\\n\t27 & 63 & \\textbackslash{}\\textbackslash{}mod\\_scorm\\textbackslash{}\\textbackslash{}event\\textbackslash{}\\textbackslash{}course\\_module\\_viewed & mod\\_scorm & viewed & course\\_module & $\\dots$ \\\\\n\t28 & 63 & \\textbackslash{}\\textbackslash{}mod\\_scorm\\textbackslash{}\\textbackslash{}event\\textbackslash{}\\textbackslash{}course\\_module\\_viewed & mod\\_scorm & viewed & course\\_module & $\\dots$ \\\\\n\t29 & 63 & \\textbackslash{}\\textbackslash{}mod\\_scorm\\textbackslash{}\\textbackslash{}event\\textbackslash{}\\textbackslash{}sco\\_launched & mod\\_scorm & launched & sco & $\\dots$ \\\\\n\t30 & 48 & \\textbackslash{}\\textbackslash{}core\\textbackslash{}\\textbackslash{}event\\textbackslash{}\\textbackslash{}dashboard\\_viewed & core & viewed & dashboard & $\\dots$ \\\\\n\t$\\dots$ & $\\dots$ & $\\dots$ & $\\dots$ & $\\dots$ & $\\dots$ &  \\\\\n\\end{tabular}\n"
          },
          "metadata": {}
        }
      ],
      "execution_count": 42,
      "metadata": {
        "collapsed": true,
        "jupyter": {
          "source_hidden": false,
          "outputs_hidden": false
        },
        "nteract": {
          "transient": {
            "deleting": false
          }
        },
        "execution": {
          "iopub.status.busy": "2020-10-21T07:52:55.274Z",
          "iopub.execute_input": "2020-10-21T07:52:55.291Z",
          "iopub.status.idle": "2020-10-21T07:52:55.324Z"
        }
      }
    },
    {
      "cell_type": "code",
      "source": [
        "names(featureDataFrame)"
      ],
      "outputs": [
        {
          "output_type": "execute_result",
          "execution_count": 43,
          "data": {
            "text/plain": "11-element Array{String,1}:\n \"userid\"\n \"eventname\"\n \"component\"\n \"action\"\n \"target\"\n \"year\"\n \"month\"\n \"day\"\n \"hour\"\n \"minute\"\n \"second\""
          },
          "metadata": {}
        }
      ],
      "execution_count": 43,
      "metadata": {
        "collapsed": true,
        "jupyter": {
          "source_hidden": false,
          "outputs_hidden": false
        },
        "nteract": {
          "transient": {
            "deleting": false
          }
        },
        "execution": {
          "iopub.status.busy": "2020-10-21T07:52:58.193Z",
          "iopub.execute_input": "2020-10-21T07:52:58.211Z",
          "iopub.status.idle": "2020-10-21T07:52:58.245Z"
        }
      }
    },
    {
      "cell_type": "code",
      "source": [
        "#Exportando a formato CSV el nuevo conjunto de datos para el proceso de análisis de extracción de características\n",
        "CSV.write(\"data_giant_feature_engineering.csv\", featureDataFrame)"
      ],
      "outputs": [
        {
          "output_type": "execute_result",
          "execution_count": 44,
          "data": {
            "text/plain": "\"data_giant_feature_engineering.csv\""
          },
          "metadata": {}
        }
      ],
      "execution_count": 44,
      "metadata": {
        "collapsed": true,
        "jupyter": {
          "source_hidden": false,
          "outputs_hidden": false
        },
        "nteract": {
          "transient": {
            "deleting": false
          }
        },
        "execution": {
          "iopub.status.busy": "2020-10-21T07:53:02.005Z",
          "iopub.execute_input": "2020-10-21T07:53:02.024Z",
          "iopub.status.idle": "2020-10-21T07:53:02.165Z"
        }
      }
    },
    {
      "cell_type": "code",
      "source": [
        "#IDENTIFICANDO CATEGORIAS de la variable action\n",
        "actionID = unique(featureDataFrame[!,:action]);"
      ],
      "outputs": [],
      "execution_count": 45,
      "metadata": {
        "collapsed": true,
        "jupyter": {
          "source_hidden": false,
          "outputs_hidden": false
        },
        "nteract": {
          "transient": {
            "deleting": false
          }
        },
        "execution": {
          "iopub.status.busy": "2020-10-21T07:53:04.578Z",
          "iopub.execute_input": "2020-10-21T07:53:04.597Z",
          "iopub.status.idle": "2020-10-21T07:53:04.621Z"
        }
      }
    },
    {
      "cell_type": "code",
      "source": [
        "# Obteniendo los tipos de acciones que ejecutan los usuarios y asignándoles un identificador a cada acción\n",
        "featureDataFrame[!,:action]=replace(featureDataFrame[!,:action], Pair.(actionID, axes(actionID, 1))...);"
      ],
      "outputs": [],
      "execution_count": 46,
      "metadata": {
        "collapsed": true,
        "jupyter": {
          "source_hidden": false,
          "outputs_hidden": false
        },
        "nteract": {
          "transient": {
            "deleting": false
          }
        },
        "execution": {
          "iopub.status.busy": "2020-10-21T07:53:06.837Z",
          "iopub.execute_input": "2020-10-21T07:53:06.856Z",
          "iopub.status.idle": "2020-10-21T07:53:06.885Z"
        }
      }
    },
    {
      "cell_type": "code",
      "source": [
        "# Agrupando los usuarios de acuerdo a la acción realizada\n",
        "groupbyAction = groupby(featureDataFrame, :action);\n",
        "# Obteniendo la cantidad de acciones según su tipo\n",
        "actionDataFrameCount=combine(groupbyAction, :action => sum)"
      ],
      "outputs": [
        {
          "output_type": "execute_result",
          "execution_count": 47,
          "data": {
            "text/plain": "27×2 DataFrame\n│ Row │ action │ action_sum │\n│     │ \u001b[90mAny\u001b[39m    │ \u001b[90mInt64\u001b[39m      │\n├─────┼────────┼────────────┤\n│ 1   │ 1      │ 21825      │\n│ 2   │ 2      │ 774        │\n│ 3   │ 3      │ 3297       │\n│ 4   │ 4      │ 6304       │\n│ 5   │ 5      │ 1350       │\n│ 6   │ 6      │ 1368       │\n│ 7   │ 7      │ 5908       │\n│ 8   │ 8      │ 2960       │\n│ 9   │ 9      │ 2169       │\n│ 10  │ 10     │ 320        │\n⋮\n│ 17  │ 17     │ 1836       │\n│ 18  │ 18     │ 2970       │\n│ 19  │ 19     │ 1102       │\n│ 20  │ 20     │ 1260       │\n│ 21  │ 21     │ 777        │\n│ 22  │ 22     │ 88         │\n│ 23  │ 23     │ 805        │\n│ 24  │ 24     │ 384        │\n│ 25  │ 25     │ 400        │\n│ 26  │ 26     │ 52         │\n│ 27  │ 27     │ 27         │",
            "text/html": "<table class=\"data-frame\"><thead><tr><th></th><th>action</th><th>action_sum</th></tr><tr><th></th><th>Any</th><th>Int64</th></tr></thead><tbody><p>27 rows × 2 columns</p><tr><th>1</th><td>1</td><td>21825</td></tr><tr><th>2</th><td>2</td><td>774</td></tr><tr><th>3</th><td>3</td><td>3297</td></tr><tr><th>4</th><td>4</td><td>6304</td></tr><tr><th>5</th><td>5</td><td>1350</td></tr><tr><th>6</th><td>6</td><td>1368</td></tr><tr><th>7</th><td>7</td><td>5908</td></tr><tr><th>8</th><td>8</td><td>2960</td></tr><tr><th>9</th><td>9</td><td>2169</td></tr><tr><th>10</th><td>10</td><td>320</td></tr><tr><th>11</th><td>11</td><td>5016</td></tr><tr><th>12</th><td>12</td><td>4224</td></tr><tr><th>13</th><td>13</td><td>17537</td></tr><tr><th>14</th><td>14</td><td>5586</td></tr><tr><th>15</th><td>15</td><td>1275</td></tr><tr><th>16</th><td>16</td><td>32</td></tr><tr><th>17</th><td>17</td><td>1836</td></tr><tr><th>18</th><td>18</td><td>2970</td></tr><tr><th>19</th><td>19</td><td>1102</td></tr><tr><th>20</th><td>20</td><td>1260</td></tr><tr><th>21</th><td>21</td><td>777</td></tr><tr><th>22</th><td>22</td><td>88</td></tr><tr><th>23</th><td>23</td><td>805</td></tr><tr><th>24</th><td>24</td><td>384</td></tr><tr><th>25</th><td>25</td><td>400</td></tr><tr><th>26</th><td>26</td><td>52</td></tr><tr><th>27</th><td>27</td><td>27</td></tr></tbody></table>",
            "text/latex": "\\begin{tabular}{r|cc}\n\t& action & action\\_sum\\\\\n\t\\hline\n\t& Any & Int64\\\\\n\t\\hline\n\t1 & 1 & 21825 \\\\\n\t2 & 2 & 774 \\\\\n\t3 & 3 & 3297 \\\\\n\t4 & 4 & 6304 \\\\\n\t5 & 5 & 1350 \\\\\n\t6 & 6 & 1368 \\\\\n\t7 & 7 & 5908 \\\\\n\t8 & 8 & 2960 \\\\\n\t9 & 9 & 2169 \\\\\n\t10 & 10 & 320 \\\\\n\t11 & 11 & 5016 \\\\\n\t12 & 12 & 4224 \\\\\n\t13 & 13 & 17537 \\\\\n\t14 & 14 & 5586 \\\\\n\t15 & 15 & 1275 \\\\\n\t16 & 16 & 32 \\\\\n\t17 & 17 & 1836 \\\\\n\t18 & 18 & 2970 \\\\\n\t19 & 19 & 1102 \\\\\n\t20 & 20 & 1260 \\\\\n\t21 & 21 & 777 \\\\\n\t22 & 22 & 88 \\\\\n\t23 & 23 & 805 \\\\\n\t24 & 24 & 384 \\\\\n\t25 & 25 & 400 \\\\\n\t26 & 26 & 52 \\\\\n\t27 & 27 & 27 \\\\\n\\end{tabular}\n"
          },
          "metadata": {}
        }
      ],
      "execution_count": 47,
      "metadata": {
        "collapsed": true,
        "jupyter": {
          "source_hidden": false,
          "outputs_hidden": false
        },
        "nteract": {
          "transient": {
            "deleting": false
          }
        },
        "execution": {
          "iopub.status.busy": "2020-10-21T07:53:09.953Z",
          "iopub.execute_input": "2020-10-21T07:53:09.968Z",
          "iopub.status.idle": "2020-10-21T07:53:10.004Z"
        }
      }
    },
    {
      "cell_type": "code",
      "source": [
        "#Agregando el nombre de la acción al actionDataFrame\n",
        "insert!(actionDataFrameCount, 2, actionID, :action_name)"
      ],
      "outputs": [
        {
          "output_type": "stream",
          "name": "stderr",
          "text": [
            "┌ Warning: `insert!(df::DataFrame, col_ind::Int, item, name::Symbol; makeunique::Bool = false)` is deprecated, use `insertcols!(df, col_ind, name => item; makeunique = makeunique)` instead.\n",
            "│   caller = top-level scope at In[48]:1\n",
            "└ @ Core In[48]:1\n"
          ]
        },
        {
          "output_type": "execute_result",
          "execution_count": 48,
          "data": {
            "text/plain": "27×3 DataFrame\n│ Row │ action │ action_name │ action_sum │\n│     │ \u001b[90mAny\u001b[39m    │ \u001b[90mString\u001b[39m      │ \u001b[90mInt64\u001b[39m      │\n├─────┼────────┼─────────────┼────────────┤\n│ 1   │ 1      │ viewed      │ 21825      │\n│ 2   │ 2      │ failed      │ 774        │\n│ 3   │ 3      │ loggedin    │ 3297       │\n│ 4   │ 4      │ launched    │ 6304       │\n│ 5   │ 5      │ started     │ 1350       │\n│ 6   │ 6      │ loggedout   │ 1368       │\n│ 7   │ 7      │ updated     │ 5908       │\n│ 8   │ 8      │ liked       │ 2960       │\n│ 9   │ 9      │ commented   │ 2169       │\n│ 10  │ 10     │ selected    │ 320        │\n⋮\n│ 17  │ 17     │ ended       │ 1836       │\n│ 18  │ 18     │ resumed     │ 2970       │\n│ 19  │ 19     │ uploaded    │ 1102       │\n│ 20  │ 20     │ unliked     │ 1260       │\n│ 21  │ 21     │ restarted   │ 777        │\n│ 22  │ 22     │ reset       │ 88         │\n│ 23  │ 23     │ assigned    │ 805        │\n│ 24  │ 24     │ deleted     │ 384        │\n│ 25  │ 25     │ leveledup   │ 400        │\n│ 26  │ 26     │ unassigned  │ 52         │\n│ 27  │ 27     │ searched    │ 27         │",
            "text/html": "<table class=\"data-frame\"><thead><tr><th></th><th>action</th><th>action_name</th><th>action_sum</th></tr><tr><th></th><th>Any</th><th>String</th><th>Int64</th></tr></thead><tbody><p>27 rows × 3 columns</p><tr><th>1</th><td>1</td><td>viewed</td><td>21825</td></tr><tr><th>2</th><td>2</td><td>failed</td><td>774</td></tr><tr><th>3</th><td>3</td><td>loggedin</td><td>3297</td></tr><tr><th>4</th><td>4</td><td>launched</td><td>6304</td></tr><tr><th>5</th><td>5</td><td>started</td><td>1350</td></tr><tr><th>6</th><td>6</td><td>loggedout</td><td>1368</td></tr><tr><th>7</th><td>7</td><td>updated</td><td>5908</td></tr><tr><th>8</th><td>8</td><td>liked</td><td>2960</td></tr><tr><th>9</th><td>9</td><td>commented</td><td>2169</td></tr><tr><th>10</th><td>10</td><td>selected</td><td>320</td></tr><tr><th>11</th><td>11</td><td>graded</td><td>5016</td></tr><tr><th>12</th><td>12</td><td>submitted</td><td>4224</td></tr><tr><th>13</th><td>13</td><td>created</td><td>17537</td></tr><tr><th>14</th><td>14</td><td>Scored</td><td>5586</td></tr><tr><th>15</th><td>15</td><td>sent</td><td>1275</td></tr><tr><th>16</th><td>16</td><td>added</td><td>32</td></tr><tr><th>17</th><td>17</td><td>ended</td><td>1836</td></tr><tr><th>18</th><td>18</td><td>resumed</td><td>2970</td></tr><tr><th>19</th><td>19</td><td>uploaded</td><td>1102</td></tr><tr><th>20</th><td>20</td><td>unliked</td><td>1260</td></tr><tr><th>21</th><td>21</td><td>restarted</td><td>777</td></tr><tr><th>22</th><td>22</td><td>reset</td><td>88</td></tr><tr><th>23</th><td>23</td><td>assigned</td><td>805</td></tr><tr><th>24</th><td>24</td><td>deleted</td><td>384</td></tr><tr><th>25</th><td>25</td><td>leveledup</td><td>400</td></tr><tr><th>26</th><td>26</td><td>unassigned</td><td>52</td></tr><tr><th>27</th><td>27</td><td>searched</td><td>27</td></tr></tbody></table>",
            "text/latex": "\\begin{tabular}{r|ccc}\n\t& action & action\\_name & action\\_sum\\\\\n\t\\hline\n\t& Any & String & Int64\\\\\n\t\\hline\n\t1 & 1 & viewed & 21825 \\\\\n\t2 & 2 & failed & 774 \\\\\n\t3 & 3 & loggedin & 3297 \\\\\n\t4 & 4 & launched & 6304 \\\\\n\t5 & 5 & started & 1350 \\\\\n\t6 & 6 & loggedout & 1368 \\\\\n\t7 & 7 & updated & 5908 \\\\\n\t8 & 8 & liked & 2960 \\\\\n\t9 & 9 & commented & 2169 \\\\\n\t10 & 10 & selected & 320 \\\\\n\t11 & 11 & graded & 5016 \\\\\n\t12 & 12 & submitted & 4224 \\\\\n\t13 & 13 & created & 17537 \\\\\n\t14 & 14 & Scored & 5586 \\\\\n\t15 & 15 & sent & 1275 \\\\\n\t16 & 16 & added & 32 \\\\\n\t17 & 17 & ended & 1836 \\\\\n\t18 & 18 & resumed & 2970 \\\\\n\t19 & 19 & uploaded & 1102 \\\\\n\t20 & 20 & unliked & 1260 \\\\\n\t21 & 21 & restarted & 777 \\\\\n\t22 & 22 & reset & 88 \\\\\n\t23 & 23 & assigned & 805 \\\\\n\t24 & 24 & deleted & 384 \\\\\n\t25 & 25 & leveledup & 400 \\\\\n\t26 & 26 & unassigned & 52 \\\\\n\t27 & 27 & searched & 27 \\\\\n\\end{tabular}\n"
          },
          "metadata": {}
        }
      ],
      "execution_count": 48,
      "metadata": {
        "collapsed": true,
        "jupyter": {
          "source_hidden": false,
          "outputs_hidden": false
        },
        "nteract": {
          "transient": {
            "deleting": false
          }
        },
        "execution": {
          "iopub.status.busy": "2020-10-21T07:53:26.792Z",
          "iopub.execute_input": "2020-10-21T07:53:26.809Z",
          "iopub.status.idle": "2020-10-21T07:53:26.955Z"
        }
      }
    },
    {
      "cell_type": "code",
      "source": [
        "#Organizando la matriz de frecuencia de los eventos por identificador de usuario\n",
        "actionDataFrameCount=sort!(actionDataFrameCount, [:action_sum], rev= true)"
      ],
      "outputs": [
        {
          "output_type": "execute_result",
          "execution_count": 49,
          "data": {
            "text/plain": "27×3 DataFrame\n│ Row │ action │ action_name │ action_sum │\n│     │ \u001b[90mAny\u001b[39m    │ \u001b[90mString\u001b[39m      │ \u001b[90mInt64\u001b[39m      │\n├─────┼────────┼─────────────┼────────────┤\n│ 1   │ 1      │ viewed      │ 21825      │\n│ 2   │ 13     │ created     │ 17537      │\n│ 3   │ 4      │ launched    │ 6304       │\n│ 4   │ 7      │ updated     │ 5908       │\n│ 5   │ 14     │ Scored      │ 5586       │\n│ 6   │ 11     │ graded      │ 5016       │\n│ 7   │ 12     │ submitted   │ 4224       │\n│ 8   │ 3      │ loggedin    │ 3297       │\n│ 9   │ 18     │ resumed     │ 2970       │\n│ 10  │ 8      │ liked       │ 2960       │\n⋮\n│ 17  │ 19     │ uploaded    │ 1102       │\n│ 18  │ 23     │ assigned    │ 805        │\n│ 19  │ 21     │ restarted   │ 777        │\n│ 20  │ 2      │ failed      │ 774        │\n│ 21  │ 25     │ leveledup   │ 400        │\n│ 22  │ 24     │ deleted     │ 384        │\n│ 23  │ 10     │ selected    │ 320        │\n│ 24  │ 22     │ reset       │ 88         │\n│ 25  │ 26     │ unassigned  │ 52         │\n│ 26  │ 16     │ added       │ 32         │\n│ 27  │ 27     │ searched    │ 27         │",
            "text/html": "<table class=\"data-frame\"><thead><tr><th></th><th>action</th><th>action_name</th><th>action_sum</th></tr><tr><th></th><th>Any</th><th>String</th><th>Int64</th></tr></thead><tbody><p>27 rows × 3 columns</p><tr><th>1</th><td>1</td><td>viewed</td><td>21825</td></tr><tr><th>2</th><td>13</td><td>created</td><td>17537</td></tr><tr><th>3</th><td>4</td><td>launched</td><td>6304</td></tr><tr><th>4</th><td>7</td><td>updated</td><td>5908</td></tr><tr><th>5</th><td>14</td><td>Scored</td><td>5586</td></tr><tr><th>6</th><td>11</td><td>graded</td><td>5016</td></tr><tr><th>7</th><td>12</td><td>submitted</td><td>4224</td></tr><tr><th>8</th><td>3</td><td>loggedin</td><td>3297</td></tr><tr><th>9</th><td>18</td><td>resumed</td><td>2970</td></tr><tr><th>10</th><td>8</td><td>liked</td><td>2960</td></tr><tr><th>11</th><td>9</td><td>commented</td><td>2169</td></tr><tr><th>12</th><td>17</td><td>ended</td><td>1836</td></tr><tr><th>13</th><td>6</td><td>loggedout</td><td>1368</td></tr><tr><th>14</th><td>5</td><td>started</td><td>1350</td></tr><tr><th>15</th><td>15</td><td>sent</td><td>1275</td></tr><tr><th>16</th><td>20</td><td>unliked</td><td>1260</td></tr><tr><th>17</th><td>19</td><td>uploaded</td><td>1102</td></tr><tr><th>18</th><td>23</td><td>assigned</td><td>805</td></tr><tr><th>19</th><td>21</td><td>restarted</td><td>777</td></tr><tr><th>20</th><td>2</td><td>failed</td><td>774</td></tr><tr><th>21</th><td>25</td><td>leveledup</td><td>400</td></tr><tr><th>22</th><td>24</td><td>deleted</td><td>384</td></tr><tr><th>23</th><td>10</td><td>selected</td><td>320</td></tr><tr><th>24</th><td>22</td><td>reset</td><td>88</td></tr><tr><th>25</th><td>26</td><td>unassigned</td><td>52</td></tr><tr><th>26</th><td>16</td><td>added</td><td>32</td></tr><tr><th>27</th><td>27</td><td>searched</td><td>27</td></tr></tbody></table>",
            "text/latex": "\\begin{tabular}{r|ccc}\n\t& action & action\\_name & action\\_sum\\\\\n\t\\hline\n\t& Any & String & Int64\\\\\n\t\\hline\n\t1 & 1 & viewed & 21825 \\\\\n\t2 & 13 & created & 17537 \\\\\n\t3 & 4 & launched & 6304 \\\\\n\t4 & 7 & updated & 5908 \\\\\n\t5 & 14 & Scored & 5586 \\\\\n\t6 & 11 & graded & 5016 \\\\\n\t7 & 12 & submitted & 4224 \\\\\n\t8 & 3 & loggedin & 3297 \\\\\n\t9 & 18 & resumed & 2970 \\\\\n\t10 & 8 & liked & 2960 \\\\\n\t11 & 9 & commented & 2169 \\\\\n\t12 & 17 & ended & 1836 \\\\\n\t13 & 6 & loggedout & 1368 \\\\\n\t14 & 5 & started & 1350 \\\\\n\t15 & 15 & sent & 1275 \\\\\n\t16 & 20 & unliked & 1260 \\\\\n\t17 & 19 & uploaded & 1102 \\\\\n\t18 & 23 & assigned & 805 \\\\\n\t19 & 21 & restarted & 777 \\\\\n\t20 & 2 & failed & 774 \\\\\n\t21 & 25 & leveledup & 400 \\\\\n\t22 & 24 & deleted & 384 \\\\\n\t23 & 10 & selected & 320 \\\\\n\t24 & 22 & reset & 88 \\\\\n\t25 & 26 & unassigned & 52 \\\\\n\t26 & 16 & added & 32 \\\\\n\t27 & 27 & searched & 27 \\\\\n\\end{tabular}\n"
          },
          "metadata": {}
        }
      ],
      "execution_count": 49,
      "metadata": {
        "collapsed": true,
        "jupyter": {
          "source_hidden": false,
          "outputs_hidden": false
        },
        "nteract": {
          "transient": {
            "deleting": false
          }
        },
        "execution": {
          "iopub.status.busy": "2020-10-21T07:53:35.291Z",
          "iopub.execute_input": "2020-10-21T07:53:35.308Z",
          "iopub.status.idle": "2020-10-21T07:53:35.346Z"
        }
      }
    },
    {
      "cell_type": "code",
      "source": [
        "x=actionDataFrameCount[1:4,:action_name]\n",
        "y=actionDataFrameCount[1:4,:action_sum]\n",
        "plot(x, y, seriestype = :bar, size=(700,300), title = \"Actions most performed by users\", legend=false, orientation=:h, yflip=true)"
      ],
      "outputs": [
        {
          "output_type": "execute_result",
          "execution_count": 50,
          "data": {
            "image/svg+xml": "<?xml version=\"1.0\" encoding=\"utf-8\"?>\n<svg xmlns=\"http://www.w3.org/2000/svg\" xmlns:xlink=\"http://www.w3.org/1999/xlink\" width=\"700\" height=\"300\" viewBox=\"0 0 2800 1200\">\n<defs>\n  <clipPath id=\"clip6400\">\n    <rect x=\"0\" y=\"0\" width=\"2800\" height=\"1200\"/>\n  </clipPath>\n</defs>\n<path clip-path=\"url(#clip6400)\" d=\"\nM0 1200 L2800 1200 L2800 0 L0 0  Z\n  \" fill=\"#ffffff\" fill-rule=\"evenodd\" fill-opacity=\"1\"/>\n<defs>\n  <clipPath id=\"clip6401\">\n    <rect x=\"560\" y=\"0\" width=\"1961\" height=\"1200\"/>\n  </clipPath>\n</defs>\n<path clip-path=\"url(#clip6400)\" d=\"\nM286.319 1103.45 L2752.76 1103.45 L2752.76 100.717 L286.319 100.717  Z\n  \" fill=\"#ffffff\" fill-rule=\"evenodd\" fill-opacity=\"1\"/>\n<defs>\n  <clipPath id=\"clip6402\">\n    <rect x=\"286\" y=\"100\" width=\"2467\" height=\"1004\"/>\n  </clipPath>\n</defs>\n<polyline clip-path=\"url(#clip6402)\" style=\"stroke:#000000; stroke-width:2; stroke-opacity:0.1; fill:none\" points=\"\n  356.124,100.717 356.124,1103.45 \n  \"/>\n<polyline clip-path=\"url(#clip6402)\" style=\"stroke:#000000; stroke-width:2; stroke-opacity:0.1; fill:none\" points=\"\n  889.188,100.717 889.188,1103.45 \n  \"/>\n<polyline clip-path=\"url(#clip6402)\" style=\"stroke:#000000; stroke-width:2; stroke-opacity:0.1; fill:none\" points=\"\n  1422.25,100.717 1422.25,1103.45 \n  \"/>\n<polyline clip-path=\"url(#clip6402)\" style=\"stroke:#000000; stroke-width:2; stroke-opacity:0.1; fill:none\" points=\"\n  1955.32,100.717 1955.32,1103.45 \n  \"/>\n<polyline clip-path=\"url(#clip6402)\" style=\"stroke:#000000; stroke-width:2; stroke-opacity:0.1; fill:none\" points=\"\n  2488.38,100.717 2488.38,1103.45 \n  \"/>\n<polyline clip-path=\"url(#clip6402)\" style=\"stroke:#000000; stroke-width:2; stroke-opacity:0.1; fill:none\" points=\"\n  286.319,249.809 2752.76,249.809 \n  \"/>\n<polyline clip-path=\"url(#clip6402)\" style=\"stroke:#000000; stroke-width:2; stroke-opacity:0.1; fill:none\" points=\"\n  286.319,484.659 2752.76,484.659 \n  \"/>\n<polyline clip-path=\"url(#clip6402)\" style=\"stroke:#000000; stroke-width:2; stroke-opacity:0.1; fill:none\" points=\"\n  286.319,719.509 2752.76,719.509 \n  \"/>\n<polyline clip-path=\"url(#clip6402)\" style=\"stroke:#000000; stroke-width:2; stroke-opacity:0.1; fill:none\" points=\"\n  286.319,954.359 2752.76,954.359 \n  \"/>\n<polyline clip-path=\"url(#clip6400)\" style=\"stroke:#000000; stroke-width:4; stroke-opacity:1; fill:none\" points=\"\n  286.319,1103.45 2752.76,1103.45 \n  \"/>\n<polyline clip-path=\"url(#clip6400)\" style=\"stroke:#000000; stroke-width:4; stroke-opacity:1; fill:none\" points=\"\n  286.319,100.717 286.319,1103.45 \n  \"/>\n<polyline clip-path=\"url(#clip6400)\" style=\"stroke:#000000; stroke-width:4; stroke-opacity:1; fill:none\" points=\"\n  356.124,1103.45 356.124,1091.42 \n  \"/>\n<polyline clip-path=\"url(#clip6400)\" style=\"stroke:#000000; stroke-width:4; stroke-opacity:1; fill:none\" points=\"\n  889.188,1103.45 889.188,1091.42 \n  \"/>\n<polyline clip-path=\"url(#clip6400)\" style=\"stroke:#000000; stroke-width:4; stroke-opacity:1; fill:none\" points=\"\n  1422.25,1103.45 1422.25,1091.42 \n  \"/>\n<polyline clip-path=\"url(#clip6400)\" style=\"stroke:#000000; stroke-width:4; stroke-opacity:1; fill:none\" points=\"\n  1955.32,1103.45 1955.32,1091.42 \n  \"/>\n<polyline clip-path=\"url(#clip6400)\" style=\"stroke:#000000; stroke-width:4; stroke-opacity:1; fill:none\" points=\"\n  2488.38,1103.45 2488.38,1091.42 \n  \"/>\n<polyline clip-path=\"url(#clip6400)\" style=\"stroke:#000000; stroke-width:4; stroke-opacity:1; fill:none\" points=\"\n  286.319,249.809 315.916,249.809 \n  \"/>\n<polyline clip-path=\"url(#clip6400)\" style=\"stroke:#000000; stroke-width:4; stroke-opacity:1; fill:none\" points=\"\n  286.319,484.659 315.916,484.659 \n  \"/>\n<polyline clip-path=\"url(#clip6400)\" style=\"stroke:#000000; stroke-width:4; stroke-opacity:1; fill:none\" points=\"\n  286.319,719.509 315.916,719.509 \n  \"/>\n<polyline clip-path=\"url(#clip6400)\" style=\"stroke:#000000; stroke-width:4; stroke-opacity:1; fill:none\" points=\"\n  286.319,954.359 315.916,954.359 \n  \"/>\n<g clip-path=\"url(#clip6400)\">\n<text style=\"fill:#000000; fill-opacity:1; font-family:Arial,Helvetica Neue,Helvetica,sans-serif; font-size:48px; text-anchor:middle;\" transform=\"rotate(0, 356.124, 1159.45)\" x=\"356.124\" y=\"1159.45\">0</text>\n</g>\n<g clip-path=\"url(#clip6400)\">\n<text style=\"fill:#000000; fill-opacity:1; font-family:Arial,Helvetica Neue,Helvetica,sans-serif; font-size:48px; text-anchor:start;\" transform=\"rotate(0, 804.046, 1180.46)\" x=\"804.046\" y=\"1180.46\">5.0×10</text>\n</g>\n<g clip-path=\"url(#clip6400)\">\n<text style=\"fill:#000000; fill-opacity:1; font-family:Arial,Helvetica Neue,Helvetica,sans-serif; font-size:38px; text-anchor:start;\" transform=\"rotate(0, 952.586, 1153.05)\" x=\"952.586\" y=\"1153.05\">3</text>\n</g>\n<g clip-path=\"url(#clip6400)\">\n<text style=\"fill:#000000; fill-opacity:1; font-family:Arial,Helvetica Neue,Helvetica,sans-serif; font-size:48px; text-anchor:start;\" transform=\"rotate(0, 1337.11, 1180.46)\" x=\"1337.11\" y=\"1180.46\">1.0×10</text>\n</g>\n<g clip-path=\"url(#clip6400)\">\n<text style=\"fill:#000000; fill-opacity:1; font-family:Arial,Helvetica Neue,Helvetica,sans-serif; font-size:38px; text-anchor:start;\" transform=\"rotate(0, 1485.65, 1153.05)\" x=\"1485.65\" y=\"1153.05\">4</text>\n</g>\n<g clip-path=\"url(#clip6400)\">\n<text style=\"fill:#000000; fill-opacity:1; font-family:Arial,Helvetica Neue,Helvetica,sans-serif; font-size:48px; text-anchor:start;\" transform=\"rotate(0, 1870.18, 1180.46)\" x=\"1870.18\" y=\"1180.46\">1.5×10</text>\n</g>\n<g clip-path=\"url(#clip6400)\">\n<text style=\"fill:#000000; fill-opacity:1; font-family:Arial,Helvetica Neue,Helvetica,sans-serif; font-size:38px; text-anchor:start;\" transform=\"rotate(0, 2018.72, 1153.05)\" x=\"2018.72\" y=\"1153.05\">4</text>\n</g>\n<g clip-path=\"url(#clip6400)\">\n<text style=\"fill:#000000; fill-opacity:1; font-family:Arial,Helvetica Neue,Helvetica,sans-serif; font-size:48px; text-anchor:start;\" transform=\"rotate(0, 2403.24, 1180.46)\" x=\"2403.24\" y=\"1180.46\">2.0×10</text>\n</g>\n<g clip-path=\"url(#clip6400)\">\n<text style=\"fill:#000000; fill-opacity:1; font-family:Arial,Helvetica Neue,Helvetica,sans-serif; font-size:38px; text-anchor:start;\" transform=\"rotate(0, 2551.78, 1153.05)\" x=\"2551.78\" y=\"1153.05\">4</text>\n</g>\n<g clip-path=\"url(#clip6400)\">\n<text style=\"fill:#000000; fill-opacity:1; font-family:Arial,Helvetica Neue,Helvetica,sans-serif; font-size:48px; text-anchor:end;\" transform=\"rotate(0, 258.319, 267.309)\" x=\"258.319\" y=\"267.309\">viewed</text>\n</g>\n<g clip-path=\"url(#clip6400)\">\n<text style=\"fill:#000000; fill-opacity:1; font-family:Arial,Helvetica Neue,Helvetica,sans-serif; font-size:48px; text-anchor:end;\" transform=\"rotate(0, 258.319, 502.159)\" x=\"258.319\" y=\"502.159\">created</text>\n</g>\n<g clip-path=\"url(#clip6400)\">\n<text style=\"fill:#000000; fill-opacity:1; font-family:Arial,Helvetica Neue,Helvetica,sans-serif; font-size:48px; text-anchor:end;\" transform=\"rotate(0, 258.319, 737.009)\" x=\"258.319\" y=\"737.009\">launched</text>\n</g>\n<g clip-path=\"url(#clip6400)\">\n<text style=\"fill:#000000; fill-opacity:1; font-family:Arial,Helvetica Neue,Helvetica,sans-serif; font-size:48px; text-anchor:end;\" transform=\"rotate(0, 258.319, 971.859)\" x=\"258.319\" y=\"971.859\">updated</text>\n</g>\n<g clip-path=\"url(#clip6400)\">\n<text style=\"fill:#000000; fill-opacity:1; font-family:Arial,Helvetica Neue,Helvetica,sans-serif; font-size:84px; text-anchor:middle;\" transform=\"rotate(0, 1519.54, 73.2)\" x=\"1519.54\" y=\"73.2\">Actions most performed by users</text>\n</g>\n<path clip-path=\"url(#clip6402)\" d=\"\nM2682.95 155.869 L356.124 155.869 L356.124 343.749 L2682.95 343.749 L2682.95 155.869 L2682.95 155.869  Z\n  \" fill=\"#009af9\" fill-rule=\"evenodd\" fill-opacity=\"1\"/>\n<polyline clip-path=\"url(#clip6402)\" style=\"stroke:#000000; stroke-width:4; stroke-opacity:1; fill:none\" points=\"\n  2682.95,155.869 356.124,155.869 356.124,343.749 2682.95,343.749 2682.95,155.869 \n  \"/>\n<path clip-path=\"url(#clip6402)\" d=\"\nM2225.79 390.719 L356.124 390.719 L356.124 578.599 L2225.79 578.599 L2225.79 390.719 L2225.79 390.719  Z\n  \" fill=\"#009af9\" fill-rule=\"evenodd\" fill-opacity=\"1\"/>\n<polyline clip-path=\"url(#clip6402)\" style=\"stroke:#000000; stroke-width:4; stroke-opacity:1; fill:none\" points=\"\n  2225.79,390.719 356.124,390.719 356.124,578.599 2225.79,578.599 2225.79,390.719 \n  \"/>\n<path clip-path=\"url(#clip6402)\" d=\"\nM1028.21 625.569 L356.124 625.569 L356.124 813.449 L1028.21 813.449 L1028.21 625.569 L1028.21 625.569  Z\n  \" fill=\"#009af9\" fill-rule=\"evenodd\" fill-opacity=\"1\"/>\n<polyline clip-path=\"url(#clip6402)\" style=\"stroke:#000000; stroke-width:4; stroke-opacity:1; fill:none\" points=\"\n  1028.21,625.569 356.124,625.569 356.124,813.449 1028.21,813.449 1028.21,625.569 \n  \"/>\n<path clip-path=\"url(#clip6402)\" d=\"\nM985.993 860.419 L356.124 860.419 L356.124 1048.3 L985.993 1048.3 L985.993 860.419 L985.993 860.419  Z\n  \" fill=\"#009af9\" fill-rule=\"evenodd\" fill-opacity=\"1\"/>\n<polyline clip-path=\"url(#clip6402)\" style=\"stroke:#000000; stroke-width:4; stroke-opacity:1; fill:none\" points=\"\n  985.993,860.419 356.124,860.419 356.124,1048.3 985.993,1048.3 985.993,860.419 \n  \"/>\n</svg>\n"
          },
          "metadata": {}
        }
      ],
      "execution_count": 50,
      "metadata": {
        "collapsed": true,
        "jupyter": {
          "source_hidden": false,
          "outputs_hidden": false
        },
        "nteract": {
          "transient": {
            "deleting": false
          }
        },
        "execution": {
          "iopub.status.busy": "2020-10-21T07:53:42.258Z",
          "iopub.execute_input": "2020-10-21T07:53:42.277Z",
          "iopub.status.idle": "2020-10-21T07:53:42.310Z"
        }
      }
    },
    {
      "cell_type": "code",
      "source": [
        "#Convirtiendo variables en tipo String del feature Data Frame\n",
        "featureDataFrame[!,[:year, :month, :day, :hour, :minute, :second]]=convert(Array{String}, featureDataFrame[!,[:year, :month, :day, :hour, :minute, :second]])"
      ],
      "outputs": [
        {
          "output_type": "execute_result",
          "execution_count": 52,
          "data": {
            "text/plain": "30020×6 Array{String,2}:\n \"2020\"  \"08\"  \"12\"  \"19\"  \"16\"  \"16\"\n \"2020\"  \"08\"  \"12\"  \"20\"  \"19\"  \"45\"\n \"2020\"  \"08\"  \"12\"  \"20\"  \"20\"  \"23\"\n \"2020\"  \"08\"  \"12\"  \"20\"  \"20\"  \"23\"\n \"2020\"  \"08\"  \"12\"  \"20\"  \"20\"  \"27\"\n \"2020\"  \"08\"  \"12\"  \"20\"  \"20\"  \"30\"\n \"2020\"  \"08\"  \"12\"  \"20\"  \"22\"  \"53\"\n \"2020\"  \"08\"  \"12\"  \"20\"  \"24\"  \"24\"\n \"2020\"  \"08\"  \"12\"  \"20\"  \"39\"  \"07\"\n \"2020\"  \"08\"  \"12\"  \"20\"  \"39\"  \"07\"\n \"2020\"  \"08\"  \"12\"  \"20\"  \"39\"  \"19\"\n \"2020\"  \"08\"  \"12\"  \"20\"  \"39\"  \"20\"\n \"2020\"  \"08\"  \"12\"  \"20\"  \"39\"  \"21\"\n ⋮                               ⋮\n \"2020\"  \"10\"  \"08\"  \"23\"  \"26\"  \"53\"\n \"2020\"  \"10\"  \"08\"  \"23\"  \"26\"  \"54\"\n \"2020\"  \"10\"  \"08\"  \"23\"  \"38\"  \"02\"\n \"2020\"  \"10\"  \"08\"  \"23\"  \"38\"  \"20\"\n \"2020\"  \"10\"  \"08\"  \"23\"  \"38\"  \"26\"\n \"2020\"  \"10\"  \"08\"  \"23\"  \"38\"  \"28\"\n \"2020\"  \"10\"  \"08\"  \"23\"  \"38\"  \"32\"\n \"2020\"  \"10\"  \"08\"  \"23\"  \"39\"  \"09\"\n \"2020\"  \"10\"  \"08\"  \"23\"  \"39\"  \"11\"\n \"2020\"  \"10\"  \"08\"  \"23\"  \"39\"  \"24\"\n \"2020\"  \"10\"  \"08\"  \"23\"  \"39\"  \"33\"\n \"2020\"  \"10\"  \"08\"  \"23\"  \"39\"  \"43\""
          },
          "metadata": {}
        }
      ],
      "execution_count": 52,
      "metadata": {
        "collapsed": true,
        "jupyter": {
          "source_hidden": false,
          "outputs_hidden": false
        },
        "nteract": {
          "transient": {
            "deleting": false
          }
        },
        "execution": {
          "iopub.status.busy": "2020-10-21T07:54:17.444Z",
          "iopub.execute_input": "2020-10-21T07:54:17.470Z",
          "iopub.status.idle": "2020-10-21T07:54:17.510Z"
        }
      }
    },
    {
      "cell_type": "code",
      "source": [
        "# Agrupando los usuarios de acuerdo a la acción realizada\n",
        "groupbyLogin = groupby(featureDataFrame, [:month, :day, :action]);"
      ],
      "outputs": [],
      "execution_count": 54,
      "metadata": {
        "collapsed": true,
        "jupyter": {
          "source_hidden": false,
          "outputs_hidden": false
        },
        "nteract": {
          "transient": {
            "deleting": false
          }
        },
        "execution": {
          "iopub.status.busy": "2020-10-21T07:56:07.528Z",
          "iopub.execute_input": "2020-10-21T07:56:07.547Z",
          "iopub.status.idle": "2020-10-21T07:56:07.692Z"
        }
      }
    },
    {
      "cell_type": "code",
      "source": [
        "# Obteniendo la cantidad de acciones según su tipo\n",
        "loginDataFrameCount=combine(groupbyLogin, :action => sum);"
      ],
      "outputs": [],
      "execution_count": 55,
      "metadata": {
        "collapsed": true,
        "jupyter": {
          "source_hidden": false,
          "outputs_hidden": false
        },
        "nteract": {
          "transient": {
            "deleting": false
          }
        },
        "execution": {
          "iopub.status.busy": "2020-10-21T07:56:11.866Z",
          "iopub.execute_input": "2020-10-21T07:56:11.882Z",
          "iopub.status.idle": "2020-10-21T07:56:11.906Z"
        }
      }
    },
    {
      "cell_type": "code",
      "source": [
        "groupbyLoginAction = groupby(loginDataFrameCount, :action);"
      ],
      "outputs": [],
      "execution_count": 56,
      "metadata": {
        "collapsed": true,
        "jupyter": {
          "source_hidden": false,
          "outputs_hidden": false
        },
        "nteract": {
          "transient": {
            "deleting": false
          }
        },
        "execution": {
          "iopub.status.busy": "2020-10-21T07:56:14.656Z",
          "iopub.execute_input": "2020-10-21T07:56:14.681Z",
          "iopub.status.idle": "2020-10-21T07:56:14.708Z"
        }
      }
    },
    {
      "cell_type": "code",
      "source": [
        "groupbyLoginAction[3]\n"
      ],
      "outputs": [
        {
          "output_type": "execute_result",
          "execution_count": 141,
          "data": {
            "text/plain": "58×4 SubDataFrame\n│ Row │ month  │ day    │ action │ action_sum │\n│     │ \u001b[90mString\u001b[39m │ \u001b[90mString\u001b[39m │ \u001b[90mAny\u001b[39m    │ \u001b[90mInt64\u001b[39m      │\n├─────┼────────┼────────┼────────┼────────────┤\n│ 1   │ 08     │ 12     │ 3      │ 30         │\n│ 2   │ 08     │ 13     │ 3      │ 84         │\n│ 3   │ 08     │ 14     │ 3      │ 120        │\n│ 4   │ 08     │ 15     │ 3      │ 54         │\n│ 5   │ 08     │ 16     │ 3      │ 63         │\n│ 6   │ 08     │ 17     │ 3      │ 42         │\n│ 7   │ 08     │ 18     │ 3      │ 117        │\n│ 8   │ 08     │ 19     │ 3      │ 144        │\n│ 9   │ 08     │ 20     │ 3      │ 159        │\n│ 10  │ 08     │ 21     │ 3      │ 105        │\n⋮\n│ 48  │ 09     │ 28     │ 3      │ 36         │\n│ 49  │ 09     │ 29     │ 3      │ 30         │\n│ 50  │ 09     │ 30     │ 3      │ 27         │\n│ 51  │ 10     │ 01     │ 3      │ 51         │\n│ 52  │ 10     │ 02     │ 3      │ 39         │\n│ 53  │ 10     │ 03     │ 3      │ 9          │\n│ 54  │ 10     │ 04     │ 3      │ 9          │\n│ 55  │ 10     │ 05     │ 3      │ 57         │\n│ 56  │ 10     │ 06     │ 3      │ 60         │\n│ 57  │ 10     │ 07     │ 3      │ 63         │\n│ 58  │ 10     │ 08     │ 3      │ 66         │",
            "text/html": "<table class=\"data-frame\"><thead><tr><th></th><th>month</th><th>day</th><th>action</th><th>action_sum</th></tr><tr><th></th><th>String</th><th>String</th><th>Any</th><th>Int64</th></tr></thead><tbody><p>58 rows × 4 columns</p><tr><th>1</th><td>08</td><td>12</td><td>3</td><td>30</td></tr><tr><th>2</th><td>08</td><td>13</td><td>3</td><td>84</td></tr><tr><th>3</th><td>08</td><td>14</td><td>3</td><td>120</td></tr><tr><th>4</th><td>08</td><td>15</td><td>3</td><td>54</td></tr><tr><th>5</th><td>08</td><td>16</td><td>3</td><td>63</td></tr><tr><th>6</th><td>08</td><td>17</td><td>3</td><td>42</td></tr><tr><th>7</th><td>08</td><td>18</td><td>3</td><td>117</td></tr><tr><th>8</th><td>08</td><td>19</td><td>3</td><td>144</td></tr><tr><th>9</th><td>08</td><td>20</td><td>3</td><td>159</td></tr><tr><th>10</th><td>08</td><td>21</td><td>3</td><td>105</td></tr><tr><th>11</th><td>08</td><td>22</td><td>3</td><td>42</td></tr><tr><th>12</th><td>08</td><td>23</td><td>3</td><td>57</td></tr><tr><th>13</th><td>08</td><td>24</td><td>3</td><td>108</td></tr><tr><th>14</th><td>08</td><td>25</td><td>3</td><td>57</td></tr><tr><th>15</th><td>08</td><td>26</td><td>3</td><td>93</td></tr><tr><th>16</th><td>08</td><td>27</td><td>3</td><td>93</td></tr><tr><th>17</th><td>08</td><td>28</td><td>3</td><td>54</td></tr><tr><th>18</th><td>08</td><td>29</td><td>3</td><td>18</td></tr><tr><th>19</th><td>08</td><td>30</td><td>3</td><td>27</td></tr><tr><th>20</th><td>08</td><td>31</td><td>3</td><td>51</td></tr><tr><th>21</th><td>09</td><td>01</td><td>3</td><td>33</td></tr><tr><th>22</th><td>09</td><td>02</td><td>3</td><td>60</td></tr><tr><th>23</th><td>09</td><td>03</td><td>3</td><td>54</td></tr><tr><th>24</th><td>09</td><td>04</td><td>3</td><td>75</td></tr><tr><th>25</th><td>09</td><td>05</td><td>3</td><td>51</td></tr><tr><th>26</th><td>09</td><td>06</td><td>3</td><td>81</td></tr><tr><th>27</th><td>09</td><td>07</td><td>3</td><td>87</td></tr><tr><th>28</th><td>09</td><td>08</td><td>3</td><td>72</td></tr><tr><th>29</th><td>09</td><td>09</td><td>3</td><td>72</td></tr><tr><th>30</th><td>09</td><td>10</td><td>3</td><td>87</td></tr><tr><th>&vellip;</th><td>&vellip;</td><td>&vellip;</td><td>&vellip;</td><td>&vellip;</td></tr></tbody></table>",
            "text/latex": "\\begin{tabular}{r|cccc}\n\t& month & day & action & action\\_sum\\\\\n\t\\hline\n\t& String & String & Any & Int64\\\\\n\t\\hline\n\t1 & 08 & 12 & 3 & 30 \\\\\n\t2 & 08 & 13 & 3 & 84 \\\\\n\t3 & 08 & 14 & 3 & 120 \\\\\n\t4 & 08 & 15 & 3 & 54 \\\\\n\t5 & 08 & 16 & 3 & 63 \\\\\n\t6 & 08 & 17 & 3 & 42 \\\\\n\t7 & 08 & 18 & 3 & 117 \\\\\n\t8 & 08 & 19 & 3 & 144 \\\\\n\t9 & 08 & 20 & 3 & 159 \\\\\n\t10 & 08 & 21 & 3 & 105 \\\\\n\t11 & 08 & 22 & 3 & 42 \\\\\n\t12 & 08 & 23 & 3 & 57 \\\\\n\t13 & 08 & 24 & 3 & 108 \\\\\n\t14 & 08 & 25 & 3 & 57 \\\\\n\t15 & 08 & 26 & 3 & 93 \\\\\n\t16 & 08 & 27 & 3 & 93 \\\\\n\t17 & 08 & 28 & 3 & 54 \\\\\n\t18 & 08 & 29 & 3 & 18 \\\\\n\t19 & 08 & 30 & 3 & 27 \\\\\n\t20 & 08 & 31 & 3 & 51 \\\\\n\t21 & 09 & 01 & 3 & 33 \\\\\n\t22 & 09 & 02 & 3 & 60 \\\\\n\t23 & 09 & 03 & 3 & 54 \\\\\n\t24 & 09 & 04 & 3 & 75 \\\\\n\t25 & 09 & 05 & 3 & 51 \\\\\n\t26 & 09 & 06 & 3 & 81 \\\\\n\t27 & 09 & 07 & 3 & 87 \\\\\n\t28 & 09 & 08 & 3 & 72 \\\\\n\t29 & 09 & 09 & 3 & 72 \\\\\n\t30 & 09 & 10 & 3 & 87 \\\\\n\t$\\dots$ & $\\dots$ & $\\dots$ & $\\dots$ & $\\dots$ \\\\\n\\end{tabular}\n"
          },
          "metadata": {}
        }
      ],
      "execution_count": 141,
      "metadata": {
        "collapsed": true,
        "jupyter": {
          "source_hidden": false,
          "outputs_hidden": false
        },
        "nteract": {
          "transient": {
            "deleting": false
          }
        },
        "execution": {
          "iopub.status.busy": "2020-10-21T09:49:36.070Z",
          "iopub.execute_input": "2020-10-21T09:49:36.091Z",
          "iopub.status.idle": "2020-10-21T09:49:36.136Z"
        }
      }
    },
    {
      "cell_type": "code",
      "source": [
        "topsize=size(groupbyLoginAction[3],1);"
      ],
      "outputs": [],
      "execution_count": 57,
      "metadata": {
        "collapsed": true,
        "jupyter": {
          "source_hidden": false,
          "outputs_hidden": false
        },
        "nteract": {
          "transient": {
            "deleting": false
          }
        },
        "execution": {
          "iopub.status.busy": "2020-10-21T07:56:26.581Z",
          "iopub.execute_input": "2020-10-21T07:56:26.598Z",
          "iopub.status.idle": "2020-10-21T07:56:26.629Z"
        }
      }
    },
    {
      "cell_type": "code",
      "source": [
        "describe(groupbyLoginAction[3])"
      ],
      "outputs": [
        {
          "output_type": "execute_result",
          "execution_count": 58,
          "data": {
            "text/plain": "4×8 DataFrame. Omitted printing of 1 columns\n│ Row │ variable   │ mean    │ min │ median │ max │ nunique │ nmissing │\n│     │ \u001b[90mSymbol\u001b[39m     │ \u001b[90mUnion…\u001b[39m  │ \u001b[90mAny\u001b[39m │ \u001b[90mUnion…\u001b[39m │ \u001b[90mAny\u001b[39m │ \u001b[90mUnion…\u001b[39m  │ \u001b[90mUnion…\u001b[39m   │\n├─────┼────────────┼─────────┼─────┼────────┼─────┼─────────┼──────────┤\n│ 1   │ month      │         │ 08  │        │ 10  │ 3       │          │\n│ 2   │ day        │         │ 01  │        │ 31  │ 31      │          │\n│ 3   │ action     │ 3.0     │ 3   │ 3.0    │ 3   │ 1       │ 0        │\n│ 4   │ action_sum │ 56.8448 │ 9   │ 54.0   │ 159 │         │          │",
            "text/html": "<table class=\"data-frame\"><thead><tr><th></th><th>variable</th><th>mean</th><th>min</th><th>median</th><th>max</th><th>nunique</th><th>nmissing</th><th>eltype</th></tr><tr><th></th><th>Symbol</th><th>Union…</th><th>Any</th><th>Union…</th><th>Any</th><th>Union…</th><th>Union…</th><th>DataType</th></tr></thead><tbody><p>4 rows × 8 columns</p><tr><th>1</th><td>month</td><td></td><td>08</td><td></td><td>10</td><td>3</td><td></td><td>String</td></tr><tr><th>2</th><td>day</td><td></td><td>01</td><td></td><td>31</td><td>31</td><td></td><td>String</td></tr><tr><th>3</th><td>action</td><td>3.0</td><td>3</td><td>3.0</td><td>3</td><td>1</td><td>0</td><td>Any</td></tr><tr><th>4</th><td>action_sum</td><td>56.8448</td><td>9</td><td>54.0</td><td>159</td><td></td><td></td><td>Int64</td></tr></tbody></table>",
            "text/latex": "\\begin{tabular}{r|cccccccc}\n\t& variable & mean & min & median & max & nunique & nmissing & eltype\\\\\n\t\\hline\n\t& Symbol & Union… & Any & Union… & Any & Union… & Union… & DataType\\\\\n\t\\hline\n\t1 & month &  & 08 &  & 10 & 3 &  & String \\\\\n\t2 & day &  & 01 &  & 31 & 31 &  & String \\\\\n\t3 & action & 3.0 & 3 & 3.0 & 3 & 1 & 0 & Any \\\\\n\t4 & action\\_sum & 56.8448 & 9 & 54.0 & 159 &  &  & Int64 \\\\\n\\end{tabular}\n"
          },
          "metadata": {}
        }
      ],
      "execution_count": 58,
      "metadata": {
        "collapsed": true,
        "jupyter": {
          "source_hidden": false,
          "outputs_hidden": false
        },
        "nteract": {
          "transient": {
            "deleting": false
          }
        },
        "execution": {
          "iopub.status.busy": "2020-10-21T07:56:28.502Z",
          "iopub.execute_input": "2020-10-21T07:56:28.523Z",
          "iopub.status.idle": "2020-10-21T07:56:36.326Z"
        }
      }
    },
    {
      "cell_type": "code",
      "source": [
        "#Número de conexiones por día en el gestor de inteligencia GIANT\n",
        "x = 1:topsize; \n",
        "y = groupbyLoginAction[3][!,:action_sum]; # These are the plotting data\n",
        "plot(x, y, title = \"Connections per day\", xlabel = \"Day\", ylabel = \"Connection's Number\", lw = 3, marker=:circle, ms=5, mc=:orange,legend=false, size=(1100,300))"
      ],
      "outputs": [
        {
          "output_type": "execute_result",
          "execution_count": 59,
          "data": {
            "image/svg+xml": "<?xml version=\"1.0\" encoding=\"utf-8\"?>\n<svg xmlns=\"http://www.w3.org/2000/svg\" xmlns:xlink=\"http://www.w3.org/1999/xlink\" width=\"1100\" height=\"300\" viewBox=\"0 0 4400 1200\">\n<defs>\n  <clipPath id=\"clip6800\">\n    <rect x=\"0\" y=\"0\" width=\"4400\" height=\"1200\"/>\n  </clipPath>\n</defs>\n<path clip-path=\"url(#clip6800)\" d=\"\nM0 1200 L4400 1200 L4400 0 L0 0  Z\n  \" fill=\"#ffffff\" fill-rule=\"evenodd\" fill-opacity=\"1\"/>\n<defs>\n  <clipPath id=\"clip6801\">\n    <rect x=\"880\" y=\"0\" width=\"3081\" height=\"1200\"/>\n  </clipPath>\n</defs>\n<path clip-path=\"url(#clip6800)\" d=\"\nM216.668 1058.06 L4352.76 1058.06 L4352.76 100.717 L216.668 100.717  Z\n  \" fill=\"#ffffff\" fill-rule=\"evenodd\" fill-opacity=\"1\"/>\n<defs>\n  <clipPath id=\"clip6802\">\n    <rect x=\"216\" y=\"100\" width=\"4137\" height=\"958\"/>\n  </clipPath>\n</defs>\n<polyline clip-path=\"url(#clip6802)\" style=\"stroke:#000000; stroke-width:2; stroke-opacity:0.1; fill:none\" points=\"\n  265.272,1058.06 265.272,100.717 \n  \"/>\n<polyline clip-path=\"url(#clip6802)\" style=\"stroke:#000000; stroke-width:2; stroke-opacity:0.1; fill:none\" points=\"\n  949.828,1058.06 949.828,100.717 \n  \"/>\n<polyline clip-path=\"url(#clip6802)\" style=\"stroke:#000000; stroke-width:2; stroke-opacity:0.1; fill:none\" points=\"\n  1634.38,1058.06 1634.38,100.717 \n  \"/>\n<polyline clip-path=\"url(#clip6802)\" style=\"stroke:#000000; stroke-width:2; stroke-opacity:0.1; fill:none\" points=\"\n  2318.94,1058.06 2318.94,100.717 \n  \"/>\n<polyline clip-path=\"url(#clip6802)\" style=\"stroke:#000000; stroke-width:2; stroke-opacity:0.1; fill:none\" points=\"\n  3003.5,1058.06 3003.5,100.717 \n  \"/>\n<polyline clip-path=\"url(#clip6802)\" style=\"stroke:#000000; stroke-width:2; stroke-opacity:0.1; fill:none\" points=\"\n  3688.05,1058.06 3688.05,100.717 \n  \"/>\n<polyline clip-path=\"url(#clip6802)\" style=\"stroke:#000000; stroke-width:2; stroke-opacity:0.1; fill:none\" points=\"\n  216.668,904.525 4352.76,904.525 \n  \"/>\n<polyline clip-path=\"url(#clip6802)\" style=\"stroke:#000000; stroke-width:2; stroke-opacity:0.1; fill:none\" points=\"\n  216.668,723.894 4352.76,723.894 \n  \"/>\n<polyline clip-path=\"url(#clip6802)\" style=\"stroke:#000000; stroke-width:2; stroke-opacity:0.1; fill:none\" points=\"\n  216.668,543.263 4352.76,543.263 \n  \"/>\n<polyline clip-path=\"url(#clip6802)\" style=\"stroke:#000000; stroke-width:2; stroke-opacity:0.1; fill:none\" points=\"\n  216.668,362.632 4352.76,362.632 \n  \"/>\n<polyline clip-path=\"url(#clip6802)\" style=\"stroke:#000000; stroke-width:2; stroke-opacity:0.1; fill:none\" points=\"\n  216.668,182.001 4352.76,182.001 \n  \"/>\n<polyline clip-path=\"url(#clip6800)\" style=\"stroke:#000000; stroke-width:4; stroke-opacity:1; fill:none\" points=\"\n  216.668,1058.06 4352.76,1058.06 \n  \"/>\n<polyline clip-path=\"url(#clip6800)\" style=\"stroke:#000000; stroke-width:4; stroke-opacity:1; fill:none\" points=\"\n  216.668,1058.06 216.668,100.717 \n  \"/>\n<polyline clip-path=\"url(#clip6800)\" style=\"stroke:#000000; stroke-width:4; stroke-opacity:1; fill:none\" points=\"\n  265.272,1058.06 265.272,1046.57 \n  \"/>\n<polyline clip-path=\"url(#clip6800)\" style=\"stroke:#000000; stroke-width:4; stroke-opacity:1; fill:none\" points=\"\n  949.828,1058.06 949.828,1046.57 \n  \"/>\n<polyline clip-path=\"url(#clip6800)\" style=\"stroke:#000000; stroke-width:4; stroke-opacity:1; fill:none\" points=\"\n  1634.38,1058.06 1634.38,1046.57 \n  \"/>\n<polyline clip-path=\"url(#clip6800)\" style=\"stroke:#000000; stroke-width:4; stroke-opacity:1; fill:none\" points=\"\n  2318.94,1058.06 2318.94,1046.57 \n  \"/>\n<polyline clip-path=\"url(#clip6800)\" style=\"stroke:#000000; stroke-width:4; stroke-opacity:1; fill:none\" points=\"\n  3003.5,1058.06 3003.5,1046.57 \n  \"/>\n<polyline clip-path=\"url(#clip6800)\" style=\"stroke:#000000; stroke-width:4; stroke-opacity:1; fill:none\" points=\"\n  3688.05,1058.06 3688.05,1046.57 \n  \"/>\n<polyline clip-path=\"url(#clip6800)\" style=\"stroke:#000000; stroke-width:4; stroke-opacity:1; fill:none\" points=\"\n  216.668,904.525 266.301,904.525 \n  \"/>\n<polyline clip-path=\"url(#clip6800)\" style=\"stroke:#000000; stroke-width:4; stroke-opacity:1; fill:none\" points=\"\n  216.668,723.894 266.301,723.894 \n  \"/>\n<polyline clip-path=\"url(#clip6800)\" style=\"stroke:#000000; stroke-width:4; stroke-opacity:1; fill:none\" points=\"\n  216.668,543.263 266.301,543.263 \n  \"/>\n<polyline clip-path=\"url(#clip6800)\" style=\"stroke:#000000; stroke-width:4; stroke-opacity:1; fill:none\" points=\"\n  216.668,362.632 266.301,362.632 \n  \"/>\n<polyline clip-path=\"url(#clip6800)\" style=\"stroke:#000000; stroke-width:4; stroke-opacity:1; fill:none\" points=\"\n  216.668,182.001 266.301,182.001 \n  \"/>\n<g clip-path=\"url(#clip6800)\">\n<text style=\"fill:#000000; fill-opacity:1; font-family:Arial,Helvetica Neue,Helvetica,sans-serif; font-size:48px; text-anchor:middle;\" transform=\"rotate(0, 265.272, 1122.06)\" x=\"265.272\" y=\"1122.06\">0</text>\n</g>\n<g clip-path=\"url(#clip6800)\">\n<text style=\"fill:#000000; fill-opacity:1; font-family:Arial,Helvetica Neue,Helvetica,sans-serif; font-size:48px; text-anchor:middle;\" transform=\"rotate(0, 949.828, 1122.06)\" x=\"949.828\" y=\"1122.06\">10</text>\n</g>\n<g clip-path=\"url(#clip6800)\">\n<text style=\"fill:#000000; fill-opacity:1; font-family:Arial,Helvetica Neue,Helvetica,sans-serif; font-size:48px; text-anchor:middle;\" transform=\"rotate(0, 1634.38, 1122.06)\" x=\"1634.38\" y=\"1122.06\">20</text>\n</g>\n<g clip-path=\"url(#clip6800)\">\n<text style=\"fill:#000000; fill-opacity:1; font-family:Arial,Helvetica Neue,Helvetica,sans-serif; font-size:48px; text-anchor:middle;\" transform=\"rotate(0, 2318.94, 1122.06)\" x=\"2318.94\" y=\"1122.06\">30</text>\n</g>\n<g clip-path=\"url(#clip6800)\">\n<text style=\"fill:#000000; fill-opacity:1; font-family:Arial,Helvetica Neue,Helvetica,sans-serif; font-size:48px; text-anchor:middle;\" transform=\"rotate(0, 3003.5, 1122.06)\" x=\"3003.5\" y=\"1122.06\">40</text>\n</g>\n<g clip-path=\"url(#clip6800)\">\n<text style=\"fill:#000000; fill-opacity:1; font-family:Arial,Helvetica Neue,Helvetica,sans-serif; font-size:48px; text-anchor:middle;\" transform=\"rotate(0, 3688.05, 1122.06)\" x=\"3688.05\" y=\"1122.06\">50</text>\n</g>\n<g clip-path=\"url(#clip6800)\">\n<text style=\"fill:#000000; fill-opacity:1; font-family:Arial,Helvetica Neue,Helvetica,sans-serif; font-size:48px; text-anchor:end;\" transform=\"rotate(0, 172.668, 922.025)\" x=\"172.668\" y=\"922.025\">30</text>\n</g>\n<g clip-path=\"url(#clip6800)\">\n<text style=\"fill:#000000; fill-opacity:1; font-family:Arial,Helvetica Neue,Helvetica,sans-serif; font-size:48px; text-anchor:end;\" transform=\"rotate(0, 172.668, 741.394)\" x=\"172.668\" y=\"741.394\">60</text>\n</g>\n<g clip-path=\"url(#clip6800)\">\n<text style=\"fill:#000000; fill-opacity:1; font-family:Arial,Helvetica Neue,Helvetica,sans-serif; font-size:48px; text-anchor:end;\" transform=\"rotate(0, 172.668, 560.763)\" x=\"172.668\" y=\"560.763\">90</text>\n</g>\n<g clip-path=\"url(#clip6800)\">\n<text style=\"fill:#000000; fill-opacity:1; font-family:Arial,Helvetica Neue,Helvetica,sans-serif; font-size:48px; text-anchor:end;\" transform=\"rotate(0, 172.668, 380.132)\" x=\"172.668\" y=\"380.132\">120</text>\n</g>\n<g clip-path=\"url(#clip6800)\">\n<text style=\"fill:#000000; fill-opacity:1; font-family:Arial,Helvetica Neue,Helvetica,sans-serif; font-size:48px; text-anchor:end;\" transform=\"rotate(0, 172.668, 199.501)\" x=\"172.668\" y=\"199.501\">150</text>\n</g>\n<g clip-path=\"url(#clip6800)\">\n<text style=\"fill:#000000; fill-opacity:1; font-family:Arial,Helvetica Neue,Helvetica,sans-serif; font-size:82px; text-anchor:middle;\" transform=\"rotate(0, 2284.71, 72)\" x=\"2284.71\" y=\"72\">Connections per day</text>\n</g>\n<g clip-path=\"url(#clip6800)\">\n<text style=\"fill:#000000; fill-opacity:1; font-family:Arial,Helvetica Neue,Helvetica,sans-serif; font-size:66px; text-anchor:middle;\" transform=\"rotate(0, 2284.71, 1211.92)\" x=\"2284.71\" y=\"1211.92\">Day</text>\n</g>\n<g clip-path=\"url(#clip6800)\">\n<text style=\"fill:#000000; fill-opacity:1; font-family:Arial,Helvetica Neue,Helvetica,sans-serif; font-size:66px; text-anchor:middle;\" transform=\"rotate(-90, 36.8189, 579.389)\" x=\"36.8189\" y=\"579.389\">Connection&apos;s Number</text>\n</g>\n<polyline clip-path=\"url(#clip6802)\" style=\"stroke:#009af9; stroke-width:12; stroke-opacity:1; fill:none\" points=\"\n  333.727,904.525 402.183,579.389 470.638,362.632 539.094,760.021 607.55,705.831 676.005,832.273 744.461,380.695 812.916,218.127 881.372,127.812 949.828,452.948 \n  1018.28,832.273 1086.74,741.957 1155.19,434.885 1223.65,741.957 1292.11,525.2 1360.56,525.2 1429.02,760.021 1497.47,976.778 1565.93,922.589 1634.38,778.084 \n  1702.84,886.462 1771.29,723.894 1839.75,760.021 1908.21,633.579 1976.66,778.084 2045.12,597.453 2113.57,561.326 2182.03,651.642 2250.48,651.642 2318.94,561.326 \n  2387.4,976.778 2455.85,1012.9 2524.31,994.841 2592.76,886.462 2661.22,886.462 2729.67,778.084 2798.13,434.885 2866.58,868.399 2935.04,687.768 3003.5,994.841 \n  3071.95,868.399 3140.41,741.957 3208.86,778.084 3277.32,669.705 3345.77,922.589 3414.23,958.715 3482.69,1012.9 3551.14,868.399 3619.6,904.525 3688.05,922.589 \n  3756.51,778.084 3824.96,850.336 3893.42,1030.97 3961.87,1030.97 4030.33,741.957 4098.79,723.894 4167.24,705.831 4235.7,687.768 \n  \"/>\n<circle clip-path=\"url(#clip6802)\" cx=\"333.727\" cy=\"904.525\" r=\"18\" fill=\"#ffa500\" fill-rule=\"evenodd\" fill-opacity=\"1\" stroke=\"#000000\" stroke-opacity=\"1\" stroke-width=\"2.4\"/>\n<circle clip-path=\"url(#clip6802)\" cx=\"402.183\" cy=\"579.389\" r=\"18\" fill=\"#ffa500\" fill-rule=\"evenodd\" fill-opacity=\"1\" stroke=\"#000000\" stroke-opacity=\"1\" stroke-width=\"2.4\"/>\n<circle clip-path=\"url(#clip6802)\" cx=\"470.638\" cy=\"362.632\" r=\"18\" fill=\"#ffa500\" fill-rule=\"evenodd\" fill-opacity=\"1\" stroke=\"#000000\" stroke-opacity=\"1\" stroke-width=\"2.4\"/>\n<circle clip-path=\"url(#clip6802)\" cx=\"539.094\" cy=\"760.021\" r=\"18\" fill=\"#ffa500\" fill-rule=\"evenodd\" fill-opacity=\"1\" stroke=\"#000000\" stroke-opacity=\"1\" stroke-width=\"2.4\"/>\n<circle clip-path=\"url(#clip6802)\" cx=\"607.55\" cy=\"705.831\" r=\"18\" fill=\"#ffa500\" fill-rule=\"evenodd\" fill-opacity=\"1\" stroke=\"#000000\" stroke-opacity=\"1\" stroke-width=\"2.4\"/>\n<circle clip-path=\"url(#clip6802)\" cx=\"676.005\" cy=\"832.273\" r=\"18\" fill=\"#ffa500\" fill-rule=\"evenodd\" fill-opacity=\"1\" stroke=\"#000000\" stroke-opacity=\"1\" stroke-width=\"2.4\"/>\n<circle clip-path=\"url(#clip6802)\" cx=\"744.461\" cy=\"380.695\" r=\"18\" fill=\"#ffa500\" fill-rule=\"evenodd\" fill-opacity=\"1\" stroke=\"#000000\" stroke-opacity=\"1\" stroke-width=\"2.4\"/>\n<circle clip-path=\"url(#clip6802)\" cx=\"812.916\" cy=\"218.127\" r=\"18\" fill=\"#ffa500\" fill-rule=\"evenodd\" fill-opacity=\"1\" stroke=\"#000000\" stroke-opacity=\"1\" stroke-width=\"2.4\"/>\n<circle clip-path=\"url(#clip6802)\" cx=\"881.372\" cy=\"127.812\" r=\"18\" fill=\"#ffa500\" fill-rule=\"evenodd\" fill-opacity=\"1\" stroke=\"#000000\" stroke-opacity=\"1\" stroke-width=\"2.4\"/>\n<circle clip-path=\"url(#clip6802)\" cx=\"949.828\" cy=\"452.948\" r=\"18\" fill=\"#ffa500\" fill-rule=\"evenodd\" fill-opacity=\"1\" stroke=\"#000000\" stroke-opacity=\"1\" stroke-width=\"2.4\"/>\n<circle clip-path=\"url(#clip6802)\" cx=\"1018.28\" cy=\"832.273\" r=\"18\" fill=\"#ffa500\" fill-rule=\"evenodd\" fill-opacity=\"1\" stroke=\"#000000\" stroke-opacity=\"1\" stroke-width=\"2.4\"/>\n<circle clip-path=\"url(#clip6802)\" cx=\"1086.74\" cy=\"741.957\" r=\"18\" fill=\"#ffa500\" fill-rule=\"evenodd\" fill-opacity=\"1\" stroke=\"#000000\" stroke-opacity=\"1\" stroke-width=\"2.4\"/>\n<circle clip-path=\"url(#clip6802)\" cx=\"1155.19\" cy=\"434.885\" r=\"18\" fill=\"#ffa500\" fill-rule=\"evenodd\" fill-opacity=\"1\" stroke=\"#000000\" stroke-opacity=\"1\" stroke-width=\"2.4\"/>\n<circle clip-path=\"url(#clip6802)\" cx=\"1223.65\" cy=\"741.957\" r=\"18\" fill=\"#ffa500\" fill-rule=\"evenodd\" fill-opacity=\"1\" stroke=\"#000000\" stroke-opacity=\"1\" stroke-width=\"2.4\"/>\n<circle clip-path=\"url(#clip6802)\" cx=\"1292.11\" cy=\"525.2\" r=\"18\" fill=\"#ffa500\" fill-rule=\"evenodd\" fill-opacity=\"1\" stroke=\"#000000\" stroke-opacity=\"1\" stroke-width=\"2.4\"/>\n<circle clip-path=\"url(#clip6802)\" cx=\"1360.56\" cy=\"525.2\" r=\"18\" fill=\"#ffa500\" fill-rule=\"evenodd\" fill-opacity=\"1\" stroke=\"#000000\" stroke-opacity=\"1\" stroke-width=\"2.4\"/>\n<circle clip-path=\"url(#clip6802)\" cx=\"1429.02\" cy=\"760.021\" r=\"18\" fill=\"#ffa500\" fill-rule=\"evenodd\" fill-opacity=\"1\" stroke=\"#000000\" stroke-opacity=\"1\" stroke-width=\"2.4\"/>\n<circle clip-path=\"url(#clip6802)\" cx=\"1497.47\" cy=\"976.778\" r=\"18\" fill=\"#ffa500\" fill-rule=\"evenodd\" fill-opacity=\"1\" stroke=\"#000000\" stroke-opacity=\"1\" stroke-width=\"2.4\"/>\n<circle clip-path=\"url(#clip6802)\" cx=\"1565.93\" cy=\"922.589\" r=\"18\" fill=\"#ffa500\" fill-rule=\"evenodd\" fill-opacity=\"1\" stroke=\"#000000\" stroke-opacity=\"1\" stroke-width=\"2.4\"/>\n<circle clip-path=\"url(#clip6802)\" cx=\"1634.38\" cy=\"778.084\" r=\"18\" fill=\"#ffa500\" fill-rule=\"evenodd\" fill-opacity=\"1\" stroke=\"#000000\" stroke-opacity=\"1\" stroke-width=\"2.4\"/>\n<circle clip-path=\"url(#clip6802)\" cx=\"1702.84\" cy=\"886.462\" r=\"18\" fill=\"#ffa500\" fill-rule=\"evenodd\" fill-opacity=\"1\" stroke=\"#000000\" stroke-opacity=\"1\" stroke-width=\"2.4\"/>\n<circle clip-path=\"url(#clip6802)\" cx=\"1771.29\" cy=\"723.894\" r=\"18\" fill=\"#ffa500\" fill-rule=\"evenodd\" fill-opacity=\"1\" stroke=\"#000000\" stroke-opacity=\"1\" stroke-width=\"2.4\"/>\n<circle clip-path=\"url(#clip6802)\" cx=\"1839.75\" cy=\"760.021\" r=\"18\" fill=\"#ffa500\" fill-rule=\"evenodd\" fill-opacity=\"1\" stroke=\"#000000\" stroke-opacity=\"1\" stroke-width=\"2.4\"/>\n<circle clip-path=\"url(#clip6802)\" cx=\"1908.21\" cy=\"633.579\" r=\"18\" fill=\"#ffa500\" fill-rule=\"evenodd\" fill-opacity=\"1\" stroke=\"#000000\" stroke-opacity=\"1\" stroke-width=\"2.4\"/>\n<circle clip-path=\"url(#clip6802)\" cx=\"1976.66\" cy=\"778.084\" r=\"18\" fill=\"#ffa500\" fill-rule=\"evenodd\" fill-opacity=\"1\" stroke=\"#000000\" stroke-opacity=\"1\" stroke-width=\"2.4\"/>\n<circle clip-path=\"url(#clip6802)\" cx=\"2045.12\" cy=\"597.453\" r=\"18\" fill=\"#ffa500\" fill-rule=\"evenodd\" fill-opacity=\"1\" stroke=\"#000000\" stroke-opacity=\"1\" stroke-width=\"2.4\"/>\n<circle clip-path=\"url(#clip6802)\" cx=\"2113.57\" cy=\"561.326\" r=\"18\" fill=\"#ffa500\" fill-rule=\"evenodd\" fill-opacity=\"1\" stroke=\"#000000\" stroke-opacity=\"1\" stroke-width=\"2.4\"/>\n<circle clip-path=\"url(#clip6802)\" cx=\"2182.03\" cy=\"651.642\" r=\"18\" fill=\"#ffa500\" fill-rule=\"evenodd\" fill-opacity=\"1\" stroke=\"#000000\" stroke-opacity=\"1\" stroke-width=\"2.4\"/>\n<circle clip-path=\"url(#clip6802)\" cx=\"2250.48\" cy=\"651.642\" r=\"18\" fill=\"#ffa500\" fill-rule=\"evenodd\" fill-opacity=\"1\" stroke=\"#000000\" stroke-opacity=\"1\" stroke-width=\"2.4\"/>\n<circle clip-path=\"url(#clip6802)\" cx=\"2318.94\" cy=\"561.326\" r=\"18\" fill=\"#ffa500\" fill-rule=\"evenodd\" fill-opacity=\"1\" stroke=\"#000000\" stroke-opacity=\"1\" stroke-width=\"2.4\"/>\n<circle clip-path=\"url(#clip6802)\" cx=\"2387.4\" cy=\"976.778\" r=\"18\" fill=\"#ffa500\" fill-rule=\"evenodd\" fill-opacity=\"1\" stroke=\"#000000\" stroke-opacity=\"1\" stroke-width=\"2.4\"/>\n<circle clip-path=\"url(#clip6802)\" cx=\"2455.85\" cy=\"1012.9\" r=\"18\" fill=\"#ffa500\" fill-rule=\"evenodd\" fill-opacity=\"1\" stroke=\"#000000\" stroke-opacity=\"1\" stroke-width=\"2.4\"/>\n<circle clip-path=\"url(#clip6802)\" cx=\"2524.31\" cy=\"994.841\" r=\"18\" fill=\"#ffa500\" fill-rule=\"evenodd\" fill-opacity=\"1\" stroke=\"#000000\" stroke-opacity=\"1\" stroke-width=\"2.4\"/>\n<circle clip-path=\"url(#clip6802)\" cx=\"2592.76\" cy=\"886.462\" r=\"18\" fill=\"#ffa500\" fill-rule=\"evenodd\" fill-opacity=\"1\" stroke=\"#000000\" stroke-opacity=\"1\" stroke-width=\"2.4\"/>\n<circle clip-path=\"url(#clip6802)\" cx=\"2661.22\" cy=\"886.462\" r=\"18\" fill=\"#ffa500\" fill-rule=\"evenodd\" fill-opacity=\"1\" stroke=\"#000000\" stroke-opacity=\"1\" stroke-width=\"2.4\"/>\n<circle clip-path=\"url(#clip6802)\" cx=\"2729.67\" cy=\"778.084\" r=\"18\" fill=\"#ffa500\" fill-rule=\"evenodd\" fill-opacity=\"1\" stroke=\"#000000\" stroke-opacity=\"1\" stroke-width=\"2.4\"/>\n<circle clip-path=\"url(#clip6802)\" cx=\"2798.13\" cy=\"434.885\" r=\"18\" fill=\"#ffa500\" fill-rule=\"evenodd\" fill-opacity=\"1\" stroke=\"#000000\" stroke-opacity=\"1\" stroke-width=\"2.4\"/>\n<circle clip-path=\"url(#clip6802)\" cx=\"2866.58\" cy=\"868.399\" r=\"18\" fill=\"#ffa500\" fill-rule=\"evenodd\" fill-opacity=\"1\" stroke=\"#000000\" stroke-opacity=\"1\" stroke-width=\"2.4\"/>\n<circle clip-path=\"url(#clip6802)\" cx=\"2935.04\" cy=\"687.768\" r=\"18\" fill=\"#ffa500\" fill-rule=\"evenodd\" fill-opacity=\"1\" stroke=\"#000000\" stroke-opacity=\"1\" stroke-width=\"2.4\"/>\n<circle clip-path=\"url(#clip6802)\" cx=\"3003.5\" cy=\"994.841\" r=\"18\" fill=\"#ffa500\" fill-rule=\"evenodd\" fill-opacity=\"1\" stroke=\"#000000\" stroke-opacity=\"1\" stroke-width=\"2.4\"/>\n<circle clip-path=\"url(#clip6802)\" cx=\"3071.95\" cy=\"868.399\" r=\"18\" fill=\"#ffa500\" fill-rule=\"evenodd\" fill-opacity=\"1\" stroke=\"#000000\" stroke-opacity=\"1\" stroke-width=\"2.4\"/>\n<circle clip-path=\"url(#clip6802)\" cx=\"3140.41\" cy=\"741.957\" r=\"18\" fill=\"#ffa500\" fill-rule=\"evenodd\" fill-opacity=\"1\" stroke=\"#000000\" stroke-opacity=\"1\" stroke-width=\"2.4\"/>\n<circle clip-path=\"url(#clip6802)\" cx=\"3208.86\" cy=\"778.084\" r=\"18\" fill=\"#ffa500\" fill-rule=\"evenodd\" fill-opacity=\"1\" stroke=\"#000000\" stroke-opacity=\"1\" stroke-width=\"2.4\"/>\n<circle clip-path=\"url(#clip6802)\" cx=\"3277.32\" cy=\"669.705\" r=\"18\" fill=\"#ffa500\" fill-rule=\"evenodd\" fill-opacity=\"1\" stroke=\"#000000\" stroke-opacity=\"1\" stroke-width=\"2.4\"/>\n<circle clip-path=\"url(#clip6802)\" cx=\"3345.77\" cy=\"922.589\" r=\"18\" fill=\"#ffa500\" fill-rule=\"evenodd\" fill-opacity=\"1\" stroke=\"#000000\" stroke-opacity=\"1\" stroke-width=\"2.4\"/>\n<circle clip-path=\"url(#clip6802)\" cx=\"3414.23\" cy=\"958.715\" r=\"18\" fill=\"#ffa500\" fill-rule=\"evenodd\" fill-opacity=\"1\" stroke=\"#000000\" stroke-opacity=\"1\" stroke-width=\"2.4\"/>\n<circle clip-path=\"url(#clip6802)\" cx=\"3482.69\" cy=\"1012.9\" r=\"18\" fill=\"#ffa500\" fill-rule=\"evenodd\" fill-opacity=\"1\" stroke=\"#000000\" stroke-opacity=\"1\" stroke-width=\"2.4\"/>\n<circle clip-path=\"url(#clip6802)\" cx=\"3551.14\" cy=\"868.399\" r=\"18\" fill=\"#ffa500\" fill-rule=\"evenodd\" fill-opacity=\"1\" stroke=\"#000000\" stroke-opacity=\"1\" stroke-width=\"2.4\"/>\n<circle clip-path=\"url(#clip6802)\" cx=\"3619.6\" cy=\"904.525\" r=\"18\" fill=\"#ffa500\" fill-rule=\"evenodd\" fill-opacity=\"1\" stroke=\"#000000\" stroke-opacity=\"1\" stroke-width=\"2.4\"/>\n<circle clip-path=\"url(#clip6802)\" cx=\"3688.05\" cy=\"922.589\" r=\"18\" fill=\"#ffa500\" fill-rule=\"evenodd\" fill-opacity=\"1\" stroke=\"#000000\" stroke-opacity=\"1\" stroke-width=\"2.4\"/>\n<circle clip-path=\"url(#clip6802)\" cx=\"3756.51\" cy=\"778.084\" r=\"18\" fill=\"#ffa500\" fill-rule=\"evenodd\" fill-opacity=\"1\" stroke=\"#000000\" stroke-opacity=\"1\" stroke-width=\"2.4\"/>\n<circle clip-path=\"url(#clip6802)\" cx=\"3824.96\" cy=\"850.336\" r=\"18\" fill=\"#ffa500\" fill-rule=\"evenodd\" fill-opacity=\"1\" stroke=\"#000000\" stroke-opacity=\"1\" stroke-width=\"2.4\"/>\n<circle clip-path=\"url(#clip6802)\" cx=\"3893.42\" cy=\"1030.97\" r=\"18\" fill=\"#ffa500\" fill-rule=\"evenodd\" fill-opacity=\"1\" stroke=\"#000000\" stroke-opacity=\"1\" stroke-width=\"2.4\"/>\n<circle clip-path=\"url(#clip6802)\" cx=\"3961.87\" cy=\"1030.97\" r=\"18\" fill=\"#ffa500\" fill-rule=\"evenodd\" fill-opacity=\"1\" stroke=\"#000000\" stroke-opacity=\"1\" stroke-width=\"2.4\"/>\n<circle clip-path=\"url(#clip6802)\" cx=\"4030.33\" cy=\"741.957\" r=\"18\" fill=\"#ffa500\" fill-rule=\"evenodd\" fill-opacity=\"1\" stroke=\"#000000\" stroke-opacity=\"1\" stroke-width=\"2.4\"/>\n<circle clip-path=\"url(#clip6802)\" cx=\"4098.79\" cy=\"723.894\" r=\"18\" fill=\"#ffa500\" fill-rule=\"evenodd\" fill-opacity=\"1\" stroke=\"#000000\" stroke-opacity=\"1\" stroke-width=\"2.4\"/>\n<circle clip-path=\"url(#clip6802)\" cx=\"4167.24\" cy=\"705.831\" r=\"18\" fill=\"#ffa500\" fill-rule=\"evenodd\" fill-opacity=\"1\" stroke=\"#000000\" stroke-opacity=\"1\" stroke-width=\"2.4\"/>\n<circle clip-path=\"url(#clip6802)\" cx=\"4235.7\" cy=\"687.768\" r=\"18\" fill=\"#ffa500\" fill-rule=\"evenodd\" fill-opacity=\"1\" stroke=\"#000000\" stroke-opacity=\"1\" stroke-width=\"2.4\"/>\n</svg>\n"
          },
          "metadata": {}
        }
      ],
      "execution_count": 59,
      "metadata": {
        "collapsed": true,
        "jupyter": {
          "source_hidden": false,
          "outputs_hidden": false
        },
        "nteract": {
          "transient": {
            "deleting": false
          }
        },
        "execution": {
          "iopub.status.busy": "2020-10-21T07:56:36.373Z",
          "iopub.execute_input": "2020-10-21T07:56:36.407Z",
          "iopub.status.idle": "2020-10-21T07:56:37.775Z"
        }
      }
    },
    {
      "cell_type": "code",
      "source": [
        "# Leer matriz de frecuencia para tener un indice de cuales son los usuarios que más interactuan en la plataforma \n",
        "eventsDataFrame = DataFrame(CSV.File(\"frequency_events_users_giant.csv\"))\n",
        "first(eventsDataFrame,5)"
      ],
      "outputs": [
        {
          "output_type": "execute_result",
          "execution_count": 64,
          "data": {
            "text/plain": "5×108 DataFrame. Omitted printing of 100 columns\n│ Row │ USER_ID │ 1     │ 2     │ 3     │ 4     │ 5     │ 6     │ 7     │\n│     │ \u001b[90mInt64\u001b[39m   │ \u001b[90mInt64\u001b[39m │ \u001b[90mInt64\u001b[39m │ \u001b[90mInt64\u001b[39m │ \u001b[90mInt64\u001b[39m │ \u001b[90mInt64\u001b[39m │ \u001b[90mInt64\u001b[39m │ \u001b[90mInt64\u001b[39m │\n├─────┼─────────┼───────┼───────┼───────┼───────┼───────┼───────┼───────┤\n│ 1   │ -10     │ 0     │ 0     │ 0     │ 0     │ 0     │ 0     │ 0     │\n│ 2   │ -1      │ 0     │ 0     │ 0     │ 0     │ 0     │ 0     │ 0     │\n│ 3   │ 0       │ 0     │ 71    │ 0     │ 0     │ 0     │ 0     │ 0     │\n│ 4   │ 2       │ 0     │ 3     │ 57    │ 104   │ 268   │ 11    │ 14    │\n│ 5   │ 3       │ 0     │ 1     │ 21    │ 31    │ 128   │ 4     │ 27    │",
            "text/html": "<table class=\"data-frame\"><thead><tr><th></th><th>USER_ID</th><th>1</th><th>2</th><th>3</th><th>4</th><th>5</th><th>6</th><th>7</th><th>8</th><th>9</th><th>10</th><th>11</th></tr><tr><th></th><th>Int64</th><th>Int64</th><th>Int64</th><th>Int64</th><th>Int64</th><th>Int64</th><th>Int64</th><th>Int64</th><th>Int64</th><th>Int64</th><th>Int64</th><th>Int64</th></tr></thead><tbody><p>5 rows × 108 columns (omitted printing of 96 columns)</p><tr><th>1</th><td>-10</td><td>0</td><td>0</td><td>0</td><td>0</td><td>0</td><td>0</td><td>0</td><td>0</td><td>0</td><td>0</td><td>0</td></tr><tr><th>2</th><td>-1</td><td>0</td><td>0</td><td>0</td><td>0</td><td>0</td><td>0</td><td>0</td><td>0</td><td>0</td><td>0</td><td>0</td></tr><tr><th>3</th><td>0</td><td>0</td><td>71</td><td>0</td><td>0</td><td>0</td><td>0</td><td>0</td><td>0</td><td>0</td><td>0</td><td>0</td></tr><tr><th>4</th><td>2</td><td>0</td><td>3</td><td>57</td><td>104</td><td>268</td><td>11</td><td>14</td><td>7</td><td>0</td><td>0</td><td>74</td></tr><tr><th>5</th><td>3</td><td>0</td><td>1</td><td>21</td><td>31</td><td>128</td><td>4</td><td>27</td><td>9</td><td>0</td><td>0</td><td>0</td></tr></tbody></table>",
            "text/latex": "\\begin{tabular}{r|ccccccccccccc}\n\t& USER\\_ID & 1 & 2 & 3 & 4 & 5 & 6 & 7 & 8 & 9 & 10 & 11 & \\\\\n\t\\hline\n\t& Int64 & Int64 & Int64 & Int64 & Int64 & Int64 & Int64 & Int64 & Int64 & Int64 & Int64 & Int64 & \\\\\n\t\\hline\n\t1 & -10 & 0 & 0 & 0 & 0 & 0 & 0 & 0 & 0 & 0 & 0 & 0 & $\\dots$ \\\\\n\t2 & -1 & 0 & 0 & 0 & 0 & 0 & 0 & 0 & 0 & 0 & 0 & 0 & $\\dots$ \\\\\n\t3 & 0 & 0 & 71 & 0 & 0 & 0 & 0 & 0 & 0 & 0 & 0 & 0 & $\\dots$ \\\\\n\t4 & 2 & 0 & 3 & 57 & 104 & 268 & 11 & 14 & 7 & 0 & 0 & 74 & $\\dots$ \\\\\n\t5 & 3 & 0 & 1 & 21 & 31 & 128 & 4 & 27 & 9 & 0 & 0 & 0 & $\\dots$ \\\\\n\\end{tabular}\n"
          },
          "metadata": {}
        }
      ],
      "execution_count": 64,
      "metadata": {
        "collapsed": true,
        "jupyter": {
          "source_hidden": false,
          "outputs_hidden": false
        },
        "nteract": {
          "transient": {
            "deleting": false
          }
        },
        "execution": {
          "iopub.status.busy": "2020-10-21T08:32:34.103Z",
          "iopub.execute_input": "2020-10-21T08:32:34.136Z",
          "iopub.status.idle": "2020-10-21T08:32:34.187Z"
        }
      }
    },
    {
      "cell_type": "code",
      "source": [
        "# Obteniendo la suma de los eventos realizados por un usuario\n",
        "eventsWithoutUsers = eventsDataFrame[!, Not([:USER_ID])];\n",
        "userByEventsSumDataFrame = DataFrame(USER_ID = eventsDataFrame[!,:USER_ID], SUM_EVENTS = sum.(eachrow(eventsWithoutUsers)))\n"
      ],
      "outputs": [
        {
          "output_type": "execute_result",
          "execution_count": 89,
          "data": {
            "text/plain": "102×2 DataFrame\n│ Row │ USER_ID │ SUM_EVENTS │\n│     │ \u001b[90mInt64\u001b[39m   │ \u001b[90mInt64\u001b[39m      │\n├─────┼─────────┼────────────┤\n│ 1   │ -10     │ 50         │\n│ 2   │ -1      │ 228        │\n│ 3   │ 0       │ 147        │\n│ 4   │ 2       │ 1380       │\n│ 5   │ 3       │ 315        │\n│ 6   │ 4       │ 1645       │\n│ 7   │ 5       │ 1          │\n│ 8   │ 6       │ 275        │\n│ 9   │ 7       │ 1          │\n│ 10  │ 8       │ 8          │\n⋮\n│ 92  │ 148     │ 32         │\n│ 93  │ 149     │ 74         │\n│ 94  │ 151     │ 56         │\n│ 95  │ 152     │ 51         │\n│ 96  │ 153     │ 55         │\n│ 97  │ 154     │ 9          │\n│ 98  │ 156     │ 78         │\n│ 99  │ 157     │ 3          │\n│ 100 │ 161     │ 69         │\n│ 101 │ 164     │ 3          │\n│ 102 │ 166     │ 30         │",
            "text/html": "<table class=\"data-frame\"><thead><tr><th></th><th>USER_ID</th><th>SUM_EVENTS</th></tr><tr><th></th><th>Int64</th><th>Int64</th></tr></thead><tbody><p>102 rows × 2 columns</p><tr><th>1</th><td>-10</td><td>50</td></tr><tr><th>2</th><td>-1</td><td>228</td></tr><tr><th>3</th><td>0</td><td>147</td></tr><tr><th>4</th><td>2</td><td>1380</td></tr><tr><th>5</th><td>3</td><td>315</td></tr><tr><th>6</th><td>4</td><td>1645</td></tr><tr><th>7</th><td>5</td><td>1</td></tr><tr><th>8</th><td>6</td><td>275</td></tr><tr><th>9</th><td>7</td><td>1</td></tr><tr><th>10</th><td>8</td><td>8</td></tr><tr><th>11</th><td>9</td><td>328</td></tr><tr><th>12</th><td>10</td><td>1341</td></tr><tr><th>13</th><td>18</td><td>516</td></tr><tr><th>14</th><td>19</td><td>546</td></tr><tr><th>15</th><td>23</td><td>45</td></tr><tr><th>16</th><td>26</td><td>434</td></tr><tr><th>17</th><td>27</td><td>142</td></tr><tr><th>18</th><td>28</td><td>95</td></tr><tr><th>19</th><td>29</td><td>6</td></tr><tr><th>20</th><td>30</td><td>596</td></tr><tr><th>21</th><td>32</td><td>512</td></tr><tr><th>22</th><td>33</td><td>154</td></tr><tr><th>23</th><td>35</td><td>2</td></tr><tr><th>24</th><td>36</td><td>32</td></tr><tr><th>25</th><td>41</td><td>567</td></tr><tr><th>26</th><td>42</td><td>670</td></tr><tr><th>27</th><td>44</td><td>774</td></tr><tr><th>28</th><td>48</td><td>475</td></tr><tr><th>29</th><td>50</td><td>42</td></tr><tr><th>30</th><td>53</td><td>62</td></tr><tr><th>&vellip;</th><td>&vellip;</td><td>&vellip;</td></tr></tbody></table>",
            "text/latex": "\\begin{tabular}{r|cc}\n\t& USER\\_ID & SUM\\_EVENTS\\\\\n\t\\hline\n\t& Int64 & Int64\\\\\n\t\\hline\n\t1 & -10 & 50 \\\\\n\t2 & -1 & 228 \\\\\n\t3 & 0 & 147 \\\\\n\t4 & 2 & 1380 \\\\\n\t5 & 3 & 315 \\\\\n\t6 & 4 & 1645 \\\\\n\t7 & 5 & 1 \\\\\n\t8 & 6 & 275 \\\\\n\t9 & 7 & 1 \\\\\n\t10 & 8 & 8 \\\\\n\t11 & 9 & 328 \\\\\n\t12 & 10 & 1341 \\\\\n\t13 & 18 & 516 \\\\\n\t14 & 19 & 546 \\\\\n\t15 & 23 & 45 \\\\\n\t16 & 26 & 434 \\\\\n\t17 & 27 & 142 \\\\\n\t18 & 28 & 95 \\\\\n\t19 & 29 & 6 \\\\\n\t20 & 30 & 596 \\\\\n\t21 & 32 & 512 \\\\\n\t22 & 33 & 154 \\\\\n\t23 & 35 & 2 \\\\\n\t24 & 36 & 32 \\\\\n\t25 & 41 & 567 \\\\\n\t26 & 42 & 670 \\\\\n\t27 & 44 & 774 \\\\\n\t28 & 48 & 475 \\\\\n\t29 & 50 & 42 \\\\\n\t30 & 53 & 62 \\\\\n\t$\\dots$ & $\\dots$ & $\\dots$ \\\\\n\\end{tabular}\n"
          },
          "metadata": {}
        }
      ],
      "execution_count": 89,
      "metadata": {
        "collapsed": true,
        "jupyter": {
          "source_hidden": false,
          "outputs_hidden": false
        },
        "nteract": {
          "transient": {
            "deleting": false
          }
        },
        "execution": {
          "iopub.status.busy": "2020-10-21T08:42:10.364Z",
          "iopub.execute_input": "2020-10-21T08:42:10.385Z",
          "iopub.status.idle": "2020-10-21T08:42:10.515Z"
        }
      }
    },
    {
      "cell_type": "code",
      "source": [
        "# Obteniendo análisis descriptivo del marco de datos con los usuariso que tienen mayor ejecución de eventos\n",
        "describe(userByEventsSumDataFrame)"
      ],
      "outputs": [
        {
          "output_type": "execute_result",
          "execution_count": 90,
          "data": {
            "text/plain": "2×8 DataFrame. Omitted printing of 1 columns\n│ Row │ variable   │ mean    │ min   │ median  │ max   │ nunique │ nmissing │\n│     │ \u001b[90mSymbol\u001b[39m     │ \u001b[90mFloat64\u001b[39m │ \u001b[90mInt64\u001b[39m │ \u001b[90mFloat64\u001b[39m │ \u001b[90mInt64\u001b[39m │ \u001b[90mNothing\u001b[39m │ \u001b[90mNothing\u001b[39m  │\n├─────┼────────────┼─────────┼───────┼─────────┼───────┼─────────┼──────────┤\n│ 1   │ USER_ID    │ 80.7353 │ -10   │ 79.5    │ 166   │         │          │\n│ 2   │ SUM_EVENTS │ 294.314 │ 1     │ 128.5   │ 1645  │         │          │",
            "text/html": "<table class=\"data-frame\"><thead><tr><th></th><th>variable</th><th>mean</th><th>min</th><th>median</th><th>max</th><th>nunique</th><th>nmissing</th><th>eltype</th></tr><tr><th></th><th>Symbol</th><th>Float64</th><th>Int64</th><th>Float64</th><th>Int64</th><th>Nothing</th><th>Nothing</th><th>DataType</th></tr></thead><tbody><p>2 rows × 8 columns</p><tr><th>1</th><td>USER_ID</td><td>80.7353</td><td>-10</td><td>79.5</td><td>166</td><td></td><td></td><td>Int64</td></tr><tr><th>2</th><td>SUM_EVENTS</td><td>294.314</td><td>1</td><td>128.5</td><td>1645</td><td></td><td></td><td>Int64</td></tr></tbody></table>",
            "text/latex": "\\begin{tabular}{r|cccccccc}\n\t& variable & mean & min & median & max & nunique & nmissing & eltype\\\\\n\t\\hline\n\t& Symbol & Float64 & Int64 & Float64 & Int64 & Nothing & Nothing & DataType\\\\\n\t\\hline\n\t1 & USER\\_ID & 80.7353 & -10 & 79.5 & 166 &  &  & Int64 \\\\\n\t2 & SUM\\_EVENTS & 294.314 & 1 & 128.5 & 1645 &  &  & Int64 \\\\\n\\end{tabular}\n"
          },
          "metadata": {}
        }
      ],
      "execution_count": 90,
      "metadata": {
        "collapsed": true,
        "jupyter": {
          "source_hidden": false,
          "outputs_hidden": false
        },
        "nteract": {
          "transient": {
            "deleting": false
          }
        },
        "execution": {
          "iopub.status.busy": "2020-10-21T08:43:19.327Z",
          "iopub.execute_input": "2020-10-21T08:43:19.347Z",
          "iopub.status.idle": "2020-10-21T08:43:20.001Z"
        }
      }
    },
    {
      "cell_type": "code",
      "source": [
        "x=userByEventsSumDataFrame[!,:USER_ID]\n",
        "y=userByEventsSumDataFrame[!,:SUM_EVENTS]\n",
        "plot(x, y, seriestype = :bar, size=(700,300), title = \"Highest number of events executed\", xlabel = \"user id\", ylabel = \"events sum\", label = [\"Events\" \"Events\"] )\n",
        "media=floor(Int,mean(userByEventsSumDataFrame[!,:SUM_EVENTS]))\n",
        "hline!(\n",
        "    [media], \n",
        "    color = \"green\", \n",
        "    linestyle = :dash, \n",
        "    linewidth = 4,\n",
        "    label = [\"Mean\" \"Mean\"]\n",
        "    )¡"
      ],
      "outputs": [
        {
          "output_type": "execute_result",
          "execution_count": 134,
          "data": {
            "image/svg+xml": "<?xml version=\"1.0\" encoding=\"utf-8\"?>\n<svg xmlns=\"http://www.w3.org/2000/svg\" xmlns:xlink=\"http://www.w3.org/1999/xlink\" width=\"700\" height=\"300\" viewBox=\"0 0 2800 1200\">\n<defs>\n  <clipPath id=\"clip5600\">\n    <rect x=\"0\" y=\"0\" width=\"2800\" height=\"1200\"/>\n  </clipPath>\n</defs>\n<path clip-path=\"url(#clip5600)\" d=\"\nM0 1200 L2800 1200 L2800 0 L0 0  Z\n  \" fill=\"#ffffff\" fill-rule=\"evenodd\" fill-opacity=\"1\"/>\n<defs>\n  <clipPath id=\"clip5601\">\n    <rect x=\"560\" y=\"0\" width=\"1961\" height=\"1200\"/>\n  </clipPath>\n</defs>\n<path clip-path=\"url(#clip5600)\" d=\"\nM243.43 1058.06 L2752.76 1058.06 L2752.76 100.717 L243.43 100.717  Z\n  \" fill=\"#ffffff\" fill-rule=\"evenodd\" fill-opacity=\"1\"/>\n<defs>\n  <clipPath id=\"clip5602\">\n    <rect x=\"243\" y=\"100\" width=\"2510\" height=\"958\"/>\n  </clipPath>\n</defs>\n<polyline clip-path=\"url(#clip5602)\" style=\"stroke:#000000; stroke-width:2; stroke-opacity:0.1; fill:none\" points=\"\n  512.818,1058.06 512.818,100.717 \n  \"/>\n<polyline clip-path=\"url(#clip5602)\" style=\"stroke:#000000; stroke-width:2; stroke-opacity:0.1; fill:none\" points=\"\n  1144.4,1058.06 1144.4,100.717 \n  \"/>\n<polyline clip-path=\"url(#clip5602)\" style=\"stroke:#000000; stroke-width:2; stroke-opacity:0.1; fill:none\" points=\"\n  1775.99,1058.06 1775.99,100.717 \n  \"/>\n<polyline clip-path=\"url(#clip5602)\" style=\"stroke:#000000; stroke-width:2; stroke-opacity:0.1; fill:none\" points=\"\n  2407.58,1058.06 2407.58,100.717 \n  \"/>\n<polyline clip-path=\"url(#clip5602)\" style=\"stroke:#000000; stroke-width:2; stroke-opacity:0.1; fill:none\" points=\"\n  243.43,1030.97 2752.76,1030.97 \n  \"/>\n<polyline clip-path=\"url(#clip5602)\" style=\"stroke:#000000; stroke-width:2; stroke-opacity:0.1; fill:none\" points=\"\n  243.43,756.452 2752.76,756.452 \n  \"/>\n<polyline clip-path=\"url(#clip5602)\" style=\"stroke:#000000; stroke-width:2; stroke-opacity:0.1; fill:none\" points=\"\n  243.43,481.936 2752.76,481.936 \n  \"/>\n<polyline clip-path=\"url(#clip5602)\" style=\"stroke:#000000; stroke-width:2; stroke-opacity:0.1; fill:none\" points=\"\n  243.43,207.421 2752.76,207.421 \n  \"/>\n<polyline clip-path=\"url(#clip5600)\" style=\"stroke:#000000; stroke-width:4; stroke-opacity:1; fill:none\" points=\"\n  243.43,1058.06 2752.76,1058.06 \n  \"/>\n<polyline clip-path=\"url(#clip5600)\" style=\"stroke:#000000; stroke-width:4; stroke-opacity:1; fill:none\" points=\"\n  243.43,1058.06 243.43,100.717 \n  \"/>\n<polyline clip-path=\"url(#clip5600)\" style=\"stroke:#000000; stroke-width:4; stroke-opacity:1; fill:none\" points=\"\n  512.818,1058.06 512.818,1046.57 \n  \"/>\n<polyline clip-path=\"url(#clip5600)\" style=\"stroke:#000000; stroke-width:4; stroke-opacity:1; fill:none\" points=\"\n  1144.4,1058.06 1144.4,1046.57 \n  \"/>\n<polyline clip-path=\"url(#clip5600)\" style=\"stroke:#000000; stroke-width:4; stroke-opacity:1; fill:none\" points=\"\n  1775.99,1058.06 1775.99,1046.57 \n  \"/>\n<polyline clip-path=\"url(#clip5600)\" style=\"stroke:#000000; stroke-width:4; stroke-opacity:1; fill:none\" points=\"\n  2407.58,1058.06 2407.58,1046.57 \n  \"/>\n<polyline clip-path=\"url(#clip5600)\" style=\"stroke:#000000; stroke-width:4; stroke-opacity:1; fill:none\" points=\"\n  243.43,1030.97 273.542,1030.97 \n  \"/>\n<polyline clip-path=\"url(#clip5600)\" style=\"stroke:#000000; stroke-width:4; stroke-opacity:1; fill:none\" points=\"\n  243.43,756.452 273.542,756.452 \n  \"/>\n<polyline clip-path=\"url(#clip5600)\" style=\"stroke:#000000; stroke-width:4; stroke-opacity:1; fill:none\" points=\"\n  243.43,481.936 273.542,481.936 \n  \"/>\n<polyline clip-path=\"url(#clip5600)\" style=\"stroke:#000000; stroke-width:4; stroke-opacity:1; fill:none\" points=\"\n  243.43,207.421 273.542,207.421 \n  \"/>\n<g clip-path=\"url(#clip5600)\">\n<text style=\"fill:#000000; fill-opacity:1; font-family:Arial,Helvetica Neue,Helvetica,sans-serif; font-size:48px; text-anchor:middle;\" transform=\"rotate(0, 512.818, 1114.06)\" x=\"512.818\" y=\"1114.06\">0</text>\n</g>\n<g clip-path=\"url(#clip5600)\">\n<text style=\"fill:#000000; fill-opacity:1; font-family:Arial,Helvetica Neue,Helvetica,sans-serif; font-size:48px; text-anchor:middle;\" transform=\"rotate(0, 1144.4, 1114.06)\" x=\"1144.4\" y=\"1114.06\">50</text>\n</g>\n<g clip-path=\"url(#clip5600)\">\n<text style=\"fill:#000000; fill-opacity:1; font-family:Arial,Helvetica Neue,Helvetica,sans-serif; font-size:48px; text-anchor:middle;\" transform=\"rotate(0, 1775.99, 1114.06)\" x=\"1775.99\" y=\"1114.06\">100</text>\n</g>\n<g clip-path=\"url(#clip5600)\">\n<text style=\"fill:#000000; fill-opacity:1; font-family:Arial,Helvetica Neue,Helvetica,sans-serif; font-size:48px; text-anchor:middle;\" transform=\"rotate(0, 2407.58, 1114.06)\" x=\"2407.58\" y=\"1114.06\">150</text>\n</g>\n<g clip-path=\"url(#clip5600)\">\n<text style=\"fill:#000000; fill-opacity:1; font-family:Arial,Helvetica Neue,Helvetica,sans-serif; font-size:48px; text-anchor:end;\" transform=\"rotate(0, 215.43, 1048.47)\" x=\"215.43\" y=\"1048.47\">0</text>\n</g>\n<g clip-path=\"url(#clip5600)\">\n<text style=\"fill:#000000; fill-opacity:1; font-family:Arial,Helvetica Neue,Helvetica,sans-serif; font-size:48px; text-anchor:end;\" transform=\"rotate(0, 215.43, 773.952)\" x=\"215.43\" y=\"773.952\">500</text>\n</g>\n<g clip-path=\"url(#clip5600)\">\n<text style=\"fill:#000000; fill-opacity:1; font-family:Arial,Helvetica Neue,Helvetica,sans-serif; font-size:48px; text-anchor:end;\" transform=\"rotate(0, 215.43, 499.436)\" x=\"215.43\" y=\"499.436\">1000</text>\n</g>\n<g clip-path=\"url(#clip5600)\">\n<text style=\"fill:#000000; fill-opacity:1; font-family:Arial,Helvetica Neue,Helvetica,sans-serif; font-size:48px; text-anchor:end;\" transform=\"rotate(0, 215.43, 224.921)\" x=\"215.43\" y=\"224.921\">1500</text>\n</g>\n<g clip-path=\"url(#clip5600)\">\n<text style=\"fill:#000000; fill-opacity:1; font-family:Arial,Helvetica Neue,Helvetica,sans-serif; font-size:84px; text-anchor:middle;\" transform=\"rotate(0, 1498.09, 73.2)\" x=\"1498.09\" y=\"73.2\">Highest number of events executed</text>\n</g>\n<g clip-path=\"url(#clip5600)\">\n<text style=\"fill:#000000; fill-opacity:1; font-family:Arial,Helvetica Neue,Helvetica,sans-serif; font-size:66px; text-anchor:middle;\" transform=\"rotate(0, 1498.09, 1195.92)\" x=\"1498.09\" y=\"1195.92\">user id</text>\n</g>\n<g clip-path=\"url(#clip5600)\">\n<text style=\"fill:#000000; fill-opacity:1; font-family:Arial,Helvetica Neue,Helvetica,sans-serif; font-size:66px; text-anchor:middle;\" transform=\"rotate(-90, 68.8189, 579.389)\" x=\"68.8189\" y=\"579.389\">events sum</text>\n</g>\n<path clip-path=\"url(#clip5602)\" d=\"\nM381.448 1003.52 L381.448 1030.97 L391.553 1030.97 L391.553 1003.52 L381.448 1003.52 L381.448 1003.52  Z\n  \" fill=\"#009af9\" fill-rule=\"evenodd\" fill-opacity=\"1\"/>\n<polyline clip-path=\"url(#clip5602)\" style=\"stroke:#000000; stroke-width:4; stroke-opacity:1; fill:none\" points=\"\n  381.448,1003.52 381.448,1030.97 391.553,1030.97 391.553,1003.52 381.448,1003.52 \n  \"/>\n<path clip-path=\"url(#clip5602)\" d=\"\nM495.133 905.788 L495.133 1030.97 L505.239 1030.97 L505.239 905.788 L495.133 905.788 L495.133 905.788  Z\n  \" fill=\"#009af9\" fill-rule=\"evenodd\" fill-opacity=\"1\"/>\n<polyline clip-path=\"url(#clip5602)\" style=\"stroke:#000000; stroke-width:4; stroke-opacity:1; fill:none\" points=\"\n  495.133,905.788 495.133,1030.97 505.239,1030.97 505.239,905.788 495.133,905.788 \n  \"/>\n<path clip-path=\"url(#clip5602)\" d=\"\nM507.765 950.26 L507.765 1030.97 L517.871 1030.97 L517.871 950.26 L507.765 950.26 L507.765 950.26  Z\n  \" fill=\"#009af9\" fill-rule=\"evenodd\" fill-opacity=\"1\"/>\n<polyline clip-path=\"url(#clip5602)\" style=\"stroke:#000000; stroke-width:4; stroke-opacity:1; fill:none\" points=\"\n  507.765,950.26 507.765,1030.97 517.871,1030.97 517.871,950.26 507.765,950.26 \n  \"/>\n<path clip-path=\"url(#clip5602)\" d=\"\nM533.029 273.305 L533.029 1030.97 L543.134 1030.97 L543.134 273.305 L533.029 273.305 L533.029 273.305  Z\n  \" fill=\"#009af9\" fill-rule=\"evenodd\" fill-opacity=\"1\"/>\n<polyline clip-path=\"url(#clip5602)\" style=\"stroke:#000000; stroke-width:4; stroke-opacity:1; fill:none\" points=\"\n  533.029,273.305 533.029,1030.97 543.134,1030.97 543.134,273.305 533.029,273.305 \n  \"/>\n<path clip-path=\"url(#clip5602)\" d=\"\nM545.66 858.023 L545.66 1030.97 L555.766 1030.97 L555.766 858.023 L545.66 858.023 L545.66 858.023  Z\n  \" fill=\"#009af9\" fill-rule=\"evenodd\" fill-opacity=\"1\"/>\n<polyline clip-path=\"url(#clip5602)\" style=\"stroke:#000000; stroke-width:4; stroke-opacity:1; fill:none\" points=\"\n  545.66,858.023 545.66,1030.97 555.766,1030.97 555.766,858.023 545.66,858.023 \n  \"/>\n<path clip-path=\"url(#clip5602)\" d=\"\nM558.292 127.812 L558.292 1030.97 L568.397 1030.97 L568.397 127.812 L558.292 127.812 L558.292 127.812  Z\n  \" fill=\"#009af9\" fill-rule=\"evenodd\" fill-opacity=\"1\"/>\n<polyline clip-path=\"url(#clip5602)\" style=\"stroke:#000000; stroke-width:4; stroke-opacity:1; fill:none\" points=\"\n  558.292,127.812 558.292,1030.97 568.397,1030.97 568.397,127.812 558.292,127.812 \n  \"/>\n<path clip-path=\"url(#clip5602)\" d=\"\nM570.924 1030.42 L570.924 1030.97 L581.029 1030.97 L581.029 1030.42 L570.924 1030.42 L570.924 1030.42  Z\n  \" fill=\"#009af9\" fill-rule=\"evenodd\" fill-opacity=\"1\"/>\n<polyline clip-path=\"url(#clip5602)\" style=\"stroke:#000000; stroke-width:4; stroke-opacity:1; fill:none\" points=\"\n  570.924,1030.42 570.924,1030.97 581.029,1030.97 581.029,1030.42 570.924,1030.42 \n  \"/>\n<path clip-path=\"url(#clip5602)\" d=\"\nM583.556 879.984 L583.556 1030.97 L593.661 1030.97 L593.661 879.984 L583.556 879.984 L583.556 879.984  Z\n  \" fill=\"#009af9\" fill-rule=\"evenodd\" fill-opacity=\"1\"/>\n<polyline clip-path=\"url(#clip5602)\" style=\"stroke:#000000; stroke-width:4; stroke-opacity:1; fill:none\" points=\"\n  583.556,879.984 583.556,1030.97 593.661,1030.97 593.661,879.984 583.556,879.984 \n  \"/>\n<path clip-path=\"url(#clip5602)\" d=\"\nM596.187 1030.42 L596.187 1030.97 L606.293 1030.97 L606.293 1030.42 L596.187 1030.42 L596.187 1030.42  Z\n  \" fill=\"#009af9\" fill-rule=\"evenodd\" fill-opacity=\"1\"/>\n<polyline clip-path=\"url(#clip5602)\" style=\"stroke:#000000; stroke-width:4; stroke-opacity:1; fill:none\" points=\"\n  596.187,1030.42 596.187,1030.97 606.293,1030.97 606.293,1030.42 596.187,1030.42 \n  \"/>\n<path clip-path=\"url(#clip5602)\" d=\"\nM608.819 1026.57 L608.819 1030.97 L618.924 1030.97 L618.924 1026.57 L608.819 1026.57 L608.819 1026.57  Z\n  \" fill=\"#009af9\" fill-rule=\"evenodd\" fill-opacity=\"1\"/>\n<polyline clip-path=\"url(#clip5602)\" style=\"stroke:#000000; stroke-width:4; stroke-opacity:1; fill:none\" points=\"\n  608.819,1026.57 608.819,1030.97 618.924,1030.97 618.924,1026.57 608.819,1026.57 \n  \"/>\n<path clip-path=\"url(#clip5602)\" d=\"\nM621.451 850.885 L621.451 1030.97 L631.556 1030.97 L631.556 850.885 L621.451 850.885 L621.451 850.885  Z\n  \" fill=\"#009af9\" fill-rule=\"evenodd\" fill-opacity=\"1\"/>\n<polyline clip-path=\"url(#clip5602)\" style=\"stroke:#000000; stroke-width:4; stroke-opacity:1; fill:none\" points=\"\n  621.451,850.885 621.451,1030.97 631.556,1030.97 631.556,850.885 621.451,850.885 \n  \"/>\n<path clip-path=\"url(#clip5602)\" d=\"\nM634.082 294.717 L634.082 1030.97 L644.188 1030.97 L644.188 294.717 L634.082 294.717 L634.082 294.717  Z\n  \" fill=\"#009af9\" fill-rule=\"evenodd\" fill-opacity=\"1\"/>\n<polyline clip-path=\"url(#clip5602)\" style=\"stroke:#000000; stroke-width:4; stroke-opacity:1; fill:none\" points=\"\n  634.082,294.717 634.082,1030.97 644.188,1030.97 644.188,294.717 634.082,294.717 \n  \"/>\n<path clip-path=\"url(#clip5602)\" d=\"\nM735.136 747.667 L735.136 1030.97 L745.242 1030.97 L745.242 747.667 L735.136 747.667 L735.136 747.667  Z\n  \" fill=\"#009af9\" fill-rule=\"evenodd\" fill-opacity=\"1\"/>\n<polyline clip-path=\"url(#clip5602)\" style=\"stroke:#000000; stroke-width:4; stroke-opacity:1; fill:none\" points=\"\n  735.136,747.667 735.136,1030.97 745.242,1030.97 745.242,747.667 735.136,747.667 \n  \"/>\n<path clip-path=\"url(#clip5602)\" d=\"\nM747.768 731.196 L747.768 1030.97 L757.873 1030.97 L757.873 731.196 L747.768 731.196 L747.768 731.196  Z\n  \" fill=\"#009af9\" fill-rule=\"evenodd\" fill-opacity=\"1\"/>\n<polyline clip-path=\"url(#clip5602)\" style=\"stroke:#000000; stroke-width:4; stroke-opacity:1; fill:none\" points=\"\n  747.768,731.196 747.768,1030.97 757.873,1030.97 757.873,731.196 747.768,731.196 \n  \"/>\n<path clip-path=\"url(#clip5602)\" d=\"\nM798.295 1006.26 L798.295 1030.97 L808.4 1030.97 L808.4 1006.26 L798.295 1006.26 L798.295 1006.26  Z\n  \" fill=\"#009af9\" fill-rule=\"evenodd\" fill-opacity=\"1\"/>\n<polyline clip-path=\"url(#clip5602)\" style=\"stroke:#000000; stroke-width:4; stroke-opacity:1; fill:none\" points=\"\n  798.295,1006.26 798.295,1030.97 808.4,1030.97 808.4,1006.26 798.295,1006.26 \n  \"/>\n<path clip-path=\"url(#clip5602)\" d=\"\nM836.19 792.688 L836.19 1030.97 L846.296 1030.97 L846.296 792.688 L836.19 792.688 L836.19 792.688  Z\n  \" fill=\"#009af9\" fill-rule=\"evenodd\" fill-opacity=\"1\"/>\n<polyline clip-path=\"url(#clip5602)\" style=\"stroke:#000000; stroke-width:4; stroke-opacity:1; fill:none\" points=\"\n  836.19,792.688 836.19,1030.97 846.296,1030.97 846.296,792.688 836.19,792.688 \n  \"/>\n<path clip-path=\"url(#clip5602)\" d=\"\nM848.822 953.005 L848.822 1030.97 L858.927 1030.97 L858.927 953.005 L848.822 953.005 L848.822 953.005  Z\n  \" fill=\"#009af9\" fill-rule=\"evenodd\" fill-opacity=\"1\"/>\n<polyline clip-path=\"url(#clip5602)\" style=\"stroke:#000000; stroke-width:4; stroke-opacity:1; fill:none\" points=\"\n  848.822,953.005 848.822,1030.97 858.927,1030.97 858.927,953.005 848.822,953.005 \n  \"/>\n<path clip-path=\"url(#clip5602)\" d=\"\nM861.454 978.809 L861.454 1030.97 L871.559 1030.97 L871.559 978.809 L861.454 978.809 L861.454 978.809  Z\n  \" fill=\"#009af9\" fill-rule=\"evenodd\" fill-opacity=\"1\"/>\n<polyline clip-path=\"url(#clip5602)\" style=\"stroke:#000000; stroke-width:4; stroke-opacity:1; fill:none\" points=\"\n  861.454,978.809 861.454,1030.97 871.559,1030.97 871.559,978.809 861.454,978.809 \n  \"/>\n<path clip-path=\"url(#clip5602)\" d=\"\nM874.085 1027.67 L874.085 1030.97 L884.191 1030.97 L884.191 1027.67 L874.085 1027.67 L874.085 1027.67  Z\n  \" fill=\"#009af9\" fill-rule=\"evenodd\" fill-opacity=\"1\"/>\n<polyline clip-path=\"url(#clip5602)\" style=\"stroke:#000000; stroke-width:4; stroke-opacity:1; fill:none\" points=\"\n  874.085,1027.67 874.085,1030.97 884.191,1030.97 884.191,1027.67 874.085,1027.67 \n  \"/>\n<path clip-path=\"url(#clip5602)\" d=\"\nM886.717 703.745 L886.717 1030.97 L896.823 1030.97 L896.823 703.745 L886.717 703.745 L886.717 703.745  Z\n  \" fill=\"#009af9\" fill-rule=\"evenodd\" fill-opacity=\"1\"/>\n<polyline clip-path=\"url(#clip5602)\" style=\"stroke:#000000; stroke-width:4; stroke-opacity:1; fill:none\" points=\"\n  886.717,703.745 886.717,1030.97 896.823,1030.97 896.823,703.745 886.717,703.745 \n  \"/>\n<path clip-path=\"url(#clip5602)\" d=\"\nM911.981 749.863 L911.981 1030.97 L922.086 1030.97 L922.086 749.863 L911.981 749.863 L911.981 749.863  Z\n  \" fill=\"#009af9\" fill-rule=\"evenodd\" fill-opacity=\"1\"/>\n<polyline clip-path=\"url(#clip5602)\" style=\"stroke:#000000; stroke-width:4; stroke-opacity:1; fill:none\" points=\"\n  911.981,749.863 911.981,1030.97 922.086,1030.97 922.086,749.863 911.981,749.863 \n  \"/>\n<path clip-path=\"url(#clip5602)\" d=\"\nM924.612 946.416 L924.612 1030.97 L934.718 1030.97 L934.718 946.416 L924.612 946.416 L924.612 946.416  Z\n  \" fill=\"#009af9\" fill-rule=\"evenodd\" fill-opacity=\"1\"/>\n<polyline clip-path=\"url(#clip5602)\" style=\"stroke:#000000; stroke-width:4; stroke-opacity:1; fill:none\" points=\"\n  924.612,946.416 924.612,1030.97 934.718,1030.97 934.718,946.416 924.612,946.416 \n  \"/>\n<path clip-path=\"url(#clip5602)\" d=\"\nM949.876 1029.87 L949.876 1030.97 L959.981 1030.97 L959.981 1029.87 L949.876 1029.87 L949.876 1029.87  Z\n  \" fill=\"#009af9\" fill-rule=\"evenodd\" fill-opacity=\"1\"/>\n<polyline clip-path=\"url(#clip5602)\" style=\"stroke:#000000; stroke-width:4; stroke-opacity:1; fill:none\" points=\"\n  949.876,1029.87 949.876,1030.97 959.981,1030.97 959.981,1029.87 949.876,1029.87 \n  \"/>\n<path clip-path=\"url(#clip5602)\" d=\"\nM962.508 1013.4 L962.508 1030.97 L972.613 1030.97 L972.613 1013.4 L962.508 1013.4 L962.508 1013.4  Z\n  \" fill=\"#009af9\" fill-rule=\"evenodd\" fill-opacity=\"1\"/>\n<polyline clip-path=\"url(#clip5602)\" style=\"stroke:#000000; stroke-width:4; stroke-opacity:1; fill:none\" points=\"\n  962.508,1013.4 962.508,1030.97 972.613,1030.97 972.613,1013.4 962.508,1013.4 \n  \"/>\n<path clip-path=\"url(#clip5602)\" d=\"\nM1025.67 719.667 L1025.67 1030.97 L1035.77 1030.97 L1035.77 719.667 L1025.67 719.667 L1025.67 719.667  Z\n  \" fill=\"#009af9\" fill-rule=\"evenodd\" fill-opacity=\"1\"/>\n<polyline clip-path=\"url(#clip5602)\" style=\"stroke:#000000; stroke-width:4; stroke-opacity:1; fill:none\" points=\"\n  1025.67,719.667 1025.67,1030.97 1035.77,1030.97 1035.77,719.667 1025.67,719.667 \n  \"/>\n<path clip-path=\"url(#clip5602)\" d=\"\nM1038.3 663.117 L1038.3 1030.97 L1048.4 1030.97 L1048.4 663.117 L1038.3 663.117 L1038.3 663.117  Z\n  \" fill=\"#009af9\" fill-rule=\"evenodd\" fill-opacity=\"1\"/>\n<polyline clip-path=\"url(#clip5602)\" style=\"stroke:#000000; stroke-width:4; stroke-opacity:1; fill:none\" points=\"\n  1038.3,663.117 1038.3,1030.97 1048.4,1030.97 1048.4,663.117 1038.3,663.117 \n  \"/>\n<path clip-path=\"url(#clip5602)\" d=\"\nM1063.56 606.017 L1063.56 1030.97 L1073.67 1030.97 L1073.67 606.017 L1063.56 606.017 L1063.56 606.017  Z\n  \" fill=\"#009af9\" fill-rule=\"evenodd\" fill-opacity=\"1\"/>\n<polyline clip-path=\"url(#clip5602)\" style=\"stroke:#000000; stroke-width:4; stroke-opacity:1; fill:none\" points=\"\n  1063.56,606.017 1063.56,1030.97 1073.67,1030.97 1073.67,606.017 1063.56,606.017 \n  \"/>\n<path clip-path=\"url(#clip5602)\" d=\"\nM1114.09 770.178 L1114.09 1030.97 L1124.19 1030.97 L1124.19 770.178 L1114.09 770.178 L1114.09 770.178  Z\n  \" fill=\"#009af9\" fill-rule=\"evenodd\" fill-opacity=\"1\"/>\n<polyline clip-path=\"url(#clip5602)\" style=\"stroke:#000000; stroke-width:4; stroke-opacity:1; fill:none\" points=\"\n  1114.09,770.178 1114.09,1030.97 1124.19,1030.97 1124.19,770.178 1114.09,770.178 \n  \"/>\n<path clip-path=\"url(#clip5602)\" d=\"\nM1139.35 1007.91 L1139.35 1030.97 L1149.46 1030.97 L1149.46 1007.91 L1139.35 1007.91 L1139.35 1007.91  Z\n  \" fill=\"#009af9\" fill-rule=\"evenodd\" fill-opacity=\"1\"/>\n<polyline clip-path=\"url(#clip5602)\" style=\"stroke:#000000; stroke-width:4; stroke-opacity:1; fill:none\" points=\"\n  1139.35,1007.91 1139.35,1030.97 1149.46,1030.97 1149.46,1007.91 1139.35,1007.91 \n  \"/>\n<path clip-path=\"url(#clip5602)\" d=\"\nM1177.25 996.927 L1177.25 1030.97 L1187.35 1030.97 L1187.35 996.927 L1177.25 996.927 L1177.25 996.927  Z\n  \" fill=\"#009af9\" fill-rule=\"evenodd\" fill-opacity=\"1\"/>\n<polyline clip-path=\"url(#clip5602)\" style=\"stroke:#000000; stroke-width:4; stroke-opacity:1; fill:none\" points=\"\n  1177.25,996.927 1177.25,1030.97 1187.35,1030.97 1187.35,996.927 1177.25,996.927 \n  \"/>\n<path clip-path=\"url(#clip5602)\" d=\"\nM1189.88 988.692 L1189.88 1030.97 L1199.98 1030.97 L1199.98 988.692 L1189.88 988.692 L1189.88 988.692  Z\n  \" fill=\"#009af9\" fill-rule=\"evenodd\" fill-opacity=\"1\"/>\n<polyline clip-path=\"url(#clip5602)\" style=\"stroke:#000000; stroke-width:4; stroke-opacity:1; fill:none\" points=\"\n  1189.88,988.692 1189.88,1030.97 1199.98,1030.97 1199.98,988.692 1189.88,988.692 \n  \"/>\n<path clip-path=\"url(#clip5602)\" d=\"\nM1202.51 982.653 L1202.51 1030.97 L1212.62 1030.97 L1212.62 982.653 L1202.51 982.653 L1202.51 982.653  Z\n  \" fill=\"#009af9\" fill-rule=\"evenodd\" fill-opacity=\"1\"/>\n<polyline clip-path=\"url(#clip5602)\" style=\"stroke:#000000; stroke-width:4; stroke-opacity:1; fill:none\" points=\"\n  1202.51,982.653 1202.51,1030.97 1212.62,1030.97 1212.62,982.653 1202.51,982.653 \n  \"/>\n<path clip-path=\"url(#clip5602)\" d=\"\nM1215.14 1021.08 L1215.14 1030.97 L1225.25 1030.97 L1225.25 1021.08 L1215.14 1021.08 L1215.14 1021.08  Z\n  \" fill=\"#009af9\" fill-rule=\"evenodd\" fill-opacity=\"1\"/>\n<polyline clip-path=\"url(#clip5602)\" style=\"stroke:#000000; stroke-width:4; stroke-opacity:1; fill:none\" points=\"\n  1215.14,1021.08 1215.14,1030.97 1225.25,1030.97 1225.25,1021.08 1215.14,1021.08 \n  \"/>\n<path clip-path=\"url(#clip5602)\" d=\"\nM1227.77 999.672 L1227.77 1030.97 L1237.88 1030.97 L1237.88 999.672 L1227.77 999.672 L1227.77 999.672  Z\n  \" fill=\"#009af9\" fill-rule=\"evenodd\" fill-opacity=\"1\"/>\n<polyline clip-path=\"url(#clip5602)\" style=\"stroke:#000000; stroke-width:4; stroke-opacity:1; fill:none\" points=\"\n  1227.77,999.672 1227.77,1030.97 1237.88,1030.97 1237.88,999.672 1227.77,999.672 \n  \"/>\n<path clip-path=\"url(#clip5602)\" d=\"\nM1240.41 875.592 L1240.41 1030.97 L1250.51 1030.97 L1250.51 875.592 L1240.41 875.592 L1240.41 875.592  Z\n  \" fill=\"#009af9\" fill-rule=\"evenodd\" fill-opacity=\"1\"/>\n<polyline clip-path=\"url(#clip5602)\" style=\"stroke:#000000; stroke-width:4; stroke-opacity:1; fill:none\" points=\"\n  1240.41,875.592 1240.41,1030.97 1250.51,1030.97 1250.51,875.592 1240.41,875.592 \n  \"/>\n<path clip-path=\"url(#clip5602)\" d=\"\nM1253.04 936.534 L1253.04 1030.97 L1263.14 1030.97 L1263.14 936.534 L1253.04 936.534 L1253.04 936.534  Z\n  \" fill=\"#009af9\" fill-rule=\"evenodd\" fill-opacity=\"1\"/>\n<polyline clip-path=\"url(#clip5602)\" style=\"stroke:#000000; stroke-width:4; stroke-opacity:1; fill:none\" points=\"\n  1253.04,936.534 1253.04,1030.97 1263.14,1030.97 1263.14,936.534 1253.04,936.534 \n  \"/>\n<path clip-path=\"url(#clip5602)\" d=\"\nM1265.67 1023.83 L1265.67 1030.97 L1275.77 1030.97 L1275.77 1023.83 L1265.67 1023.83 L1265.67 1023.83  Z\n  \" fill=\"#009af9\" fill-rule=\"evenodd\" fill-opacity=\"1\"/>\n<polyline clip-path=\"url(#clip5602)\" style=\"stroke:#000000; stroke-width:4; stroke-opacity:1; fill:none\" points=\"\n  1265.67,1023.83 1265.67,1030.97 1275.77,1030.97 1275.77,1023.83 1265.67,1023.83 \n  \"/>\n<path clip-path=\"url(#clip5602)\" d=\"\nM1290.93 861.866 L1290.93 1030.97 L1301.04 1030.97 L1301.04 861.866 L1290.93 861.866 L1290.93 861.866  Z\n  \" fill=\"#009af9\" fill-rule=\"evenodd\" fill-opacity=\"1\"/>\n<polyline clip-path=\"url(#clip5602)\" style=\"stroke:#000000; stroke-width:4; stroke-opacity:1; fill:none\" points=\"\n  1290.93,861.866 1290.93,1030.97 1301.04,1030.97 1301.04,861.866 1290.93,861.866 \n  \"/>\n<path clip-path=\"url(#clip5602)\" d=\"\nM1303.56 973.319 L1303.56 1030.97 L1313.67 1030.97 L1313.67 973.319 L1303.56 973.319 L1303.56 973.319  Z\n  \" fill=\"#009af9\" fill-rule=\"evenodd\" fill-opacity=\"1\"/>\n<polyline clip-path=\"url(#clip5602)\" style=\"stroke:#000000; stroke-width:4; stroke-opacity:1; fill:none\" points=\"\n  1303.56,973.319 1303.56,1030.97 1313.67,1030.97 1313.67,973.319 1303.56,973.319 \n  \"/>\n<path clip-path=\"url(#clip5602)\" d=\"\nM1328.83 955.75 L1328.83 1030.97 L1338.93 1030.97 L1338.93 955.75 L1328.83 955.75 L1328.83 955.75  Z\n  \" fill=\"#009af9\" fill-rule=\"evenodd\" fill-opacity=\"1\"/>\n<polyline clip-path=\"url(#clip5602)\" style=\"stroke:#000000; stroke-width:4; stroke-opacity:1; fill:none\" points=\"\n  1328.83,955.75 1328.83,1030.97 1338.93,1030.97 1338.93,955.75 1328.83,955.75 \n  \"/>\n<path clip-path=\"url(#clip5602)\" d=\"\nM1354.09 807.512 L1354.09 1030.97 L1364.2 1030.97 L1364.2 807.512 L1354.09 807.512 L1354.09 807.512  Z\n  \" fill=\"#009af9\" fill-rule=\"evenodd\" fill-opacity=\"1\"/>\n<polyline clip-path=\"url(#clip5602)\" style=\"stroke:#000000; stroke-width:4; stroke-opacity:1; fill:none\" points=\"\n  1354.09,807.512 1354.09,1030.97 1364.2,1030.97 1364.2,807.512 1354.09,807.512 \n  \"/>\n<path clip-path=\"url(#clip5602)\" d=\"\nM1366.72 759.746 L1366.72 1030.97 L1376.83 1030.97 L1376.83 759.746 L1366.72 759.746 L1366.72 759.746  Z\n  \" fill=\"#009af9\" fill-rule=\"evenodd\" fill-opacity=\"1\"/>\n<polyline clip-path=\"url(#clip5602)\" style=\"stroke:#000000; stroke-width:4; stroke-opacity:1; fill:none\" points=\"\n  1366.72,759.746 1366.72,1030.97 1376.83,1030.97 1376.83,759.746 1366.72,759.746 \n  \"/>\n<path clip-path=\"url(#clip5602)\" d=\"\nM1379.35 906.886 L1379.35 1030.97 L1389.46 1030.97 L1389.46 906.886 L1379.35 906.886 L1379.35 906.886  Z\n  \" fill=\"#009af9\" fill-rule=\"evenodd\" fill-opacity=\"1\"/>\n<polyline clip-path=\"url(#clip5602)\" style=\"stroke:#000000; stroke-width:4; stroke-opacity:1; fill:none\" points=\"\n  1379.35,906.886 1379.35,1030.97 1389.46,1030.97 1389.46,906.886 1379.35,906.886 \n  \"/>\n<path clip-path=\"url(#clip5602)\" d=\"\nM1391.99 1023.83 L1391.99 1030.97 L1402.09 1030.97 L1402.09 1023.83 L1391.99 1023.83 L1391.99 1023.83  Z\n  \" fill=\"#009af9\" fill-rule=\"evenodd\" fill-opacity=\"1\"/>\n<polyline clip-path=\"url(#clip5602)\" style=\"stroke:#000000; stroke-width:4; stroke-opacity:1; fill:none\" points=\"\n  1391.99,1023.83 1391.99,1030.97 1402.09,1030.97 1402.09,1023.83 1391.99,1023.83 \n  \"/>\n<path clip-path=\"url(#clip5602)\" d=\"\nM1404.62 920.612 L1404.62 1030.97 L1414.72 1030.97 L1414.72 920.612 L1404.62 920.612 L1404.62 920.612  Z\n  \" fill=\"#009af9\" fill-rule=\"evenodd\" fill-opacity=\"1\"/>\n<polyline clip-path=\"url(#clip5602)\" style=\"stroke:#000000; stroke-width:4; stroke-opacity:1; fill:none\" points=\"\n  1404.62,920.612 1404.62,1030.97 1414.72,1030.97 1414.72,920.612 1404.62,920.612 \n  \"/>\n<path clip-path=\"url(#clip5602)\" d=\"\nM1429.88 1028.77 L1429.88 1030.97 L1439.99 1030.97 L1439.99 1028.77 L1429.88 1028.77 L1429.88 1028.77  Z\n  \" fill=\"#009af9\" fill-rule=\"evenodd\" fill-opacity=\"1\"/>\n<polyline clip-path=\"url(#clip5602)\" style=\"stroke:#000000; stroke-width:4; stroke-opacity:1; fill:none\" points=\"\n  1429.88,1028.77 1429.88,1030.97 1439.99,1030.97 1439.99,1028.77 1429.88,1028.77 \n  \"/>\n<path clip-path=\"url(#clip5602)\" d=\"\nM1442.51 997.476 L1442.51 1030.97 L1452.62 1030.97 L1452.62 997.476 L1442.51 997.476 L1442.51 997.476  Z\n  \" fill=\"#009af9\" fill-rule=\"evenodd\" fill-opacity=\"1\"/>\n<polyline clip-path=\"url(#clip5602)\" style=\"stroke:#000000; stroke-width:4; stroke-opacity:1; fill:none\" points=\"\n  1442.51,997.476 1442.51,1030.97 1452.62,1030.97 1452.62,997.476 1442.51,997.476 \n  \"/>\n<path clip-path=\"url(#clip5602)\" d=\"\nM1455.15 809.159 L1455.15 1030.97 L1465.25 1030.97 L1465.25 809.159 L1455.15 809.159 L1455.15 809.159  Z\n  \" fill=\"#009af9\" fill-rule=\"evenodd\" fill-opacity=\"1\"/>\n<polyline clip-path=\"url(#clip5602)\" style=\"stroke:#000000; stroke-width:4; stroke-opacity:1; fill:none\" points=\"\n  1455.15,809.159 1455.15,1030.97 1465.25,1030.97 1465.25,809.159 1455.15,809.159 \n  \"/>\n<path clip-path=\"url(#clip5602)\" d=\"\nM1467.78 983.751 L1467.78 1030.97 L1477.88 1030.97 L1477.88 983.751 L1467.78 983.751 L1467.78 983.751  Z\n  \" fill=\"#009af9\" fill-rule=\"evenodd\" fill-opacity=\"1\"/>\n<polyline clip-path=\"url(#clip5602)\" style=\"stroke:#000000; stroke-width:4; stroke-opacity:1; fill:none\" points=\"\n  1467.78,983.751 1467.78,1030.97 1477.88,1030.97 1477.88,983.751 1467.78,983.751 \n  \"/>\n<path clip-path=\"url(#clip5602)\" d=\"\nM1493.04 1010.65 L1493.04 1030.97 L1503.15 1030.97 L1503.15 1010.65 L1493.04 1010.65 L1493.04 1010.65  Z\n  \" fill=\"#009af9\" fill-rule=\"evenodd\" fill-opacity=\"1\"/>\n<polyline clip-path=\"url(#clip5602)\" style=\"stroke:#000000; stroke-width:4; stroke-opacity:1; fill:none\" points=\"\n  1493.04,1010.65 1493.04,1030.97 1503.15,1030.97 1503.15,1010.65 1493.04,1010.65 \n  \"/>\n<path clip-path=\"url(#clip5602)\" d=\"\nM1505.67 1023.28 L1505.67 1030.97 L1515.78 1030.97 L1515.78 1023.28 L1505.67 1023.28 L1505.67 1023.28  Z\n  \" fill=\"#009af9\" fill-rule=\"evenodd\" fill-opacity=\"1\"/>\n<polyline clip-path=\"url(#clip5602)\" style=\"stroke:#000000; stroke-width:4; stroke-opacity:1; fill:none\" points=\"\n  1505.67,1023.28 1505.67,1030.97 1515.78,1030.97 1515.78,1023.28 1505.67,1023.28 \n  \"/>\n<path clip-path=\"url(#clip5602)\" d=\"\nM1518.3 646.097 L1518.3 1030.97 L1528.41 1030.97 L1528.41 646.097 L1518.3 646.097 L1518.3 646.097  Z\n  \" fill=\"#009af9\" fill-rule=\"evenodd\" fill-opacity=\"1\"/>\n<polyline clip-path=\"url(#clip5602)\" style=\"stroke:#000000; stroke-width:4; stroke-opacity:1; fill:none\" points=\"\n  1518.3,646.097 1518.3,1030.97 1528.41,1030.97 1528.41,646.097 1518.3,646.097 \n  \"/>\n<path clip-path=\"url(#clip5602)\" d=\"\nM1543.57 447.897 L1543.57 1030.97 L1553.67 1030.97 L1553.67 447.897 L1543.57 447.897 L1543.57 447.897  Z\n  \" fill=\"#009af9\" fill-rule=\"evenodd\" fill-opacity=\"1\"/>\n<polyline clip-path=\"url(#clip5602)\" style=\"stroke:#000000; stroke-width:4; stroke-opacity:1; fill:none\" points=\"\n  1543.57,447.897 1543.57,1030.97 1553.67,1030.97 1553.67,447.897 1543.57,447.897 \n  \"/>\n<path clip-path=\"url(#clip5602)\" d=\"\nM1556.2 798.178 L1556.2 1030.97 L1566.3 1030.97 L1566.3 798.178 L1556.2 798.178 L1556.2 798.178  Z\n  \" fill=\"#009af9\" fill-rule=\"evenodd\" fill-opacity=\"1\"/>\n<polyline clip-path=\"url(#clip5602)\" style=\"stroke:#000000; stroke-width:4; stroke-opacity:1; fill:none\" points=\"\n  1556.2,798.178 1556.2,1030.97 1566.3,1030.97 1566.3,798.178 1556.2,798.178 \n  \"/>\n<path clip-path=\"url(#clip5602)\" d=\"\nM1568.83 414.955 L1568.83 1030.97 L1578.94 1030.97 L1578.94 414.955 L1568.83 414.955 L1568.83 414.955  Z\n  \" fill=\"#009af9\" fill-rule=\"evenodd\" fill-opacity=\"1\"/>\n<polyline clip-path=\"url(#clip5602)\" style=\"stroke:#000000; stroke-width:4; stroke-opacity:1; fill:none\" points=\"\n  1568.83,414.955 1568.83,1030.97 1578.94,1030.97 1578.94,414.955 1568.83,414.955 \n  \"/>\n<path clip-path=\"url(#clip5602)\" d=\"\nM1581.46 1000.22 L1581.46 1030.97 L1591.57 1030.97 L1591.57 1000.22 L1581.46 1000.22 L1581.46 1000.22  Z\n  \" fill=\"#009af9\" fill-rule=\"evenodd\" fill-opacity=\"1\"/>\n<polyline clip-path=\"url(#clip5602)\" style=\"stroke:#000000; stroke-width:4; stroke-opacity:1; fill:none\" points=\"\n  1581.46,1000.22 1581.46,1030.97 1591.57,1030.97 1591.57,1000.22 1581.46,1000.22 \n  \"/>\n<path clip-path=\"url(#clip5602)\" d=\"\nM1619.36 718.02 L1619.36 1030.97 L1629.46 1030.97 L1629.46 718.02 L1619.36 718.02 L1619.36 718.02  Z\n  \" fill=\"#009af9\" fill-rule=\"evenodd\" fill-opacity=\"1\"/>\n<polyline clip-path=\"url(#clip5602)\" style=\"stroke:#000000; stroke-width:4; stroke-opacity:1; fill:none\" points=\"\n  1619.36,718.02 1619.36,1030.97 1629.46,1030.97 1629.46,718.02 1619.36,718.02 \n  \"/>\n<path clip-path=\"url(#clip5602)\" d=\"\nM1631.99 780.06 L1631.99 1030.97 L1642.09 1030.97 L1642.09 780.06 L1631.99 780.06 L1631.99 780.06  Z\n  \" fill=\"#009af9\" fill-rule=\"evenodd\" fill-opacity=\"1\"/>\n<polyline clip-path=\"url(#clip5602)\" style=\"stroke:#000000; stroke-width:4; stroke-opacity:1; fill:none\" points=\"\n  1631.99,780.06 1631.99,1030.97 1642.09,1030.97 1642.09,780.06 1631.99,780.06 \n  \"/>\n<path clip-path=\"url(#clip5602)\" d=\"\nM1657.25 965.084 L1657.25 1030.97 L1667.36 1030.97 L1667.36 965.084 L1657.25 965.084 L1657.25 965.084  Z\n  \" fill=\"#009af9\" fill-rule=\"evenodd\" fill-opacity=\"1\"/>\n<polyline clip-path=\"url(#clip5602)\" style=\"stroke:#000000; stroke-width:4; stroke-opacity:1; fill:none\" points=\"\n  1657.25,965.084 1657.25,1030.97 1667.36,1030.97 1667.36,965.084 1657.25,965.084 \n  \"/>\n<path clip-path=\"url(#clip5602)\" d=\"\nM1669.88 905.239 L1669.88 1030.97 L1679.99 1030.97 L1679.99 905.239 L1669.88 905.239 L1669.88 905.239  Z\n  \" fill=\"#009af9\" fill-rule=\"evenodd\" fill-opacity=\"1\"/>\n<polyline clip-path=\"url(#clip5602)\" style=\"stroke:#000000; stroke-width:4; stroke-opacity:1; fill:none\" points=\"\n  1669.88,905.239 1669.88,1030.97 1679.99,1030.97 1679.99,905.239 1669.88,905.239 \n  \"/>\n<path clip-path=\"url(#clip5602)\" d=\"\nM1695.15 597.233 L1695.15 1030.97 L1705.25 1030.97 L1705.25 597.233 L1695.15 597.233 L1695.15 597.233  Z\n  \" fill=\"#009af9\" fill-rule=\"evenodd\" fill-opacity=\"1\"/>\n<polyline clip-path=\"url(#clip5602)\" style=\"stroke:#000000; stroke-width:4; stroke-opacity:1; fill:none\" points=\"\n  1695.15,597.233 1695.15,1030.97 1705.25,1030.97 1705.25,597.233 1695.15,597.233 \n  \"/>\n<path clip-path=\"url(#clip5602)\" d=\"\nM1707.78 988.692 L1707.78 1030.97 L1717.89 1030.97 L1717.89 988.692 L1707.78 988.692 L1707.78 988.692  Z\n  \" fill=\"#009af9\" fill-rule=\"evenodd\" fill-opacity=\"1\"/>\n<polyline clip-path=\"url(#clip5602)\" style=\"stroke:#000000; stroke-width:4; stroke-opacity:1; fill:none\" points=\"\n  1707.78,988.692 1707.78,1030.97 1717.89,1030.97 1717.89,988.692 1707.78,988.692 \n  \"/>\n<path clip-path=\"url(#clip5602)\" d=\"\nM1758.31 888.768 L1758.31 1030.97 L1768.41 1030.97 L1768.41 888.768 L1758.31 888.768 L1758.31 888.768  Z\n  \" fill=\"#009af9\" fill-rule=\"evenodd\" fill-opacity=\"1\"/>\n<polyline clip-path=\"url(#clip5602)\" style=\"stroke:#000000; stroke-width:4; stroke-opacity:1; fill:none\" points=\"\n  1758.31,888.768 1758.31,1030.97 1768.41,1030.97 1768.41,888.768 1758.31,888.768 \n  \"/>\n<path clip-path=\"url(#clip5602)\" d=\"\nM1770.94 659.273 L1770.94 1030.97 L1781.04 1030.97 L1781.04 659.273 L1770.94 659.273 L1770.94 659.273  Z\n  \" fill=\"#009af9\" fill-rule=\"evenodd\" fill-opacity=\"1\"/>\n<polyline clip-path=\"url(#clip5602)\" style=\"stroke:#000000; stroke-width:4; stroke-opacity:1; fill:none\" points=\"\n  1770.94,659.273 1770.94,1030.97 1781.04,1030.97 1781.04,659.273 1770.94,659.273 \n  \"/>\n<path clip-path=\"url(#clip5602)\" d=\"\nM1783.57 1019.99 L1783.57 1030.97 L1793.68 1030.97 L1793.68 1019.99 L1783.57 1019.99 L1783.57 1019.99  Z\n  \" fill=\"#009af9\" fill-rule=\"evenodd\" fill-opacity=\"1\"/>\n<polyline clip-path=\"url(#clip5602)\" style=\"stroke:#000000; stroke-width:4; stroke-opacity:1; fill:none\" points=\"\n  1783.57,1019.99 1783.57,1030.97 1793.68,1030.97 1793.68,1019.99 1783.57,1019.99 \n  \"/>\n<path clip-path=\"url(#clip5602)\" d=\"\nM1796.2 1002.97 L1796.2 1030.97 L1806.31 1030.97 L1806.31 1002.97 L1796.2 1002.97 L1796.2 1002.97  Z\n  \" fill=\"#009af9\" fill-rule=\"evenodd\" fill-opacity=\"1\"/>\n<polyline clip-path=\"url(#clip5602)\" style=\"stroke:#000000; stroke-width:4; stroke-opacity:1; fill:none\" points=\"\n  1796.2,1002.97 1796.2,1030.97 1806.31,1030.97 1806.31,1002.97 1796.2,1002.97 \n  \"/>\n<path clip-path=\"url(#clip5602)\" d=\"\nM1808.83 861.317 L1808.83 1030.97 L1818.94 1030.97 L1818.94 861.317 L1808.83 861.317 L1808.83 861.317  Z\n  \" fill=\"#009af9\" fill-rule=\"evenodd\" fill-opacity=\"1\"/>\n<polyline clip-path=\"url(#clip5602)\" style=\"stroke:#000000; stroke-width:4; stroke-opacity:1; fill:none\" points=\"\n  1808.83,861.317 1808.83,1030.97 1818.94,1030.97 1818.94,861.317 1808.83,861.317 \n  \"/>\n<path clip-path=\"url(#clip5602)\" d=\"\nM1821.47 764.687 L1821.47 1030.97 L1831.57 1030.97 L1831.57 764.687 L1821.47 764.687 L1821.47 764.687  Z\n  \" fill=\"#009af9\" fill-rule=\"evenodd\" fill-opacity=\"1\"/>\n<polyline clip-path=\"url(#clip5602)\" style=\"stroke:#000000; stroke-width:4; stroke-opacity:1; fill:none\" points=\"\n  1821.47,764.687 1821.47,1030.97 1831.57,1030.97 1831.57,764.687 1821.47,764.687 \n  \"/>\n<path clip-path=\"url(#clip5602)\" d=\"\nM1846.73 663.117 L1846.73 1030.97 L1856.83 1030.97 L1856.83 663.117 L1846.73 663.117 L1846.73 663.117  Z\n  \" fill=\"#009af9\" fill-rule=\"evenodd\" fill-opacity=\"1\"/>\n<polyline clip-path=\"url(#clip5602)\" style=\"stroke:#000000; stroke-width:4; stroke-opacity:1; fill:none\" points=\"\n  1846.73,663.117 1846.73,1030.97 1856.83,1030.97 1856.83,663.117 1846.73,663.117 \n  \"/>\n<path clip-path=\"url(#clip5602)\" d=\"\nM1871.99 828.375 L1871.99 1030.97 L1882.1 1030.97 L1882.1 828.375 L1871.99 828.375 L1871.99 828.375  Z\n  \" fill=\"#009af9\" fill-rule=\"evenodd\" fill-opacity=\"1\"/>\n<polyline clip-path=\"url(#clip5602)\" style=\"stroke:#000000; stroke-width:4; stroke-opacity:1; fill:none\" points=\"\n  1871.99,828.375 1871.99,1030.97 1882.1,1030.97 1882.1,828.375 1871.99,828.375 \n  \"/>\n<path clip-path=\"url(#clip5602)\" d=\"\nM1884.62 1029.32 L1884.62 1030.97 L1894.73 1030.97 L1894.73 1029.32 L1884.62 1029.32 L1884.62 1029.32  Z\n  \" fill=\"#009af9\" fill-rule=\"evenodd\" fill-opacity=\"1\"/>\n<polyline clip-path=\"url(#clip5602)\" style=\"stroke:#000000; stroke-width:4; stroke-opacity:1; fill:none\" points=\"\n  1884.62,1029.32 1884.62,1030.97 1894.73,1030.97 1894.73,1029.32 1884.62,1029.32 \n  \"/>\n<path clip-path=\"url(#clip5602)\" d=\"\nM1897.26 298.011 L1897.26 1030.97 L1907.36 1030.97 L1907.36 298.011 L1897.26 298.011 L1897.26 298.011  Z\n  \" fill=\"#009af9\" fill-rule=\"evenodd\" fill-opacity=\"1\"/>\n<polyline clip-path=\"url(#clip5602)\" style=\"stroke:#000000; stroke-width:4; stroke-opacity:1; fill:none\" points=\"\n  1897.26,298.011 1897.26,1030.97 1907.36,1030.97 1907.36,298.011 1897.26,298.011 \n  \"/>\n<path clip-path=\"url(#clip5602)\" d=\"\nM1909.89 1024.93 L1909.89 1030.97 L1919.99 1030.97 L1919.99 1024.93 L1909.89 1024.93 L1909.89 1024.93  Z\n  \" fill=\"#009af9\" fill-rule=\"evenodd\" fill-opacity=\"1\"/>\n<polyline clip-path=\"url(#clip5602)\" style=\"stroke:#000000; stroke-width:4; stroke-opacity:1; fill:none\" points=\"\n  1909.89,1024.93 1909.89,1030.97 1919.99,1030.97 1919.99,1024.93 1909.89,1024.93 \n  \"/>\n<path clip-path=\"url(#clip5602)\" d=\"\nM1922.52 319.423 L1922.52 1030.97 L1932.62 1030.97 L1932.62 319.423 L1922.52 319.423 L1922.52 319.423  Z\n  \" fill=\"#009af9\" fill-rule=\"evenodd\" fill-opacity=\"1\"/>\n<polyline clip-path=\"url(#clip5602)\" style=\"stroke:#000000; stroke-width:4; stroke-opacity:1; fill:none\" points=\"\n  1922.52,319.423 1922.52,1030.97 1932.62,1030.97 1932.62,319.423 1922.52,319.423 \n  \"/>\n<path clip-path=\"url(#clip5602)\" d=\"\nM1960.41 972.77 L1960.41 1030.97 L1970.52 1030.97 L1970.52 972.77 L1960.41 972.77 L1960.41 972.77  Z\n  \" fill=\"#009af9\" fill-rule=\"evenodd\" fill-opacity=\"1\"/>\n<polyline clip-path=\"url(#clip5602)\" style=\"stroke:#000000; stroke-width:4; stroke-opacity:1; fill:none\" points=\"\n  1960.41,972.77 1960.41,1030.97 1970.52,1030.97 1970.52,972.77 1960.41,972.77 \n  \"/>\n<path clip-path=\"url(#clip5602)\" d=\"\nM1998.31 1009.56 L1998.31 1030.97 L2008.42 1030.97 L2008.42 1009.56 L1998.31 1009.56 L1998.31 1009.56  Z\n  \" fill=\"#009af9\" fill-rule=\"evenodd\" fill-opacity=\"1\"/>\n<polyline clip-path=\"url(#clip5602)\" style=\"stroke:#000000; stroke-width:4; stroke-opacity:1; fill:none\" points=\"\n  1998.31,1009.56 1998.31,1030.97 2008.42,1030.97 2008.42,1009.56 1998.31,1009.56 \n  \"/>\n<path clip-path=\"url(#clip5602)\" d=\"\nM2010.94 1024.93 L2010.94 1030.97 L2021.05 1030.97 L2021.05 1024.93 L2010.94 1024.93 L2010.94 1024.93  Z\n  \" fill=\"#009af9\" fill-rule=\"evenodd\" fill-opacity=\"1\"/>\n<polyline clip-path=\"url(#clip5602)\" style=\"stroke:#000000; stroke-width:4; stroke-opacity:1; fill:none\" points=\"\n  2010.94,1024.93 2010.94,1030.97 2021.05,1030.97 2021.05,1024.93 2010.94,1024.93 \n  \"/>\n<path clip-path=\"url(#clip5602)\" d=\"\nM2023.57 981.005 L2023.57 1030.97 L2033.68 1030.97 L2033.68 981.005 L2023.57 981.005 L2023.57 981.005  Z\n  \" fill=\"#009af9\" fill-rule=\"evenodd\" fill-opacity=\"1\"/>\n<polyline clip-path=\"url(#clip5602)\" style=\"stroke:#000000; stroke-width:4; stroke-opacity:1; fill:none\" points=\"\n  2023.57,981.005 2023.57,1030.97 2033.68,1030.97 2033.68,981.005 2023.57,981.005 \n  \"/>\n<path clip-path=\"url(#clip5602)\" d=\"\nM2086.73 845.944 L2086.73 1030.97 L2096.84 1030.97 L2096.84 845.944 L2086.73 845.944 L2086.73 845.944  Z\n  \" fill=\"#009af9\" fill-rule=\"evenodd\" fill-opacity=\"1\"/>\n<polyline clip-path=\"url(#clip5602)\" style=\"stroke:#000000; stroke-width:4; stroke-opacity:1; fill:none\" points=\"\n  2086.73,845.944 2086.73,1030.97 2096.84,1030.97 2096.84,845.944 2086.73,845.944 \n  \"/>\n<path clip-path=\"url(#clip5602)\" d=\"\nM2124.63 1028.77 L2124.63 1030.97 L2134.73 1030.97 L2134.73 1028.77 L2124.63 1028.77 L2124.63 1028.77  Z\n  \" fill=\"#009af9\" fill-rule=\"evenodd\" fill-opacity=\"1\"/>\n<polyline clip-path=\"url(#clip5602)\" style=\"stroke:#000000; stroke-width:4; stroke-opacity:1; fill:none\" points=\"\n  2124.63,1028.77 2124.63,1030.97 2134.73,1030.97 2134.73,1028.77 2124.63,1028.77 \n  \"/>\n<path clip-path=\"url(#clip5602)\" d=\"\nM2175.15 701 L2175.15 1030.97 L2185.26 1030.97 L2185.26 701 L2175.15 701 L2175.15 701  Z\n  \" fill=\"#009af9\" fill-rule=\"evenodd\" fill-opacity=\"1\"/>\n<polyline clip-path=\"url(#clip5602)\" style=\"stroke:#000000; stroke-width:4; stroke-opacity:1; fill:none\" points=\"\n  2175.15,701 2175.15,1030.97 2185.26,1030.97 2185.26,701 2175.15,701 \n  \"/>\n<path clip-path=\"url(#clip5602)\" d=\"\nM2187.79 638.41 L2187.79 1030.97 L2197.89 1030.97 L2197.89 638.41 L2187.79 638.41 L2187.79 638.41  Z\n  \" fill=\"#009af9\" fill-rule=\"evenodd\" fill-opacity=\"1\"/>\n<polyline clip-path=\"url(#clip5602)\" style=\"stroke:#000000; stroke-width:4; stroke-opacity:1; fill:none\" points=\"\n  2187.79,638.41 2187.79,1030.97 2197.89,1030.97 2197.89,638.41 2187.79,638.41 \n  \"/>\n<path clip-path=\"url(#clip5602)\" d=\"\nM2200.42 1019.99 L2200.42 1030.97 L2210.52 1030.97 L2210.52 1019.99 L2200.42 1019.99 L2200.42 1019.99  Z\n  \" fill=\"#009af9\" fill-rule=\"evenodd\" fill-opacity=\"1\"/>\n<polyline clip-path=\"url(#clip5602)\" style=\"stroke:#000000; stroke-width:4; stroke-opacity:1; fill:none\" points=\"\n  2200.42,1019.99 2200.42,1030.97 2210.52,1030.97 2210.52,1019.99 2200.42,1019.99 \n  \"/>\n<path clip-path=\"url(#clip5602)\" d=\"\nM2238.31 698.804 L2238.31 1030.97 L2248.42 1030.97 L2248.42 698.804 L2238.31 698.804 L2238.31 698.804  Z\n  \" fill=\"#009af9\" fill-rule=\"evenodd\" fill-opacity=\"1\"/>\n<polyline clip-path=\"url(#clip5602)\" style=\"stroke:#000000; stroke-width:4; stroke-opacity:1; fill:none\" points=\"\n  2238.31,698.804 2238.31,1030.97 2248.42,1030.97 2248.42,698.804 2238.31,698.804 \n  \"/>\n<path clip-path=\"url(#clip5602)\" d=\"\nM2250.94 1015.59 L2250.94 1030.97 L2261.05 1030.97 L2261.05 1015.59 L2250.94 1015.59 L2250.94 1015.59  Z\n  \" fill=\"#009af9\" fill-rule=\"evenodd\" fill-opacity=\"1\"/>\n<polyline clip-path=\"url(#clip5602)\" style=\"stroke:#000000; stroke-width:4; stroke-opacity:1; fill:none\" points=\"\n  2250.94,1015.59 2250.94,1030.97 2261.05,1030.97 2261.05,1015.59 2250.94,1015.59 \n  \"/>\n<path clip-path=\"url(#clip5602)\" d=\"\nM2263.58 966.182 L2263.58 1030.97 L2273.68 1030.97 L2273.68 966.182 L2263.58 966.182 L2263.58 966.182  Z\n  \" fill=\"#009af9\" fill-rule=\"evenodd\" fill-opacity=\"1\"/>\n<polyline clip-path=\"url(#clip5602)\" style=\"stroke:#000000; stroke-width:4; stroke-opacity:1; fill:none\" points=\"\n  2263.58,966.182 2263.58,1030.97 2273.68,1030.97 2273.68,966.182 2263.58,966.182 \n  \"/>\n<path clip-path=\"url(#clip5602)\" d=\"\nM2276.21 915.122 L2276.21 1030.97 L2286.31 1030.97 L2286.31 915.122 L2276.21 915.122 L2276.21 915.122  Z\n  \" fill=\"#009af9\" fill-rule=\"evenodd\" fill-opacity=\"1\"/>\n<polyline clip-path=\"url(#clip5602)\" style=\"stroke:#000000; stroke-width:4; stroke-opacity:1; fill:none\" points=\"\n  2276.21,915.122 2276.21,1030.97 2286.31,1030.97 2286.31,915.122 2276.21,915.122 \n  \"/>\n<path clip-path=\"url(#clip5602)\" d=\"\nM2288.84 720.765 L2288.84 1030.97 L2298.95 1030.97 L2298.95 720.765 L2288.84 720.765 L2288.84 720.765  Z\n  \" fill=\"#009af9\" fill-rule=\"evenodd\" fill-opacity=\"1\"/>\n<polyline clip-path=\"url(#clip5602)\" style=\"stroke:#000000; stroke-width:4; stroke-opacity:1; fill:none\" points=\"\n  2288.84,720.765 2288.84,1030.97 2298.95,1030.97 2298.95,720.765 2288.84,720.765 \n  \"/>\n<path clip-path=\"url(#clip5602)\" d=\"\nM2301.47 824.532 L2301.47 1030.97 L2311.58 1030.97 L2311.58 824.532 L2301.47 824.532 L2301.47 824.532  Z\n  \" fill=\"#009af9\" fill-rule=\"evenodd\" fill-opacity=\"1\"/>\n<polyline clip-path=\"url(#clip5602)\" style=\"stroke:#000000; stroke-width:4; stroke-opacity:1; fill:none\" points=\"\n  2301.47,824.532 2301.47,1030.97 2311.58,1030.97 2311.58,824.532 2301.47,824.532 \n  \"/>\n<path clip-path=\"url(#clip5602)\" d=\"\nM2326.73 1011.2 L2326.73 1030.97 L2336.84 1030.97 L2336.84 1011.2 L2326.73 1011.2 L2326.73 1011.2  Z\n  \" fill=\"#009af9\" fill-rule=\"evenodd\" fill-opacity=\"1\"/>\n<polyline clip-path=\"url(#clip5602)\" style=\"stroke:#000000; stroke-width:4; stroke-opacity:1; fill:none\" points=\"\n  2326.73,1011.2 2326.73,1030.97 2336.84,1030.97 2336.84,1011.2 2326.73,1011.2 \n  \"/>\n<path clip-path=\"url(#clip5602)\" d=\"\nM2339.37 1025.48 L2339.37 1030.97 L2349.47 1030.97 L2349.47 1025.48 L2339.37 1025.48 L2339.37 1025.48  Z\n  \" fill=\"#009af9\" fill-rule=\"evenodd\" fill-opacity=\"1\"/>\n<polyline clip-path=\"url(#clip5602)\" style=\"stroke:#000000; stroke-width:4; stroke-opacity:1; fill:none\" points=\"\n  2339.37,1025.48 2339.37,1030.97 2349.47,1030.97 2349.47,1025.48 2339.37,1025.48 \n  \"/>\n<path clip-path=\"url(#clip5602)\" d=\"\nM2377.26 1013.4 L2377.26 1030.97 L2387.37 1030.97 L2387.37 1013.4 L2377.26 1013.4 L2377.26 1013.4  Z\n  \" fill=\"#009af9\" fill-rule=\"evenodd\" fill-opacity=\"1\"/>\n<polyline clip-path=\"url(#clip5602)\" style=\"stroke:#000000; stroke-width:4; stroke-opacity:1; fill:none\" points=\"\n  2377.26,1013.4 2377.26,1030.97 2387.37,1030.97 2387.37,1013.4 2377.26,1013.4 \n  \"/>\n<path clip-path=\"url(#clip5602)\" d=\"\nM2389.89 990.339 L2389.89 1030.97 L2400 1030.97 L2400 990.339 L2389.89 990.339 L2389.89 990.339  Z\n  \" fill=\"#009af9\" fill-rule=\"evenodd\" fill-opacity=\"1\"/>\n<polyline clip-path=\"url(#clip5602)\" style=\"stroke:#000000; stroke-width:4; stroke-opacity:1; fill:none\" points=\"\n  2389.89,990.339 2389.89,1030.97 2400,1030.97 2400,990.339 2389.89,990.339 \n  \"/>\n<path clip-path=\"url(#clip5602)\" d=\"\nM2415.16 1000.22 L2415.16 1030.97 L2425.26 1030.97 L2425.26 1000.22 L2415.16 1000.22 L2415.16 1000.22  Z\n  \" fill=\"#009af9\" fill-rule=\"evenodd\" fill-opacity=\"1\"/>\n<polyline clip-path=\"url(#clip5602)\" style=\"stroke:#000000; stroke-width:4; stroke-opacity:1; fill:none\" points=\"\n  2415.16,1000.22 2415.16,1030.97 2425.26,1030.97 2425.26,1000.22 2415.16,1000.22 \n  \"/>\n<path clip-path=\"url(#clip5602)\" d=\"\nM2427.79 1002.97 L2427.79 1030.97 L2437.89 1030.97 L2437.89 1002.97 L2427.79 1002.97 L2427.79 1002.97  Z\n  \" fill=\"#009af9\" fill-rule=\"evenodd\" fill-opacity=\"1\"/>\n<polyline clip-path=\"url(#clip5602)\" style=\"stroke:#000000; stroke-width:4; stroke-opacity:1; fill:none\" points=\"\n  2427.79,1002.97 2427.79,1030.97 2437.89,1030.97 2437.89,1002.97 2427.79,1002.97 \n  \"/>\n<path clip-path=\"url(#clip5602)\" d=\"\nM2440.42 1000.77 L2440.42 1030.97 L2450.53 1030.97 L2450.53 1000.77 L2440.42 1000.77 L2440.42 1000.77  Z\n  \" fill=\"#009af9\" fill-rule=\"evenodd\" fill-opacity=\"1\"/>\n<polyline clip-path=\"url(#clip5602)\" style=\"stroke:#000000; stroke-width:4; stroke-opacity:1; fill:none\" points=\"\n  2440.42,1000.77 2440.42,1030.97 2450.53,1030.97 2450.53,1000.77 2440.42,1000.77 \n  \"/>\n<path clip-path=\"url(#clip5602)\" d=\"\nM2453.05 1026.03 L2453.05 1030.97 L2463.16 1030.97 L2463.16 1026.03 L2453.05 1026.03 L2453.05 1026.03  Z\n  \" fill=\"#009af9\" fill-rule=\"evenodd\" fill-opacity=\"1\"/>\n<polyline clip-path=\"url(#clip5602)\" style=\"stroke:#000000; stroke-width:4; stroke-opacity:1; fill:none\" points=\"\n  2453.05,1026.03 2453.05,1030.97 2463.16,1030.97 2463.16,1026.03 2453.05,1026.03 \n  \"/>\n<path clip-path=\"url(#clip5602)\" d=\"\nM2478.32 988.143 L2478.32 1030.97 L2488.42 1030.97 L2488.42 988.143 L2478.32 988.143 L2478.32 988.143  Z\n  \" fill=\"#009af9\" fill-rule=\"evenodd\" fill-opacity=\"1\"/>\n<polyline clip-path=\"url(#clip5602)\" style=\"stroke:#000000; stroke-width:4; stroke-opacity:1; fill:none\" points=\"\n  2478.32,988.143 2478.32,1030.97 2488.42,1030.97 2488.42,988.143 2478.32,988.143 \n  \"/>\n<path clip-path=\"url(#clip5602)\" d=\"\nM2490.95 1029.32 L2490.95 1030.97 L2501.05 1030.97 L2501.05 1029.32 L2490.95 1029.32 L2490.95 1029.32  Z\n  \" fill=\"#009af9\" fill-rule=\"evenodd\" fill-opacity=\"1\"/>\n<polyline clip-path=\"url(#clip5602)\" style=\"stroke:#000000; stroke-width:4; stroke-opacity:1; fill:none\" points=\"\n  2490.95,1029.32 2490.95,1030.97 2501.05,1030.97 2501.05,1029.32 2490.95,1029.32 \n  \"/>\n<path clip-path=\"url(#clip5602)\" d=\"\nM2541.47 993.084 L2541.47 1030.97 L2551.58 1030.97 L2551.58 993.084 L2541.47 993.084 L2541.47 993.084  Z\n  \" fill=\"#009af9\" fill-rule=\"evenodd\" fill-opacity=\"1\"/>\n<polyline clip-path=\"url(#clip5602)\" style=\"stroke:#000000; stroke-width:4; stroke-opacity:1; fill:none\" points=\"\n  2541.47,993.084 2541.47,1030.97 2551.58,1030.97 2551.58,993.084 2541.47,993.084 \n  \"/>\n<path clip-path=\"url(#clip5602)\" d=\"\nM2579.37 1029.32 L2579.37 1030.97 L2589.48 1030.97 L2589.48 1029.32 L2579.37 1029.32 L2579.37 1029.32  Z\n  \" fill=\"#009af9\" fill-rule=\"evenodd\" fill-opacity=\"1\"/>\n<polyline clip-path=\"url(#clip5602)\" style=\"stroke:#000000; stroke-width:4; stroke-opacity:1; fill:none\" points=\"\n  2579.37,1029.32 2579.37,1030.97 2589.48,1030.97 2589.48,1029.32 2579.37,1029.32 \n  \"/>\n<path clip-path=\"url(#clip5602)\" d=\"\nM2604.63 1014.5 L2604.63 1030.97 L2614.74 1030.97 L2614.74 1014.5 L2604.63 1014.5 L2604.63 1014.5  Z\n  \" fill=\"#009af9\" fill-rule=\"evenodd\" fill-opacity=\"1\"/>\n<polyline clip-path=\"url(#clip5602)\" style=\"stroke:#000000; stroke-width:4; stroke-opacity:1; fill:none\" points=\"\n  2604.63,1014.5 2604.63,1030.97 2614.74,1030.97 2614.74,1014.5 2604.63,1014.5 \n  \"/>\n<polyline clip-path=\"url(#clip5602)\" style=\"stroke:#008000; stroke-width:16; stroke-opacity:1; fill:none\" stroke-dasharray=\"64, 40\" points=\"\n  -2265.9,869.552 5262.08,869.552 \n  \"/>\n<path clip-path=\"url(#clip5600)\" d=\"\nM2241.61 389.677 L2668.76 389.677 L2668.76 208.237 L2241.61 208.237  Z\n  \" fill=\"#ffffff\" fill-rule=\"evenodd\" fill-opacity=\"1\"/>\n<polyline clip-path=\"url(#clip5600)\" style=\"stroke:#000000; stroke-width:4; stroke-opacity:1; fill:none\" points=\"\n  2241.61,389.677 2668.76,389.677 2668.76,208.237 2241.61,208.237 2241.61,389.677 \n  \"/>\n<path clip-path=\"url(#clip5600)\" d=\"\nM2269.61 292.909 L2437.61 292.909 L2437.61 244.525 L2269.61 244.525 L2269.61 292.909  Z\n  \" fill=\"#009af9\" fill-rule=\"evenodd\" fill-opacity=\"1\"/>\n<polyline clip-path=\"url(#clip5600)\" style=\"stroke:#000000; stroke-width:4; stroke-opacity:1; fill:none\" points=\"\n  2269.61,292.909 2437.61,292.909 2437.61,244.525 2269.61,244.525 2269.61,292.909 \n  \"/>\n<g clip-path=\"url(#clip5600)\">\n<text style=\"fill:#000000; fill-opacity:1; font-family:Arial,Helvetica Neue,Helvetica,sans-serif; font-size:48px; text-anchor:start;\" transform=\"rotate(0, 2465.61, 286.217)\" x=\"2465.61\" y=\"286.217\">Events</text>\n</g>\n<polyline clip-path=\"url(#clip5600)\" style=\"stroke:#008000; stroke-width:16; stroke-opacity:1; fill:none\" stroke-dasharray=\"64, 40\" points=\"\n  2269.61,329.197 2437.61,329.197 \n  \"/>\n<g clip-path=\"url(#clip5600)\">\n<text style=\"fill:#000000; fill-opacity:1; font-family:Arial,Helvetica Neue,Helvetica,sans-serif; font-size:48px; text-anchor:start;\" transform=\"rotate(0, 2465.61, 346.697)\" x=\"2465.61\" y=\"346.697\">Mean</text>\n</g>\n</svg>\n"
          },
          "metadata": {}
        }
      ],
      "execution_count": 134,
      "metadata": {
        "collapsed": true,
        "jupyter": {
          "source_hidden": false,
          "outputs_hidden": false
        },
        "nteract": {
          "transient": {
            "deleting": false
          }
        },
        "execution": {
          "iopub.status.busy": "2020-10-21T09:21:32.104Z",
          "iopub.execute_input": "2020-10-21T09:21:32.121Z",
          "iopub.status.idle": "2020-10-21T09:21:32.200Z"
        }
      }
    },
    {
      "cell_type": "code",
      "source": [
        "# Agrupando los usuarios de acuerdo a la acción realizada\n",
        "x = last(filter(row -> row.action == 3, featureDataFrame))"
      ],
      "outputs": [
        {
          "output_type": "execute_result",
          "execution_count": 192,
          "data": {
            "text/plain": "DataFrameRow. Omitted printing of 6 columns\n│ Row  │ userid │ eventname                    │ component │ action │ target │\n│      │ \u001b[90mInt64\u001b[39m  │ \u001b[90mString\u001b[39m                       │ \u001b[90mString\u001b[39m    │ \u001b[90mAny\u001b[39m    │ \u001b[90mString\u001b[39m │\n├──────┼────────┼──────────────────────────────┼───────────┼────────┼────────┤\n│ 1100 │ 100    │ \\\\core\\\\event\\\\user_loggedin │ core      │ 3      │ user   │",
            "text/html": "<p>DataFrameRow (11 columns)</p><table class=\"data-frame\"><thead><tr><th></th><th>userid</th><th>eventname</th><th>component</th><th>action</th><th>target</th><th>year</th><th>month</th></tr><tr><th></th><th>Int64</th><th>String</th><th>String</th><th>Any</th><th>String</th><th>String</th><th>String</th></tr></thead><tbody><tr><th>1100</th><td>100</td><td>\\\\core\\\\event\\\\user_loggedin</td><td>core</td><td>3</td><td>user</td><td>2020</td><td>10</td></tr></tbody></table>",
            "text/latex": "\\begin{tabular}{r|cccccccc}\n\t& userid & eventname & component & action & target & year & month & \\\\\n\t\\hline\n\t& Int64 & String & String & Any & String & String & String & \\\\\n\t\\hline\n\t1100 & 100 & \\textbackslash{}\\textbackslash{}core\\textbackslash{}\\textbackslash{}event\\textbackslash{}\\textbackslash{}user\\_loggedin & core & 3 & user & 2020 & 10 & $\\dots$ \\\\\n\\end{tabular}\n"
          },
          "metadata": {}
        }
      ],
      "execution_count": 192,
      "metadata": {
        "collapsed": true,
        "jupyter": {
          "source_hidden": false,
          "outputs_hidden": false
        },
        "nteract": {
          "transient": {
            "deleting": false
          }
        },
        "execution": {
          "iopub.status.busy": "2020-10-21T10:38:30.856Z",
          "iopub.execute_input": "2020-10-21T10:38:30.878Z",
          "iopub.status.idle": "2020-10-21T10:38:32.650Z"
        }
      }
    },
    {
      "cell_type": "code",
      "source": [],
      "outputs": [
        {
          "output_type": "execute_result",
          "execution_count": 186,
          "data": {
            "text/plain": "10×3 SubDataFrame\n│ Row │ userid │ month  │ day    │\n│     │ \u001b[90mInt64\u001b[39m  │ \u001b[90mString\u001b[39m │ \u001b[90mString\u001b[39m │\n├─────┼────────┼────────┼────────┤\n│ 1   │ 94     │ 09     │ 23     │\n│ 2   │ 89     │ 09     │ 23     │\n│ 3   │ 89     │ 09     │ 23     │\n│ 4   │ 89     │ 09     │ 23     │\n│ 5   │ 89     │ 09     │ 23     │\n│ 6   │ 89     │ 09     │ 23     │\n│ 7   │ 89     │ 09     │ 23     │\n│ 8   │ 89     │ 09     │ 23     │\n│ 9   │ 4      │ 09     │ 23     │\n│ 10  │ 4      │ 09     │ 23     │",
            "text/html": "<table class=\"data-frame\"><thead><tr><th></th><th>userid</th><th>month</th><th>day</th></tr><tr><th></th><th>Int64</th><th>String</th><th>String</th></tr></thead><tbody><p>10 rows × 3 columns</p><tr><th>1</th><td>94</td><td>09</td><td>23</td></tr><tr><th>2</th><td>89</td><td>09</td><td>23</td></tr><tr><th>3</th><td>89</td><td>09</td><td>23</td></tr><tr><th>4</th><td>89</td><td>09</td><td>23</td></tr><tr><th>5</th><td>89</td><td>09</td><td>23</td></tr><tr><th>6</th><td>89</td><td>09</td><td>23</td></tr><tr><th>7</th><td>89</td><td>09</td><td>23</td></tr><tr><th>8</th><td>89</td><td>09</td><td>23</td></tr><tr><th>9</th><td>4</td><td>09</td><td>23</td></tr><tr><th>10</th><td>4</td><td>09</td><td>23</td></tr></tbody></table>",
            "text/latex": "\\begin{tabular}{r|ccc}\n\t& userid & month & day\\\\\n\t\\hline\n\t& Int64 & String & String\\\\\n\t\\hline\n\t1 & 94 & 09 & 23 \\\\\n\t2 & 89 & 09 & 23 \\\\\n\t3 & 89 & 09 & 23 \\\\\n\t4 & 89 & 09 & 23 \\\\\n\t5 & 89 & 09 & 23 \\\\\n\t6 & 89 & 09 & 23 \\\\\n\t7 & 89 & 09 & 23 \\\\\n\t8 & 89 & 09 & 23 \\\\\n\t9 & 4 & 09 & 23 \\\\\n\t10 & 4 & 09 & 23 \\\\\n\\end{tabular}\n"
          },
          "metadata": {}
        }
      ],
      "execution_count": 186,
      "metadata": {
        "collapsed": true,
        "jupyter": {
          "source_hidden": false,
          "outputs_hidden": false
        },
        "nteract": {
          "transient": {
            "deleting": false
          }
        },
        "execution": {
          "iopub.status.busy": "2020-10-21T10:22:30.651Z",
          "iopub.execute_input": "2020-10-21T10:22:30.668Z",
          "iopub.status.idle": "2020-10-21T10:22:30.706Z"
        }
      }
    },
    {
      "cell_type": "code",
      "source": [],
      "outputs": [],
      "execution_count": null,
      "metadata": {
        "collapsed": true,
        "jupyter": {
          "source_hidden": false,
          "outputs_hidden": false
        },
        "nteract": {
          "transient": {
            "deleting": false
          }
        }
      }
    }
  ],
  "metadata": {
    "kernel_info": {
      "name": "julia-1.4"
    },
    "language_info": {
      "file_extension": ".jl",
      "name": "julia",
      "mimetype": "application/julia",
      "version": "1.4.2"
    },
    "kernelspec": {
      "argv": [
        "/Applications/Julia-1.4.app/Contents/Resources/julia/bin/julia",
        "-i",
        "--startup-file=yes",
        "--color=yes",
        "--project=@.",
        "/Users/johnflorez/.julia/packages/IJulia/tOM8L/src/kernel.jl",
        "{connection_file}"
      ],
      "display_name": "Julia 1.4.2",
      "env": {},
      "interrupt_mode": "signal",
      "language": "julia",
      "name": "julia-1.4"
    },
    "nteract": {
      "version": "0.25.1"
    }
  },
  "nbformat": 4,
  "nbformat_minor": 0
}